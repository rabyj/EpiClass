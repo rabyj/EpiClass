{
 "cells": [
  {
   "cell_type": "code",
   "execution_count": null,
   "metadata": {},
   "outputs": [],
   "source": [
    "\"\"\"Some results from two different groups_second_level_name runs were mixed up, so I need to unmix them.\"\"\""
   ]
  },
  {
   "cell_type": "code",
   "execution_count": 36,
   "metadata": {},
   "outputs": [],
   "source": [
    "from __future__ import annotations\n",
    "\n",
    "import os\n",
    "import shutil\n",
    "import urllib.request\n",
    "from collections import defaultdict\n",
    "from pathlib import Path\n",
    "\n",
    "from comet_ml.api import API"
   ]
  },
  {
   "cell_type": "code",
   "execution_count": null,
   "metadata": {},
   "outputs": [],
   "source": [
    "def find_smallest_md5_files(root_dir: str | Path) -> dict:\n",
    "    \"\"\"\n",
    "    Traverse the directory structure and identify the smallest .md5 files for each split and set pair.\n",
    "\n",
    "    Args:\n",
    "        root_dir (str): The root directory to start the search.\n",
    "\n",
    "    Returns:\n",
    "        dict: A dictionary containing the smallest files for each split and set pair.\n",
    "    \"\"\"\n",
    "    root_path = Path(root_dir)\n",
    "    smallest_files = defaultdict(lambda: defaultdict(lambda: (float(\"inf\"), None)))\n",
    "    for file_path in root_path.rglob(\"*.md5\"):\n",
    "        filename = file_path.name\n",
    "        # Extracting split and set information from the filename\n",
    "        if filename.startswith(\"split\") and (\n",
    "            \"_training_\" in filename or \"_validation_\" in filename\n",
    "        ):\n",
    "            split, set_type = filename.split(\"_\")[:2]\n",
    "            file_size = file_path.stat().st_size\n",
    "            if file_size < smallest_files[split][set_type][0]:\n",
    "                smallest_files[split][set_type] = (file_size, file_path)\n",
    "    return smallest_files"
   ]
  },
  {
   "cell_type": "code",
   "execution_count": 38,
   "metadata": {},
   "outputs": [],
   "source": [
    "root_directory = (\n",
    "    Path.home()\n",
    "    / \"mounts/narval-mount/project-rabyj/epilap/output/logs/hg38_epiatlas-freeze-v2/hg38_100kb_all_none/groups_second_level_name_1l_3000n/10fold/\"\n",
    ")\n",
    "destination_root_directory = Path(root_directory).parent / \"10fold-nomix\""
   ]
  },
  {
   "cell_type": "code",
   "execution_count": null,
   "metadata": {},
   "outputs": [],
   "source": [
    "smallest_md5_files = find_smallest_md5_files(root_directory)\n",
    "print(smallest_md5_files)"
   ]
  },
  {
   "cell_type": "code",
   "execution_count": null,
   "metadata": {},
   "outputs": [],
   "source": [
    "for k, v in smallest_md5_files.items():\n",
    "    print(k)\n",
    "    for k2, v2 in v.items():\n",
    "        print(k2, v2)\n",
    "        print()"
   ]
  },
  {
   "cell_type": "code",
   "execution_count": null,
   "metadata": {},
   "outputs": [],
   "source": [
    "def transfer_files(smallest_files: dict, destination_root: str | Path):\n",
    "    \"\"\"\n",
    "    Transfer the smallest .md5 files to a new directory structure, preserving the original structure.\n",
    "\n",
    "    Args:\n",
    "        smallest_files (dict): Dictionary containing the smallest files for each split and set pair.\n",
    "        destination_root (str): The root directory where the files will be transferred to.\n",
    "    \"\"\"\n",
    "    for split, sets in smallest_files.items():\n",
    "        for _, file_path in sets.values():\n",
    "            if file_path:  # Check if the file path is not None\n",
    "                destination_path = Path(destination_root) / split / file_path.name\n",
    "                os.makedirs(\n",
    "                    destination_path.parent, exist_ok=True\n",
    "                )  # Create directories if they don't exist\n",
    "                shutil.copy(\n",
    "                    file_path, destination_path\n",
    "                )  # Copy the file to the destination\n",
    "                os.unlink(file_path)  # Delete the file from the original location"
   ]
  },
  {
   "cell_type": "code",
   "execution_count": null,
   "metadata": {},
   "outputs": [],
   "source": [
    "transfer_files(smallest_md5_files, destination_root_directory)"
   ]
  },
  {
   "cell_type": "code",
   "execution_count": null,
   "metadata": {},
   "outputs": [],
   "source": [
    "nomix_experiments = [\n",
    "    \"238b03e3bdb548569a988c4b9a9c402c\",\n",
    "    \"9025d53d51ed4851b8e72600c3c3cdaf\",\n",
    "    \"78ca2264ffd040308552adc75c712ff1\",\n",
    "    \"f432bbfbcf8c4a6081cb26ca13ce8789\",\n",
    "    \"09f9f3a95b5a44e9b003f6c1e5c0d0db\",\n",
    "    \"b416e619a95c4f5ba95fa42c64f9ec0f\",\n",
    "    \"d153f94f07874f4d83a93445fab31da5\",\n",
    "    \"0f1372d81f0b4416814b401a2c3b8e31\",\n",
    "    \"f855c7b162284e9287c95ba8baabeef7\",\n",
    "    \"4ab263a806f443dbaec6d809f9f1cbc2\",\n",
    "]"
   ]
  },
  {
   "cell_type": "code",
   "execution_count": null,
   "metadata": {},
   "outputs": [],
   "source": [
    "def copy_files_with_strings(\n",
    "    root_dir: str | Path, destination_root: str | Path, strings_list: list\n",
    "):\n",
    "    \"\"\"\n",
    "    Traverse the directory structure and copy files containing any of the specified strings\n",
    "    to a mirrored directory structure.\n",
    "\n",
    "    Args:\n",
    "        root_dir (str): The root directory to start the search.\n",
    "        destination_root (str): The root directory where the files will be copied to.\n",
    "        strings_list (list): List of strings to look for in the file paths.\n",
    "    \"\"\"\n",
    "    root_path = Path(root_dir)\n",
    "    for file_path in root_path.rglob(\"*\"):\n",
    "        if file_path.is_file() and any(s in str(file_path) for s in strings_list):\n",
    "            relative_path = file_path.relative_to(root_path)\n",
    "            destination_path = Path(destination_root) / relative_path\n",
    "            os.makedirs(\n",
    "                destination_path.parent, exist_ok=True\n",
    "            )  # Create directories if they don't exist\n",
    "            # shutil.copy(file_path, destination_path) # Copy the file to the destination\n",
    "            print(r\"\\mv {} {}\".format(file_path, destination_path))"
   ]
  },
  {
   "cell_type": "code",
   "execution_count": null,
   "metadata": {},
   "outputs": [],
   "source": [
    "copy_files_with_strings(root_directory, destination_root_directory, nomix_experiments)"
   ]
  },
  {
   "cell_type": "code",
   "execution_count": 10,
   "metadata": {},
   "outputs": [],
   "source": [
    "api = API()\n",
    "\n",
    "correct_list = []\n",
    "for experiment in api.get(\"rabyj/epilap\"):\n",
    "    if \"groups_second_level_name\" in experiment.get_tags():\n",
    "        correct_list.append(experiment.key)"
   ]
  },
  {
   "cell_type": "code",
   "execution_count": 40,
   "metadata": {},
   "outputs": [],
   "source": [
    "for experiment in [api.get(f\"rabyj/epilap/{key}\") for key in correct_list]:\n",
    "    # print(experiment.get_metadata())\n",
    "    # print(experiment.get_others_summary())\n",
    "    wanted_experiment = True\n",
    "    for param_dict in experiment.get_parameters_summary():\n",
    "        if \"mixed.mixed\" in param_dict.values() and \"mapping\" in param_dict[\"name\"]:\n",
    "            wanted_experiment = False\n",
    "\n",
    "    if wanted_experiment:\n",
    "        exp_name = experiment.get_name()\n",
    "        split_name = exp_name.split(\"-\")[-1]\n",
    "        for asset_dict in experiment.get_asset_list(asset_type=\"all\"):\n",
    "            filename = asset_dict[\"fileName\"]\n",
    "            if (\n",
    "                filename.endswith(\".csv\")\n",
    "                or filename.endswith(\".png\")\n",
    "                or filename.endswith(\".tsv\")\n",
    "            ):\n",
    "                url = asset_dict[\"link\"]\n",
    "                local_filename, _ = urllib.request.urlretrieve(url, filename)\n",
    "                new_path = destination_root_directory / split_name / filename\n",
    "                shutil.move(local_filename, new_path)"
   ]
  }
 ],
 "metadata": {
  "kernelspec": {
   "display_name": "epiclass",
   "language": "python",
   "name": "python3"
  },
  "language_info": {
   "codemirror_mode": {
    "name": "ipython",
    "version": 3
   },
   "file_extension": ".py",
   "mimetype": "text/x-python",
   "name": "python",
   "nbconvert_exporter": "python",
   "pygments_lexer": "ipython3",
   "version": "3.8.10"
  },
  "orig_nbformat": 4
 },
 "nbformat": 4,
 "nbformat_minor": 2
}

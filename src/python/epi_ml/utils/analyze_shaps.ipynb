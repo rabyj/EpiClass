{
 "cells": [
  {
   "cell_type": "code",
   "execution_count": null,
   "metadata": {},
   "outputs": [],
   "source": [
    "\"\"\"Initial analysis of shap values behavior.\"\"\"\n",
    "# pylint: disable=redefined-outer-name, expression-not-assigned, import-error, not-callable, pointless-statement\n",
    "from pathlib import Path\n",
    "\n",
    "import numpy as np\n",
    "import plotly.express as plt\n",
    "import plotly.io as pio\n",
    "import shap\n",
    "from IPython.display import display\n",
    "\n",
    "pio.renderers.default = \"notebook\"\n",
    "\n",
    "from epi_ml.core import metadata\n",
    "from epi_ml.core.analysis import SHAP_Handler\n",
    "from epi_ml.core.model_pytorch import LightningDenseClassifier"
   ]
  },
  {
   "cell_type": "code",
   "execution_count": null,
   "metadata": {},
   "outputs": [],
   "source": [
    "%matplotlib inline"
   ]
  },
  {
   "cell_type": "code",
   "execution_count": null,
   "metadata": {
    "tags": []
   },
   "outputs": [],
   "source": [
    "home = Path(\"/home/local/USHERBROOKE/rabj2301/Projects\")\n",
    "input_dir = home / \"epilap/input\"\n",
    "metadata_path = input_dir / \"metadata/merge_EpiAtlas_allmetadata-v11-mod.json\"\n",
    "\n",
    "output = home / \"epilap/output\"\n",
    "logdir = output / \"logs/hg38_2022-epiatlas/shap\"\n",
    "model_dir = output / \"models/split0\"\n",
    "\n",
    "my_meta = metadata.Metadata(metadata_path)\n",
    "target_mapping = LightningDenseClassifier.restore_model(model_dir).mapping"
   ]
  },
  {
   "cell_type": "code",
   "execution_count": null,
   "metadata": {},
   "outputs": [],
   "source": [
    "my_meta.remove_category_subsets(\"track_type\", [\"raw\", \"fc\", \"Unique_raw\"])\n",
    "# len(my_meta)\n",
    "my_meta.remove_small_classes(10, \"assay\")\n",
    "my_meta.display_labels(\"assay\")\n",
    "my_meta.display_labels(\"track_type\")"
   ]
  },
  {
   "cell_type": "code",
   "execution_count": null,
   "metadata": {},
   "outputs": [],
   "source": [
    "display(target_mapping)\n",
    "classes = target_mapping.values()\n",
    "print(classes, list(classes))"
   ]
  },
  {
   "cell_type": "code",
   "execution_count": null,
   "metadata": {},
   "outputs": [],
   "source": [
    "eval_shaps_1 = SHAP_Handler.load_from_pickle(\n",
    "    path=str(logdir / \"shap_values_background_effect_test_2022-12-12_18-54-39.pickle\")\n",
    ")\n",
    "eval_shaps_2 = SHAP_Handler.load_from_pickle(\n",
    "    path=str(logdir / \"shap_values_background_effect_test_2022-12-12_18-57-56.pickle\")\n",
    ")"
   ]
  },
  {
   "cell_type": "code",
   "execution_count": null,
   "metadata": {},
   "outputs": [],
   "source": [
    "eval_shaps_1.keys()"
   ]
  },
  {
   "cell_type": "code",
   "execution_count": null,
   "metadata": {},
   "outputs": [],
   "source": [
    "labels = [my_meta[md5][\"assay\"] for md5 in eval_shaps_1[\"ids\"]]\n",
    "print(labels[0:-1:5])"
   ]
  },
  {
   "cell_type": "code",
   "execution_count": null,
   "metadata": {},
   "outputs": [],
   "source": [
    "eval_shaps_1[\"shap\"][0].shape"
   ]
  },
  {
   "cell_type": "code",
   "execution_count": null,
   "metadata": {},
   "outputs": [],
   "source": [
    "shap.summary_plot(eval_shaps_1[\"shap\"], max_display=300, class_names=list(classes))"
   ]
  },
  {
   "cell_type": "code",
   "execution_count": null,
   "metadata": {
    "tags": []
   },
   "outputs": [],
   "source": [
    "shap.summary_plot(eval_shaps_2[\"shap\"], max_display=300, class_names=list(classes))"
   ]
  },
  {
   "cell_type": "code",
   "execution_count": null,
   "metadata": {},
   "outputs": [],
   "source": [
    "def average_impact(shap_values_matrices):\n",
    "    \"\"\"Return average absolute shap values.\"\"\"\n",
    "    shap_abs = np.zeros(shap_values_matrices[0].shape)\n",
    "    for matrix in shap_values_matrices:\n",
    "        shap_abs += np.absolute(matrix)\n",
    "    shap_abs /= len(shap_values_matrices)\n",
    "    return shap_abs"
   ]
  },
  {
   "cell_type": "code",
   "execution_count": null,
   "metadata": {},
   "outputs": [],
   "source": [
    "def n_most_important_features(sample_shaps, n):\n",
    "    \"\"\"Return features with highest shap values.\"\"\"\n",
    "    avg_shaps = sample_shaps.sum(axis=0)\n",
    "    return np.flip(np.argsort(avg_shaps))[:n]"
   ]
  },
  {
   "cell_type": "code",
   "execution_count": null,
   "metadata": {},
   "outputs": [],
   "source": [
    "total_avg_1 = average_impact(eval_shaps_1[\"shap\"])\n",
    "total_avg_2 = average_impact(eval_shaps_2[\"shap\"])\n",
    "\n",
    "n = 1000\n",
    "most_important_features = set(n_most_important_features(total_avg_1, n)) & set(\n",
    "    n_most_important_features(total_avg_2, n)\n",
    ")\n",
    "print(len(most_important_features))"
   ]
  },
  {
   "cell_type": "code",
   "execution_count": null,
   "metadata": {},
   "outputs": [],
   "source": [
    "print(classes)\n",
    "for i, (matrix1, matrix2) in enumerate(zip(eval_shaps_1[\"shap\"], eval_shaps_2[\"shap\"])):\n",
    "    most_important_class_features = set(n_most_important_features(matrix1, 100)) & set(\n",
    "        n_most_important_features(matrix2, 100)\n",
    "    )\n",
    "    print(i, len(most_important_class_features))"
   ]
  },
  {
   "cell_type": "code",
   "execution_count": null,
   "metadata": {},
   "outputs": [],
   "source": [
    "def box_plot(avg_impact):\n",
    "    \"\"\"Print a box plot\"\"\"\n",
    "    plt.box(y=avg_impact.sum(axis=0)).show()"
   ]
  },
  {
   "cell_type": "code",
   "execution_count": null,
   "metadata": {},
   "outputs": [],
   "source": [
    "box_plot(total_avg_1)\n",
    "box_plot(total_avg_2)"
   ]
  },
  {
   "cell_type": "code",
   "execution_count": null,
   "metadata": {},
   "outputs": [],
   "source": []
  }
 ],
 "metadata": {
  "kernelspec": {
   "display_name": "Python 3",
   "language": "python",
   "name": "python3"
  },
  "language_info": {
   "codemirror_mode": {
    "name": "ipython",
    "version": 3
   },
   "file_extension": ".py",
   "mimetype": "text/x-python",
   "name": "python",
   "nbconvert_exporter": "python",
   "pygments_lexer": "ipython3",
   "version": "3.8.10"
  },
  "orig_nbformat": 4,
  "vscode": {
   "interpreter": {
    "hash": "31f2aee4e71d21fbe5cf8b01ff0e069b9275f58929596ceb00d14d90e3e16cd6"
   }
  }
 },
 "nbformat": 4,
 "nbformat_minor": 2
}

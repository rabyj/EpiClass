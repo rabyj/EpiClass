{
 "cells": [
  {
   "cell_type": "code",
   "execution_count": null,
   "id": "205540cf-84f1-475b-a22c-a8bf67a5d79b",
   "metadata": {},
   "outputs": [],
   "source": [
    "\"\"\"Notebook to analyze the values in an HDF5 file.\"\"\"\n",
    "# %pip list | grep \"ka\"\n",
    "# pylint: disable=redefined-outer-name, expression-not-assigned, import-error, not-callable, pointless-statement, no-value-for-parameter, undefined-variable, unused-argument"
   ]
  },
  {
   "cell_type": "code",
   "execution_count": null,
   "id": "3521d1af-84f2-46e7-9219-985d8a01a78e",
   "metadata": {},
   "outputs": [],
   "source": [
    "import copy\n",
    "from pathlib import Path\n",
    "from typing import Dict, List, Tuple\n",
    "\n",
    "import h5py\n",
    "import numpy as np\n",
    "import pandas as pd\n",
    "import plotly.express as px  # type: ignore\n",
    "import plotly.graph_objects as go  # type: ignore\n",
    "\n",
    "from epi_ml.core.data_source import EpiDataSource\n",
    "from epi_ml.core.epiatlas_treatment import ACCEPTED_TRACKS\n",
    "from epi_ml.core.hdf5_loader import Hdf5Loader\n",
    "from epi_ml.core.metadata import Metadata\n",
    "\n",
    "ASSAY = \"assay_epiclass\"\n",
    "TRACK_TYPE = \"track_type\""
   ]
  },
  {
   "cell_type": "code",
   "execution_count": null,
   "id": "96127d0d-e528-4524-8a84-12792434cb53",
   "metadata": {},
   "outputs": [],
   "source": [
    "%matplotlib inline"
   ]
  },
  {
   "cell_type": "code",
   "execution_count": null,
   "id": "47618fb8-c3e1-40a5-8390-b01b59431ccb",
   "metadata": {},
   "outputs": [],
   "source": [
    "# base = Path(\"/lustre06/project/6007017/rabyj/epilap/input/\")\n",
    "base = Path.home() / \"Projects/epilap\"\n",
    "input_base = base / \"input\"\n",
    "output_base = base / \"output\"\n",
    "\n",
    "chromsize_path = input_base / \"chromsizes\" / \"hg38.noy.chrom.sizes\"\n",
    "metadata_path = input_base / \"metadata/hg38_2023_epiatlas_dfreeze_formatted_JR.json\"\n",
    "\n",
    "base_logdir = output_base / \"logs\"\n",
    "logdir = base_logdir / \"hg38_2022-epiatlas/hdf5_stats\""
   ]
  },
  {
   "cell_type": "code",
   "execution_count": null,
   "id": "3e275a45",
   "metadata": {},
   "outputs": [],
   "source": [
    "# hdf5_list_path = base / \"hdf5_list\" / \"100kb_all_none.list\"\n",
    "hdf5_list_path = (\n",
    "    input_base\n",
    "    / \"hdf5_list\"\n",
    "    / \"hg38_2023-01-epiatlas-freeze\"\n",
    "    / \"100kb_all_none_0blklst.list\"\n",
    ")"
   ]
  },
  {
   "cell_type": "code",
   "execution_count": null,
   "id": "a2716f71",
   "metadata": {},
   "outputs": [],
   "source": [
    "datasource = EpiDataSource(hdf5_list_path, chromsize_path, metadata_path)\n",
    "my_meta = Metadata(datasource.metadata_file)\n",
    "my_meta.display_labels(\"track_type\")\n",
    "\n",
    "my_meta.select_category_subsets(\"track_type\", ACCEPTED_TRACKS)\n",
    "my_meta.display_labels(\"track_type\")"
   ]
  },
  {
   "cell_type": "code",
   "execution_count": 25,
   "id": "db02170a",
   "metadata": {},
   "outputs": [],
   "source": [
    "with open(hdf5_list_path, \"r\", encoding=\"utf8\") as f:\n",
    "    paths = f.read().splitlines()"
   ]
  },
  {
   "cell_type": "code",
   "execution_count": null,
   "id": "9252f51c",
   "metadata": {},
   "outputs": [],
   "source": [
    "shap_md5s_path = input_base / \"hdf5_list\" / \"md5_shap_assay_explain.list\"\n",
    "with open(shap_md5s_path, \"r\", encoding=\"utf8\") as f:\n",
    "    shap_md5s = set(f.read().splitlines())"
   ]
  },
  {
   "cell_type": "code",
   "execution_count": null,
   "id": "4d07f415",
   "metadata": {},
   "outputs": [],
   "source": [
    "# fmt:off\n",
    "regions = sorted(\n",
    "   set([29956, 28774, 28775, 16809, 26345, 15821, 15888, 7249, 5651, 15219, 28889, 11325, 8574]) | set([29956, 28774, 28775, 16809, 26345, 29551, 15888, 5651, 15219, 28889, 11325, 8574])\n",
    ")\n",
    "# fmt:on"
   ]
  },
  {
   "cell_type": "code",
   "execution_count": null,
   "id": "4c7a0fa7",
   "metadata": {},
   "outputs": [],
   "source": [
    "from epi_ml.utils.bed_utils import bins_to_bed_ranges\n",
    "\n",
    "resolution = 1000 * 100\n",
    "regions_bed = bins_to_bed_ranges(regions, datasource.load_chrom_sizes(), resolution)\n",
    "regions_dict = {regions[i]: region_bed for i, region_bed in enumerate(regions_bed)}"
   ]
  },
  {
   "cell_type": "code",
   "execution_count": null,
   "id": "cb16c00c",
   "metadata": {},
   "outputs": [],
   "source": [
    "regions_dict"
   ]
  },
  {
   "cell_type": "code",
   "execution_count": null,
   "id": "d5f6f173",
   "metadata": {},
   "outputs": [],
   "source": [
    "def analyze_feature_vals(\n",
    "    regions_dict: Dict[int, Tuple],\n",
    "    md5s: List[str],\n",
    "    hdf5_list: Path,\n",
    "    logdir: Path,\n",
    "    name: str,\n",
    "):\n",
    "    \"\"\"\n",
    "    Generate and save a violin plot of provided feature values for the provided md5s, with some md5s highlighted.\n",
    "\n",
    "    This function takes as input a list of md5s and a dictionary of regions, and generates a violin plot\n",
    "    of the feature values for these md5s. It also highlights specific md5s by adding lines+markers for them.\n",
    "    The function saves the plot as an HTML file and a PNG file in the provided log directory.\n",
    "\n",
    "    Args:\n",
    "        regions_dict (Dict[int, Tuple]): A dictionary mapping region indices to their respective genomic coordinates.\n",
    "        md5s (List[str]): A list of md5s to analyze.\n",
    "        hdf5_list (Path): Path to the list of hdf5 files to be used.\n",
    "        logdir (Path): Directory where the resulting plot should be saved.\n",
    "        name (str): Name used to save the resulting plot (will be part of the filename).\n",
    "    \"\"\"\n",
    "    hdf5_loader = Hdf5Loader(chrom_file=chromsize_path, normalization=True)\n",
    "    hdf5_loader.load_hdf5s(hdf5_list, md5s, strict=True)\n",
    "    N = len(hdf5_loader.signals)\n",
    "\n",
    "    nb_highlight = 3\n",
    "    highlight_md5s = list(set(md5s) & shap_md5s)[0:nb_highlight]\n",
    "\n",
    "    traces = []\n",
    "    highlight_values = {highlight_md5: [] for highlight_md5 in highlight_md5s}\n",
    "    for region, region_bed in regions_dict.items():\n",
    "        values = [signal[region] for signal in hdf5_loader.signals.values()]\n",
    "        region_str = f\"{region_bed[0]}:{region_bed[1]}-{region_bed[2]}\"\n",
    "\n",
    "        trace = go.Violin(\n",
    "            y=values,\n",
    "            name=region_str,\n",
    "            points=\"all\",\n",
    "            box_visible=True,\n",
    "            meanline_visible=True,\n",
    "        )\n",
    "        traces.append(trace)\n",
    "\n",
    "        for highlight_md5 in highlight_md5s:\n",
    "            highlight_value = hdf5_loader.signals[highlight_md5][region]\n",
    "            highlight_values[highlight_md5].append((region_str, highlight_value))\n",
    "\n",
    "    for (highlight_md5, highlight_value), marker_format in zip(\n",
    "        highlight_values.items(),\n",
    "        [[\"cross\", \"black\"], [\"circle\", \"blue\"], [\"diamond\", \"red\"]],\n",
    "    ):\n",
    "        x, y = zip(*highlight_value)\n",
    "        symbol, color = marker_format\n",
    "        highlight_trace = go.Scatter(\n",
    "            x=x,\n",
    "            y=y,\n",
    "            mode=\"lines+markers\",\n",
    "            name=f\"{highlight_md5}\",\n",
    "            marker={\"size\": 6, \"symbol\": symbol, \"color\": color},\n",
    "        )\n",
    "        traces.append(highlight_trace)\n",
    "\n",
    "    # Create the layout\n",
    "    layout = go.Layout(\n",
    "        title=f\"Feature values distributions for {N} {name} samples (0blklst)\",\n",
    "        yaxis={\"title\": \"z-score\"},\n",
    "        xaxis={\"title\": \"Region\"},\n",
    "        showlegend=False,\n",
    "    )\n",
    "\n",
    "    # Create the figure with the data and layout\n",
    "    fig = go.Figure(data=traces, layout=layout)\n",
    "    fig.write_html(logdir / f\"feature_values_{name}.html\")\n",
    "\n",
    "    width = 1200\n",
    "    fig.write_image(\n",
    "        logdir / f\"feature_values_{name}.png\", width=width, height=width * 3 / 4\n",
    "    )\n",
    "    # fig.show()"
   ]
  },
  {
   "cell_type": "code",
   "execution_count": null,
   "id": "78e7b687",
   "metadata": {},
   "outputs": [],
   "source": []
  },
  {
   "cell_type": "code",
   "execution_count": null,
   "id": "70602acd",
   "metadata": {},
   "outputs": [],
   "source": [
    "my_meta.remove_missing_labels(\"harmonized_donor_sex\")"
   ]
  },
  {
   "cell_type": "code",
   "execution_count": null,
   "id": "b69d1896",
   "metadata": {},
   "outputs": [],
   "source": [
    "for label in [\"male\", \"female\"]:\n",
    "    assay = \"h3k27ac\"\n",
    "    meta = copy.deepcopy(my_meta)\n",
    "    meta.select_category_subsets(\"harmonized_donor_sex\", [label])\n",
    "    meta.select_category_subsets(\"assay_epiclass\", [assay])\n",
    "    md5s = list(meta.md5s)\n",
    "    print(f\"Number of {label} samples: {len(md5s)}\")\n",
    "    analyze_feature_vals(\n",
    "        regions_dict, md5s, hdf5_list_path, logdir, name=f\"{label}-{assay}\"\n",
    "    )"
   ]
  },
  {
   "cell_type": "code",
   "execution_count": null,
   "id": "43ef0047",
   "metadata": {},
   "outputs": [],
   "source": []
  },
  {
   "cell_type": "code",
   "execution_count": null,
   "id": "229fb033",
   "metadata": {},
   "outputs": [],
   "source": [
    "def plot_single_file(md5, zscore: bool = True):\n",
    "    \"\"\"Produce a violin plot (save to html) of all feature values for a single sample.\"\"\"\n",
    "    if zscore:\n",
    "        mode = \"z-scores\"\n",
    "    else:\n",
    "        mode = \"raw values\"\n",
    "\n",
    "    hdf5_loader = Hdf5Loader(chrom_file=chromsize_path, normalization=zscore)\n",
    "    signals = hdf5_loader.load_hdf5s(hdf5_list_path, [md5], strict=True).signals\n",
    "\n",
    "    fig = px.violin(\n",
    "        data_frame=list(signals.values())[0],\n",
    "        box=True,\n",
    "        points=\"all\",\n",
    "        title=f\"Violin plot for {md5} {mode}\",\n",
    "    )\n",
    "    fig.write_html(f\"{md5}-{mode}.html\")\n",
    "    fig.show()"
   ]
  },
  {
   "cell_type": "code",
   "execution_count": null,
   "id": "cbfc14d8",
   "metadata": {},
   "outputs": [],
   "source": [
    "# md5 = \"402a78740e46888266209a5b7c3ece4c\"\n",
    "# plot_single_file(md5, zscore=True)"
   ]
  },
  {
   "cell_type": "code",
   "execution_count": null,
   "id": "e5a0a24b",
   "metadata": {},
   "outputs": [],
   "source": []
  },
  {
   "cell_type": "code",
   "execution_count": null,
   "id": "fbcaca3f-fa5a-43a3-a040-ee742986ce39",
   "metadata": {},
   "outputs": [],
   "source": [
    "# N_SAMPLES = 100\n",
    "# md5s = set(list(Hdf5Loader.read_list(hdf5_list_path).keys())[0:N_SAMPLES])\n",
    "md5s = set(list(Hdf5Loader.read_list(hdf5_list_path).keys()))\n",
    "# for md5 in md5s:\n",
    "#     if md5 not in my_meta:\n",
    "#         raise IndexError(f\"Missing metadata for {md5}\")\n",
    "\n",
    "df_md5_metadata = pd.DataFrame([my_meta[md5] for md5 in md5s if md5 in my_meta])\n",
    "df_md5_metadata.set_index(\"md5sum\", inplace=True)"
   ]
  },
  {
   "cell_type": "code",
   "execution_count": null,
   "id": "1b264cf2",
   "metadata": {},
   "outputs": [],
   "source": [
    "print(f\"{df_md5_metadata.shape[0]} files to analyze.\")\n",
    "print(df_md5_metadata[TRACK_TYPE].value_counts())\n",
    "print(df_md5_metadata[ASSAY].value_counts())"
   ]
  },
  {
   "cell_type": "code",
   "execution_count": null,
   "id": "b1e2a28f",
   "metadata": {},
   "outputs": [],
   "source": [
    "traces = []\n",
    "for filepath in paths:\n",
    "    with h5py.File(filepath, \"r+\") as f:\n",
    "        for _, group in f.items():\n",
    "            for dataset_name, dataset in list(group.items()):\n",
    "                # Extract the values from the dataset\n",
    "                values = dataset[:]\n",
    "\n",
    "                # Create a violin trace\n",
    "                trace = go.Violin(y=values, name=dataset_name)\n",
    "\n",
    "                # Add the trace to the data list\n",
    "                traces.append(trace)\n",
    "\n",
    "                # # Cast to float32 and compare max diff\n",
    "                # casted_dataset = dataset.astype(np.float32)[:]\n",
    "                # diff = np.abs(casted_dataset - values)\n",
    "                # max_diff = np.max(diff)\n",
    "                # # print(f\"Max diff when casting: {max_diff}\")\n",
    "                # if max_diff > 1e-4:\n",
    "                #     print(\"Induced casting error\")\n",
    "                #     print(f\"Max value: {np.max(values)}\")\n",
    "                #     print(f\"Filepath: {filepath}\")\n",
    "                #     print(f\"Dataset name: {dataset_name}\")\n",
    "\n",
    "    # Create the layout\n",
    "    layout = go.Layout(title=\"Violin Plots\", yaxis={\"title\": \"Values\"})\n",
    "\n",
    "    # Create the figure with the data and layout\n",
    "    fig = go.Figure(data=traces, layout=layout)\n",
    "\n",
    "    # Show the violin plot\n",
    "    fig.show()\n",
    "    traces = []"
   ]
  },
  {
   "cell_type": "code",
   "execution_count": null,
   "id": "087f67fa-023c-45a8-b454-99c15d0470b4",
   "metadata": {},
   "outputs": [],
   "source": [
    "# Assuming you have a list of arrays\n",
    "hdf5_loader = Hdf5Loader(chrom_file=chromsize_path, normalization=True)\n",
    "signals = hdf5_loader.load_hdf5s(hdf5_list_path, md5s, strict=True).signals\n",
    "df = pd.DataFrame.from_dict(signals, orient=\"index\")\n",
    "# df.head()"
   ]
  },
  {
   "cell_type": "code",
   "execution_count": null,
   "id": "10198ec2",
   "metadata": {},
   "outputs": [],
   "source": [
    "# Descriptive statistics\n",
    "percentiles = [0.01] + list(np.arange(0.05, 1, 0.05)) + [0.99] + [0.999]\n",
    "stats_df = df.apply(pd.DataFrame.describe, percentiles=percentiles, axis=1)  # type: ignore\n",
    "metrics = set(stats_df.columns.values)"
   ]
  },
  {
   "cell_type": "code",
   "execution_count": null,
   "id": "919e408f",
   "metadata": {},
   "outputs": [],
   "source": [
    "# print(sorted(metrics))"
   ]
  },
  {
   "cell_type": "code",
   "execution_count": null,
   "id": "173d3b16",
   "metadata": {},
   "outputs": [],
   "source": [
    "stats_df = stats_df.join(df_md5_metadata)"
   ]
  },
  {
   "cell_type": "code",
   "execution_count": null,
   "id": "f820ef7d-b8fa-417a-bbc2-a03b166474b7",
   "metadata": {},
   "outputs": [],
   "source": [
    "# Create violin plots, one plot for each metric, and a violin for each assay (per plot)\n",
    "allowed_metrics = metrics - set([\"count\", \"mean\", \"std\"])\n",
    "category_orders = {ASSAY: sorted(my_meta.label_counter(ASSAY, verbose=False).keys())}\n",
    "for column in stats_df:\n",
    "    if column not in allowed_metrics:\n",
    "        continue\n",
    "    fig = px.violin(\n",
    "        data_frame=stats_df,\n",
    "        x=column,\n",
    "        y=ASSAY,\n",
    "        box=True,\n",
    "        points=\"all\",\n",
    "        title=f\"Violin plot for {column}\",\n",
    "        color=ASSAY,\n",
    "        category_orders=category_orders,\n",
    "        height=800,\n",
    "        hover_data={\"md5sum\": (df.index)},\n",
    "    )\n",
    "    fig.write_image(logdir / f\"100kb_all_none_hdf5_{column}.png\")\n",
    "    fig.write_html(logdir / f\"100kb_all_none_hdf5_{column}.html\")"
   ]
  },
  {
   "cell_type": "code",
   "execution_count": null,
   "id": "9424e60c",
   "metadata": {},
   "outputs": [],
   "source": [
    "# do same plots but only keep \"raw\" files.\n",
    "df_filter = stats_df[\"track_type\"].isin([\"fc\", \"pval\"])\n",
    "\n",
    "display(stats_df[df_filter].head(10))\n",
    "display(stats_df[~df_filter].head(10))"
   ]
  }
 ],
 "metadata": {
  "kernelspec": {
   "display_name": "epiclass",
   "language": "python",
   "name": "python3"
  },
  "language_info": {
   "codemirror_mode": {
    "name": "ipython",
    "version": 3
   },
   "file_extension": ".py",
   "mimetype": "text/x-python",
   "name": "python",
   "nbconvert_exporter": "python",
   "pygments_lexer": "ipython3",
   "version": "3.8.10"
  },
  "toc-autonumbering": false,
  "toc-showcode": false,
  "toc-showmarkdowntxt": false
 },
 "nbformat": 4,
 "nbformat_minor": 5
}

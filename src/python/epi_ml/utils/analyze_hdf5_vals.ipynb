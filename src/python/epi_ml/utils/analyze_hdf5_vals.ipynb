{
 "cells": [
  {
   "cell_type": "code",
   "execution_count": 3,
   "id": "205540cf-84f1-475b-a22c-a8bf67a5d79b",
   "metadata": {},
   "outputs": [
    {
     "data": {
      "text/plain": [
       "'Notebook to analyze the values in an HDF5 file.'"
      ]
     },
     "execution_count": 3,
     "metadata": {},
     "output_type": "execute_result"
    }
   ],
   "source": [
    "\"\"\"Notebook to analyze the values in an HDF5 file.\"\"\"\n",
    "# %pip list | grep \"ka\"\n",
    "# pylint: disable=redefined-outer-name, expression-not-assigned, import-error, not-callable, pointless-statement, no-value-for-parameter, undefined-variable, unused-argument"
   ]
  },
  {
   "cell_type": "code",
   "execution_count": 4,
   "id": "3521d1af-84f2-46e7-9219-985d8a01a78e",
   "metadata": {},
   "outputs": [],
   "source": [
    "from pathlib import Path\n",
    "\n",
    "import numpy as np\n",
    "import pandas as pd\n",
    "import plotly.express as px\n",
    "\n",
    "from epi_ml.core.data_source import EpiDataSource\n",
    "from epi_ml.core.hdf5_loader import Hdf5Loader\n",
    "from epi_ml.core.metadata import Metadata\n",
    "\n",
    "ASSAY = \"assay_epiclass\""
   ]
  },
  {
   "cell_type": "code",
   "execution_count": 5,
   "id": "96127d0d-e528-4524-8a84-12792434cb53",
   "metadata": {},
   "outputs": [],
   "source": [
    "%matplotlib inline"
   ]
  },
  {
   "cell_type": "code",
   "execution_count": 6,
   "id": "47618fb8-c3e1-40a5-8390-b01b59431ccb",
   "metadata": {},
   "outputs": [],
   "source": [
    "# base = Path(\"/lustre06/project/6007017/rabyj/epilap/input/\")\n",
    "base = Path.home() / \"Projects/epilap/input\"\n",
    "\n",
    "hdf5_list_path = base / \"hdf5_list\" / \"100kb_all_none.list\"\n",
    "chromsize_path = base / \"chromsizes\" / \"hg38.noy.chrom.sizes\"\n",
    "metadata_path = (\n",
    "    base / \"metadata/hg38_2023_epiatlas_dfreeze_plus_encode_noncore_formatted_JR.json\"\n",
    ")\n",
    "\n",
    "base_logdir = Path.home() / \"Projects/epilap/output/logs\"\n",
    "logdir = base_logdir / \"hg38_2022-epiatlas/hdf5_stats\""
   ]
  },
  {
   "cell_type": "code",
   "execution_count": 7,
   "id": "78e7b687",
   "metadata": {},
   "outputs": [],
   "source": [
    "N_SAMPLES = 100"
   ]
  },
  {
   "cell_type": "code",
   "execution_count": 8,
   "id": "8ad57159-e508-44dc-8870-230603aa14ab",
   "metadata": {},
   "outputs": [],
   "source": [
    "datasource = EpiDataSource(hdf5_list_path, chromsize_path, metadata_path)\n",
    "my_meta = Metadata(datasource.metadata_file)\n",
    "hdf5_loader = Hdf5Loader(chrom_file=chromsize_path, normalization=True)"
   ]
  },
  {
   "cell_type": "code",
   "execution_count": 9,
   "id": "6ef985a6-1b67-4b5d-956f-2a801ab80e87",
   "metadata": {},
   "outputs": [],
   "source": [
    "my_meta.remove_missing_labels(\"harmonized_donor_sex\")"
   ]
  },
  {
   "cell_type": "code",
   "execution_count": 10,
   "id": "fbcaca3f-fa5a-43a3-a040-ee742986ce39",
   "metadata": {},
   "outputs": [],
   "source": [
    "md5s = list(Hdf5Loader.read_list(hdf5_list_path).keys())[0:N_SAMPLES]\n",
    "md5_metadata = pd.DataFrame([my_meta[md5] for md5 in md5s if md5 in my_meta])\n",
    "md5_metadata.set_index(\"md5sum\", inplace=True)\n",
    "# md5_metadata.head()"
   ]
  },
  {
   "cell_type": "code",
   "execution_count": 11,
   "id": "02cc5006",
   "metadata": {},
   "outputs": [],
   "source": [
    "signals = hdf5_loader.load_hdf5s(hdf5_list_path, md5s, strict=True).signals"
   ]
  },
  {
   "cell_type": "code",
   "execution_count": 12,
   "id": "087f67fa-023c-45a8-b454-99c15d0470b4",
   "metadata": {},
   "outputs": [],
   "source": [
    "# Assuming you have a list of arrays\n",
    "df = pd.DataFrame.from_dict(signals, orient=\"index\")\n",
    "# df.head()"
   ]
  },
  {
   "cell_type": "code",
   "execution_count": 13,
   "id": "10198ec2",
   "metadata": {},
   "outputs": [],
   "source": [
    "# Descriptive statistics\n",
    "percentiles = [0.01] + list(np.arange(0.05, 1, 0.05)) + [0.99] + [0.999]\n",
    "stats_df = df.apply(pd.DataFrame.describe, percentiles=percentiles, axis=1)  # type: ignore\n",
    "metrics = set(stats_df.columns.values)"
   ]
  },
  {
   "cell_type": "code",
   "execution_count": null,
   "id": "919e408f",
   "metadata": {},
   "outputs": [],
   "source": [
    "# print(sorted(metrics))"
   ]
  },
  {
   "cell_type": "code",
   "execution_count": 22,
   "id": "173d3b16",
   "metadata": {},
   "outputs": [],
   "source": [
    "stats_df = stats_df.join(md5_metadata)"
   ]
  },
  {
   "cell_type": "code",
   "execution_count": 23,
   "id": "f820ef7d-b8fa-417a-bbc2-a03b166474b7",
   "metadata": {},
   "outputs": [],
   "source": [
    "# Create violin plots, one plot for each metric, and a violin for each assay (per plot)\n",
    "allowed_metrics = metrics - set([\"count\", \"mean\", \"std\"])\n",
    "category_orders = {ASSAY: sorted(my_meta.label_counter(ASSAY, verbose=False).keys())}\n",
    "for column in stats_df:\n",
    "    if column not in allowed_metrics:\n",
    "        continue\n",
    "    fig = px.violin(\n",
    "        data_frame=stats_df,\n",
    "        x=column,\n",
    "        y=ASSAY,\n",
    "        box=True,\n",
    "        points=\"all\",\n",
    "        title=f\"Violin plot for {column}\",\n",
    "        color=ASSAY,\n",
    "        category_orders=category_orders,\n",
    "        height=800,\n",
    "        hover_data={\"md5sum\": (df.index)},\n",
    "    )\n",
    "    fig.write_image(logdir / f\"100kb_all_none_hdf5_{column}.png\")\n",
    "    fig.write_html(logdir / f\"100kb_all_none_hdf5_{column}.html\")\n",
    "    # fig.show()"
   ]
  }
 ],
 "metadata": {
  "kernelspec": {
   "display_name": "epiclass",
   "language": "python",
   "name": "python3"
  },
  "language_info": {
   "codemirror_mode": {
    "name": "ipython",
    "version": 3
   },
   "file_extension": ".py",
   "mimetype": "text/x-python",
   "name": "python",
   "nbconvert_exporter": "python",
   "pygments_lexer": "ipython3",
   "version": "3.8.10"
  },
  "toc-autonumbering": false,
  "toc-showcode": false,
  "toc-showmarkdowntxt": false
 },
 "nbformat": 4,
 "nbformat_minor": 5
}

{
 "cells": [
  {
   "cell_type": "code",
   "execution_count": 10,
   "id": "205540cf-84f1-475b-a22c-a8bf67a5d79b",
   "metadata": {},
   "outputs": [
    {
     "name": "stdout",
     "output_type": "stream",
     "text": [
      "Package                  Version                Location\n",
      "kaleido                  0.2.1+computecanada\n",
      "packaging                23.1+computecanada\n",
      "Note: you may need to restart the kernel to use updated packages.\n"
     ]
    }
   ],
   "source": [
    "\"\"\"Notebook to analyze the values in an HDF5 file.\"\"\"\n",
    "# %pip list | grep \"ka\"\n",
    "# pylint: disable=redefined-outer-name, expression-not-assigned, import-error, not-callable, pointless-statement, no-value-for-parameter, undefined-variable, unused-argument"
   ]
  },
  {
   "cell_type": "code",
   "execution_count": 2,
   "id": "3521d1af-84f2-46e7-9219-985d8a01a78e",
   "metadata": {},
   "outputs": [],
   "source": [
    "from pathlib import Path\n",
    "\n",
    "import numpy as np\n",
    "import pandas as pd\n",
    "import plotly.express as px\n",
    "\n",
    "from epi_ml.core.data_source import EpiDataSource\n",
    "from epi_ml.core.hdf5_loader import Hdf5Loader\n",
    "from epi_ml.core.metadata import Metadata"
   ]
  },
  {
   "cell_type": "code",
   "execution_count": 3,
   "id": "96127d0d-e528-4524-8a84-12792434cb53",
   "metadata": {},
   "outputs": [],
   "source": [
    "%matplotlib inline"
   ]
  },
  {
   "cell_type": "code",
   "execution_count": 4,
   "id": "47618fb8-c3e1-40a5-8390-b01b59431ccb",
   "metadata": {},
   "outputs": [],
   "source": [
    "base = Path(\"/lustre06/project/6007017/rabyj/epilap/input/\")\n",
    "\n",
    "hdf5_list_path = base / \"hdf5_list/hg38_2023-01-epiatlas-freeze/100kb_all_none.list\"\n",
    "chromsize_path = (\n",
    "    base / \"/lustre06/project/6007017/rabyj/epilap/input/chromsizes/hg38.noy.chrom.sizes\"\n",
    ")\n",
    "metadata_path = (\n",
    "    base / \"metadata/hg38_2023_epiatlas_dfreeze_plus_encode_noncore_formatted_JR.json\"\n",
    ")\n",
    "\n",
    "logdir = Path(\n",
    "    \"/lustre07/scratch/rabyj/epilap-logs/2023-01-epiatlas-freeze/hg38_100kb_all_none\"\n",
    ")"
   ]
  },
  {
   "cell_type": "code",
   "execution_count": 5,
   "id": "8ad57159-e508-44dc-8870-230603aa14ab",
   "metadata": {},
   "outputs": [],
   "source": [
    "datasource = EpiDataSource(hdf5_list_path, chromsize_path, metadata_path)\n",
    "my_meta = Metadata(datasource.metadata_file)\n",
    "hdf5_loader = Hdf5Loader(chrom_file=chromsize_path, normalization=True)"
   ]
  },
  {
   "cell_type": "code",
   "execution_count": 6,
   "id": "6ef985a6-1b67-4b5d-956f-2a801ab80e87",
   "metadata": {},
   "outputs": [],
   "source": [
    "my_meta.remove_missing_labels(\"harmonized_donor_sex\")"
   ]
  },
  {
   "cell_type": "code",
   "execution_count": 20,
   "id": "fbcaca3f-fa5a-43a3-a040-ee742986ce39",
   "metadata": {},
   "outputs": [],
   "source": [
    "md5s = list(my_meta.md5s)[0:1000]\n",
    "signals = hdf5_loader.load_hdf5s(hdf5_list_path, md5s, strict=True).signals"
   ]
  },
  {
   "cell_type": "code",
   "execution_count": 21,
   "id": "087f67fa-023c-45a8-b454-99c15d0470b4",
   "metadata": {},
   "outputs": [],
   "source": [
    "# Assuming you have a list of arrays\n",
    "df = pd.DataFrame(signals.values()).T\n",
    "\n",
    "# Descriptive statistics\n",
    "percentiles = [0.01] + list(np.arange(0.05, 1, 0.05)) + [0.99] + [0.999]\n",
    "stats_df = df.describe(percentiles)"
   ]
  },
  {
   "cell_type": "code",
   "execution_count": 22,
   "id": "37716893-4bdf-4233-97d3-1bb69cda520a",
   "metadata": {},
   "outputs": [],
   "source": [
    "stats_dict = stats_df.T.to_dict(\"series\")"
   ]
  },
  {
   "cell_type": "code",
   "execution_count": 23,
   "id": "f820ef7d-b8fa-417a-bbc2-a03b166474b7",
   "metadata": {},
   "outputs": [],
   "source": [
    "# Create violin plots\n",
    "for metric, values in stats_dict.items():\n",
    "    fig = px.violin(x=values, box=True, points=\"all\")\n",
    "    fig.update_layout(title_text=f\"Violin plot for {metric}\")\n",
    "    fig.write_image(logdir / f\"100kb_all_none_hdf5_{metric}.png\")\n",
    "    fig.write_html(logdir / f\"100kb_all_none_hdf5_{metric}.html\")"
   ]
  }
 ],
 "metadata": {
  "kernelspec": {
   "display_name": "epiclass_env",
   "language": "python",
   "name": "epiclass_env"
  },
  "language_info": {
   "codemirror_mode": {
    "name": "ipython",
    "version": 3
   },
   "file_extension": ".py",
   "mimetype": "text/x-python",
   "name": "python",
   "nbconvert_exporter": "python",
   "pygments_lexer": "ipython3",
   "version": "3.8.10"
  },
  "toc-autonumbering": false,
  "toc-showcode": false,
  "toc-showmarkdowntxt": false
 },
 "nbformat": 4,
 "nbformat_minor": 5
}

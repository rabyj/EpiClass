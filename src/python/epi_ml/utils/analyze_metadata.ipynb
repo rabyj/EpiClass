{
 "cells": [
  {
   "cell_type": "code",
   "execution_count": null,
   "metadata": {},
   "outputs": [],
   "source": [
    "# pylint: disable=import-error, redefined-outer-name\n",
    "\"\"\"Workbooks to analyze metadata.\"\"\"\n",
    "from __future__ import annotations\n",
    "\n",
    "import itertools\n",
    "import random\n",
    "from collections import Counter, defaultdict\n",
    "from pathlib import Path\n",
    "from typing import DefaultDict, List\n",
    "\n",
    "import pandas as pd\n",
    "from IPython.display import display\n",
    "\n",
    "from epi_ml.core.metadata import Metadata\n",
    "from epi_ml.utils.modify_metadata import TRACKS_MAPPING, epiatlas_assays, filter_by_pairs\n",
    "\n",
    "CELL_TYPE = \"harmonized_sample_ontology_intermediate\"\n",
    "ASSAY = \"assay_epiclass\""
   ]
  },
  {
   "cell_type": "code",
   "execution_count": null,
   "metadata": {},
   "outputs": [],
   "source": [
    "base = Path(\"/home/local/USHERBROOKE/rabj2301/Projects/epilap/input/metadata\")\n",
    "# path = base / \"hg38_2023_epiatlas_dfreeze_plus_encode_noncore_formatted_JR.json\"\n",
    "path = base / \"hg38_2023_epiatlas_dfreeze_formatted_JR.json\"\n",
    "my_metadata = Metadata(path)"
   ]
  },
  {
   "cell_type": "code",
   "execution_count": null,
   "metadata": {},
   "outputs": [],
   "source": [
    "# my_metadata.get_categories()"
   ]
  },
  {
   "cell_type": "code",
   "execution_count": null,
   "metadata": {},
   "outputs": [],
   "source": [
    "def display_gen_info(metadata: Metadata):\n",
    "    \"\"\"Display track type, assay and cell type class counts.\"\"\"\n",
    "    metadata.display_labels(\"track_type\")\n",
    "    metadata.display_labels(ASSAY)\n",
    "    metadata.display_labels(CELL_TYPE)"
   ]
  },
  {
   "cell_type": "code",
   "execution_count": null,
   "metadata": {},
   "outputs": [],
   "source": [
    "print(my_metadata.get_categories())\n",
    "display_gen_info(my_metadata)"
   ]
  },
  {
   "cell_type": "code",
   "execution_count": null,
   "metadata": {},
   "outputs": [],
   "source": [
    "my_metadata.select_category_subsets(\"track_type\", TRACKS_MAPPING.keys())\n",
    "my_metadata.select_category_subsets(ASSAY, epiatlas_assays)"
   ]
  },
  {
   "cell_type": "code",
   "execution_count": null,
   "metadata": {},
   "outputs": [],
   "source": [
    "my_metadata.remove_category_subsets(CELL_TYPE, [\"\"])\n",
    "my_metadata.remove_small_classes(10, CELL_TYPE)"
   ]
  },
  {
   "cell_type": "code",
   "execution_count": null,
   "metadata": {},
   "outputs": [],
   "source": [
    "display_gen_info(my_metadata)"
   ]
  },
  {
   "cell_type": "code",
   "execution_count": null,
   "metadata": {},
   "outputs": [],
   "source": [
    "def count_trios(metadata: Metadata) -> Counter:\n",
    "    \"\"\"\n",
    "    Count the occurrences of unique (track_type, assay, cell_type) trios in the metadata.\n",
    "\n",
    "    Returns:\n",
    "        Counter: A Counter object of the unique trios.\n",
    "    \"\"\"\n",
    "    trios = Counter(\n",
    "        [(dset[\"track_type\"], dset[ASSAY], dset[CELL_TYPE]) for dset in metadata.datasets]\n",
    "    )\n",
    "    return trios"
   ]
  },
  {
   "cell_type": "code",
   "execution_count": null,
   "metadata": {},
   "outputs": [],
   "source": [
    "my_metadata = filter_by_pairs(\n",
    "    my_metadata=my_metadata, assay_cat=ASSAY, cat2=CELL_TYPE, nb_pairs=1, min_per_pair=10\n",
    ")"
   ]
  },
  {
   "cell_type": "code",
   "execution_count": null,
   "metadata": {},
   "outputs": [],
   "source": [
    "display_gen_info(my_metadata)"
   ]
  },
  {
   "cell_type": "code",
   "execution_count": null,
   "metadata": {},
   "outputs": [],
   "source": [
    "trios = count_trios(my_metadata)\n",
    "print(len(trios), len(trios) * 5)"
   ]
  },
  {
   "cell_type": "code",
   "execution_count": null,
   "metadata": {},
   "outputs": [],
   "source": [
    "# display(trios.most_common())"
   ]
  },
  {
   "cell_type": "code",
   "execution_count": null,
   "metadata": {},
   "outputs": [],
   "source": [
    "display_gen_info(my_metadata)\n",
    "my_metadata.display_labels(\"harmonized_donor_sex\")"
   ]
  },
  {
   "cell_type": "code",
   "execution_count": null,
   "metadata": {},
   "outputs": [],
   "source": [
    "def select_datasets(metadata: Metadata, n=5) -> List[str]:\n",
    "    \"\"\"\n",
    "    Select a random subset of n datasets for each unique (track_type, assay, cell_type) trio.\n",
    "\n",
    "    Returns:\n",
    "        list: A list of sampled md5sums of the selected datasets.\n",
    "    \"\"\"\n",
    "    trio_files = defaultdict(list)\n",
    "    for md5sum, dset in metadata.items:\n",
    "        trio = (dset[\"track_type\"], dset[ASSAY], dset[CELL_TYPE])\n",
    "        trio_files[trio].append(md5sum)\n",
    "    print(len(trio_files))\n",
    "\n",
    "    sampled_md5s = list(\n",
    "        itertools.chain.from_iterable(\n",
    "            [random.sample(md5_list, n) for md5_list in trio_files.values()]\n",
    "        )\n",
    "    )\n",
    "    return sampled_md5s"
   ]
  },
  {
   "cell_type": "code",
   "execution_count": null,
   "metadata": {},
   "outputs": [],
   "source": [
    "md5s = select_datasets(my_metadata)\n",
    "print(len(md5s))"
   ]
  },
  {
   "cell_type": "code",
   "execution_count": null,
   "metadata": {},
   "outputs": [],
   "source": [
    "pd.DataFrame(md5s).to_csv(\"md5_shap_assay_background.list\", index=False, header=False)"
   ]
  },
  {
   "cell_type": "code",
   "execution_count": null,
   "metadata": {},
   "outputs": [],
   "source": [
    "# import copy\n",
    "# meta2 = copy.deepcopy(my_metadata)\n",
    "meta2 = Metadata(path)\n",
    "\n",
    "meta2.remove_category_subsets(\"track_type\", [\"Unique_raw\"])\n",
    "meta2.select_category_subsets(ASSAY, epiatlas_assays)\n",
    "\n",
    "meta2.remove_category_subsets(CELL_TYPE, [\"\"])\n",
    "meta2.remove_small_classes(10, CELL_TYPE)\n",
    "\n",
    "# meta2.select_category_subsets(CELL_TYPE, [\"T cell\"])\n",
    "# meta2.display_labels(ASSAY)\n",
    "\n",
    "# meta2.select_category_subsets(ASSAY, [\"wgbs-pbat\"])\n",
    "# meta2.display_labels(CELL_TYPE)\n",
    "\n",
    "display_gen_info(meta2)"
   ]
  },
  {
   "cell_type": "code",
   "execution_count": null,
   "metadata": {},
   "outputs": [],
   "source": [
    "def count_cell_types(metadata: Metadata) -> DefaultDict[str, Counter]:\n",
    "    \"\"\"\n",
    "    Count the occurrences of each cell type for each assay in the dataset.\n",
    "\n",
    "    Returns:\n",
    "        defaultdict(Counter): A defaultdict of Counter objects with the count of cell types per assay.\n",
    "    \"\"\"\n",
    "    cell_type_count = defaultdict(Counter)\n",
    "    for dset in metadata.datasets:\n",
    "        assay, cell_type = dset[ASSAY], dset[CELL_TYPE]\n",
    "        cell_type_count[assay].update([cell_type])\n",
    "    return cell_type_count\n",
    "\n",
    "\n",
    "def select_cell_types(metadata: Metadata, n=70) -> DefaultDict[str, List]:\n",
    "    \"\"\"\n",
    "    Determines which cell types are needed to attain n datasets, for a given assay.\n",
    "    Starts with T cell and then selects the most common cell types.\n",
    "\n",
    "    Args:\n",
    "        metadata (Metadata): A Metadata object containing dataset metadata.\n",
    "        n (int, optional): Maximum number of cell types to select for each assay. Defaults to 70.\n",
    "\n",
    "    Returns:\n",
    "        defaultdict(list): A defaultdict with selected cell types for each assay.\n",
    "    \"\"\"\n",
    "    cell_count = count_cell_types(metadata)\n",
    "\n",
    "    selected_ct = defaultdict(list)\n",
    "    for assay, counter in cell_count.items():\n",
    "        selected_ct[assay].append(\"T cell\")\n",
    "        i = min(counter[\"T cell\"], n)\n",
    "        del counter[\"T cell\"]\n",
    "        while i < n and counter:\n",
    "            for cell_type, count in counter.most_common():\n",
    "                i += min(count, n - i)\n",
    "                selected_ct[assay].append(cell_type)\n",
    "                del counter[cell_type]\n",
    "                break\n",
    "        if i < n:\n",
    "            print(f\"There is not at least {n} files for {assay}. Final number={i}\")\n",
    "\n",
    "    return selected_ct"
   ]
  },
  {
   "cell_type": "code",
   "execution_count": null,
   "metadata": {},
   "outputs": [],
   "source": [
    "# count_cell_types(my_metadata)\n",
    "selected_ct = select_cell_types(my_metadata, n=70)\n",
    "display(selected_ct)"
   ]
  },
  {
   "cell_type": "code",
   "execution_count": null,
   "metadata": {},
   "outputs": [],
   "source": [
    "def select_explain_files(\n",
    "    metadata: Metadata, selected_cell_types: DefaultDict[str, List], n: int\n",
    ") -> List[str]:\n",
    "    \"\"\"\n",
    "    Sample 'n' random datasets for each assay from the given cell types.\n",
    "\n",
    "    Args:\n",
    "        metadata (Metadata): A Metadata object containing dataset metadata.\n",
    "        selected_cell_types (defaultdict(list)): A dictionary with selected cell types for each assay.\n",
    "        n (int): Number of files to select for each assay.\n",
    "\n",
    "    Returns:\n",
    "        list: A list of sampled md5sums of the selected files.\n",
    "    \"\"\"\n",
    "    md5sums = defaultdict(list)\n",
    "    for md5sum, dset in metadata.items:\n",
    "        assay, ct = dset[ASSAY], dset[CELL_TYPE]\n",
    "        if ct in selected_cell_types[assay]:\n",
    "            md5sums[assay].append(md5sum)\n",
    "\n",
    "    sampled_md5s = list(\n",
    "        itertools.chain.from_iterable(\n",
    "            [random.sample(md5_list, n) for md5_list in md5sums.values()]\n",
    "        )\n",
    "    )\n",
    "\n",
    "    return sampled_md5s"
   ]
  },
  {
   "cell_type": "code",
   "execution_count": null,
   "metadata": {},
   "outputs": [],
   "source": [
    "files_to_explain = select_explain_files(meta2, selected_ct, 70)\n",
    "len(files_to_explain)"
   ]
  },
  {
   "cell_type": "code",
   "execution_count": null,
   "metadata": {},
   "outputs": [],
   "source": [
    "pd.DataFrame(files_to_explain).to_csv(\n",
    "    \"md5_shap_assay_explain.list\", index=False, header=False\n",
    ")"
   ]
  }
 ],
 "metadata": {
  "kernelspec": {
   "display_name": "venv-epilap-pytorch",
   "language": "python",
   "name": "python3"
  },
  "language_info": {
   "codemirror_mode": {
    "name": "ipython",
    "version": 3
   },
   "file_extension": ".py",
   "mimetype": "text/x-python",
   "name": "python",
   "nbconvert_exporter": "python",
   "pygments_lexer": "ipython3",
   "version": "3.8.10"
  },
  "orig_nbformat": 4
 },
 "nbformat": 4,
 "nbformat_minor": 2
}

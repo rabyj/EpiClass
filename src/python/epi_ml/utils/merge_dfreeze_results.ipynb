{
 "cells": [
  {
   "cell_type": "code",
   "execution_count": 2,
   "metadata": {},
   "outputs": [
    {
     "data": {
      "text/plain": [
       "'Notebook to work on proper way to merge a lot of already augmented output files.'"
      ]
     },
     "execution_count": 2,
     "metadata": {},
     "output_type": "execute_result"
    }
   ],
   "source": [
    "\"\"\"Notebook to work on proper way to merge a lot of already augmented output files.\"\"\"\n",
    "# pylint: disable=line-too-long, redefined-outer-name, import-error"
   ]
  },
  {
   "attachments": {},
   "cell_type": "markdown",
   "metadata": {},
   "source": [
    "https://unix.stackexchange.com/questions/321219/rsync-using-part-of-a-relative-path\n",
    "\n",
    "~/scratch/epilap-logs/2023-01-epiatlas-freeze/hg38_100kb_all_none/random_1l_3000n/10fold/full-10fold-validation_prediction_augmented-all.csv\n",
    "~/scratch/epilap-logs/2023-01-epiatlas-freeze/hg38_100kb_all_none/upload_date_2_1l_3000n/10fold/full-10fold-validation_prediction_augmented-all.csv\n",
    "~/scratch/epilap-logs/2023-01-epiatlas-freeze/hg38_100kb_all_none/paired_end_1l_3000n/10fold/full-10fold-validation_prediction_augmented-all.csv\n",
    "~/scratch/epilap-logs/2023-01-epiatlas-freeze/hg38_100kb_all_none/data_generating_centre_1l_3000n/10fold/full-10fold-validation_prediction_augmented-all.csv\n",
    "~/scratch/epilap-logs/2023-01-epiatlas-freeze/hg38_100kb_all_none/assay_epiclass_1l_3000n/10fold/full-10fold-validation_prediction_augmented-all.csv\n",
    "~/scratch/epilap-logs/2023-01-epiatlas-freeze/hg38_100kb_all_none/harmonized_biomaterial_type_1l_3000n/10fold/full-10fold-validation_prediction_augmented-all.csv\n",
    "~/scratch/epilap-logs/2023-01-epiatlas-freeze/hg38_100kb_all_none/harmonized_donor_type_1l_3000n/10fold/full-10fold-validation_prediction_augmented-all.csv\n",
    "~/scratch/epilap-logs/2023-01-epiatlas-freeze/hg38_100kb_all_none/harmonized_donor_sex_1l_3000n/10fold-binary/full-10fold-validation_prediction_augmented-all.csv\n",
    "~/scratch/epilap-logs/2023-01-epiatlas-freeze/hg38_100kb_all_none/harmonized_donor_sex_1l_3000n/10fold-all-classes/full-10fold-validation_prediction_augmented-all.csv\n",
    "~/scratch/epilap-logs/2023-01-epiatlas-freeze/hg38_100kb_all_none/harmonized_sample_disease_high_1l_3000n/10fold/full-10fold-validation_prediction_augmented-all.csv\n",
    "~/scratch/epilap-logs/2023-01-epiatlas-freeze/hg38_100kb_all_none/harmonized_EpiRR_status_1l_3000n/10fold/full-10fold-validation_prediction_augmented-all.csv\n",
    "~/scratch/epilap-logs/2023-01-epiatlas-freeze/hg38_100kb_all_none/harmonized_sample_ontology_intermediate_1l_3000n/10fold/full-10fold-validation_prediction_augmented-all.csv\n",
    "~/scratch/epilap-logs/2023-01-epiatlas-freeze/hg38_100kb_all_none/harmonized_donor_life_stage_1l_3000n/10fold-no-unknown/full-10fold-validation_prediction_augmented-all.csv\n",
    "\n",
    "rsync -aR narval:~/scratch/epilap-logs/2023-01-epiatlas-freeze/./hg38_100kb_all_none/data_generating_centre_1l_3000n/10fold/full-10fold-validation_prediction_augmented-all.csv /home/local/USHERBROOKE/rabj2301/downloads/temp/\n",
    "rsync -aR narval:~/scratch/epilap-logs/2023-01-epiatlas-freeze/./hg38_100kb_all_none/assay_epiclass_1l_3000n/10fold/full-10fold-validation_prediction_augmented-all.csv /home/local/USHERBROOKE/rabj2301/downloads/temp/\n",
    "rsync -aR narval:~/scratch/epilap-logs/2023-01-epiatlas-freeze/./hg38_100kb_all_none/harmonized_biomaterial_type_1l_3000n/10fold/full-10fold-validation_prediction_augmented-all.csv /home/local/USHERBROOKE/rabj2301/downloads/temp/\n",
    "rsync -aR narval:~/scratch/epilap-logs/2023-01-epiatlas-freeze/./hg38_100kb_all_none/harmonized_donor_type_1l_3000n/10fold/full-10fold-validation_prediction_augmented-all.csv /home/local/USHERBROOKE/rabj2301/downloads/temp/\n",
    "rsync -aR narval:~/scratch/epilap-logs/2023-01-epiatlas-freeze/./hg38_100kb_all_none/harmonized_donor_sex_1l_3000n/10fold-binary/full-10fold-validation_prediction_augmented-all.csv /home/local/USHERBROOKE/rabj2301/downloads/temp/\n",
    "rsync -aR narval:~/scratch/epilap-logs/2023-01-epiatlas-freeze/./hg38_100kb_all_none/harmonized_donor_sex_1l_3000n/10fold-all-classes/full-10fold-validation_prediction_augmented-all.cs /home/local/USHERBROOKE/rabj2301/downloads/temp/\n",
    "rsync -aR narval:~/scratch/epilap-logs/2023-01-epiatlas-freeze/./hg38_100kb_all_none/harmonized_sample_disease_high_1l_3000n/10fold/full-10fold-validation_prediction_augmented-all.csv /home/local/USHERBROOKE/rabj2301/downloads/temp/\n",
    "rsync -aR narval:~/scratch/epilap-logs/2023-01-epiatlas-freeze/./hg38_100kb_all_none/harmonized_EpiRR_status_1l_3000n/10fold/full-10fold-validation_prediction_augmented-all.csv /home/local/USHERBROOKE/rabj2301/downloads/temp/\n",
    "rsync -aR narval:~/scratch/epilap-logs/2023-01-epiatlas-freeze/./hg38_100kb_all_none/harmonized_sample_ontology_intermediate_1l_3000n/10fold/full-10fold-validation_prediction_augmented-all.csv /home/local/USHERBROOKE/rabj2301/downloads/temp/\n",
    "rsync -aR narval:~/scratch/epilap-logs/2023-01-epiatlas-freeze/./hg38_100kb_all_none/harmonized_donor_life_stage_1l_3000n/10fold-no-unknown/full-10fold-validation_prediction_augmented-all.csv /home/local/USHERBROOKE/rabj2301/downloads/temp/\n",
    "\n",
    "rsync -aR narval:~/scratch/epilap-logs/2023-01-epiatlas-freeze/./hg38_100kb_all_none/random_1l_3000n/10fold/full-10fold-validation_prediction_augmented-all.csv /home/local/USHERBROOKE/rabj2301/downloads/temp/\n",
    "rsync -aR narval:~/scratch/epilap-logs/2023-01-epiatlas-freeze/./hg38_100kb_all_none/upload_date_2_1l_3000n/10fold/full-10fold-validation_prediction_augmented-all.csv /home/local/USHERBROOKE/rabj2301/downloads/temp/\n",
    "rsync -aR narval:~/scratch/epilap-logs/2023-01-epiatlas-freeze/./hg38_100kb_all_none/paired_end_1l_3000n/10fold/full-10fold-validation_prediction_augmented-all.csv /home/local/USHERBROOKE/rabj2301/downloads/temp/"
   ]
  },
  {
   "cell_type": "code",
   "execution_count": null,
   "metadata": {},
   "outputs": [],
   "source": [
    "import functools\n",
    "import glob\n",
    "from pathlib import Path\n",
    "from typing import Dict\n",
    "\n",
    "import numpy as np\n",
    "import pandas as pd\n",
    "from IPython.display import display"
   ]
  },
  {
   "cell_type": "code",
   "execution_count": null,
   "metadata": {},
   "outputs": [],
   "source": [
    "user_home = str(Path.home())"
   ]
  },
  {
   "cell_type": "code",
   "execution_count": null,
   "metadata": {},
   "outputs": [],
   "source": [
    "# input_files = glob.glob(\"/home/local/USHERBROOKE/rabj2301/projects/epilap/output/dfreeze_results/**/full-10fold-validation_prediction_augmented-all.csv\", recursive=True)\n",
    "input_files = []\n",
    "input_files += glob.glob(\n",
    "    f\"{user_home}/projects/epilap/output/dfreeze_results/**/paired*/**/full-10fold-validation_prediction_augmented-all.csv\",\n",
    "    recursive=True,\n",
    ")\n",
    "\n",
    "# always keep random to make sure all md5sums are included in final file\n",
    "input_files += glob.glob(\n",
    "    f\"{user_home}/projects/epilap/output/dfreeze_results/**/*random*/**/full-10fold-validation_prediction_augmented-all.csv\",\n",
    "    recursive=True,\n",
    ")\n",
    "display(input_files)"
   ]
  },
  {
   "cell_type": "code",
   "execution_count": null,
   "metadata": {},
   "outputs": [],
   "source": [
    "OUTPUT_NAME = \"dfreeze_NN_merged_results_paired_end.csv\""
   ]
  },
  {
   "cell_type": "code",
   "execution_count": null,
   "metadata": {},
   "outputs": [],
   "source": [
    "dfs = {}\n",
    "for input_file in input_files:\n",
    "    input_file = Path(input_file)\n",
    "    category = input_file.parents[1].stem\n",
    "    df = pd.read_csv(input_file, index_col=\"md5sum\", low_memory=False)\n",
    "    df.name = category\n",
    "    df.dropna(axis=1, how=\"all\")\n",
    "    dfs[category] = df"
   ]
  },
  {
   "cell_type": "code",
   "execution_count": null,
   "metadata": {},
   "outputs": [],
   "source": [
    "def print_cols(dfs: Dict):\n",
    "    \"\"\"Print all columns of first df in dict.\"\"\"\n",
    "    a_df = list(dfs.values())[0]\n",
    "    print(a_df.shape)\n",
    "    for column in a_df.columns:\n",
    "        print(column)"
   ]
  },
  {
   "cell_type": "code",
   "execution_count": null,
   "metadata": {},
   "outputs": [],
   "source": [
    "a_df = list(dfs.values())[0]\n",
    "display(a_df.filter(like=\"Audit\").head())"
   ]
  },
  {
   "cell_type": "code",
   "execution_count": null,
   "metadata": {},
   "outputs": [],
   "source": [
    "# Drop useless columns\n",
    "for cat, df in dfs.items():\n",
    "    df.replace(to_replace=[\"--empty--\", \"\", \"NA\"], value=np.nan, inplace=True)\n",
    "    df = df.dropna(axis=1, how=\"all\")\n",
    "    dfs[cat] = df"
   ]
  },
  {
   "cell_type": "code",
   "execution_count": null,
   "metadata": {},
   "outputs": [],
   "source": [
    "# Remove detail of prediction probabilities\n",
    "col1 = \"1rst/2nd prob ratio\"\n",
    "col2 = \"files/epiRR\"\n",
    "for cat, df in dfs.items():\n",
    "    column_names = df.columns\n",
    "    cut_pos_1 = column_names.get_loc(col1)\n",
    "    cut_pos_2 = column_names.get_loc(col2)\n",
    "    df = df.drop(df.columns[cut_pos_1 + 1 : cut_pos_2], axis=1)\n",
    "    df = df.drop(columns=[\"EpiRR\", \"md5sum.1\"])\n",
    "    dfs[cat] = df\n",
    "    print(df.shape)"
   ]
  },
  {
   "cell_type": "code",
   "execution_count": null,
   "metadata": {},
   "outputs": [],
   "source": [
    "# Make all differnet columns have unique relevant names\n",
    "# https://stackoverflow.com/questions/38101009/changing-multiple-column-names-but-not-all-of-them-pandas-python\n",
    "nb_diff_columns = 13\n",
    "for cat, df in dfs.items():\n",
    "    old_names = df.columns[-nb_diff_columns:]\n",
    "    new_names = [name + f\" {cat}\" for name in old_names if name[-1] != \"n\"]\n",
    "    df.rename(columns=dict(zip(old_names, new_names)), inplace=True)\n",
    "    df.name = cat\n",
    "    dfs[cat] = df\n",
    "    print(df.columns)"
   ]
  },
  {
   "cell_type": "code",
   "execution_count": null,
   "metadata": {},
   "outputs": [],
   "source": [
    "# Merge all dataframes\n",
    "df_list = list(dfs.values())\n",
    "df_final = functools.reduce(\n",
    "    lambda left, right: pd.merge(\n",
    "        left, right, on=\"md5sum\", how=\"outer\", suffixes=(None, \"_x\")\n",
    "    ),\n",
    "    df_list,\n",
    ")"
   ]
  },
  {
   "cell_type": "code",
   "execution_count": null,
   "metadata": {},
   "outputs": [],
   "source": [
    "# Remove duplicate metadata columns (those that end by _x)\n",
    "filtered_final = df_final.filter(regex=r\"^(?:(?!_x).)+$\")"
   ]
  },
  {
   "cell_type": "code",
   "execution_count": null,
   "metadata": {},
   "outputs": [],
   "source": [
    "display(filtered_final.columns.values)"
   ]
  },
  {
   "cell_type": "code",
   "execution_count": null,
   "metadata": {},
   "outputs": [],
   "source": [
    "filtered_final.to_csv(OUTPUT_NAME)"
   ]
  }
 ],
 "metadata": {
  "kernelspec": {
   "display_name": "venv-epilap-pytorch",
   "language": "python",
   "name": "python3"
  },
  "language_info": {
   "codemirror_mode": {
    "name": "ipython",
    "version": 3
   },
   "file_extension": ".py",
   "mimetype": "text/x-python",
   "name": "python",
   "nbconvert_exporter": "python",
   "pygments_lexer": "ipython3",
   "version": "3.8.10"
  },
  "orig_nbformat": 4
 },
 "nbformat": 4,
 "nbformat_minor": 2
}

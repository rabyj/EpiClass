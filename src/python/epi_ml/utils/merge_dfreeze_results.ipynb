{
 "cells": [
  {
   "cell_type": "code",
   "execution_count": 18,
   "metadata": {},
   "outputs": [
    {
     "data": {
      "text/plain": [
       "'Notebook to work on proper way to merge a lot of already augmented output files.'"
      ]
     },
     "execution_count": 18,
     "metadata": {},
     "output_type": "execute_result"
    }
   ],
   "source": [
    "\"\"\"Notebook to work on proper way to merge a lot of already augmented output files.\"\"\"\n",
    "# pylint: disable=line-too-long, redefined-outer-name, import-error"
   ]
  },
  {
   "attachments": {},
   "cell_type": "markdown",
   "metadata": {},
   "source": [
    "https://unix.stackexchange.com/questions/321219/rsync-using-part-of-a-relative-path\n",
    "\n",
    "~/scratch/epilap-logs/2023-01-epiatlas-freeze/hg38_100kb_all_none/random_1l_3000n/10fold/full-10fold-validation_prediction_augmented-all.csv\n",
    "~/scratch/epilap-logs/2023-01-epiatlas-freeze/hg38_100kb_all_none/upload_date_2_1l_3000n/10fold/full-10fold-validation_prediction_augmented-all.csv\n",
    "~/scratch/epilap-logs/2023-01-epiatlas-freeze/hg38_100kb_all_none/paired_end_1l_3000n/10fold/full-10fold-validation_prediction_augmented-all.csv\n",
    "~/scratch/epilap-logs/2023-01-epiatlas-freeze/hg38_100kb_all_none/data_generating_centre_1l_3000n/10fold/full-10fold-validation_prediction_augmented-all.csv\n",
    "~/scratch/epilap-logs/2023-01-epiatlas-freeze/hg38_100kb_all_none/assay_epiclass_1l_3000n/10fold/full-10fold-validation_prediction_augmented-all.csv\n",
    "~/scratch/epilap-logs/2023-01-epiatlas-freeze/hg38_100kb_all_none/harmonized_biomaterial_type_1l_3000n/10fold/full-10fold-validation_prediction_augmented-all.csv\n",
    "~/scratch/epilap-logs/2023-01-epiatlas-freeze/hg38_100kb_all_none/harmonized_donor_type_1l_3000n/10fold/full-10fold-validation_prediction_augmented-all.csv\n",
    "~/scratch/epilap-logs/2023-01-epiatlas-freeze/hg38_100kb_all_none/harmonized_donor_sex_1l_3000n/10fold-binary/full-10fold-validation_prediction_augmented-all.csv\n",
    "~/scratch/epilap-logs/2023-01-epiatlas-freeze/hg38_100kb_all_none/harmonized_donor_sex_1l_3000n/10fold-all-classes/full-10fold-validation_prediction_augmented-all.csv\n",
    "~/scratch/epilap-logs/2023-01-epiatlas-freeze/hg38_100kb_all_none/harmonized_sample_disease_high_1l_3000n/10fold/full-10fold-validation_prediction_augmented-all.csv\n",
    "~/scratch/epilap-logs/2023-01-epiatlas-freeze/hg38_100kb_all_none/harmonized_EpiRR_status_1l_3000n/10fold/full-10fold-validation_prediction_augmented-all.csv\n",
    "~/scratch/epilap-logs/2023-01-epiatlas-freeze/hg38_100kb_all_none/harmonized_sample_ontology_intermediate_1l_3000n/10fold/full-10fold-validation_prediction_augmented-all.csv\n",
    "~/scratch/epilap-logs/2023-01-epiatlas-freeze/hg38_100kb_all_none/harmonized_donor_life_stage_1l_3000n/10fold-no-unknown/full-10fold-validation_prediction_augmented-all.csv\n",
    "\n",
    "rsync -aR narval:~/scratch/epilap-logs/2023-01-epiatlas-freeze/./hg38_100kb_all_none/data_generating_centre_1l_3000n/10fold/full-10fold-validation_prediction_augmented-all.csv /home/local/USHERBROOKE/rabj2301/downloads/temp/\n",
    "rsync -aR narval:~/scratch/epilap-logs/2023-01-epiatlas-freeze/./hg38_100kb_all_none/assay_epiclass_1l_3000n/10fold/full-10fold-validation_prediction_augmented-all.csv /home/local/USHERBROOKE/rabj2301/downloads/temp/\n",
    "rsync -aR narval:~/scratch/epilap-logs/2023-01-epiatlas-freeze/./hg38_100kb_all_none/harmonized_biomaterial_type_1l_3000n/10fold/full-10fold-validation_prediction_augmented-all.csv /home/local/USHERBROOKE/rabj2301/downloads/temp/\n",
    "rsync -aR narval:~/scratch/epilap-logs/2023-01-epiatlas-freeze/./hg38_100kb_all_none/harmonized_donor_type_1l_3000n/10fold/full-10fold-validation_prediction_augmented-all.csv /home/local/USHERBROOKE/rabj2301/downloads/temp/\n",
    "rsync -aR narval:~/scratch/epilap-logs/2023-01-epiatlas-freeze/./hg38_100kb_all_none/harmonized_donor_sex_1l_3000n/10fold-binary/full-10fold-validation_prediction_augmented-all.csv /home/local/USHERBROOKE/rabj2301/downloads/temp/\n",
    "rsync -aR narval:~/scratch/epilap-logs/2023-01-epiatlas-freeze/./hg38_100kb_all_none/harmonized_donor_sex_1l_3000n/10fold-all-classes/full-10fold-validation_prediction_augmented-all.cs /home/local/USHERBROOKE/rabj2301/downloads/temp/\n",
    "rsync -aR narval:~/scratch/epilap-logs/2023-01-epiatlas-freeze/./hg38_100kb_all_none/harmonized_sample_disease_high_1l_3000n/10fold/full-10fold-validation_prediction_augmented-all.csv /home/local/USHERBROOKE/rabj2301/downloads/temp/\n",
    "rsync -aR narval:~/scratch/epilap-logs/2023-01-epiatlas-freeze/./hg38_100kb_all_none/harmonized_EpiRR_status_1l_3000n/10fold/full-10fold-validation_prediction_augmented-all.csv /home/local/USHERBROOKE/rabj2301/downloads/temp/\n",
    "rsync -aR narval:~/scratch/epilap-logs/2023-01-epiatlas-freeze/./hg38_100kb_all_none/harmonized_sample_ontology_intermediate_1l_3000n/10fold/full-10fold-validation_prediction_augmented-all.csv /home/local/USHERBROOKE/rabj2301/downloads/temp/\n",
    "rsync -aR narval:~/scratch/epilap-logs/2023-01-epiatlas-freeze/./hg38_100kb_all_none/harmonized_donor_life_stage_1l_3000n/10fold-no-unknown/full-10fold-validation_prediction_augmented-all.csv /home/local/USHERBROOKE/rabj2301/downloads/temp/\n",
    "\n",
    "rsync -aR narval:~/scratch/epilap-logs/2023-01-epiatlas-freeze/./hg38_100kb_all_none/random_1l_3000n/10fold/full-10fold-validation_prediction_augmented-all.csv /home/local/USHERBROOKE/rabj2301/downloads/temp/\n",
    "rsync -aR narval:~/scratch/epilap-logs/2023-01-epiatlas-freeze/./hg38_100kb_all_none/upload_date_2_1l_3000n/10fold/full-10fold-validation_prediction_augmented-all.csv /home/local/USHERBROOKE/rabj2301/downloads/temp/\n",
    "rsync -aR narval:~/scratch/epilap-logs/2023-01-epiatlas-freeze/./hg38_100kb_all_none/paired_end_1l_3000n/10fold/full-10fold-validation_prediction_augmented-all.csv /home/local/USHERBROOKE/rabj2301/downloads/temp/"
   ]
  },
  {
   "cell_type": "code",
   "execution_count": 19,
   "metadata": {},
   "outputs": [],
   "source": [
    "import functools\n",
    "import glob\n",
    "from pathlib import Path\n",
    "from typing import Dict\n",
    "\n",
    "import numpy as np\n",
    "import pandas as pd\n",
    "from IPython.display import display"
   ]
  },
  {
   "cell_type": "code",
   "execution_count": 20,
   "metadata": {},
   "outputs": [],
   "source": [
    "user_home = str(Path.home())"
   ]
  },
  {
   "cell_type": "code",
   "execution_count": 40,
   "metadata": {},
   "outputs": [
    {
     "data": {
      "text/plain": [
       "{'/home/local/USHERBROOKE/rabj2301/projects/epilap/output/dfreeze_results/hg38_100kb_all_none/assay_epiclass_1l_3000n/10fold/full-10fold-validation_prediction_augmented-all.csv',\n",
       " '/home/local/USHERBROOKE/rabj2301/projects/epilap/output/dfreeze_results/hg38_100kb_all_none/data_generating_centre_1l_3000n/10fold/full-10fold-validation_prediction_augmented-all.csv',\n",
       " '/home/local/USHERBROOKE/rabj2301/projects/epilap/output/dfreeze_results/hg38_100kb_all_none/harmonized_EpiRR_status_1l_3000n/10fold/full-10fold-validation_prediction_augmented-all.csv',\n",
       " '/home/local/USHERBROOKE/rabj2301/projects/epilap/output/dfreeze_results/hg38_100kb_all_none/harmonized_biomaterial_type_1l_3000n/10fold/full-10fold-validation_prediction_augmented-all.csv',\n",
       " '/home/local/USHERBROOKE/rabj2301/projects/epilap/output/dfreeze_results/hg38_100kb_all_none/harmonized_donor_life_stage_1l_3000n/10fold-no-unknown/full-10fold-validation_prediction_augmented-all.csv',\n",
       " '/home/local/USHERBROOKE/rabj2301/projects/epilap/output/dfreeze_results/hg38_100kb_all_none/harmonized_donor_sex_1l_3000n/10fold-binary/full-10fold-validation_prediction_augmented-all.csv',\n",
       " '/home/local/USHERBROOKE/rabj2301/projects/epilap/output/dfreeze_results/hg38_100kb_all_none/harmonized_donor_type_1l_3000n/10fold/full-10fold-validation_prediction_augmented-all.csv',\n",
       " '/home/local/USHERBROOKE/rabj2301/projects/epilap/output/dfreeze_results/hg38_100kb_all_none/harmonized_sample_disease_high_1l_3000n/10fold/full-10fold-validation_prediction_augmented-all.csv',\n",
       " '/home/local/USHERBROOKE/rabj2301/projects/epilap/output/dfreeze_results/hg38_100kb_all_none/harmonized_sample_ontology_intermediate_1l_3000n/10fold/full-10fold-validation_prediction_augmented-all.csv',\n",
       " '/home/local/USHERBROOKE/rabj2301/projects/epilap/output/dfreeze_results/hg38_100kb_all_none/paired_end_1l_3000n/10fold/full-10fold-validation_prediction_augmented-all.csv',\n",
       " '/home/local/USHERBROOKE/rabj2301/projects/epilap/output/dfreeze_results/hg38_100kb_all_none/random_1l_3000n/10fold/full-10fold-validation_prediction_augmented-all.csv',\n",
       " '/home/local/USHERBROOKE/rabj2301/projects/epilap/output/dfreeze_results/hg38_100kb_all_none/upload_date_2_1l_3000n/10fold/full-10fold-validation_prediction_augmented-all.csv'}"
      ]
     },
     "metadata": {},
     "output_type": "display_data"
    },
    {
     "data": {
      "text/plain": [
       "12"
      ]
     },
     "metadata": {},
     "output_type": "display_data"
    }
   ],
   "source": [
    "input_files = glob.glob(\n",
    "    \"/home/local/USHERBROOKE/rabj2301/projects/epilap/output/dfreeze_results/**/full-10fold-validation_prediction_augmented-all.csv\",\n",
    "    recursive=True,\n",
    ")\n",
    "# input_files = []\n",
    "# input_files += glob.glob(\n",
    "#     f\"{user_home}/projects/epilap/output/dfreeze_results/**/paired*/**/full-10fold-validation_prediction_augmented-all.csv\",\n",
    "#     recursive=True,\n",
    "# )\n",
    "input_files = [csv for csv in input_files if \"10fold-all\" not in csv]\n",
    "\n",
    "# always keep random to make sure all md5sums are included in final file\n",
    "input_files += glob.glob(\n",
    "    f\"{user_home}/projects/epilap/output/dfreeze_results/**/*random*/**/full-10fold-validation_prediction_augmented-all.csv\",\n",
    "    recursive=True,\n",
    ")\n",
    "input_files = set(input_files)\n",
    "display(input_files, len(input_files))"
   ]
  },
  {
   "cell_type": "code",
   "execution_count": 22,
   "metadata": {},
   "outputs": [],
   "source": [
    "OUTPUT_NAME = \"/home/local/USHERBROOKE/rabj2301/projects/epilap/output/dfreeze_results/dfreeze_NN_merged_results_paired_end.csv\""
   ]
  },
  {
   "cell_type": "code",
   "execution_count": 41,
   "metadata": {},
   "outputs": [],
   "source": [
    "dfs = {}\n",
    "for input_file in input_files:\n",
    "    input_file = Path(input_file)\n",
    "    category = input_file.parents[1].stem\n",
    "    df = pd.read_csv(input_file, index_col=\"md5sum\", low_memory=False)\n",
    "\n",
    "    df.name = category\n",
    "    df.dropna(axis=1, how=\"all\")\n",
    "    if category in dfs:\n",
    "        raise ValueError(\n",
    "            f\"Conflicting names from {input_file}: {category} file already exists.\"\n",
    "        )\n",
    "\n",
    "    dfs[category] = df"
   ]
  },
  {
   "cell_type": "code",
   "execution_count": 58,
   "metadata": {},
   "outputs": [],
   "source": [
    "# test = \"/home/local/USHERBROOKE/rabj2301/projects/epilap/output/dfreeze_results/hg38_100kb_all_none/harmonized_donor_life_stage_1l_3000n/10fold-no-unknown/full-10fold-validation_prediction_augmented-all.csv\"\n",
    "# category = Path(test).parents[1].stem\n",
    "# df = pd.read_csv(test, index_col=\"md5sum\", low_memory=False)\n",
    "# df.name = category"
   ]
  },
  {
   "cell_type": "code",
   "execution_count": 42,
   "metadata": {},
   "outputs": [],
   "source": [
    "def print_cols(dfs: Dict):\n",
    "    \"\"\"Print all columns of first df in dict.\"\"\"\n",
    "    a_df = list(dfs.values())[0]\n",
    "    print(a_df.shape)\n",
    "    for column in a_df.columns:\n",
    "        print(column)"
   ]
  },
  {
   "cell_type": "code",
   "execution_count": 43,
   "metadata": {},
   "outputs": [],
   "source": [
    "# a_df = list(dfs.values())[0]\n",
    "# display(a_df.filter(like=\"Audit\").head())"
   ]
  },
  {
   "cell_type": "code",
   "execution_count": 63,
   "metadata": {},
   "outputs": [
    {
     "name": "stdout",
     "output_type": "stream",
     "text": [
      "df seems already reduced\n",
      "(21600, 72)\n",
      "df seems already reduced\n",
      "(21583, 72)\n",
      "df seems already reduced\n",
      "(21606, 72)\n",
      "df seems already reduced\n",
      "(18644, 72)\n",
      "df seems already reduced\n",
      "(21582, 72)\n",
      "df seems already reduced\n",
      "(21606, 72)\n",
      "df seems already reduced\n",
      "(21606, 72)\n",
      "df seems already reduced\n",
      "(21606, 72)\n",
      "df seems already reduced\n",
      "(21606, 72)\n",
      "df seems already reduced\n",
      "(21606, 72)\n",
      "df seems already reduced\n",
      "(15815, 71)\n",
      "df seems already reduced\n",
      "(18351, 72)\n"
     ]
    }
   ],
   "source": [
    "# Remove detail of prediction probabilities\n",
    "col1 = \"1rst/2nd prob ratio\"\n",
    "col2 = \"files/epiRR\"\n",
    "for cat, df in dfs.items():\n",
    "    column_names = df.columns\n",
    "    try:\n",
    "        cut_pos_1 = column_names.get_loc(col1)\n",
    "        cut_pos_2 = column_names.get_loc(col2)\n",
    "        df = df.drop(df.columns[cut_pos_1 + 1 : cut_pos_2], axis=1)\n",
    "        df = df.drop(columns=[\"EpiRR\", \"md5sum.1\"])\n",
    "    except KeyError:\n",
    "        print(\"df seems already reduced\")\n",
    "\n",
    "    dfs[cat] = df\n",
    "    print(df.shape)\n",
    "    # if df.shape[1] != 72:\n",
    "    #     print(df.name)\n",
    "    #     raise ValueError(\"wtf\")"
   ]
  },
  {
   "cell_type": "code",
   "execution_count": 64,
   "metadata": {},
   "outputs": [],
   "source": [
    "# cols = set(list(dfs.values())[0].columns)\n",
    "# print(len(cols))\n",
    "# cols - set(dfs[\"harmonized_donor_life_stage_1l_3000n\"].columns)"
   ]
  },
  {
   "cell_type": "code",
   "execution_count": 65,
   "metadata": {},
   "outputs": [],
   "source": [
    "# Drop useless columns\n",
    "for cat, df in dfs.items():\n",
    "    df.replace(to_replace=[\"--empty--\", \"\", \"NA\"], value=np.nan, inplace=True)\n",
    "    df = df.dropna(axis=1, how=\"all\")\n",
    "    dfs[cat] = df"
   ]
  },
  {
   "cell_type": "code",
   "execution_count": 66,
   "metadata": {},
   "outputs": [],
   "source": [
    "# Make all different columns have unique relevant names\n",
    "# https://stackoverflow.com/questions/38101009/changing-multiple-column-names-but-not-all-of-them-pandas-python\n",
    "nb_diff_columns = 13\n",
    "for cat, df in dfs.items():\n",
    "    old_names = df.columns[-nb_diff_columns:]\n",
    "    new_names = [name + f\" {cat}\" for name in old_names if name[-1] != \"n\"]\n",
    "    df.rename(columns=dict(zip(old_names, new_names)), inplace=True)\n",
    "    df.name = cat\n",
    "    dfs[cat] = df\n",
    "    # print(df.columns)"
   ]
  },
  {
   "cell_type": "code",
   "execution_count": 67,
   "metadata": {},
   "outputs": [],
   "source": [
    "# Merge all dataframes\n",
    "df_list = list(dfs.values())\n",
    "df_final = functools.reduce(\n",
    "    lambda left, right: pd.merge(\n",
    "        left, right, on=\"md5sum\", how=\"outer\", suffixes=(None, \"_x\")\n",
    "    ),\n",
    "    df_list,\n",
    ")"
   ]
  },
  {
   "cell_type": "code",
   "execution_count": 69,
   "metadata": {},
   "outputs": [],
   "source": [
    "# Remove duplicate metadata columns (those that end by _x)\n",
    "filtered_final = df_final.filter(regex=r\"^(?:(?!_x).)+$\")"
   ]
  },
  {
   "cell_type": "code",
   "execution_count": 70,
   "metadata": {},
   "outputs": [
    {
     "data": {
      "text/plain": [
       "215"
      ]
     },
     "metadata": {},
     "output_type": "display_data"
    },
    {
     "data": {
      "text/plain": [
       "array(['analyzed_as_stranded', 'antibody', 'assay_epiclass', 'assay_type',\n",
       "       'automated_harmonized_donor_health_status_ontology_curie_ncit',\n",
       "       'automated_harmonized_donor_health_status_ontology_term_high_order',\n",
       "       'automated_harmonized_donor_health_status_ontology_term_high_order_unique',\n",
       "       'automated_harmonized_donor_health_status_ontology_term_intermediate_order',\n",
       "       'automated_harmonized_donor_health_status_ontology_term_intermediate_order_unique',\n",
       "       'automated_harmonized_sample_disease_ontology_curie_ncit',\n",
       "       'automated_harmonized_sample_disease_ontology_term_high_order',\n",
       "       'automated_harmonized_sample_disease_ontology_term_high_order_unique',\n",
       "       'automated_harmonized_sample_disease_ontology_term_intermediate_order',\n",
       "       'automated_harmonized_sample_disease_ontology_term_intermediate_order_unique',\n",
       "       'automated_harmonized_sample_ontology',\n",
       "       'automated_harmonized_sample_ontology_term',\n",
       "       'automated_harmonized_sample_ontology_term_high_order',\n",
       "       'automated_harmonized_sample_ontology_term_high_order_unique',\n",
       "       'automated_harmonized_sample_ontology_term_intermediate_order',\n",
       "       'automated_harmonized_sample_ontology_term_intermediate_order_unique',\n",
       "       'chastity_passed', 'data_file_path', 'data_generating_centre',\n",
       "       'epirr_id', 'experiment_type', 'harmonized_biomaterial_type',\n",
       "       'harmonized_cell_line', 'harmonized_cell_markers',\n",
       "       'harmonized_cell_type', 'harmonized_donor_age',\n",
       "       'harmonized_donor_age_unit', 'harmonized_donor_health_status',\n",
       "       'harmonized_donor_health_status_ontology_curie',\n",
       "       'harmonized_donor_id', 'harmonized_donor_life_stage',\n",
       "       'harmonized_donor_sex', 'harmonized_donor_type',\n",
       "       'harmonized_EpiRR_status', 'harmonized_sample_disease',\n",
       "       'harmonized_sample_disease_high',\n",
       "       'harmonized_sample_disease_intermediate',\n",
       "       'harmonized_sample_disease_ontology_curie',\n",
       "       'harmonized_sample_ontology_curie',\n",
       "       'harmonized_sample_ontology_intermediate',\n",
       "       'harmonized_tissue_type', 'inputs', 'inputs_ctl',\n",
       "       'original_read_length', 'original_read_length_ctl', 'paired_end',\n",
       "       'project', 'sample_ontology_term_high_order_JeffreyHyacinthe',\n",
       "       'sample_ontology_term_high_order_JonathanSteif',\n",
       "       'software_version', 'track_type', 'trimmed_read_length',\n",
       "       'trimmed_read_length_ctl', 'upload_date', 'uuid',\n",
       "       'True class paired_end_1l_3000n',\n",
       "       'Predicted class paired_end_1l_3000n', 'Same? paired_end_1l_3000n',\n",
       "       'Max pred paired_end_1l_3000n',\n",
       "       '2nd pred class paired_end_1l_3000n',\n",
       "       '1rst/2nd prob diff paired_end_1l_3000n',\n",
       "       '1rst/2nd prob ratio paired_end_1l_3000n',\n",
       "       'files/epiRR paired_end_1l_3000n',\n",
       "       'Predicted class Coherence count paired_end_1l_3000n',\n",
       "       'Predicted class Coherence ratio paired_end_1l_3000n',\n",
       "       'files/experiment paired_end_1l_3000n',\n",
       "       'Track type coherence count paired_end_1l_3000n',\n",
       "       'Track type coherence ratio paired_end_1l_3000n',\n",
       "       'True class data_generating_centre_1l_3000n',\n",
       "       'Predicted class data_generating_centre_1l_3000n',\n",
       "       'Same? data_generating_centre_1l_3000n',\n",
       "       'Max pred data_generating_centre_1l_3000n',\n",
       "       '2nd pred class data_generating_centre_1l_3000n',\n",
       "       '1rst/2nd prob diff data_generating_centre_1l_3000n',\n",
       "       '1rst/2nd prob ratio data_generating_centre_1l_3000n',\n",
       "       'files/epiRR data_generating_centre_1l_3000n',\n",
       "       'Predicted class Coherence count data_generating_centre_1l_3000n',\n",
       "       'Predicted class Coherence ratio data_generating_centre_1l_3000n',\n",
       "       'files/experiment data_generating_centre_1l_3000n',\n",
       "       'Track type coherence count data_generating_centre_1l_3000n',\n",
       "       'Track type coherence ratio data_generating_centre_1l_3000n',\n",
       "       'True class harmonized_biomaterial_type_1l_3000n',\n",
       "       'Predicted class harmonized_biomaterial_type_1l_3000n',\n",
       "       'Same? harmonized_biomaterial_type_1l_3000n',\n",
       "       'Max pred harmonized_biomaterial_type_1l_3000n',\n",
       "       '2nd pred class harmonized_biomaterial_type_1l_3000n',\n",
       "       '1rst/2nd prob diff harmonized_biomaterial_type_1l_3000n',\n",
       "       '1rst/2nd prob ratio harmonized_biomaterial_type_1l_3000n',\n",
       "       'files/epiRR harmonized_biomaterial_type_1l_3000n',\n",
       "       'Predicted class Coherence count harmonized_biomaterial_type_1l_3000n',\n",
       "       'Predicted class Coherence ratio harmonized_biomaterial_type_1l_3000n',\n",
       "       'files/experiment harmonized_biomaterial_type_1l_3000n',\n",
       "       'Track type coherence count harmonized_biomaterial_type_1l_3000n',\n",
       "       'Track type coherence ratio harmonized_biomaterial_type_1l_3000n',\n",
       "       'True class harmonized_donor_sex_1l_3000n',\n",
       "       'Predicted class harmonized_donor_sex_1l_3000n',\n",
       "       'Same? harmonized_donor_sex_1l_3000n',\n",
       "       'Max pred harmonized_donor_sex_1l_3000n',\n",
       "       '2nd pred class harmonized_donor_sex_1l_3000n',\n",
       "       '1rst/2nd prob diff harmonized_donor_sex_1l_3000n',\n",
       "       '1rst/2nd prob ratio harmonized_donor_sex_1l_3000n',\n",
       "       'files/epiRR harmonized_donor_sex_1l_3000n',\n",
       "       'Predicted class Coherence count harmonized_donor_sex_1l_3000n',\n",
       "       'Predicted class Coherence ratio harmonized_donor_sex_1l_3000n',\n",
       "       'files/experiment harmonized_donor_sex_1l_3000n',\n",
       "       'Track type coherence count harmonized_donor_sex_1l_3000n',\n",
       "       'Track type coherence ratio harmonized_donor_sex_1l_3000n',\n",
       "       'True class upload_date_2_1l_3000n',\n",
       "       'Predicted class upload_date_2_1l_3000n',\n",
       "       'Same? upload_date_2_1l_3000n', 'Max pred upload_date_2_1l_3000n',\n",
       "       '2nd pred class upload_date_2_1l_3000n',\n",
       "       '1rst/2nd prob diff upload_date_2_1l_3000n',\n",
       "       '1rst/2nd prob ratio upload_date_2_1l_3000n',\n",
       "       'files/epiRR upload_date_2_1l_3000n',\n",
       "       'Predicted class Coherence count upload_date_2_1l_3000n',\n",
       "       'Predicted class Coherence ratio upload_date_2_1l_3000n',\n",
       "       'files/experiment upload_date_2_1l_3000n',\n",
       "       'Track type coherence count upload_date_2_1l_3000n',\n",
       "       'Track type coherence ratio upload_date_2_1l_3000n',\n",
       "       'True class harmonized_EpiRR_status_1l_3000n',\n",
       "       'Predicted class harmonized_EpiRR_status_1l_3000n',\n",
       "       'Same? harmonized_EpiRR_status_1l_3000n',\n",
       "       'Max pred harmonized_EpiRR_status_1l_3000n',\n",
       "       '2nd pred class harmonized_EpiRR_status_1l_3000n',\n",
       "       '1rst/2nd prob diff harmonized_EpiRR_status_1l_3000n',\n",
       "       '1rst/2nd prob ratio harmonized_EpiRR_status_1l_3000n',\n",
       "       'files/epiRR harmonized_EpiRR_status_1l_3000n',\n",
       "       'Predicted class Coherence count harmonized_EpiRR_status_1l_3000n',\n",
       "       'Predicted class Coherence ratio harmonized_EpiRR_status_1l_3000n',\n",
       "       'files/experiment harmonized_EpiRR_status_1l_3000n',\n",
       "       'Track type coherence count harmonized_EpiRR_status_1l_3000n',\n",
       "       'Track type coherence ratio harmonized_EpiRR_status_1l_3000n',\n",
       "       'True class assay_epiclass_1l_3000n',\n",
       "       'Predicted class assay_epiclass_1l_3000n',\n",
       "       'Same? assay_epiclass_1l_3000n',\n",
       "       'Max pred assay_epiclass_1l_3000n',\n",
       "       '2nd pred class assay_epiclass_1l_3000n',\n",
       "       '1rst/2nd prob diff assay_epiclass_1l_3000n',\n",
       "       '1rst/2nd prob ratio assay_epiclass_1l_3000n',\n",
       "       'files/epiRR assay_epiclass_1l_3000n',\n",
       "       'Predicted class Coherence count assay_epiclass_1l_3000n',\n",
       "       'Predicted class Coherence ratio assay_epiclass_1l_3000n',\n",
       "       'files/experiment assay_epiclass_1l_3000n',\n",
       "       'Track type coherence count assay_epiclass_1l_3000n',\n",
       "       'Track type coherence ratio assay_epiclass_1l_3000n',\n",
       "       'True class random_1l_3000n', 'Predicted class random_1l_3000n',\n",
       "       'Same? random_1l_3000n', 'Max pred random_1l_3000n',\n",
       "       '2nd pred class random_1l_3000n',\n",
       "       '1rst/2nd prob diff random_1l_3000n',\n",
       "       '1rst/2nd prob ratio random_1l_3000n',\n",
       "       'files/epiRR random_1l_3000n',\n",
       "       'Predicted class Coherence count random_1l_3000n',\n",
       "       'Predicted class Coherence ratio random_1l_3000n',\n",
       "       'files/experiment random_1l_3000n',\n",
       "       'Track type coherence count random_1l_3000n',\n",
       "       'Track type coherence ratio random_1l_3000n',\n",
       "       'True class harmonized_sample_disease_high_1l_3000n',\n",
       "       'Predicted class harmonized_sample_disease_high_1l_3000n',\n",
       "       'Same? harmonized_sample_disease_high_1l_3000n',\n",
       "       'Max pred harmonized_sample_disease_high_1l_3000n',\n",
       "       '2nd pred class harmonized_sample_disease_high_1l_3000n',\n",
       "       '1rst/2nd prob diff harmonized_sample_disease_high_1l_3000n',\n",
       "       '1rst/2nd prob ratio harmonized_sample_disease_high_1l_3000n',\n",
       "       'files/epiRR harmonized_sample_disease_high_1l_3000n',\n",
       "       'Predicted class Coherence count harmonized_sample_disease_high_1l_3000n',\n",
       "       'Predicted class Coherence ratio harmonized_sample_disease_high_1l_3000n',\n",
       "       'files/experiment harmonized_sample_disease_high_1l_3000n',\n",
       "       'Track type coherence count harmonized_sample_disease_high_1l_3000n',\n",
       "       'Track type coherence ratio harmonized_sample_disease_high_1l_3000n',\n",
       "       'True class harmonized_donor_type_1l_3000n',\n",
       "       'Predicted class harmonized_donor_type_1l_3000n',\n",
       "       'Same? harmonized_donor_type_1l_3000n',\n",
       "       'Max pred harmonized_donor_type_1l_3000n',\n",
       "       '2nd pred class harmonized_donor_type_1l_3000n',\n",
       "       '1rst/2nd prob diff harmonized_donor_type_1l_3000n',\n",
       "       '1rst/2nd prob ratio harmonized_donor_type_1l_3000n',\n",
       "       'files/epiRR harmonized_donor_type_1l_3000n',\n",
       "       'Predicted class Coherence count harmonized_donor_type_1l_3000n',\n",
       "       'Predicted class Coherence ratio harmonized_donor_type_1l_3000n',\n",
       "       'files/experiment harmonized_donor_type_1l_3000n',\n",
       "       'Track type coherence count harmonized_donor_type_1l_3000n',\n",
       "       'Track type coherence ratio harmonized_donor_type_1l_3000n',\n",
       "       'True class harmonized_donor_life_stage_1l_3000n',\n",
       "       'Predicted class harmonized_donor_life_stage_1l_3000n',\n",
       "       'Same? harmonized_donor_life_stage_1l_3000n',\n",
       "       'Max pred harmonized_donor_life_stage_1l_3000n',\n",
       "       '2nd pred class harmonized_donor_life_stage_1l_3000n',\n",
       "       '1rst/2nd prob diff harmonized_donor_life_stage_1l_3000n',\n",
       "       '1rst/2nd prob ratio harmonized_donor_life_stage_1l_3000n',\n",
       "       'files/epiRR harmonized_donor_life_stage_1l_3000n',\n",
       "       'Predicted class Coherence count harmonized_donor_life_stage_1l_3000n',\n",
       "       'Predicted class Coherence ratio harmonized_donor_life_stage_1l_3000n',\n",
       "       'files/experiment harmonized_donor_life_stage_1l_3000n',\n",
       "       'Track type coherence count harmonized_donor_life_stage_1l_3000n',\n",
       "       'Track type coherence ratio harmonized_donor_life_stage_1l_3000n',\n",
       "       'True class harmonized_sample_ontology_intermediate_1l_3000n',\n",
       "       'Predicted class harmonized_sample_ontology_intermediate_1l_3000n',\n",
       "       'Same? harmonized_sample_ontology_intermediate_1l_3000n',\n",
       "       'Max pred harmonized_sample_ontology_intermediate_1l_3000n',\n",
       "       '2nd pred class harmonized_sample_ontology_intermediate_1l_3000n',\n",
       "       '1rst/2nd prob diff harmonized_sample_ontology_intermediate_1l_3000n',\n",
       "       '1rst/2nd prob ratio harmonized_sample_ontology_intermediate_1l_3000n',\n",
       "       'files/epiRR harmonized_sample_ontology_intermediate_1l_3000n',\n",
       "       'Predicted class Coherence count harmonized_sample_ontology_intermediate_1l_3000n',\n",
       "       'Predicted class Coherence ratio harmonized_sample_ontology_intermediate_1l_3000n',\n",
       "       'files/experiment harmonized_sample_ontology_intermediate_1l_3000n',\n",
       "       'Track type coherence count harmonized_sample_ontology_intermediate_1l_3000n',\n",
       "       'Track type coherence ratio harmonized_sample_ontology_intermediate_1l_3000n'],\n",
       "      dtype=object)"
      ]
     },
     "metadata": {},
     "output_type": "display_data"
    }
   ],
   "source": [
    "cols = filtered_final.columns.values\n",
    "display(len(cols), cols)"
   ]
  },
  {
   "cell_type": "code",
   "execution_count": 71,
   "metadata": {},
   "outputs": [],
   "source": [
    "filtered_final.to_csv(OUTPUT_NAME)"
   ]
  },
  {
   "cell_type": "code",
   "execution_count": null,
   "metadata": {},
   "outputs": [],
   "source": []
  }
 ],
 "metadata": {
  "kernelspec": {
   "display_name": "venv-epilap-pytorch",
   "language": "python",
   "name": "python3"
  },
  "language_info": {
   "codemirror_mode": {
    "name": "ipython",
    "version": 3
   },
   "file_extension": ".py",
   "mimetype": "text/x-python",
   "name": "python",
   "nbconvert_exporter": "python",
   "pygments_lexer": "ipython3",
   "version": "3.8.10"
  },
  "orig_nbformat": 4
 },
 "nbformat": 4,
 "nbformat_minor": 2
}

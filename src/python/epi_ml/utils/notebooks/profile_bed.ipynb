{
 "cells": [
  {
   "cell_type": "code",
   "execution_count": null,
   "metadata": {},
   "outputs": [],
   "source": [
    "\"\"\"Perform gene ontology analysis on bed files.\"\"\"\n",
    "# pylint: disable=import-error\n",
    "from __future__ import annotations\n",
    "\n",
    "import re\n",
    "import subprocess\n",
    "from pathlib import Path\n",
    "\n",
    "import gffpandas.gffpandas as gffpd\n",
    "import pandas as pd\n",
    "from gprofiler import GProfiler\n",
    "\n",
    "from epi_ml.utils.general_utility import get_valid_filename"
   ]
  },
  {
   "cell_type": "code",
   "execution_count": null,
   "metadata": {},
   "outputs": [],
   "source": [
    "base_path = Path.home() / \"Projects/epilap\""
   ]
  },
  {
   "cell_type": "markdown",
   "metadata": {},
   "source": [
    "## Taking care of the gff file"
   ]
  },
  {
   "cell_type": "code",
   "execution_count": null,
   "metadata": {},
   "outputs": [],
   "source": [
    "gff_path = base_path / \"input\" / \"gff\" / \"Homo_sapiens.GRCh38.109.chr.gff3\"\n",
    "\n",
    "gff_df = gffpd.read_gff3(gff_path)"
   ]
  },
  {
   "cell_type": "code",
   "execution_count": null,
   "metadata": {},
   "outputs": [],
   "source": [
    "accepted_types = [\n",
    "    source\n",
    "    for source in gff_df.df[\"type\"].unique().tolist()\n",
    "    if \"gene\" in source and \"segment\" not in source\n",
    "]"
   ]
  },
  {
   "cell_type": "code",
   "execution_count": null,
   "metadata": {},
   "outputs": [],
   "source": [
    "gff_df = gff_df.filter_feature_of_type(accepted_types)"
   ]
  },
  {
   "cell_type": "code",
   "execution_count": null,
   "metadata": {},
   "outputs": [],
   "source": [
    "gff_df.df[\"seq_id\"] = \"chr\" + gff_df.df[\"seq_id\"].astype(str)"
   ]
  },
  {
   "cell_type": "code",
   "execution_count": null,
   "metadata": {},
   "outputs": [],
   "source": [
    "gff_df.df.head()"
   ]
  },
  {
   "cell_type": "code",
   "execution_count": null,
   "metadata": {},
   "outputs": [],
   "source": [
    "gff_df.to_gff3(gff_path.parent / \"Homo_sapiens.GRCh38.109.chr.filtered.gff3\")"
   ]
  },
  {
   "cell_type": "markdown",
   "metadata": {},
   "source": [
    "Also had to modify ##sequence-region header to add 'chr'."
   ]
  },
  {
   "cell_type": "markdown",
   "metadata": {},
   "source": [
    "## Using bedtools intersect\n",
    "\n",
    "Use biggest file as B."
   ]
  },
  {
   "cell_type": "code",
   "execution_count": null,
   "metadata": {},
   "outputs": [],
   "source": [
    "bed_base_dir = (\n",
    "    base_path\n",
    "    / \"output/logs/epiatlas-dfreeze-v2.1/hg38_100kb_all_none/shap/harmonized_sample_ontology_intermediate_1l_3000n/10fold/split0/shap/rna_only/frequent_features/feature_frequency_method\"\n",
    ")"
   ]
  },
  {
   "cell_type": "code",
   "execution_count": null,
   "metadata": {},
   "outputs": [],
   "source": [
    "bedtools_path = Path.home() / \"downloads\" / \"installations\" / \"bedtools\"\n",
    "gff_path = base_path / \"input\" / \"gff\" / \"Homo_sapiens.GRCh38.109.chr.filtered.gff3\""
   ]
  },
  {
   "cell_type": "code",
   "execution_count": null,
   "metadata": {},
   "outputs": [],
   "source": [
    "if not bed_base_dir.exists():\n",
    "    raise ValueError(f\"{bed_base_dir} does not exist.\")"
   ]
  },
  {
   "cell_type": "code",
   "execution_count": null,
   "metadata": {},
   "outputs": [],
   "source": [
    "for bed_folder in bed_base_dir.iterdir():\n",
    "    # only looking into folders at first level\n",
    "    if bed_folder.is_file():\n",
    "        continue\n",
    "\n",
    "    category_name = get_valid_filename(bed_folder.name)\n",
    "\n",
    "    for bed_file in bed_folder.glob(\"*.bed\"):\n",
    "        class_label = re.search(\n",
    "            pattern=r\"frequent_features_\\d+_(.*?)\\.bed\", string=str(bed_file)\n",
    "        )[1]\n",
    "        print(category_name, class_label)\n",
    "\n",
    "        results_filename = f\"{category_name}_{bed_file.stem}_intersect.tsv\"\n",
    "        result_path = bed_folder / results_filename\n",
    "\n",
    "        # don't redo work\n",
    "        if result_path.is_file():\n",
    "            continue\n",
    "\n",
    "        print(results_filename)\n",
    "\n",
    "        cmd = [\n",
    "            str(bedtools_path),\n",
    "            \"intersect\",\n",
    "            \"-a\",\n",
    "            str(bed_file),\n",
    "            \"-b\",\n",
    "            str(gff_path),\n",
    "            \"-wo\",\n",
    "            \"-F\",\n",
    "            \"0.5\",\n",
    "        ]\n",
    "        output = subprocess.check_output(cmd).decode()\n",
    "\n",
    "        print(f\"Writing to {result_path}\")\n",
    "        with open(result_path, \"w\", encoding=\"utf8\") as out:\n",
    "            out.writelines(output)"
   ]
  },
  {
   "cell_type": "markdown",
   "metadata": {},
   "source": [
    "## Using gProfiler"
   ]
  },
  {
   "cell_type": "code",
   "execution_count": null,
   "metadata": {},
   "outputs": [],
   "source": [
    "gp = GProfiler(return_dataframe=True)"
   ]
  },
  {
   "cell_type": "code",
   "execution_count": null,
   "metadata": {},
   "outputs": [],
   "source": [
    "for intersect_file in bed_base_dir.rglob(\"*_intersect.tsv\"):\n",
    "    # Don't redo work\n",
    "    new_file = intersect_file.parent / f\"{intersect_file.stem}_gprofiler.tsv\"\n",
    "    if new_file.is_file():\n",
    "        continue\n",
    "\n",
    "    try:\n",
    "        intersect_df = pd.read_csv(intersect_file, sep=\"\\t\", header=None)\n",
    "    except pd.errors.EmptyDataError:\n",
    "        continue\n",
    "    genes = intersect_df[11].str.extract(r\"ID=gene:(\\w+);\").drop_duplicates()\n",
    "    genes_list = list(genes[0].values)\n",
    "\n",
    "    print(f\"Writing GO results to {new_file}\")\n",
    "    go_profile = gp.profile(query=genes_list)\n",
    "    go_profile.to_csv(new_file, sep=\"\\t\", index=False)"
   ]
  }
 ],
 "metadata": {
  "kernelspec": {
   "display_name": "epiclass",
   "language": "python",
   "name": "python3"
  },
  "language_info": {
   "codemirror_mode": {
    "name": "ipython",
    "version": 3
   },
   "file_extension": ".py",
   "mimetype": "text/x-python",
   "name": "python",
   "nbconvert_exporter": "python",
   "pygments_lexer": "ipython3",
   "version": "3.8.10"
  }
 },
 "nbformat": 4,
 "nbformat_minor": 2
}

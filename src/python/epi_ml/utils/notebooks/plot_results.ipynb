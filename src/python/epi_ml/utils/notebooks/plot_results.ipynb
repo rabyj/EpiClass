{
 "cells": [
  {
   "cell_type": "code",
   "execution_count": null,
   "metadata": {},
   "outputs": [],
   "source": [
    "\"\"\"Create plots of some results.\"\"\"\n",
    "# pylint: disable=import-error,redefined-outer-name"
   ]
  },
  {
   "cell_type": "code",
   "execution_count": null,
   "metadata": {},
   "outputs": [],
   "source": [
    "from pathlib import Path\n",
    "\n",
    "import matplotlib.pyplot as plt\n",
    "import pandas as pd\n",
    "import seaborn as sns\n",
    "from matplotlib.ticker import PercentFormatter"
   ]
  },
  {
   "cell_type": "markdown",
   "metadata": {},
   "source": [
    "## All classifiers performance comparison"
   ]
  },
  {
   "cell_type": "code",
   "execution_count": null,
   "metadata": {},
   "outputs": [],
   "source": [
    "file_path = Path.home() / \"downloads\" / \"temp\" / \"all_metrics - Pivot Table 1.csv\""
   ]
  },
  {
   "cell_type": "code",
   "execution_count": null,
   "metadata": {},
   "outputs": [],
   "source": [
    "def create_metrics_df(file_path: Path) -> pd.DataFrame:\n",
    "    \"\"\"Create a dataframe from the csv file.\"\"\"\n",
    "    metrics_df = pd.read_csv(file_path)\n",
    "\n",
    "    # Fill missing values in the 'classifier' column using forward fill method\n",
    "    metrics_df[\"classifier\"] = metrics_df[\"classifier\"].fillna(method=\"ffill\")\n",
    "\n",
    "    # Rename columns to match the desired format\n",
    "    metrics_df.rename(\n",
    "        columns={\n",
    "            \"classifier\": \"Classifier\",\n",
    "            \"metric\": \"Metric\",\n",
    "            \"AVERAGE of value\": \"Average\",\n",
    "            \"STDEV of value\": \"Std\",\n",
    "        },\n",
    "        inplace=True,\n",
    "    )"
   ]
  },
  {
   "cell_type": "code",
   "execution_count": null,
   "metadata": {},
   "outputs": [],
   "source": [
    "def plot_classifiers_performance(metrics_df: pd.DataFrame) -> None:\n",
    "    \"\"\"Plot the performance of multiple classifiers.\"\"\"\n",
    "    # Set the figure size\n",
    "    plt.figure(figsize=(10, 6))\n",
    "\n",
    "    # Create a bar plot without error bars\n",
    "    barplot = sns.barplot(\n",
    "        data=metrics_df, x=\"Classifier\", y=\"Average\", hue=\"Metric\", errorbar=None\n",
    "    )\n",
    "\n",
    "    # Get the x and y coordinates of the bars\n",
    "    x_coords = []\n",
    "    y_coords = []\n",
    "    for rect in barplot.patches:\n",
    "        x_coords.append(rect.get_x() + rect.get_width() / 2)\n",
    "        y_coords.append(rect.get_height())\n",
    "\n",
    "    # Calculate the number of metrics and classifiers to determine the positions of the error bars\n",
    "    num_metrics = metrics_df[\"Metric\"].nunique()\n",
    "    num_classifiers = metrics_df[\"Classifier\"].nunique()\n",
    "\n",
    "    # Add the error bars\n",
    "    for i in range(num_classifiers):\n",
    "        for j in range(num_metrics):\n",
    "            barplot.errorbar(\n",
    "                x_coords[i * num_metrics + j],\n",
    "                y_coords[i * num_metrics + j],\n",
    "                yerr=metrics_df[\"Std\"][i * num_metrics + j],\n",
    "                color=\"black\",\n",
    "                capsize=3,\n",
    "                fmt=\"none\",\n",
    "            )\n",
    "\n",
    "    # Set the y-axis limits center the value distribution\n",
    "    plt.ylim(min(y_coords) - 0.025, min(max(y_coords) + 0.025, 1))  # type: ignore\n",
    "\n",
    "    # Scale the y-axis to percentage\n",
    "    plt.gca().yaxis.set_major_formatter(PercentFormatter(1))\n",
    "\n",
    "    plt.title(\"Classifier Performance\")\n",
    "    plt.ylabel(\"Performance\")\n",
    "\n",
    "    # Move the legend outside the plot\n",
    "    plt.legend(bbox_to_anchor=(1.05, 1), loc=2, borderaxespad=0.0)\n",
    "\n",
    "    plt.show()"
   ]
  }
 ],
 "metadata": {
  "kernelspec": {
   "display_name": "epiclass",
   "language": "python",
   "name": "python3"
  },
  "language_info": {
   "codemirror_mode": {
    "name": "ipython",
    "version": 3
   },
   "file_extension": ".py",
   "mimetype": "text/x-python",
   "name": "python",
   "nbconvert_exporter": "python",
   "pygments_lexer": "ipython3",
   "version": "3.8.10"
  },
  "orig_nbformat": 4
 },
 "nbformat": 4,
 "nbformat_minor": 2
}

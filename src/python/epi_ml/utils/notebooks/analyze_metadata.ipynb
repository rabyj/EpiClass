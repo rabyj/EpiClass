{
  "cells": [
    {
      "cell_type": "code",
      "execution_count": null,
      "metadata": {},
      "outputs": [],
      "source": [
        "\"\"\"Workbooks to analyze metadata.\"\"\"\n",
        "# pylint: disable=import-error, redefined-outer-name"
      ]
    },
    {
      "cell_type": "code",
      "execution_count": null,
      "metadata": {},
      "outputs": [],
      "source": [
        "from __future__ import annotations\n",
        "\n",
        "import copy\n",
        "import os\n",
        "from collections import Counter, defaultdict\n",
        "from pathlib import Path\n",
        "from typing import DefaultDict, List\n",
        "\n",
        "from epi_ml.core.metadata import Metadata, UUIDMetadata, env_filtering\n",
        "from epi_ml.utils.modify_metadata import filter_by_pairs\n",
        "\n",
        "# import numpy as np\n",
        "# import pandas as pd\n",
        "# from IPython.display import display\n",
        "\n",
        "# from epi_ml.core.epiatlas_treatment import ACCEPTED_TRACKS\n",
        "# from epi_ml.core.metadata import Metadata, UUIDMetadata, env_filtering\n",
        "# from epi_ml.utils.metadata_utils import EPIATLAS_ASSAYS, count_pairs, make_table\n",
        "# from epi_ml.utils.modify_metadata import filter_by_pairs\n",
        "\n",
        "\n",
        "BIOMATERIAL_TYPE = \"harmonized_biomaterial_type\"\n",
        "CELL_TYPE = \"harmonized_sample_ontology_intermediate\"\n",
        "ASSAY = \"assay_epiclass\"\n",
        "SEX = \"harmonized_donor_sex\"\n",
        "CANCER = \"harmonized_sample_cancer_high\"\n",
        "DISEASE = \"harmonized_sample_disease_high\"\n",
        "LIFE_STAGE = \"harmonized_donor_life_stage\""
      ]
    },
    {
      "cell_type": "code",
      "execution_count": null,
      "metadata": {},
      "outputs": [],
      "source": [
        "base = Path().home() / \"Projects/epilap/input/metadata\"\n",
        "# path = base / \"hg38_2023_epiatlas_dfreeze_plus_encode_noncore_formatted_JR.json\"\n",
        "# path = base / \"hg38_2023_epiatlas_dfreeze_formatted_JR.json\"\n",
        "# path = base / \"dfreeze-v2\" / \"hg38_2023-epiatlas-dfreeze-pospurge-nodup_filterCtl.json\"\n",
        "path = base / \"dfreeze-v2\" / \"hg38_2023-epiatlas-dfreeze_v2.1_w_encode_noncore_2.json\"\n",
        "my_metadata = Metadata(path)"
      ]
    },
    {
      "cell_type": "code",
      "execution_count": null,
      "metadata": {},
      "outputs": [],
      "source": [
        "def display_gen_info(metadata: Metadata):\n",
        "    \"\"\"Display track type, assay and cell type class counts.\"\"\"\n",
        "    metadata.display_labels(\"track_type\")\n",
        "    metadata.display_labels(ASSAY)\n",
        "    metadata.display_labels(CELL_TYPE)\n",
        "    # metadata.display_labels(SEX)\n",
        "    # metadata.display_labels(CANCER)\n",
        "    # metadata.display_labels(DISEASE)\n",
        "    metadata.display_labels(LIFE_STAGE)"
      ]
    },
    {
      "cell_type": "code",
      "execution_count": null,
      "metadata": {},
      "outputs": [],
      "source": [
        "def count_trios(metadata: Metadata) -> Counter:\n",
        "    \"\"\"\n",
        "    Count the occurrences of unique (track_type, assay, cell_type) trios in the metadata.\n",
        "\n",
        "    Returns:\n",
        "        Counter: A Counter object of the unique trios.\n",
        "    \"\"\"\n",
        "    trios = Counter(\n",
        "        [(dset[\"track_type\"], dset[ASSAY], dset[CELL_TYPE]) for dset in metadata.datasets]\n",
        "    )\n",
        "    return trios"
      ]
    },
    {
      "cell_type": "code",
      "execution_count": null,
      "metadata": {},
      "outputs": [],
      "source": [
        "def count_pairs_w_assay(metadata: Metadata, category: str) -> DefaultDict[str, Counter]:\n",
        "    \"\"\"\n",
        "    Count the occurrences of each cell type for each assay in the dataset.\n",
        "\n",
        "    Returns:\n",
        "        defaultdict(Counter): A defaultdict of Counter objects with the count of cell types per assay.\n",
        "    \"\"\"\n",
        "    pair_count = defaultdict(Counter)\n",
        "    for dset in metadata.datasets:\n",
        "        assay, other_label = dset[ASSAY], dset[category]\n",
        "        pair_count[assay].update([other_label])\n",
        "    return pair_count\n",
        "\n",
        "\n",
        "def select_cell_types(metadata: Metadata, n=70) -> DefaultDict[str, List]:\n",
        "    \"\"\"\n",
        "    Determines which cell types are needed to attain n datasets, for a given assay.\n",
        "    Starts with T cell and then selects the most common cell types.\n",
        "\n",
        "    Args:\n",
        "        metadata (Metadata): A Metadata object containing dataset metadata.\n",
        "        n (int, optional): Maximum number of cell types to select for each assay. Defaults to 70.\n",
        "\n",
        "    Returns:\n",
        "        defaultdict(list): A defaultdict with selected cell types for each assay.\n",
        "    \"\"\"\n",
        "    cell_count = count_pairs_w_assay(metadata, CELL_TYPE)\n",
        "\n",
        "    selected_ct = defaultdict(list)\n",
        "    for assay, counter in cell_count.items():\n",
        "        selected_ct[assay].append(\"T cell\")\n",
        "        i = min(counter[\"T cell\"], n)\n",
        "        del counter[\"T cell\"]\n",
        "        while i < n and counter:\n",
        "            for cell_type, count in counter.most_common():\n",
        "                i += min(count, n - i)\n",
        "                selected_ct[assay].append(cell_type)\n",
        "                del counter[cell_type]\n",
        "                break\n",
        "        if i < n:\n",
        "            print(f\"There is not at least {n} files for {assay}. Final number={i}\")\n",
        "\n",
        "    return selected_ct"
      ]
    },
    {
      "cell_type": "code",
      "execution_count": null,
      "metadata": {},
      "outputs": [],
      "source": [
        "display_gen_info(my_metadata)"
      ]
    },
    {
      "cell_type": "code",
      "execution_count": null,
      "metadata": {},
      "outputs": [],
      "source": [
        "# for cat in my_metadata.get_categories():\n",
        "#     print(cat)\n",
        "\n",
        "# my_metadata.display_labels(\"groups_second_level_name\")\n",
        "# other_meta = UUIDMetadata.from_metadata(my_metadata)\n",
        "# other_meta.display_uuid_per_class(\"groups_second_level_name\")\n",
        "# my_metadata.display_labels(\"data_generating_centre\")\n",
        "# my_metadata.select_category_subsets(\"project\", [\"EpiHK\"])"
      ]
    },
    {
      "cell_type": "code",
      "execution_count": null,
      "metadata": {},
      "outputs": [],
      "source": [
        "# cat2 = \"groups_second_level_name\"\n",
        "cat2 = \"harmonized_sample_ontology_intermediate\"\n",
        "\n",
        "# os.environ[\"REMOVE_TRACKS\"] = '[\"fc\", \"pval\"]'\n",
        "os.environ[\"REMOVE_TRACKS\"] = '[\"fc\", \"raw\"]'\n",
        "# os.environ[\"REMOVE_TRACKS\"] = '[\"fc\"]'\n",
        "os.environ[\"EXCLUDE_LIST\"] = '[\"other\", \"--\", \"NA\", \"\"]'\n",
        "os.environ[\"MIN_CLASS_SIZE\"] = \"10\"\n",
        "\n",
        "meta = UUIDMetadata.from_metadata((copy.deepcopy(my_metadata)))\n",
        "\n",
        "# meta.display_uuid_per_class(\"assay_epiclass\")\n",
        "# meta.display_labels(\"track_type\")\n",
        "\n",
        "env_filtering(meta, cat2)\n",
        "# meta.remove_category_subsets(\"track_type\", [\"fc\", \"pval\", \"Unique_raw\"])\n",
        "# meta.display_labels(\"track_type\")\n",
        "# meta.display_labels(\"assay_epiclass\")\n",
        "\n",
        "new_meta = filter_by_pairs(meta, ASSAY, cat2, nb_pairs=9, min_per_pair=10, use_uuid=True)\n",
        "# new_meta.display_uuid_per_class(\"assay_epiclass\")\n",
        "# new_meta.display_labels(\"track_type\")\n",
        "# UUIDMetadata.from_metadata(new_meta).display_uuid_per_class(cat2)"
      ]
    }
  ],
  "metadata": {
    "kernelspec": {
      "display_name": "venv-epilap-pytorch",
      "language": "python",
      "name": "python3"
    },
    "language_info": {
      "codemirror_mode": {
        "name": "ipython",
        "version": 3
      },
      "file_extension": ".py",
      "mimetype": "text/x-python",
      "name": "python",
      "nbconvert_exporter": "python",
      "pygments_lexer": "ipython3",
      "version": "3.8.10"
    },
    "orig_nbformat": 4
  },
  "nbformat": 4,
  "nbformat_minor": 2
}

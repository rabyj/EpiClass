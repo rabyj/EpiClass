{
 "cells": [
  {
   "cell_type": "code",
   "execution_count": null,
   "metadata": {},
   "outputs": [],
   "source": [
    "\"\"\"Find sample input size for neural network trainings logged on comet.ml\"\"\"\n",
    "# pylint: disable=import-error, redefined-outer-name"
   ]
  },
  {
   "cell_type": "code",
   "execution_count": null,
   "metadata": {},
   "outputs": [],
   "source": [
    "from __future__ import annotations\n",
    "\n",
    "from datetime import datetime\n",
    "from pathlib import Path\n",
    "from typing import List\n",
    "\n",
    "import pandas as pd\n",
    "from comet_ml.api import API"
   ]
  },
  {
   "cell_type": "code",
   "execution_count": null,
   "metadata": {},
   "outputs": [],
   "source": [
    "api = API()"
   ]
  },
  {
   "cell_type": "code",
   "execution_count": null,
   "metadata": {},
   "outputs": [],
   "source": [
    "def select_time_slice(api: API, date1: str, date2: str) -> List[str]:\n",
    "    \"\"\"Select experiments within a time slice.\n",
    "\n",
    "    Args:\n",
    "        api: comet.ml API object\n",
    "        date1 (str): start date, ISO format\n",
    "        date2 (str): end date, ISO format\n",
    "    Returns:\n",
    "        List[str]: List of experiment keys\n",
    "    \"\"\"\n",
    "    valid_list = []\n",
    "    for experiment in api.get(\"rabyj/epilap\"):\n",
    "        meta = experiment.get_metadata()\n",
    "        time = int(meta[\"startTimeMillis\"]) / 1000\n",
    "        time = datetime.utcfromtimestamp(time)\n",
    "        is_within_date = (\n",
    "            datetime.fromisoformat(date1) < time < datetime.fromisoformat(date2)\n",
    "        )\n",
    "        if is_within_date:\n",
    "            valid_list.append(experiment.key)\n",
    "\n",
    "    return valid_list"
   ]
  },
  {
   "cell_type": "code",
   "execution_count": null,
   "metadata": {},
   "outputs": [],
   "source": [
    "date1 = \"2024-01-01\"\n",
    "date2 = \"2024-03-01\"\n",
    "experiments = select_time_slice(api, date1, date2)"
   ]
  },
  {
   "cell_type": "code",
   "execution_count": null,
   "metadata": {},
   "outputs": [],
   "source": [
    "input_sizes = {}\n",
    "for experiment in api.get(\"rabyj/epilap\"):\n",
    "    for hparam_dict in experiment.get_parameters_summary():\n",
    "        if hparam_dict[\"name\"] == \"input_size\":\n",
    "            input_size = int(hparam_dict[\"valueMax\"])\n",
    "            meta = experiment.get_metadata()\n",
    "            input_sizes[meta[\"experimentKey\"]] = input_size"
   ]
  },
  {
   "cell_type": "code",
   "execution_count": null,
   "metadata": {},
   "outputs": [],
   "source": [
    "input_sizes_df = pd.DataFrame.from_dict(\n",
    "    data=input_sizes, orient=\"index\", columns=[\"input_size\"]\n",
    ")"
   ]
  },
  {
   "cell_type": "code",
   "execution_count": null,
   "metadata": {},
   "outputs": [],
   "source": [
    "input_sizes_df.to_csv(\"input_sizes.csv\")"
   ]
  },
  {
   "cell_type": "code",
   "execution_count": null,
   "metadata": {},
   "outputs": [],
   "source": [
    "global_log_df = pd.read_csv(\n",
    "    Path.home() / \"Downloads/temp/cometml_dfreeze2.1_logs.csv\", index_col=False, header=0\n",
    ")"
   ]
  },
  {
   "cell_type": "code",
   "execution_count": null,
   "metadata": {},
   "outputs": [],
   "source": [
    "joined_df = global_log_df.merge(\n",
    "    input_sizes_df, left_on=\"Experiment key\", right_index=True, how=\"left\"\n",
    ")"
   ]
  },
  {
   "cell_type": "code",
   "execution_count": null,
   "metadata": {},
   "outputs": [],
   "source": [
    "new_in_s_df = (\n",
    "    joined_df[[\"Experiment key\", \"input_size\"]].set_index(\"Experiment key\").sort_index()\n",
    ")"
   ]
  },
  {
   "cell_type": "code",
   "execution_count": null,
   "metadata": {},
   "outputs": [],
   "source": [
    "new_in_s_df.to_csv(Path.home() / \"Downloads/temp/new_input_sizes.csv\")"
   ]
  }
 ],
 "metadata": {
  "kernelspec": {
   "display_name": "epiclass",
   "language": "python",
   "name": "python3"
  },
  "language_info": {
   "codemirror_mode": {
    "name": "ipython",
    "version": 3
   },
   "file_extension": ".py",
   "mimetype": "text/x-python",
   "name": "python",
   "nbconvert_exporter": "python",
   "pygments_lexer": "ipython3",
   "version": "3.8.10"
  }
 },
 "nbformat": 4,
 "nbformat_minor": 2
}

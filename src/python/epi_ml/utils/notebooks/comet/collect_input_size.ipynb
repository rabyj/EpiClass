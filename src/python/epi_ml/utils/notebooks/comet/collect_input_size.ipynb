{
 "cells": [
  {
   "cell_type": "code",
   "execution_count": 1,
   "metadata": {},
   "outputs": [],
   "source": [
    "\"\"\"Find sample input size for neural network trainings logged on comet.ml\"\"\"\n",
    "# pylint: disable=import-error, redefined-outer-name"
   ]
  },
  {
   "cell_type": "code",
   "execution_count": 2,
   "metadata": {},
   "outputs": [],
   "source": [
    "from __future__ import annotations\n",
    "\n",
    "from pathlib import Path\n",
    "from typing import Dict\n",
    "\n",
    "import pandas as pd\n",
    "from comet_ml.api import API"
   ]
  },
  {
   "cell_type": "code",
   "execution_count": null,
   "metadata": {},
   "outputs": [],
   "source": [
    "api = API()"
   ]
  },
  {
   "cell_type": "code",
   "execution_count": null,
   "metadata": {},
   "outputs": [],
   "source": [
    "def collect_input_sizes(api: API) -> Dict[str, int]:\n",
    "    \"\"\"Collect NN input sizes metadata from comet.ml.\"\"\"\n",
    "    input_sizes = {}\n",
    "    for experiment in api.get(\"rabyj/epilap\"):  # type: ignore\n",
    "        for hparam_dict in experiment.get_parameters_summary():\n",
    "            if hparam_dict[\"name\"] == \"input_size\":\n",
    "                input_size = int(hparam_dict[\"valueMax\"])\n",
    "                meta = experiment.get_metadata()\n",
    "                input_sizes[meta[\"experimentKey\"]] = input_size\n",
    "    return input_sizes"
   ]
  },
  {
   "cell_type": "code",
   "execution_count": null,
   "metadata": {},
   "outputs": [],
   "source": [
    "input_sizes = collect_input_sizes(api)"
   ]
  },
  {
   "cell_type": "code",
   "execution_count": null,
   "metadata": {},
   "outputs": [],
   "source": [
    "input_sizes_df = pd.DataFrame.from_dict(\n",
    "    data=input_sizes, orient=\"index\", columns=[\"input_size\"]\n",
    ")\n",
    "input_sizes_df.to_csv(\"input_sizes.csv\")"
   ]
  },
  {
   "cell_type": "markdown",
   "metadata": {},
   "source": [
    "Merge input size with comet-ML general log."
   ]
  },
  {
   "cell_type": "code",
   "execution_count": null,
   "metadata": {},
   "outputs": [],
   "source": [
    "global_log_df = pd.read_csv(\n",
    "    Path.home() / \"Downloads/temp/cometml_dfreeze2.1_logs.csv\", index_col=False, header=0\n",
    ")\n",
    "\n",
    "joined_df = global_log_df.merge(\n",
    "    input_sizes_df, left_on=\"Experiment key\", right_index=True, how=\"left\"\n",
    ")\n",
    "\n",
    "new_input_size_df = (\n",
    "    joined_df[[\"Experiment key\", \"input_size\"]].set_index(\"Experiment key\").sort_index()\n",
    ")\n",
    "new_input_size_df.to_csv(Path.home() / \"Downloads/temp/new_input_sizes.csv\")"
   ]
  }
 ],
 "metadata": {
  "kernelspec": {
   "display_name": "epiclass",
   "language": "python",
   "name": "python3"
  },
  "language_info": {
   "codemirror_mode": {
    "name": "ipython",
    "version": 3
   },
   "file_extension": ".py",
   "mimetype": "text/x-python",
   "name": "python",
   "nbconvert_exporter": "python",
   "pygments_lexer": "ipython3",
   "version": "3.8.10"
  }
 },
 "nbformat": 4,
 "nbformat_minor": 2
}

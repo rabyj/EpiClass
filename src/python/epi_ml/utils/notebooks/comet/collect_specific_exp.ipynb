{
 "cells": [
  {
   "cell_type": "code",
   "execution_count": null,
   "metadata": {},
   "outputs": [],
   "source": [
    "\"\"\"Collect from comet-ml results using a list of experimental keys.\"\"\"\n",
    "\n",
    "# pylint: disable=import-error, redefined-outer-name, too-many-branches, unnecessary-lambda"
   ]
  },
  {
   "cell_type": "markdown",
   "metadata": {},
   "source": [
    "## SETUP"
   ]
  },
  {
   "cell_type": "code",
   "execution_count": null,
   "metadata": {},
   "outputs": [],
   "source": [
    "from __future__ import annotations\n",
    "\n",
    "from pathlib import Path\n",
    "from typing import Any, Dict\n",
    "\n",
    "import pandas as pd\n",
    "from comet_ml.api import API, APIExperiment\n",
    "from tqdm import tqdm"
   ]
  },
  {
   "cell_type": "code",
   "execution_count": 97,
   "metadata": {},
   "outputs": [],
   "source": [
    "api = API()"
   ]
  },
  {
   "cell_type": "markdown",
   "metadata": {},
   "source": [
    "## Initial download"
   ]
  },
  {
   "cell_type": "code",
   "execution_count": null,
   "metadata": {},
   "outputs": [],
   "source": [
    "paper_dir = Path.home() / \"Projects\" / \"epiclass\" / \"output\" / \"paper\"\n",
    "exp_list_path = paper_dir / \"tables\" / \"training_experiment_keys.csv\"\n",
    "exp_df = pd.read_csv(exp_list_path, low_memory=False)\n",
    "print(exp_df.shape)\n",
    "print(exp_df.columns)"
   ]
  },
  {
   "cell_type": "code",
   "execution_count": null,
   "metadata": {},
   "outputs": [],
   "source": [
    "exp_keys = set(exp_df[\"exp_key\"].tolist())\n",
    "print(len(exp_keys))"
   ]
  },
  {
   "cell_type": "code",
   "execution_count": null,
   "metadata": {},
   "outputs": [],
   "source": [
    "# get_metadata(), direct\n",
    "needed_meta = [\"startTimeMillis\"]\n",
    "\n",
    "# get_git_metadata(), direct\n",
    "needed_git_meta = [\"parent\"]\n",
    "\n",
    "# get_others_summary(), elem\n",
    "needed_others = [\n",
    "    \"category\",\n",
    "    \"Code version / commit\",\n",
    "    \"Name\",\n",
    "    \"SLURM_JOB_ID\",\n",
    "    \"Total nb of files\",\n",
    "    \"Training size\",\n",
    "    \"Validation size\",\n",
    "    \"train size\",\n",
    "    \"validation size\",\n",
    "]\n",
    "\n",
    "# get_parameters_summary(), elem\n",
    "needed_parameters = [\n",
    "    \"output_size\",\n",
    "]\n",
    "\n",
    "# get_metrics_summary, elem\n",
    "needed_metrics = [\"tra_Accuracy\", \"tra_F1Score\", \"val_Accuracy\", \"val_F1Score\"]"
   ]
  },
  {
   "cell_type": "code",
   "execution_count": null,
   "metadata": {},
   "outputs": [],
   "source": [
    "def collect_exp_info(exp_key: str) -> Dict[str, Any]:\n",
    "    \"\"\"Collect experiment info from comet-ml using the API.\n",
    "\n",
    "    Args:\n",
    "        exp_key (str): Experiment key.\n",
    "\n",
    "    Returns:\n",
    "        Dict[str, Any]: Collected info.\n",
    "    \"\"\"\n",
    "    exp_data: APIExperiment = api.get_experiment_by_key(exp_key)  # type: ignore\n",
    "    collected_info: Dict[str, Any] = {}\n",
    "    collected_info[\"Experiment key\"] = exp_key\n",
    "\n",
    "    # - Direct attributes -\n",
    "\n",
    "    # Metadata\n",
    "    metadata = exp_data.get_metadata()\n",
    "    for attr in needed_meta:\n",
    "        collected_info[attr] = metadata.get(attr, None)\n",
    "\n",
    "    # Git metadata\n",
    "    collected_info[\"Exact commit\"] = exp_data.get_git_metadata()[\"parent\"]\n",
    "\n",
    "    # - Nested attributes -\n",
    "\n",
    "    # Others summary\n",
    "    others_summary = exp_data.get_others_summary()\n",
    "    for elem in others_summary:\n",
    "        name = elem[\"name\"]\n",
    "        if name in needed_others:\n",
    "            collected_info[name] = elem.get(\"valueCurrent\", None)\n",
    "\n",
    "    # Parameters summary\n",
    "    parameters_summary = exp_data.get_parameters_summary()\n",
    "    for elem in parameters_summary:\n",
    "        name = elem[\"name\"]\n",
    "        if name in needed_parameters:\n",
    "            collected_info[name] = elem.get(\"valueCurrent\", None)\n",
    "\n",
    "    # Metrics summary\n",
    "    metrics_summary = exp_data.get_metrics_summary()\n",
    "    for elem in metrics_summary:\n",
    "        name = elem[\"name\"]\n",
    "        if name in needed_metrics:\n",
    "            collected_info[name] = elem.get(\"valueCurrent\", None)\n",
    "\n",
    "    return collected_info"
   ]
  },
  {
   "cell_type": "code",
   "execution_count": null,
   "metadata": {},
   "outputs": [],
   "source": [
    "all_collected_info = {}\n",
    "for exp_key in tqdm(exp_keys, desc=\"Experiments\", unit=\"exp\"):\n",
    "    all_collected_info[exp_key] = collect_exp_info(exp_key)"
   ]
  },
  {
   "cell_type": "markdown",
   "metadata": {},
   "source": [
    "## Formatting"
   ]
  },
  {
   "cell_type": "code",
   "execution_count": null,
   "metadata": {},
   "outputs": [],
   "source": [
    "collected_df = pd.DataFrame.from_dict(all_collected_info, orient=\"index\")\n",
    "print(collected_df.columns)"
   ]
  },
  {
   "cell_type": "code",
   "execution_count": null,
   "metadata": {},
   "outputs": [],
   "source": [
    "# 'Training size' exists when 'train size' doesn't (and vice-versa)\n",
    "collected_df.loc[collected_df[\"train size\"].isnull(), \"train size\"] = collected_df[\n",
    "    \"Training size\"\n",
    "]\n",
    "collected_df.drop(columns=[\"Training size\"], inplace=True)"
   ]
  },
  {
   "cell_type": "code",
   "execution_count": null,
   "metadata": {},
   "outputs": [],
   "source": [
    "# Get date\n",
    "\n",
    "# Server start time is in milliseconds, convert to seconds\n",
    "unix_time = round(collected_df[\"startTimeMillis\"] / 1000)\n",
    "\n",
    "# Convert to date\n",
    "datetime = pd.to_datetime(unix_time, unit=\"s\")\n",
    "collected_df[\"Date (YYYY-MM-DD)\"] = datetime.dt.date\n",
    "\n",
    "collected_df.rename(\n",
    "    columns={\"startTimeMillis\": \"Server start time (Unix, ms)\"}, inplace=True\n",
    ")"
   ]
  },
  {
   "cell_type": "code",
   "execution_count": null,
   "metadata": {},
   "outputs": [],
   "source": [
    "column_order = [\n",
    "    \"Name\",\n",
    "    \"category\",\n",
    "    \"output_size\",\n",
    "    \"Total nb of files\",\n",
    "    \"train size\",\n",
    "    \"validation size\",\n",
    "    \"tra_Accuracy\",\n",
    "    \"tra_F1Score\",\n",
    "    \"val_Accuracy\",\n",
    "    \"val_F1Score\",\n",
    "    \"Experiment key\",\n",
    "    \"SLURM_JOB_ID\",\n",
    "    \"Code version / commit\",\n",
    "    \"Exact commit\",\n",
    "    \"Server start time (Unix, ms)\",\n",
    "    \"Date (YYYY-MM-DD)\",\n",
    "]\n",
    "\n",
    "collected_df = collected_df[column_order]\n",
    "\n",
    "collected_df.to_csv(\n",
    "    paper_dir / \"tables\" / \"collected_experiments_info_cometml.csv\", index=False\n",
    ")"
   ]
  }
 ],
 "metadata": {
  "kernelspec": {
   "display_name": "epiclass_py3.8",
   "language": "python",
   "name": "python3"
  },
  "language_info": {
   "codemirror_mode": {
    "name": "ipython",
    "version": 3
   },
   "file_extension": ".py",
   "mimetype": "text/x-python",
   "name": "python",
   "nbconvert_exporter": "python",
   "pygments_lexer": "ipython3",
   "version": "3.8.20"
  }
 },
 "nbformat": 4,
 "nbformat_minor": 2
}

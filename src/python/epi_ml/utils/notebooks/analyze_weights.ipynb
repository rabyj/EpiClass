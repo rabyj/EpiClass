{
 "cells": [
  {
   "cell_type": "code",
   "execution_count": null,
   "metadata": {},
   "outputs": [],
   "source": [
    "\"\"\"Analysis of model weight distribution.\"\"\"\n",
    "# pylint: disable=redefined-outer-name, expression-not-assigned, import-error, not-callable, pointless-statement, no-value-for-parameter, undefined-variable, unused-argument\n",
    "from __future__ import annotations\n",
    "\n",
    "from pathlib import Path\n",
    "from typing import Tuple\n",
    "\n",
    "import numpy as np\n",
    "import pandas as pd\n",
    "import plotly.express as px\n",
    "import plotly.io as pio\n",
    "from IPython.display import display  # pylint: disable=unused-import\n",
    "\n",
    "pio.renderers.default = \"notebook\"\n",
    "\n",
    "from epi_ml.core.model_pytorch import LightningDenseClassifier"
   ]
  },
  {
   "cell_type": "code",
   "execution_count": null,
   "metadata": {},
   "outputs": [],
   "source": [
    "%matplotlib inline"
   ]
  },
  {
   "cell_type": "code",
   "execution_count": null,
   "metadata": {},
   "outputs": [],
   "source": [
    "def get_parent_directories(directory: str | Path) -> Tuple[str, str]:\n",
    "    \"\"\"Return the name of the two first parent directories of a given directory.\"\"\"\n",
    "    path = Path(directory).resolve()\n",
    "    return path.parent.name, path.parent.parent.name"
   ]
  },
  {
   "cell_type": "code",
   "execution_count": null,
   "metadata": {
    "tags": []
   },
   "outputs": [],
   "source": [
    "home = Path(\"/home/local/USHERBROOKE/rabj2301/Projects\")\n",
    "input_dir = home / \"epilap/input\"\n",
    "metadata_path = (\n",
    "    input_dir\n",
    "    / \"metadata/hg38_2023_epiatlas_dfreeze_plus_encode_noncore_formatted_JR.json\"\n",
    ")\n",
    "\n",
    "output = home / \"epilap/output\"\n",
    "# model_dir = output / \"models/harmonized_donor_sex_1l_3000n-10fold_binary_onlyl1-split0_l1_0.1/\""
   ]
  },
  {
   "cell_type": "code",
   "execution_count": null,
   "metadata": {},
   "outputs": [],
   "source": [
    "def load_model(model_dir):\n",
    "    \"\"\"Load model. Print some stuff.\"\"\"\n",
    "    model = LightningDenseClassifier.restore_model(model_dir)\n",
    "    # print(model.mapping)\n",
    "    # model.summarize(max_depth=-1)\n",
    "    return model"
   ]
  },
  {
   "cell_type": "code",
   "execution_count": null,
   "metadata": {},
   "outputs": [],
   "source": [
    "def plot_weights_dist(model: LightningDenseClassifier, logdir: Path):\n",
    "    \"\"\"Plot and save the distribution of weights of the first layer of a model.\n",
    "\n",
    "    This function creates a violin plot of the absolute weights in the first layer of the given\n",
    "    model, saving both the plot and a description of the weights as CSV to the specified directory.\n",
    "\n",
    "    Args:\n",
    "        model (LightningDenseClassifier): The model from which to extract the weights.\n",
    "        logdir (Path): The directory where the plot and CSV file will be saved.\n",
    "    \"\"\"\n",
    "    for layer in list(model.parameters())[0:1]:\n",
    "        weights = layer.detach().flatten().numpy()\n",
    "        total_N = len(weights)\n",
    "        sample_size = int(max(min(20000, total_N), total_N * 0.01))\n",
    "        print(\n",
    "            f\"Sample size is {sample_size} ({sample_size/total_N*100:.2f}%) parameters. \"\n",
    "        )\n",
    "\n",
    "        weights = np.absolute(np.random.choice(weights, sample_size, replace=False))\n",
    "\n",
    "        weigths_description = pd.Series(weights).describe(\n",
    "            percentiles=[0.05, 0.25, 0.5, 0.75, 0.95]\n",
    "        )\n",
    "        # display(weigths_description)\n",
    "        weigths_description.to_csv(logdir / \"weights_description.csv\", sep=\",\")\n",
    "\n",
    "        # pylint: disable=consider-using-f-string\n",
    "        fig_title = \"Weights distribution <br> {0} : {1}\".format(\n",
    "            *get_parent_directories(logdir)\n",
    "        )\n",
    "        fig = px.violin(\n",
    "            weights, box=True, points=False, range_y=[0, 0.01], title=fig_title\n",
    "        )\n",
    "        # fig.show()\n",
    "        fig.write_image(logdir / \"weights_dist.png\")\n",
    "        return weigths_description"
   ]
  },
  {
   "cell_type": "code",
   "execution_count": null,
   "metadata": {},
   "outputs": [],
   "source": [
    "dirname = output / \"models\" / \"harmonized_donor_sex_1l_3000n\"\n",
    "for model_dir in dirname.glob(\"100kb_all_none/*only*\"):\n",
    "    model_dir = model_dir / \"split0\"\n",
    "    # if \"weights_dist.png\" not in [f.name for f in model_dir.glob(\"*\")]:\n",
    "    try:\n",
    "        model = load_model(model_dir)\n",
    "    except FileNotFoundError as err:\n",
    "        print(err)\n",
    "        continue\n",
    "    plot_weights_dist(model, model_dir)"
   ]
  },
  {
   "cell_type": "code",
   "execution_count": null,
   "metadata": {},
   "outputs": [],
   "source": [
    "dirname = (\n",
    "    output / \"models\" / \"harmonized_donor_sex_1l_3000n\" / \"100kb_all_none/10fold_binary\"\n",
    ")\n",
    "model_dir = dirname / \"split0\"\n",
    "# if \"weights_dist.png\" not in [f.name for f in model_dir.glob(\"*\")]:\n",
    "try:\n",
    "    model = load_model(model_dir)\n",
    "except FileNotFoundError as err:\n",
    "    print(err)\n",
    "plot_weights_dist(model, model_dir)"
   ]
  }
 ],
 "metadata": {
  "kernelspec": {
   "display_name": "Python 3",
   "language": "python",
   "name": "python3"
  },
  "language_info": {
   "codemirror_mode": {
    "name": "ipython",
    "version": 3
   },
   "file_extension": ".py",
   "mimetype": "text/x-python",
   "name": "python",
   "nbconvert_exporter": "python",
   "pygments_lexer": "ipython3",
   "version": "3.8.10"
  },
  "orig_nbformat": 4,
  "vscode": {
   "interpreter": {
    "hash": "31f2aee4e71d21fbe5cf8b01ff0e069b9275f58929596ceb00d14d90e3e16cd6"
   }
  }
 },
 "nbformat": 4,
 "nbformat_minor": 2
}

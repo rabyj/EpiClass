{
 "cells": [
  {
   "cell_type": "code",
   "execution_count": null,
   "metadata": {},
   "outputs": [],
   "source": [
    "\"\"\"Download and process information from the UniProt database on transciption factors available on factorbook.org\"\"\"\n",
    "# pylint: disable=import-error, redefined-outer-name, use-dict-literal, too-many-lines"
   ]
  },
  {
   "cell_type": "code",
   "execution_count": 18,
   "metadata": {},
   "outputs": [],
   "source": [
    "import json\n",
    "import re\n",
    "from concurrent.futures import ThreadPoolExecutor, as_completed\n",
    "from pathlib import Path\n",
    "from typing import Dict, List, Optional, Tuple\n",
    "\n",
    "import pandas as pd\n",
    "import requests"
   ]
  },
  {
   "cell_type": "markdown",
   "metadata": {},
   "source": [
    "## Download UniProt content "
   ]
  },
  {
   "cell_type": "code",
   "execution_count": 11,
   "metadata": {},
   "outputs": [],
   "source": [
    "def get_gene_id(name: str) -> Tuple[str, Optional[str]]:\n",
    "    url = f\"https://www.encodeproject.org/targets/{name}-human/\"\n",
    "    response = requests.get(url)\n",
    "    if response.status_code == 200:\n",
    "        match = re.search(r\"GeneID:(\\d+)\", response.text)\n",
    "        if match:\n",
    "            return name, match.group(1)\n",
    "    return name, None\n",
    "\n",
    "\n",
    "def get_uniprot_id(name_gene_id: Tuple[str, Optional[str]]) -> Tuple[str, Optional[str]]:\n",
    "    name, gene_id = name_gene_id\n",
    "    if gene_id is None:\n",
    "        return name, None\n",
    "    url = f\"https://www.encodeproject.org/genes/{gene_id}/\"\n",
    "    response = requests.get(url)\n",
    "    if response.status_code == 200:\n",
    "        match = re.search(r\"UniProtKB:(\\w+)\", response.text)\n",
    "        if match:\n",
    "            return name, match.group(1)\n",
    "    return name, None\n",
    "\n",
    "\n",
    "def download_uniprot_file(\n",
    "    name_uniprot_id: Tuple[str, Optional[str]], output_folder: Path\n",
    ") -> Tuple[str, bool]:\n",
    "    name, uniprot_id = name_uniprot_id\n",
    "    is_success = False\n",
    "\n",
    "    if uniprot_id is None:\n",
    "        return name, is_success\n",
    "\n",
    "    base_url = \"https://rest.uniprot.org/uniprotkb\"\n",
    "    url_text = f\"{base_url}/{uniprot_id}.txt\"\n",
    "    url_json = f\"{base_url}/{uniprot_id}.json\"\n",
    "    for url in [url_text, url_json]:\n",
    "        response = requests.get(url)\n",
    "        if response.status_code == 200:\n",
    "            filename = output_folder / f\"{name}_{uniprot_id}.{Path(url).suffix[1:]}\"\n",
    "            with open(filename, \"w\", encoding=\"utf-8\") as f:\n",
    "                f.write(response.text)\n",
    "            is_success = True\n",
    "\n",
    "    return name, is_success\n",
    "\n",
    "\n",
    "def extract_function(filepath: Path) -> Dict[str, Optional[str]]:\n",
    "    with open(filepath, \"r\", encoding=\"utf-8\") as f:\n",
    "        content = f.read()\n",
    "    match = re.search(r\"-!- FUNCTION: (.+?)(?:\\n\\n|\\Z)\", content, re.DOTALL)\n",
    "    if match:\n",
    "        function = match.group(1).replace(\"\\n\", \" \").strip()\n",
    "        return {\"name\": filepath.stem, \"function\": function}\n",
    "    return {\"name\": filepath.stem, \"function\": None}\n",
    "\n",
    "\n",
    "def process_names(\n",
    "    names: List[str], output_folder: Path, max_workers: int = 10\n",
    ") -> List[Tuple[str, bool]]:\n",
    "    if not output_folder.exists():\n",
    "        raise FileNotFoundError(f\"Output folder {output_folder} does not exist\")\n",
    "\n",
    "    with ThreadPoolExecutor(max_workers=max_workers) as executor:\n",
    "        # Get GeneIDs\n",
    "        future_to_gene_id = {executor.submit(get_gene_id, name): name for name in names}\n",
    "        name_gene_ids = [future.result() for future in as_completed(future_to_gene_id)]\n",
    "\n",
    "        # Get UniProtKB IDs\n",
    "        future_to_uniprot_id = {\n",
    "            executor.submit(get_uniprot_id, name_gene_id): name_gene_id[0]\n",
    "            for name_gene_id in name_gene_ids\n",
    "        }\n",
    "        name_uniprot_ids = [\n",
    "            future.result() for future in as_completed(future_to_uniprot_id)\n",
    "        ]\n",
    "\n",
    "        # Download UniProt files\n",
    "        future_to_download = {\n",
    "            executor.submit(\n",
    "                download_uniprot_file, name_uniprot_id, output_folder\n",
    "            ): name_uniprot_id[0]\n",
    "            for name_uniprot_id in name_uniprot_ids\n",
    "        }\n",
    "        success_values = [future.result() for future in as_completed(future_to_download)]\n",
    "\n",
    "    return success_values"
   ]
  },
  {
   "cell_type": "code",
   "execution_count": 12,
   "metadata": {},
   "outputs": [],
   "source": [
    "names_path = Path.home() / \"Projects/epiclass/output/paper/data/TF/TF_table.tsv\"\n",
    "names = pd.read_csv(names_path, header=None, sep=\"\\t\").iloc[:, 0].tolist()\n",
    "\n",
    "names = [name.upper() for name in names]"
   ]
  },
  {
   "cell_type": "code",
   "execution_count": 14,
   "metadata": {},
   "outputs": [],
   "source": [
    "output_dir = names_path.parent / \"uniprot_files\"\n",
    "if not output_dir.exists():\n",
    "    raise FileNotFoundError(f\"Output folder {output_dir} does not exist\")"
   ]
  },
  {
   "cell_type": "code",
   "execution_count": null,
   "metadata": {},
   "outputs": [],
   "source": [
    "# success_values = process_names(names, output_dir)"
   ]
  },
  {
   "cell_type": "markdown",
   "metadata": {},
   "source": [
    "## Process json files"
   ]
  },
  {
   "cell_type": "code",
   "execution_count": 63,
   "metadata": {},
   "outputs": [],
   "source": [
    "functions = []\n",
    "for file in output_dir.glob(\"*.json\"):\n",
    "    with open(file, \"r\", encoding=\"utf-8\") as f:\n",
    "        content = json.load(f)\n",
    "\n",
    "    try:\n",
    "        all_comments = content[\"comments\"]\n",
    "    except KeyError as e:\n",
    "        continue\n",
    "\n",
    "    fct_val = \"NA\"\n",
    "    sim_val = \"NA\"\n",
    "    for comment in all_comments:\n",
    "        if comment[\"commentType\"] == \"FUNCTION\":\n",
    "            text: Dict = comment[\"texts\"][0]\n",
    "            fct_val = text[\"value\"]\n",
    "        if comment[\"commentType\"] == \"SIMILARITY\":\n",
    "            text: Dict = comment[\"texts\"][0]\n",
    "            sim_val = text[\"value\"]\n",
    "    name, db_id = file.stem.split(\"_\")\n",
    "    functions.append(\n",
    "        {\"name\": name, \"uniprot_id\": db_id, \"function\": fct_val, \"similarity\": sim_val}\n",
    "    )"
   ]
  },
  {
   "cell_type": "code",
   "execution_count": 65,
   "metadata": {},
   "outputs": [],
   "source": [
    "pd.DataFrame(functions).sort_values(by=\"name\").to_csv(\n",
    "    names_path.parent / \"TF_functions.tsv\", sep=\"\\t\", index=False\n",
    ")"
   ]
  }
 ],
 "metadata": {
  "kernelspec": {
   "display_name": "epiclass",
   "language": "python",
   "name": "python3"
  },
  "language_info": {
   "codemirror_mode": {
    "name": "ipython",
    "version": 3
   },
   "file_extension": ".py",
   "mimetype": "text/x-python",
   "name": "python",
   "nbconvert_exporter": "python",
   "pygments_lexer": "ipython3",
   "version": "3.8.10"
  }
 },
 "nbformat": 4,
 "nbformat_minor": 2
}

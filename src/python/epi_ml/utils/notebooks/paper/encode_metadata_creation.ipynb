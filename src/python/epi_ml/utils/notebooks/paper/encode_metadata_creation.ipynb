{
 "cells": [
  {
   "cell_type": "code",
   "execution_count": 285,
   "metadata": {},
   "outputs": [
    {
     "data": {
      "text/plain": [
       "'Get ENCODE EpiRRs, and determine which datasets are in EpiATLAS.\\n\\nFound incoherences, so rest of script is metadata re-creation.\\n'"
      ]
     },
     "execution_count": 285,
     "metadata": {},
     "output_type": "execute_result"
    }
   ],
   "source": [
    "\"\"\"Get ENCODE EpiRRs, and determine which datasets are in EpiATLAS.\n",
    "\n",
    "Found incoherences, so rest of script is metadata re-creation.\n",
    "\"\"\"\n",
    "# pylint: disable=import-error, redefined-outer-name, too-many-lines"
   ]
  },
  {
   "cell_type": "code",
   "execution_count": 286,
   "metadata": {},
   "outputs": [],
   "source": [
    "from __future__ import annotations\n",
    "\n",
    "import copy\n",
    "import gc\n",
    "import json\n",
    "from collections import Counter\n",
    "from concurrent.futures import ThreadPoolExecutor, as_completed\n",
    "from pathlib import Path\n",
    "from typing import Any, Callable, Dict, Iterable, List, Set, Tuple\n",
    "\n",
    "import pandas as pd\n",
    "import requests\n",
    "from IPython.display import display\n",
    "from tqdm import tqdm\n",
    "\n",
    "from epi_ml.core.metadata import Metadata\n",
    "from epi_ml.utils.notebooks.paper.paper_utilities import ASSAY, ASSAY_ORDER, CELL_TYPE"
   ]
  },
  {
   "cell_type": "markdown",
   "metadata": {},
   "source": [
    "First, download summary of all EpiRR epigenomes: https://www.ebi.ac.uk/epirr/docs  \n",
    "This was already done."
   ]
  },
  {
   "cell_type": "code",
   "execution_count": 287,
   "metadata": {},
   "outputs": [],
   "source": [
    "base_dir = Path.home() / \"Projects/epiclass/output/paper\"\n",
    "metadata_dir = base_dir / \"data/metadata\"\n",
    "if not metadata_dir.exists():\n",
    "    raise ValueError(f\"Path {metadata_dir} does not exist.\")"
   ]
  },
  {
   "cell_type": "markdown",
   "metadata": {},
   "source": [
    "### Parse EpiRR general metadata file"
   ]
  },
  {
   "cell_type": "code",
   "execution_count": 288,
   "metadata": {},
   "outputs": [],
   "source": [
    "encode_metadata_dir = metadata_dir / \"encode\"\n",
    "if not encode_metadata_dir.exists():\n",
    "    raise ValueError(f\"Path {encode_metadata_dir} does not exist.\")\n",
    "\n",
    "filename = \"epirr_epigenomes_2025-02\"\n",
    "epigenomes_summary_path = encode_metadata_dir / \"new_meta\" / f\"{filename}.json\"\n",
    "\n",
    "with open(epigenomes_summary_path, \"r\", encoding=\"utf-8\") as f:\n",
    "    epigenomes_summary = json.load(f)\n",
    "\n",
    "epigenomes_summary_df = pd.DataFrame(epigenomes_summary)\n",
    "epigenomes_summary_df.to_csv(epigenomes_summary_path.with_suffix(\".csv\"), index=False)"
   ]
  },
  {
   "cell_type": "code",
   "execution_count": 289,
   "metadata": {},
   "outputs": [
    {
     "data": {
      "text/plain": [
       "project\n",
       "BLUEPRINT                         1249\n",
       "CEEHRC                             486\n",
       "GIS                                291\n",
       "AMED-CREST                         278\n",
       "ENCODE                             215\n",
       "DEEP                               157\n",
       "NIH Roadmap Epigenomics            147\n",
       "Korea Epigenome Project (KNIH)      37\n",
       "EpiHK                               19\n",
       "Name: count, dtype: int64"
      ]
     },
     "metadata": {},
     "output_type": "display_data"
    }
   ],
   "source": [
    "display(epigenomes_summary_df[\"project\"].value_counts(dropna=False))"
   ]
  },
  {
   "cell_type": "code",
   "execution_count": 290,
   "metadata": {},
   "outputs": [],
   "source": [
    "encode_epirrs = epigenomes_summary_df[epigenomes_summary_df[\"project\"] == \"ENCODE\"][\n",
    "    \"accession\"\n",
    "].tolist()"
   ]
  },
  {
   "cell_type": "code",
   "execution_count": 291,
   "metadata": {},
   "outputs": [
    {
     "name": "stdout",
     "output_type": "stream",
     "text": [
      "ENCODE EpiRRs: 215\n"
     ]
    }
   ],
   "source": [
    "print(f\"ENCODE EpiRRs: {len(encode_epirrs)}\")"
   ]
  },
  {
   "cell_type": "code",
   "execution_count": 292,
   "metadata": {},
   "outputs": [],
   "source": [
    "del epigenomes_summary_df"
   ]
  },
  {
   "cell_type": "markdown",
   "metadata": {},
   "source": [
    "## Download specific experiments metadata"
   ]
  },
  {
   "cell_type": "markdown",
   "metadata": {},
   "source": [
    "Download metadata for all encode epigenomes."
   ]
  },
  {
   "cell_type": "code",
   "execution_count": 293,
   "metadata": {},
   "outputs": [],
   "source": [
    "encode_metadata_path = (\n",
    "    encode_metadata_dir / \"new_meta\" / \"encode_epigenomes_metadata_2025-02.json\"\n",
    ")"
   ]
  },
  {
   "cell_type": "code",
   "execution_count": 294,
   "metadata": {},
   "outputs": [],
   "source": [
    "if not encode_metadata_path.exists():\n",
    "    # Base URL\n",
    "    base_url = \"https://www.ebi.ac.uk/epirr/api/v1/epigenome?accession={}\"\n",
    "\n",
    "    # Collect metadata in a list\n",
    "    metadata_list = []\n",
    "\n",
    "    # Use tqdm for a progress bar\n",
    "    for epirr in tqdm(encode_epirrs, desc=\"Fetching Metadata\", unit=\"entry\"):\n",
    "        response = requests.get(\n",
    "            base_url.format(epirr), headers={\"accept\": \"application/json\"}\n",
    "        )\n",
    "        if response.status_code == 200:\n",
    "            metadata_list.append(response.json())  # Append parsed JSON\n",
    "        else:\n",
    "            print(f\"Failed to fetch {epirr}: {response.status_code}\")\n",
    "\n",
    "    with open(encode_metadata_path, \"w\", encoding=\"utf-8\") as f:\n",
    "        json.dump(metadata_list, f, indent=2)\n",
    "\n",
    "    print(f\"Metadata saved to {encode_metadata_path}\")"
   ]
  },
  {
   "cell_type": "markdown",
   "metadata": {},
   "source": [
    "## Parse specific metadata for accessions"
   ]
  },
  {
   "cell_type": "code",
   "execution_count": 295,
   "metadata": {},
   "outputs": [],
   "source": [
    "encode_metadata_path = (\n",
    "    encode_metadata_dir / \"new_meta\" / \"encode_epigenomes_metadata_2025-02.json\"\n",
    ")\n",
    "with open(encode_metadata_path, \"r\", encoding=\"utf-8\") as f:\n",
    "    encode_metadata = json.load(f)"
   ]
  },
  {
   "cell_type": "code",
   "execution_count": 296,
   "metadata": {},
   "outputs": [
    {
     "name": "stdout",
     "output_type": "stream",
     "text": [
      "ENCODE total accessions: 2588\n"
     ]
    }
   ],
   "source": [
    "accessions_and_epirr = []\n",
    "for dset in encode_metadata:\n",
    "    epirr = dset[\"accession\"]\n",
    "    primary_ids = [file[\"primary_id\"] for file in dset[\"raw_data\"]]\n",
    "    for primary_id in primary_ids:\n",
    "        accessions_and_epirr.append((primary_id, epirr))\n",
    "\n",
    "    # # it's an input file, multiple occurences is fine\n",
    "    # if \"ENCSR266XMB\" in primary_ids:\n",
    "    #     print(dset[\"raw_data\"])\n",
    "print(\"ENCODE total accessions:\", len(accessions_and_epirr))"
   ]
  },
  {
   "cell_type": "code",
   "execution_count": 297,
   "metadata": {},
   "outputs": [
    {
     "name": "stdout",
     "output_type": "stream",
     "text": [
      "ENCODE unique accessions: 2587\n",
      "[('ENCSR266XMB', 2), ('ENCSR876SYO', 1), ('ENCSR706SZI', 1), ('ENCSR199LBO', 1), ('ENCSR823VEE', 1)]\n"
     ]
    }
   ],
   "source": [
    "primary_ids_count = Counter([primary_id for primary_id, _ in accessions_and_epirr])\n",
    "print(\"ENCODE unique accessions:\", len(set(primary_ids_count.keys())))\n",
    "print(primary_ids_count.most_common(5))"
   ]
  },
  {
   "cell_type": "code",
   "execution_count": 298,
   "metadata": {},
   "outputs": [],
   "source": [
    "assert set(epirr for _, epirr in accessions_and_epirr) == set(encode_epirrs)"
   ]
  },
  {
   "cell_type": "markdown",
   "metadata": {},
   "source": [
    "## Compare with EpiATLAS"
   ]
  },
  {
   "cell_type": "code",
   "execution_count": 299,
   "metadata": {},
   "outputs": [],
   "source": [
    "epiatlas_metadata_path = (\n",
    "    metadata_dir / \"official\" / \"IHEC_metadata_harmonization.v1.2.extended.csv\"\n",
    ")\n",
    "epiatlas_df = pd.read_csv(epiatlas_metadata_path, index_col=False)"
   ]
  },
  {
   "cell_type": "code",
   "execution_count": 300,
   "metadata": {},
   "outputs": [],
   "source": [
    "epiatlas_epirrs = set(epiatlas_df[\"epirr_id_without_version\"].tolist())\n",
    "common_epirrs = set(encode_epirrs).intersection(epiatlas_epirrs)\n",
    "diff_epirr = set(encode_epirrs).difference(epiatlas_epirrs)"
   ]
  },
  {
   "cell_type": "code",
   "execution_count": 301,
   "metadata": {},
   "outputs": [
    {
     "name": "stdout",
     "output_type": "stream",
     "text": [
      "ENCODE EpiRRs: 215\n",
      "EpiATLAS EpiRRs: 2279\n",
      "ENCODE EpiRRs in EpiATLAS: 123\n"
     ]
    }
   ],
   "source": [
    "print(f\"ENCODE EpiRRs: {len(encode_epirrs)}\")\n",
    "print(f\"EpiATLAS EpiRRs: {len(epiatlas_epirrs)}\")\n",
    "print(f\"ENCODE EpiRRs in EpiATLAS: {len(common_epirrs)}\")"
   ]
  },
  {
   "cell_type": "code",
   "execution_count": 302,
   "metadata": {},
   "outputs": [
    {
     "name": "stdout",
     "output_type": "stream",
     "text": [
      "(2588, 2)\n"
     ]
    },
    {
     "data": {
      "text/plain": [
       "in_epiatlas\n",
       "True     1415\n",
       "False    1173\n",
       "Name: count, dtype: int64"
      ]
     },
     "metadata": {},
     "output_type": "display_data"
    }
   ],
   "source": [
    "encode_accessions_df = pd.DataFrame.from_records(\n",
    "    accessions_and_epirr, columns=[\"experiment_accession\", \"epirr_no_version\"]\n",
    ")\n",
    "print(encode_accessions_df.shape)\n",
    "\n",
    "encode_accessions_df[\"in_epiatlas\"] = encode_accessions_df[\"epirr_no_version\"].isin(\n",
    "    common_epirrs\n",
    ")\n",
    "display(encode_accessions_df[\"in_epiatlas\"].value_counts(dropna=False))"
   ]
  },
  {
   "cell_type": "code",
   "execution_count": 303,
   "metadata": {},
   "outputs": [
    {
     "data": {
      "text/html": [
       "<div>\n",
       "<style scoped>\n",
       "    .dataframe tbody tr th:only-of-type {\n",
       "        vertical-align: middle;\n",
       "    }\n",
       "\n",
       "    .dataframe tbody tr th {\n",
       "        vertical-align: top;\n",
       "    }\n",
       "\n",
       "    .dataframe thead th {\n",
       "        text-align: right;\n",
       "    }\n",
       "</style>\n",
       "<table border=\"1\" class=\"dataframe\">\n",
       "  <thead>\n",
       "    <tr style=\"text-align: right;\">\n",
       "      <th></th>\n",
       "      <th>experiment_accession</th>\n",
       "      <th>epirr_no_version</th>\n",
       "      <th>in_epiatlas</th>\n",
       "    </tr>\n",
       "  </thead>\n",
       "  <tbody>\n",
       "    <tr>\n",
       "      <th>0</th>\n",
       "      <td>ENCSR876SYO</td>\n",
       "      <td>IHECRE00001772</td>\n",
       "      <td>False</td>\n",
       "    </tr>\n",
       "    <tr>\n",
       "      <th>1</th>\n",
       "      <td>ENCSR706SZI</td>\n",
       "      <td>IHECRE00001772</td>\n",
       "      <td>False</td>\n",
       "    </tr>\n",
       "    <tr>\n",
       "      <th>2</th>\n",
       "      <td>ENCSR199LBO</td>\n",
       "      <td>IHECRE00001772</td>\n",
       "      <td>False</td>\n",
       "    </tr>\n",
       "    <tr>\n",
       "      <th>3</th>\n",
       "      <td>ENCSR823VEE</td>\n",
       "      <td>IHECRE00001772</td>\n",
       "      <td>False</td>\n",
       "    </tr>\n",
       "    <tr>\n",
       "      <th>4</th>\n",
       "      <td>ENCSR473ZCM</td>\n",
       "      <td>IHECRE00001772</td>\n",
       "      <td>False</td>\n",
       "    </tr>\n",
       "  </tbody>\n",
       "</table>\n",
       "</div>"
      ],
      "text/plain": [
       "  experiment_accession epirr_no_version  in_epiatlas\n",
       "0          ENCSR876SYO   IHECRE00001772        False\n",
       "1          ENCSR706SZI   IHECRE00001772        False\n",
       "2          ENCSR199LBO   IHECRE00001772        False\n",
       "3          ENCSR823VEE   IHECRE00001772        False\n",
       "4          ENCSR473ZCM   IHECRE00001772        False"
      ]
     },
     "metadata": {},
     "output_type": "display_data"
    }
   ],
   "source": [
    "display(encode_accessions_df.head())"
   ]
  },
  {
   "cell_type": "code",
   "execution_count": 304,
   "metadata": {},
   "outputs": [],
   "source": [
    "encode_accessions_df.to_csv(\n",
    "    encode_metadata_dir / \"new_meta\" / \"encode_epirrs_2025-02.csv\", index=False\n",
    ")"
   ]
  },
  {
   "cell_type": "markdown",
   "metadata": {},
   "source": [
    "EpiRR is less useful because ENCODE only submitted complete epigenomes. EpiATLAS also includes partial ones."
   ]
  },
  {
   "cell_type": "code",
   "execution_count": 305,
   "metadata": {},
   "outputs": [
    {
     "data": {
      "text/plain": [
       "41"
      ]
     },
     "execution_count": 305,
     "metadata": {},
     "output_type": "execute_result"
    }
   ],
   "source": [
    "del epiatlas_df\n",
    "gc.collect()"
   ]
  },
  {
   "cell_type": "markdown",
   "metadata": {},
   "source": [
    "## Compare with previous ENCODE metadata"
   ]
  },
  {
   "cell_type": "code",
   "execution_count": 306,
   "metadata": {},
   "outputs": [
    {
     "name": "stdout",
     "output_type": "stream",
     "text": [
      "(9619, 183)\n",
      "(5552, 12)\n"
     ]
    }
   ],
   "source": [
    "encode_meta_df = pd.read_csv(\n",
    "    encode_metadata_dir / \"old_meta\" / \"encode_metadata_2023-10-25_clean-v2.csv\"\n",
    ")\n",
    "encode_ihec_df = pd.read_csv(\n",
    "    encode_metadata_dir / \"old_meta\" / \"ENCODE_IHEC_keys.tsv\", sep=\"\\t\"\n",
    ")\n",
    "print(encode_meta_df.shape)\n",
    "print(encode_ihec_df.shape)"
   ]
  },
  {
   "cell_type": "code",
   "execution_count": 307,
   "metadata": {},
   "outputs": [
    {
     "data": {
      "text/html": [
       "<div>\n",
       "<style scoped>\n",
       "    .dataframe tbody tr th:only-of-type {\n",
       "        vertical-align: middle;\n",
       "    }\n",
       "\n",
       "    .dataframe tbody tr th {\n",
       "        vertical-align: top;\n",
       "    }\n",
       "\n",
       "    .dataframe thead th {\n",
       "        text-align: right;\n",
       "    }\n",
       "</style>\n",
       "<table border=\"1\" class=\"dataframe\">\n",
       "  <thead>\n",
       "    <tr style=\"text-align: right;\">\n",
       "      <th></th>\n",
       "      <th>md5sum</th>\n",
       "      <th>File format</th>\n",
       "      <th>File type</th>\n",
       "      <th>Output type</th>\n",
       "      <th>File assembly</th>\n",
       "      <th>Assay</th>\n",
       "      <th>Donor(s)</th>\n",
       "      <th>Biosample term id</th>\n",
       "      <th>Biosample term name_x</th>\n",
       "      <th>Biosample organism</th>\n",
       "      <th>...</th>\n",
       "      <th>biosample_treatment_duration</th>\n",
       "      <th>biosample_treatment_duration_units</th>\n",
       "      <th>biosample_modification_site_target_organism</th>\n",
       "      <th>biosample_modification_site_introduced_gene_organism</th>\n",
       "      <th>replicates</th>\n",
       "      <th>cellular_component</th>\n",
       "      <th>files_replace</th>\n",
       "      <th>donor_sex</th>\n",
       "      <th>cancer_status</th>\n",
       "      <th>experiment_accession</th>\n",
       "    </tr>\n",
       "  </thead>\n",
       "  <tbody>\n",
       "    <tr>\n",
       "      <th>0</th>\n",
       "      <td>ENCFF072UFE</td>\n",
       "      <td>bigWig</td>\n",
       "      <td>bigWig</td>\n",
       "      <td>signal p-value</td>\n",
       "      <td>GRCh38</td>\n",
       "      <td>H3K4me2</td>\n",
       "      <td>/human-donors/ENCDO000AAZ/</td>\n",
       "      <td>EFO:0001086</td>\n",
       "      <td>A549</td>\n",
       "      <td>Homo sapiens</td>\n",
       "      <td>...</td>\n",
       "      <td>unknown</td>\n",
       "      <td>unknown</td>\n",
       "      <td>unknown</td>\n",
       "      <td>unknown</td>\n",
       "      <td>unknown</td>\n",
       "      <td>unknown</td>\n",
       "      <td>unknown</td>\n",
       "      <td>male</td>\n",
       "      <td>cancer</td>\n",
       "      <td>ENCSR918VQU</td>\n",
       "    </tr>\n",
       "    <tr>\n",
       "      <th>1</th>\n",
       "      <td>ENCFF114UFW</td>\n",
       "      <td>bigWig</td>\n",
       "      <td>bigWig</td>\n",
       "      <td>signal p-value</td>\n",
       "      <td>GRCh38</td>\n",
       "      <td>KDM5A</td>\n",
       "      <td>/human-donors/ENCDO000AAZ/</td>\n",
       "      <td>EFO:0001086</td>\n",
       "      <td>A549</td>\n",
       "      <td>Homo sapiens</td>\n",
       "      <td>...</td>\n",
       "      <td>unknown</td>\n",
       "      <td>unknown</td>\n",
       "      <td>unknown</td>\n",
       "      <td>unknown</td>\n",
       "      <td>unknown</td>\n",
       "      <td>unknown</td>\n",
       "      <td>unknown</td>\n",
       "      <td>male</td>\n",
       "      <td>cancer</td>\n",
       "      <td>ENCSR933MHJ</td>\n",
       "    </tr>\n",
       "    <tr>\n",
       "      <th>2</th>\n",
       "      <td>ENCFF604SWJ</td>\n",
       "      <td>bigWig</td>\n",
       "      <td>bigWig</td>\n",
       "      <td>signal p-value</td>\n",
       "      <td>GRCh38</td>\n",
       "      <td>H3K4me3</td>\n",
       "      <td>/human-donors/ENCDO000AAB/</td>\n",
       "      <td>EFO:0002791</td>\n",
       "      <td>HeLa-S3</td>\n",
       "      <td>Homo sapiens</td>\n",
       "      <td>...</td>\n",
       "      <td>unknown</td>\n",
       "      <td>unknown</td>\n",
       "      <td>unknown</td>\n",
       "      <td>unknown</td>\n",
       "      <td>unknown</td>\n",
       "      <td>unknown</td>\n",
       "      <td>unknown</td>\n",
       "      <td>female</td>\n",
       "      <td>cancer</td>\n",
       "      <td>ENCSR000AOF</td>\n",
       "    </tr>\n",
       "    <tr>\n",
       "      <th>3</th>\n",
       "      <td>ENCFF562UDF</td>\n",
       "      <td>unknown</td>\n",
       "      <td>unknown</td>\n",
       "      <td>unknown</td>\n",
       "      <td>unknown</td>\n",
       "      <td>unknown</td>\n",
       "      <td>unknown</td>\n",
       "      <td>unknown</td>\n",
       "      <td>unknown</td>\n",
       "      <td>unknown</td>\n",
       "      <td>...</td>\n",
       "      <td>48</td>\n",
       "      <td>hour</td>\n",
       "      <td>unknown</td>\n",
       "      <td>unknown</td>\n",
       "      <td>/replicates/7cdba585-65b5-439c-bb03-463c8ae8da40/</td>\n",
       "      <td>unknown</td>\n",
       "      <td>ENCFF044QFZ,ENCFF562UDF,ENCFF778HQR,ENCFF954SAX</td>\n",
       "      <td>unknown</td>\n",
       "      <td>unknown</td>\n",
       "      <td>ENCSR086GBI</td>\n",
       "    </tr>\n",
       "    <tr>\n",
       "      <th>4</th>\n",
       "      <td>ENCFF654CFQ</td>\n",
       "      <td>bigWig</td>\n",
       "      <td>bigWig</td>\n",
       "      <td>signal p-value</td>\n",
       "      <td>GRCh38</td>\n",
       "      <td>H3K27ac</td>\n",
       "      <td>/human-donors/ENCDO640RUC/</td>\n",
       "      <td>UBERON:0006483</td>\n",
       "      <td>middle frontal area 46</td>\n",
       "      <td>Homo sapiens</td>\n",
       "      <td>...</td>\n",
       "      <td>unknown</td>\n",
       "      <td>unknown</td>\n",
       "      <td>unknown</td>\n",
       "      <td>unknown</td>\n",
       "      <td>unknown</td>\n",
       "      <td>unknown</td>\n",
       "      <td>unknown</td>\n",
       "      <td>female</td>\n",
       "      <td>non-cancer</td>\n",
       "      <td>ENCSR004YQD</td>\n",
       "    </tr>\n",
       "  </tbody>\n",
       "</table>\n",
       "<p>5 rows × 183 columns</p>\n",
       "</div>"
      ],
      "text/plain": [
       "        md5sum File format File type     Output type File assembly    Assay  \\\n",
       "0  ENCFF072UFE      bigWig    bigWig  signal p-value        GRCh38  H3K4me2   \n",
       "1  ENCFF114UFW      bigWig    bigWig  signal p-value        GRCh38    KDM5A   \n",
       "2  ENCFF604SWJ      bigWig    bigWig  signal p-value        GRCh38  H3K4me3   \n",
       "3  ENCFF562UDF     unknown   unknown         unknown       unknown  unknown   \n",
       "4  ENCFF654CFQ      bigWig    bigWig  signal p-value        GRCh38  H3K27ac   \n",
       "\n",
       "                     Donor(s) Biosample term id   Biosample term name_x  \\\n",
       "0  /human-donors/ENCDO000AAZ/       EFO:0001086                    A549   \n",
       "1  /human-donors/ENCDO000AAZ/       EFO:0001086                    A549   \n",
       "2  /human-donors/ENCDO000AAB/       EFO:0002791                 HeLa-S3   \n",
       "3                     unknown           unknown                 unknown   \n",
       "4  /human-donors/ENCDO640RUC/    UBERON:0006483  middle frontal area 46   \n",
       "\n",
       "  Biosample organism  ... biosample_treatment_duration  \\\n",
       "0       Homo sapiens  ...                      unknown   \n",
       "1       Homo sapiens  ...                      unknown   \n",
       "2       Homo sapiens  ...                      unknown   \n",
       "3            unknown  ...                           48   \n",
       "4       Homo sapiens  ...                      unknown   \n",
       "\n",
       "  biosample_treatment_duration_units  \\\n",
       "0                            unknown   \n",
       "1                            unknown   \n",
       "2                            unknown   \n",
       "3                               hour   \n",
       "4                            unknown   \n",
       "\n",
       "  biosample_modification_site_target_organism  \\\n",
       "0                                     unknown   \n",
       "1                                     unknown   \n",
       "2                                     unknown   \n",
       "3                                     unknown   \n",
       "4                                     unknown   \n",
       "\n",
       "  biosample_modification_site_introduced_gene_organism  \\\n",
       "0                                            unknown     \n",
       "1                                            unknown     \n",
       "2                                            unknown     \n",
       "3                                            unknown     \n",
       "4                                            unknown     \n",
       "\n",
       "                                          replicates cellular_component  \\\n",
       "0                                            unknown            unknown   \n",
       "1                                            unknown            unknown   \n",
       "2                                            unknown            unknown   \n",
       "3  /replicates/7cdba585-65b5-439c-bb03-463c8ae8da40/            unknown   \n",
       "4                                            unknown            unknown   \n",
       "\n",
       "                                     files_replace donor_sex cancer_status  \\\n",
       "0                                          unknown      male        cancer   \n",
       "1                                          unknown      male        cancer   \n",
       "2                                          unknown    female        cancer   \n",
       "3  ENCFF044QFZ,ENCFF562UDF,ENCFF778HQR,ENCFF954SAX   unknown       unknown   \n",
       "4                                          unknown    female    non-cancer   \n",
       "\n",
       "  experiment_accession  \n",
       "0          ENCSR918VQU  \n",
       "1          ENCSR933MHJ  \n",
       "2          ENCSR000AOF  \n",
       "3          ENCSR086GBI  \n",
       "4          ENCSR004YQD  \n",
       "\n",
       "[5 rows x 183 columns]"
      ]
     },
     "metadata": {},
     "output_type": "display_data"
    },
    {
     "data": {
      "text/html": [
       "<div>\n",
       "<style scoped>\n",
       "    .dataframe tbody tr th:only-of-type {\n",
       "        vertical-align: middle;\n",
       "    }\n",
       "\n",
       "    .dataframe tbody tr th {\n",
       "        vertical-align: top;\n",
       "    }\n",
       "\n",
       "    .dataframe thead th {\n",
       "        text-align: right;\n",
       "    }\n",
       "</style>\n",
       "<table border=\"1\" class=\"dataframe\">\n",
       "  <thead>\n",
       "    <tr style=\"text-align: right;\">\n",
       "      <th></th>\n",
       "      <th>ENC_ID</th>\n",
       "      <th>is_EpiAtlas_EpiRR</th>\n",
       "      <th>Trackhub_validation</th>\n",
       "      <th>assay_epiclass</th>\n",
       "      <th>assay_name</th>\n",
       "      <th>accession</th>\n",
       "      <th>biosample_accession</th>\n",
       "      <th>contributing_files</th>\n",
       "      <th>controls</th>\n",
       "      <th>derived_from</th>\n",
       "      <th>files</th>\n",
       "      <th>original_files</th>\n",
       "    </tr>\n",
       "  </thead>\n",
       "  <tbody>\n",
       "    <tr>\n",
       "      <th>0</th>\n",
       "      <td>ENCFF002QSR</td>\n",
       "      <td>NaN</td>\n",
       "      <td>NaN</td>\n",
       "      <td>h3k27me3</td>\n",
       "      <td>Mint-ChIP-seq</td>\n",
       "      <td>ENCSR758YNR</td>\n",
       "      <td>ENCBS958FWY,ENCBS601OTT</td>\n",
       "      <td>/files/ENCFF490YMM/,/files/ENCFF643CGH/,/files...</td>\n",
       "      <td>/experiments/ENCSR901NYG/</td>\n",
       "      <td>/files/ENCFF453TYP/, /files/ENCFF874PSQ/, /fil...</td>\n",
       "      <td>/files/ENCFF676FLB/,/files/ENCFF793DTA/,/files...</td>\n",
       "      <td>/files/ENCFF676FLB/,/files/ENCFF793DTA/,/files...</td>\n",
       "    </tr>\n",
       "    <tr>\n",
       "      <th>1</th>\n",
       "      <td>ENCFF003AUO</td>\n",
       "      <td>NaN</td>\n",
       "      <td>NaN</td>\n",
       "      <td>h3k4me1</td>\n",
       "      <td>ChIP-seq</td>\n",
       "      <td>ENCSR130XNJ</td>\n",
       "      <td>ENCBS700NCU</td>\n",
       "      <td>/files/ENCFF110MCL/,/files/ENCFF702DHO/,/files...</td>\n",
       "      <td>/experiments/ENCSR696HNV/</td>\n",
       "      <td>/files/ENCFF532RKH/, /files/ENCFF702DHO/</td>\n",
       "      <td>/files/ENCFF487GVW/,/files/ENCFF022DLD/,/files...</td>\n",
       "      <td>/files/ENCFF487GVW/,/files/ENCFF022DLD/,/files...</td>\n",
       "    </tr>\n",
       "    <tr>\n",
       "      <th>2</th>\n",
       "      <td>ENCFF003JSV</td>\n",
       "      <td>IHECRE00003714.4</td>\n",
       "      <td>NaN</td>\n",
       "      <td>h3k36me3</td>\n",
       "      <td>ChIP-seq</td>\n",
       "      <td>ENCSR581PUR</td>\n",
       "      <td>ENCBS615MBV,ENCBS385OLC</td>\n",
       "      <td>/files/ENCFF643CGH/,/files/ENCFF042EJM/,/files...</td>\n",
       "      <td>/experiments/ENCSR196CXJ/</td>\n",
       "      <td>/files/ENCFF425EYY/, /files/ENCFF145ZRI/, /fil...</td>\n",
       "      <td>/files/ENCFF170GQM/,/files/ENCFF438MMK/,/files...</td>\n",
       "      <td>/files/ENCFF170GQM/,/files/ENCFF438MMK/,/files...</td>\n",
       "    </tr>\n",
       "    <tr>\n",
       "      <th>3</th>\n",
       "      <td>ENCFF003LZR</td>\n",
       "      <td>IHECRE00004659.3</td>\n",
       "      <td>NaN</td>\n",
       "      <td>h3k4me1</td>\n",
       "      <td>ChIP-seq</td>\n",
       "      <td>ENCSR000FCG</td>\n",
       "      <td>ENCBS481AAA,ENCBS482AAA</td>\n",
       "      <td>/files/ENCFF144WYV/,/files/ENCFF643CGH/,/files...</td>\n",
       "      <td>/experiments/ENCSR000EVA/</td>\n",
       "      <td>/files/ENCFF493CYY/, /files/ENCFF400CMC/, /fil...</td>\n",
       "      <td>/files/ENCFF002AAV/,/files/ENCFF002AAW/,/files...</td>\n",
       "      <td>/files/ENCFF002AAV/,/files/ENCFF002AAW/,/files...</td>\n",
       "    </tr>\n",
       "    <tr>\n",
       "      <th>4</th>\n",
       "      <td>ENCFF003MCE</td>\n",
       "      <td>NaN</td>\n",
       "      <td>NaN</td>\n",
       "      <td>h3k9me3</td>\n",
       "      <td>ChIP-seq</td>\n",
       "      <td>ENCSR703KLE</td>\n",
       "      <td>ENCBS212NYF</td>\n",
       "      <td>/files/ENCFF127TJQ/,/files/ENCFF110MCL/,/files...</td>\n",
       "      <td>/experiments/ENCSR462ZQL/</td>\n",
       "      <td>/files/ENCFF127TJQ/, /files/ENCFF711BOA/</td>\n",
       "      <td>/files/ENCFF793AZP/,/files/ENCFF413WGQ/,/files...</td>\n",
       "      <td>/files/ENCFF793AZP/,/files/ENCFF413WGQ/,/files...</td>\n",
       "    </tr>\n",
       "  </tbody>\n",
       "</table>\n",
       "</div>"
      ],
      "text/plain": [
       "        ENC_ID is_EpiAtlas_EpiRR Trackhub_validation assay_epiclass  \\\n",
       "0  ENCFF002QSR               NaN                 NaN       h3k27me3   \n",
       "1  ENCFF003AUO               NaN                 NaN        h3k4me1   \n",
       "2  ENCFF003JSV  IHECRE00003714.4                 NaN       h3k36me3   \n",
       "3  ENCFF003LZR  IHECRE00004659.3                 NaN        h3k4me1   \n",
       "4  ENCFF003MCE               NaN                 NaN        h3k9me3   \n",
       "\n",
       "      assay_name    accession      biosample_accession  \\\n",
       "0  Mint-ChIP-seq  ENCSR758YNR  ENCBS958FWY,ENCBS601OTT   \n",
       "1       ChIP-seq  ENCSR130XNJ              ENCBS700NCU   \n",
       "2       ChIP-seq  ENCSR581PUR  ENCBS615MBV,ENCBS385OLC   \n",
       "3       ChIP-seq  ENCSR000FCG  ENCBS481AAA,ENCBS482AAA   \n",
       "4       ChIP-seq  ENCSR703KLE              ENCBS212NYF   \n",
       "\n",
       "                                  contributing_files  \\\n",
       "0  /files/ENCFF490YMM/,/files/ENCFF643CGH/,/files...   \n",
       "1  /files/ENCFF110MCL/,/files/ENCFF702DHO/,/files...   \n",
       "2  /files/ENCFF643CGH/,/files/ENCFF042EJM/,/files...   \n",
       "3  /files/ENCFF144WYV/,/files/ENCFF643CGH/,/files...   \n",
       "4  /files/ENCFF127TJQ/,/files/ENCFF110MCL/,/files...   \n",
       "\n",
       "                    controls  \\\n",
       "0  /experiments/ENCSR901NYG/   \n",
       "1  /experiments/ENCSR696HNV/   \n",
       "2  /experiments/ENCSR196CXJ/   \n",
       "3  /experiments/ENCSR000EVA/   \n",
       "4  /experiments/ENCSR462ZQL/   \n",
       "\n",
       "                                        derived_from  \\\n",
       "0  /files/ENCFF453TYP/, /files/ENCFF874PSQ/, /fil...   \n",
       "1           /files/ENCFF532RKH/, /files/ENCFF702DHO/   \n",
       "2  /files/ENCFF425EYY/, /files/ENCFF145ZRI/, /fil...   \n",
       "3  /files/ENCFF493CYY/, /files/ENCFF400CMC/, /fil...   \n",
       "4           /files/ENCFF127TJQ/, /files/ENCFF711BOA/   \n",
       "\n",
       "                                               files  \\\n",
       "0  /files/ENCFF676FLB/,/files/ENCFF793DTA/,/files...   \n",
       "1  /files/ENCFF487GVW/,/files/ENCFF022DLD/,/files...   \n",
       "2  /files/ENCFF170GQM/,/files/ENCFF438MMK/,/files...   \n",
       "3  /files/ENCFF002AAV/,/files/ENCFF002AAW/,/files...   \n",
       "4  /files/ENCFF793AZP/,/files/ENCFF413WGQ/,/files...   \n",
       "\n",
       "                                      original_files  \n",
       "0  /files/ENCFF676FLB/,/files/ENCFF793DTA/,/files...  \n",
       "1  /files/ENCFF487GVW/,/files/ENCFF022DLD/,/files...  \n",
       "2  /files/ENCFF170GQM/,/files/ENCFF438MMK/,/files...  \n",
       "3  /files/ENCFF002AAV/,/files/ENCFF002AAW/,/files...  \n",
       "4  /files/ENCFF793AZP/,/files/ENCFF413WGQ/,/files...  "
      ]
     },
     "metadata": {},
     "output_type": "display_data"
    }
   ],
   "source": [
    "display(encode_meta_df.head())\n",
    "display(encode_ihec_df.head())"
   ]
  },
  {
   "cell_type": "code",
   "execution_count": 308,
   "metadata": {},
   "outputs": [
    {
     "name": "stdout",
     "output_type": "stream",
     "text": [
      "ENCODE metadata 2023-10-25 accessions: 9082\n",
      "ENCODE-IHEC file accessions: 5111\n"
     ]
    }
   ],
   "source": [
    "N_accession_1 = encode_meta_df[\"experiment_accession\"].nunique()\n",
    "N_accession_2 = encode_ihec_df[\"accession\"].nunique()\n",
    "print(f\"ENCODE metadata 2023-10-25 accessions: {N_accession_1}\")\n",
    "print(f\"ENCODE-IHEC file accessions: {N_accession_2}\")"
   ]
  },
  {
   "cell_type": "code",
   "execution_count": 309,
   "metadata": {},
   "outputs": [
    {
     "data": {
      "text/plain": [
       "assay_epiclass\n",
       "input       1981\n",
       "h3k4me3      706\n",
       "h3k27ac      624\n",
       "h3k27me3     587\n",
       "h3k4me1      560\n",
       "h3k36me3     556\n",
       "h3k9me3      538\n",
       "Name: count, dtype: int64"
      ]
     },
     "metadata": {},
     "output_type": "display_data"
    }
   ],
   "source": [
    "display(encode_ihec_df[ASSAY].value_counts(dropna=False))"
   ]
  },
  {
   "cell_type": "code",
   "execution_count": 310,
   "metadata": {},
   "outputs": [
    {
     "data": {
      "text/plain": [
       "assay_epiclass\n",
       "non-core    3599\n",
       "input       1981\n",
       "h3k4me3      706\n",
       "h3k27ac      624\n",
       "h3k27me3     587\n",
       "h3k4me1      560\n",
       "h3k36me3     556\n",
       "h3k9me3      538\n",
       "CTCF         468\n",
       "Name: count, dtype: int64"
      ]
     },
     "metadata": {},
     "output_type": "display_data"
    },
    {
     "data": {
      "text/plain": [
       "Assay\n",
       "CTCF        468\n",
       "H3K9ac      117\n",
       "POLR2A      115\n",
       "H3K4me2      77\n",
       "H4K20me1     57\n",
       "           ... \n",
       "ZNF837        1\n",
       "BAZ2A         1\n",
       "SKI           1\n",
       "HES4          1\n",
       "TMF1          1\n",
       "Name: count, Length: 1171, dtype: int64"
      ]
     },
     "metadata": {},
     "output_type": "display_data"
    }
   ],
   "source": [
    "display(encode_meta_df[ASSAY].value_counts(dropna=False))\n",
    "display(\n",
    "    encode_meta_df[~encode_meta_df[\"md5sum\"].isin(encode_ihec_df[\"ENC_ID\"])][\n",
    "        \"Assay\"\n",
    "    ].value_counts(dropna=False)\n",
    ")"
   ]
  },
  {
   "cell_type": "markdown",
   "metadata": {},
   "source": [
    "Conclusion: non-core files are not included in ENCODE_IHEC_keys.tsv. That's okay because these files were only used for training assay13, and were not included in any other classifier training. We now have enough information to create an almost complete \"in_epiatlas\" column."
   ]
  },
  {
   "cell_type": "markdown",
   "metadata": {},
   "source": [
    "## `in_epiatlas` creation"
   ]
  },
  {
   "cell_type": "code",
   "execution_count": 311,
   "metadata": {},
   "outputs": [
    {
     "data": {
      "text/plain": [
       "in_epiatlas\n",
       "False    4367\n",
       "True     1185\n",
       "Name: count, dtype: int64"
      ]
     },
     "metadata": {},
     "output_type": "display_data"
    }
   ],
   "source": [
    "encode_ihec_df[\"in_epiatlas\"] = encode_ihec_df[\"is_EpiAtlas_EpiRR\"].notnull()\n",
    "display(encode_ihec_df[\"in_epiatlas\"].value_counts(dropna=False))"
   ]
  },
  {
   "cell_type": "markdown",
   "metadata": {},
   "source": [
    "### Sanity check: accession, in_epiatlas pairs consistent (accessions are not unique)"
   ]
  },
  {
   "cell_type": "code",
   "execution_count": 312,
   "metadata": {},
   "outputs": [],
   "source": [
    "encode_ihec_df_pairs = encode_ihec_df[[\"accession\", \"in_epiatlas\"]].values.tolist()\n",
    "encode_ihec_df_pairs = tuple(zip(*encode_ihec_df_pairs))\n",
    "if len(encode_ihec_df_pairs) != len(set(encode_ihec_df_pairs)):\n",
    "    raise ValueError(\"Inconsistent 'in_epiatlas' values:\", encode_ihec_df_pairs)"
   ]
  },
  {
   "cell_type": "code",
   "execution_count": 313,
   "metadata": {},
   "outputs": [],
   "source": [
    "def check_epirr_in_epiatlas(\n",
    "    encode_accessions_df: pd.DataFrame, encode_ihec_df: pd.DataFrame\n",
    ") -> List[Tuple[str, str, str]]:\n",
    "    \"\"\"Determine which ENCODE datasets are included in EpiATLAS.\"\"\"\n",
    "    epirr_in_epiatlas = encode_accessions_df[[\"in_epiatlas\", \"experiment_accession\"]]\n",
    "    alt_in_epiatlas = encode_ihec_df[[\"in_epiatlas\", \"accession\"]]\n",
    "\n",
    "    common_accessions = set(epirr_in_epiatlas[\"experiment_accession\"]).intersection(\n",
    "        set(alt_in_epiatlas[\"accession\"])\n",
    "    )\n",
    "    alt_in_epiatlas_common = alt_in_epiatlas[\n",
    "        alt_in_epiatlas[\"accession\"].isin(common_accessions)\n",
    "    ]\n",
    "    epirr_in_epiatlas_common = epirr_in_epiatlas[\n",
    "        epirr_in_epiatlas[\"experiment_accession\"].isin(common_accessions)\n",
    "    ]\n",
    "\n",
    "    inconsistent_accession_tuples = []\n",
    "    for accession in common_accessions:\n",
    "        in_epitlas_1 = epirr_in_epiatlas_common[\n",
    "            epirr_in_epiatlas_common[\"experiment_accession\"] == accession\n",
    "        ][\"in_epiatlas\"].values\n",
    "        in_epitlas_2 = alt_in_epiatlas_common[\n",
    "            alt_in_epiatlas_common[\"accession\"] == accession\n",
    "        ][\"in_epiatlas\"].values\n",
    "\n",
    "        if len(in_epitlas_1) != 1:\n",
    "            # print(accession, in_epitlas_1)\n",
    "            in_epitlas_1 = any(in_epitlas_1)\n",
    "\n",
    "        else:\n",
    "            in_epitlas_1 = in_epitlas_1[0]\n",
    "\n",
    "        if len(in_epitlas_2) != 1:\n",
    "            # print(accession, in_epitlas_2)\n",
    "            in_epitlas_2 = any(in_epitlas_2)\n",
    "        else:\n",
    "            in_epitlas_2 = in_epitlas_2[0]\n",
    "\n",
    "        if in_epitlas_1 != in_epitlas_2:\n",
    "            inconsistent_accession_tuples.append((accession, in_epitlas_1, in_epitlas_2))\n",
    "            # raise ValueError(\"Inconsistent 'in_epiatlas' values:\", accession, in_epitlas_1, in_epitlas_2)\n",
    "\n",
    "    return inconsistent_accession_tuples"
   ]
  },
  {
   "cell_type": "code",
   "execution_count": 314,
   "metadata": {},
   "outputs": [],
   "source": [
    "inconsistent_accession_tuples = check_epirr_in_epiatlas(\n",
    "    encode_accessions_df, encode_ihec_df\n",
    ")"
   ]
  },
  {
   "cell_type": "code",
   "execution_count": 315,
   "metadata": {},
   "outputs": [
    {
     "data": {
      "text/html": [
       "<div>\n",
       "<style scoped>\n",
       "    .dataframe tbody tr th:only-of-type {\n",
       "        vertical-align: middle;\n",
       "    }\n",
       "\n",
       "    .dataframe tbody tr th {\n",
       "        vertical-align: top;\n",
       "    }\n",
       "\n",
       "    .dataframe thead th {\n",
       "        text-align: right;\n",
       "    }\n",
       "</style>\n",
       "<table border=\"1\" class=\"dataframe\">\n",
       "  <thead>\n",
       "    <tr style=\"text-align: right;\">\n",
       "      <th></th>\n",
       "      <th>ENC_ID</th>\n",
       "      <th>is_EpiAtlas_EpiRR</th>\n",
       "      <th>Trackhub_validation</th>\n",
       "      <th>assay_epiclass</th>\n",
       "      <th>assay_name</th>\n",
       "      <th>accession</th>\n",
       "      <th>biosample_accession</th>\n",
       "      <th>contributing_files</th>\n",
       "      <th>controls</th>\n",
       "      <th>derived_from</th>\n",
       "      <th>files</th>\n",
       "      <th>original_files</th>\n",
       "      <th>in_epiatlas</th>\n",
       "    </tr>\n",
       "  </thead>\n",
       "  <tbody>\n",
       "    <tr>\n",
       "      <th>82</th>\n",
       "      <td>ENCFF027AKL</td>\n",
       "      <td>NaN</td>\n",
       "      <td>NaN</td>\n",
       "      <td>h3k9me3</td>\n",
       "      <td>ChIP-seq</td>\n",
       "      <td>ENCSR657OGA</td>\n",
       "      <td>ENCBS324TZB,ENCBS500EWH</td>\n",
       "      <td>/files/ENCFF997KYP/,/files/ENCFF807MUK/,/files...</td>\n",
       "      <td>/experiments/ENCSR185OHN/</td>\n",
       "      <td>/files/ENCFF845ESW/, /files/ENCFF126TEH/, /fil...</td>\n",
       "      <td>/files/ENCFF532XGG/,/files/ENCFF636RWU/,/files...</td>\n",
       "      <td>/files/ENCFF532XGG/,/files/ENCFF636RWU/,/files...</td>\n",
       "      <td>False</td>\n",
       "    </tr>\n",
       "    <tr>\n",
       "      <th>112</th>\n",
       "      <td>ENCFF035PZL</td>\n",
       "      <td>NaN</td>\n",
       "      <td>NaN</td>\n",
       "      <td>h3k9me3</td>\n",
       "      <td>ChIP-seq</td>\n",
       "      <td>ENCSR726EEM</td>\n",
       "      <td>ENCBS952IFF</td>\n",
       "      <td>/files/ENCFF643CGH/,/files/ENCFF807MUK/,/files...</td>\n",
       "      <td>/experiments/ENCSR152HLZ/</td>\n",
       "      <td>/files/ENCFF637ERD/, /files/ENCFF814XGL/</td>\n",
       "      <td>/files/ENCFF814XGL/,/files/ENCFF623JAN/,/files...</td>\n",
       "      <td>/files/ENCFF814XGL/,/files/ENCFF623JAN/,/files...</td>\n",
       "      <td>False</td>\n",
       "    </tr>\n",
       "    <tr>\n",
       "      <th>404</th>\n",
       "      <td>ENCFF111ZPB</td>\n",
       "      <td>NaN</td>\n",
       "      <td>NaN</td>\n",
       "      <td>h3k4me1</td>\n",
       "      <td>ChIP-seq</td>\n",
       "      <td>ENCSR061UOM</td>\n",
       "      <td>ENCBS859QEM,ENCBS586HSP</td>\n",
       "      <td>/files/ENCFF579DGX/,/files/ENCFF110MCL/,/files...</td>\n",
       "      <td>/experiments/ENCSR269OND/</td>\n",
       "      <td>/files/ENCFF579DGX/, /files/ENCFF469FAN/, /fil...</td>\n",
       "      <td>/files/ENCFF135XXE/,/files/ENCFF556WTJ/,/files...</td>\n",
       "      <td>/files/ENCFF135XXE/,/files/ENCFF556WTJ/,/files...</td>\n",
       "      <td>False</td>\n",
       "    </tr>\n",
       "    <tr>\n",
       "      <th>475</th>\n",
       "      <td>ENCFF132QIU</td>\n",
       "      <td>NaN</td>\n",
       "      <td>NaN</td>\n",
       "      <td>h3k9me3</td>\n",
       "      <td>ChIP-seq</td>\n",
       "      <td>ENCSR708BMV</td>\n",
       "      <td>ENCBS677JLV,ENCBS955ZON</td>\n",
       "      <td>/files/ENCFF047RIR/,/files/ENCFF807MUK/,/files...</td>\n",
       "      <td>NaN</td>\n",
       "      <td>/files/ENCFF324KXJ/, /files/ENCFF047RIR/, /fil...</td>\n",
       "      <td>/files/ENCFF679MAY/,/files/ENCFF596WYF/,/files...</td>\n",
       "      <td>/files/ENCFF679MAY/,/files/ENCFF596WYF/,/files...</td>\n",
       "      <td>False</td>\n",
       "    </tr>\n",
       "    <tr>\n",
       "      <th>594</th>\n",
       "      <td>ENCFF168WFN</td>\n",
       "      <td>NaN</td>\n",
       "      <td>NaN</td>\n",
       "      <td>h3k27me3</td>\n",
       "      <td>ChIP-seq</td>\n",
       "      <td>ENCSR330MAM</td>\n",
       "      <td>ENCBS633XWN</td>\n",
       "      <td>/files/ENCFF643CGH/,/files/ENCFF571OYN/,/files...</td>\n",
       "      <td>NaN</td>\n",
       "      <td>/files/ENCFF253VOU/, /files/ENCFF571OYN/, /fil...</td>\n",
       "      <td>/files/ENCFF611JBQ/,/files/ENCFF860EWD/,/files...</td>\n",
       "      <td>/files/ENCFF611JBQ/,/files/ENCFF860EWD/,/files...</td>\n",
       "      <td>False</td>\n",
       "    </tr>\n",
       "  </tbody>\n",
       "</table>\n",
       "</div>"
      ],
      "text/plain": [
       "          ENC_ID is_EpiAtlas_EpiRR Trackhub_validation assay_epiclass  \\\n",
       "82   ENCFF027AKL               NaN                 NaN        h3k9me3   \n",
       "112  ENCFF035PZL               NaN                 NaN        h3k9me3   \n",
       "404  ENCFF111ZPB               NaN                 NaN        h3k4me1   \n",
       "475  ENCFF132QIU               NaN                 NaN        h3k9me3   \n",
       "594  ENCFF168WFN               NaN                 NaN       h3k27me3   \n",
       "\n",
       "    assay_name    accession      biosample_accession  \\\n",
       "82    ChIP-seq  ENCSR657OGA  ENCBS324TZB,ENCBS500EWH   \n",
       "112   ChIP-seq  ENCSR726EEM              ENCBS952IFF   \n",
       "404   ChIP-seq  ENCSR061UOM  ENCBS859QEM,ENCBS586HSP   \n",
       "475   ChIP-seq  ENCSR708BMV  ENCBS677JLV,ENCBS955ZON   \n",
       "594   ChIP-seq  ENCSR330MAM              ENCBS633XWN   \n",
       "\n",
       "                                    contributing_files  \\\n",
       "82   /files/ENCFF997KYP/,/files/ENCFF807MUK/,/files...   \n",
       "112  /files/ENCFF643CGH/,/files/ENCFF807MUK/,/files...   \n",
       "404  /files/ENCFF579DGX/,/files/ENCFF110MCL/,/files...   \n",
       "475  /files/ENCFF047RIR/,/files/ENCFF807MUK/,/files...   \n",
       "594  /files/ENCFF643CGH/,/files/ENCFF571OYN/,/files...   \n",
       "\n",
       "                      controls  \\\n",
       "82   /experiments/ENCSR185OHN/   \n",
       "112  /experiments/ENCSR152HLZ/   \n",
       "404  /experiments/ENCSR269OND/   \n",
       "475                        NaN   \n",
       "594                        NaN   \n",
       "\n",
       "                                          derived_from  \\\n",
       "82   /files/ENCFF845ESW/, /files/ENCFF126TEH/, /fil...   \n",
       "112           /files/ENCFF637ERD/, /files/ENCFF814XGL/   \n",
       "404  /files/ENCFF579DGX/, /files/ENCFF469FAN/, /fil...   \n",
       "475  /files/ENCFF324KXJ/, /files/ENCFF047RIR/, /fil...   \n",
       "594  /files/ENCFF253VOU/, /files/ENCFF571OYN/, /fil...   \n",
       "\n",
       "                                                 files  \\\n",
       "82   /files/ENCFF532XGG/,/files/ENCFF636RWU/,/files...   \n",
       "112  /files/ENCFF814XGL/,/files/ENCFF623JAN/,/files...   \n",
       "404  /files/ENCFF135XXE/,/files/ENCFF556WTJ/,/files...   \n",
       "475  /files/ENCFF679MAY/,/files/ENCFF596WYF/,/files...   \n",
       "594  /files/ENCFF611JBQ/,/files/ENCFF860EWD/,/files...   \n",
       "\n",
       "                                        original_files  in_epiatlas  \n",
       "82   /files/ENCFF532XGG/,/files/ENCFF636RWU/,/files...        False  \n",
       "112  /files/ENCFF814XGL/,/files/ENCFF623JAN/,/files...        False  \n",
       "404  /files/ENCFF135XXE/,/files/ENCFF556WTJ/,/files...        False  \n",
       "475  /files/ENCFF679MAY/,/files/ENCFF596WYF/,/files...        False  \n",
       "594  /files/ENCFF611JBQ/,/files/ENCFF860EWD/,/files...        False  "
      ]
     },
     "metadata": {},
     "output_type": "display_data"
    }
   ],
   "source": [
    "inconsistent_accession_values = [dset[0] for dset in inconsistent_accession_tuples]\n",
    "suspect_df = encode_ihec_df[\n",
    "    encode_ihec_df[\"accession\"].isin(inconsistent_accession_values)\n",
    "]\n",
    "display(suspect_df.head())"
   ]
  },
  {
   "cell_type": "code",
   "execution_count": 316,
   "metadata": {},
   "outputs": [],
   "source": [
    "one_biosample_accs = suspect_df[suspect_df[\"biosample_accession\"].str.endswith(\"DMP\")][\n",
    "    \"accession\"\n",
    "].values.tolist()"
   ]
  },
  {
   "cell_type": "code",
   "execution_count": 317,
   "metadata": {},
   "outputs": [
    {
     "name": "stdout",
     "output_type": "stream",
     "text": [
      "ENCSR000AHE True\n",
      "ENCSR000DMW True\n",
      "ENCSR000EWW True\n",
      "ENCSR768LHG False\n"
     ]
    },
    {
     "data": {
      "text/html": [
       "<div>\n",
       "<style scoped>\n",
       "    .dataframe tbody tr th:only-of-type {\n",
       "        vertical-align: middle;\n",
       "    }\n",
       "\n",
       "    .dataframe tbody tr th {\n",
       "        vertical-align: top;\n",
       "    }\n",
       "\n",
       "    .dataframe thead th {\n",
       "        text-align: right;\n",
       "    }\n",
       "</style>\n",
       "<table border=\"1\" class=\"dataframe\">\n",
       "  <thead>\n",
       "    <tr style=\"text-align: right;\">\n",
       "      <th></th>\n",
       "      <th>ENC_ID</th>\n",
       "      <th>is_EpiAtlas_EpiRR</th>\n",
       "      <th>Trackhub_validation</th>\n",
       "      <th>assay_epiclass</th>\n",
       "      <th>assay_name</th>\n",
       "      <th>accession</th>\n",
       "      <th>biosample_accession</th>\n",
       "      <th>contributing_files</th>\n",
       "      <th>controls</th>\n",
       "      <th>derived_from</th>\n",
       "      <th>files</th>\n",
       "      <th>original_files</th>\n",
       "      <th>in_epiatlas</th>\n",
       "    </tr>\n",
       "  </thead>\n",
       "  <tbody>\n",
       "    <tr>\n",
       "      <th>3878</th>\n",
       "      <td>ENCFF153LTH</td>\n",
       "      <td>NaN</td>\n",
       "      <td>NaN</td>\n",
       "      <td>input</td>\n",
       "      <td>ChIP-seq</td>\n",
       "      <td>ENCSR000AHE</td>\n",
       "      <td>ENCBS001AAA,ENCBS000AAA,ENCBS056AAA</td>\n",
       "      <td>NaN</td>\n",
       "      <td>NaN</td>\n",
       "      <td>/files/ENCFF000QQG/, /files/ENCFF110MCL/</td>\n",
       "      <td>/files/ENCFF000QPY/,/files/ENCFF000QPZ/,/files...</td>\n",
       "      <td>NaN</td>\n",
       "      <td>False</td>\n",
       "    </tr>\n",
       "    <tr>\n",
       "      <th>4038</th>\n",
       "      <td>ENCFF238STO</td>\n",
       "      <td>NaN</td>\n",
       "      <td>NaN</td>\n",
       "      <td>input</td>\n",
       "      <td>ChIP-seq</td>\n",
       "      <td>ENCSR000EWW</td>\n",
       "      <td>ENCBS105ENC</td>\n",
       "      <td>NaN</td>\n",
       "      <td>NaN</td>\n",
       "      <td>/files/ENCFF110MCL/, /files/ENCFF000VHM/</td>\n",
       "      <td>/files/ENCFF000VGM/,/files/ENCFF000VGO/,/files...</td>\n",
       "      <td>NaN</td>\n",
       "      <td>False</td>\n",
       "    </tr>\n",
       "    <tr>\n",
       "      <th>4176</th>\n",
       "      <td>ENCFF310KKN</td>\n",
       "      <td>NaN</td>\n",
       "      <td>NaN</td>\n",
       "      <td>input</td>\n",
       "      <td>ChIP-seq</td>\n",
       "      <td>ENCSR000AHE</td>\n",
       "      <td>ENCBS001AAA,ENCBS000AAA,ENCBS056AAA</td>\n",
       "      <td>NaN</td>\n",
       "      <td>NaN</td>\n",
       "      <td>/files/ENCFF000QQI/, /files/ENCFF110MCL/</td>\n",
       "      <td>/files/ENCFF000QPY/,/files/ENCFF000QPZ/,/files...</td>\n",
       "      <td>NaN</td>\n",
       "      <td>False</td>\n",
       "    </tr>\n",
       "    <tr>\n",
       "      <th>4419</th>\n",
       "      <td>ENCFF433BQD</td>\n",
       "      <td>IHECRE00001853.4</td>\n",
       "      <td>NaN</td>\n",
       "      <td>input</td>\n",
       "      <td>ChIP-seq</td>\n",
       "      <td>ENCSR768LHG</td>\n",
       "      <td>ENCBS789UPK,ENCBS967MVZ</td>\n",
       "      <td>NaN</td>\n",
       "      <td>NaN</td>\n",
       "      <td>/files/ENCFF595BTS/, /files/ENCFF110MCL/, /fil...</td>\n",
       "      <td>/files/ENCFF640MKX/,/files/ENCFF433BQD/,/files...</td>\n",
       "      <td>NaN</td>\n",
       "      <td>True</td>\n",
       "    </tr>\n",
       "    <tr>\n",
       "      <th>4502</th>\n",
       "      <td>ENCFF474LAV</td>\n",
       "      <td>IHECRE00001853.4</td>\n",
       "      <td>NaN</td>\n",
       "      <td>input</td>\n",
       "      <td>ChIP-seq</td>\n",
       "      <td>ENCSR768LHG</td>\n",
       "      <td>ENCBS789UPK,ENCBS967MVZ</td>\n",
       "      <td>NaN</td>\n",
       "      <td>NaN</td>\n",
       "      <td>/files/ENCFF640MKX/, /files/ENCFF318ZNB/, /fil...</td>\n",
       "      <td>/files/ENCFF640MKX/,/files/ENCFF433BQD/,/files...</td>\n",
       "      <td>NaN</td>\n",
       "      <td>True</td>\n",
       "    </tr>\n",
       "    <tr>\n",
       "      <th>4585</th>\n",
       "      <td>ENCFF506VER</td>\n",
       "      <td>NaN</td>\n",
       "      <td>NaN</td>\n",
       "      <td>input</td>\n",
       "      <td>ChIP-seq</td>\n",
       "      <td>ENCSR000EWW</td>\n",
       "      <td>ENCBS105ENC</td>\n",
       "      <td>NaN</td>\n",
       "      <td>NaN</td>\n",
       "      <td>/files/ENCFF110MCL/, /files/ENCFF000VHL/</td>\n",
       "      <td>/files/ENCFF000VGM/,/files/ENCFF000VGO/,/files...</td>\n",
       "      <td>NaN</td>\n",
       "      <td>False</td>\n",
       "    </tr>\n",
       "    <tr>\n",
       "      <th>4908</th>\n",
       "      <td>ENCFF671SEQ</td>\n",
       "      <td>NaN</td>\n",
       "      <td>NaN</td>\n",
       "      <td>input</td>\n",
       "      <td>ChIP-seq</td>\n",
       "      <td>ENCSR000AHE</td>\n",
       "      <td>ENCBS001AAA,ENCBS000AAA,ENCBS056AAA</td>\n",
       "      <td>NaN</td>\n",
       "      <td>NaN</td>\n",
       "      <td>/files/ENCFF000QQK/, /files/ENCFF110MCL/</td>\n",
       "      <td>/files/ENCFF000QPY/,/files/ENCFF000QPZ/,/files...</td>\n",
       "      <td>NaN</td>\n",
       "      <td>False</td>\n",
       "    </tr>\n",
       "    <tr>\n",
       "      <th>5018</th>\n",
       "      <td>ENCFF731WWK</td>\n",
       "      <td>NaN</td>\n",
       "      <td>NaN</td>\n",
       "      <td>input</td>\n",
       "      <td>ChIP-seq</td>\n",
       "      <td>ENCSR000AHE</td>\n",
       "      <td>ENCBS001AAA,ENCBS000AAA,ENCBS056AAA</td>\n",
       "      <td>NaN</td>\n",
       "      <td>NaN</td>\n",
       "      <td>/files/ENCFF000QQJ/, /files/ENCFF110MCL/</td>\n",
       "      <td>/files/ENCFF000QPY/,/files/ENCFF000QPZ/,/files...</td>\n",
       "      <td>NaN</td>\n",
       "      <td>False</td>\n",
       "    </tr>\n",
       "    <tr>\n",
       "      <th>5146</th>\n",
       "      <td>ENCFF797MVP</td>\n",
       "      <td>NaN</td>\n",
       "      <td>NaN</td>\n",
       "      <td>input</td>\n",
       "      <td>ChIP-seq</td>\n",
       "      <td>ENCSR000DMW</td>\n",
       "      <td>ENCBS252AAA</td>\n",
       "      <td>NaN</td>\n",
       "      <td>NaN</td>\n",
       "      <td>/files/ENCFF000SAZ/, /files/ENCFF110MCL/</td>\n",
       "      <td>/files/ENCFF000SAV/,/files/ENCFF000SAW/,/files...</td>\n",
       "      <td>NaN</td>\n",
       "      <td>False</td>\n",
       "    </tr>\n",
       "  </tbody>\n",
       "</table>\n",
       "</div>"
      ],
      "text/plain": [
       "           ENC_ID is_EpiAtlas_EpiRR Trackhub_validation assay_epiclass  \\\n",
       "3878  ENCFF153LTH               NaN                 NaN          input   \n",
       "4038  ENCFF238STO               NaN                 NaN          input   \n",
       "4176  ENCFF310KKN               NaN                 NaN          input   \n",
       "4419  ENCFF433BQD  IHECRE00001853.4                 NaN          input   \n",
       "4502  ENCFF474LAV  IHECRE00001853.4                 NaN          input   \n",
       "4585  ENCFF506VER               NaN                 NaN          input   \n",
       "4908  ENCFF671SEQ               NaN                 NaN          input   \n",
       "5018  ENCFF731WWK               NaN                 NaN          input   \n",
       "5146  ENCFF797MVP               NaN                 NaN          input   \n",
       "\n",
       "     assay_name    accession                  biosample_accession  \\\n",
       "3878   ChIP-seq  ENCSR000AHE  ENCBS001AAA,ENCBS000AAA,ENCBS056AAA   \n",
       "4038   ChIP-seq  ENCSR000EWW                          ENCBS105ENC   \n",
       "4176   ChIP-seq  ENCSR000AHE  ENCBS001AAA,ENCBS000AAA,ENCBS056AAA   \n",
       "4419   ChIP-seq  ENCSR768LHG              ENCBS789UPK,ENCBS967MVZ   \n",
       "4502   ChIP-seq  ENCSR768LHG              ENCBS789UPK,ENCBS967MVZ   \n",
       "4585   ChIP-seq  ENCSR000EWW                          ENCBS105ENC   \n",
       "4908   ChIP-seq  ENCSR000AHE  ENCBS001AAA,ENCBS000AAA,ENCBS056AAA   \n",
       "5018   ChIP-seq  ENCSR000AHE  ENCBS001AAA,ENCBS000AAA,ENCBS056AAA   \n",
       "5146   ChIP-seq  ENCSR000DMW                          ENCBS252AAA   \n",
       "\n",
       "     contributing_files controls  \\\n",
       "3878                NaN      NaN   \n",
       "4038                NaN      NaN   \n",
       "4176                NaN      NaN   \n",
       "4419                NaN      NaN   \n",
       "4502                NaN      NaN   \n",
       "4585                NaN      NaN   \n",
       "4908                NaN      NaN   \n",
       "5018                NaN      NaN   \n",
       "5146                NaN      NaN   \n",
       "\n",
       "                                           derived_from  \\\n",
       "3878           /files/ENCFF000QQG/, /files/ENCFF110MCL/   \n",
       "4038           /files/ENCFF110MCL/, /files/ENCFF000VHM/   \n",
       "4176           /files/ENCFF000QQI/, /files/ENCFF110MCL/   \n",
       "4419  /files/ENCFF595BTS/, /files/ENCFF110MCL/, /fil...   \n",
       "4502  /files/ENCFF640MKX/, /files/ENCFF318ZNB/, /fil...   \n",
       "4585           /files/ENCFF110MCL/, /files/ENCFF000VHL/   \n",
       "4908           /files/ENCFF000QQK/, /files/ENCFF110MCL/   \n",
       "5018           /files/ENCFF000QQJ/, /files/ENCFF110MCL/   \n",
       "5146           /files/ENCFF000SAZ/, /files/ENCFF110MCL/   \n",
       "\n",
       "                                                  files original_files  \\\n",
       "3878  /files/ENCFF000QPY/,/files/ENCFF000QPZ/,/files...            NaN   \n",
       "4038  /files/ENCFF000VGM/,/files/ENCFF000VGO/,/files...            NaN   \n",
       "4176  /files/ENCFF000QPY/,/files/ENCFF000QPZ/,/files...            NaN   \n",
       "4419  /files/ENCFF640MKX/,/files/ENCFF433BQD/,/files...            NaN   \n",
       "4502  /files/ENCFF640MKX/,/files/ENCFF433BQD/,/files...            NaN   \n",
       "4585  /files/ENCFF000VGM/,/files/ENCFF000VGO/,/files...            NaN   \n",
       "4908  /files/ENCFF000QPY/,/files/ENCFF000QPZ/,/files...            NaN   \n",
       "5018  /files/ENCFF000QPY/,/files/ENCFF000QPZ/,/files...            NaN   \n",
       "5146  /files/ENCFF000SAV/,/files/ENCFF000SAW/,/files...            NaN   \n",
       "\n",
       "      in_epiatlas  \n",
       "3878        False  \n",
       "4038        False  \n",
       "4176        False  \n",
       "4419         True  \n",
       "4502         True  \n",
       "4585        False  \n",
       "4908        False  \n",
       "5018        False  \n",
       "5146        False  "
      ]
     },
     "metadata": {},
     "output_type": "display_data"
    },
    {
     "data": {
      "text/html": [
       "<div>\n",
       "<style scoped>\n",
       "    .dataframe tbody tr th:only-of-type {\n",
       "        vertical-align: middle;\n",
       "    }\n",
       "\n",
       "    .dataframe tbody tr th {\n",
       "        vertical-align: top;\n",
       "    }\n",
       "\n",
       "    .dataframe thead th {\n",
       "        text-align: right;\n",
       "    }\n",
       "</style>\n",
       "<table border=\"1\" class=\"dataframe\">\n",
       "  <thead>\n",
       "    <tr style=\"text-align: right;\">\n",
       "      <th></th>\n",
       "      <th>md5sum</th>\n",
       "      <th>File format</th>\n",
       "      <th>File type</th>\n",
       "      <th>Output type</th>\n",
       "      <th>File assembly</th>\n",
       "      <th>Assay</th>\n",
       "      <th>Donor(s)</th>\n",
       "      <th>Biosample term id</th>\n",
       "      <th>Biosample term name_x</th>\n",
       "      <th>Biosample organism</th>\n",
       "      <th>...</th>\n",
       "      <th>biosample_treatment_duration</th>\n",
       "      <th>biosample_treatment_duration_units</th>\n",
       "      <th>biosample_modification_site_target_organism</th>\n",
       "      <th>biosample_modification_site_introduced_gene_organism</th>\n",
       "      <th>replicates</th>\n",
       "      <th>cellular_component</th>\n",
       "      <th>files_replace</th>\n",
       "      <th>donor_sex</th>\n",
       "      <th>cancer_status</th>\n",
       "      <th>experiment_accession</th>\n",
       "    </tr>\n",
       "  </thead>\n",
       "  <tbody>\n",
       "    <tr>\n",
       "      <th>471</th>\n",
       "      <td>ENCFF731WWK</td>\n",
       "      <td>unknown</td>\n",
       "      <td>unknown</td>\n",
       "      <td>unknown</td>\n",
       "      <td>unknown</td>\n",
       "      <td>unknown</td>\n",
       "      <td>unknown</td>\n",
       "      <td>unknown</td>\n",
       "      <td>unknown</td>\n",
       "      <td>unknown</td>\n",
       "      <td>...</td>\n",
       "      <td>unknown</td>\n",
       "      <td>unknown</td>\n",
       "      <td>unknown</td>\n",
       "      <td>unknown</td>\n",
       "      <td>/replicates/13167a1b-ed51-42a4-ff8b-c35755bda4...</td>\n",
       "      <td>unknown</td>\n",
       "      <td>ENCFF000QPY,ENCFF000QPZ,ENCFF000QQB,ENCFF000QQ...</td>\n",
       "      <td>female</td>\n",
       "      <td>cancer</td>\n",
       "      <td>ENCSR000AHE</td>\n",
       "    </tr>\n",
       "    <tr>\n",
       "      <th>1166</th>\n",
       "      <td>ENCFF474LAV</td>\n",
       "      <td>unknown</td>\n",
       "      <td>unknown</td>\n",
       "      <td>unknown</td>\n",
       "      <td>unknown</td>\n",
       "      <td>unknown</td>\n",
       "      <td>unknown</td>\n",
       "      <td>unknown</td>\n",
       "      <td>unknown</td>\n",
       "      <td>unknown</td>\n",
       "      <td>...</td>\n",
       "      <td>unknown</td>\n",
       "      <td>unknown</td>\n",
       "      <td>unknown</td>\n",
       "      <td>unknown</td>\n",
       "      <td>/replicates/09526e3d-f12f-486a-a0ac-b8cf1ebda4...</td>\n",
       "      <td>unknown</td>\n",
       "      <td>ENCFF640MKX,ENCFF433BQD,ENCFF318ZNB,ENCFF222VR...</td>\n",
       "      <td>unknown</td>\n",
       "      <td>unknown</td>\n",
       "      <td>ENCSR768LHG</td>\n",
       "    </tr>\n",
       "    <tr>\n",
       "      <th>1390</th>\n",
       "      <td>ENCFF506VER</td>\n",
       "      <td>unknown</td>\n",
       "      <td>unknown</td>\n",
       "      <td>unknown</td>\n",
       "      <td>unknown</td>\n",
       "      <td>unknown</td>\n",
       "      <td>unknown</td>\n",
       "      <td>unknown</td>\n",
       "      <td>unknown</td>\n",
       "      <td>unknown</td>\n",
       "      <td>...</td>\n",
       "      <td>unknown</td>\n",
       "      <td>unknown</td>\n",
       "      <td>unknown</td>\n",
       "      <td>unknown</td>\n",
       "      <td>/replicates/3ae0e615-943c-4ad8-9cb2-3e7d9509b8...</td>\n",
       "      <td>unknown</td>\n",
       "      <td>ENCFF000VGM,ENCFF000VGO,ENCFF000VGP,ENCFF000VH...</td>\n",
       "      <td>female</td>\n",
       "      <td>cancer</td>\n",
       "      <td>ENCSR000EWW</td>\n",
       "    </tr>\n",
       "    <tr>\n",
       "      <th>4225</th>\n",
       "      <td>ENCFF433BQD</td>\n",
       "      <td>unknown</td>\n",
       "      <td>unknown</td>\n",
       "      <td>unknown</td>\n",
       "      <td>unknown</td>\n",
       "      <td>unknown</td>\n",
       "      <td>unknown</td>\n",
       "      <td>unknown</td>\n",
       "      <td>unknown</td>\n",
       "      <td>unknown</td>\n",
       "      <td>...</td>\n",
       "      <td>unknown</td>\n",
       "      <td>unknown</td>\n",
       "      <td>unknown</td>\n",
       "      <td>unknown</td>\n",
       "      <td>/replicates/09526e3d-f12f-486a-a0ac-b8cf1ebda4...</td>\n",
       "      <td>unknown</td>\n",
       "      <td>ENCFF640MKX,ENCFF433BQD,ENCFF318ZNB,ENCFF222VR...</td>\n",
       "      <td>unknown</td>\n",
       "      <td>unknown</td>\n",
       "      <td>ENCSR768LHG</td>\n",
       "    </tr>\n",
       "    <tr>\n",
       "      <th>4767</th>\n",
       "      <td>ENCFF671SEQ</td>\n",
       "      <td>unknown</td>\n",
       "      <td>unknown</td>\n",
       "      <td>unknown</td>\n",
       "      <td>unknown</td>\n",
       "      <td>unknown</td>\n",
       "      <td>unknown</td>\n",
       "      <td>unknown</td>\n",
       "      <td>unknown</td>\n",
       "      <td>unknown</td>\n",
       "      <td>...</td>\n",
       "      <td>unknown</td>\n",
       "      <td>unknown</td>\n",
       "      <td>unknown</td>\n",
       "      <td>unknown</td>\n",
       "      <td>/replicates/13167a1b-ed51-42a4-ff8b-c35755bda4...</td>\n",
       "      <td>unknown</td>\n",
       "      <td>ENCFF000QPY,ENCFF000QPZ,ENCFF000QQB,ENCFF000QQ...</td>\n",
       "      <td>female</td>\n",
       "      <td>cancer</td>\n",
       "      <td>ENCSR000AHE</td>\n",
       "    </tr>\n",
       "    <tr>\n",
       "      <th>5741</th>\n",
       "      <td>ENCFF797MVP</td>\n",
       "      <td>unknown</td>\n",
       "      <td>unknown</td>\n",
       "      <td>unknown</td>\n",
       "      <td>unknown</td>\n",
       "      <td>unknown</td>\n",
       "      <td>unknown</td>\n",
       "      <td>unknown</td>\n",
       "      <td>unknown</td>\n",
       "      <td>unknown</td>\n",
       "      <td>...</td>\n",
       "      <td>unknown</td>\n",
       "      <td>unknown</td>\n",
       "      <td>unknown</td>\n",
       "      <td>unknown</td>\n",
       "      <td>/replicates/5a207111-75e0-40ee-8a3d-453012087339/</td>\n",
       "      <td>unknown</td>\n",
       "      <td>ENCFF000SAV,ENCFF000SAW,ENCFF000SAZ,ENCFF028DN...</td>\n",
       "      <td>female</td>\n",
       "      <td>cancer</td>\n",
       "      <td>ENCSR000DMW</td>\n",
       "    </tr>\n",
       "    <tr>\n",
       "      <th>6869</th>\n",
       "      <td>ENCFF310KKN</td>\n",
       "      <td>unknown</td>\n",
       "      <td>unknown</td>\n",
       "      <td>unknown</td>\n",
       "      <td>unknown</td>\n",
       "      <td>unknown</td>\n",
       "      <td>unknown</td>\n",
       "      <td>unknown</td>\n",
       "      <td>unknown</td>\n",
       "      <td>unknown</td>\n",
       "      <td>...</td>\n",
       "      <td>unknown</td>\n",
       "      <td>unknown</td>\n",
       "      <td>unknown</td>\n",
       "      <td>unknown</td>\n",
       "      <td>/replicates/13167a1b-ed51-42a4-ff8b-c35755bda4...</td>\n",
       "      <td>unknown</td>\n",
       "      <td>ENCFF000QPY,ENCFF000QPZ,ENCFF000QQB,ENCFF000QQ...</td>\n",
       "      <td>female</td>\n",
       "      <td>cancer</td>\n",
       "      <td>ENCSR000AHE</td>\n",
       "    </tr>\n",
       "    <tr>\n",
       "      <th>8104</th>\n",
       "      <td>ENCFF238STO</td>\n",
       "      <td>unknown</td>\n",
       "      <td>unknown</td>\n",
       "      <td>unknown</td>\n",
       "      <td>unknown</td>\n",
       "      <td>unknown</td>\n",
       "      <td>unknown</td>\n",
       "      <td>unknown</td>\n",
       "      <td>unknown</td>\n",
       "      <td>unknown</td>\n",
       "      <td>...</td>\n",
       "      <td>unknown</td>\n",
       "      <td>unknown</td>\n",
       "      <td>unknown</td>\n",
       "      <td>unknown</td>\n",
       "      <td>/replicates/3ae0e615-943c-4ad8-9cb2-3e7d9509b8...</td>\n",
       "      <td>unknown</td>\n",
       "      <td>ENCFF000VGM,ENCFF000VGO,ENCFF000VGP,ENCFF000VH...</td>\n",
       "      <td>female</td>\n",
       "      <td>cancer</td>\n",
       "      <td>ENCSR000EWW</td>\n",
       "    </tr>\n",
       "    <tr>\n",
       "      <th>9142</th>\n",
       "      <td>ENCFF153LTH</td>\n",
       "      <td>unknown</td>\n",
       "      <td>unknown</td>\n",
       "      <td>unknown</td>\n",
       "      <td>unknown</td>\n",
       "      <td>unknown</td>\n",
       "      <td>unknown</td>\n",
       "      <td>unknown</td>\n",
       "      <td>unknown</td>\n",
       "      <td>unknown</td>\n",
       "      <td>...</td>\n",
       "      <td>unknown</td>\n",
       "      <td>unknown</td>\n",
       "      <td>unknown</td>\n",
       "      <td>unknown</td>\n",
       "      <td>/replicates/13167a1b-ed51-42a4-ff8b-c35755bda4...</td>\n",
       "      <td>unknown</td>\n",
       "      <td>ENCFF000QPY,ENCFF000QPZ,ENCFF000QQB,ENCFF000QQ...</td>\n",
       "      <td>female</td>\n",
       "      <td>cancer</td>\n",
       "      <td>ENCSR000AHE</td>\n",
       "    </tr>\n",
       "  </tbody>\n",
       "</table>\n",
       "<p>9 rows × 183 columns</p>\n",
       "</div>"
      ],
      "text/plain": [
       "           md5sum File format File type Output type File assembly    Assay  \\\n",
       "471   ENCFF731WWK     unknown   unknown     unknown       unknown  unknown   \n",
       "1166  ENCFF474LAV     unknown   unknown     unknown       unknown  unknown   \n",
       "1390  ENCFF506VER     unknown   unknown     unknown       unknown  unknown   \n",
       "4225  ENCFF433BQD     unknown   unknown     unknown       unknown  unknown   \n",
       "4767  ENCFF671SEQ     unknown   unknown     unknown       unknown  unknown   \n",
       "5741  ENCFF797MVP     unknown   unknown     unknown       unknown  unknown   \n",
       "6869  ENCFF310KKN     unknown   unknown     unknown       unknown  unknown   \n",
       "8104  ENCFF238STO     unknown   unknown     unknown       unknown  unknown   \n",
       "9142  ENCFF153LTH     unknown   unknown     unknown       unknown  unknown   \n",
       "\n",
       "     Donor(s) Biosample term id Biosample term name_x Biosample organism  ...  \\\n",
       "471   unknown           unknown               unknown            unknown  ...   \n",
       "1166  unknown           unknown               unknown            unknown  ...   \n",
       "1390  unknown           unknown               unknown            unknown  ...   \n",
       "4225  unknown           unknown               unknown            unknown  ...   \n",
       "4767  unknown           unknown               unknown            unknown  ...   \n",
       "5741  unknown           unknown               unknown            unknown  ...   \n",
       "6869  unknown           unknown               unknown            unknown  ...   \n",
       "8104  unknown           unknown               unknown            unknown  ...   \n",
       "9142  unknown           unknown               unknown            unknown  ...   \n",
       "\n",
       "     biosample_treatment_duration biosample_treatment_duration_units  \\\n",
       "471                       unknown                            unknown   \n",
       "1166                      unknown                            unknown   \n",
       "1390                      unknown                            unknown   \n",
       "4225                      unknown                            unknown   \n",
       "4767                      unknown                            unknown   \n",
       "5741                      unknown                            unknown   \n",
       "6869                      unknown                            unknown   \n",
       "8104                      unknown                            unknown   \n",
       "9142                      unknown                            unknown   \n",
       "\n",
       "     biosample_modification_site_target_organism  \\\n",
       "471                                      unknown   \n",
       "1166                                     unknown   \n",
       "1390                                     unknown   \n",
       "4225                                     unknown   \n",
       "4767                                     unknown   \n",
       "5741                                     unknown   \n",
       "6869                                     unknown   \n",
       "8104                                     unknown   \n",
       "9142                                     unknown   \n",
       "\n",
       "     biosample_modification_site_introduced_gene_organism  \\\n",
       "471                                             unknown     \n",
       "1166                                            unknown     \n",
       "1390                                            unknown     \n",
       "4225                                            unknown     \n",
       "4767                                            unknown     \n",
       "5741                                            unknown     \n",
       "6869                                            unknown     \n",
       "8104                                            unknown     \n",
       "9142                                            unknown     \n",
       "\n",
       "                                             replicates cellular_component  \\\n",
       "471   /replicates/13167a1b-ed51-42a4-ff8b-c35755bda4...            unknown   \n",
       "1166  /replicates/09526e3d-f12f-486a-a0ac-b8cf1ebda4...            unknown   \n",
       "1390  /replicates/3ae0e615-943c-4ad8-9cb2-3e7d9509b8...            unknown   \n",
       "4225  /replicates/09526e3d-f12f-486a-a0ac-b8cf1ebda4...            unknown   \n",
       "4767  /replicates/13167a1b-ed51-42a4-ff8b-c35755bda4...            unknown   \n",
       "5741  /replicates/5a207111-75e0-40ee-8a3d-453012087339/            unknown   \n",
       "6869  /replicates/13167a1b-ed51-42a4-ff8b-c35755bda4...            unknown   \n",
       "8104  /replicates/3ae0e615-943c-4ad8-9cb2-3e7d9509b8...            unknown   \n",
       "9142  /replicates/13167a1b-ed51-42a4-ff8b-c35755bda4...            unknown   \n",
       "\n",
       "                                          files_replace donor_sex  \\\n",
       "471   ENCFF000QPY,ENCFF000QPZ,ENCFF000QQB,ENCFF000QQ...    female   \n",
       "1166  ENCFF640MKX,ENCFF433BQD,ENCFF318ZNB,ENCFF222VR...   unknown   \n",
       "1390  ENCFF000VGM,ENCFF000VGO,ENCFF000VGP,ENCFF000VH...    female   \n",
       "4225  ENCFF640MKX,ENCFF433BQD,ENCFF318ZNB,ENCFF222VR...   unknown   \n",
       "4767  ENCFF000QPY,ENCFF000QPZ,ENCFF000QQB,ENCFF000QQ...    female   \n",
       "5741  ENCFF000SAV,ENCFF000SAW,ENCFF000SAZ,ENCFF028DN...    female   \n",
       "6869  ENCFF000QPY,ENCFF000QPZ,ENCFF000QQB,ENCFF000QQ...    female   \n",
       "8104  ENCFF000VGM,ENCFF000VGO,ENCFF000VGP,ENCFF000VH...    female   \n",
       "9142  ENCFF000QPY,ENCFF000QPZ,ENCFF000QQB,ENCFF000QQ...    female   \n",
       "\n",
       "     cancer_status experiment_accession  \n",
       "471         cancer          ENCSR000AHE  \n",
       "1166       unknown          ENCSR768LHG  \n",
       "1390        cancer          ENCSR000EWW  \n",
       "4225       unknown          ENCSR768LHG  \n",
       "4767        cancer          ENCSR000AHE  \n",
       "5741        cancer          ENCSR000DMW  \n",
       "6869        cancer          ENCSR000AHE  \n",
       "8104        cancer          ENCSR000EWW  \n",
       "9142        cancer          ENCSR000AHE  \n",
       "\n",
       "[9 rows x 183 columns]"
      ]
     },
     "metadata": {},
     "output_type": "display_data"
    }
   ],
   "source": [
    "one_epirr_inputs_acc = [\"ENCSR000AHE\", \"ENCSR000DMW\", \"ENCSR000EWW\", \"ENCSR768LHG\"]\n",
    "for acc in one_epirr_inputs_acc:\n",
    "    print(acc, acc in inconsistent_accession_values)\n",
    "\n",
    "display(encode_ihec_df[encode_ihec_df[\"accession\"].isin(one_epirr_inputs_acc)])\n",
    "display(encode_meta_df[encode_meta_df[\"experiment_accession\"].isin(one_epirr_inputs_acc)])"
   ]
  },
  {
   "cell_type": "code",
   "execution_count": 318,
   "metadata": {},
   "outputs": [
    {
     "data": {
      "text/html": [
       "<div>\n",
       "<style scoped>\n",
       "    .dataframe tbody tr th:only-of-type {\n",
       "        vertical-align: middle;\n",
       "    }\n",
       "\n",
       "    .dataframe tbody tr th {\n",
       "        vertical-align: top;\n",
       "    }\n",
       "\n",
       "    .dataframe thead th {\n",
       "        text-align: right;\n",
       "    }\n",
       "</style>\n",
       "<table border=\"1\" class=\"dataframe\">\n",
       "  <thead>\n",
       "    <tr style=\"text-align: right;\">\n",
       "      <th></th>\n",
       "      <th>ENC_ID</th>\n",
       "      <th>is_EpiAtlas_EpiRR</th>\n",
       "      <th>Trackhub_validation</th>\n",
       "      <th>assay_epiclass</th>\n",
       "      <th>assay_name</th>\n",
       "      <th>accession</th>\n",
       "      <th>biosample_accession</th>\n",
       "      <th>contributing_files</th>\n",
       "      <th>controls</th>\n",
       "      <th>derived_from</th>\n",
       "      <th>files</th>\n",
       "      <th>original_files</th>\n",
       "      <th>in_epiatlas</th>\n",
       "    </tr>\n",
       "  </thead>\n",
       "  <tbody>\n",
       "    <tr>\n",
       "      <th>1673</th>\n",
       "      <td>ENCFF462ERS</td>\n",
       "      <td>NaN</td>\n",
       "      <td>NaN</td>\n",
       "      <td>h3k9me3</td>\n",
       "      <td>ChIP-seq</td>\n",
       "      <td>ENCSR558AXI</td>\n",
       "      <td>ENCBS541DMP</td>\n",
       "      <td>/files/ENCFF643CGH/,/files/ENCFF807MUK/,/files...</td>\n",
       "      <td>NaN</td>\n",
       "      <td>/files/ENCFF044TOH/, /files/ENCFF910RQR/</td>\n",
       "      <td>/files/ENCFF964RNY/,/files/ENCFF462ERS/,/files...</td>\n",
       "      <td>/files/ENCFF964RNY/,/files/ENCFF462ERS/,/files...</td>\n",
       "      <td>False</td>\n",
       "    </tr>\n",
       "    <tr>\n",
       "      <th>1945</th>\n",
       "      <td>ENCFF536JGG</td>\n",
       "      <td>NaN</td>\n",
       "      <td>NaN</td>\n",
       "      <td>h3k27me3</td>\n",
       "      <td>ChIP-seq</td>\n",
       "      <td>ENCSR586DVD</td>\n",
       "      <td>ENCBS541DMP</td>\n",
       "      <td>/files/ENCFF643CGH/,/files/ENCFF807MUK/,/files...</td>\n",
       "      <td>NaN</td>\n",
       "      <td>/files/ENCFF044TOH/, /files/ENCFF451FTP/</td>\n",
       "      <td>/files/ENCFF284PTZ/,/files/ENCFF451FTP/,/files...</td>\n",
       "      <td>/files/ENCFF284PTZ/,/files/ENCFF451FTP/,/files...</td>\n",
       "      <td>False</td>\n",
       "    </tr>\n",
       "    <tr>\n",
       "      <th>2099</th>\n",
       "      <td>ENCFF578GZL</td>\n",
       "      <td>NaN</td>\n",
       "      <td>NaN</td>\n",
       "      <td>h3k27ac</td>\n",
       "      <td>ChIP-seq</td>\n",
       "      <td>ENCSR500YBS</td>\n",
       "      <td>ENCBS541DMP</td>\n",
       "      <td>/files/ENCFF643CGH/,/files/ENCFF807MUK/,/files...</td>\n",
       "      <td>NaN</td>\n",
       "      <td>/files/ENCFF044TOH/, /files/ENCFF408NBC/</td>\n",
       "      <td>/files/ENCFF578GZL/,/files/ENCFF774RLX/,/files...</td>\n",
       "      <td>/files/ENCFF578GZL/,/files/ENCFF774RLX/,/files...</td>\n",
       "      <td>False</td>\n",
       "    </tr>\n",
       "    <tr>\n",
       "      <th>2485</th>\n",
       "      <td>ENCFF687HLG</td>\n",
       "      <td>NaN</td>\n",
       "      <td>NaN</td>\n",
       "      <td>h3k4me1</td>\n",
       "      <td>ChIP-seq</td>\n",
       "      <td>ENCSR497OVD</td>\n",
       "      <td>ENCBS541DMP</td>\n",
       "      <td>/files/ENCFF643CGH/,/files/ENCFF807MUK/,/files...</td>\n",
       "      <td>NaN</td>\n",
       "      <td>/files/ENCFF401CCX/, /files/ENCFF044TOH/</td>\n",
       "      <td>/files/ENCFF959LCL/,/files/ENCFF689PZB/,/files...</td>\n",
       "      <td>/files/ENCFF959LCL/,/files/ENCFF689PZB/,/files...</td>\n",
       "      <td>False</td>\n",
       "    </tr>\n",
       "    <tr>\n",
       "      <th>2771</th>\n",
       "      <td>ENCFF771GOG</td>\n",
       "      <td>NaN</td>\n",
       "      <td>NaN</td>\n",
       "      <td>h3k4me3</td>\n",
       "      <td>ChIP-seq</td>\n",
       "      <td>ENCSR309UVT</td>\n",
       "      <td>ENCBS541DMP</td>\n",
       "      <td>/files/ENCFF643CGH/,/files/ENCFF807MUK/,/files...</td>\n",
       "      <td>NaN</td>\n",
       "      <td>/files/ENCFF993OFD/, /files/ENCFF044TOH/</td>\n",
       "      <td>/files/ENCFF046KBB/,/files/ENCFF235BRW/,/files...</td>\n",
       "      <td>/files/ENCFF046KBB/,/files/ENCFF235BRW/,/files...</td>\n",
       "      <td>False</td>\n",
       "    </tr>\n",
       "    <tr>\n",
       "      <th>3040</th>\n",
       "      <td>ENCFF846KJP</td>\n",
       "      <td>NaN</td>\n",
       "      <td>NaN</td>\n",
       "      <td>h3k36me3</td>\n",
       "      <td>ChIP-seq</td>\n",
       "      <td>ENCSR942UIL</td>\n",
       "      <td>ENCBS541DMP</td>\n",
       "      <td>/files/ENCFF643CGH/,/files/ENCFF807MUK/,/files...</td>\n",
       "      <td>NaN</td>\n",
       "      <td>/files/ENCFF166JAN/, /files/ENCFF044TOH/</td>\n",
       "      <td>/files/ENCFF941XLF/,/files/ENCFF377FKO/,/files...</td>\n",
       "      <td>/files/ENCFF941XLF/,/files/ENCFF377FKO/,/files...</td>\n",
       "      <td>False</td>\n",
       "    </tr>\n",
       "    <tr>\n",
       "      <th>3650</th>\n",
       "      <td>ENCFF044TOH</td>\n",
       "      <td>NaN</td>\n",
       "      <td>NaN</td>\n",
       "      <td>input</td>\n",
       "      <td>ChIP-seq</td>\n",
       "      <td>ENCSR347VUG</td>\n",
       "      <td>ENCBS541DMP</td>\n",
       "      <td>NaN</td>\n",
       "      <td>NaN</td>\n",
       "      <td>/files/ENCFF116ZVM/, /files/ENCFF519MHN/, /fil...</td>\n",
       "      <td>/files/ENCFF898MQI/,/files/ENCFF759PNS/,/files...</td>\n",
       "      <td>NaN</td>\n",
       "      <td>False</td>\n",
       "    </tr>\n",
       "  </tbody>\n",
       "</table>\n",
       "</div>"
      ],
      "text/plain": [
       "           ENC_ID is_EpiAtlas_EpiRR Trackhub_validation assay_epiclass  \\\n",
       "1673  ENCFF462ERS               NaN                 NaN        h3k9me3   \n",
       "1945  ENCFF536JGG               NaN                 NaN       h3k27me3   \n",
       "2099  ENCFF578GZL               NaN                 NaN        h3k27ac   \n",
       "2485  ENCFF687HLG               NaN                 NaN        h3k4me1   \n",
       "2771  ENCFF771GOG               NaN                 NaN        h3k4me3   \n",
       "3040  ENCFF846KJP               NaN                 NaN       h3k36me3   \n",
       "3650  ENCFF044TOH               NaN                 NaN          input   \n",
       "\n",
       "     assay_name    accession biosample_accession  \\\n",
       "1673   ChIP-seq  ENCSR558AXI         ENCBS541DMP   \n",
       "1945   ChIP-seq  ENCSR586DVD         ENCBS541DMP   \n",
       "2099   ChIP-seq  ENCSR500YBS         ENCBS541DMP   \n",
       "2485   ChIP-seq  ENCSR497OVD         ENCBS541DMP   \n",
       "2771   ChIP-seq  ENCSR309UVT         ENCBS541DMP   \n",
       "3040   ChIP-seq  ENCSR942UIL         ENCBS541DMP   \n",
       "3650   ChIP-seq  ENCSR347VUG         ENCBS541DMP   \n",
       "\n",
       "                                     contributing_files controls  \\\n",
       "1673  /files/ENCFF643CGH/,/files/ENCFF807MUK/,/files...      NaN   \n",
       "1945  /files/ENCFF643CGH/,/files/ENCFF807MUK/,/files...      NaN   \n",
       "2099  /files/ENCFF643CGH/,/files/ENCFF807MUK/,/files...      NaN   \n",
       "2485  /files/ENCFF643CGH/,/files/ENCFF807MUK/,/files...      NaN   \n",
       "2771  /files/ENCFF643CGH/,/files/ENCFF807MUK/,/files...      NaN   \n",
       "3040  /files/ENCFF643CGH/,/files/ENCFF807MUK/,/files...      NaN   \n",
       "3650                                                NaN      NaN   \n",
       "\n",
       "                                           derived_from  \\\n",
       "1673           /files/ENCFF044TOH/, /files/ENCFF910RQR/   \n",
       "1945           /files/ENCFF044TOH/, /files/ENCFF451FTP/   \n",
       "2099           /files/ENCFF044TOH/, /files/ENCFF408NBC/   \n",
       "2485           /files/ENCFF401CCX/, /files/ENCFF044TOH/   \n",
       "2771           /files/ENCFF993OFD/, /files/ENCFF044TOH/   \n",
       "3040           /files/ENCFF166JAN/, /files/ENCFF044TOH/   \n",
       "3650  /files/ENCFF116ZVM/, /files/ENCFF519MHN/, /fil...   \n",
       "\n",
       "                                                  files  \\\n",
       "1673  /files/ENCFF964RNY/,/files/ENCFF462ERS/,/files...   \n",
       "1945  /files/ENCFF284PTZ/,/files/ENCFF451FTP/,/files...   \n",
       "2099  /files/ENCFF578GZL/,/files/ENCFF774RLX/,/files...   \n",
       "2485  /files/ENCFF959LCL/,/files/ENCFF689PZB/,/files...   \n",
       "2771  /files/ENCFF046KBB/,/files/ENCFF235BRW/,/files...   \n",
       "3040  /files/ENCFF941XLF/,/files/ENCFF377FKO/,/files...   \n",
       "3650  /files/ENCFF898MQI/,/files/ENCFF759PNS/,/files...   \n",
       "\n",
       "                                         original_files  in_epiatlas  \n",
       "1673  /files/ENCFF964RNY/,/files/ENCFF462ERS/,/files...        False  \n",
       "1945  /files/ENCFF284PTZ/,/files/ENCFF451FTP/,/files...        False  \n",
       "2099  /files/ENCFF578GZL/,/files/ENCFF774RLX/,/files...        False  \n",
       "2485  /files/ENCFF959LCL/,/files/ENCFF689PZB/,/files...        False  \n",
       "2771  /files/ENCFF046KBB/,/files/ENCFF235BRW/,/files...        False  \n",
       "3040  /files/ENCFF941XLF/,/files/ENCFF377FKO/,/files...        False  \n",
       "3650                                                NaN        False  "
      ]
     },
     "metadata": {},
     "output_type": "display_data"
    },
    {
     "data": {
      "text/html": [
       "<div>\n",
       "<style scoped>\n",
       "    .dataframe tbody tr th:only-of-type {\n",
       "        vertical-align: middle;\n",
       "    }\n",
       "\n",
       "    .dataframe tbody tr th {\n",
       "        vertical-align: top;\n",
       "    }\n",
       "\n",
       "    .dataframe thead th {\n",
       "        text-align: right;\n",
       "    }\n",
       "</style>\n",
       "<table border=\"1\" class=\"dataframe\">\n",
       "  <thead>\n",
       "    <tr style=\"text-align: right;\">\n",
       "      <th></th>\n",
       "      <th>md5sum</th>\n",
       "      <th>File format</th>\n",
       "      <th>File type</th>\n",
       "      <th>Output type</th>\n",
       "      <th>File assembly</th>\n",
       "      <th>Assay</th>\n",
       "      <th>Donor(s)</th>\n",
       "      <th>Biosample term id</th>\n",
       "      <th>Biosample term name_x</th>\n",
       "      <th>Biosample organism</th>\n",
       "      <th>...</th>\n",
       "      <th>biosample_treatment_duration</th>\n",
       "      <th>biosample_treatment_duration_units</th>\n",
       "      <th>biosample_modification_site_target_organism</th>\n",
       "      <th>biosample_modification_site_introduced_gene_organism</th>\n",
       "      <th>replicates</th>\n",
       "      <th>cellular_component</th>\n",
       "      <th>files_replace</th>\n",
       "      <th>donor_sex</th>\n",
       "      <th>cancer_status</th>\n",
       "      <th>experiment_accession</th>\n",
       "    </tr>\n",
       "  </thead>\n",
       "  <tbody>\n",
       "    <tr>\n",
       "      <th>150</th>\n",
       "      <td>ENCFF846KJP</td>\n",
       "      <td>bigWig</td>\n",
       "      <td>bigWig</td>\n",
       "      <td>signal p-value</td>\n",
       "      <td>GRCh38</td>\n",
       "      <td>H3K36me3</td>\n",
       "      <td>/human-donors/ENCDO271OUW/</td>\n",
       "      <td>UBERON:0002046</td>\n",
       "      <td>thyroid gland</td>\n",
       "      <td>Homo sapiens</td>\n",
       "      <td>...</td>\n",
       "      <td>unknown</td>\n",
       "      <td>unknown</td>\n",
       "      <td>unknown</td>\n",
       "      <td>unknown</td>\n",
       "      <td>unknown</td>\n",
       "      <td>unknown</td>\n",
       "      <td>unknown</td>\n",
       "      <td>female</td>\n",
       "      <td>non-cancer</td>\n",
       "      <td>ENCSR942UIL</td>\n",
       "    </tr>\n",
       "    <tr>\n",
       "      <th>4728</th>\n",
       "      <td>ENCFF687HLG</td>\n",
       "      <td>bigWig</td>\n",
       "      <td>bigWig</td>\n",
       "      <td>signal p-value</td>\n",
       "      <td>GRCh38</td>\n",
       "      <td>H3K4me1</td>\n",
       "      <td>/human-donors/ENCDO271OUW/</td>\n",
       "      <td>UBERON:0002046</td>\n",
       "      <td>thyroid gland</td>\n",
       "      <td>Homo sapiens</td>\n",
       "      <td>...</td>\n",
       "      <td>unknown</td>\n",
       "      <td>unknown</td>\n",
       "      <td>unknown</td>\n",
       "      <td>unknown</td>\n",
       "      <td>unknown</td>\n",
       "      <td>unknown</td>\n",
       "      <td>unknown</td>\n",
       "      <td>female</td>\n",
       "      <td>non-cancer</td>\n",
       "      <td>ENCSR497OVD</td>\n",
       "    </tr>\n",
       "    <tr>\n",
       "      <th>6483</th>\n",
       "      <td>ENCFF462ERS</td>\n",
       "      <td>bigWig</td>\n",
       "      <td>bigWig</td>\n",
       "      <td>signal p-value</td>\n",
       "      <td>GRCh38</td>\n",
       "      <td>H3K9me3</td>\n",
       "      <td>/human-donors/ENCDO271OUW/</td>\n",
       "      <td>UBERON:0002046</td>\n",
       "      <td>thyroid gland</td>\n",
       "      <td>Homo sapiens</td>\n",
       "      <td>...</td>\n",
       "      <td>unknown</td>\n",
       "      <td>unknown</td>\n",
       "      <td>unknown</td>\n",
       "      <td>unknown</td>\n",
       "      <td>unknown</td>\n",
       "      <td>unknown</td>\n",
       "      <td>unknown</td>\n",
       "      <td>female</td>\n",
       "      <td>non-cancer</td>\n",
       "      <td>ENCSR558AXI</td>\n",
       "    </tr>\n",
       "    <tr>\n",
       "      <th>7658</th>\n",
       "      <td>ENCFF578GZL</td>\n",
       "      <td>bigWig</td>\n",
       "      <td>bigWig</td>\n",
       "      <td>signal p-value</td>\n",
       "      <td>GRCh38</td>\n",
       "      <td>H3K27ac</td>\n",
       "      <td>/human-donors/ENCDO271OUW/</td>\n",
       "      <td>UBERON:0002046</td>\n",
       "      <td>thyroid gland</td>\n",
       "      <td>Homo sapiens</td>\n",
       "      <td>...</td>\n",
       "      <td>unknown</td>\n",
       "      <td>unknown</td>\n",
       "      <td>unknown</td>\n",
       "      <td>unknown</td>\n",
       "      <td>unknown</td>\n",
       "      <td>unknown</td>\n",
       "      <td>unknown</td>\n",
       "      <td>female</td>\n",
       "      <td>non-cancer</td>\n",
       "      <td>ENCSR500YBS</td>\n",
       "    </tr>\n",
       "    <tr>\n",
       "      <th>7867</th>\n",
       "      <td>ENCFF771GOG</td>\n",
       "      <td>bigWig</td>\n",
       "      <td>bigWig</td>\n",
       "      <td>signal p-value</td>\n",
       "      <td>GRCh38</td>\n",
       "      <td>H3K4me3</td>\n",
       "      <td>/human-donors/ENCDO271OUW/</td>\n",
       "      <td>UBERON:0002046</td>\n",
       "      <td>thyroid gland</td>\n",
       "      <td>Homo sapiens</td>\n",
       "      <td>...</td>\n",
       "      <td>unknown</td>\n",
       "      <td>unknown</td>\n",
       "      <td>unknown</td>\n",
       "      <td>unknown</td>\n",
       "      <td>unknown</td>\n",
       "      <td>unknown</td>\n",
       "      <td>unknown</td>\n",
       "      <td>female</td>\n",
       "      <td>non-cancer</td>\n",
       "      <td>ENCSR309UVT</td>\n",
       "    </tr>\n",
       "    <tr>\n",
       "      <th>8498</th>\n",
       "      <td>ENCFF536JGG</td>\n",
       "      <td>bigWig</td>\n",
       "      <td>bigWig</td>\n",
       "      <td>signal p-value</td>\n",
       "      <td>GRCh38</td>\n",
       "      <td>H3K27me3</td>\n",
       "      <td>/human-donors/ENCDO271OUW/</td>\n",
       "      <td>UBERON:0002046</td>\n",
       "      <td>thyroid gland</td>\n",
       "      <td>Homo sapiens</td>\n",
       "      <td>...</td>\n",
       "      <td>unknown</td>\n",
       "      <td>unknown</td>\n",
       "      <td>unknown</td>\n",
       "      <td>unknown</td>\n",
       "      <td>unknown</td>\n",
       "      <td>unknown</td>\n",
       "      <td>unknown</td>\n",
       "      <td>female</td>\n",
       "      <td>non-cancer</td>\n",
       "      <td>ENCSR586DVD</td>\n",
       "    </tr>\n",
       "    <tr>\n",
       "      <th>8955</th>\n",
       "      <td>ENCFF044TOH</td>\n",
       "      <td>unknown</td>\n",
       "      <td>unknown</td>\n",
       "      <td>unknown</td>\n",
       "      <td>unknown</td>\n",
       "      <td>unknown</td>\n",
       "      <td>unknown</td>\n",
       "      <td>unknown</td>\n",
       "      <td>unknown</td>\n",
       "      <td>unknown</td>\n",
       "      <td>...</td>\n",
       "      <td>unknown</td>\n",
       "      <td>unknown</td>\n",
       "      <td>unknown</td>\n",
       "      <td>unknown</td>\n",
       "      <td>/replicates/485ce890-862c-47ee-8e94-f21cba13f5...</td>\n",
       "      <td>unknown</td>\n",
       "      <td>ENCFF898MQI,ENCFF759PNS,ENCFF266UXT,ENCFF237JO...</td>\n",
       "      <td>unknown</td>\n",
       "      <td>unknown</td>\n",
       "      <td>ENCSR347VUG</td>\n",
       "    </tr>\n",
       "  </tbody>\n",
       "</table>\n",
       "<p>7 rows × 183 columns</p>\n",
       "</div>"
      ],
      "text/plain": [
       "           md5sum File format File type     Output type File assembly  \\\n",
       "150   ENCFF846KJP      bigWig    bigWig  signal p-value        GRCh38   \n",
       "4728  ENCFF687HLG      bigWig    bigWig  signal p-value        GRCh38   \n",
       "6483  ENCFF462ERS      bigWig    bigWig  signal p-value        GRCh38   \n",
       "7658  ENCFF578GZL      bigWig    bigWig  signal p-value        GRCh38   \n",
       "7867  ENCFF771GOG      bigWig    bigWig  signal p-value        GRCh38   \n",
       "8498  ENCFF536JGG      bigWig    bigWig  signal p-value        GRCh38   \n",
       "8955  ENCFF044TOH     unknown   unknown         unknown       unknown   \n",
       "\n",
       "         Assay                    Donor(s) Biosample term id  \\\n",
       "150   H3K36me3  /human-donors/ENCDO271OUW/    UBERON:0002046   \n",
       "4728   H3K4me1  /human-donors/ENCDO271OUW/    UBERON:0002046   \n",
       "6483   H3K9me3  /human-donors/ENCDO271OUW/    UBERON:0002046   \n",
       "7658   H3K27ac  /human-donors/ENCDO271OUW/    UBERON:0002046   \n",
       "7867   H3K4me3  /human-donors/ENCDO271OUW/    UBERON:0002046   \n",
       "8498  H3K27me3  /human-donors/ENCDO271OUW/    UBERON:0002046   \n",
       "8955   unknown                     unknown           unknown   \n",
       "\n",
       "     Biosample term name_x Biosample organism  ...  \\\n",
       "150          thyroid gland       Homo sapiens  ...   \n",
       "4728         thyroid gland       Homo sapiens  ...   \n",
       "6483         thyroid gland       Homo sapiens  ...   \n",
       "7658         thyroid gland       Homo sapiens  ...   \n",
       "7867         thyroid gland       Homo sapiens  ...   \n",
       "8498         thyroid gland       Homo sapiens  ...   \n",
       "8955               unknown            unknown  ...   \n",
       "\n",
       "     biosample_treatment_duration biosample_treatment_duration_units  \\\n",
       "150                       unknown                            unknown   \n",
       "4728                      unknown                            unknown   \n",
       "6483                      unknown                            unknown   \n",
       "7658                      unknown                            unknown   \n",
       "7867                      unknown                            unknown   \n",
       "8498                      unknown                            unknown   \n",
       "8955                      unknown                            unknown   \n",
       "\n",
       "     biosample_modification_site_target_organism  \\\n",
       "150                                      unknown   \n",
       "4728                                     unknown   \n",
       "6483                                     unknown   \n",
       "7658                                     unknown   \n",
       "7867                                     unknown   \n",
       "8498                                     unknown   \n",
       "8955                                     unknown   \n",
       "\n",
       "     biosample_modification_site_introduced_gene_organism  \\\n",
       "150                                             unknown     \n",
       "4728                                            unknown     \n",
       "6483                                            unknown     \n",
       "7658                                            unknown     \n",
       "7867                                            unknown     \n",
       "8498                                            unknown     \n",
       "8955                                            unknown     \n",
       "\n",
       "                                             replicates cellular_component  \\\n",
       "150                                             unknown            unknown   \n",
       "4728                                            unknown            unknown   \n",
       "6483                                            unknown            unknown   \n",
       "7658                                            unknown            unknown   \n",
       "7867                                            unknown            unknown   \n",
       "8498                                            unknown            unknown   \n",
       "8955  /replicates/485ce890-862c-47ee-8e94-f21cba13f5...            unknown   \n",
       "\n",
       "                                          files_replace donor_sex  \\\n",
       "150                                             unknown    female   \n",
       "4728                                            unknown    female   \n",
       "6483                                            unknown    female   \n",
       "7658                                            unknown    female   \n",
       "7867                                            unknown    female   \n",
       "8498                                            unknown    female   \n",
       "8955  ENCFF898MQI,ENCFF759PNS,ENCFF266UXT,ENCFF237JO...   unknown   \n",
       "\n",
       "     cancer_status experiment_accession  \n",
       "150     non-cancer          ENCSR942UIL  \n",
       "4728    non-cancer          ENCSR497OVD  \n",
       "6483    non-cancer          ENCSR558AXI  \n",
       "7658    non-cancer          ENCSR500YBS  \n",
       "7867    non-cancer          ENCSR309UVT  \n",
       "8498    non-cancer          ENCSR586DVD  \n",
       "8955       unknown          ENCSR347VUG  \n",
       "\n",
       "[7 rows x 183 columns]"
      ]
     },
     "metadata": {},
     "output_type": "display_data"
    },
    {
     "data": {
      "text/html": [
       "<div>\n",
       "<style scoped>\n",
       "    .dataframe tbody tr th:only-of-type {\n",
       "        vertical-align: middle;\n",
       "    }\n",
       "\n",
       "    .dataframe tbody tr th {\n",
       "        vertical-align: top;\n",
       "    }\n",
       "\n",
       "    .dataframe thead th {\n",
       "        text-align: right;\n",
       "    }\n",
       "</style>\n",
       "<table border=\"1\" class=\"dataframe\">\n",
       "  <thead>\n",
       "    <tr style=\"text-align: right;\">\n",
       "      <th></th>\n",
       "      <th>experiment_accession</th>\n",
       "      <th>epirr_no_version</th>\n",
       "      <th>in_epiatlas</th>\n",
       "    </tr>\n",
       "  </thead>\n",
       "  <tbody>\n",
       "    <tr>\n",
       "      <th>2550</th>\n",
       "      <td>ENCSR309UVT</td>\n",
       "      <td>IHECRE00004717</td>\n",
       "      <td>True</td>\n",
       "    </tr>\n",
       "    <tr>\n",
       "      <th>2551</th>\n",
       "      <td>ENCSR347VUG</td>\n",
       "      <td>IHECRE00004717</td>\n",
       "      <td>True</td>\n",
       "    </tr>\n",
       "    <tr>\n",
       "      <th>2553</th>\n",
       "      <td>ENCSR497OVD</td>\n",
       "      <td>IHECRE00004717</td>\n",
       "      <td>True</td>\n",
       "    </tr>\n",
       "    <tr>\n",
       "      <th>2554</th>\n",
       "      <td>ENCSR500YBS</td>\n",
       "      <td>IHECRE00004717</td>\n",
       "      <td>True</td>\n",
       "    </tr>\n",
       "    <tr>\n",
       "      <th>2555</th>\n",
       "      <td>ENCSR558AXI</td>\n",
       "      <td>IHECRE00004717</td>\n",
       "      <td>True</td>\n",
       "    </tr>\n",
       "    <tr>\n",
       "      <th>2556</th>\n",
       "      <td>ENCSR586DVD</td>\n",
       "      <td>IHECRE00004717</td>\n",
       "      <td>True</td>\n",
       "    </tr>\n",
       "    <tr>\n",
       "      <th>2559</th>\n",
       "      <td>ENCSR942UIL</td>\n",
       "      <td>IHECRE00004717</td>\n",
       "      <td>True</td>\n",
       "    </tr>\n",
       "  </tbody>\n",
       "</table>\n",
       "</div>"
      ],
      "text/plain": [
       "     experiment_accession epirr_no_version  in_epiatlas\n",
       "2550          ENCSR309UVT   IHECRE00004717         True\n",
       "2551          ENCSR347VUG   IHECRE00004717         True\n",
       "2553          ENCSR497OVD   IHECRE00004717         True\n",
       "2554          ENCSR500YBS   IHECRE00004717         True\n",
       "2555          ENCSR558AXI   IHECRE00004717         True\n",
       "2556          ENCSR586DVD   IHECRE00004717         True\n",
       "2559          ENCSR942UIL   IHECRE00004717         True"
      ]
     },
     "metadata": {},
     "output_type": "display_data"
    }
   ],
   "source": [
    "display(encode_ihec_df[encode_ihec_df[\"accession\"].isin(one_biosample_accs)])\n",
    "display(encode_meta_df[encode_meta_df[\"experiment_accession\"].isin(one_biosample_accs)])\n",
    "display(\n",
    "    encode_accessions_df[\n",
    "        encode_accessions_df[\"experiment_accession\"].isin(one_biosample_accs)\n",
    "    ]\n",
    ")"
   ]
  },
  {
   "cell_type": "code",
   "execution_count": 319,
   "metadata": {},
   "outputs": [],
   "source": [
    "problematic_epirr_example = set(\n",
    "    encode_accessions_df[\n",
    "        encode_accessions_df[\"experiment_accession\"].isin(one_biosample_accs)\n",
    "    ][\"epirr_no_version\"].values.tolist()\n",
    ")\n",
    "if len(problematic_epirr_example) > 1:\n",
    "    raise ValueError(\"One biosample with multiple epirrs\", problematic_epirr_example)\n",
    "\n",
    "problematic_epirr_example = problematic_epirr_example.pop()"
   ]
  },
  {
   "cell_type": "markdown",
   "metadata": {},
   "source": [
    "## EpiClass actual training metadata"
   ]
  },
  {
   "cell_type": "code",
   "execution_count": 320,
   "metadata": {},
   "outputs": [
    {
     "name": "stdout",
     "output_type": "stream",
     "text": [
      "(20922, 71)\n"
     ]
    }
   ],
   "source": [
    "epiclass_metadata_path = (\n",
    "    metadata_dir / \"hg38_2023-epiatlas-dfreeze-pospurge-nodup_filterCtl.json\"\n",
    ")\n",
    "epiclass_metadata = Metadata(epiclass_metadata_path)\n",
    "epiclass_df = pd.DataFrame.from_records(list(epiclass_metadata.datasets))\n",
    "print(epiclass_df.shape)"
   ]
  },
  {
   "cell_type": "code",
   "execution_count": 321,
   "metadata": {},
   "outputs": [],
   "source": [
    "epiclass_epirrs = set(epiclass_df[\"epirr_id_without_version\"].tolist())"
   ]
  },
  {
   "cell_type": "code",
   "execution_count": 322,
   "metadata": {},
   "outputs": [
    {
     "name": "stdout",
     "output_type": "stream",
     "text": [
      "True\n"
     ]
    }
   ],
   "source": [
    "print(problematic_epirr_example in epiclass_epirrs)"
   ]
  },
  {
   "cell_type": "markdown",
   "metadata": {},
   "source": [
    "Conclusion: Some errors have been made during the creation of \"ENCODE_IHEC_keys.tsv\". As demonstrated by having a set of files from a biosamples being marked as not having an epirr, when we found the corresponding epirr in the training metadata. We need to recreate the metadata from zero to guarantee the right values."
   ]
  },
  {
   "cell_type": "code",
   "execution_count": 323,
   "metadata": {},
   "outputs": [
    {
     "name": "stdout",
     "output_type": "stream",
     "text": [
      "CHIP file accessions: 9619\n",
      "CHIP experiment accessions: 9082\n",
      "CHIP biosample accessions: 1729\n"
     ]
    }
   ],
   "source": [
    "chip_experiment_accessions = set(encode_meta_df[\"experiment_accession\"].unique().tolist())\n",
    "chip_file_accessions = set(encode_meta_df[\"md5sum\"].unique().tolist())\n",
    "chip_biosample_accessions = set()\n",
    "for vals in encode_meta_df[\"biosample_accession\"].unique():\n",
    "    biosample_accs = vals.split(\",\")\n",
    "    chip_biosample_accessions.update(biosample_accs)\n",
    "\n",
    "print(\"CHIP file accessions:\", len(chip_file_accessions))\n",
    "print(\"CHIP experiment accessions:\", len(chip_experiment_accessions))\n",
    "print(\"CHIP biosample accessions:\", len(chip_biosample_accessions))\n",
    "\n",
    "# assert encode_meta_df[\"experiment_accession\"].str.slice(0, 5).isin([\"ENCSR\"]).all()"
   ]
  },
  {
   "cell_type": "code",
   "execution_count": 324,
   "metadata": {},
   "outputs": [
    {
     "name": "stdout",
     "output_type": "stream",
     "text": [
      "Unknown accession in biosample ChIP metadata.\n"
     ]
    }
   ],
   "source": [
    "for elem, name in zip(\n",
    "    [chip_experiment_accessions, chip_file_accessions, chip_biosample_accessions],\n",
    "    [\"exp\", \"file\", \"biosample\"],\n",
    "):\n",
    "    if \"unknown\" in elem:\n",
    "        print(f\"Unknown accession in {name} ChIP metadata.\")"
   ]
  },
  {
   "cell_type": "code",
   "execution_count": 325,
   "metadata": {},
   "outputs": [
    {
     "data": {
      "text/plain": [
       "55"
      ]
     },
     "execution_count": 325,
     "metadata": {},
     "output_type": "execute_result"
    }
   ],
   "source": [
    "del encode_meta_df\n",
    "del epiclass_df\n",
    "del epiclass_metadata\n",
    "del encode_accessions_df\n",
    "del encode_ihec_df\n",
    "gc.collect()"
   ]
  },
  {
   "cell_type": "markdown",
   "metadata": {},
   "source": [
    "## Collect RNA accessions"
   ]
  },
  {
   "cell_type": "code",
   "execution_count": 326,
   "metadata": {},
   "outputs": [
    {
     "name": "stdout",
     "output_type": "stream",
     "text": [
      "(1792, 59)\n"
     ]
    }
   ],
   "source": [
    "encode_rna_file_meta_path = (\n",
    "    encode_metadata_dir / \"old_meta\" / \"metadata--ENCODE_RNA_2023mar_hg38_BW_default.tsv\"\n",
    ")\n",
    "encode_rna_meta_df = pd.read_csv(encode_rna_file_meta_path, sep=\"\\t\")\n",
    "print(encode_rna_meta_df.shape)\n",
    "rna_file_accessions = set(encode_rna_meta_df[\"File accession\"].unique().tolist())"
   ]
  },
  {
   "cell_type": "code",
   "execution_count": 327,
   "metadata": {},
   "outputs": [
    {
     "name": "stdout",
     "output_type": "stream",
     "text": [
      "(1015, 40)\n"
     ]
    }
   ],
   "source": [
    "encode_rna_exp_meta_path = (\n",
    "    encode_metadata_dir / \"old_meta\" / \"ENCODE_RNA_2023mar_hg38_BW_default_exp_report.tsv\"\n",
    ")\n",
    "encode_rna_exp_meta_df = pd.read_csv(encode_rna_exp_meta_path, sep=\"\\t\", skiprows=1)\n",
    "print(encode_rna_exp_meta_df.shape)\n",
    "\n",
    "rna_exp_accessions = set(encode_rna_exp_meta_df[\"Accession\"].unique().tolist())\n",
    "rna_biosample_accessions = set()\n",
    "for vals in encode_rna_exp_meta_df[\"Biosample accession\"].unique():\n",
    "    biosample_accs = vals.split(\",\")\n",
    "    rna_biosample_accessions.update(biosample_accs)"
   ]
  },
  {
   "cell_type": "code",
   "execution_count": 328,
   "metadata": {},
   "outputs": [
    {
     "name": "stdout",
     "output_type": "stream",
     "text": [
      "RNA file accessions: 1792\n",
      "RNA experiment accessions: 1015\n",
      "RNA biosample accessions: 1301\n"
     ]
    }
   ],
   "source": [
    "print(\"RNA file accessions:\", len(rna_file_accessions))\n",
    "print(\"RNA experiment accessions:\", len(rna_exp_accessions))\n",
    "print(\"RNA biosample accessions:\", len(rna_biosample_accessions))"
   ]
  },
  {
   "cell_type": "code",
   "execution_count": 329,
   "metadata": {},
   "outputs": [],
   "source": [
    "for elem, name in zip(\n",
    "    [rna_exp_accessions, rna_file_accessions, rna_biosample_accessions],\n",
    "    [\"exp\", \"file\", \"biosample\"],\n",
    "):\n",
    "    if \"unknown\" in elem:\n",
    "        print(f\"Unknown accession in {name} RNA metadata.\")"
   ]
  },
  {
   "cell_type": "code",
   "execution_count": 330,
   "metadata": {},
   "outputs": [
    {
     "data": {
      "text/plain": [
       "0"
      ]
     },
     "execution_count": 330,
     "metadata": {},
     "output_type": "execute_result"
    }
   ],
   "source": [
    "del encode_rna_meta_df\n",
    "del encode_rna_exp_meta_df\n",
    "gc.collect()"
   ]
  },
  {
   "cell_type": "markdown",
   "metadata": {},
   "source": [
    "## Download and create new ENCODE metadata"
   ]
  },
  {
   "cell_type": "code",
   "execution_count": 331,
   "metadata": {},
   "outputs": [
    {
     "name": "stdout",
     "output_type": "stream",
     "text": [
      "All file accessions: 11411\n",
      "All experiment accessions: 10097\n",
      "All biosample accessions: 2915\n"
     ]
    }
   ],
   "source": [
    "all_experiment_accessions = chip_experiment_accessions | rna_exp_accessions\n",
    "all_file_accessions = chip_file_accessions | rna_file_accessions\n",
    "all_biosample_accessions = chip_biosample_accessions | rna_biosample_accessions\n",
    "for elem in [all_experiment_accessions, all_file_accessions, all_biosample_accessions]:\n",
    "    try:\n",
    "        elem.remove(\"unknown\")\n",
    "    except KeyError:\n",
    "        pass\n",
    "\n",
    "print(\"All file accessions:\", len(all_file_accessions))\n",
    "print(\"All experiment accessions:\", len(all_experiment_accessions))\n",
    "print(\"All biosample accessions:\", len(all_biosample_accessions))"
   ]
  },
  {
   "cell_type": "code",
   "execution_count": 332,
   "metadata": {},
   "outputs": [],
   "source": [
    "url_exp_template_object = (\n",
    "    \"https://www.encodeproject.org/experiments/{}/?frame=object&format=json\"\n",
    ")\n",
    "url_exp_template_embedded = (\n",
    "    \"https://www.encodeproject.org/experiments/{}/?frame=embedded&format=json\"\n",
    ")\n",
    "url_biosample_template_object = (\n",
    "    \"https://www.encodeproject.org/biosamples/{}/?frame=object&format=json\"\n",
    ")\n",
    "url_file_template_object = (\n",
    "    \"https://www.encodeproject.org/files/{}/?frame=object&format=json\"\n",
    ")\n",
    "url_biosample_type_template_object = (\n",
    "    \"https://www.encodeproject.org/biosample-types/{}/?frame=object&format=json\"\n",
    ")"
   ]
  },
  {
   "cell_type": "code",
   "execution_count": 333,
   "metadata": {},
   "outputs": [],
   "source": [
    "def fetch_json(url: str, headers: Dict[str, str]) -> Dict[str, Any] | None:\n",
    "    \"\"\"Helper function to fetch JSON data from a URL.\"\"\"\n",
    "    response = requests.get(url, headers=headers)\n",
    "    if response.status_code == 200:\n",
    "        return response.json()\n",
    "\n",
    "    print(f\"Failed to fetch {url}: {response.status_code}\")\n",
    "    return None\n",
    "\n",
    "\n",
    "def fetch_experiment_metadata(\n",
    "    experiment_acc: str, headers: Dict[str, str]\n",
    ") -> Dict[str, Any] | None:\n",
    "    \"\"\"Fetch experiment metadata from ENCODE API.\"\"\"\n",
    "    return fetch_json(url_exp_template_object.format(experiment_acc), headers)\n",
    "\n",
    "\n",
    "def fetch_biosample_type_metadata(\n",
    "    term_id: str, headers: Dict[str, str]\n",
    ") -> Dict[str, Any] | None:\n",
    "    \"\"\"Fetch biosample type metadata from ENCODE API.\n",
    "\n",
    "    Args:\n",
    "        term_id (str): Biosample type term ID, of the form \"[classification]_[ontology_id]\", e.g. \"cell_line_EFO_0001203\".\n",
    "        headers (Dict[str, str]): HTTP headers, such as authorization, to be passed.\n",
    "    \"\"\"\n",
    "    return fetch_json(url_biosample_type_template_object.format(term_id), headers)\n",
    "\n",
    "\n",
    "def fetch_file_metadata(file_acc: str, headers: Dict[str, str]) -> Dict[str, Any] | None:\n",
    "    \"\"\"Fetch experiment metadata from ENCODE API.\"\"\"\n",
    "    return fetch_json(url_file_template_object.format(file_acc), headers)\n",
    "\n",
    "\n",
    "def fetch_replicate_biosample(\n",
    "    experiment_acc: str, headers: Dict[str, str]\n",
    ") -> Dict[str, List[str]] | None:\n",
    "    \"\"\"Fetch biosample accessions for an experiment.\"\"\"\n",
    "    data = fetch_json(url_exp_template_embedded.format(experiment_acc), headers)\n",
    "    if data:\n",
    "        accession_list = [\n",
    "            replicate[\"library\"][\"biosample\"][\"accession\"]\n",
    "            for replicate in data.get(\"replicates\", [])\n",
    "        ]\n",
    "        return {experiment_acc: accession_list}\n",
    "    return None\n",
    "\n",
    "\n",
    "def fetch_biosample_metadata(\n",
    "    biosample_acc: str, headers: Dict[str, str]\n",
    ") -> Dict[str, Any] | None:\n",
    "    \"\"\"Fetch biosample metadata from ENCODE API.\"\"\"\n",
    "    return fetch_json(url_biosample_template_object.format(biosample_acc), headers)\n",
    "\n",
    "\n",
    "def parallel_fetch(\n",
    "    func: Callable[[str, Dict[str, str]], Any],\n",
    "    identifiers: Iterable[str],\n",
    "    headers: Dict[str, str],\n",
    "    max_workers: int = 10,\n",
    "    task_name: str = \"Fetching Data\",\n",
    ") -> List[Any]:\n",
    "    \"\"\"\n",
    "    Generic function to fetch data in parallel.\n",
    "\n",
    "    Args:\n",
    "        func (Callable): The function to execute in parallel.\n",
    "        identifiers (Iterable[str]): List of input identifiers for the function.\n",
    "        headers (Dict[str, str]): HTTP headers, such as authorization, to be passed.\n",
    "        max_workers (int): Number of parallel threads.\n",
    "        task_name (str): Name for progress bar.\n",
    "\n",
    "    Returns:\n",
    "        List of results.\n",
    "    \"\"\"\n",
    "    results = []\n",
    "\n",
    "    with ThreadPoolExecutor(max_workers=max_workers) as executor:\n",
    "        future_to_id = {executor.submit(func, id_, headers): id_ for id_ in identifiers}\n",
    "\n",
    "        for future in tqdm(\n",
    "            as_completed(future_to_id),\n",
    "            total=len(future_to_id),\n",
    "            desc=task_name,\n",
    "            unit=\"entry\",\n",
    "        ):\n",
    "            result = future.result()\n",
    "            if result is not None:\n",
    "                results.append(result)\n",
    "\n",
    "    return results"
   ]
  },
  {
   "cell_type": "code",
   "execution_count": 334,
   "metadata": {},
   "outputs": [],
   "source": [
    "def fetch_and_update_metadata(\n",
    "    func: Callable[[str, Dict[str, str]], Dict[str, Any] | None],\n",
    "    all_accession_set: Set[str],\n",
    "    output_filepath: Path,\n",
    "    max_workers: int = 5,\n",
    "    task_name: str = \"Fetching metadata\",\n",
    ") -> List[Dict[str, Any]]:\n",
    "    \"\"\"\n",
    "    General function to fetch new metadata and update an existing JSON/TSV file.\n",
    "\n",
    "    Args:\n",
    "        func (Callable): Function to fetch metadata for a single accession.\n",
    "        all_accession_set (Set[str]): Set of all accessions to process.\n",
    "        output_filepath (Path): Path to the JSON file storing metadata.\n",
    "        max_workers (int): Number of parallel workers (default: 5).\n",
    "        task_name (str): Progress bar name.\n",
    "\n",
    "    Returns:\n",
    "        List[Dict[str, Any]]: The combined metadata after fetching new entries.\n",
    "    \"\"\"\n",
    "    headers = {\"accept\": \"application/json\"}\n",
    "\n",
    "    # Step 1: Load existing metadata if the file exists\n",
    "    if output_filepath.exists():\n",
    "        with open(output_filepath, \"r\", encoding=\"utf-8\") as f:\n",
    "            existing_metadata = json.load(f)\n",
    "    else:\n",
    "        existing_metadata = []\n",
    "\n",
    "    # Step 2: Identify already fetched accessions\n",
    "    attempt_keys = [\"accession\", \"obo_id\", \"name\"]\n",
    "    for key in attempt_keys:\n",
    "        try:\n",
    "            existing_accessions = {entry[key] for entry in existing_metadata}\n",
    "            break\n",
    "        except KeyError:\n",
    "            continue\n",
    "    else:\n",
    "        print(\n",
    "            f\"No {attempt_keys} keys in existing metadata. Using first key of each entry instead.\"\n",
    "        )\n",
    "        existing_accessions = {list(entry.keys())[0] for entry in existing_metadata}\n",
    "\n",
    "    # Step 3: Find missing accessions\n",
    "    missing_accessions = all_accession_set - existing_accessions\n",
    "\n",
    "    # Step 4: Fetch new metadata if needed\n",
    "    if missing_accessions:\n",
    "        print(f\"Fetching {len(missing_accessions)} new records...\")\n",
    "        new_metadata = parallel_fetch(\n",
    "            func=func,\n",
    "            identifiers=missing_accessions,\n",
    "            headers=headers,\n",
    "            max_workers=max_workers,\n",
    "            task_name=task_name,\n",
    "        )\n",
    "\n",
    "        # Merge old and new metadata\n",
    "        combined_metadata = existing_metadata + new_metadata\n",
    "\n",
    "        # Save updated JSON file\n",
    "        with open(output_filepath, \"w\", encoding=\"utf-8\") as f:\n",
    "            json.dump(combined_metadata, f, indent=2)\n",
    "\n",
    "        # Save updated TSV file\n",
    "        file_df = pd.DataFrame.from_records(combined_metadata)\n",
    "        file_df.to_csv(output_filepath.with_suffix(\".tsv\"), sep=\"\\t\", index=False)\n",
    "\n",
    "        return combined_metadata\n",
    "\n",
    "    print(\"No new metadata to fetch. Data is already up-to-date.\")\n",
    "    return existing_metadata"
   ]
  },
  {
   "cell_type": "code",
   "execution_count": 335,
   "metadata": {},
   "outputs": [
    {
     "name": "stdout",
     "output_type": "stream",
     "text": [
      "No new metadata to fetch. Data is already up-to-date.\n"
     ]
    }
   ],
   "source": [
    "output_file = encode_metadata_dir / \"new_meta\" / \"encode_file_metadata_2025-02.json\"\n",
    "encode_file_metadata_list = fetch_and_update_metadata(\n",
    "    func=fetch_file_metadata,\n",
    "    all_accession_set=all_file_accessions,\n",
    "    output_filepath=output_file,\n",
    "    max_workers=5,\n",
    "    task_name=\"Fetching File metadata\",\n",
    ")\n",
    "encode_file_metadata: Dict[str, Dict[str, Any]] = {\n",
    "    dset[\"accession\"]: dset for dset in encode_file_metadata_list\n",
    "}"
   ]
  },
  {
   "cell_type": "markdown",
   "metadata": {},
   "source": [
    "Find experiment accessions from file metadata. Make sure exp accessions are unique."
   ]
  },
  {
   "cell_type": "code",
   "execution_count": 336,
   "metadata": {},
   "outputs": [],
   "source": [
    "all_experiment_accessions = set()\n",
    "for file_acc, dataset in encode_file_metadata.items():\n",
    "    acc_str = dataset[\"dataset\"]\n",
    "    if acc_str.count(\"ENCSR\") > 1:\n",
    "        raise ValueError(\"Multiple experiments per file:\", dataset)\n",
    "\n",
    "    exp_acc = acc_str.split(\"/\")[-2]\n",
    "    all_experiment_accessions.add(exp_acc)\n",
    "    encode_file_metadata[file_acc][\"experiment_accession\"] = exp_acc\n",
    "\n",
    "for val in all_experiment_accessions:\n",
    "    if not val.startswith(\"ENCSR\"):\n",
    "        raise ValueError(\"Experiment accessions do not start with ENCSR:\", val)"
   ]
  },
  {
   "cell_type": "code",
   "execution_count": 337,
   "metadata": {},
   "outputs": [
    {
     "name": "stdout",
     "output_type": "stream",
     "text": [
      "No new metadata to fetch. Data is already up-to-date.\n"
     ]
    }
   ],
   "source": [
    "output_file = encode_metadata_dir / \"new_meta\" / \"encode_experiment_metadata_2025-02.json\"\n",
    "encode_exp_metadata_list = fetch_and_update_metadata(\n",
    "    func=fetch_experiment_metadata,\n",
    "    all_accession_set=all_experiment_accessions,\n",
    "    output_filepath=output_file,\n",
    "    max_workers=5,\n",
    "    task_name=\"Fetching Experiment metadata\",\n",
    ")\n",
    "encode_exp_metadata: Dict[str, Dict[str, Any]] = {\n",
    "    dset[\"accession\"]: dset for dset in encode_exp_metadata_list\n",
    "}"
   ]
  },
  {
   "cell_type": "code",
   "execution_count": 338,
   "metadata": {},
   "outputs": [
    {
     "name": "stdout",
     "output_type": "stream",
     "text": [
      "No ['accession', 'obo_id', 'name'] keys in existing metadata. Using first key of each entry instead.\n",
      "No new metadata to fetch. Data is already up-to-date.\n"
     ]
    }
   ],
   "source": [
    "output_file = (\n",
    "    encode_metadata_dir / \"new_meta\" / \"encode_biosample_accessions_2025-02.json\"\n",
    ")\n",
    "encode_biosample_accessions_list = fetch_and_update_metadata(\n",
    "    func=fetch_replicate_biosample,\n",
    "    all_accession_set=all_experiment_accessions,\n",
    "    output_filepath=output_file,\n",
    "    max_workers=5,\n",
    "    task_name=\"Fetching Experiment Biosample Accessions\",\n",
    ")\n",
    "encode_biosample_accessions_dict = {\n",
    "    list(dset.keys())[0]: list(dset.values())[0]\n",
    "    for dset in encode_biosample_accessions_list\n",
    "}"
   ]
  },
  {
   "cell_type": "code",
   "execution_count": 339,
   "metadata": {},
   "outputs": [],
   "source": [
    "all_biosamples_accessions = set()\n",
    "for biosample_accs in encode_biosample_accessions_dict.values():\n",
    "    all_biosamples_accessions.update(biosample_accs)"
   ]
  },
  {
   "cell_type": "code",
   "execution_count": 340,
   "metadata": {},
   "outputs": [
    {
     "name": "stdout",
     "output_type": "stream",
     "text": [
      "Fetching 4 new records...\n"
     ]
    },
    {
     "name": "stderr",
     "output_type": "stream",
     "text": [
      "Fetching Biosample Metadata: 100%|██████████| 4/4 [00:00<00:00,  8.32entry/s]"
     ]
    },
    {
     "name": "stdout",
     "output_type": "stream",
     "text": [
      "Failed to fetch https://www.encodeproject.org/biosamples/ENCBS126XME/?frame=object&format=json: 403\n",
      "Failed to fetch https://www.encodeproject.org/biosamples/ENCBS374HUP/?frame=object&format=json: 403\n",
      "Failed to fetch https://www.encodeproject.org/biosamples/ENCBS297ZBJ/?frame=object&format=json: 403\n",
      "Failed to fetch https://www.encodeproject.org/biosamples/ENCBS184ERI/?frame=object&format=json: 403\n"
     ]
    },
    {
     "name": "stderr",
     "output_type": "stream",
     "text": [
      "\n"
     ]
    }
   ],
   "source": [
    "output_file = encode_metadata_dir / \"new_meta\" / \"encode_biosample_metadata_2025-02.json\"\n",
    "encode_biosample_metadata_list = fetch_and_update_metadata(\n",
    "    func=fetch_biosample_metadata,\n",
    "    all_accession_set=all_biosamples_accessions,\n",
    "    output_filepath=output_file,\n",
    "    max_workers=5,\n",
    "    task_name=\"Fetching Biosample Metadata\",\n",
    ")\n",
    "encode_biosample_metadata = {\n",
    "    dset[\"accession\"]: dset for dset in encode_biosample_metadata_list\n",
    "}"
   ]
  },
  {
   "cell_type": "code",
   "execution_count": 341,
   "metadata": {},
   "outputs": [],
   "source": [
    "def get_biosample_type(biosample_ontology: str) -> str:\n",
    "    \"\"\"Extract the term ID from a biosample ontology string.\n",
    "\n",
    "    Takes string of format '/biosample-types/cell_line_EFO_0001203/'\n",
    "    and returns 'cell_line_EFO_0001203'.\n",
    "    \"\"\"\n",
    "    biosample_ontology_no_prefix = biosample_ontology.replace(\"/\", \"\").replace(\n",
    "        \"biosample-types\", \"\"\n",
    "    )\n",
    "    return biosample_ontology_no_prefix\n",
    "\n",
    "\n",
    "def get_biosample_term_id(biosample_ontology: str) -> str:\n",
    "    \"\"\"Extract the term ID from a biosample ontology string.\n",
    "\n",
    "    Takes string of format '/biosample-types/cell_line_EFO_0001203/'\n",
    "    and returns 'EFO:0001203'.\n",
    "    \"\"\"\n",
    "    biosample_ontology_no_prefix = get_biosample_type(biosample_ontology)\n",
    "    biosample_term_id = \":\".join(biosample_ontology_no_prefix.split(\"_\")[-2:])\n",
    "    return biosample_term_id"
   ]
  },
  {
   "cell_type": "code",
   "execution_count": 342,
   "metadata": {},
   "outputs": [
    {
     "data": {
      "text/plain": [
       "'EFO:0001203'"
      ]
     },
     "execution_count": 342,
     "metadata": {},
     "output_type": "execute_result"
    }
   ],
   "source": [
    "get_biosample_type(encode_biosample_metadata[\"ENCBS000AAA\"][\"biosample_ontology\"])\n",
    "get_biosample_term_id(encode_biosample_metadata[\"ENCBS000AAA\"][\"biosample_ontology\"])"
   ]
  },
  {
   "cell_type": "code",
   "execution_count": 343,
   "metadata": {},
   "outputs": [],
   "source": [
    "biosample_types = [\n",
    "    get_biosample_type(dset[\"biosample_ontology\"])\n",
    "    for dset in encode_biosample_metadata.values()\n",
    "]"
   ]
  },
  {
   "cell_type": "code",
   "execution_count": 344,
   "metadata": {},
   "outputs": [
    {
     "name": "stdout",
     "output_type": "stream",
     "text": [
      "Fetching 4 new records...\n"
     ]
    },
    {
     "name": "stderr",
     "output_type": "stream",
     "text": [
      "Fetching missing biosample type info:   0%|          | 0/4 [00:00<?, ?entry/s]"
     ]
    },
    {
     "name": "stderr",
     "output_type": "stream",
     "text": [
      "Fetching missing biosample type info: 100%|██████████| 4/4 [00:00<00:00,  9.32entry/s]"
     ]
    },
    {
     "name": "stdout",
     "output_type": "stream",
     "text": [
      "Failed to fetch https://www.encodeproject.org/biosample-types/primary_cell_NTR_0000661/?frame=object&format=json: 403\n",
      "Failed to fetch https://www.encodeproject.org/biosample-types/primary_cell_NTR_0000667/?frame=object&format=json: 403\n",
      "Failed to fetch https://www.encodeproject.org/biosample-types/primary_cell_NTR_0000662/?frame=object&format=json: 403\n",
      "Failed to fetch https://www.encodeproject.org/biosample-types/primary_cell_NTR_0000668/?frame=object&format=json: 403\n"
     ]
    },
    {
     "name": "stderr",
     "output_type": "stream",
     "text": [
      "\n"
     ]
    }
   ],
   "source": [
    "new_file = encode_metadata_dir / \"new_meta\" / \"biosample_types_metadata.json\"\n",
    "\n",
    "biosample_type_metadata_list = fetch_and_update_metadata(\n",
    "    func=fetch_biosample_type_metadata,\n",
    "    all_accession_set=set(biosample_types),\n",
    "    output_filepath=new_file,\n",
    "    max_workers=5,\n",
    "    task_name=\"Fetching missing biosample type info\",\n",
    ")\n",
    "encode_biosample_type_metadata = {\n",
    "    dset[\"term_id\"]: dset for dset in biosample_type_metadata_list\n",
    "}"
   ]
  },
  {
   "cell_type": "markdown",
   "metadata": {},
   "source": [
    "### Combine experiment and biosample metadata\n",
    "\n",
    "Exclude datasets with incoherent biosamples, can't do a case by case basis"
   ]
  },
  {
   "cell_type": "code",
   "execution_count": 345,
   "metadata": {},
   "outputs": [],
   "source": [
    "verbose = False\n",
    "\n",
    "N_counter = Counter()\n",
    "missing_biosample_metadata = set()\n",
    "problematic_experiments = set()\n",
    "for exp_acc, biosample_accs in encode_biosample_accessions_dict.items():\n",
    "    N = len(biosample_accs)\n",
    "    N_counter[N] += 1\n",
    "    biosample_meta = []\n",
    "    if N > 1:\n",
    "        for biosample_acc in biosample_accs:\n",
    "            try:\n",
    "                meta = encode_biosample_metadata[biosample_acc]\n",
    "            except KeyError:\n",
    "                missing_biosample_metadata.add(biosample_acc)\n",
    "                biosample_meta.append((\"unknown\", \"unknown\", \"unknown\"))\n",
    "                if verbose:\n",
    "                    print(\"Missing biosample metadata:\", biosample_acc)\n",
    "                continue\n",
    "            sex = meta.get(\"sex\", \"unknown\")\n",
    "            life_stage = meta.get(\"life_stage\", \"unknown\")\n",
    "            health_status = meta.get(\"health_status\", \"unknown\")\n",
    "            biosample_meta.append((sex, life_stage, health_status))\n",
    "\n",
    "        # biosample info needs to be the same\n",
    "        if len(set(biosample_meta)) > 1:\n",
    "            problematic_experiments.add(exp_acc)\n",
    "            if verbose:\n",
    "                print(\"Inconsistent biosample metadata:\", exp_acc, biosample_meta)"
   ]
  },
  {
   "cell_type": "code",
   "execution_count": 346,
   "metadata": {},
   "outputs": [
    {
     "name": "stdout",
     "output_type": "stream",
     "text": [
      "{'ENCBS297ZBJ', 'ENCBS184ERI', 'ENCBS126XME', 'ENCBS374HUP'}\n"
     ]
    }
   ],
   "source": [
    "print(missing_biosample_metadata)"
   ]
  },
  {
   "cell_type": "markdown",
   "metadata": {},
   "source": [
    "Remove experiments with mixed biosample metadata"
   ]
  },
  {
   "cell_type": "code",
   "execution_count": 347,
   "metadata": {},
   "outputs": [
    {
     "name": "stdout",
     "output_type": "stream",
     "text": [
      "Nb exp to remove: 76\n",
      "Nb exp before: 10085\n",
      "Nb exp after: 10009\n"
     ]
    }
   ],
   "source": [
    "print(\"Nb exp to remove:\", len(problematic_experiments))\n",
    "print(\"Nb exp before:\", len(encode_exp_metadata))\n",
    "experiment_metadata = {\n",
    "    k: v for k, v in encode_exp_metadata.items() if k not in problematic_experiments\n",
    "}\n",
    "print(\"Nb exp after:\", len(experiment_metadata))"
   ]
  },
  {
   "cell_type": "markdown",
   "metadata": {},
   "source": [
    "Remove experiments with no known biosamples"
   ]
  },
  {
   "cell_type": "code",
   "execution_count": 348,
   "metadata": {},
   "outputs": [
    {
     "name": "stdout",
     "output_type": "stream",
     "text": [
      "Known biosamples: set()\n",
      "Experiment ENCSR988LZG has no known biosamples: ['ENCBS374HUP', 'ENCBS297ZBJ']\n",
      "Number of experiments to remove: 1\n",
      "to_remove: ['ENCSR988LZG']\n",
      "Nb exp before: 10009\n",
      "Nb exp after: 10008\n"
     ]
    }
   ],
   "source": [
    "to_remove = []\n",
    "for exp_acc in list(experiment_metadata.keys()):\n",
    "    biosample_accs = encode_biosample_accessions_dict[exp_acc]\n",
    "    # print(experiment_accession, biosample_accs)\n",
    "\n",
    "    known_biosamples_accs = set(biosample_accs) - set(missing_biosample_metadata)\n",
    "    if exp_acc == \"ENCSR988LZG\":\n",
    "        print(\"Known biosamples:\", known_biosamples_accs)\n",
    "    if not known_biosamples_accs:\n",
    "        to_remove.append(exp_acc)\n",
    "        print(f\"Experiment {exp_acc} has no known biosamples: {biosample_accs}\")\n",
    "\n",
    "print(\"Number of experiments to remove:\", len(to_remove))\n",
    "print(\"to_remove:\", to_remove)\n",
    "print(\"Nb exp before:\", len(experiment_metadata))\n",
    "for acc in to_remove:\n",
    "    del experiment_metadata[acc]\n",
    "print(\"Nb exp after:\", len(experiment_metadata))"
   ]
  },
  {
   "cell_type": "markdown",
   "metadata": {},
   "source": [
    "#### Prepend name to columns from file, experiment vs biosample metadata."
   ]
  },
  {
   "cell_type": "code",
   "execution_count": 349,
   "metadata": {},
   "outputs": [
    {
     "name": "stdout",
     "output_type": "stream",
     "text": [
      "Overlapping keys: {'documents', '@id', 'internal_tags', 'accession', '@type', 'date_created', 'submitted_by', 'status', 'aliases', 'description', 'uuid', 'perturbed', 'references', 'schema_version', 'lab', 'submitter_comment', 'award', 'biosample_ontology', 'dbxrefs', 'notes', 'alternate_accessions'}\n"
     ]
    }
   ],
   "source": [
    "file_unique_keys = set()\n",
    "for dset in encode_file_metadata.values():\n",
    "    file_unique_keys.update(dset.keys())\n",
    "\n",
    "exp_unique_keys = set()\n",
    "for dset in encode_exp_metadata.values():\n",
    "    exp_unique_keys.update(dset.keys())\n",
    "\n",
    "biosample_unique_keys = set()\n",
    "for dset in encode_biosample_metadata.values():\n",
    "    biosample_unique_keys.update(dset.keys())\n",
    "\n",
    "biosample_type_unique_keys = set()\n",
    "for dset in encode_biosample_type_metadata.values():\n",
    "    biosample_type_unique_keys.update(dset.keys())\n",
    "\n",
    "overlapping_keys = exp_unique_keys & biosample_unique_keys\n",
    "if overlapping_keys:\n",
    "    print(\"Overlapping keys:\", overlapping_keys)"
   ]
  },
  {
   "cell_type": "code",
   "execution_count": 350,
   "metadata": {},
   "outputs": [
    {
     "name": "stdout",
     "output_type": "stream",
     "text": [
      "Missing biosample type metadata: ENCFF369ZTS-ENCSR207ZAR-ENCBS253TXN-NTR:0000667\n",
      "Missing biosample type metadata: ENCFF730ZVW-ENCSR753YVA-ENCBS253TXN-NTR:0000667\n",
      "Missing biosample type metadata: ENCFF507ALQ-ENCSR948CRE-ENCBS523QRO-NTR:0000668\n",
      "Missing biosample type metadata: ENCFF781QJF-ENCSR109NVM-ENCBS218KXX-NTR:0000661\n",
      "Missing biosample type metadata: ENCFF868UKZ-ENCSR053RFF-ENCBS619HZC-NTR:0000662\n",
      "Missing biosample type metadata: ENCFF531QKY-ENCSR563XBT-ENCBS619HZC-NTR:0000662\n",
      "Missing biosample type metadata: ENCFF922VJK-ENCSR526IXP-ENCBS261THR-NTR:0000667\n",
      "Missing biosample type metadata: ENCFF196DNZ-ENCSR630FZF-ENCBS819MUY-NTR:0000667\n",
      "Missing biosample type metadata: ENCFF554LYV-ENCSR439SOW-ENCBS619HZC-NTR:0000662\n",
      "Missing biosample type metadata: ENCFF827TJV-ENCSR473VWE-ENCBS819MUY-NTR:0000667\n",
      "Missing biosample type metadata: ENCFF118NTF-ENCSR617DUK-ENCBS261THR-NTR:0000667\n",
      "Missing biosample type metadata: ENCFF953JLS-ENCSR453MVF-ENCBS261THR-NTR:0000667\n",
      "Missing biosample type metadata: ENCFF117GXS-ENCSR709KME-ENCBS304VHM-NTR:0000661\n",
      "Missing biosample type metadata: ENCFF615CKH-ENCSR594ZHO-ENCBS304VHM-NTR:0000661\n",
      "File ENCFF284IEC with Experiment ENCSR988LZG has no known biosamples: ['ENCBS374HUP', 'ENCBS297ZBJ']\n",
      "Missing biosample type metadata: ENCFF033CCE-ENCSR033WMA-ENCBS253TXN-NTR:0000667\n",
      "Missing biosample type metadata: ENCFF855LZJ-ENCSR892XTV-ENCBS253TXN-NTR:0000667\n",
      "Missing biosample type metadata: ENCFF661ILH-ENCSR254KHN-ENCBS253TXN-NTR:0000667\n",
      "Missing biosample type metadata: ENCFF078TGT-ENCSR559MYU-ENCBS619HZC-NTR:0000662\n",
      "Missing biosample type metadata: ENCFF010QSQ-ENCSR839UGR-ENCBS218KXX-NTR:0000661\n",
      "Missing biosample type metadata: ENCFF942JGT-ENCSR411NTJ-ENCBS819MUY-NTR:0000667\n",
      "Missing biosample type metadata: ENCFF641WAU-ENCSR004YPL-ENCBS523QRO-NTR:0000668\n",
      "Missing biosample type metadata: ENCFF227EEH-ENCSR920JVT-ENCBS218KXX-NTR:0000661\n",
      "Missing biosample type metadata: ENCFF018GSH-ENCSR625QYU-ENCBS253TXN-NTR:0000667\n",
      "Missing biosample type metadata: ENCFF659FPO-ENCSR367RUF-ENCBS819MUY-NTR:0000667\n",
      "Missing biosample type metadata: ENCFF288GLS-ENCSR030KTV-ENCBS261THR-NTR:0000667\n",
      "Missing biosample type metadata: ENCFF386NTD-ENCSR293IGW-ENCBS261THR-NTR:0000667\n",
      "Missing biosample type metadata: ENCFF332GTT-ENCSR109HWF-ENCBS261THR-NTR:0000667\n",
      "Missing biosample type metadata: ENCFF466BQD-ENCSR918KMR-ENCBS523QRO-NTR:0000668\n",
      "Missing biosample type metadata: ENCFF275VDA-ENCSR406YIZ-ENCBS619HZC-NTR:0000662\n",
      "Missing biosample type metadata: ENCFF558HUD-ENCSR432BPP-ENCBS304VHM-NTR:0000661\n",
      "Missing biosample type metadata: ENCFF925DUM-ENCSR157WAJ-ENCBS619HZC-NTR:0000662\n",
      "Missing biosample type metadata: ENCFF346AWL-ENCSR720WUX-ENCBS218KXX-NTR:0000661\n",
      "Missing biosample type metadata: ENCFF753SZU-ENCSR684HLM-ENCBS218KXX-NTR:0000661\n",
      "Missing biosample type metadata: ENCFF647TNS-ENCSR722KGL-ENCBS819MUY-NTR:0000667\n",
      "Missing biosample type metadata: ENCFF156QRU-ENCSR072ORU-ENCBS523QRO-NTR:0000668\n",
      "Missing biosample type metadata: ENCFF561WMQ-ENCSR332BVN-ENCBS304VHM-NTR:0000661\n",
      "Missing biosample type metadata: ENCFF443VYV-ENCSR350ZWP-ENCBS523QRO-NTR:0000668\n",
      "Missing biosample type metadata: ENCFF875AAH-ENCSR966EVW-ENCBS819MUY-NTR:0000667\n",
      "Missing biosample type metadata: ENCFF990FAX-ENCSR952GCZ-ENCBS304VHM-NTR:0000661\n",
      "Missing biosample type metadata: ENCFF322CXF-ENCSR669MWS-ENCBS304VHM-NTR:0000661\n",
      "Missing biosample type metadata: ENCFF520TGQ-ENCSR380BRV-ENCBS218KXX-NTR:0000661\n"
     ]
    }
   ],
   "source": [
    "full_metadata = copy.deepcopy(encode_file_metadata)\n",
    "invalid_files = set()\n",
    "for file_acc, dset_metadata in list(full_metadata.items()):\n",
    "    exp_acc = dset_metadata[\"experiment_accession\"]\n",
    "\n",
    "    exp_metadata = copy.deepcopy(encode_exp_metadata[exp_acc])\n",
    "\n",
    "    biosample_accs = encode_biosample_accessions_dict[exp_acc]\n",
    "    known_biosamples_accs = set(biosample_accs) - set(missing_biosample_metadata)\n",
    "    if not known_biosamples_accs:\n",
    "        print(\n",
    "            f\"File {file_acc} with Experiment {exp_acc} has no known biosamples: {biosample_accs}\"\n",
    "        )\n",
    "        invalid_files.add(file_acc)\n",
    "        continue\n",
    "\n",
    "    biosample_acc = (\n",
    "        known_biosamples_accs.pop()\n",
    "    )  # choose random one, coherence check previously\n",
    "    try:\n",
    "        biosample_metadata = copy.deepcopy(encode_biosample_metadata[biosample_acc])\n",
    "    except KeyError:\n",
    "        print(f\"ERROR:{exp_acc}:{biosample_acc}\")\n",
    "        continue\n",
    "\n",
    "    biosample_term_id = get_biosample_term_id(biosample_metadata[\"biosample_ontology\"])\n",
    "    try:\n",
    "        biosample_type_metadata = copy.deepcopy(\n",
    "            encode_biosample_type_metadata[biosample_term_id]\n",
    "        )\n",
    "    except KeyError:\n",
    "        print(\n",
    "            f\"Missing biosample type metadata: {file_acc}-{exp_acc}-{biosample_acc}-{biosample_term_id}\"\n",
    "        )\n",
    "        biosample_type_metadata = {}\n",
    "\n",
    "    # create unique names\n",
    "    for unique_meta_labels, str_prepend, dset in zip(\n",
    "        [\n",
    "            file_unique_keys,\n",
    "            exp_unique_keys,\n",
    "            biosample_unique_keys,\n",
    "            biosample_type_unique_keys,\n",
    "        ],\n",
    "        [\"FILE\", \"EXPERIMENT\", \"BIOSAMPLE\", \"BIOSAMPLE_TYPE\"],\n",
    "        [dset_metadata, exp_metadata, biosample_metadata, biosample_type_metadata],\n",
    "    ):\n",
    "        for key in unique_meta_labels:\n",
    "            try:\n",
    "                dset[f\"{str_prepend}_{key}\"] = dset[key]\n",
    "                del dset[key]\n",
    "            except KeyError:\n",
    "                pass\n",
    "\n",
    "    dset_metadata.update(exp_metadata)\n",
    "    dset_metadata.update(biosample_metadata)\n",
    "    dset_metadata.update(biosample_type_metadata)\n",
    "\n",
    "    dset_metadata[\"biosamples\"] = biosample_accs\n",
    "\n",
    "for file_acc in invalid_files:\n",
    "    del full_metadata[file_acc]"
   ]
  },
  {
   "cell_type": "markdown",
   "metadata": {},
   "source": [
    "Remove line breaks from values, it made reading file difficult."
   ]
  },
  {
   "cell_type": "code",
   "execution_count": 351,
   "metadata": {},
   "outputs": [],
   "source": [
    "full_metadata_df = pd.DataFrame(list(full_metadata.values()))\n",
    "cols_with_line_breaks = set()\n",
    "for col in full_metadata_df.columns:\n",
    "    for specific_value in full_metadata_df[col].astype(str).unique():\n",
    "        if \"\\n\" in specific_value:\n",
    "            cols_with_line_breaks.add(col)\n",
    "            break"
   ]
  },
  {
   "cell_type": "code",
   "execution_count": 352,
   "metadata": {},
   "outputs": [],
   "source": [
    "for col in cols_with_line_breaks:\n",
    "    for idx, value in full_metadata_df[col].items():\n",
    "        if \"\\n\" in str(value):\n",
    "            full_metadata_df.at[idx, col] = value.replace(\"\\n\", \";\")"
   ]
  },
  {
   "cell_type": "markdown",
   "metadata": {},
   "source": [
    "Finally, save the combined metadata"
   ]
  },
  {
   "cell_type": "code",
   "execution_count": 353,
   "metadata": {},
   "outputs": [],
   "source": [
    "full_metadata_path = (\n",
    "    encode_metadata_dir / \"new_meta\" / \"encode_full_metadata_2025-02.json\"\n",
    ")\n",
    "\n",
    "if not full_metadata_path.exists():\n",
    "    full_metadata_df.to_json(full_metadata_path, orient=\"records\", indent=2)\n",
    "    full_metadata_df.to_csv(full_metadata_path.with_suffix(\".csv\"), sep=\",\", index=False)\n",
    "else:\n",
    "    with open(full_metadata_path, \"r\", encoding=\"utf-8\") as f:\n",
    "        full_metadata = json.load(f)\n",
    "        full_metadata_df = pd.DataFrame(full_metadata)"
   ]
  },
  {
   "cell_type": "code",
   "execution_count": 354,
   "metadata": {},
   "outputs": [
    {
     "name": "stdout",
     "output_type": "stream",
     "text": [
      "(11410, 197)\n"
     ]
    }
   ],
   "source": [
    "print(full_metadata_df.shape)"
   ]
  },
  {
   "cell_type": "code",
   "execution_count": 355,
   "metadata": {},
   "outputs": [],
   "source": [
    "if full_metadata_df.shape[0] != full_metadata_df[\"FILE_accession\"].nunique():\n",
    "    print(\"MAJOR ERROR\")"
   ]
  },
  {
   "cell_type": "markdown",
   "metadata": {},
   "source": [
    "### Check relevant metadata categories"
   ]
  },
  {
   "cell_type": "code",
   "execution_count": 356,
   "metadata": {},
   "outputs": [
    {
     "name": "stdout",
     "output_type": "stream",
     "text": [
      "FILE_assay_term_name\n",
      "FILE_status\n",
      "FILE_biosample_ontology\n",
      "FILE_submitted_file_name\n",
      "EXPERIMENT_assay_term_name\n",
      "EXPERIMENT_biosample_ontology\n",
      "EXPERIMENT_status\n",
      "EXPERIMENT_life_stage_age\n",
      "EXPERIMENT_internal_status\n",
      "BIOSAMPLE_life_stage\n",
      "BIOSAMPLE_status\n",
      "BIOSAMPLE_biosample_ontology\n",
      "BIOSAMPLE_sex\n",
      "BIOSAMPLE_TYPE_name\n",
      "BIOSAMPLE_TYPE_status\n",
      "BIOSAMPLE_TYPE_term_name\n",
      "BIOSAMPLE_health_status\n",
      "BIOSAMPLE_disease_term_name\n",
      "BIOSAMPLE_subcellular_fraction_term_name\n"
     ]
    },
    {
     "data": {
      "text/plain": [
       "FILE_assay_term_name\n",
       "ChIP-seq              8631\n",
       "RNA-seq               1188\n",
       "Mint-ChIP-seq          987\n",
       "polyA plus RNA-seq     604\n",
       "Name: count, dtype: int64"
      ]
     },
     "metadata": {},
     "output_type": "display_data"
    },
    {
     "data": {
      "text/plain": [
       "FILE_status\n",
       "released    11353\n",
       "archived       40\n",
       "revoked        17\n",
       "Name: count, dtype: int64"
      ]
     },
     "metadata": {},
     "output_type": "display_data"
    },
    {
     "data": {
      "text/plain": [
       "FILE_biosample_ontology\n",
       "/biosample-types/cell_line_EFO_0002067/      1196\n",
       "/biosample-types/cell_line_EFO_0001187/      1015\n",
       "/biosample-types/cell_line_EFO_0001086/       550\n",
       "/biosample-types/tissue_UBERON_0009834/       549\n",
       "/biosample-types/cell_line_EFO_0002784/       293\n",
       "                                             ... \n",
       "/biosample-types/primary_cell_CL_0000121/       1\n",
       "/biosample-types/tissue_UBERON_0003662/         1\n",
       "/biosample-types/tissue_UBERON_0004538/         1\n",
       "/biosample-types/cell_line_EFO_0002324/         1\n",
       "/biosample-types/tissue_UBERON_0003663/         1\n",
       "Name: count, Length: 402, dtype: int64"
      ]
     },
     "metadata": {},
     "output_type": "display_data"
    },
    {
     "data": {
      "text/plain": [
       "FILE_submitted_file_name\n",
       "None                                                                                                                                                                                                                                                              888\n",
       "gs://encode-processing/caper_out_v04_05/chip/995c7d12-d738-4d65-b752-81b76d940336/call-macs2_signal_track_pooled/glob-7ab0340dfeb10ca109917cbdcc568548/rep.pooled_x_ctl.pooled.pval.signal.bigwig                                                                   1\n",
       "gs://encode-processing/caper_out_v04_05/rna/32b8d0f6-8d39-4dff-9f47-df576faf22d8/call-bam_to_signals/shard-0/glob-b1f717d7f19cd2629e443e4a3f43f8de/rep1ENCSR995BHD_genome_minusUniq.bw                                                                              1\n",
       "gs://encode-processing/caper_out_v04_05/rna/e6fbbdd2-c0fa-4e20-adc1-4f1d454b55d5/call-bam_to_signals/shard-0/glob-b1f717d7f19cd2629e443e4a3f43f8de/rep1ENCSR043RSE_genome_minusUniq.bw                                                                              1\n",
       "gs://encode-processing/caper_out_v04_05/chip/81630389-20e6-4ddf-a6d7-39dce0685d95/call-macs2_signal_track_pooled/glob-7ab0340dfeb10ca109917cbdcc568548/rep.pooled_x_ctl.pooled.pval.signal.bigwig                                                                   1\n",
       "                                                                                                                                                                                                                                                                 ... \n",
       "gs://encode-processing/caper_out_v8_20/chip/a0b00085-f8b2-405c-9aa5-8b71fa0863a7/call-filter/shard-0/glob-3bcbe4e7489c90f75e0523ac6f3a9385/ENCFF001HVP.crop_36-2bp.nodup.bam                                                                                        1\n",
       "gs://encode-processing/caper_out_v11_03/chip/5085e450-ddd3-47da-b6cd-a00ccf2cd13f/call-macs2_signal_track_pooled/glob-7ab0340dfeb10ca109917cbdcc568548/rep.pooled_x_ctl.pooled.pval.signal.bigwig                                                                   1\n",
       "gs://encode-processing/caper_out_v11_03/chip/612540a7-89f2-49de-bb1d-c4265fb17eb9/call-macs2_signal_track/shard-0/glob-7ab0340dfeb10ca109917cbdcc568548/ENCFF843LGK.crop_100-2bp.srt.nodup_x_ENCFF691KWE.pval.signal.bigwig                                         1\n",
       "gs://encode-processing/caper_out_v11_03/chip/a4bf85c4-59bb-4155-9068-e6410a06d209/call-macs2_signal_track_pooled/glob-7ab0340dfeb10ca109917cbdcc568548/rep.pooled_x_ctl.pooled.pval.signal.bigwig                                                                   1\n",
       "gs://encode-processing/caper_out_v04_05/chip/5320d142-dfcd-44ca-9683-c78095df345f/call-macs2_signal_track/shard-0/glob-7ab0340dfeb10ca109917cbdcc568548/ENCFF047NGY.merged.crop_76-2bp.srt.nodup_x_ENCFF035AXH.merged.crop_76-2bp.srt.nodup.pval.signal.bigwig      1\n",
       "Name: count, Length: 10523, dtype: int64"
      ]
     },
     "metadata": {},
     "output_type": "display_data"
    },
    {
     "data": {
      "text/plain": [
       "EXPERIMENT_assay_term_name\n",
       "ChIP-seq              8631\n",
       "RNA-seq               1188\n",
       "Mint-ChIP-seq          987\n",
       "polyA plus RNA-seq     604\n",
       "Name: count, dtype: int64"
      ]
     },
     "metadata": {},
     "output_type": "display_data"
    },
    {
     "data": {
      "text/plain": [
       "EXPERIMENT_biosample_ontology\n",
       "/biosample-types/cell_line_EFO_0002067/      1196\n",
       "/biosample-types/cell_line_EFO_0001187/      1015\n",
       "/biosample-types/cell_line_EFO_0001086/       550\n",
       "/biosample-types/tissue_UBERON_0009834/       549\n",
       "/biosample-types/cell_line_EFO_0002784/       293\n",
       "                                             ... \n",
       "/biosample-types/primary_cell_CL_0000121/       1\n",
       "/biosample-types/tissue_UBERON_0003662/         1\n",
       "/biosample-types/tissue_UBERON_0004538/         1\n",
       "/biosample-types/cell_line_EFO_0002324/         1\n",
       "/biosample-types/tissue_UBERON_0003663/         1\n",
       "Name: count, Length: 402, dtype: int64"
      ]
     },
     "metadata": {},
     "output_type": "display_data"
    },
    {
     "data": {
      "text/plain": [
       "EXPERIMENT_status\n",
       "released    11404\n",
       "revoked         6\n",
       "Name: count, dtype: int64"
      ]
     },
     "metadata": {},
     "output_type": "display_data"
    },
    {
     "data": {
      "text/plain": [
       "EXPERIMENT_life_stage_age\n",
       "None                  2483\n",
       "adult 53 years        1655\n",
       "child 15 years        1028\n",
       "adult 58 years         555\n",
       "adult 51 years         316\n",
       "                      ... \n",
       "embryonic 112 days       1\n",
       "embryonic 117 days       1\n",
       "embryonic 107 days       1\n",
       "child 11 years           1\n",
       "embryonic 87 days        1\n",
       "Name: count, Length: 121, dtype: int64"
      ]
     },
     "metadata": {},
     "output_type": "display_data"
    },
    {
     "data": {
      "text/plain": [
       "EXPERIMENT_internal_status\n",
       "release ready            11241\n",
       "pipeline completed         150\n",
       "pipeline error              10\n",
       "no available pipeline        7\n",
       "unreviewed                   2\n",
       "Name: count, dtype: int64"
      ]
     },
     "metadata": {},
     "output_type": "display_data"
    },
    {
     "data": {
      "text/plain": [
       "BIOSAMPLE_life_stage\n",
       "adult        7058\n",
       "embryonic    1612\n",
       "child        1448\n",
       "unknown      1076\n",
       "newborn       216\n",
       "Name: count, dtype: int64"
      ]
     },
     "metadata": {},
     "output_type": "display_data"
    },
    {
     "data": {
      "text/plain": [
       "BIOSAMPLE_status\n",
       "released    11410\n",
       "Name: count, dtype: int64"
      ]
     },
     "metadata": {},
     "output_type": "display_data"
    },
    {
     "data": {
      "text/plain": [
       "BIOSAMPLE_biosample_ontology\n",
       "/biosample-types/cell_line_EFO_0002067/      1196\n",
       "/biosample-types/cell_line_EFO_0001187/      1015\n",
       "/biosample-types/cell_line_EFO_0001086/       550\n",
       "/biosample-types/tissue_UBERON_0009834/       549\n",
       "/biosample-types/cell_line_EFO_0002784/       293\n",
       "                                             ... \n",
       "/biosample-types/primary_cell_CL_0000121/       1\n",
       "/biosample-types/tissue_UBERON_0003662/         1\n",
       "/biosample-types/tissue_UBERON_0004538/         1\n",
       "/biosample-types/cell_line_EFO_0002324/         1\n",
       "/biosample-types/tissue_UBERON_0003663/         1\n",
       "Name: count, Length: 402, dtype: int64"
      ]
     },
     "metadata": {},
     "output_type": "display_data"
    },
    {
     "data": {
      "text/plain": [
       "BIOSAMPLE_sex\n",
       "female     5353\n",
       "male       5219\n",
       "unknown     838\n",
       "Name: count, dtype: int64"
      ]
     },
     "metadata": {},
     "output_type": "display_data"
    },
    {
     "data": {
      "text/plain": [
       "BIOSAMPLE_TYPE_name\n",
       "cell_line_EFO_0002067      1196\n",
       "cell_line_EFO_0001187      1015\n",
       "cell_line_EFO_0001086       550\n",
       "tissue_UBERON_0009834       549\n",
       "cell_line_EFO_0002784       293\n",
       "                           ... \n",
       "cell_line_EFO_0002324         1\n",
       "cell_line_EFO_0005237         1\n",
       "tissue_UBERON_0004538         1\n",
       "tissue_UBERON_0003662         1\n",
       "primary_cell_CL_0000121       1\n",
       "Name: count, Length: 395, dtype: int64"
      ]
     },
     "metadata": {},
     "output_type": "display_data"
    },
    {
     "data": {
      "text/plain": [
       "BIOSAMPLE_TYPE_status\n",
       "released    11369\n",
       "None           41\n",
       "Name: count, dtype: int64"
      ]
     },
     "metadata": {},
     "output_type": "display_data"
    },
    {
     "data": {
      "text/plain": [
       "BIOSAMPLE_TYPE_term_name\n",
       "K562                              1196\n",
       "HepG2                             1015\n",
       "A549                               550\n",
       "dorsolateral prefrontal cortex     549\n",
       "GM12878                            293\n",
       "                                  ... \n",
       "hindlimb muscle                      1\n",
       "left kidney                          1\n",
       "Purkinje cell                        1\n",
       "forelimb muscle                      1\n",
       "U-87 MG                              1\n",
       "Name: count, Length: 394, dtype: int64"
      ]
     },
     "metadata": {},
     "output_type": "display_data"
    },
    {
     "data": {
      "text/plain": [
       "BIOSAMPLE_health_status\n",
       "None                                                                                     4020\n",
       "healthy                                                                                  1775\n",
       "chronic myelogenous leukemia (CML)                                                       1196\n",
       "hepatocellular carcinoma                                                                 1015\n",
       "unknown                                                                                   988\n",
       "                                                                                         ... \n",
       "neuroglioma                                                                                 2\n",
       "clinically normal; monozygotic twin sister with Cornelia De Lange syndrome is GM13977       2\n",
       "malignant glioblastoma                                                                      2\n",
       "medulloblastoma                                                                             2\n",
       "Burkitt's lymphoma                                                                          1\n",
       "Name: count, Length: 85, dtype: int64"
      ]
     },
     "metadata": {},
     "output_type": "display_data"
    },
    {
     "data": {
      "text/plain": [
       "BIOSAMPLE_disease_term_name\n",
       "None                                           10814\n",
       "[multiple sclerosis]                             172\n",
       "[Alzheimer's disease]                            161\n",
       "[mild cognitive impairment]                      131\n",
       "[Cognitive impairment]                            28\n",
       "[nonobstructive coronary artery disease]          28\n",
       "[Alzheimer's disease, Cognitive impairment]       19\n",
       "[amyotrophic lateral sclerosis]                   18\n",
       "[squamous cell carcinoma]                         15\n",
       "[basal cell carcinoma]                            14\n",
       "[Cognitive impairment, Alzheimer's disease]       10\n",
       "Name: count, dtype: int64"
      ]
     },
     "metadata": {},
     "output_type": "display_data"
    },
    {
     "data": {
      "text/plain": [
       "BIOSAMPLE_subcellular_fraction_term_name\n",
       "None                              11274\n",
       "nucleus                              74\n",
       "cytosol                              38\n",
       "membrane                              8\n",
       "insoluble cytoplasmic fraction        8\n",
       "nucleolus                             4\n",
       "chromatin                             2\n",
       "nucleoplasm                           2\n",
       "Name: count, dtype: int64"
      ]
     },
     "metadata": {},
     "output_type": "display_data"
    }
   ],
   "source": [
    "potential_cols = []\n",
    "for col in full_metadata_df.columns:\n",
    "    if any(\n",
    "        label in col.lower()\n",
    "        for label in [\n",
    "            \"cancer\",\n",
    "            \"health\",\n",
    "            \"status\",\n",
    "            \"life\",\n",
    "            \"sex\",\n",
    "            \"biosample_ontology\",\n",
    "            \"name\",\n",
    "        ]\n",
    "    ):\n",
    "        print(col)\n",
    "        potential_cols.append(col)\n",
    "\n",
    "for col in potential_cols:\n",
    "    display(full_metadata_df[col].value_counts(dropna=False))"
   ]
  },
  {
   "cell_type": "markdown",
   "metadata": {},
   "source": [
    "Sex and life stage metadata categories already available, let's get format them."
   ]
  },
  {
   "cell_type": "code",
   "execution_count": 357,
   "metadata": {},
   "outputs": [],
   "source": [
    "full_metadata_df[\"donor_life_stage\"] = full_metadata_df[\"BIOSAMPLE_life_stage\"]\n",
    "full_metadata_df[\"donor_sex\"] = full_metadata_df[\"BIOSAMPLE_sex\"]"
   ]
  },
  {
   "cell_type": "markdown",
   "metadata": {},
   "source": [
    "Note: must remove revoked files/experiments."
   ]
  },
  {
   "cell_type": "code",
   "execution_count": 358,
   "metadata": {},
   "outputs": [
    {
     "name": "stdout",
     "output_type": "stream",
     "text": [
      "Removed 17 revoked entries\n"
     ]
    }
   ],
   "source": [
    "new_output_name = \"encode_full_metadata_2025-02_no_revoked.csv\"\n",
    "new_output_path = full_metadata_path.with_name(new_output_name)\n",
    "new_output_path.unlink(missing_ok=True)\n",
    "if not new_output_path.exists():\n",
    "    N_before = full_metadata_df.shape[0]\n",
    "    for cat_type in [\"FILE\", \"EXPERIMENT\", \"BIOSAMPLE\"]:\n",
    "        cat = f\"{cat_type}_status\"\n",
    "        full_metadata_df = full_metadata_df[full_metadata_df[cat] != \"revoked\"]\n",
    "    N_after = full_metadata_df.shape[0]\n",
    "\n",
    "    print(f\"Removed {N_before - N_after} revoked entries\")\n",
    "\n",
    "    full_metadata_df.to_csv(new_output_path, index=False)"
   ]
  },
  {
   "cell_type": "code",
   "execution_count": 359,
   "metadata": {},
   "outputs": [
    {
     "data": {
      "text/plain": [
       "FILE_assay_term_name\n",
       "ChIP-seq              8614\n",
       "RNA-seq               1188\n",
       "Mint-ChIP-seq          987\n",
       "polyA plus RNA-seq     604\n",
       "Name: count, dtype: int64"
      ]
     },
     "metadata": {},
     "output_type": "display_data"
    },
    {
     "data": {
      "text/plain": [
       "FILE_target\n",
       "None                        3773\n",
       "/targets/H3K4me3-human/      705\n",
       "/targets/H3K27ac-human/      623\n",
       "/targets/H3K27me3-human/     585\n",
       "/targets/H3K4me1-human/      556\n",
       "                            ... \n",
       "/targets/E2F7-human/           1\n",
       "/targets/GFI1-human/           1\n",
       "/targets/PPARD-human/          1\n",
       "/targets/NUFIP1-human/         1\n",
       "/targets/ZNF205-human/         1\n",
       "Name: count, Length: 1179, dtype: int64"
      ]
     },
     "metadata": {},
     "output_type": "display_data"
    },
    {
     "data": {
      "text/plain": [
       "FILE_assay_title\n",
       "TF ChIP-seq           3559\n",
       "Histone ChIP-seq      3074\n",
       "Control ChIP-seq      1981\n",
       "total RNA-seq         1188\n",
       "Mint-ChIP-seq          987\n",
       "polyA plus RNA-seq     604\n",
       "Name: count, dtype: int64"
      ]
     },
     "metadata": {},
     "output_type": "display_data"
    },
    {
     "data": {
      "text/plain": [
       "EXPERIMENT_assay_term_id\n",
       "OBI:0000716    8614\n",
       "OBI:0001271    1188\n",
       "OBI:0002160     987\n",
       "OBI:0002571     604\n",
       "Name: count, dtype: int64"
      ]
     },
     "metadata": {},
     "output_type": "display_data"
    },
    {
     "data": {
      "text/plain": [
       "EXPERIMENT_assay_slims\n",
       "[DNA binding]      9601\n",
       "[Transcription]    1792\n",
       "Name: count, dtype: int64"
      ]
     },
     "metadata": {},
     "output_type": "display_data"
    },
    {
     "data": {
      "text/plain": [
       "EXPERIMENT_assay_term_name\n",
       "ChIP-seq              8614\n",
       "RNA-seq               1188\n",
       "Mint-ChIP-seq          987\n",
       "polyA plus RNA-seq     604\n",
       "Name: count, dtype: int64"
      ]
     },
     "metadata": {},
     "output_type": "display_data"
    },
    {
     "data": {
      "text/plain": [
       "EXPERIMENT_target\n",
       "None                        3773\n",
       "/targets/H3K4me3-human/      705\n",
       "/targets/H3K27ac-human/      623\n",
       "/targets/H3K27me3-human/     585\n",
       "/targets/H3K4me1-human/      556\n",
       "                            ... \n",
       "/targets/E2F7-human/           1\n",
       "/targets/GFI1-human/           1\n",
       "/targets/PPARD-human/          1\n",
       "/targets/NUFIP1-human/         1\n",
       "/targets/ZNF205-human/         1\n",
       "Name: count, Length: 1179, dtype: int64"
      ]
     },
     "metadata": {},
     "output_type": "display_data"
    },
    {
     "data": {
      "text/plain": [
       "EXPERIMENT_assay_title\n",
       "TF ChIP-seq           3559\n",
       "Histone ChIP-seq      3074\n",
       "Control ChIP-seq      1981\n",
       "total RNA-seq         1188\n",
       "Mint-ChIP-seq          987\n",
       "polyA plus RNA-seq     604\n",
       "Name: count, dtype: int64"
      ]
     },
     "metadata": {},
     "output_type": "display_data"
    }
   ],
   "source": [
    "potential_cols = []\n",
    "for col in full_metadata_df.columns:\n",
    "    if any(label in col.lower() for label in [\"assay\", \"target\", \"antibody\"]):\n",
    "        potential_cols.append(col)\n",
    "\n",
    "for col in potential_cols:\n",
    "    display(full_metadata_df[col].value_counts(dropna=False))"
   ]
  },
  {
   "cell_type": "code",
   "execution_count": 360,
   "metadata": {},
   "outputs": [
    {
     "data": {
      "text/plain": [
       "FILE_assay_term_name\n",
       "ChIP-seq              1981\n",
       "RNA-seq               1188\n",
       "polyA plus RNA-seq     604\n",
       "Name: count, dtype: int64"
      ]
     },
     "metadata": {},
     "output_type": "display_data"
    },
    {
     "data": {
      "text/plain": [
       "FILE_target\n",
       "None    3773\n",
       "Name: count, dtype: int64"
      ]
     },
     "metadata": {},
     "output_type": "display_data"
    },
    {
     "data": {
      "text/plain": [
       "FILE_assay_title\n",
       "Control ChIP-seq      1981\n",
       "total RNA-seq         1188\n",
       "polyA plus RNA-seq     604\n",
       "Name: count, dtype: int64"
      ]
     },
     "metadata": {},
     "output_type": "display_data"
    },
    {
     "data": {
      "text/plain": [
       "EXPERIMENT_assay_term_id\n",
       "OBI:0000716    1981\n",
       "OBI:0001271    1188\n",
       "OBI:0002571     604\n",
       "Name: count, dtype: int64"
      ]
     },
     "metadata": {},
     "output_type": "display_data"
    },
    {
     "data": {
      "text/plain": [
       "EXPERIMENT_assay_slims\n",
       "[DNA binding]      1981\n",
       "[Transcription]    1792\n",
       "Name: count, dtype: int64"
      ]
     },
     "metadata": {},
     "output_type": "display_data"
    },
    {
     "data": {
      "text/plain": [
       "EXPERIMENT_assay_term_name\n",
       "ChIP-seq              1981\n",
       "RNA-seq               1188\n",
       "polyA plus RNA-seq     604\n",
       "Name: count, dtype: int64"
      ]
     },
     "metadata": {},
     "output_type": "display_data"
    },
    {
     "data": {
      "text/plain": [
       "EXPERIMENT_target\n",
       "None    3773\n",
       "Name: count, dtype: int64"
      ]
     },
     "metadata": {},
     "output_type": "display_data"
    },
    {
     "data": {
      "text/plain": [
       "EXPERIMENT_assay_title\n",
       "Control ChIP-seq      1981\n",
       "total RNA-seq         1188\n",
       "polyA plus RNA-seq     604\n",
       "Name: count, dtype: int64"
      ]
     },
     "metadata": {},
     "output_type": "display_data"
    }
   ],
   "source": [
    "unknown_target_df = full_metadata_df[full_metadata_df[\"FILE_target\"].isnull()].copy()\n",
    "for col in potential_cols:\n",
    "    display(unknown_target_df[col].value_counts(dropna=False))"
   ]
  },
  {
   "cell_type": "markdown",
   "metadata": {},
   "source": [
    "Note: No EXPERIMENT_target means RNA-seq or input."
   ]
  },
  {
   "cell_type": "markdown",
   "metadata": {},
   "source": [
    "### Create 'assay' and 'assay_epiclass' categories"
   ]
  },
  {
   "cell_type": "code",
   "execution_count": 361,
   "metadata": {},
   "outputs": [
    {
     "name": "stdout",
     "output_type": "stream",
     "text": [
      "{'h3k4me3', 'wgbs_pbat', 'h3k27ac', 'rna_seq', 'wgbs', 'h3k27me3', 'input', 'mrna_seq', 'h3k36me3', 'wgbs_standard', 'h3k9me3', 'h3k4me1'}\n"
     ]
    }
   ],
   "source": [
    "all_core_assays = set(ASSAY_ORDER) | {\"mrna_seq\", \"wgbs_standard\", \"wgbs_pbat\"}\n",
    "print(all_core_assays)"
   ]
  },
  {
   "cell_type": "code",
   "execution_count": 362,
   "metadata": {},
   "outputs": [
    {
     "data": {
      "text/plain": [
       "assay\n",
       "input       1981\n",
       "rna_seq     1188\n",
       "mrna_seq     604\n",
       "Name: count, dtype: int64"
      ]
     },
     "metadata": {},
     "output_type": "display_data"
    }
   ],
   "source": [
    "no_target_mapping = {\n",
    "    \"Control ChIP-seq\": \"input\",\n",
    "    \"total RNA-seq\": \"rna_seq\",\n",
    "    \"polyA plus RNA-seq\": \"mrna_seq\",\n",
    "}\n",
    "unknown_target_df[\"assay\"] = unknown_target_df[\"EXPERIMENT_assay_title\"].map(\n",
    "    no_target_mapping\n",
    ")\n",
    "display(unknown_target_df[\"assay\"].value_counts(dropna=False))"
   ]
  },
  {
   "cell_type": "code",
   "execution_count": 363,
   "metadata": {},
   "outputs": [],
   "source": [
    "known_target_df = full_metadata_df[~full_metadata_df[\"FILE_target\"].isnull()].copy()"
   ]
  },
  {
   "cell_type": "markdown",
   "metadata": {},
   "source": [
    "Sanity check: are all targets marked as human?"
   ]
  },
  {
   "cell_type": "code",
   "execution_count": 364,
   "metadata": {},
   "outputs": [
    {
     "name": "stdout",
     "output_type": "stream",
     "text": [
      "/targets/Cebpa-rat/: 12 files\n"
     ]
    }
   ],
   "source": [
    "non_human_target = []\n",
    "for val in known_target_df[\"FILE_target\"].value_counts(dropna=False).keys():\n",
    "    if \"human\" not in val:\n",
    "        non_human_target.append(val)\n",
    "\n",
    "for val in non_human_target:\n",
    "    sub_df = known_target_df[known_target_df[\"FILE_target\"] == val]\n",
    "    print(f\"{val}: {sub_df.shape[0]} files\")\n",
    "    # display(\n",
    "    #     known_target_df[known_target_df[\"FILE_target\"] == val].head()\n",
    "    # )"
   ]
  },
  {
   "cell_type": "code",
   "execution_count": 365,
   "metadata": {},
   "outputs": [
    {
     "name": "stdout",
     "output_type": "stream",
     "text": [
      "ENCFF381JQO\tENCSR142IGM\tENCBS448PNJ\t/targets/CEBPA-human/\n",
      "ENCFF556MUP\tENCSR827TOM\tENCBS696VSU\t/targets/Cebpa-rat/\n",
      "ENCFF077NMD\tENCSR490DXW\tENCBS554PIB\t/targets/Cebpa-rat/\n",
      "ENCFF493RKY\tENCSR195PUH\tENCBS768BYO\t/targets/Cebpa-rat/\n",
      "ENCFF270PHI\tENCSR334SSD\tENCBS550RXJ\t/targets/Cebpa-rat/\n",
      "ENCFF232PZE\tENCSR917FJW\tENCBS344FXJ\t/targets/Cebpa-rat/\n",
      "ENCFF933YBT\tENCSR400YGT\tENCBS699CMK\t/targets/Cebpa-rat/\n",
      "ENCFF175OUN\tENCSR867ARL\tENCBS276SDE\t/targets/Cebpa-rat/\n",
      "ENCFF801ICZ\tENCSR548ADW\tENCBS929MQK\t/targets/Cebpa-rat/\n",
      "ENCFF511QZU\tENCSR368EZK\tENCBS439JQP\t/targets/Cebpa-rat/\n",
      "ENCFF248HWL\tENCSR236DYB\tENCBS101RZA\t/targets/Cebpa-rat/\n",
      "ENCFF631BOR\tENCSR288MRA\tENCBS054NUM\t/targets/Cebpa-rat/\n",
      "ENCFF381MBI\tENCSR377EZA\tENCBS732KGE\t/targets/Cebpa-rat/\n"
     ]
    }
   ],
   "source": [
    "for vals in known_target_df[\n",
    "    known_target_df[\"FILE_target\"].str.lower().str.contains(\"cebpa\")\n",
    "][\n",
    "    [\"FILE_accession\", \"EXPERIMENT_accession\", \"BIOSAMPLE_accession\", \"FILE_target\"]\n",
    "].values:\n",
    "    print(\"\\t\".join(vals))"
   ]
  },
  {
   "cell_type": "markdown",
   "metadata": {},
   "source": [
    "c'est en effet inhabituel, c'est possiblement une erreur d'annotation ou encore que l'anticorps utilisé pour faire le ChIP reconnaît à la fois la prt humaine et celle du rat car les séquences de protéines sont ~95% identique; le détail important est que l'expérience a été faite dans cellules humaines, ce qui est le cas ici alors je propose de simplement ignorer la présence de rat et combiner les résultats."
   ]
  },
  {
   "cell_type": "code",
   "execution_count": 366,
   "metadata": {},
   "outputs": [
    {
     "data": {
      "text/plain": [
       "assay\n",
       "h3k4me3     705\n",
       "h3k27ac     623\n",
       "h3k27me3    585\n",
       "h3k4me1     556\n",
       "h3k36me3    554\n",
       "           ... \n",
       "atm           1\n",
       "znf219        1\n",
       "h4k12ac       1\n",
       "znf788        1\n",
       "znf621        1\n",
       "Name: count, Length: 1176, dtype: int64"
      ]
     },
     "metadata": {},
     "output_type": "display_data"
    }
   ],
   "source": [
    "known_target_df[\"assay\"] = (\n",
    "    known_target_df[\"FILE_target\"]\n",
    "    .str.split(r\"/targets/\", expand=True)[1]\n",
    "    .str.split(\"-\", expand=True)[0]\n",
    "    .str.lower()\n",
    ")\n",
    "display(known_target_df[\"assay\"].value_counts(dropna=False))"
   ]
  },
  {
   "cell_type": "code",
   "execution_count": 367,
   "metadata": {},
   "outputs": [],
   "source": [
    "full_metadata_df = pd.concat([known_target_df, unknown_target_df], axis=0)"
   ]
  },
  {
   "cell_type": "code",
   "execution_count": 368,
   "metadata": {},
   "outputs": [
    {
     "data": {
      "text/plain": [
       "assay_epiclass\n",
       "non-core    3593\n",
       "input       1981\n",
       "rna_seq     1188\n",
       "h3k4me3      705\n",
       "h3k27ac      623\n",
       "mrna_seq     604\n",
       "h3k27me3     585\n",
       "h3k4me1      556\n",
       "h3k36me3     554\n",
       "h3k9me3      536\n",
       "ctcf         468\n",
       "Name: count, dtype: int64"
      ]
     },
     "metadata": {},
     "output_type": "display_data"
    }
   ],
   "source": [
    "unique_names = list(all_core_assays) + [\"ctcf\"]\n",
    "full_metadata_df[ASSAY] = [\n",
    "    label if label in unique_names else \"non-core\" for label in full_metadata_df[\"assay\"]\n",
    "]\n",
    "display(full_metadata_df[ASSAY].value_counts(dropna=False))"
   ]
  },
  {
   "cell_type": "markdown",
   "metadata": {},
   "source": [
    "### Add 'sample_ontology' category"
   ]
  },
  {
   "cell_type": "code",
   "execution_count": 369,
   "metadata": {},
   "outputs": [],
   "source": [
    "full_metadata_df[\"biomaterial_type\"] = full_metadata_df[\"BIOSAMPLE_TYPE_classification\"]"
   ]
  },
  {
   "cell_type": "code",
   "execution_count": 370,
   "metadata": {},
   "outputs": [],
   "source": [
    "curie_def_df = pd.read_csv(\n",
    "    encode_metadata_dir / \"EpiAtlas_list-curie_term_HSOI.tsv\",\n",
    "    sep=\"\\t\",\n",
    "    names=[\"biosample_term_id\", \"biosample_term_name\", \"epiclass_sample_ontology\"],\n",
    ")"
   ]
  },
  {
   "cell_type": "code",
   "execution_count": 371,
   "metadata": {},
   "outputs": [],
   "source": [
    "new_df = full_metadata_df.merge(\n",
    "    right=curie_def_df[[\"biosample_term_id\", \"epiclass_sample_ontology\"]],\n",
    "    left_on=\"BIOSAMPLE_TYPE_term_id\",\n",
    "    right_on=\"biosample_term_id\",\n",
    "    how=\"left\",\n",
    ")"
   ]
  },
  {
   "cell_type": "code",
   "execution_count": 372,
   "metadata": {},
   "outputs": [],
   "source": [
    "new_df = new_df.drop(columns=[\"biosample_term_id\"])\n",
    "new_df[CELL_TYPE] = new_df[\"epiclass_sample_ontology\"]"
   ]
  },
  {
   "cell_type": "markdown",
   "metadata": {},
   "source": [
    "### Add 'in_epiatlas\" category."
   ]
  },
  {
   "cell_type": "code",
   "execution_count": 373,
   "metadata": {},
   "outputs": [],
   "source": [
    "new_df[\"in_epiatlas\"] = (\n",
    "    new_df[\"EXPERIMENT_related_series\"].astype(str).str.contains(\"reference-epigenomes\")\n",
    ") & (new_df[ASSAY].isin(ASSAY_ORDER))"
   ]
  },
  {
   "cell_type": "markdown",
   "metadata": {},
   "source": [
    "Sanity check, reference epigenomes always mean IHEC?\n",
    "\n",
    "yes: https://www.encodeproject.org/profiles/reference_epigenome"
   ]
  },
  {
   "cell_type": "code",
   "execution_count": 374,
   "metadata": {},
   "outputs": [
    {
     "data": {
      "text/plain": [
       "in_epiatlas\n",
       "False    8679\n",
       "True     2714\n",
       "Name: count, dtype: int64"
      ]
     },
     "execution_count": 374,
     "metadata": {},
     "output_type": "execute_result"
    }
   ],
   "source": [
    "new_df[\"in_epiatlas\"].value_counts(dropna=False)"
   ]
  },
  {
   "cell_type": "markdown",
   "metadata": {},
   "source": [
    "Final save"
   ]
  },
  {
   "cell_type": "code",
   "execution_count": 375,
   "metadata": {},
   "outputs": [],
   "source": [
    "output_name = \"encode_full_metadata_2025-02_no_revoked.csv\"\n",
    "output_path = full_metadata_path.with_name(output_name)\n",
    "new_df.to_csv(output_path, sep=\",\", index=False)"
   ]
  }
 ],
 "metadata": {
  "kernelspec": {
   "display_name": "epiclass_py3.10",
   "language": "python",
   "name": "python3"
  },
  "language_info": {
   "codemirror_mode": {
    "name": "ipython",
    "version": 3
   },
   "file_extension": ".py",
   "mimetype": "text/x-python",
   "name": "python",
   "nbconvert_exporter": "python",
   "pygments_lexer": "ipython3",
   "version": "3.10.12"
  }
 },
 "nbformat": 4,
 "nbformat_minor": 2
}

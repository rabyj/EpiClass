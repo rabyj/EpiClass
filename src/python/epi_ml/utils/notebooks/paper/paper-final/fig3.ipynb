{
 "cells": [
  {
   "cell_type": "code",
   "execution_count": 1,
   "metadata": {},
   "outputs": [
    {
     "data": {
      "text/plain": [
       "'Figure core creation: Fig3\\n\\nFormatting of the figures may not be identical to the paper, but they contain the same data points.\\n'"
      ]
     },
     "execution_count": 1,
     "metadata": {},
     "output_type": "execute_result"
    }
   ],
   "source": [
    "\"\"\"Figure core creation: Fig3\n",
    "\n",
    "Formatting of the figures may not be identical to the paper, but they contain the same data points.\n",
    "\"\"\"\n",
    "# pylint: disable=import-error, redefined-outer-name, use-dict-literal, too-many-lines, too-many-branches, consider-using-f-string"
   ]
  },
  {
   "cell_type": "code",
   "execution_count": 2,
   "metadata": {},
   "outputs": [],
   "source": [
    "%load_ext autoreload\n",
    "%autoreload 2"
   ]
  },
  {
   "cell_type": "markdown",
   "metadata": {},
   "source": [
    "## Setup"
   ]
  },
  {
   "cell_type": "code",
   "execution_count": null,
   "metadata": {},
   "outputs": [],
   "source": [
    "from __future__ import annotations\n",
    "\n",
    "import re\n",
    "from pathlib import Path\n",
    "from typing import List\n",
    "\n",
    "import matplotlib.pyplot as plt\n",
    "import pandas as pd\n",
    "import plotly.express as px\n",
    "import plotly.graph_objects as go\n",
    "import upsetplot\n",
    "from IPython.display import display\n",
    "\n",
    "from epi_ml.utils.notebooks.paper.paper_utilities import (\n",
    "    ASSAY,\n",
    "    ASSAY_ORDER,\n",
    "    CELL_TYPE,\n",
    "    LIFE_STAGE,\n",
    "    SEX,\n",
    "    IHECColorMap,\n",
    "    MetadataHandler,\n",
    "    SplitResultsHandler,\n",
    ")"
   ]
  },
  {
   "cell_type": "code",
   "execution_count": 4,
   "metadata": {},
   "outputs": [],
   "source": [
    "CANCER = \"harmonized_sample_cancer_high\"\n",
    "CORE_ASSAYS = ASSAY_ORDER[0:7]"
   ]
  },
  {
   "cell_type": "markdown",
   "metadata": {},
   "source": [
    "### General paths setup"
   ]
  },
  {
   "cell_type": "code",
   "execution_count": 5,
   "metadata": {},
   "outputs": [],
   "source": [
    "base_dir = Path.home() / \"Projects/epiclass/output/paper\"\n",
    "paper_dir = base_dir\n",
    "if not paper_dir.exists():\n",
    "    raise FileNotFoundError(f\"Directory {paper_dir} does not exist.\")\n",
    "\n",
    "base_data_dir = base_dir / \"data\"\n",
    "base_fig_dir = base_dir / \"figures\""
   ]
  },
  {
   "cell_type": "code",
   "execution_count": 6,
   "metadata": {},
   "outputs": [],
   "source": [
    "IHECColorMap = IHECColorMap(base_fig_dir)\n",
    "assay_colors = IHECColorMap.assay_color_map\n",
    "cell_type_colors = IHECColorMap.cell_type_color_map\n",
    "sex_colors = IHECColorMap.sex_color_map"
   ]
  },
  {
   "cell_type": "code",
   "execution_count": 7,
   "metadata": {},
   "outputs": [],
   "source": [
    "split_results_handler = SplitResultsHandler()\n",
    "\n",
    "metadata_handler = MetadataHandler(paper_dir)\n",
    "metadata_v2 = metadata_handler.load_metadata(\"v2\")\n",
    "metadata_v2_df = metadata_handler.load_metadata_df(\"v2\")"
   ]
  },
  {
   "cell_type": "markdown",
   "metadata": {},
   "source": [
    "### ChIP-Atlas predictions file `CA_metadata_4DB+all_pred.20240606_mod3.0.tsv`\n",
    "\n",
    "See README for meaning of mod3.0."
   ]
  },
  {
   "cell_type": "code",
   "execution_count": 8,
   "metadata": {},
   "outputs": [
    {
     "name": "stdout",
     "output_type": "stream",
     "text": [
      "ChIP-Atlas: 48669 total files\n"
     ]
    }
   ],
   "source": [
    "base_pred_dir = base_data_dir / \"training_results\" / \"predictions\"\n",
    "if not base_pred_dir.exists():\n",
    "    raise FileNotFoundError(f\"Directory {base_pred_dir} does not exist.\")\n",
    "\n",
    "ca_preds_dir = base_pred_dir / \"C-A\"\n",
    "ca_preds_path = ca_preds_dir / ASSAY / \"CA_metadata_4DB+all_pred.20240606_mod3.0.tsv\"\n",
    "ca_preds_df = pd.read_csv(ca_preds_path, sep=\"\\t\", low_memory=False)\n",
    "\n",
    "print(f\"ChIP-Atlas: {ca_preds_df.shape[0]} total files\")\n",
    "# TODO: have clear encode metadata file specified in markdown, so 13c content is explicit"
   ]
  },
  {
   "cell_type": "code",
   "execution_count": 9,
   "metadata": {},
   "outputs": [],
   "source": [
    "DB_COLS = [\"GEO_mod\", \"C-A\", \"Cistrome\", \"NGS_mod\"]"
   ]
  },
  {
   "cell_type": "code",
   "execution_count": 10,
   "metadata": {},
   "outputs": [
    {
     "name": "stdout",
     "output_type": "stream",
     "text": [
      "ChIP-Atlas - Available model predictions\n",
      "assay7\n",
      "assay11\n",
      "assay13\n",
      "cancer\n",
      "disease\n",
      "donorlife\n",
      "project\n",
      "sex\n",
      "assay\n",
      "biomat\n",
      "paired\n",
      "sex.1\n",
      "disease.1\n"
     ]
    }
   ],
   "source": [
    "print(\"ChIP-Atlas - Available model predictions\")\n",
    "for col in ca_preds_df.columns:\n",
    "    if \"Max_pred\" in col:\n",
    "        model_task = col.split(\"_\")[-1]\n",
    "        print(model_task)"
   ]
  },
  {
   "cell_type": "code",
   "execution_count": 11,
   "metadata": {},
   "outputs": [],
   "source": [
    "if ca_preds_df[ca_preds_df.isin([\"h3.3k27m\"])].notna().sum().sum() != 0:\n",
    "    raise ValueError(\"h3.3k27m is still present in the dataframe\")"
   ]
  },
  {
   "cell_type": "markdown",
   "metadata": {},
   "source": [
    "Predictions from following models and more:\n",
    "| Metadata category|   Nb classes |     Experiment Key (comet.com)      | Nb Files | Training Size |\n",
    "|------------------|--------------|------------------------------|----------|---------------|\n",
    "| assay_epiclass   |     7      | 69488630801b4a05a53b5d9e572f0aaa       | 16788    | 34413 |\n",
    "| assay_epiclass   |     11      | 0f8e5eb996114868a17057bebe64f87c      | 20922    | 46128 |\n",
    "| assay_epiclass   |     13      | dd3710b73c0341af85a17ce1998362d0      | 24989    | 116550|\n",
    "| harmonized_donor_sex | 3    | 4b908b83e0ec45c3ab991e65aa27af0c | 18299    | 28078  |\n",
    "| harmonized_donor_life_stage | 5    | 91214ed0b1664395b1826dc69a495ed4 | 15372    | 66372  |\n",
    "| harmonized_sample_cancer_high | 2    | 15da476b92f140eab818ece369248f4c | 20922    | 34491  |\n",
    "\n",
    "The training size is higher than the number of files because of random oversampling of minority classes up to approx. majority size.\n",
    "\n",
    "Classes:\n",
    "\n",
    "- assay 7c: 6 h3k* histone marks + input\n",
    "- assay 11c: assay7c + rna_seq + mrna_seq + wgbs_standard + wgbs_pbat\n",
    "- assay 13c: assay11c + encode non-core + encode CTCF\n",
    "- harmonized_donor_sex: male, female, mixed\n",
    "- harmonized_donor_life_stage: adult, child, newborn, fetal, embryonic\n",
    "- harmonized_sample_cancer_high (modification of harmonized_sample_disease_high): cancer, non-cancer (healthy/None+disease)\n",
    "\n",
    "Training metadata: `IHEC_metadata_harmonization.v1.1.extended.csv` + encode XXXX"
   ]
  },
  {
   "cell_type": "markdown",
   "metadata": {},
   "source": [
    "### ENCODE predictions file `encode_predictions_augmented_merged.csv`\n",
    "\n",
    "See `model.list` in `encode_preds_dir`.  \n",
    "Same models as ChIP-Atlas predictions. The assay_epiclass model is the 7c one.  \n",
    "Additonally, the `harmonized_sample_ontology_intermediate` model was used on a subset of files with known EpiATLAS sample ontologies.\n",
    "\n",
    "| Metadata category|   Nb classes |     Experiment Key (comet.com)      | Nb Files | Training Size |\n",
    "|------------------|--------------|------------------------------|----------|---------------|\n",
    "| harmonized_sample_ontology_intermediate   |     16      | bb66b72ae83645d587e50b34aebb39c3      | 16379    | 49054|\\\n",
    "\n",
    "Metadata from ENCODE predictions created using:\n",
    "- `encode_metadata_2023-10-25.csv`\n",
    "- `EpiAtlas_list-curie_term_HSOI.tsv`\n",
    "- `encode_ontol+assay.tsv`\n",
    "- `ENCODE_IHEC_keys.tsv`"
   ]
  },
  {
   "cell_type": "code",
   "execution_count": 12,
   "metadata": {},
   "outputs": [
    {
     "name": "stdout",
     "output_type": "stream",
     "text": [
      "ENCODE: 9619 total files\n"
     ]
    }
   ],
   "source": [
    "encode_preds_dir = base_pred_dir / \"encode\"\n",
    "encode_preds_path = encode_preds_dir / \"encode_predictions_augmented_merged.csv\"\n",
    "encode_preds_df = pd.read_csv(encode_preds_path, sep=\",\", low_memory=False)\n",
    "print(f\"ENCODE: {encode_preds_df.shape[0]} total files\")"
   ]
  },
  {
   "cell_type": "code",
   "execution_count": 13,
   "metadata": {},
   "outputs": [
    {
     "data": {
      "text/plain": [
       "False    8434\n",
       "True     1185\n",
       "Name: in_EpiAtlas, dtype: int64"
      ]
     },
     "execution_count": 13,
     "metadata": {},
     "output_type": "execute_result"
    }
   ],
   "source": [
    "encode_preds_df[\"in_EpiAtlas\"].value_counts()"
   ]
  },
  {
   "cell_type": "code",
   "execution_count": 14,
   "metadata": {},
   "outputs": [
    {
     "name": "stdout",
     "output_type": "stream",
     "text": [
      "ENCODE: 8434 total files with no EpiAtlas overlap\n"
     ]
    }
   ],
   "source": [
    "encode_preds_df = encode_preds_df[~encode_preds_df[\"in_EpiAtlas\"]]\n",
    "print(f\"ENCODE: {encode_preds_df.shape[0]} total files with no EpiAtlas overlap\")"
   ]
  },
  {
   "cell_type": "markdown",
   "metadata": {},
   "source": [
    "## Fig 3"
   ]
  },
  {
   "cell_type": "markdown",
   "metadata": {},
   "source": [
    "Removing ChIP-Atlas experiment overlap with EpiATLAS"
   ]
  },
  {
   "cell_type": "code",
   "execution_count": 15,
   "metadata": {},
   "outputs": [
    {
     "name": "stdout",
     "output_type": "stream",
     "text": [
      "ChIP-Atlas: Initial 48669 files\n",
      "ChIP-Atlas: 1047 files with EpiAtlas EpiRR removed\n",
      "ChIP-Atlas: 47622 files without EpiAtlas EpiRR\n"
     ]
    }
   ],
   "source": [
    "print(f\"ChIP-Atlas: Initial {ca_preds_df.shape[0]} files\")\n",
    "no_epiatlas_df = ca_preds_df[ca_preds_df[\"is_EpiAtlas_EpiRR\"] == \"0\"]\n",
    "\n",
    "diff = ca_preds_df.shape[0] - no_epiatlas_df.shape[0]\n",
    "print(f\"ChIP-Atlas: {diff} files with EpiAtlas EpiRR removed\")\n",
    "print(f\"ChIP-Atlas: {no_epiatlas_df.shape[0]} files without EpiAtlas EpiRR\")"
   ]
  },
  {
   "cell_type": "markdown",
   "metadata": {},
   "source": [
    "Ignoring non-core consensus files."
   ]
  },
  {
   "cell_type": "code",
   "execution_count": 16,
   "metadata": {},
   "outputs": [
    {
     "name": "stdout",
     "output_type": "stream",
     "text": [
      "ChIP-Atlas: 918 files with non-core consensus removed\n",
      "ChIP-Atlas: 46704 files with core consensus\n"
     ]
    }
   ],
   "source": [
    "non_core_labels = [\"non-core\", \"CTCF\"]\n",
    "ca_core7_df = no_epiatlas_df[\n",
    "    ~no_epiatlas_df[\"manual_target_consensus\"].isin((non_core_labels))\n",
    "]\n",
    "\n",
    "diff = no_epiatlas_df.shape[0] - ca_core7_df.shape[0]\n",
    "print(f\"ChIP-Atlas: {diff} files with non-core consensus removed\")\n",
    "print(f\"ChIP-Atlas: {ca_core7_df.shape[0]} files with core consensus\")"
   ]
  },
  {
   "cell_type": "code",
   "execution_count": 17,
   "metadata": {},
   "outputs": [
    {
     "data": {
      "text/plain": [
       "input           17930\n",
       "h3k27ac         11169\n",
       "h3k4me3          6328\n",
       "h3k27me3         4195\n",
       "h3k4me1          3034\n",
       "h3k9me3          2102\n",
       "h3k36me3         1421\n",
       "no_consensus      525\n",
       "Name: manual_target_consensus, dtype: int64"
      ]
     },
     "execution_count": 17,
     "metadata": {},
     "output_type": "execute_result"
    }
   ],
   "source": [
    "ca_core7_df[\"manual_target_consensus\"].value_counts()"
   ]
  },
  {
   "cell_type": "markdown",
   "metadata": {},
   "source": [
    "### Fig 3A - ChIP-Atlas assay (7classes) prediction"
   ]
  },
  {
   "cell_type": "markdown",
   "metadata": {},
   "source": [
    "#### High-confidence predictions"
   ]
  },
  {
   "cell_type": "code",
   "execution_count": 18,
   "metadata": {},
   "outputs": [
    {
     "data": {
      "text/plain": [
       "'ChIP-Atlas: 41796/46704 files (89.49%) with high confidence assay prediction'"
      ]
     },
     "metadata": {},
     "output_type": "display_data"
    }
   ],
   "source": [
    "total_N = ca_core7_df.shape[0]\n",
    "high_confidence_pred_df = ca_core7_df[ca_core7_df[\"Max_pred_assay7\"] >= 0.6]\n",
    "\n",
    "high_confidence_N = high_confidence_pred_df.shape[0]\n",
    "N_percent = high_confidence_N / total_N\n",
    "display(\n",
    "    f\"ChIP-Atlas: {high_confidence_N}/{total_N} files ({high_confidence_N/total_N:.2%}) with high confidence assay prediction\"\n",
    ")"
   ]
  },
  {
   "cell_type": "markdown",
   "metadata": {},
   "source": [
    "#### Match between manual target consensus and MLP prediction"
   ]
  },
  {
   "cell_type": "code",
   "execution_count": 19,
   "metadata": {},
   "outputs": [
    {
     "name": "stdout",
     "output_type": "stream",
     "text": [
      "ChIP-Atlas: 39532/41796 files (94.58%) with agreement between consensus and predicted assay\n"
     ]
    }
   ],
   "source": [
    "total_N = high_confidence_pred_df.shape[0]\n",
    "\n",
    "match_rule = (\n",
    "    high_confidence_pred_df[\"manual_target_consensus\"]\n",
    "    == high_confidence_pred_df[\"Predicted_class_assay7\"]\n",
    ")\n",
    "match_df = high_confidence_pred_df[match_rule]\n",
    "mismatch_df = high_confidence_pred_df[~match_rule]\n",
    "\n",
    "agreement_N = match_df.shape[0]\n",
    "\n",
    "print(\n",
    "    f\"ChIP-Atlas: {agreement_N}/{total_N} files ({agreement_N / total_N:.2%}) with agreement between consensus and predicted assay\"\n",
    ")"
   ]
  },
  {
   "cell_type": "markdown",
   "metadata": {},
   "source": [
    "#### Mismatch breakdown"
   ]
  },
  {
   "cell_type": "code",
   "execution_count": 20,
   "metadata": {},
   "outputs": [
    {
     "name": "stdout",
     "output_type": "stream",
     "text": [
      "ChIP-Atlas: 1525/2264 files (67.36%) with mismatch predicted as input\n",
      "ChIP-Atlas: 739/2264 files (32.64%) potential mislabels\n"
     ]
    },
    {
     "data": {
      "text/plain": [
       "Identical                       468\n",
       "Different                       158\n",
       "Ignored - Potential non-core     64\n",
       "1 source                         49\n",
       "Name: core7_DBs_consensus, dtype: int64"
      ]
     },
     "metadata": {},
     "output_type": "display_data"
    }
   ],
   "source": [
    "total_mismatch = mismatch_df.shape[0]\n",
    "input_rule = mismatch_df[\"Predicted_class_assay7\"] == \"input\"\n",
    "input_pred_N = input_rule.sum()\n",
    "\n",
    "print(\n",
    "    f\"ChIP-Atlas: {input_pred_N}/{total_mismatch} files ({input_pred_N / total_mismatch:.2%}) with mismatch predicted as input\"\n",
    ")\n",
    "print(\n",
    "    f\"ChIP-Atlas: {total_mismatch-input_pred_N}/{total_mismatch} files ({(total_mismatch-input_pred_N) / total_mismatch:.2%}) potential mislabels\"\n",
    ")\n",
    "display(mismatch_df[~input_rule][\"core7_DBs_consensus\"].value_counts(dropna=False))"
   ]
  },
  {
   "cell_type": "markdown",
   "metadata": {},
   "source": [
    "### Fig 3B-C-D - ChIP-Atlas donor sex, cancer and life stage predictions"
   ]
  },
  {
   "cell_type": "code",
   "execution_count": 21,
   "metadata": {},
   "outputs": [],
   "source": [
    "new_ca_meta_path = ca_preds_path.parent / \"CA_metadata_FW_20240917.tsv\"\n",
    "new_ca_meta_df = pd.read_csv(new_ca_meta_path, sep=\"\\t\", low_memory=False)\n",
    "\n",
    "new_ca_meta_df[\"True_class_FW_donorlife\"] = new_ca_meta_df[\"True_class_FW_age\"]\n",
    "new_cols = [\"True_class_FW_cancer\", \"True_class_FW_sex\", \"True_class_FW_donorlife\"]\n",
    "new_ca_meta_df = new_ca_meta_df[[\"Experimental.id\"] + new_cols]"
   ]
  },
  {
   "cell_type": "code",
   "execution_count": 22,
   "metadata": {},
   "outputs": [],
   "source": [
    "# New life stage label grouping: 3 classes\n",
    "life_stage_map = {\"embryonic\": \"prenatal\", \"newborn\": \"prenatal\", \"fetal\": \"prenatal\"}\n",
    "new_ca_meta_df[\"True_class_FW_donorlife_merged\"] = new_ca_meta_df[\n",
    "    \"True_class_FW_donorlife\"\n",
    "].replace(life_stage_map)\n",
    "\n",
    "ca_preds_df[\"Predicted_class_donorlife_merged\"] = ca_preds_df[\n",
    "    \"Predicted_class_donorlife\"\n",
    "].replace(life_stage_map)\n",
    "ca_preds_df[\"Max_pred_donorlife_merged\"] = ca_preds_df[\"Max_pred_donorlife\"]"
   ]
  },
  {
   "cell_type": "code",
   "execution_count": 23,
   "metadata": {},
   "outputs": [],
   "source": [
    "ca_preds_df = ca_preds_df.merge(\n",
    "    new_ca_meta_df, left_on=\"Experimental-id\", right_on=\"Experimental.id\", how=\"left\"\n",
    ")"
   ]
  },
  {
   "cell_type": "code",
   "execution_count": 24,
   "metadata": {},
   "outputs": [
    {
     "name": "stdout",
     "output_type": "stream",
     "text": [
      "ChIP-Atlas: True_class_FW_cancer\n",
      "NaN           26151\n",
      "cancer        19802\n",
      "non-cancer     2716\n",
      "Name: True_class_FW_cancer, dtype: int64 \n",
      "\n",
      "ChIP-Atlas: True_class_FW_sex\n",
      "NaN       40572\n",
      "male       4158\n",
      "female     3928\n",
      "mixed        11\n",
      "Name: True_class_FW_sex, dtype: int64 \n",
      "\n",
      "ChIP-Atlas: True_class_FW_donorlife\n",
      "NaN          40697\n",
      "adult         5477\n",
      "newborn       1362\n",
      "embryonic      620\n",
      "child          509\n",
      "fetal            4\n",
      "Name: True_class_FW_donorlife, dtype: int64 \n",
      "\n",
      "ChIP-Atlas: True_class_FW_donorlife_merged\n",
      "NaN         40697\n",
      "adult        5477\n",
      "prenatal     1986\n",
      "child         509\n",
      "Name: True_class_FW_donorlife_merged, dtype: int64 \n",
      "\n"
     ]
    }
   ],
   "source": [
    "for col in new_cols + [\"True_class_FW_donorlife_merged\"]:\n",
    "    print(f\"ChIP-Atlas: {col}\")\n",
    "    print(ca_preds_df[col].value_counts(dropna=False), \"\\n\")"
   ]
  },
  {
   "cell_type": "code",
   "execution_count": 25,
   "metadata": {},
   "outputs": [],
   "source": [
    "def create_summary_table(ca_pred_df: pd.DataFrame) -> pd.DataFrame:\n",
    "    \"\"\"Create a summary table for the ChIP-Atlas predictions.\"\"\"\n",
    "    results = []\n",
    "    for cat in [\"cancer\", \"sex\", \"donorlife\", \"donorlife_merged\"]:\n",
    "        true_col = f\"True_class_FW_{cat}\"\n",
    "        pred_col = f\"Predicted_class_{cat}\"\n",
    "        max_pred = f\"Max_pred_{cat}\"\n",
    "\n",
    "        # Split data into known and unknown labels\n",
    "        known_rule = ca_pred_df[true_col].notna()\n",
    "        known_df = ca_pred_df[known_rule]\n",
    "        unknown_df = ca_pred_df[~known_rule]\n",
    "\n",
    "        known_N = known_df.shape[0]\n",
    "        unknown_N = unknown_df.shape[0]\n",
    "        total_N = ca_pred_df.shape[0]\n",
    "\n",
    "        # High confidence calculations for known labels\n",
    "        high_conf_know_rule = known_df[max_pred] >= 0.6\n",
    "        high_conf_know_df = known_df[high_conf_know_rule]\n",
    "        high_conf_know_N = high_conf_know_df.shape[0]\n",
    "        low_conf_know_N = known_df[~high_conf_know_rule].shape[0]\n",
    "\n",
    "        # Match calculations\n",
    "        match_rule = high_conf_know_df[pred_col] == high_conf_know_df[true_col]\n",
    "        N_match = match_rule.sum()\n",
    "        N_mismatch = high_conf_know_df.shape[0] - N_match\n",
    "\n",
    "        # High confidence calculations for unknown labels\n",
    "        high_conf_unknown_rule = unknown_df[max_pred] >= 0.6\n",
    "        high_conf_unknown_N = high_conf_unknown_rule.sum()\n",
    "        low_conf_unknown_N = (~high_conf_unknown_rule).sum()\n",
    "\n",
    "        # Store results for this category\n",
    "        results.append(\n",
    "            {\n",
    "                \"Category\": cat,\n",
    "                \"Total Files\": total_N,\n",
    "                \"Files with Labels\": f\"{known_N}/{total_N} ({known_N/total_N:.1%})\",\n",
    "                \"High Conf. (with labels)\": f\"{high_conf_know_N}/{known_N} ({high_conf_know_N/known_N:.1%})\",\n",
    "                \"Low Conf. (with labels)\": f\"{low_conf_know_N}/{known_N} ({low_conf_know_N/known_N:.1%})\",\n",
    "                \"Matching Predictions\": f\"{N_match}/{known_N} ({N_match/known_N:.1%})\",\n",
    "                \"Mismatching Predictions\": f\"{N_mismatch}/{known_N} ({N_mismatch/known_N:.1%})\",\n",
    "                \"Files without Labels\": f\"{unknown_N}/{total_N} ({unknown_N/total_N:.1%})\",\n",
    "                \"High Conf. (no labels)\": f\"{high_conf_unknown_N}/{unknown_N} ({high_conf_unknown_N/unknown_N:.1%})\",\n",
    "                \"Low Conf. (no labels)\": f\"{low_conf_unknown_N}/{unknown_N} ({low_conf_unknown_N/unknown_N:.1%})\",\n",
    "            }\n",
    "        )\n",
    "\n",
    "    # Create DataFrame from results\n",
    "    summary_df = pd.DataFrame(results)\n",
    "\n",
    "    # Set Category as index for better display\n",
    "    summary_df.set_index(\"Category\", inplace=True)\n",
    "\n",
    "    return summary_df"
   ]
  },
  {
   "cell_type": "code",
   "execution_count": 26,
   "metadata": {},
   "outputs": [],
   "source": [
    "summary_df = create_summary_table(ca_preds_df)"
   ]
  },
  {
   "cell_type": "code",
   "execution_count": 27,
   "metadata": {},
   "outputs": [],
   "source": [
    "def create_pie_charts_from_summary(summary_df):\n",
    "    \"\"\"Create pie charts from the summary DataFrame.\"\"\"\n",
    "    plt.style.use(\"seaborn\")\n",
    "\n",
    "    def extract_number(value: str) -> int:\n",
    "        \"\"\"Extract the first number from strings like '100 (50.0%)'.\"\"\"\n",
    "        return int(re.search(r\"(\\d+)\", value).group(1))  # type: ignore\n",
    "\n",
    "    # Create pie charts for each category\n",
    "    for category in summary_df.index:\n",
    "        fig, (ax1, ax2) = plt.subplots(1, 2, figsize=(15, 6))\n",
    "        fig.suptitle(f\"Prediction distribution for {category}\", fontsize=16, y=1.05)\n",
    "\n",
    "        # Known Labels Pie Chart\n",
    "        high_conf_match = extract_number(summary_df.loc[category, \"Matching Predictions\"])\n",
    "        high_conf_mismatch = extract_number(\n",
    "            summary_df.loc[category, \"Mismatching Predictions\"]\n",
    "        )\n",
    "        low_conf_known = extract_number(\n",
    "            summary_df.loc[category, \"Low Conf. (with labels)\"]\n",
    "        )\n",
    "\n",
    "        known_sizes = [high_conf_match, high_conf_mismatch, low_conf_known]\n",
    "        total_known = sum(known_sizes)\n",
    "\n",
    "        known_labels = [\n",
    "            f\"High Conf. Match\\n({high_conf_match:,} files, {high_conf_match/total_known:.1%})\",\n",
    "            f\"High Conf. Mismatch\\n({high_conf_mismatch:,} files, {high_conf_mismatch/total_known:.1%})\",\n",
    "            f\"Low Confidence\\n({low_conf_known:,} files, {low_conf_known/total_known:.1%})\",\n",
    "        ]\n",
    "        colors1 = [\"#2ecc71\", \"#e74c3c\", \"#95a5a6\"]  # green, red, gray\n",
    "\n",
    "        ax1.pie(\n",
    "            known_sizes,\n",
    "            labels=known_labels,\n",
    "            colors=colors1,\n",
    "            autopct=\"%1.1f%%\",\n",
    "            startangle=90,\n",
    "        )\n",
    "        ax1.set_title(\"Files with Known Labels\", pad=20)\n",
    "\n",
    "        # Unknown Labels Pie Chart\n",
    "        high_conf_unknown = extract_number(\n",
    "            summary_df.loc[category, \"High Conf. (no labels)\"]\n",
    "        )\n",
    "        low_conf_unknown = extract_number(\n",
    "            summary_df.loc[category, \"Low Conf. (no labels)\"]\n",
    "        )\n",
    "\n",
    "        unknown_sizes = [high_conf_unknown, low_conf_unknown]\n",
    "        total_unknown = sum(unknown_sizes)\n",
    "\n",
    "        unknown_labels = [\n",
    "            f\"High Confidence\\n({high_conf_unknown:,} files, {high_conf_unknown/total_unknown:.1%})\",\n",
    "            f\"Low Confidence\\n({low_conf_unknown:,} files, {low_conf_unknown/total_unknown:.1%})\",\n",
    "        ]\n",
    "        colors2 = [\"#3498db\", \"#95a5a6\"]  # blue, gray\n",
    "\n",
    "        ax2.pie(\n",
    "            unknown_sizes,\n",
    "            labels=unknown_labels,\n",
    "            colors=colors2,\n",
    "            autopct=\"%1.1f%%\",\n",
    "            startangle=90,\n",
    "        )\n",
    "        ax2.set_title(\"Files with Unknown Labels\", pad=20)\n",
    "\n",
    "        plt.tight_layout()\n",
    "\n",
    "    plt.show()"
   ]
  },
  {
   "cell_type": "code",
   "execution_count": 28,
   "metadata": {},
   "outputs": [
    {
     "name": "stderr",
     "output_type": "stream",
     "text": [
      "/tmp/ipykernel_34263/2543245933.py:3: MatplotlibDeprecationWarning: The seaborn styles shipped by Matplotlib are deprecated since 3.6, as they no longer correspond to the styles shipped by seaborn. However, they will remain available as 'seaborn-v0_8-<style>'. Alternatively, directly use the seaborn API instead.\n",
      "  plt.style.use(\"seaborn\")\n"
     ]
    },
    {
     "data": {
      "image/png": "[encoded data removed]",
      "text/plain": [
       "<Figure size 1500x600 with 2 Axes>"
      ]
     },
     "metadata": {},
     "output_type": "display_data"
    },
    {
     "data": {
      "image/png": "[encoded data removed]",
      "text/plain": [
       "<Figure size 1500x600 with 2 Axes>"
      ]
     },
     "metadata": {},
     "output_type": "display_data"
    },
    {
     "data": {
      "image/png": "[encoded data removed]",
      "text/plain": [
       "<Figure size 1500x600 with 2 Axes>"
      ]
     },
     "metadata": {},
     "output_type": "display_data"
    },
    {
     "data": {
      "image/png": "[encoded data removed]",
      "text/plain": [
       "<Figure size 1500x600 with 2 Axes>"
      ]
     },
     "metadata": {},
     "output_type": "display_data"
    }
   ],
   "source": [
    "create_pie_charts_from_summary(summary_df)"
   ]
  },
  {
   "cell_type": "markdown",
   "metadata": {},
   "source": [
    "### Fig 3E - ENCODE dataset core predictions (5 tasks)"
   ]
  },
  {
   "cell_type": "code",
   "execution_count": 29,
   "metadata": {},
   "outputs": [],
   "source": [
    "tasks = [ASSAY, CELL_TYPE, SEX, CANCER, LIFE_STAGE]"
   ]
  },
  {
   "cell_type": "code",
   "execution_count": 30,
   "metadata": {},
   "outputs": [],
   "source": [
    "accepted_ct_labels = encode_preds_df[f\"Predicted class ({CELL_TYPE})\"].unique()\n",
    "assert len(accepted_ct_labels) == 16\n",
    "\n",
    "accepted_life_stage_labels = encode_preds_df[f\"Predicted class ({LIFE_STAGE})\"].unique()\n",
    "assert len(accepted_life_stage_labels) == 5\n",
    "\n",
    "accepted_cancer_labels = encode_preds_df[f\"Predicted class ({CANCER})\"].unique()\n",
    "assert len(accepted_cancer_labels) == 2\n",
    "\n",
    "accepted_sex_labels = encode_preds_df[f\"Predicted class ({SEX})\"].unique()\n",
    "assert len(accepted_sex_labels) == 3\n",
    "\n",
    "accepted_labels_dict = {\n",
    "    ASSAY: CORE_ASSAYS,\n",
    "    CELL_TYPE: accepted_ct_labels,\n",
    "    LIFE_STAGE: accepted_life_stage_labels,\n",
    "    CANCER: accepted_cancer_labels,\n",
    "    SEX: accepted_sex_labels,\n",
    "}"
   ]
  },
  {
   "cell_type": "code",
   "execution_count": 31,
   "metadata": {},
   "outputs": [
    {
     "name": "stdout",
     "output_type": "stream",
     "text": [
      "ENCODE: 4367 files with core assay predictions\n"
     ]
    }
   ],
   "source": [
    "encode_core_df = encode_preds_df[encode_preds_df[ASSAY].isin(CORE_ASSAYS)]\n",
    "print(f\"ENCODE: {encode_core_df.shape[0]} files with core assay predictions\")"
   ]
  },
  {
   "cell_type": "code",
   "execution_count": 32,
   "metadata": {},
   "outputs": [
    {
     "name": "stdout",
     "output_type": "stream",
     "text": [
      "ENCODE: assay_epiclass, 4367 total files with known labels (core7)\n",
      "ENCODE: assay_epiclass, 4279 total files with known labels and high confidence predictions (core7)\n",
      "ENCODE: harmonized_sample_ontology_intermediate, 1051 total files with known labels (core7)\n",
      "ENCODE: harmonized_sample_ontology_intermediate, 876 total files with known labels and high confidence predictions (core7)\n",
      "ENCODE: harmonized_donor_sex, 2455 total files with known labels (core7)\n",
      "ENCODE: harmonized_donor_sex, 2343 total files with known labels and high confidence predictions (core7)\n",
      "ENCODE: harmonized_sample_cancer_high, 2917 total files with known labels (core7)\n",
      "ENCODE: harmonized_sample_cancer_high, 2878 total files with known labels and high confidence predictions (core7)\n",
      "ENCODE: harmonized_donor_life_stage, 3716 total files with known labels (core7)\n",
      "ENCODE: harmonized_donor_life_stage, 3367 total files with known labels and high confidence predictions (core7)\n"
     ]
    },
    {
     "data": {
      "application/vnd.plotly.v1+json": {
       "config": {
        "plotlyServerURL": "https://plot.ly"
       },
       "data": [
        {
         "boxmean": true,
         "boxpoints": "all",
         "hovertemplate": "%{text}",
         "line": {
          "color": "black",
          "width": 1.5
         },
         "marker": {
          "color": "black",
          "size": 3
         },
         "name": "assay_epiclass (N=4279)",
         "text": [
          "h3k27ac: 100.00% (490/490)",
          "h3k27me3: 98.61% (425/431)",
          "h3k36me3: 97.42% (377/387)",
          "h3k4me1: 99.50% (402/404)",
          "h3k4me3: 99.62% (531/533)",
          "h3k9me3: 99.75% (395/396)",
          "input: 98.72% (1617/1638)"
         ],
         "type": "box",
         "y": [
          1,
          0.9860788863109049,
          0.9741602067183462,
          0.995049504950495,
          0.9962476547842402,
          0.9974747474747475,
          0.9871794871794872
         ]
        },
        {
         "boxmean": true,
         "boxpoints": "all",
         "hovertemplate": "%{text}",
         "line": {
          "color": "black",
          "width": 1.5
         },
         "marker": {
          "color": "black",
          "size": 3
         },
         "name": "harmonized_sample_ontology_intermediate (N=876)",
         "text": [
          "h3k27ac: 98.08% (153/156)",
          "h3k27me3: 97.18% (138/142)",
          "h3k36me3: 97.92% (94/96)",
          "h3k4me1: 95.15% (98/103)",
          "h3k4me3: 98.14% (158/161)",
          "h3k9me3: 95.12% (78/82)",
          "input: 95.59% (130/136)"
         ],
         "type": "box",
         "y": [
          0.9807692307692307,
          0.971830985915493,
          0.9791666666666666,
          0.9514563106796117,
          0.9813664596273292,
          0.9512195121951219,
          0.9558823529411765
         ]
        },
        {
         "boxmean": true,
         "boxpoints": "all",
         "hovertemplate": "%{text}",
         "line": {
          "color": "black",
          "width": 1.5
         },
         "marker": {
          "color": "black",
          "size": 3
         },
         "name": "harmonized_donor_sex (N=2343)",
         "text": [
          "h3k27ac: 85.01% (312/367)",
          "h3k27me3: 95.51% (340/356)",
          "h3k36me3: 96.52% (305/316)",
          "h3k4me1: 90.65% (291/321)",
          "h3k4me3: 96.46% (409/424)",
          "h3k9me3: 97.20% (312/321)",
          "input: 92.44% (220/238)"
         ],
         "type": "box",
         "y": [
          0.8501362397820164,
          0.9550561797752809,
          0.9651898734177216,
          0.9065420560747663,
          0.964622641509434,
          0.9719626168224299,
          0.9243697478991597
         ]
        },
        {
         "boxmean": true,
         "boxpoints": "all",
         "hovertemplate": "%{text}",
         "line": {
          "color": "black",
          "width": 1.5
         },
         "marker": {
          "color": "black",
          "size": 3
         },
         "name": "harmonized_sample_cancer_high (N=2878)",
         "text": [
          "h3k27ac: 96.07% (465/484)",
          "h3k27me3: 95.37% (412/432)",
          "h3k36me3: 92.45% (355/384)",
          "h3k4me1: 94.57% (383/405)",
          "h3k4me3: 96.42% (511/530)",
          "h3k9me3: 76.25% (289/379)",
          "input: 94.32% (249/264)"
         ],
         "type": "box",
         "y": [
          0.9607438016528925,
          0.9537037037037037,
          0.9244791666666666,
          0.945679012345679,
          0.9641509433962264,
          0.762532981530343,
          0.9431818181818182
         ]
        },
        {
         "boxmean": true,
         "boxpoints": "all",
         "hovertemplate": "%{text}",
         "line": {
          "color": "black",
          "width": 1.5
         },
         "marker": {
          "color": "black",
          "size": 3
         },
         "name": "harmonized_donor_life_stage (N=3367)",
         "text": [
          "h3k27ac: 86.03% (345/401)",
          "h3k27me3: 85.29% (284/333)",
          "h3k36me3: 84.41% (249/295)",
          "h3k4me1: 82.92% (267/322)",
          "h3k4me3: 85.96% (349/406)",
          "h3k9me3: 82.71% (244/295)",
          "input: 64.94% (854/1315)"
         ],
         "type": "box",
         "y": [
          0.8603491271820449,
          0.8528528528528528,
          0.8440677966101695,
          0.8291925465838509,
          0.8596059113300493,
          0.8271186440677966,
          0.6494296577946768
         ]
        }
       ],
       "layout": {
        "height": 600,
        "showlegend": true,
        "template": {
         "data": {
          "bar": [
           {
            "error_x": {
             "color": "#2a3f5f"
            },
            "error_y": {
             "color": "#2a3f5f"
            },
            "marker": {
             "line": {
              "color": "#E5ECF6",
              "width": 0.5
             },
             "pattern": {
              "fillmode": "overlay",
              "size": 10,
              "solidity": 0.2
             }
            },
            "type": "bar"
           }
          ],
          "barpolar": [
           {
            "marker": {
             "line": {
              "color": "#E5ECF6",
              "width": 0.5
             },
             "pattern": {
              "fillmode": "overlay",
              "size": 10,
              "solidity": 0.2
             }
            },
            "type": "barpolar"
           }
          ],
          "carpet": [
           {
            "aaxis": {
             "endlinecolor": "#2a3f5f",
             "gridcolor": "white",
             "linecolor": "white",
             "minorgridcolor": "white",
             "startlinecolor": "#2a3f5f"
            },
            "baxis": {
             "endlinecolor": "#2a3f5f",
             "gridcolor": "white",
             "linecolor": "white",
             "minorgridcolor": "white",
             "startlinecolor": "#2a3f5f"
            },
            "type": "carpet"
           }
          ],
          "choropleth": [
           {
            "colorbar": {
             "outlinewidth": 0,
             "ticks": ""
            },
            "type": "choropleth"
           }
          ],
          "contour": [
           {
            "colorbar": {
             "outlinewidth": 0,
             "ticks": ""
            },
            "colorscale": [
             [
              0,
              "#0d0887"
             ],
             [
              0.1111111111111111,
              "#46039f"
             ],
             [
              0.2222222222222222,
              "#7201a8"
             ],
             [
              0.3333333333333333,
              "#9c179e"
             ],
             [
              0.4444444444444444,
              "#bd3786"
             ],
             [
              0.5555555555555556,
              "#d8576b"
             ],
             [
              0.6666666666666666,
              "#ed7953"
             ],
             [
              0.7777777777777778,
              "#fb9f3a"
             ],
             [
              0.8888888888888888,
              "#fdca26"
             ],
             [
              1,
              "#f0f921"
             ]
            ],
            "type": "contour"
           }
          ],
          "contourcarpet": [
           {
            "colorbar": {
             "outlinewidth": 0,
             "ticks": ""
            },
            "type": "contourcarpet"
           }
          ],
          "heatmap": [
           {
            "colorbar": {
             "outlinewidth": 0,
             "ticks": ""
            },
            "colorscale": [
             [
              0,
              "#0d0887"
             ],
             [
              0.1111111111111111,
              "#46039f"
             ],
             [
              0.2222222222222222,
              "#7201a8"
             ],
             [
              0.3333333333333333,
              "#9c179e"
             ],
             [
              0.4444444444444444,
              "#bd3786"
             ],
             [
              0.5555555555555556,
              "#d8576b"
             ],
             [
              0.6666666666666666,
              "#ed7953"
             ],
             [
              0.7777777777777778,
              "#fb9f3a"
             ],
             [
              0.8888888888888888,
              "#fdca26"
             ],
             [
              1,
              "#f0f921"
             ]
            ],
            "type": "heatmap"
           }
          ],
          "heatmapgl": [
           {
            "colorbar": {
             "outlinewidth": 0,
             "ticks": ""
            },
            "colorscale": [
             [
              0,
              "#0d0887"
             ],
             [
              0.1111111111111111,
              "#46039f"
             ],
             [
              0.2222222222222222,
              "#7201a8"
             ],
             [
              0.3333333333333333,
              "#9c179e"
             ],
             [
              0.4444444444444444,
              "#bd3786"
             ],
             [
              0.5555555555555556,
              "#d8576b"
             ],
             [
              0.6666666666666666,
              "#ed7953"
             ],
             [
              0.7777777777777778,
              "#fb9f3a"
             ],
             [
              0.8888888888888888,
              "#fdca26"
             ],
             [
              1,
              "#f0f921"
             ]
            ],
            "type": "heatmapgl"
           }
          ],
          "histogram": [
           {
            "marker": {
             "pattern": {
              "fillmode": "overlay",
              "size": 10,
              "solidity": 0.2
             }
            },
            "type": "histogram"
           }
          ],
          "histogram2d": [
           {
            "colorbar": {
             "outlinewidth": 0,
             "ticks": ""
            },
            "colorscale": [
             [
              0,
              "#0d0887"
             ],
             [
              0.1111111111111111,
              "#46039f"
             ],
             [
              0.2222222222222222,
              "#7201a8"
             ],
             [
              0.3333333333333333,
              "#9c179e"
             ],
             [
              0.4444444444444444,
              "#bd3786"
             ],
             [
              0.5555555555555556,
              "#d8576b"
             ],
             [
              0.6666666666666666,
              "#ed7953"
             ],
             [
              0.7777777777777778,
              "#fb9f3a"
             ],
             [
              0.8888888888888888,
              "#fdca26"
             ],
             [
              1,
              "#f0f921"
             ]
            ],
            "type": "histogram2d"
           }
          ],
          "histogram2dcontour": [
           {
            "colorbar": {
             "outlinewidth": 0,
             "ticks": ""
            },
            "colorscale": [
             [
              0,
              "#0d0887"
             ],
             [
              0.1111111111111111,
              "#46039f"
             ],
             [
              0.2222222222222222,
              "#7201a8"
             ],
             [
              0.3333333333333333,
              "#9c179e"
             ],
             [
              0.4444444444444444,
              "#bd3786"
             ],
             [
              0.5555555555555556,
              "#d8576b"
             ],
             [
              0.6666666666666666,
              "#ed7953"
             ],
             [
              0.7777777777777778,
              "#fb9f3a"
             ],
             [
              0.8888888888888888,
              "#fdca26"
             ],
             [
              1,
              "#f0f921"
             ]
            ],
            "type": "histogram2dcontour"
           }
          ],
          "mesh3d": [
           {
            "colorbar": {
             "outlinewidth": 0,
             "ticks": ""
            },
            "type": "mesh3d"
           }
          ],
          "parcoords": [
           {
            "line": {
             "colorbar": {
              "outlinewidth": 0,
              "ticks": ""
             }
            },
            "type": "parcoords"
           }
          ],
          "pie": [
           {
            "automargin": true,
            "type": "pie"
           }
          ],
          "scatter": [
           {
            "fillpattern": {
             "fillmode": "overlay",
             "size": 10,
             "solidity": 0.2
            },
            "type": "scatter"
           }
          ],
          "scatter3d": [
           {
            "line": {
             "colorbar": {
              "outlinewidth": 0,
              "ticks": ""
             }
            },
            "marker": {
             "colorbar": {
              "outlinewidth": 0,
              "ticks": ""
             }
            },
            "type": "scatter3d"
           }
          ],
          "scattercarpet": [
           {
            "marker": {
             "colorbar": {
              "outlinewidth": 0,
              "ticks": ""
             }
            },
            "type": "scattercarpet"
           }
          ],
          "scattergeo": [
           {
            "marker": {
             "colorbar": {
              "outlinewidth": 0,
              "ticks": ""
             }
            },
            "type": "scattergeo"
           }
          ],
          "scattergl": [
           {
            "marker": {
             "colorbar": {
              "outlinewidth": 0,
              "ticks": ""
             }
            },
            "type": "scattergl"
           }
          ],
          "scattermapbox": [
           {
            "marker": {
             "colorbar": {
              "outlinewidth": 0,
              "ticks": ""
             }
            },
            "type": "scattermapbox"
           }
          ],
          "scatterpolar": [
           {
            "marker": {
             "colorbar": {
              "outlinewidth": 0,
              "ticks": ""
             }
            },
            "type": "scatterpolar"
           }
          ],
          "scatterpolargl": [
           {
            "marker": {
             "colorbar": {
              "outlinewidth": 0,
              "ticks": ""
             }
            },
            "type": "scatterpolargl"
           }
          ],
          "scatterternary": [
           {
            "marker": {
             "colorbar": {
              "outlinewidth": 0,
              "ticks": ""
             }
            },
            "type": "scatterternary"
           }
          ],
          "surface": [
           {
            "colorbar": {
             "outlinewidth": 0,
             "ticks": ""
            },
            "colorscale": [
             [
              0,
              "#0d0887"
             ],
             [
              0.1111111111111111,
              "#46039f"
             ],
             [
              0.2222222222222222,
              "#7201a8"
             ],
             [
              0.3333333333333333,
              "#9c179e"
             ],
             [
              0.4444444444444444,
              "#bd3786"
             ],
             [
              0.5555555555555556,
              "#d8576b"
             ],
             [
              0.6666666666666666,
              "#ed7953"
             ],
             [
              0.7777777777777778,
              "#fb9f3a"
             ],
             [
              0.8888888888888888,
              "#fdca26"
             ],
             [
              1,
              "#f0f921"
             ]
            ],
            "type": "surface"
           }
          ],
          "table": [
           {
            "cells": {
             "fill": {
              "color": "#EBF0F8"
             },
             "line": {
              "color": "white"
             }
            },
            "header": {
             "fill": {
              "color": "#C8D4E3"
             },
             "line": {
              "color": "white"
             }
            },
            "type": "table"
           }
          ]
         },
         "layout": {
          "annotationdefaults": {
           "arrowcolor": "#2a3f5f",
           "arrowhead": 0,
           "arrowwidth": 1
          },
          "autotypenumbers": "strict",
          "coloraxis": {
           "colorbar": {
            "outlinewidth": 0,
            "ticks": ""
           }
          },
          "colorscale": {
           "diverging": [
            [
             0,
             "#8e0152"
            ],
            [
             0.1,
             "#c51b7d"
            ],
            [
             0.2,
             "#de77ae"
            ],
            [
             0.3,
             "#f1b6da"
            ],
            [
             0.4,
             "#fde0ef"
            ],
            [
             0.5,
             "#f7f7f7"
            ],
            [
             0.6,
             "#e6f5d0"
            ],
            [
             0.7,
             "#b8e186"
            ],
            [
             0.8,
             "#7fbc41"
            ],
            [
             0.9,
             "#4d9221"
            ],
            [
             1,
             "#276419"
            ]
           ],
           "sequential": [
            [
             0,
             "#0d0887"
            ],
            [
             0.1111111111111111,
             "#46039f"
            ],
            [
             0.2222222222222222,
             "#7201a8"
            ],
            [
             0.3333333333333333,
             "#9c179e"
            ],
            [
             0.4444444444444444,
             "#bd3786"
            ],
            [
             0.5555555555555556,
             "#d8576b"
            ],
            [
             0.6666666666666666,
             "#ed7953"
            ],
            [
             0.7777777777777778,
             "#fb9f3a"
            ],
            [
             0.8888888888888888,
             "#fdca26"
            ],
            [
             1,
             "#f0f921"
            ]
           ],
           "sequentialminus": [
            [
             0,
             "#0d0887"
            ],
            [
             0.1111111111111111,
             "#46039f"
            ],
            [
             0.2222222222222222,
             "#7201a8"
            ],
            [
             0.3333333333333333,
             "#9c179e"
            ],
            [
             0.4444444444444444,
             "#bd3786"
            ],
            [
             0.5555555555555556,
             "#d8576b"
            ],
            [
             0.6666666666666666,
             "#ed7953"
            ],
            [
             0.7777777777777778,
             "#fb9f3a"
            ],
            [
             0.8888888888888888,
             "#fdca26"
            ],
            [
             1,
             "#f0f921"
            ]
           ]
          },
          "colorway": [
           "#636efa",
           "#EF553B",
           "#00cc96",
           "#ab63fa",
           "#FFA15A",
           "#19d3f3",
           "#FF6692",
           "#B6E880",
           "#FF97FF",
           "#FECB52"
          ],
          "font": {
           "color": "#2a3f5f"
          },
          "geo": {
           "bgcolor": "white",
           "lakecolor": "white",
           "landcolor": "#E5ECF6",
           "showlakes": true,
           "showland": true,
           "subunitcolor": "white"
          },
          "hoverlabel": {
           "align": "left"
          },
          "hovermode": "closest",
          "mapbox": {
           "style": "light"
          },
          "paper_bgcolor": "white",
          "plot_bgcolor": "#E5ECF6",
          "polar": {
           "angularaxis": {
            "gridcolor": "white",
            "linecolor": "white",
            "ticks": ""
           },
           "bgcolor": "#E5ECF6",
           "radialaxis": {
            "gridcolor": "white",
            "linecolor": "white",
            "ticks": ""
           }
          },
          "scene": {
           "xaxis": {
            "backgroundcolor": "#E5ECF6",
            "gridcolor": "white",
            "gridwidth": 2,
            "linecolor": "white",
            "showbackground": true,
            "ticks": "",
            "zerolinecolor": "white"
           },
           "yaxis": {
            "backgroundcolor": "#E5ECF6",
            "gridcolor": "white",
            "gridwidth": 2,
            "linecolor": "white",
            "showbackground": true,
            "ticks": "",
            "zerolinecolor": "white"
           },
           "zaxis": {
            "backgroundcolor": "#E5ECF6",
            "gridcolor": "white",
            "gridwidth": 2,
            "linecolor": "white",
            "showbackground": true,
            "ticks": "",
            "zerolinecolor": "white"
           }
          },
          "shapedefaults": {
           "line": {
            "color": "#2a3f5f"
           }
          },
          "ternary": {
           "aaxis": {
            "gridcolor": "white",
            "linecolor": "white",
            "ticks": ""
           },
           "baxis": {
            "gridcolor": "white",
            "linecolor": "white",
            "ticks": ""
           },
           "bgcolor": "#E5ECF6",
           "caxis": {
            "gridcolor": "white",
            "linecolor": "white",
            "ticks": ""
           }
          },
          "title": {
           "x": 0.05
          },
          "xaxis": {
           "automargin": true,
           "gridcolor": "white",
           "linecolor": "white",
           "ticks": "",
           "title": {
            "standoff": 15
           },
           "zerolinecolor": "white",
           "zerolinewidth": 2
          },
          "yaxis": {
           "automargin": true,
           "gridcolor": "white",
           "linecolor": "white",
           "ticks": "",
           "title": {
            "standoff": 15
           },
           "zerolinecolor": "white",
           "zerolinewidth": 2
          }
         }
        },
        "title": {
         "text": "ENCODE: Core7 High Confidence Predictions per Assay (minPred_Score=0.6)"
        },
        "xaxis": {
         "title": {
          "text": "Classification task"
         }
        },
        "yaxis": {
         "title": {
          "text": "Accuracy"
         }
        }
       }
      }
     },
     "metadata": {},
     "output_type": "display_data"
    }
   ],
   "source": [
    "fig = go.Figure()\n",
    "\n",
    "for task in tasks:\n",
    "    known_labels = accepted_labels_dict[task]\n",
    "    sub_df = encode_core_df[encode_core_df[f\"True class ({task})\"].isin(known_labels)]\n",
    "    print(f\"ENCODE: {task}, {sub_df.shape[0]} total files with known labels (core7)\")\n",
    "\n",
    "    sub_df = sub_df[sub_df[f\"Max pred ({task})\"] >= 0.6]\n",
    "    high_conf_N = sub_df.shape[0]\n",
    "    print(\n",
    "        f\"ENCODE: {task}, {sub_df.shape[0]} total files with known labels and high confidence predictions (core7)\"\n",
    "    )\n",
    "\n",
    "    sub_df[\"match\"] = (\n",
    "        sub_df[f\"Predicted class ({task})\"] == sub_df[f\"True class ({task})\"]\n",
    "    )\n",
    "    assay_groupby = sub_df.groupby(ASSAY).agg({\"match\": [\"mean\", \"sum\", \"size\"]})\n",
    "\n",
    "    # print(assay_groupby)\n",
    "\n",
    "    hovertext = [\n",
    "        f\"{assay}: {vals[0]:.2%} ({int(vals[1])}/{int(vals[2])})\"\n",
    "        for assay, vals in zip(assay_groupby.index, assay_groupby.values)\n",
    "    ]\n",
    "\n",
    "    fig.add_trace(\n",
    "        go.Box(\n",
    "            y=assay_groupby[\"match\"][\"mean\"],\n",
    "            name=f\"{task} (N={high_conf_N})\",\n",
    "            boxpoints=\"all\",\n",
    "            boxmean=True,\n",
    "            line=dict(color=\"black\", width=1.5),\n",
    "            marker=dict(size=3, color=\"black\"),\n",
    "            hovertemplate=\"%{text}\",\n",
    "            text=hovertext,\n",
    "        )\n",
    "    )\n",
    "\n",
    "fig.update_layout(\n",
    "    title=\"ENCODE: Core7 High Confidence Predictions per Assay (minPred_Score=0.6)\",\n",
    "    xaxis_title=\"Classification task\",\n",
    "    yaxis_title=\"Accuracy\",\n",
    "    showlegend=True,\n",
    "    height=600,\n",
    ")\n",
    "\n",
    "fig.show()"
   ]
  },
  {
   "cell_type": "markdown",
   "metadata": {},
   "source": [
    "### Fig 3F - ENCODE non-core predictions with assay category mapping"
   ]
  },
  {
   "cell_type": "code",
   "execution_count": 33,
   "metadata": {},
   "outputs": [],
   "source": [
    "encode_meta_dir = base_data_dir / \"metadata\" / \"encode\"\n",
    "non_core_categories_path = (\n",
    "    encode_meta_dir / \"non-core_encode_assay_category_2024-08-29.csv\"\n",
    ")\n",
    "\n",
    "non_core_categories_df = pd.read_csv(non_core_categories_path, sep=\",\", low_memory=False)\n",
    "non_core_map = non_core_categories_df.set_index(\"target\").to_dict()[\"Assay category\"]\n",
    "del non_core_categories_df"
   ]
  },
  {
   "cell_type": "code",
   "execution_count": 34,
   "metadata": {},
   "outputs": [
    {
     "name": "stderr",
     "output_type": "stream",
     "text": [
      "/tmp/ipykernel_34263/2626750096.py:9: PerformanceWarning:\n",
      "\n",
      "DataFrame is highly fragmented.  This is usually the result of calling `frame.insert` many times, which has poor performance.  Consider joining all columns at once using pd.concat(axis=1) instead. To get a de-fragmented frame, use `newframe = frame.copy()`\n",
      "\n"
     ]
    }
   ],
   "source": [
    "encode_non_core_df = encode_preds_df[~encode_preds_df[ASSAY].isin(CORE_ASSAYS)].copy()\n",
    "\n",
    "# Get real assay names\n",
    "assert encode_non_core_df[\"Assay_x\"].eq(encode_non_core_df[\"Assay_y\"]).all()\n",
    "encode_non_core_df.loc[:, \"Assay\"] = encode_non_core_df[\"Assay_x\"]\n",
    "del encode_non_core_df[\"Assay_x\"], encode_non_core_df[\"Assay_y\"]\n",
    "\n",
    "# Map assays to categories\n",
    "encode_non_core_df[\"assay_category\"] = (\n",
    "    encode_non_core_df[\"Assay\"].str.lower().replace(non_core_map)\n",
    ")"
   ]
  },
  {
   "cell_type": "code",
   "execution_count": 35,
   "metadata": {},
   "outputs": [
    {
     "data": {
      "application/vnd.plotly.v1+json": {
       "config": {
        "plotlyServerURL": "https://plot.ly"
       },
       "data": [
        {
         "alignmentgroup": "True",
         "hovertemplate": "Predicted class (assay_epiclass)=h3k27ac<br>Assay Category=%{x}<br>Percentage (%)=%{y}<extra></extra>",
         "legendgroup": "h3k27ac",
         "marker": {
          "color": "rgb(225,148,37)",
          "pattern": {
           "shape": ""
          }
         },
         "name": "h3k27ac",
         "offsetgroup": "h3k27ac",
         "orientation": "v",
         "showlegend": true,
         "textposition": "auto",
         "type": "bar",
         "x": [
          "trx_reg",
          "splicing",
          "polycomb",
          "other/mixed",
          "not_looked",
          "insulator",
          "heterochrom"
         ],
         "xaxis": "x",
         "y": [
          38.86088709677419,
          7.6923076923076925,
          2.127659574468085,
          26.38888888888889,
          31.961077844311376,
          1.9011406844106464,
          2.380952380952381
         ],
         "yaxis": "y"
        },
        {
         "alignmentgroup": "True",
         "hovertemplate": "Predicted class (assay_epiclass)=h3k4me3<br>Assay Category=%{x}<br>Percentage (%)=%{y}<extra></extra>",
         "legendgroup": "h3k4me3",
         "marker": {
          "color": "rgb(238,30,37)",
          "pattern": {
           "shape": ""
          }
         },
         "name": "h3k4me3",
         "offsetgroup": "h3k4me3",
         "orientation": "v",
         "showlegend": true,
         "textposition": "auto",
         "type": "bar",
         "x": [
          "trx_reg",
          "polycomb",
          "other/mixed",
          "not_looked",
          "insulator",
          "heterochrom"
         ],
         "xaxis": "x",
         "y": [
          32.006048387096776,
          11.702127659574469,
          33.33333333333333,
          27.694610778443113,
          19.581749049429657,
          4.761904761904762
         ],
         "yaxis": "y"
        },
        {
         "alignmentgroup": "True",
         "hovertemplate": "Predicted class (assay_epiclass)=h3k4me1<br>Assay Category=%{x}<br>Percentage (%)=%{y}<extra></extra>",
         "legendgroup": "h3k4me1",
         "marker": {
          "color": "rgb(236,232,56)",
          "pattern": {
           "shape": ""
          }
         },
         "name": "h3k4me1",
         "offsetgroup": "h3k4me1",
         "orientation": "v",
         "showlegend": true,
         "textposition": "auto",
         "type": "bar",
         "x": [
          "trx_reg",
          "other/mixed",
          "not_looked"
         ],
         "xaxis": "x",
         "y": [
          12.14717741935484,
          9.722222222222223,
          5.763473053892216
         ],
         "yaxis": "y"
        },
        {
         "alignmentgroup": "True",
         "hovertemplate": "Predicted class (assay_epiclass)=h3k9me3<br>Assay Category=%{x}<br>Percentage (%)=%{y}<extra></extra>",
         "legendgroup": "h3k9me3",
         "marker": {
          "color": "rgb(144,206,219)",
          "pattern": {
           "shape": ""
          }
         },
         "name": "h3k9me3",
         "offsetgroup": "h3k9me3",
         "orientation": "v",
         "showlegend": true,
         "textposition": "auto",
         "type": "bar",
         "x": [
          "trx_reg",
          "other/mixed",
          "not_looked",
          "heterochrom"
         ],
         "xaxis": "x",
         "y": [
          1.0584677419354838,
          4.166666666666666,
          1.0479041916167664,
          61.904761904761905
         ],
         "yaxis": "y"
        },
        {
         "alignmentgroup": "True",
         "hovertemplate": "Predicted class (assay_epiclass)=h3k27me3<br>Assay Category=%{x}<br>Percentage (%)=%{y}<extra></extra>",
         "legendgroup": "h3k27me3",
         "marker": {
          "color": "rgb(184,185,189)",
          "pattern": {
           "shape": ""
          }
         },
         "name": "h3k27me3",
         "offsetgroup": "h3k27me3",
         "orientation": "v",
         "showlegend": true,
         "textposition": "auto",
         "type": "bar",
         "x": [
          "trx_reg",
          "polycomb",
          "not_looked",
          "insulator"
         ],
         "xaxis": "x",
         "y": [
          0.5544354838709677,
          82.97872340425532,
          1.721556886227545,
          4.182509505703422
         ],
         "yaxis": "y"
        },
        {
         "alignmentgroup": "True",
         "hovertemplate": "Predicted class (assay_epiclass)=h3k36me3<br>Assay Category=%{x}<br>Percentage (%)=%{y}<extra></extra>",
         "legendgroup": "h3k36me3",
         "marker": {
          "color": "rgb(13,127,66)",
          "pattern": {
           "shape": ""
          }
         },
         "name": "h3k36me3",
         "offsetgroup": "h3k36me3",
         "orientation": "v",
         "showlegend": true,
         "textposition": "auto",
         "type": "bar",
         "x": [
          "trx_reg",
          "splicing",
          "other/mixed",
          "not_looked",
          "heterochrom"
         ],
         "xaxis": "x",
         "y": [
          0.45362903225806456,
          69.23076923076923,
          1.3888888888888888,
          0.4491017964071856,
          2.380952380952381
         ],
         "yaxis": "y"
        },
        {
         "alignmentgroup": "True",
         "hovertemplate": "Predicted class (assay_epiclass)=input<br>Assay Category=%{x}<br>Percentage (%)=%{y}<extra></extra>",
         "legendgroup": "input",
         "marker": {
          "color": "rgb(30,30,30)",
          "pattern": {
           "shape": ""
          }
         },
         "name": "input",
         "offsetgroup": "input",
         "orientation": "v",
         "showlegend": true,
         "textposition": "auto",
         "type": "bar",
         "x": [
          "trx_reg",
          "splicing",
          "polycomb",
          "other/mixed",
          "not_looked",
          "insulator",
          "heterochrom"
         ],
         "xaxis": "x",
         "y": [
          14.919354838709678,
          23.076923076923077,
          3.1914893617021276,
          25,
          31.362275449101794,
          74.33460076045627,
          28.57142857142857
         ],
         "yaxis": "y"
        }
       ],
       "layout": {
        "barmode": "stack",
        "legend": {
         "title": {
          "text": "Predicted class (assay_epiclass)"
         },
         "tracegroupgap": 0
        },
        "template": {
         "data": {
          "bar": [
           {
            "error_x": {
             "color": "#2a3f5f"
            },
            "error_y": {
             "color": "#2a3f5f"
            },
            "marker": {
             "line": {
              "color": "#E5ECF6",
              "width": 0.5
             },
             "pattern": {
              "fillmode": "overlay",
              "size": 10,
              "solidity": 0.2
             }
            },
            "type": "bar"
           }
          ],
          "barpolar": [
           {
            "marker": {
             "line": {
              "color": "#E5ECF6",
              "width": 0.5
             },
             "pattern": {
              "fillmode": "overlay",
              "size": 10,
              "solidity": 0.2
             }
            },
            "type": "barpolar"
           }
          ],
          "carpet": [
           {
            "aaxis": {
             "endlinecolor": "#2a3f5f",
             "gridcolor": "white",
             "linecolor": "white",
             "minorgridcolor": "white",
             "startlinecolor": "#2a3f5f"
            },
            "baxis": {
             "endlinecolor": "#2a3f5f",
             "gridcolor": "white",
             "linecolor": "white",
             "minorgridcolor": "white",
             "startlinecolor": "#2a3f5f"
            },
            "type": "carpet"
           }
          ],
          "choropleth": [
           {
            "colorbar": {
             "outlinewidth": 0,
             "ticks": ""
            },
            "type": "choropleth"
           }
          ],
          "contour": [
           {
            "colorbar": {
             "outlinewidth": 0,
             "ticks": ""
            },
            "colorscale": [
             [
              0,
              "#0d0887"
             ],
             [
              0.1111111111111111,
              "#46039f"
             ],
             [
              0.2222222222222222,
              "#7201a8"
             ],
             [
              0.3333333333333333,
              "#9c179e"
             ],
             [
              0.4444444444444444,
              "#bd3786"
             ],
             [
              0.5555555555555556,
              "#d8576b"
             ],
             [
              0.6666666666666666,
              "#ed7953"
             ],
             [
              0.7777777777777778,
              "#fb9f3a"
             ],
             [
              0.8888888888888888,
              "#fdca26"
             ],
             [
              1,
              "#f0f921"
             ]
            ],
            "type": "contour"
           }
          ],
          "contourcarpet": [
           {
            "colorbar": {
             "outlinewidth": 0,
             "ticks": ""
            },
            "type": "contourcarpet"
           }
          ],
          "heatmap": [
           {
            "colorbar": {
             "outlinewidth": 0,
             "ticks": ""
            },
            "colorscale": [
             [
              0,
              "#0d0887"
             ],
             [
              0.1111111111111111,
              "#46039f"
             ],
             [
              0.2222222222222222,
              "#7201a8"
             ],
             [
              0.3333333333333333,
              "#9c179e"
             ],
             [
              0.4444444444444444,
              "#bd3786"
             ],
             [
              0.5555555555555556,
              "#d8576b"
             ],
             [
              0.6666666666666666,
              "#ed7953"
             ],
             [
              0.7777777777777778,
              "#fb9f3a"
             ],
             [
              0.8888888888888888,
              "#fdca26"
             ],
             [
              1,
              "#f0f921"
             ]
            ],
            "type": "heatmap"
           }
          ],
          "heatmapgl": [
           {
            "colorbar": {
             "outlinewidth": 0,
             "ticks": ""
            },
            "colorscale": [
             [
              0,
              "#0d0887"
             ],
             [
              0.1111111111111111,
              "#46039f"
             ],
             [
              0.2222222222222222,
              "#7201a8"
             ],
             [
              0.3333333333333333,
              "#9c179e"
             ],
             [
              0.4444444444444444,
              "#bd3786"
             ],
             [
              0.5555555555555556,
              "#d8576b"
             ],
             [
              0.6666666666666666,
              "#ed7953"
             ],
             [
              0.7777777777777778,
              "#fb9f3a"
             ],
             [
              0.8888888888888888,
              "#fdca26"
             ],
             [
              1,
              "#f0f921"
             ]
            ],
            "type": "heatmapgl"
           }
          ],
          "histogram": [
           {
            "marker": {
             "pattern": {
              "fillmode": "overlay",
              "size": 10,
              "solidity": 0.2
             }
            },
            "type": "histogram"
           }
          ],
          "histogram2d": [
           {
            "colorbar": {
             "outlinewidth": 0,
             "ticks": ""
            },
            "colorscale": [
             [
              0,
              "#0d0887"
             ],
             [
              0.1111111111111111,
              "#46039f"
             ],
             [
              0.2222222222222222,
              "#7201a8"
             ],
             [
              0.3333333333333333,
              "#9c179e"
             ],
             [
              0.4444444444444444,
              "#bd3786"
             ],
             [
              0.5555555555555556,
              "#d8576b"
             ],
             [
              0.6666666666666666,
              "#ed7953"
             ],
             [
              0.7777777777777778,
              "#fb9f3a"
             ],
             [
              0.8888888888888888,
              "#fdca26"
             ],
             [
              1,
              "#f0f921"
             ]
            ],
            "type": "histogram2d"
           }
          ],
          "histogram2dcontour": [
           {
            "colorbar": {
             "outlinewidth": 0,
             "ticks": ""
            },
            "colorscale": [
             [
              0,
              "#0d0887"
             ],
             [
              0.1111111111111111,
              "#46039f"
             ],
             [
              0.2222222222222222,
              "#7201a8"
             ],
             [
              0.3333333333333333,
              "#9c179e"
             ],
             [
              0.4444444444444444,
              "#bd3786"
             ],
             [
              0.5555555555555556,
              "#d8576b"
             ],
             [
              0.6666666666666666,
              "#ed7953"
             ],
             [
              0.7777777777777778,
              "#fb9f3a"
             ],
             [
              0.8888888888888888,
              "#fdca26"
             ],
             [
              1,
              "#f0f921"
             ]
            ],
            "type": "histogram2dcontour"
           }
          ],
          "mesh3d": [
           {
            "colorbar": {
             "outlinewidth": 0,
             "ticks": ""
            },
            "type": "mesh3d"
           }
          ],
          "parcoords": [
           {
            "line": {
             "colorbar": {
              "outlinewidth": 0,
              "ticks": ""
             }
            },
            "type": "parcoords"
           }
          ],
          "pie": [
           {
            "automargin": true,
            "type": "pie"
           }
          ],
          "scatter": [
           {
            "fillpattern": {
             "fillmode": "overlay",
             "size": 10,
             "solidity": 0.2
            },
            "type": "scatter"
           }
          ],
          "scatter3d": [
           {
            "line": {
             "colorbar": {
              "outlinewidth": 0,
              "ticks": ""
             }
            },
            "marker": {
             "colorbar": {
              "outlinewidth": 0,
              "ticks": ""
             }
            },
            "type": "scatter3d"
           }
          ],
          "scattercarpet": [
           {
            "marker": {
             "colorbar": {
              "outlinewidth": 0,
              "ticks": ""
             }
            },
            "type": "scattercarpet"
           }
          ],
          "scattergeo": [
           {
            "marker": {
             "colorbar": {
              "outlinewidth": 0,
              "ticks": ""
             }
            },
            "type": "scattergeo"
           }
          ],
          "scattergl": [
           {
            "marker": {
             "colorbar": {
              "outlinewidth": 0,
              "ticks": ""
             }
            },
            "type": "scattergl"
           }
          ],
          "scattermapbox": [
           {
            "marker": {
             "colorbar": {
              "outlinewidth": 0,
              "ticks": ""
             }
            },
            "type": "scattermapbox"
           }
          ],
          "scatterpolar": [
           {
            "marker": {
             "colorbar": {
              "outlinewidth": 0,
              "ticks": ""
             }
            },
            "type": "scatterpolar"
           }
          ],
          "scatterpolargl": [
           {
            "marker": {
             "colorbar": {
              "outlinewidth": 0,
              "ticks": ""
             }
            },
            "type": "scatterpolargl"
           }
          ],
          "scatterternary": [
           {
            "marker": {
             "colorbar": {
              "outlinewidth": 0,
              "ticks": ""
             }
            },
            "type": "scatterternary"
           }
          ],
          "surface": [
           {
            "colorbar": {
             "outlinewidth": 0,
             "ticks": ""
            },
            "colorscale": [
             [
              0,
              "#0d0887"
             ],
             [
              0.1111111111111111,
              "#46039f"
             ],
             [
              0.2222222222222222,
              "#7201a8"
             ],
             [
              0.3333333333333333,
              "#9c179e"
             ],
             [
              0.4444444444444444,
              "#bd3786"
             ],
             [
              0.5555555555555556,
              "#d8576b"
             ],
             [
              0.6666666666666666,
              "#ed7953"
             ],
             [
              0.7777777777777778,
              "#fb9f3a"
             ],
             [
              0.8888888888888888,
              "#fdca26"
             ],
             [
              1,
              "#f0f921"
             ]
            ],
            "type": "surface"
           }
          ],
          "table": [
           {
            "cells": {
             "fill": {
              "color": "#EBF0F8"
             },
             "line": {
              "color": "white"
             }
            },
            "header": {
             "fill": {
              "color": "#C8D4E3"
             },
             "line": {
              "color": "white"
             }
            },
            "type": "table"
           }
          ]
         },
         "layout": {
          "annotationdefaults": {
           "arrowcolor": "#2a3f5f",
           "arrowhead": 0,
           "arrowwidth": 1
          },
          "autotypenumbers": "strict",
          "coloraxis": {
           "colorbar": {
            "outlinewidth": 0,
            "ticks": ""
           }
          },
          "colorscale": {
           "diverging": [
            [
             0,
             "#8e0152"
            ],
            [
             0.1,
             "#c51b7d"
            ],
            [
             0.2,
             "#de77ae"
            ],
            [
             0.3,
             "#f1b6da"
            ],
            [
             0.4,
             "#fde0ef"
            ],
            [
             0.5,
             "#f7f7f7"
            ],
            [
             0.6,
             "#e6f5d0"
            ],
            [
             0.7,
             "#b8e186"
            ],
            [
             0.8,
             "#7fbc41"
            ],
            [
             0.9,
             "#4d9221"
            ],
            [
             1,
             "#276419"
            ]
           ],
           "sequential": [
            [
             0,
             "#0d0887"
            ],
            [
             0.1111111111111111,
             "#46039f"
            ],
            [
             0.2222222222222222,
             "#7201a8"
            ],
            [
             0.3333333333333333,
             "#9c179e"
            ],
            [
             0.4444444444444444,
             "#bd3786"
            ],
            [
             0.5555555555555556,
             "#d8576b"
            ],
            [
             0.6666666666666666,
             "#ed7953"
            ],
            [
             0.7777777777777778,
             "#fb9f3a"
            ],
            [
             0.8888888888888888,
             "#fdca26"
            ],
            [
             1,
             "#f0f921"
            ]
           ],
           "sequentialminus": [
            [
             0,
             "#0d0887"
            ],
            [
             0.1111111111111111,
             "#46039f"
            ],
            [
             0.2222222222222222,
             "#7201a8"
            ],
            [
             0.3333333333333333,
             "#9c179e"
            ],
            [
             0.4444444444444444,
             "#bd3786"
            ],
            [
             0.5555555555555556,
             "#d8576b"
            ],
            [
             0.6666666666666666,
             "#ed7953"
            ],
            [
             0.7777777777777778,
             "#fb9f3a"
            ],
            [
             0.8888888888888888,
             "#fdca26"
            ],
            [
             1,
             "#f0f921"
            ]
           ]
          },
          "colorway": [
           "#636efa",
           "#EF553B",
           "#00cc96",
           "#ab63fa",
           "#FFA15A",
           "#19d3f3",
           "#FF6692",
           "#B6E880",
           "#FF97FF",
           "#FECB52"
          ],
          "font": {
           "color": "#2a3f5f"
          },
          "geo": {
           "bgcolor": "white",
           "lakecolor": "white",
           "landcolor": "#E5ECF6",
           "showlakes": true,
           "showland": true,
           "subunitcolor": "white"
          },
          "hoverlabel": {
           "align": "left"
          },
          "hovermode": "closest",
          "mapbox": {
           "style": "light"
          },
          "paper_bgcolor": "white",
          "plot_bgcolor": "#E5ECF6",
          "polar": {
           "angularaxis": {
            "gridcolor": "white",
            "linecolor": "white",
            "ticks": ""
           },
           "bgcolor": "#E5ECF6",
           "radialaxis": {
            "gridcolor": "white",
            "linecolor": "white",
            "ticks": ""
           }
          },
          "scene": {
           "xaxis": {
            "backgroundcolor": "#E5ECF6",
            "gridcolor": "white",
            "gridwidth": 2,
            "linecolor": "white",
            "showbackground": true,
            "ticks": "",
            "zerolinecolor": "white"
           },
           "yaxis": {
            "backgroundcolor": "#E5ECF6",
            "gridcolor": "white",
            "gridwidth": 2,
            "linecolor": "white",
            "showbackground": true,
            "ticks": "",
            "zerolinecolor": "white"
           },
           "zaxis": {
            "backgroundcolor": "#E5ECF6",
            "gridcolor": "white",
            "gridwidth": 2,
            "linecolor": "white",
            "showbackground": true,
            "ticks": "",
            "zerolinecolor": "white"
           }
          },
          "shapedefaults": {
           "line": {
            "color": "#2a3f5f"
           }
          },
          "ternary": {
           "aaxis": {
            "gridcolor": "white",
            "linecolor": "white",
            "ticks": ""
           },
           "baxis": {
            "gridcolor": "white",
            "linecolor": "white",
            "ticks": ""
           },
           "bgcolor": "#E5ECF6",
           "caxis": {
            "gridcolor": "white",
            "linecolor": "white",
            "ticks": ""
           }
          },
          "title": {
           "x": 0.05
          },
          "xaxis": {
           "automargin": true,
           "gridcolor": "white",
           "linecolor": "white",
           "ticks": "",
           "title": {
            "standoff": 15
           },
           "zerolinecolor": "white",
           "zerolinewidth": 2
          },
          "yaxis": {
           "automargin": true,
           "gridcolor": "white",
           "linecolor": "white",
           "ticks": "",
           "title": {
            "standoff": 15
           },
           "zerolinecolor": "white",
           "zerolinewidth": 2
          }
         }
        },
        "title": {
         "text": "core7 predictions for non-core assays, predScore >= 0.00"
        },
        "xaxis": {
         "anchor": "y",
         "categoryarray": [
          "trx_reg",
          "heterochrom",
          "polycomb",
          "splicing",
          "insulator",
          "other/mixed",
          "not_looked"
         ],
         "categoryorder": "array",
         "domain": [
          0,
          1
         ],
         "ticktext": [
          "trx_reg (N=1984)",
          "heterochrom (N=42)",
          "polycomb (N=94)",
          "splicing (N=13)",
          "insulator (N=526)",
          "other/mixed (N=72)",
          "not_looked (N=1336)"
         ],
         "tickvals": [
          "trx_reg",
          "heterochrom",
          "polycomb",
          "splicing",
          "insulator",
          "other/mixed",
          "not_looked"
         ],
         "title": {
          "text": "Assay Category"
         }
        },
        "yaxis": {
         "anchor": "x",
         "domain": [
          0,
          1
         ],
         "title": {
          "text": "Percentage (%)"
         }
        }
       }
      }
     },
     "metadata": {},
     "output_type": "display_data"
    },
    {
     "data": {
      "application/vnd.plotly.v1+json": {
       "config": {
        "plotlyServerURL": "https://plot.ly"
       },
       "data": [
        {
         "alignmentgroup": "True",
         "hovertemplate": "Predicted class (assay_epiclass)=h3k27ac<br>Assay Category=%{x}<br>Percentage (%)=%{y}<extra></extra>",
         "legendgroup": "h3k27ac",
         "marker": {
          "color": "rgb(225,148,37)",
          "pattern": {
           "shape": ""
          }
         },
         "name": "h3k27ac",
         "offsetgroup": "h3k27ac",
         "orientation": "v",
         "showlegend": true,
         "textposition": "auto",
         "type": "bar",
         "x": [
          "trx_reg",
          "splicing",
          "other/mixed",
          "not_looked",
          "insulator",
          "heterochrom"
         ],
         "xaxis": "x",
         "y": [
          39.64646464646464,
          10,
          27.906976744186046,
          33.14669652855543,
          0.9836065573770493,
          2.7027027027027026
         ],
         "yaxis": "y"
        },
        {
         "alignmentgroup": "True",
         "hovertemplate": "Predicted class (assay_epiclass)=h3k4me3<br>Assay Category=%{x}<br>Percentage (%)=%{y}<extra></extra>",
         "legendgroup": "h3k4me3",
         "marker": {
          "color": "rgb(238,30,37)",
          "pattern": {
           "shape": ""
          }
         },
         "name": "h3k4me3",
         "offsetgroup": "h3k4me3",
         "orientation": "v",
         "showlegend": true,
         "textposition": "auto",
         "type": "bar",
         "x": [
          "trx_reg",
          "polycomb",
          "other/mixed",
          "not_looked",
          "insulator",
          "heterochrom"
         ],
         "xaxis": "x",
         "y": [
          34.34343434343434,
          8.536585365853659,
          27.906976744186046,
          27.435610302351627,
          15.081967213114755,
          5.405405405405405
         ],
         "yaxis": "y"
        },
        {
         "alignmentgroup": "True",
         "hovertemplate": "Predicted class (assay_epiclass)=h3k4me1<br>Assay Category=%{x}<br>Percentage (%)=%{y}<extra></extra>",
         "legendgroup": "h3k4me1",
         "marker": {
          "color": "rgb(236,232,56)",
          "pattern": {
           "shape": ""
          }
         },
         "name": "h3k4me1",
         "offsetgroup": "h3k4me1",
         "orientation": "v",
         "showlegend": true,
         "textposition": "auto",
         "type": "bar",
         "x": [
          "trx_reg",
          "other/mixed",
          "not_looked"
         ],
         "xaxis": "x",
         "y": [
          12.31060606060606,
          13.953488372093023,
          5.039193729003359
         ],
         "yaxis": "y"
        },
        {
         "alignmentgroup": "True",
         "hovertemplate": "Predicted class (assay_epiclass)=h3k9me3<br>Assay Category=%{x}<br>Percentage (%)=%{y}<extra></extra>",
         "legendgroup": "h3k9me3",
         "marker": {
          "color": "rgb(144,206,219)",
          "pattern": {
           "shape": ""
          }
         },
         "name": "h3k9me3",
         "offsetgroup": "h3k9me3",
         "orientation": "v",
         "showlegend": true,
         "textposition": "auto",
         "type": "bar",
         "x": [
          "trx_reg",
          "other/mixed",
          "not_looked",
          "heterochrom"
         ],
         "xaxis": "x",
         "y": [
          0.4419191919191919,
          4.651162790697675,
          0.6718924972004479,
          64.86486486486487
         ],
         "yaxis": "y"
        },
        {
         "alignmentgroup": "True",
         "hovertemplate": "Predicted class (assay_epiclass)=h3k27me3<br>Assay Category=%{x}<br>Percentage (%)=%{y}<extra></extra>",
         "legendgroup": "h3k27me3",
         "marker": {
          "color": "rgb(184,185,189)",
          "pattern": {
           "shape": ""
          }
         },
         "name": "h3k27me3",
         "offsetgroup": "h3k27me3",
         "orientation": "v",
         "showlegend": true,
         "textposition": "auto",
         "type": "bar",
         "x": [
          "trx_reg",
          "polycomb",
          "not_looked",
          "insulator"
         ],
         "xaxis": "x",
         "y": [
          0.3787878787878788,
          90.2439024390244,
          1.3437849944008957,
          0.6557377049180327
         ],
         "yaxis": "y"
        },
        {
         "alignmentgroup": "True",
         "hovertemplate": "Predicted class (assay_epiclass)=h3k36me3<br>Assay Category=%{x}<br>Percentage (%)=%{y}<extra></extra>",
         "legendgroup": "h3k36me3",
         "marker": {
          "color": "rgb(13,127,66)",
          "pattern": {
           "shape": ""
          }
         },
         "name": "h3k36me3",
         "offsetgroup": "h3k36me3",
         "orientation": "v",
         "showlegend": true,
         "textposition": "auto",
         "type": "bar",
         "x": [
          "trx_reg",
          "splicing",
          "not_looked"
         ],
         "xaxis": "x",
         "y": [
          0.25252525252525254,
          70,
          0.11198208286674133
         ],
         "yaxis": "y"
        },
        {
         "alignmentgroup": "True",
         "hovertemplate": "Predicted class (assay_epiclass)=input<br>Assay Category=%{x}<br>Percentage (%)=%{y}<extra></extra>",
         "legendgroup": "input",
         "marker": {
          "color": "rgb(30,30,30)",
          "pattern": {
           "shape": ""
          }
         },
         "name": "input",
         "offsetgroup": "input",
         "orientation": "v",
         "showlegend": true,
         "textposition": "auto",
         "type": "bar",
         "x": [
          "trx_reg",
          "splicing",
          "polycomb",
          "other/mixed",
          "not_looked",
          "insulator",
          "heterochrom"
         ],
         "xaxis": "x",
         "y": [
          12.626262626262626,
          20,
          1.2195121951219512,
          25.581395348837212,
          32.2508398656215,
          83.27868852459017,
          27.027027027027028
         ],
         "yaxis": "y"
        }
       ],
       "layout": {
        "barmode": "stack",
        "legend": {
         "title": {
          "text": "Predicted class (assay_epiclass)"
         },
         "tracegroupgap": 0
        },
        "template": {
         "data": {
          "bar": [
           {
            "error_x": {
             "color": "#2a3f5f"
            },
            "error_y": {
             "color": "#2a3f5f"
            },
            "marker": {
             "line": {
              "color": "#E5ECF6",
              "width": 0.5
             },
             "pattern": {
              "fillmode": "overlay",
              "size": 10,
              "solidity": 0.2
             }
            },
            "type": "bar"
           }
          ],
          "barpolar": [
           {
            "marker": {
             "line": {
              "color": "#E5ECF6",
              "width": 0.5
             },
             "pattern": {
              "fillmode": "overlay",
              "size": 10,
              "solidity": 0.2
             }
            },
            "type": "barpolar"
           }
          ],
          "carpet": [
           {
            "aaxis": {
             "endlinecolor": "#2a3f5f",
             "gridcolor": "white",
             "linecolor": "white",
             "minorgridcolor": "white",
             "startlinecolor": "#2a3f5f"
            },
            "baxis": {
             "endlinecolor": "#2a3f5f",
             "gridcolor": "white",
             "linecolor": "white",
             "minorgridcolor": "white",
             "startlinecolor": "#2a3f5f"
            },
            "type": "carpet"
           }
          ],
          "choropleth": [
           {
            "colorbar": {
             "outlinewidth": 0,
             "ticks": ""
            },
            "type": "choropleth"
           }
          ],
          "contour": [
           {
            "colorbar": {
             "outlinewidth": 0,
             "ticks": ""
            },
            "colorscale": [
             [
              0,
              "#0d0887"
             ],
             [
              0.1111111111111111,
              "#46039f"
             ],
             [
              0.2222222222222222,
              "#7201a8"
             ],
             [
              0.3333333333333333,
              "#9c179e"
             ],
             [
              0.4444444444444444,
              "#bd3786"
             ],
             [
              0.5555555555555556,
              "#d8576b"
             ],
             [
              0.6666666666666666,
              "#ed7953"
             ],
             [
              0.7777777777777778,
              "#fb9f3a"
             ],
             [
              0.8888888888888888,
              "#fdca26"
             ],
             [
              1,
              "#f0f921"
             ]
            ],
            "type": "contour"
           }
          ],
          "contourcarpet": [
           {
            "colorbar": {
             "outlinewidth": 0,
             "ticks": ""
            },
            "type": "contourcarpet"
           }
          ],
          "heatmap": [
           {
            "colorbar": {
             "outlinewidth": 0,
             "ticks": ""
            },
            "colorscale": [
             [
              0,
              "#0d0887"
             ],
             [
              0.1111111111111111,
              "#46039f"
             ],
             [
              0.2222222222222222,
              "#7201a8"
             ],
             [
              0.3333333333333333,
              "#9c179e"
             ],
             [
              0.4444444444444444,
              "#bd3786"
             ],
             [
              0.5555555555555556,
              "#d8576b"
             ],
             [
              0.6666666666666666,
              "#ed7953"
             ],
             [
              0.7777777777777778,
              "#fb9f3a"
             ],
             [
              0.8888888888888888,
              "#fdca26"
             ],
             [
              1,
              "#f0f921"
             ]
            ],
            "type": "heatmap"
           }
          ],
          "heatmapgl": [
           {
            "colorbar": {
             "outlinewidth": 0,
             "ticks": ""
            },
            "colorscale": [
             [
              0,
              "#0d0887"
             ],
             [
              0.1111111111111111,
              "#46039f"
             ],
             [
              0.2222222222222222,
              "#7201a8"
             ],
             [
              0.3333333333333333,
              "#9c179e"
             ],
             [
              0.4444444444444444,
              "#bd3786"
             ],
             [
              0.5555555555555556,
              "#d8576b"
             ],
             [
              0.6666666666666666,
              "#ed7953"
             ],
             [
              0.7777777777777778,
              "#fb9f3a"
             ],
             [
              0.8888888888888888,
              "#fdca26"
             ],
             [
              1,
              "#f0f921"
             ]
            ],
            "type": "heatmapgl"
           }
          ],
          "histogram": [
           {
            "marker": {
             "pattern": {
              "fillmode": "overlay",
              "size": 10,
              "solidity": 0.2
             }
            },
            "type": "histogram"
           }
          ],
          "histogram2d": [
           {
            "colorbar": {
             "outlinewidth": 0,
             "ticks": ""
            },
            "colorscale": [
             [
              0,
              "#0d0887"
             ],
             [
              0.1111111111111111,
              "#46039f"
             ],
             [
              0.2222222222222222,
              "#7201a8"
             ],
             [
              0.3333333333333333,
              "#9c179e"
             ],
             [
              0.4444444444444444,
              "#bd3786"
             ],
             [
              0.5555555555555556,
              "#d8576b"
             ],
             [
              0.6666666666666666,
              "#ed7953"
             ],
             [
              0.7777777777777778,
              "#fb9f3a"
             ],
             [
              0.8888888888888888,
              "#fdca26"
             ],
             [
              1,
              "#f0f921"
             ]
            ],
            "type": "histogram2d"
           }
          ],
          "histogram2dcontour": [
           {
            "colorbar": {
             "outlinewidth": 0,
             "ticks": ""
            },
            "colorscale": [
             [
              0,
              "#0d0887"
             ],
             [
              0.1111111111111111,
              "#46039f"
             ],
             [
              0.2222222222222222,
              "#7201a8"
             ],
             [
              0.3333333333333333,
              "#9c179e"
             ],
             [
              0.4444444444444444,
              "#bd3786"
             ],
             [
              0.5555555555555556,
              "#d8576b"
             ],
             [
              0.6666666666666666,
              "#ed7953"
             ],
             [
              0.7777777777777778,
              "#fb9f3a"
             ],
             [
              0.8888888888888888,
              "#fdca26"
             ],
             [
              1,
              "#f0f921"
             ]
            ],
            "type": "histogram2dcontour"
           }
          ],
          "mesh3d": [
           {
            "colorbar": {
             "outlinewidth": 0,
             "ticks": ""
            },
            "type": "mesh3d"
           }
          ],
          "parcoords": [
           {
            "line": {
             "colorbar": {
              "outlinewidth": 0,
              "ticks": ""
             }
            },
            "type": "parcoords"
           }
          ],
          "pie": [
           {
            "automargin": true,
            "type": "pie"
           }
          ],
          "scatter": [
           {
            "fillpattern": {
             "fillmode": "overlay",
             "size": 10,
             "solidity": 0.2
            },
            "type": "scatter"
           }
          ],
          "scatter3d": [
           {
            "line": {
             "colorbar": {
              "outlinewidth": 0,
              "ticks": ""
             }
            },
            "marker": {
             "colorbar": {
              "outlinewidth": 0,
              "ticks": ""
             }
            },
            "type": "scatter3d"
           }
          ],
          "scattercarpet": [
           {
            "marker": {
             "colorbar": {
              "outlinewidth": 0,
              "ticks": ""
             }
            },
            "type": "scattercarpet"
           }
          ],
          "scattergeo": [
           {
            "marker": {
             "colorbar": {
              "outlinewidth": 0,
              "ticks": ""
             }
            },
            "type": "scattergeo"
           }
          ],
          "scattergl": [
           {
            "marker": {
             "colorbar": {
              "outlinewidth": 0,
              "ticks": ""
             }
            },
            "type": "scattergl"
           }
          ],
          "scattermapbox": [
           {
            "marker": {
             "colorbar": {
              "outlinewidth": 0,
              "ticks": ""
             }
            },
            "type": "scattermapbox"
           }
          ],
          "scatterpolar": [
           {
            "marker": {
             "colorbar": {
              "outlinewidth": 0,
              "ticks": ""
             }
            },
            "type": "scatterpolar"
           }
          ],
          "scatterpolargl": [
           {
            "marker": {
             "colorbar": {
              "outlinewidth": 0,
              "ticks": ""
             }
            },
            "type": "scatterpolargl"
           }
          ],
          "scatterternary": [
           {
            "marker": {
             "colorbar": {
              "outlinewidth": 0,
              "ticks": ""
             }
            },
            "type": "scatterternary"
           }
          ],
          "surface": [
           {
            "colorbar": {
             "outlinewidth": 0,
             "ticks": ""
            },
            "colorscale": [
             [
              0,
              "#0d0887"
             ],
             [
              0.1111111111111111,
              "#46039f"
             ],
             [
              0.2222222222222222,
              "#7201a8"
             ],
             [
              0.3333333333333333,
              "#9c179e"
             ],
             [
              0.4444444444444444,
              "#bd3786"
             ],
             [
              0.5555555555555556,
              "#d8576b"
             ],
             [
              0.6666666666666666,
              "#ed7953"
             ],
             [
              0.7777777777777778,
              "#fb9f3a"
             ],
             [
              0.8888888888888888,
              "#fdca26"
             ],
             [
              1,
              "#f0f921"
             ]
            ],
            "type": "surface"
           }
          ],
          "table": [
           {
            "cells": {
             "fill": {
              "color": "#EBF0F8"
             },
             "line": {
              "color": "white"
             }
            },
            "header": {
             "fill": {
              "color": "#C8D4E3"
             },
             "line": {
              "color": "white"
             }
            },
            "type": "table"
           }
          ]
         },
         "layout": {
          "annotationdefaults": {
           "arrowcolor": "#2a3f5f",
           "arrowhead": 0,
           "arrowwidth": 1
          },
          "autotypenumbers": "strict",
          "coloraxis": {
           "colorbar": {
            "outlinewidth": 0,
            "ticks": ""
           }
          },
          "colorscale": {
           "diverging": [
            [
             0,
             "#8e0152"
            ],
            [
             0.1,
             "#c51b7d"
            ],
            [
             0.2,
             "#de77ae"
            ],
            [
             0.3,
             "#f1b6da"
            ],
            [
             0.4,
             "#fde0ef"
            ],
            [
             0.5,
             "#f7f7f7"
            ],
            [
             0.6,
             "#e6f5d0"
            ],
            [
             0.7,
             "#b8e186"
            ],
            [
             0.8,
             "#7fbc41"
            ],
            [
             0.9,
             "#4d9221"
            ],
            [
             1,
             "#276419"
            ]
           ],
           "sequential": [
            [
             0,
             "#0d0887"
            ],
            [
             0.1111111111111111,
             "#46039f"
            ],
            [
             0.2222222222222222,
             "#7201a8"
            ],
            [
             0.3333333333333333,
             "#9c179e"
            ],
            [
             0.4444444444444444,
             "#bd3786"
            ],
            [
             0.5555555555555556,
             "#d8576b"
            ],
            [
             0.6666666666666666,
             "#ed7953"
            ],
            [
             0.7777777777777778,
             "#fb9f3a"
            ],
            [
             0.8888888888888888,
             "#fdca26"
            ],
            [
             1,
             "#f0f921"
            ]
           ],
           "sequentialminus": [
            [
             0,
             "#0d0887"
            ],
            [
             0.1111111111111111,
             "#46039f"
            ],
            [
             0.2222222222222222,
             "#7201a8"
            ],
            [
             0.3333333333333333,
             "#9c179e"
            ],
            [
             0.4444444444444444,
             "#bd3786"
            ],
            [
             0.5555555555555556,
             "#d8576b"
            ],
            [
             0.6666666666666666,
             "#ed7953"
            ],
            [
             0.7777777777777778,
             "#fb9f3a"
            ],
            [
             0.8888888888888888,
             "#fdca26"
            ],
            [
             1,
             "#f0f921"
            ]
           ]
          },
          "colorway": [
           "#636efa",
           "#EF553B",
           "#00cc96",
           "#ab63fa",
           "#FFA15A",
           "#19d3f3",
           "#FF6692",
           "#B6E880",
           "#FF97FF",
           "#FECB52"
          ],
          "font": {
           "color": "#2a3f5f"
          },
          "geo": {
           "bgcolor": "white",
           "lakecolor": "white",
           "landcolor": "#E5ECF6",
           "showlakes": true,
           "showland": true,
           "subunitcolor": "white"
          },
          "hoverlabel": {
           "align": "left"
          },
          "hovermode": "closest",
          "mapbox": {
           "style": "light"
          },
          "paper_bgcolor": "white",
          "plot_bgcolor": "#E5ECF6",
          "polar": {
           "angularaxis": {
            "gridcolor": "white",
            "linecolor": "white",
            "ticks": ""
           },
           "bgcolor": "#E5ECF6",
           "radialaxis": {
            "gridcolor": "white",
            "linecolor": "white",
            "ticks": ""
           }
          },
          "scene": {
           "xaxis": {
            "backgroundcolor": "#E5ECF6",
            "gridcolor": "white",
            "gridwidth": 2,
            "linecolor": "white",
            "showbackground": true,
            "ticks": "",
            "zerolinecolor": "white"
           },
           "yaxis": {
            "backgroundcolor": "#E5ECF6",
            "gridcolor": "white",
            "gridwidth": 2,
            "linecolor": "white",
            "showbackground": true,
            "ticks": "",
            "zerolinecolor": "white"
           },
           "zaxis": {
            "backgroundcolor": "#E5ECF6",
            "gridcolor": "white",
            "gridwidth": 2,
            "linecolor": "white",
            "showbackground": true,
            "ticks": "",
            "zerolinecolor": "white"
           }
          },
          "shapedefaults": {
           "line": {
            "color": "#2a3f5f"
           }
          },
          "ternary": {
           "aaxis": {
            "gridcolor": "white",
            "linecolor": "white",
            "ticks": ""
           },
           "baxis": {
            "gridcolor": "white",
            "linecolor": "white",
            "ticks": ""
           },
           "bgcolor": "#E5ECF6",
           "caxis": {
            "gridcolor": "white",
            "linecolor": "white",
            "ticks": ""
           }
          },
          "title": {
           "x": 0.05
          },
          "xaxis": {
           "automargin": true,
           "gridcolor": "white",
           "linecolor": "white",
           "ticks": "",
           "title": {
            "standoff": 15
           },
           "zerolinecolor": "white",
           "zerolinewidth": 2
          },
          "yaxis": {
           "automargin": true,
           "gridcolor": "white",
           "linecolor": "white",
           "ticks": "",
           "title": {
            "standoff": 15
           },
           "zerolinecolor": "white",
           "zerolinewidth": 2
          }
         }
        },
        "title": {
         "text": "core7 predictions for non-core assays, predScore >= 0.60"
        },
        "xaxis": {
         "anchor": "y",
         "categoryarray": [
          "trx_reg",
          "heterochrom",
          "polycomb",
          "splicing",
          "insulator",
          "other/mixed",
          "not_looked"
         ],
         "categoryorder": "array",
         "domain": [
          0,
          1
         ],
         "ticktext": [
          "trx_reg (N=1584)",
          "heterochrom (N=37)",
          "polycomb (N=82)",
          "splicing (N=10)",
          "insulator (N=305)",
          "other/mixed (N=43)",
          "not_looked (N=893)"
         ],
         "tickvals": [
          "trx_reg",
          "heterochrom",
          "polycomb",
          "splicing",
          "insulator",
          "other/mixed",
          "not_looked"
         ],
         "title": {
          "text": "Assay Category"
         }
        },
        "yaxis": {
         "anchor": "x",
         "domain": [
          0,
          1
         ],
         "title": {
          "text": "Percentage (%)"
         }
        }
       }
      }
     },
     "metadata": {},
     "output_type": "display_data"
    }
   ],
   "source": [
    "assay_categories_order = [\n",
    "    \"trx_reg\",\n",
    "    \"heterochrom\",\n",
    "    \"polycomb\",\n",
    "    \"splicing\",\n",
    "    \"insulator\",\n",
    "    \"other/mixed\",\n",
    "    \"not_looked\",\n",
    "]\n",
    "\n",
    "assay_epiclass_order = [\n",
    "    \"h3k27ac\",\n",
    "    \"h3k4me3\",\n",
    "    \"h3k4me1\",\n",
    "    \"h3k9me3\",\n",
    "    \"h3k27me3\",\n",
    "    \"h3k36me3\",\n",
    "    \"input\",\n",
    "]\n",
    "assay_epiclass_order = {assay: i for i, assay in enumerate(assay_epiclass_order)}\n",
    "pred_col = f\"Predicted class ({ASSAY})\"\n",
    "\n",
    "\n",
    "for min_pred in [0, 0.6]:\n",
    "    sub_df = encode_non_core_df[encode_non_core_df[f\"Max pred ({ASSAY})\"] >= min_pred]\n",
    "    groupby = (\n",
    "        sub_df.groupby([\"assay_category\", pred_col])\n",
    "        .size()\n",
    "        .reset_index(name=\"Count\")\n",
    "        .sort_values([\"assay_category\", \"Count\"], ascending=[True, False])\n",
    "    )\n",
    "    groupby[\"Percentage\"] = groupby.groupby(\"assay_category\")[\"Count\"].transform(\n",
    "        lambda x: (x / x.sum()) * 100\n",
    "    )\n",
    "\n",
    "    # Add order for plotting\n",
    "    groupby[\"assay_order\"] = groupby[pred_col].map(assay_epiclass_order)\n",
    "    groupby = groupby.sort_values(\n",
    "        [\"assay_category\", \"assay_order\"], ascending=[False, True]\n",
    "    )\n",
    "\n",
    "    # Main plot\n",
    "    fig = px.bar(\n",
    "        groupby,\n",
    "        x=\"assay_category\",\n",
    "        y=\"Percentage\",\n",
    "        color=pred_col,\n",
    "        barmode=\"stack\",\n",
    "        category_orders={\"assay_category\": assay_categories_order},\n",
    "        color_discrete_map=assay_colors,\n",
    "        title=f\"core7 predictions for non-core assays, predScore >= {min_pred:.2f}\",\n",
    "        labels={\"Percentage\": \"Percentage (%)\", \"assay_category\": \"Assay Category\"},\n",
    "    )\n",
    "\n",
    "    # Modify x-axis labels\n",
    "    total_counts = groupby.groupby(\"assay_category\")[\"Count\"].sum()\n",
    "    ticktext = [\n",
    "        f\"{assay_category} (N={total_counts[assay_category]})\"\n",
    "        for assay_category in assay_categories_order\n",
    "    ]\n",
    "    fig.update_xaxes(tickvals=assay_categories_order, ticktext=ticktext)\n",
    "\n",
    "    # figname = f\"histogram_encode_non-core_assay_epiclass_minPred{min_pred:.2f}\"\n",
    "    fig.show()"
   ]
  },
  {
   "cell_type": "markdown",
   "metadata": {},
   "source": [
    "## Supp Fig 5A - UpsetPlot of assay labels provided in 4 DBs"
   ]
  },
  {
   "cell_type": "code",
   "execution_count": 36,
   "metadata": {},
   "outputs": [
    {
     "name": "stdout",
     "output_type": "stream",
     "text": [
      "core7_DBs_consensus\n",
      "manual_target_consensus\n"
     ]
    }
   ],
   "source": [
    "for col in ca_core7_df.columns:\n",
    "    if \"consensus\" in col:\n",
    "        print(col)"
   ]
  },
  {
   "cell_type": "code",
   "execution_count": 37,
   "metadata": {},
   "outputs": [],
   "source": [
    "consensus_col = \"core7_DBs_consensus\""
   ]
  },
  {
   "cell_type": "code",
   "execution_count": 38,
   "metadata": {},
   "outputs": [],
   "source": [
    "def create_4DB_consensus_description(ca_core_df: pd.DataFrame) -> pd.Series:\n",
    "    \"\"\"Create a description of the 4DB assay consensus labels.\n",
    "\n",
    "    Treat \"Unclassified\" from Chip-Atlas as absent samples for the target consensus evaluation.\n",
    "\n",
    "    The consensus description is based on the following rules:\n",
    "    - \"Identical\" if all labels are the same\n",
    "    - \"Different\" if at least one label is different\n",
    "    - \"1 source\" if only one DB has a label\n",
    "    - \"Ignored - Potential non-core\" if any label is not in the core assays\n",
    "\n",
    "    Args:\n",
    "        ca_core_df: ChIP-Atlas core7 DataFrame\n",
    "\n",
    "    Returns:\n",
    "        Series with the target consensus description\n",
    "    \"\"\"\n",
    "    id_db_target = []\n",
    "    tmp_df = ca_core_df.loc[:, DB_COLS].copy()\n",
    "    tmp_df[\"C-A\"].replace(\"unclassified\", \"----\", inplace=True)\n",
    "\n",
    "    for labels in tmp_df.values:\n",
    "        missing_N = sum(label == \"----\" for label in labels)\n",
    "        db_labels = set(labels)\n",
    "\n",
    "        try:\n",
    "            db_labels.remove(\"----\")\n",
    "        except KeyError:\n",
    "            pass\n",
    "        if any(label not in CORE_ASSAYS + [\"ctrl\"] for label in db_labels):\n",
    "            id_db_target.append(\"Ignored - Potential non-core\")\n",
    "        elif missing_N == 3:\n",
    "            id_db_target.append(\"1 source\")\n",
    "        elif len(db_labels) == 1:\n",
    "            id_db_target.append(\"Identical\")\n",
    "        else:\n",
    "            id_db_target.append(\"Different\")\n",
    "\n",
    "    return pd.Series(id_db_target, index=ca_core_df.index)"
   ]
  },
  {
   "cell_type": "code",
   "execution_count": 39,
   "metadata": {},
   "outputs": [],
   "source": [
    "def make_db_upsetplot(\n",
    "    df: pd.DataFrame, consensus_col: str, db_cols: List[str], title: str\n",
    ") -> upsetplot.UpSet:\n",
    "    \"\"\"Make an upsetplot of the sample presence in the different databases.\"\"\"\n",
    "    df = df.copy()\n",
    "\n",
    "    # Create a new DataFrame with boolean columns for each database\n",
    "    upset_df = pd.DataFrame()\n",
    "    for col in db_cols:\n",
    "        upset_df[col] = df[col] != \"----\"\n",
    "    upset_df[consensus_col] = df[consensus_col]\n",
    "\n",
    "    # Set the index for the UpSet plot\n",
    "    upset_df = upset_df.set_index(db_cols)\n",
    "\n",
    "    # Create the UpSet plot\n",
    "    upset = upsetplot.UpSet(\n",
    "        upset_df,\n",
    "        intersection_plot_elements=0,  # disable the default bar chart\n",
    "        sort_by=\"cardinality\",\n",
    "        show_counts=True,  # type: ignore\n",
    "        orientation=\"horizontal\",\n",
    "    )\n",
    "\n",
    "    # Add stacked bars\n",
    "    upset.add_stacked_bars(by=consensus_col, elements=15)\n",
    "\n",
    "    # Plot and set title\n",
    "    axes = upset.plot()\n",
    "    plt.suptitle(title)\n",
    "    axes[\"totals\"].set_title(\"Total\")\n",
    "    plt.legend(loc=\"center left\")\n",
    "    return upset"
   ]
  },
  {
   "cell_type": "code",
   "execution_count": 40,
   "metadata": {},
   "outputs": [
    {
     "data": {
      "image/png": "[encoded data removed]",
      "text/plain": [
       "<Figure size 400x844.444 with 4 Axes>"
      ]
     },
     "metadata": {},
     "output_type": "display_data"
    }
   ],
   "source": [
    "title = \"ChIP-Atlas core 7 samples presence in used DBs\\nTarget Consensus - No EpiAtlas overlap\"\n",
    "upset = make_db_upsetplot(\n",
    "    df=ca_core7_df, consensus_col=consensus_col, db_cols=DB_COLS, title=title\n",
    ")\n",
    "plt.show()"
   ]
  },
  {
   "cell_type": "code",
   "execution_count": 41,
   "metadata": {},
   "outputs": [
    {
     "data": {
      "image/png": "[encoded data removed]",
      "text/plain": [
       "<Figure size 400x844.444 with 4 Axes>"
      ]
     },
     "metadata": {},
     "output_type": "display_data"
    }
   ],
   "source": [
    "title = \"ChIP-Atlas core 7 samples presence in used DBs\\nTarget Consensus - No EpiAtlas overlap\"\n",
    "new_df = ca_core7_df.copy()\n",
    "new_df[consensus_col].replace(\"Ignored - Potential non-core\", \"Different\", inplace=True)\n",
    "upset = make_db_upsetplot(\n",
    "    df=new_df, consensus_col=consensus_col, db_cols=DB_COLS, title=title\n",
    ")\n",
    "\n",
    "# fig_dir = base_fig_dir / \"fig_C-A\" / \"DB_upset\"\n",
    "# plt.savefig(fig_dir / \"upsetplot_DB_core7_samples_noEpiAtlas_merge_different.svg\", bbox_inches=\"tight\")"
   ]
  }
 ],
 "metadata": {
  "kernelspec": {
   "display_name": "epiclass",
   "language": "python",
   "name": "python3"
  },
  "language_info": {
   "codemirror_mode": {
    "name": "ipython",
    "version": 3
   },
   "file_extension": ".py",
   "mimetype": "text/x-python",
   "name": "python",
   "nbconvert_exporter": "python",
   "pygments_lexer": "ipython3",
   "version": "3.8.10"
  }
 },
 "nbformat": 4,
 "nbformat_minor": 2
}

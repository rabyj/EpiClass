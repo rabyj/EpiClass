{
 "cells": [
  {
   "cell_type": "code",
   "execution_count": null,
   "metadata": {},
   "outputs": [],
   "source": [
    "\"\"\"Figure core creation: Fig3\n",
    "\n",
    "Formatting of the figures may not be identical to the paper, but they contain the same data points.\n",
    "\"\"\"\n",
    "# pylint: disable=import-error, redefined-outer-name, use-dict-literal, too-many-lines, too-many-branches, consider-using-f-string, duplicate-code"
   ]
  },
  {
   "cell_type": "code",
   "execution_count": null,
   "metadata": {},
   "outputs": [],
   "source": [
    "%load_ext autoreload\n",
    "%autoreload 2"
   ]
  },
  {
   "cell_type": "markdown",
   "metadata": {},
   "source": [
    "## Setup"
   ]
  },
  {
   "cell_type": "code",
   "execution_count": null,
   "metadata": {},
   "outputs": [],
   "source": [
    "from __future__ import annotations\n",
    "\n",
    "import re\n",
    "from pathlib import Path\n",
    "from typing import Dict, List\n",
    "\n",
    "import matplotlib.pyplot as plt\n",
    "import pandas as pd\n",
    "import plotly.express as px\n",
    "import upsetplot\n",
    "from IPython.display import display\n",
    "\n",
    "from epi_ml.utils.notebooks.paper.paper_utilities import (\n",
    "    ASSAY,\n",
    "    ASSAY_ORDER,\n",
    "    LIFE_STAGE,\n",
    "    SEX,\n",
    "    IHECColorMap,\n",
    "    MetadataHandler,\n",
    "    SplitResultsHandler,\n",
    "    merge_life_stages,\n",
    ")"
   ]
  },
  {
   "cell_type": "code",
   "execution_count": null,
   "metadata": {},
   "outputs": [],
   "source": [
    "CANCER = \"harmonized_sample_cancer_high\"\n",
    "CORE_ASSAYS = ASSAY_ORDER[0:7]"
   ]
  },
  {
   "cell_type": "markdown",
   "metadata": {},
   "source": [
    "### General paths setup"
   ]
  },
  {
   "cell_type": "code",
   "execution_count": null,
   "metadata": {},
   "outputs": [],
   "source": [
    "base_dir = Path.home() / \"Projects/epiclass/output/paper\"\n",
    "paper_dir = base_dir\n",
    "if not paper_dir.exists():\n",
    "    raise FileNotFoundError(f\"Directory {paper_dir} does not exist.\")\n",
    "\n",
    "base_data_dir = base_dir / \"data\"\n",
    "base_fig_dir = base_dir / \"figures\""
   ]
  },
  {
   "cell_type": "code",
   "execution_count": null,
   "metadata": {},
   "outputs": [],
   "source": [
    "IHECColorMap = IHECColorMap(base_fig_dir)\n",
    "assay_colors = IHECColorMap.assay_color_map\n",
    "cell_type_colors = IHECColorMap.cell_type_color_map\n",
    "sex_colors = IHECColorMap.sex_color_map"
   ]
  },
  {
   "cell_type": "code",
   "execution_count": null,
   "metadata": {},
   "outputs": [],
   "source": [
    "split_results_handler = SplitResultsHandler()\n",
    "\n",
    "metadata_handler = MetadataHandler(paper_dir)\n",
    "metadata_v2 = metadata_handler.load_metadata(\"v2\")\n",
    "metadata_v2_df = metadata_handler.load_metadata_df(\"v2\")"
   ]
  },
  {
   "cell_type": "markdown",
   "metadata": {},
   "source": [
    "### ChIP-Atlas predictions file `CA_metadata_4DB+all_pred.20240606_mod3.0.tsv`\n",
    "\n",
    "See README for meaning of mod3.0."
   ]
  },
  {
   "cell_type": "code",
   "execution_count": null,
   "metadata": {},
   "outputs": [],
   "source": [
    "base_pred_dir = base_data_dir / \"training_results\" / \"predictions\"\n",
    "if not base_pred_dir.exists():\n",
    "    raise FileNotFoundError(f\"Directory {base_pred_dir} does not exist.\")\n",
    "\n",
    "ca_preds_dir = base_pred_dir / \"C-A\"\n",
    "ca_preds_path = ca_preds_dir / ASSAY / \"CA_metadata_4DB+all_pred.20240606_mod3.0.tsv\"\n",
    "ca_preds_df = pd.read_csv(ca_preds_path, sep=\"\\t\", low_memory=False)\n",
    "\n",
    "print(f\"ChIP-Atlas: {ca_preds_df.shape[0]} total files\")"
   ]
  },
  {
   "cell_type": "code",
   "execution_count": null,
   "metadata": {},
   "outputs": [],
   "source": [
    "DB_COLS = [\"GEO_mod\", \"C-A\", \"Cistrome\", \"NGS_mod\"]"
   ]
  },
  {
   "cell_type": "code",
   "execution_count": null,
   "metadata": {},
   "outputs": [],
   "source": [
    "print(\"ChIP-Atlas - Available model predictions\")\n",
    "for col in ca_preds_df.columns:\n",
    "    if \"Max_pred\" in col:\n",
    "        model_task = col.split(\"_\")[-1]\n",
    "        print(model_task)"
   ]
  },
  {
   "cell_type": "code",
   "execution_count": null,
   "metadata": {},
   "outputs": [],
   "source": [
    "if ca_preds_df[ca_preds_df.isin([\"h3.3k27m\"])].notna().sum().sum() != 0:\n",
    "    raise ValueError(\"h3.3k27m is still present in the dataframe\")"
   ]
  },
  {
   "cell_type": "markdown",
   "metadata": {},
   "source": [
    "Predictions from following models and more:\n",
    "| Metadata category|   Nb classes |     Experiment Key (comet.com)       | Nb Files |\n",
    "|------------------|--------------|--------------------------------------|----------|\n",
    "| assay_epiclass   |     7      | 69488630801b4a05a53b5d9e572f0aaa       | 16788    |\n",
    "| assay_epiclass   |     11      | 0f8e5eb996114868a17057bebe64f87c      | 20922    |\n",
    "| assay_epiclass   |     13      | dd3710b73c0341af85a17ce1998362d0      | 24989    |\n",
    "| harmonized_donor_sex | 3       | 4b908b83e0ec45c3ab991e65aa27af0c | 18299    |\n",
    "| harmonized_donor_life_stage | 5    | 91214ed0b1664395b1826dc69a495ed4 | 15372    |\n",
    "| harmonized_sample_disease_high | 3    | e5930cabfb3f427a9ece1767a09c971c | 20922    |\n",
    "| harmonized_sample_cancer_high | 2    | 15da476b92f140eab818ece369248f4c | 20922    |\n",
    "| harmonized_biomaterial_type | 4 | 90a87e0758cb4cf48c11c11b31ccccff | 20922 |\n",
    "\n",
    "\n",
    "Classes:\n",
    "\n",
    "- assay 7c: 6 h3k* histone marks + input\n",
    "- assay 11c: assay7c + rna_seq + mrna_seq + wgbs_standard + wgbs_pbat\n",
    "- assay 13c: assay11c + encode non-core + encode CTCF\n",
    "- harmonized_donor_sex: male, female, mixed\n",
    "- harmonized_donor_life_stage: adult, child, newborn, fetal, embryonic\n",
    "- harmonized_sample_disease_high (disease3): cancer, healthy/None, disease\n",
    "- harmonized_sample_cancer_high (modification of harmonized_sample_disease_high): cancer, non-cancer (healthy/None+disease)\n",
    "- harmonized_biomaterial_type (biomat): cell line, primary cell, primary cell culture, primary tissue\n",
    "\n",
    "Training metadata: Approximately `IHEC_sample_metadata_harmonization.v1.1.extended.csv` + encode non-core (`hg38_2023-epiatlas-dfreeze_v2.1_w_encode_noncore_2.json`).\n",
    "See `data/metadata/README.md` for metadata details, and `training_metadata_vs_official_v1.1.json` for exact difference of our training data and v1.1."
   ]
  },
  {
   "cell_type": "markdown",
   "metadata": {},
   "source": [
    "### ENCODE predictions file `encode_predictions_augmented_merged.csv`\n",
    "\n",
    "See `models.list` in `encode_preds_dir` for comet.com experiment keys.\n",
    "Same models as ChIP-Atlas predictions. The assay_epiclass model is the 7c one.  \n",
    "Additonally, the `harmonized_sample_ontology_intermediate` model was used on a subset of files with known EpiATLAS sample ontologies.\n",
    "\n",
    "| Metadata category|   Nb classes |     Experiment Key (comet.com)      | Nb Files |\n",
    "|-------------------------------------------|-------------|---------------------------------------|----------|\n",
    "| harmonized_sample_ontology_intermediate   |     16      | bb66b72ae83645d587e50b34aebb39c3      | 16379    |\n",
    "\n",
    "Metadata for ENCODE predictions created using:  \n",
    "FILE + EXPERIMENT + BIOSAMPLE accessions, starting from filenames.  \n",
    "See `src/python/epi_ml/utils/notebooks/paper/encode_metadata_creation.ipynb`  \n",
    "Final metadata file: `encode_full_metadata_2025-02_no_revoked.json`  "
   ]
  },
  {
   "cell_type": "code",
   "execution_count": null,
   "metadata": {},
   "outputs": [],
   "source": [
    "encode_meta_dir = base_data_dir / \"metadata\" / \"encode\""
   ]
  },
  {
   "cell_type": "code",
   "execution_count": null,
   "metadata": {},
   "outputs": [],
   "source": [
    "encode_preds_dir = base_pred_dir / \"encode\"\n",
    "encode_preds_path = (\n",
    "    encode_preds_dir / \"complete_encode_predictions_augmented_2025-02_metadata.csv.gz\"\n",
    ")\n",
    "encode_preds_df = pd.read_csv(\n",
    "    encode_preds_path, sep=\",\", low_memory=False, compression=\"gzip\"\n",
    ")\n",
    "print(f\"ENCODE: {encode_preds_df.shape[0]} total files\")"
   ]
  },
  {
   "cell_type": "code",
   "execution_count": null,
   "metadata": {},
   "outputs": [],
   "source": [
    "encode_preds_df[\"in_epiatlas\"].value_counts(dropna=False)"
   ]
  },
  {
   "cell_type": "code",
   "execution_count": null,
   "metadata": {},
   "outputs": [],
   "source": [
    "encode_preds_df = encode_preds_df[encode_preds_df[\"in_epiatlas\"].astype(str) == \"False\"]\n",
    "print(f\"ENCODE: {encode_preds_df.shape[0]} total files with no EpiAtlas overlap\")"
   ]
  },
  {
   "cell_type": "code",
   "execution_count": null,
   "metadata": {},
   "outputs": [],
   "source": [
    "for col in encode_preds_df.columns:\n",
    "    if LIFE_STAGE in col:\n",
    "        print(col)"
   ]
  },
  {
   "cell_type": "markdown",
   "metadata": {},
   "source": [
    "## Fig 3"
   ]
  },
  {
   "cell_type": "markdown",
   "metadata": {},
   "source": [
    "Removing ChIP-Atlas experiment overlap with EpiATLAS"
   ]
  },
  {
   "cell_type": "code",
   "execution_count": null,
   "metadata": {},
   "outputs": [],
   "source": [
    "print(f\"ChIP-Atlas: Initial {ca_preds_df.shape[0]} files\")\n",
    "no_epiatlas_df = ca_preds_df[ca_preds_df[\"is_EpiAtlas_EpiRR\"] == \"0\"]\n",
    "\n",
    "diff = ca_preds_df.shape[0] - no_epiatlas_df.shape[0]\n",
    "print(f\"ChIP-Atlas: {diff} files with EpiAtlas EpiRR removed\")\n",
    "print(f\"ChIP-Atlas: {no_epiatlas_df.shape[0]} files without EpiAtlas EpiRR\")"
   ]
  },
  {
   "cell_type": "markdown",
   "metadata": {},
   "source": [
    "Ignoring non-core consensus files."
   ]
  },
  {
   "cell_type": "code",
   "execution_count": null,
   "metadata": {},
   "outputs": [],
   "source": [
    "non_core_labels = [\"non-core\", \"CTCF\"]\n",
    "ca_core7_df = no_epiatlas_df[\n",
    "    ~no_epiatlas_df[\"manual_target_consensus\"].isin((non_core_labels))\n",
    "]\n",
    "\n",
    "diff = no_epiatlas_df.shape[0] - ca_core7_df.shape[0]\n",
    "print(f\"ChIP-Atlas: {diff} files with non-core consensus removed\")\n",
    "print(f\"ChIP-Atlas: {ca_core7_df.shape[0]} files with core consensus\")"
   ]
  },
  {
   "cell_type": "code",
   "execution_count": null,
   "metadata": {},
   "outputs": [],
   "source": [
    "ca_core7_df[\"manual_target_consensus\"].value_counts(dropna=False)"
   ]
  },
  {
   "cell_type": "markdown",
   "metadata": {},
   "source": [
    "### Fig 3A - ChIP-Atlas assay (7classes) prediction"
   ]
  },
  {
   "cell_type": "markdown",
   "metadata": {},
   "source": [
    "#### High-confidence predictions"
   ]
  },
  {
   "cell_type": "code",
   "execution_count": null,
   "metadata": {},
   "outputs": [],
   "source": [
    "total_N = ca_core7_df.shape[0]\n",
    "high_confidence_pred_df = ca_core7_df[ca_core7_df[\"Max_pred_assay7\"] >= 0.6]\n",
    "\n",
    "high_confidence_N = high_confidence_pred_df.shape[0]\n",
    "N_percent = high_confidence_N / total_N\n",
    "display(\n",
    "    f\"ChIP-Atlas: {high_confidence_N}/{total_N} files ({high_confidence_N/total_N:.2%}) with high confidence assay prediction\"\n",
    ")"
   ]
  },
  {
   "cell_type": "markdown",
   "metadata": {},
   "source": [
    "#### Match between manual target consensus and MLP prediction"
   ]
  },
  {
   "cell_type": "code",
   "execution_count": null,
   "metadata": {},
   "outputs": [],
   "source": [
    "total_N = high_confidence_pred_df.shape[0]\n",
    "\n",
    "match_rule = (\n",
    "    high_confidence_pred_df[\"manual_target_consensus\"]\n",
    "    == high_confidence_pred_df[\"Predicted_class_assay7\"]\n",
    ")\n",
    "match_df = high_confidence_pred_df[match_rule]\n",
    "mismatch_df = high_confidence_pred_df[~match_rule]\n",
    "\n",
    "agreement_N = match_df.shape[0]\n",
    "\n",
    "print(\n",
    "    f\"ChIP-Atlas: {agreement_N}/{total_N} files ({agreement_N / total_N:.2%}) with agreement between consensus and predicted assay\"\n",
    ")"
   ]
  },
  {
   "cell_type": "markdown",
   "metadata": {},
   "source": [
    "#### Mismatch breakdown"
   ]
  },
  {
   "cell_type": "code",
   "execution_count": null,
   "metadata": {},
   "outputs": [],
   "source": [
    "total_mismatch = mismatch_df.shape[0]\n",
    "input_rule = mismatch_df[\"Predicted_class_assay7\"] == \"input\"\n",
    "input_pred_N = input_rule.sum()\n",
    "\n",
    "print(\n",
    "    f\"ChIP-Atlas: {input_pred_N}/{total_mismatch} files ({input_pred_N / total_mismatch:.2%}) with mismatch predicted as input\"\n",
    ")\n",
    "print(\n",
    "    f\"ChIP-Atlas: {total_mismatch-input_pred_N}/{total_mismatch} files ({(total_mismatch-input_pred_N) / total_mismatch:.2%}) potential mislabels\"\n",
    ")\n",
    "display(mismatch_df[~input_rule][\"core7_DBs_consensus\"].value_counts(dropna=False))"
   ]
  },
  {
   "cell_type": "markdown",
   "metadata": {},
   "source": [
    "### Fig 3B-C-D - ChIP-Atlas donor sex, cancer and life stage predictions"
   ]
  },
  {
   "cell_type": "code",
   "execution_count": null,
   "metadata": {},
   "outputs": [],
   "source": [
    "new_ca_meta_path = (\n",
    "    base_data_dir / \"metadata\" / \"chip_atlas\" / \"CA_metadata_FW_20240917.tsv\"\n",
    ")\n",
    "new_ca_meta_df = pd.read_csv(new_ca_meta_path, sep=\"\\t\", low_memory=False)\n",
    "\n",
    "new_ca_meta_df[\"True_class_FW_donorlife\"] = new_ca_meta_df[\"True_class_FW_age\"]\n",
    "new_cols = [\"True_class_FW_cancer\", \"True_class_FW_sex\", \"True_class_FW_donorlife\"]\n",
    "new_ca_meta_df = new_ca_meta_df[[\"Experimental.id\"] + new_cols]"
   ]
  },
  {
   "cell_type": "code",
   "execution_count": null,
   "metadata": {},
   "outputs": [],
   "source": [
    "# New life stage label grouping: 3 classes\n",
    "life_stage_map = {\"embryonic\": \"prenatal\", \"newborn\": \"prenatal\", \"fetal\": \"prenatal\"}\n",
    "new_ca_meta_df[\"True_class_FW_donorlife_merged\"] = new_ca_meta_df[\n",
    "    \"True_class_FW_donorlife\"\n",
    "].replace(life_stage_map)\n",
    "\n",
    "ca_preds_df[\"Predicted_class_donorlife_merged\"] = ca_preds_df[\n",
    "    \"Predicted_class_donorlife\"\n",
    "].replace(life_stage_map)\n",
    "ca_preds_df[\"Max_pred_donorlife_merged\"] = ca_preds_df[\"Max_pred_donorlife\"]"
   ]
  },
  {
   "cell_type": "code",
   "execution_count": null,
   "metadata": {},
   "outputs": [],
   "source": [
    "ca_preds_df = ca_preds_df.merge(\n",
    "    new_ca_meta_df, left_on=\"Experimental-id\", right_on=\"Experimental.id\", how=\"left\"\n",
    ")"
   ]
  },
  {
   "cell_type": "code",
   "execution_count": null,
   "metadata": {},
   "outputs": [],
   "source": [
    "for col in new_cols + [\"True_class_FW_donorlife_merged\"]:\n",
    "    print(f\"ChIP-Atlas: {col}\")\n",
    "    print(ca_preds_df[col].value_counts(dropna=False), \"\\n\")"
   ]
  },
  {
   "cell_type": "code",
   "execution_count": null,
   "metadata": {},
   "outputs": [],
   "source": [
    "def create_summary_table(\n",
    "    pred_df: pd.DataFrame,\n",
    "    relevant_cols_format: Dict[str, str],\n",
    "    categories: List[str],\n",
    "    high_conf_threshold: float = 0.6,\n",
    ") -> pd.DataFrame:\n",
    "    \"\"\"Create a summary table for predictions.\n",
    "\n",
    "    relevant_cols_format: dict[str, str] - dict with column designation as key and format string as value\n",
    "        requires \"true\", \"pred\" and \"score\" keys.\n",
    "\n",
    "    Both empty and \"unknown\" values are considered \"unknown\".\n",
    "    \"\"\"\n",
    "    if set(relevant_cols_format.keys()) != {\"true\", \"pred\", \"score\"}:\n",
    "        raise ValueError(\n",
    "            \"relevant_cols_format must contain 'true', 'pred' and 'score' keys\"\n",
    "        )\n",
    "\n",
    "    results = []\n",
    "    for cat in categories:\n",
    "        true_col = relevant_cols_format[\"true\"].format(cat)\n",
    "        pred_col = relevant_cols_format[\"pred\"].format(cat)\n",
    "        max_pred = relevant_cols_format[\"score\"].format(cat)\n",
    "\n",
    "        # Split data into known and unknown labels\n",
    "        known_rule = (pred_df[true_col].notna()) & (pred_df[true_col] != \"unknown\")\n",
    "        known_df = pred_df[known_rule]\n",
    "        unknown_df = pred_df[~known_rule]\n",
    "\n",
    "        known_N = known_df.shape[0]\n",
    "        unknown_N = unknown_df.shape[0]\n",
    "        total_N = pred_df.shape[0]\n",
    "\n",
    "        # High confidence calculations for known labels\n",
    "        high_conf_know_rule = known_df[max_pred] >= high_conf_threshold\n",
    "        high_conf_know_df = known_df[high_conf_know_rule]\n",
    "        high_conf_know_N = high_conf_know_df.shape[0]\n",
    "        low_conf_know_N = known_df[~high_conf_know_rule].shape[0]\n",
    "\n",
    "        # Match calculations\n",
    "        match_rule = high_conf_know_df[pred_col] == high_conf_know_df[true_col]\n",
    "        N_match = match_rule.sum()\n",
    "        N_mismatch = high_conf_know_df.shape[0] - N_match\n",
    "\n",
    "        # High confidence calculations for unknown labels\n",
    "        high_conf_unknown_rule = unknown_df[max_pred] >= high_conf_threshold\n",
    "        high_conf_unknown_N = high_conf_unknown_rule.sum()\n",
    "        low_conf_unknown_N = (~high_conf_unknown_rule).sum()\n",
    "\n",
    "        # Store results for this category\n",
    "        results_dict = {\n",
    "            \"Category\": cat,\n",
    "            \"Total Files\": total_N,\n",
    "            \"Files with Labels\": f\"{known_N}/{total_N} ({known_N/total_N:.1%})\",\n",
    "            \"High Conf. (with labels)\": f\"{high_conf_know_N}/{known_N} ({high_conf_know_N/known_N:.1%})\",\n",
    "            \"Low Conf. (with labels)\": f\"{low_conf_know_N}/{known_N} ({low_conf_know_N/known_N:.1%})\",\n",
    "            \"Matching Predictions\": f\"{N_match}/{known_N} ({N_match/known_N:.1%})\",\n",
    "            \"Mismatching Predictions\": f\"{N_mismatch}/{known_N} ({N_mismatch/known_N:.1%})\",\n",
    "            \"Files without Labels\": f\"{unknown_N}/{total_N} ({unknown_N/total_N:.1%})\",\n",
    "            \"High confidence threshold\": high_conf_threshold,\n",
    "        }\n",
    "        if unknown_N > 0:\n",
    "            results_dict[\n",
    "                \"High Conf. (no labels)\"\n",
    "            ] = f\"{high_conf_unknown_N}/{unknown_N} ({high_conf_unknown_N/unknown_N:.1%})\"\n",
    "            results_dict[\n",
    "                \"Low Conf. (no labels)\"\n",
    "            ] = f\"{low_conf_unknown_N}/{unknown_N} ({low_conf_unknown_N/unknown_N:.1%})\"\n",
    "\n",
    "        results.append(results_dict)\n",
    "\n",
    "    # Create DataFrame from results\n",
    "    summary_df = pd.DataFrame(results)\n",
    "\n",
    "    # Set Category as index for better display\n",
    "    summary_df.set_index(\"Category\", inplace=True)\n",
    "\n",
    "    return summary_df"
   ]
  },
  {
   "cell_type": "code",
   "execution_count": null,
   "metadata": {},
   "outputs": [],
   "source": [
    "def create_pie_charts_from_summary(\n",
    "    summary_df,\n",
    "    logdir: Path | None = None,\n",
    "    name: str | None = None,\n",
    "    show_plot: bool = True,\n",
    "):\n",
    "    \"\"\"Create pie charts from the summary DataFrame.\"\"\"\n",
    "    if not logdir and not show_plot:\n",
    "        raise ValueError(\"Either logdir or show_plot must be provided.\")\n",
    "\n",
    "    plt.style.use(\"seaborn-v0_8\")\n",
    "\n",
    "    def extract_number(value: str) -> int:\n",
    "        \"\"\"Extract the first number from strings like '100 (50.0%)'.\"\"\"\n",
    "        return int(re.search(r\"(\\d+)\", value).group(1))  # type: ignore\n",
    "\n",
    "    # Create pie charts for each category\n",
    "    for category in summary_df.index:\n",
    "        fig, (ax1, ax2) = plt.subplots(1, 2, figsize=(15, 6))\n",
    "\n",
    "        high_conf_threshold = summary_df.loc[category, \"High confidence threshold\"]\n",
    "\n",
    "        # Known Labels Pie Chart\n",
    "        high_conf_match = extract_number(summary_df.loc[category, \"Matching Predictions\"])\n",
    "        high_conf_mismatch = extract_number(\n",
    "            summary_df.loc[category, \"Mismatching Predictions\"]\n",
    "        )\n",
    "        low_conf_known = extract_number(\n",
    "            summary_df.loc[category, \"Low Conf. (with labels)\"]\n",
    "        )\n",
    "\n",
    "        known_sizes = [high_conf_match, high_conf_mismatch, low_conf_known]\n",
    "        total_known = sum(known_sizes)\n",
    "\n",
    "        known_labels = [\n",
    "            f\"High Conf. Match\\n({high_conf_match:,} files, {high_conf_match/total_known:.1%})\",\n",
    "            f\"High Conf. Mismatch\\n({high_conf_mismatch:,} files, {high_conf_mismatch/total_known:.1%})\",\n",
    "            f\"Low Confidence\\n({low_conf_known:,} files, {low_conf_known/total_known:.1%})\",\n",
    "        ]\n",
    "        colors1 = [\"#2ecc71\", \"#e74c3c\", \"#95a5a6\"]  # green, red, gray\n",
    "\n",
    "        ax1.pie(\n",
    "            known_sizes,\n",
    "            labels=known_labels,\n",
    "            colors=colors1,\n",
    "            autopct=\"%1.1f%%\",\n",
    "            startangle=90,\n",
    "        )\n",
    "        ax1.set_title(\"Files with Known Labels\", pad=20)\n",
    "\n",
    "        # Unknown Labels Pie Chart\n",
    "        high_conf_unknown = extract_number(\n",
    "            summary_df.loc[category, \"High Conf. (no labels)\"]\n",
    "        )\n",
    "        low_conf_unknown = extract_number(\n",
    "            summary_df.loc[category, \"Low Conf. (no labels)\"]\n",
    "        )\n",
    "\n",
    "        unknown_sizes = [high_conf_unknown, low_conf_unknown]\n",
    "        total_unknown = sum(unknown_sizes)\n",
    "\n",
    "        unknown_labels = [\n",
    "            f\"High Confidence\\n({high_conf_unknown:,} files, {high_conf_unknown/total_unknown:.1%})\",\n",
    "            f\"Low Confidence\\n({low_conf_unknown:,} files, {low_conf_unknown/total_unknown:.1%})\",\n",
    "        ]\n",
    "        colors2 = [\"#3498db\", \"#95a5a6\"]  # blue, gray\n",
    "\n",
    "        ax2.pie(\n",
    "            unknown_sizes,\n",
    "            labels=unknown_labels,\n",
    "            colors=colors2,\n",
    "            autopct=\"%1.1f%%\",\n",
    "            startangle=90,\n",
    "        )\n",
    "        ax2.set_title(\"Files with Unknown Labels\", pad=20)\n",
    "\n",
    "        fig.suptitle(\n",
    "            f\"Prediction distribution for {category} (high_conf={high_conf_threshold})\",\n",
    "            fontsize=16,\n",
    "            y=0.975,\n",
    "        )\n",
    "        plt.tight_layout()\n",
    "\n",
    "        if logdir:\n",
    "            if name:\n",
    "                filename = f\"pie_charts_{name}_{category}\"\n",
    "            else:\n",
    "                filename = f\"pie_charts_{category}\"\n",
    "            plt.savefig(logdir / f\"{filename}.png\", format=\"png\", dpi=500)\n",
    "            plt.savefig(logdir / f\"{filename}.svg\", format=\"svg\")\n",
    "\n",
    "        if show_plot:\n",
    "            plt.show()"
   ]
  },
  {
   "cell_type": "code",
   "execution_count": null,
   "metadata": {},
   "outputs": [],
   "source": [
    "chip_atlas_cols_format = {\n",
    "    \"true\": \"True_class_FW_{}\",\n",
    "    \"pred\": \"Predicted_class_{}\",\n",
    "    \"score\": \"Max_pred_{}\",\n",
    "}\n",
    "chip_atlas_categories = [\"cancer\", \"sex\", \"donorlife\", \"donorlife_merged\"]\n",
    "\n",
    "ca_preds_df_no_epiatlas = ca_preds_df[ca_preds_df[\"is_EpiAtlas_EpiRR\"] == \"0\"]"
   ]
  },
  {
   "cell_type": "code",
   "execution_count": null,
   "metadata": {},
   "outputs": [],
   "source": [
    "summary_df = create_summary_table(\n",
    "    ca_preds_df_no_epiatlas, chip_atlas_cols_format, chip_atlas_categories\n",
    ")\n",
    "this_logdir = base_fig_dir / \"chip_atlas_predictions\" / \"pie_charts_no_epiatlas\"\n",
    "this_logdir.mkdir(parents=False, exist_ok=True)\n",
    "# create_pie_charts_from_summary(summary_df, this_logdir)\n",
    "create_pie_charts_from_summary(summary_df, show_plot=True)"
   ]
  },
  {
   "cell_type": "code",
   "execution_count": null,
   "metadata": {},
   "outputs": [],
   "source": [
    "# with epiatlas, `(ca_preds_df[\"is_EpiAtlas_EpiRR\"] != \"0\").sum()`` more files\n",
    "summary_df = create_summary_table(\n",
    "    ca_preds_df, chip_atlas_cols_format, chip_atlas_categories\n",
    ")\n",
    "this_logdir = base_fig_dir / \"chip_atlas_predictions\" / \"pie_charts_with_epiatlas\"\n",
    "this_logdir.mkdir(parents=False, exist_ok=True)\n",
    "# create_pie_charts_from_summary(summary_df, this_logdir)\n",
    "create_pie_charts_from_summary(summary_df, show_plot=True)"
   ]
  },
  {
   "cell_type": "markdown",
   "metadata": {},
   "source": [
    "### Fig ?? - recount3 dataset predictions"
   ]
  },
  {
   "cell_type": "code",
   "execution_count": null,
   "metadata": {},
   "outputs": [],
   "source": [
    "recount3_folder = (\n",
    "    base_data_dir\n",
    "    / \"training_results\"\n",
    "    / \"predictions\"\n",
    "    / \"recount3\"\n",
    "    / \"hg38_100kb_all_none\"\n",
    ")\n",
    "if not recount3_folder.exists():\n",
    "    raise FileNotFoundError()"
   ]
  },
  {
   "cell_type": "code",
   "execution_count": null,
   "metadata": {},
   "outputs": [],
   "source": [
    "meta_name = \"harmonized_metadata_20250122_leuk2\"\n",
    "preds_path = recount3_folder / f\"recount3_merged_preds_{meta_name}.tsv.gz\"\n",
    "recount3_df = pd.read_csv(preds_path, sep=\"\\t\")\n",
    "print(f\"Recount3: {recount3_df.shape[0]} files\")"
   ]
  },
  {
   "cell_type": "code",
   "execution_count": null,
   "metadata": {},
   "outputs": [],
   "source": [
    "column_names_template_dict = {\n",
    "    \"true\": \"Expected class ({})\",\n",
    "    \"pred\": \"Predicted class ({})\",\n",
    "    \"score\": \"Max pred ({})\",\n",
    "}"
   ]
  },
  {
   "cell_type": "code",
   "execution_count": null,
   "metadata": {},
   "outputs": [],
   "source": [
    "recount3_df = merge_life_stages(\n",
    "    df=recount3_df,\n",
    "    column_name_templates=list(column_names_template_dict.values()),\n",
    ")"
   ]
  },
  {
   "cell_type": "markdown",
   "metadata": {},
   "source": [
    "Only considering files that are confirmed as RNA for predictions of other metadata categories, i.e. (minPredScore assay classifier > 0.6 & pred = RNA)"
   ]
  },
  {
   "cell_type": "code",
   "execution_count": null,
   "metadata": {},
   "outputs": [],
   "source": [
    "recount3_df_high_conf_rna = recount3_df[\n",
    "    (recount3_df[f\"Max pred ({ASSAY})\"] > 0.6)\n",
    "    & (recount3_df[f\"Predicted class ({ASSAY})\"].isin([\"rna_seq\", \"mrna_seq\"]))\n",
    "]\n",
    "print(f\"Recount3 (high_conf_rna): {recount3_df_high_conf_rna.shape[0]} files\")"
   ]
  },
  {
   "cell_type": "code",
   "execution_count": null,
   "metadata": {},
   "outputs": [],
   "source": [
    "summary_df = create_summary_table(\n",
    "    pred_df=recount3_df,\n",
    "    relevant_cols_format=column_names_template_dict,\n",
    "    categories=[CANCER, SEX, LIFE_STAGE, f\"{LIFE_STAGE}_merged\"],\n",
    ")\n",
    "\n",
    "summary_df_high_conf_rna = create_summary_table(\n",
    "    pred_df=recount3_df_high_conf_rna,\n",
    "    relevant_cols_format=column_names_template_dict,\n",
    "    categories=[CANCER, SEX, LIFE_STAGE, f\"{LIFE_STAGE}_merged\"],\n",
    ")"
   ]
  },
  {
   "cell_type": "code",
   "execution_count": null,
   "metadata": {},
   "outputs": [],
   "source": [
    "logdir = base_fig_dir / \"recount3_predictions\"\n",
    "logdir.mkdir(exist_ok=True)\n",
    "# create_pie_charts_from_summary(summary_df, logdir, name=\"all_files\", show_plot=False)\n",
    "# create_pie_charts_from_summary(summary_df_high_conf_rna, logdir, name=\"high_conf_rna\", show_plot=False)\n",
    "create_pie_charts_from_summary(summary_df, show_plot=True)"
   ]
  },
  {
   "cell_type": "code",
   "execution_count": null,
   "metadata": {},
   "outputs": [],
   "source": [
    "create_pie_charts_from_summary(summary_df_high_conf_rna, show_plot=True)"
   ]
  },
  {
   "cell_type": "markdown",
   "metadata": {},
   "source": [
    "### Fig 3E - ENCODE dataset core predictions (5 tasks)"
   ]
  },
  {
   "cell_type": "markdown",
   "metadata": {},
   "source": [
    "See `src/python/epi_ml/utils/notebooks/paper/encode_pred_analysis.ipynb` at section `Accuracies per assay` (plot_encode_metrics_per_assay)"
   ]
  },
  {
   "cell_type": "markdown",
   "metadata": {},
   "source": [
    "### Fig 3B' - ENCODE core predictions, pie charts"
   ]
  },
  {
   "cell_type": "code",
   "execution_count": null,
   "metadata": {},
   "outputs": [],
   "source": [
    "encode_core_df = encode_preds_df[\n",
    "    encode_preds_df[ASSAY].isin(CORE_ASSAYS + [\"mrna_seq\", \"rna_seq\"])\n",
    "].copy()\n",
    "print(f\"ENCODE: {encode_core_df.shape[0]} core files\")\n",
    "\n",
    "column_names_template_dict = {\n",
    "    \"true\": \"True class ({})\",\n",
    "    \"pred\": \"Predicted class ({})\",\n",
    "    \"score\": \"Max pred ({})\",\n",
    "}\n",
    "\n",
    "encode_core_df = merge_life_stages(\n",
    "    df=encode_core_df,\n",
    "    column_name_templates=list(column_names_template_dict.values()),\n",
    ")\n",
    "\n",
    "summary_df = create_summary_table(\n",
    "    pred_df=encode_core_df,\n",
    "    relevant_cols_format=column_names_template_dict,\n",
    "    categories=[CANCER, SEX, LIFE_STAGE, f\"{LIFE_STAGE}_merged\"],\n",
    ")"
   ]
  },
  {
   "cell_type": "code",
   "execution_count": null,
   "metadata": {},
   "outputs": [],
   "source": [
    "logdir = base_fig_dir / \"encode_predictions\" / \"pie_charts\"\n",
    "logdir.mkdir(exist_ok=True)\n",
    "# create_pie_charts_from_summary(summary_df, logdir)\n",
    "create_pie_charts_from_summary(summary_df, show_plot=True)"
   ]
  },
  {
   "cell_type": "markdown",
   "metadata": {},
   "source": [
    "### Fig 3F - ENCODE non-core predictions with assay category mapping"
   ]
  },
  {
   "cell_type": "code",
   "execution_count": null,
   "metadata": {},
   "outputs": [],
   "source": [
    "non_core_categories_path = (\n",
    "    encode_meta_dir / \"non-core_encode_assay_category_2024-08-29.csv\"\n",
    ")\n",
    "\n",
    "non_core_categories_df = pd.read_csv(non_core_categories_path, sep=\",\", low_memory=False)\n",
    "non_core_map = non_core_categories_df.set_index(\"target\").to_dict()[\"Assay category\"]\n",
    "# del non_core_categories_df"
   ]
  },
  {
   "cell_type": "code",
   "execution_count": null,
   "metadata": {},
   "outputs": [],
   "source": [
    "encode_non_core_df = encode_preds_df[\n",
    "    encode_preds_df[ASSAY].isin([\"non-core\", \"ctcf\"])\n",
    "].copy()\n",
    "\n",
    "# Map assays to categories\n",
    "encode_non_core_df[\"assay_category\"] = (\n",
    "    encode_non_core_df[\"assay\"].str.lower().replace(non_core_map)\n",
    ")"
   ]
  },
  {
   "cell_type": "code",
   "execution_count": null,
   "metadata": {},
   "outputs": [],
   "source": [
    "assay_categories_order = [\n",
    "    \"trx_reg\",\n",
    "    \"heterochrom\",\n",
    "    \"polycomb\",\n",
    "    \"splicing\",\n",
    "    \"insulator\",\n",
    "    \"other/mixed\",\n",
    "    \"not_looked\",\n",
    "]\n",
    "\n",
    "assay_epiclass_order = [\n",
    "    \"h3k27ac\",\n",
    "    \"h3k4me3\",\n",
    "    \"h3k4me1\",\n",
    "    \"h3k9me3\",\n",
    "    \"h3k27me3\",\n",
    "    \"h3k36me3\",\n",
    "    \"input\",\n",
    "]\n",
    "assay_epiclass_order = {assay: i for i, assay in enumerate(assay_epiclass_order)}\n",
    "pred_col = f\"Predicted class ({ASSAY}_7c)\"\n",
    "max_pred_col = f\"Max pred ({ASSAY}_7c)\"\n",
    "\n",
    "for min_pred in [0, 0.6]:\n",
    "    sub_df = encode_non_core_df[encode_non_core_df[max_pred_col] >= min_pred]\n",
    "    groupby = (\n",
    "        sub_df.groupby([\"assay_category\", pred_col])\n",
    "        .size()\n",
    "        .reset_index(name=\"Count\")\n",
    "        .sort_values([\"assay_category\", \"Count\"], ascending=[True, False])\n",
    "    )\n",
    "    groupby[\"Percentage\"] = groupby.groupby(\"assay_category\")[\"Count\"].transform(\n",
    "        lambda x: (x / x.sum()) * 100\n",
    "    )\n",
    "\n",
    "    # Add order for plotting\n",
    "    groupby[\"assay_order\"] = groupby[pred_col].map(assay_epiclass_order)\n",
    "    groupby = groupby.sort_values(\n",
    "        [\"assay_category\", \"assay_order\"], ascending=[False, True]\n",
    "    )\n",
    "\n",
    "    # Main plot\n",
    "    fig = px.bar(\n",
    "        groupby,\n",
    "        x=\"assay_category\",\n",
    "        y=\"Percentage\",\n",
    "        color=pred_col,\n",
    "        barmode=\"stack\",\n",
    "        category_orders={\"assay_category\": assay_categories_order},\n",
    "        color_discrete_map=assay_colors,\n",
    "        title=f\"core7 predictions for non-core assays, predScore >= {min_pred:.2f}\",\n",
    "        labels={\"Percentage\": \"Percentage (%)\", \"assay_category\": \"Assay Category\"},\n",
    "    )\n",
    "\n",
    "    # Modify x-axis labels\n",
    "    total_counts = groupby.groupby(\"assay_category\")[\"Count\"].sum()\n",
    "    ticktext = [\n",
    "        f\"{assay_category} (N={total_counts[assay_category]})\"\n",
    "        for assay_category in assay_categories_order\n",
    "    ]\n",
    "    fig.update_xaxes(tickvals=assay_categories_order, ticktext=ticktext)\n",
    "    fig.show()"
   ]
  },
  {
   "cell_type": "markdown",
   "metadata": {},
   "source": [
    "## Supp Fig 5A - UpsetPlot of assay labels provided in 4 DBs"
   ]
  },
  {
   "cell_type": "code",
   "execution_count": null,
   "metadata": {},
   "outputs": [],
   "source": [
    "for col in ca_core7_df.columns:\n",
    "    if \"consensus\" in col:\n",
    "        print(col)"
   ]
  },
  {
   "cell_type": "code",
   "execution_count": null,
   "metadata": {},
   "outputs": [],
   "source": [
    "consensus_col = \"core7_DBs_consensus\""
   ]
  },
  {
   "cell_type": "code",
   "execution_count": null,
   "metadata": {},
   "outputs": [],
   "source": [
    "def create_4DB_consensus_description(ca_core_df: pd.DataFrame) -> pd.Series:\n",
    "    \"\"\"Create a description of the 4DB assay consensus labels.\n",
    "\n",
    "    Treat \"Unclassified\" from Chip-Atlas as absent samples for the target consensus evaluation.\n",
    "\n",
    "    The consensus description is based on the following rules:\n",
    "    - \"Identical\" if all labels are the same\n",
    "    - \"Different\" if at least one label is different\n",
    "    - \"1 source\" if only one DB has a label\n",
    "    - \"Ignored - Potential non-core\" if any label is not in the core assays\n",
    "\n",
    "    Args:\n",
    "        ca_core_df: ChIP-Atlas core7 DataFrame\n",
    "\n",
    "    Returns:\n",
    "        Series with the target consensus description\n",
    "    \"\"\"\n",
    "    id_db_target = []\n",
    "    tmp_df = ca_core_df.loc[:, DB_COLS].copy()\n",
    "    tmp_df[\"C-A\"].replace(\"unclassified\", \"----\", inplace=True)\n",
    "\n",
    "    for labels in tmp_df.values:\n",
    "        missing_N = sum(label == \"----\" for label in labels)\n",
    "        db_labels = set(labels)\n",
    "\n",
    "        try:\n",
    "            db_labels.remove(\"----\")\n",
    "        except KeyError:\n",
    "            pass\n",
    "        if any(label not in CORE_ASSAYS + [\"ctrl\"] for label in db_labels):\n",
    "            id_db_target.append(\"Ignored - Potential non-core\")\n",
    "        elif missing_N == 3:\n",
    "            id_db_target.append(\"1 source\")\n",
    "        elif len(db_labels) == 1:\n",
    "            id_db_target.append(\"Identical\")\n",
    "        else:\n",
    "            id_db_target.append(\"Different\")\n",
    "\n",
    "    return pd.Series(id_db_target, index=ca_core_df.index)"
   ]
  },
  {
   "cell_type": "code",
   "execution_count": null,
   "metadata": {},
   "outputs": [],
   "source": [
    "def make_db_upsetplot(\n",
    "    df: pd.DataFrame, consensus_col: str, db_cols: List[str], title: str\n",
    ") -> upsetplot.UpSet:\n",
    "    \"\"\"Make an upsetplot of the sample presence in the different databases.\"\"\"\n",
    "    df = df.copy()\n",
    "\n",
    "    # Create a new DataFrame with boolean columns for each database\n",
    "    upset_df = pd.DataFrame()\n",
    "    for col in db_cols:\n",
    "        upset_df[col] = df[col] != \"----\"\n",
    "    upset_df[consensus_col] = df[consensus_col]\n",
    "\n",
    "    # Set the index for the UpSet plot\n",
    "    upset_df = upset_df.set_index(db_cols)\n",
    "\n",
    "    # Create the UpSet plot\n",
    "    upset = upsetplot.UpSet(\n",
    "        upset_df,\n",
    "        intersection_plot_elements=0,  # disable the default bar chart\n",
    "        sort_by=\"cardinality\",\n",
    "        show_counts=True,  # type: ignore\n",
    "        orientation=\"horizontal\",\n",
    "    )\n",
    "\n",
    "    # Add stacked bars\n",
    "    upset.add_stacked_bars(by=consensus_col, elements=15)\n",
    "\n",
    "    # Plot and set title\n",
    "    axes = upset.plot()\n",
    "    plt.suptitle(title)\n",
    "    axes[\"totals\"].set_title(\"Total\")\n",
    "    plt.legend(loc=\"center left\")\n",
    "    plt.show()\n",
    "    return upset"
   ]
  },
  {
   "cell_type": "code",
   "execution_count": null,
   "metadata": {},
   "outputs": [],
   "source": [
    "title = \"ChIP-Atlas core 7 samples presence in used DBs\\nTarget Consensus - No EpiAtlas overlap\"\n",
    "upset = make_db_upsetplot(\n",
    "    df=ca_core7_df, consensus_col=consensus_col, db_cols=DB_COLS, title=title\n",
    ")"
   ]
  },
  {
   "cell_type": "code",
   "execution_count": null,
   "metadata": {},
   "outputs": [],
   "source": [
    "title = \"ChIP-Atlas core 7 samples presence in used DBs\\nTarget Consensus - No EpiAtlas overlap\"\n",
    "new_df = ca_core7_df.copy()\n",
    "new_df[consensus_col].replace(\"Ignored - Potential non-core\", \"Different\", inplace=True)\n",
    "upset = make_db_upsetplot(\n",
    "    df=new_df, consensus_col=consensus_col, db_cols=DB_COLS, title=title\n",
    ")\n",
    "\n",
    "# fig_dir = base_fig_dir / \"fig_C-A\" / \"DB_upset\"\n",
    "# plt.savefig(fig_dir / \"upsetplot_DB_core7_samples_noEpiAtlas_merge_different.svg\", bbox_inches=\"tight\")"
   ]
  }
 ],
 "metadata": {
  "kernelspec": {
   "display_name": "epiclass",
   "language": "python",
   "name": "python3"
  },
  "language_info": {
   "codemirror_mode": {
    "name": "ipython",
    "version": 3
   },
   "file_extension": ".py",
   "mimetype": "text/x-python",
   "name": "python",
   "nbconvert_exporter": "python",
   "pygments_lexer": "ipython3",
   "version": "3.8.10"
  }
 },
 "nbformat": 4,
 "nbformat_minor": 2
}

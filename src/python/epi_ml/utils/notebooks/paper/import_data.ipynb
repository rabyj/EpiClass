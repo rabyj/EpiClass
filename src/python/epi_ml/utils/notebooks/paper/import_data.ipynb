{
 "cells": [
  {
   "cell_type": "code",
   "execution_count": null,
   "metadata": {},
   "outputs": [],
   "source": [
    "\"\"\"Notebook for code related to importing/downloading results from remote sources.\"\"\"\n",
    "# pylint: disable=import-error, redefined-outer-name, use-dict-literal, too-many-lines, too-many-branches"
   ]
  },
  {
   "cell_type": "code",
   "execution_count": null,
   "metadata": {},
   "outputs": [],
   "source": [
    "from __future__ import annotations\n",
    "\n",
    "import shutil\n",
    "from pathlib import Path"
   ]
  },
  {
   "cell_type": "code",
   "execution_count": null,
   "metadata": {},
   "outputs": [],
   "source": [
    "base_dir = Path.home() / \"Projects/epiclass/output/paper\"\n",
    "base_data_dir = base_dir / \"data\"\n",
    "base_fig_dir = base_dir / \"figures\""
   ]
  },
  {
   "cell_type": "code",
   "execution_count": null,
   "metadata": {},
   "outputs": [],
   "source": [
    "def copy_dfreeze_v1_NN_results():\n",
    "    \"\"\"Copy the results of the dfreeze-v1 NN runs to the local machine.\"\"\"\n",
    "    remote_base = Path.home() / \"mounts\" / \"narval-mount\"\n",
    "    remote_data_dir = (\n",
    "        remote_base\n",
    "        / \"projects/rrg-jacquesp-ab/rabyj/epiclass-project/output/epiclass-logs/2023-01-epiatlas-freeze/hg38_100kb_all_none\"\n",
    "    )\n",
    "\n",
    "    if not remote_data_dir.exists():\n",
    "        raise FileNotFoundError(f\"Directory {remote_data_dir} does not exist.\")\n",
    "\n",
    "    # Find general subfolders (one subfolder = one 10-fold training run)\n",
    "    exclude_dir = [\"epirr_correlation\", \"hdf5_stats\", \"no_input\"]\n",
    "    subfolders = set()\n",
    "    for folder in sorted(remote_data_dir.glob(\"*\")):\n",
    "        if folder.is_dir() and folder.name not in exclude_dir:\n",
    "            for subfolder in folder.glob(\"*\"):\n",
    "                if subfolder.is_dir():\n",
    "                    subfolders.add(subfolder)\n",
    "\n",
    "    # Ignore non-NN results and more\n",
    "    exclude_substrings = [\n",
    "        \"l1\",\n",
    "        \"no-valid\",\n",
    "        \"no_valid\",\n",
    "        \"dfreeze-v2\",\n",
    "        \"w-unknown\",\n",
    "        \"predict\",\n",
    "    ]\n",
    "    for subfolder in sorted(subfolders):\n",
    "        if any(substring in subfolder.name for substring in exclude_substrings):\n",
    "            subfolders.remove(subfolder)\n",
    "\n",
    "    # Specify and examine desired files\n",
    "    desired_files = [\"full-10fold-validation.csv\", \"output_job*.*\", \"launch_script_*.sh\"]\n",
    "    for subfolder in sorted(subfolders):\n",
    "        for item in desired_files:\n",
    "            items = list(subfolder.glob(item))\n",
    "\n",
    "            # Check for failed jobs files (in NN results), and overwritten results, to have it be clear where the results come from\n",
    "            # Using \"cat output_*.o | grep -E \"Split . training size\" | wc  -l\" for those subfolders to confirm if splits are unique\n",
    "            # if len(items) > 2 and \"predict\" not in str(subfolder):\n",
    "            #     print(f\"More than 2 items ({len(items)}) found in {subfolder}: {[item.name for item in items]}\")\n",
    "\n",
    "    output_dir = base_data_dir / \"dfreeze_v1\"\n",
    "\n",
    "    # Copying items to local\n",
    "    for subfolder in sorted(subfolders):\n",
    "        category_label = subfolder.parent.name.rstrip(\"_1l_3000n\")\n",
    "        category_output_dir = output_dir / category_label\n",
    "        category_output_dir.mkdir(exist_ok=True, parents=True)\n",
    "        for item in desired_files:\n",
    "            items = list(subfolder.glob(item))\n",
    "            new_dir = category_output_dir / subfolder.name\n",
    "            new_dir.mkdir(exist_ok=True, parents=True)\n",
    "            for item in items:\n",
    "                shutil.copy(item, new_dir)\n",
    "\n",
    "        # Get individual split results\n",
    "        split_results = list(subfolder.glob(\"split*/validation_prediction.csv\"))\n",
    "        for split_result in split_results:\n",
    "            new_dir = category_output_dir / subfolder.name / split_result.parent.name\n",
    "            new_dir.mkdir(exist_ok=True, parents=True)\n",
    "            shutil.copy(split_result, new_dir)"
   ]
  },
  {
   "cell_type": "markdown",
   "metadata": {},
   "source": [
    "Note: harmonized_sample_disease_high_1l_3000n had overwritten results for split7"
   ]
  }
 ],
 "metadata": {
  "language_info": {
   "name": "python"
  }
 },
 "nbformat": 4,
 "nbformat_minor": 2
}

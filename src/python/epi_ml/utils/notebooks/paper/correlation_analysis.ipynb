{
 "cells": [
  {
   "cell_type": "code",
   "execution_count": null,
   "metadata": {},
   "outputs": [],
   "source": [
    "\"\"\"Analysis of relation between predictions and correlation values.\"\"\"\n",
    "# pylint: disable=import-error, redefined-outer-name, use-dict-literal, too-many-lines"
   ]
  },
  {
   "cell_type": "code",
   "execution_count": null,
   "metadata": {},
   "outputs": [],
   "source": [
    "from __future__ import annotations\n",
    "\n",
    "from pathlib import Path\n",
    "\n",
    "import pandas as pd\n",
    "import plotly.graph_objects as go\n",
    "from IPython.display import display\n",
    "\n",
    "from epi_ml.utils.notebooks.paper.paper_utilities import (\n",
    "    ASSAY,\n",
    "    ASSAY_MERGE_DICT,\n",
    "    ASSAY_ORDER,\n",
    "    CELL_TYPE,\n",
    "    IHECColorMap,\n",
    "    MetadataHandler,\n",
    ")"
   ]
  },
  {
   "cell_type": "code",
   "execution_count": null,
   "metadata": {},
   "outputs": [],
   "source": [
    "base_dir = Path.home() / \"Projects/epiclass/output/paper\"\n",
    "base_data_dir = base_dir / \"data\"\n",
    "base_fig_dir = base_dir / \"figures\"\n",
    "paper_dir = base_dir\n",
    "\n",
    "if not base_fig_dir.exists():\n",
    "    raise FileNotFoundError(f\"Directory {base_fig_dir} does not exist.\")"
   ]
  },
  {
   "cell_type": "code",
   "execution_count": null,
   "metadata": {},
   "outputs": [],
   "source": [
    "metadata_handler = MetadataHandler(paper_dir)\n",
    "metadata = metadata_handler.load_metadata(\"v2\")\n",
    "metadata.convert_classes(ASSAY, ASSAY_MERGE_DICT)"
   ]
  },
  {
   "cell_type": "code",
   "execution_count": null,
   "metadata": {},
   "outputs": [],
   "source": [
    "IHECColorMap = IHECColorMap(base_fig_dir)\n",
    "assay_colors = IHECColorMap.assay_color_map"
   ]
  },
  {
   "cell_type": "markdown",
   "metadata": {},
   "source": [
    "## Read matrix, only keep EpiAtlas correlations + public sources mislabels"
   ]
  },
  {
   "cell_type": "code",
   "execution_count": null,
   "metadata": {},
   "outputs": [],
   "source": [
    "pred_dir = base_data_dir / \"training_results\" / \"predictions\"\n",
    "pred_file = pred_dir / \"mislabels_C-A&ENCODE_assay7.csv\"\n",
    "pred_df = pd.read_csv(pred_file)"
   ]
  },
  {
   "cell_type": "code",
   "execution_count": null,
   "metadata": {},
   "outputs": [],
   "source": [
    "# pred_df.columns[0:10]"
   ]
  },
  {
   "cell_type": "code",
   "execution_count": null,
   "metadata": {},
   "outputs": [],
   "source": [
    "min_pred = 0.6\n",
    "pred_df = pred_df[pred_df[\"Max_pred_assay7\"] >= min_pred]"
   ]
  },
  {
   "cell_type": "code",
   "execution_count": null,
   "metadata": {},
   "outputs": [],
   "source": [
    "matrix_file = pred_dir / \"mislabels_C-A&ENCODE_assay7_100kb_all_none_epiatlas.mat\"\n",
    "matrix_df = pd.read_csv(matrix_file, sep=\"\\t\", header=0, index_col=0, low_memory=False)"
   ]
  },
  {
   "cell_type": "code",
   "execution_count": null,
   "metadata": {},
   "outputs": [],
   "source": [
    "# Rename header and rows\n",
    "matrix_files = [col.split(\"_\")[0] for col in matrix_df.columns]\n",
    "matrix_df.columns = matrix_files\n",
    "\n",
    "matrix_df.index = [row.split(\"_\")[0] for row in matrix_df.index]  # type: ignore"
   ]
  },
  {
   "cell_type": "code",
   "execution_count": null,
   "metadata": {},
   "outputs": [],
   "source": [
    "# Drop non-epiatlas columns\n",
    "epiatlas_md5s = metadata.md5s\n",
    "matrix_df = matrix_df.drop(\n",
    "    columns=[col for col in matrix_df.columns if col not in epiatlas_md5s]\n",
    ")"
   ]
  },
  {
   "cell_type": "code",
   "execution_count": null,
   "metadata": {},
   "outputs": [],
   "source": [
    "# matrix_df.to_csv(\n",
    "#     pred_dir / \"mislabels_C-A&ENCODE_assay7_100kb_all_none_epiatlas.mat\", sep=\"\\t\"\n",
    "# )"
   ]
  },
  {
   "cell_type": "markdown",
   "metadata": {},
   "source": [
    "## Plot correlations violins per assay"
   ]
  },
  {
   "cell_type": "code",
   "execution_count": null,
   "metadata": {},
   "outputs": [],
   "source": [
    "output_dir = pred_dir / \"mislabel_correlation_graphs\"\n",
    "if not output_dir.exists():\n",
    "    raise FileNotFoundError(f\"Directory {output_dir} does not exist.\")"
   ]
  },
  {
   "cell_type": "code",
   "execution_count": null,
   "metadata": {},
   "outputs": [],
   "source": [
    "assay_md5s = metadata.md5_per_class(ASSAY)\n",
    "\n",
    "for sample, true_class, pred_val, pred_score in pred_df[\n",
    "    [\n",
    "        \"Experimental-id\",\n",
    "        \"manual_target_consensus\",\n",
    "        \"Predicted_class_assay7\",\n",
    "        \"Max_pred_assay7\",\n",
    "    ]\n",
    "].values.tolist():\n",
    "    if pred_val == \"input\" or true_class == \"input\":\n",
    "        continue\n",
    "    # if pred_score <= 0.8 or list(output_dir.glob(sample + \"*\")):\n",
    "    #     continue\n",
    "    if pred_score < 0.9 or pred_val != \"h3k27ac\":\n",
    "        continue\n",
    "\n",
    "    df_row = matrix_df.loc[sample]\n",
    "\n",
    "    fig = go.Figure()\n",
    "    for assay_label in ASSAY_ORDER:\n",
    "        md5s = assay_md5s[assay_label]\n",
    "        df = df_row.loc[md5s]\n",
    "\n",
    "        fig.add_trace(\n",
    "            go.Violin(\n",
    "                y=df.values.flatten(),\n",
    "                name=assay_label,\n",
    "                points=\"all\",\n",
    "                box_visible=True,\n",
    "                meanline_visible=True,\n",
    "                fillcolor=assay_colors[assay_label],\n",
    "                line_color=\"black\",\n",
    "                opacity=0.6,\n",
    "                marker=dict(size=2),\n",
    "                spanmode=\"hard\",\n",
    "            )\n",
    "        )\n",
    "\n",
    "    fig.update_layout(\n",
    "        title=f\"EpiAtlas correlations with {sample} (labeled {true_class}, predicted {pred_val}), pred_score={pred_score:.2f}\",\n",
    "        xaxis_title=\"Assay\",\n",
    "        yaxis_title=\"Correlation\",\n",
    "        showlegend=True,\n",
    "    )\n",
    "\n",
    "    name = f\"{sample}_label-{true_class}_pred-{pred_val}_score{pred_score:.2f}_correlation_violin\"\n",
    "\n",
    "    # print(f\"Saving {name}\")\n",
    "    # logdir = output_dir / \"all\"\n",
    "    # fig.write_html(logdir/ f\"{name}.html\")\n",
    "    # fig.write_image(logdir/ f\"{name}.png\")\n",
    "    # fig.write_image(logdir / f\"{name}.svg\")"
   ]
  },
  {
   "cell_type": "code",
   "execution_count": null,
   "metadata": {},
   "outputs": [],
   "source": [
    "for min_pred in [0.6, 0.8, 0.9]:\n",
    "    for pred_assay in ASSAY_ORDER:\n",
    "        if pred_assay[0:2] != \"h3\":\n",
    "            continue\n",
    "\n",
    "        # Filter mislabeled samples\n",
    "        mask_h3k27ac = pred_df[\"Predicted_class_assay7\"] == pred_assay\n",
    "        mask_label_input = pred_df[\"manual_target_consensus\"] == \"input\"\n",
    "\n",
    "        pred_score_mask = pred_df[\"Max_pred_assay7\"] >= min_pred\n",
    "        mislabel_samples = pred_df[mask_h3k27ac & ~mask_label_input & pred_score_mask]\n",
    "\n",
    "        # Expected class composition\n",
    "        manual_target_count = (\n",
    "            mislabel_samples[\"manual_target_consensus\"].value_counts().to_dict()\n",
    "        )\n",
    "        composition_text = \"<br>\".join(\n",
    "            [f\"{key}: {value}\" for key, value in manual_target_count.items()]\n",
    "        )\n",
    "\n",
    "        # Loop through each mislabeled sample\n",
    "        avg_correlations = {assay_label: [] for assay_label in ASSAY_ORDER}\n",
    "        sample_ids = {assay_label: [] for assay_label in ASSAY_ORDER}\n",
    "\n",
    "        for sample, true_class, pred_val, pred_score in mislabel_samples[\n",
    "            [\n",
    "                \"Experimental-id\",\n",
    "                \"manual_target_consensus\",\n",
    "                \"Predicted_class_assay7\",\n",
    "                \"Max_pred_assay7\",\n",
    "            ]\n",
    "        ].values.tolist():\n",
    "            # Get the correlation values for the sample\n",
    "            df_row = matrix_df.loc[sample]\n",
    "\n",
    "            # Loop through each assay\n",
    "            for assay_label in ASSAY_ORDER:\n",
    "                md5s = assay_md5s[assay_label]\n",
    "                df = df_row.loc[md5s]\n",
    "\n",
    "                # Calculate the average correlation for the current assay\n",
    "                avg_correlation = df.values.flatten().mean()\n",
    "\n",
    "                # Store the average correlation and the sample ID\n",
    "                avg_correlations[assay_label].append(avg_correlation)\n",
    "                sample_ids[assay_label].append(sample)\n",
    "\n",
    "        # Plot the average correlations using violin plots\n",
    "        fig = go.Figure()\n",
    "        for assay_label in ASSAY_ORDER:\n",
    "            fig.add_trace(\n",
    "                go.Violin(\n",
    "                    y=avg_correlations[assay_label],\n",
    "                    name=assay_label,\n",
    "                    points=\"all\",\n",
    "                    box_visible=True,\n",
    "                    meanline_visible=True,\n",
    "                    spanmode=\"hard\",\n",
    "                    fillcolor=assay_colors[assay_label],\n",
    "                    line_color=\"black\",\n",
    "                    opacity=0.6,\n",
    "                    marker=dict(size=2),\n",
    "                    hovertemplate=\"%{text}\",\n",
    "                    text=[\n",
    "                        f\"{sample}:{corr:.2f}\"\n",
    "                        for corr, sample in zip(\n",
    "                            avg_correlations[assay_label], sample_ids[assay_label]\n",
    "                        )\n",
    "                    ],\n",
    "                )\n",
    "            )\n",
    "\n",
    "        fig.update_layout(\n",
    "            title=f\"Average Correlation for Mislabels Predicted as {pred_assay} (pred_score >= {min_pred:.2f}) - 100kb resolution\",\n",
    "            xaxis_title=\"Assay\",\n",
    "            yaxis_title=\"Average Correlation\",\n",
    "            showlegend=True,\n",
    "        )\n",
    "\n",
    "        fig.update_layout(\n",
    "            annotations=[\n",
    "                go.layout.Annotation(\n",
    "                    text=f\"Expected class:<br>{composition_text}\",\n",
    "                    showarrow=False,\n",
    "                    xref=\"paper\",\n",
    "                    yref=\"paper\",\n",
    "                    x=1.15,\n",
    "                    y=0.20,\n",
    "                    xanchor=\"right\",\n",
    "                    yanchor=\"auto\",\n",
    "                    xshift=0,\n",
    "                    yshift=0,\n",
    "                    font=dict(size=10),\n",
    "                )\n",
    "            ]\n",
    "        )\n",
    "\n",
    "        # Save the figure\n",
    "        output_name = f\"average_correlation_mislabels_{pred_assay}_pred{min_pred:.2f}\"\n",
    "        fig.write_html(output_dir / f\"{output_name}.html\")\n",
    "        fig.write_image(output_dir / f\"{output_name}.png\")\n",
    "        fig.write_image(output_dir / f\"{output_name}.svg\")"
   ]
  }
 ],
 "metadata": {
  "kernelspec": {
   "display_name": "epiclass",
   "language": "python",
   "name": "python3"
  },
  "language_info": {
   "codemirror_mode": {
    "name": "ipython",
    "version": 3
   },
   "file_extension": ".py",
   "mimetype": "text/x-python",
   "name": "python",
   "nbconvert_exporter": "python",
   "pygments_lexer": "ipython3",
   "version": "3.8.10"
  }
 },
 "nbformat": 4,
 "nbformat_minor": 2
}

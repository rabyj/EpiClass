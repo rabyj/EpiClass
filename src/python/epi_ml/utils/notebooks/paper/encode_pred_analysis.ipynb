{
 "cells": [
  {
   "cell_type": "code",
   "execution_count": null,
   "metadata": {},
   "outputs": [],
   "source": [
    "\"\"\"Workbook to analyse encode predictions.\n",
    "\"\"\"\n",
    "# pylint: disable=import-error, redefined-outer-name, use-dict-literal, too-many-lines, too-many-branches"
   ]
  },
  {
   "cell_type": "markdown",
   "metadata": {},
   "source": [
    "## SETUP"
   ]
  },
  {
   "cell_type": "code",
   "execution_count": 2,
   "metadata": {},
   "outputs": [],
   "source": [
    "%load_ext autoreload\n",
    "%autoreload 2"
   ]
  },
  {
   "cell_type": "code",
   "execution_count": 3,
   "metadata": {},
   "outputs": [],
   "source": [
    "from __future__ import annotations\n",
    "\n",
    "import copy\n",
    "import functools\n",
    "import gc\n",
    "from pathlib import Path\n",
    "from typing import Dict, List, Tuple\n",
    "\n",
    "import matplotlib.pyplot as plt\n",
    "import numpy as np\n",
    "import pandas as pd\n",
    "import plotly.express as px\n",
    "import plotly.graph_objects as go\n",
    "from IPython.display import display\n",
    "from sklearn.metrics import confusion_matrix, f1_score\n",
    "\n",
    "from epi_ml.core.confusion_matrix import ConfusionMatrixWriter\n",
    "from epi_ml.utils.classification_merging_utils import merge_dataframes\n",
    "from epi_ml.utils.notebooks.paper.paper_utilities import (\n",
    "    ASSAY,\n",
    "    ASSAY_ORDER,\n",
    "    CELL_TYPE,\n",
    "    LIFE_STAGE,\n",
    "    SEX,\n",
    "    IHECColorMap,\n",
    "    MetadataHandler,\n",
    "    SplitResultsHandler,\n",
    "    set_file_id,\n",
    ")"
   ]
  },
  {
   "cell_type": "code",
   "execution_count": null,
   "metadata": {},
   "outputs": [],
   "source": [
    "CANCER = \"harmonized_sample_cancer_high\"\n",
    "BIOMAT = \"harmonized_biomaterial_type\"\n",
    "CORE_ASSAYS = ASSAY_ORDER[0:7]"
   ]
  },
  {
   "cell_type": "code",
   "execution_count": 5,
   "metadata": {},
   "outputs": [],
   "source": [
    "base_dir = Path.home() / \"Projects/epiclass/output/paper\"\n",
    "base_data_dir = base_dir / \"data\"\n",
    "base_fig_dir = base_dir / \"figures\"\n",
    "paper_dir = base_dir\n",
    "\n",
    "if not base_fig_dir.exists():\n",
    "    raise FileNotFoundError(f\"Directory {base_fig_dir} does not exist.\")"
   ]
  },
  {
   "cell_type": "code",
   "execution_count": 6,
   "metadata": {},
   "outputs": [],
   "source": [
    "metadata_handler = MetadataHandler(paper_dir)\n",
    "split_results_handler = SplitResultsHandler()"
   ]
  },
  {
   "cell_type": "code",
   "execution_count": 7,
   "metadata": {},
   "outputs": [],
   "source": [
    "IHECColorMap = IHECColorMap(base_fig_dir)\n",
    "assay_colors = IHECColorMap.assay_color_map"
   ]
  },
  {
   "cell_type": "code",
   "execution_count": 8,
   "metadata": {},
   "outputs": [],
   "source": [
    "encode_metadata_dir = base_data_dir / \"metadata\" / \"encode\""
   ]
  },
  {
   "cell_type": "code",
   "execution_count": 9,
   "metadata": {},
   "outputs": [],
   "source": [
    "encode_predictions_dir = base_data_dir / \"training_results\" / \"predictions\" / \"encode\""
   ]
  },
  {
   "cell_type": "code",
   "execution_count": 10,
   "metadata": {},
   "outputs": [],
   "source": [
    "for path in [encode_metadata_dir, encode_predictions_dir]:\n",
    "    if not path.exists():\n",
    "        raise FileNotFoundError(f\"Directory {path} does not exist.\")"
   ]
  },
  {
   "cell_type": "code",
   "execution_count": 11,
   "metadata": {},
   "outputs": [],
   "source": [
    "accepted_cts = [\n",
    "    \"T cell\",\n",
    "    \"neutrophil\",\n",
    "    \"brain\",\n",
    "    \"monocyte\",\n",
    "    \"lymphocyte of B lineage\",\n",
    "    \"myeloid cell\",\n",
    "    \"venous blood\",\n",
    "    \"macrophage\",\n",
    "    \"mesoderm-derived structure\",\n",
    "    \"endoderm-derived structure\",\n",
    "    \"colon\",\n",
    "    \"connective tissue cell\",\n",
    "    \"hepatocyte\",\n",
    "    \"mammary gland epithelial cell\",\n",
    "    \"muscle organ\",\n",
    "    \"extraembryonic cell\",\n",
    "]\n",
    "accepted_cts = [ct.lower() for ct in accepted_cts]"
   ]
  },
  {
   "cell_type": "markdown",
   "metadata": {},
   "source": [
    "### Get complete metadata\n",
    "\n",
    "Was created in `encode_metadata_creation.ipynb` using new web API downloads."
   ]
  },
  {
   "cell_type": "code",
   "execution_count": 12,
   "metadata": {},
   "outputs": [],
   "source": [
    "full_metadata_path = (\n",
    "    encode_metadata_dir / \"new_meta\" / \"encode_full_metadata_2025-02_no_revoked.csv\"\n",
    ")\n",
    "complete_metadata_df = pd.read_csv(full_metadata_path, low_memory=False)"
   ]
  },
  {
   "cell_type": "markdown",
   "metadata": {},
   "source": [
    "5 categories value counts"
   ]
  },
  {
   "cell_type": "code",
   "execution_count": 13,
   "metadata": {},
   "outputs": [
    {
     "name": "stdout",
     "output_type": "stream",
     "text": [
      "non-core    3593\n",
      "input       1981\n",
      "rna_seq     1188\n",
      "h3k4me3      705\n",
      "h3k27ac      623\n",
      "mrna_seq     604\n",
      "h3k27me3     585\n",
      "h3k4me1      556\n",
      "h3k36me3     554\n",
      "h3k9me3      536\n",
      "ctcf         468\n",
      "wgbs         252\n",
      "Name: assay_epiclass, dtype: int64 \n",
      "\n",
      "NaN                                  2559\n",
      "epithelial cell derived cell line    1886\n",
      "lymphoma or leukaemia cell line      1354\n",
      "cancer cell line                      797\n",
      "mesoderm-derived structure            764\n",
      "T cell                                480\n",
      "stem cell derived cell line           399\n",
      "digestive system                      339\n",
      "B cell derived cell line              298\n",
      "endoderm-derived structure            255\n",
      "colon                                 174\n",
      "brain                                 159\n",
      "connective tissue cell                152\n",
      "muscle organ                          148\n",
      "neural cell                           138\n",
      "pancreas                              116\n",
      "fibroblast derived cell line          114\n",
      "mucosa                                113\n",
      "lymphocyte of B lineage               107\n",
      "epithelium                             98\n",
      "liver                                  85\n",
      "keratinocyte                           83\n",
      "monocyte                               81\n",
      "embryonic cell (metazoa)               73\n",
      "meso-epithelial cell                   67\n",
      "muscle cell                            62\n",
      "placenta                               58\n",
      "nervous system                         55\n",
      "hematopoietic cell                     49\n",
      "lung                                   48\n",
      "natural killer cell                    46\n",
      "ovary                                  44\n",
      "mammary gland epithelial cell          43\n",
      "suprapubic skin                        42\n",
      "muscle precursor cell                  39\n",
      "peripheral blood mononuclear cell      34\n",
      "uterus                                 32\n",
      "extraembryonic cell                    31\n",
      "kidney                                 30\n",
      "testis                                 29\n",
      "neural progenitor cell                 28\n",
      "melanocyte                             24\n",
      "hepatocyte                             22\n",
      "trophoblast                            20\n",
      "KMS-11                                 16\n",
      "neutrophil                             13\n",
      "secretory cell                         10\n",
      "stem cell                              10\n",
      "kidney epithelial cell                  7\n",
      "endo-epithelial cell                    7\n",
      "erythroid lineage cell                  5\n",
      "mole                                    2\n",
      "Name: harmonized_sample_ontology_intermediate, dtype: int64 \n",
      "\n",
      "Column cell_type not found.\n",
      "NaN                                  2559\n",
      "epithelial cell derived cell line    1886\n",
      "lymphoma or leukaemia cell line      1354\n",
      "cancer cell line                      797\n",
      "mesoderm-derived structure            764\n",
      "T cell                                480\n",
      "stem cell derived cell line           399\n",
      "digestive system                      339\n",
      "B cell derived cell line              298\n",
      "endoderm-derived structure            255\n",
      "colon                                 174\n",
      "brain                                 159\n",
      "connective tissue cell                152\n",
      "muscle organ                          148\n",
      "neural cell                           138\n",
      "pancreas                              116\n",
      "fibroblast derived cell line          114\n",
      "mucosa                                113\n",
      "lymphocyte of B lineage               107\n",
      "epithelium                             98\n",
      "liver                                  85\n",
      "keratinocyte                           83\n",
      "monocyte                               81\n",
      "embryonic cell (metazoa)               73\n",
      "meso-epithelial cell                   67\n",
      "muscle cell                            62\n",
      "placenta                               58\n",
      "nervous system                         55\n",
      "hematopoietic cell                     49\n",
      "lung                                   48\n",
      "natural killer cell                    46\n",
      "ovary                                  44\n",
      "mammary gland epithelial cell          43\n",
      "suprapubic skin                        42\n",
      "muscle precursor cell                  39\n",
      "peripheral blood mononuclear cell      34\n",
      "uterus                                 32\n",
      "extraembryonic cell                    31\n",
      "kidney                                 30\n",
      "testis                                 29\n",
      "neural progenitor cell                 28\n",
      "melanocyte                             24\n",
      "hepatocyte                             22\n",
      "trophoblast                            20\n",
      "KMS-11                                 16\n",
      "neutrophil                             13\n",
      "secretory cell                         10\n",
      "stem cell                              10\n",
      "kidney epithelial cell                  7\n",
      "endo-epithelial cell                    7\n",
      "erythroid lineage cell                  5\n",
      "mole                                    2\n",
      "Name: epiclass_sample_ontology, dtype: int64 \n",
      "\n",
      "Column donor_life_stage not found.\n",
      "Column donor_sex not found.\n",
      "Column cancer_status not found.\n",
      "cell line         5537\n",
      "primary tissue    3611\n",
      "primary cell      1856\n",
      "other              600\n",
      "NaN                 41\n",
      "Name: harmonized_biomaterial_type, dtype: int64 \n",
      "\n"
     ]
    }
   ],
   "source": [
    "for cat in [\n",
    "    ASSAY,\n",
    "    CELL_TYPE,\n",
    "    \"cell_type\",\n",
    "    \"epiclass_sample_ontology\",\n",
    "    \"donor_life_stage\",\n",
    "    \"donor_sex\",\n",
    "    \"cancer_status\",\n",
    "    BIOMAT,\n",
    "]:\n",
    "    try:\n",
    "        print(complete_metadata_df[cat].value_counts(dropna=False), \"\\n\")\n",
    "    except KeyError:\n",
    "        print(f\"Column {cat} not found.\")"
   ]
  },
  {
   "cell_type": "code",
   "execution_count": 14,
   "metadata": {},
   "outputs": [],
   "source": [
    "if \"cancer_status\" not in complete_metadata_df.columns:\n",
    "    chip_path = (\n",
    "        encode_metadata_dir / \"old_meta\" / \"encode_metadata_2023-10-25_clean-v2.csv\"\n",
    "    )\n",
    "    chip_metadata_df = pd.read_csv(chip_path, low_memory=False)\n",
    "\n",
    "    cancer_status = chip_metadata_df[[\"md5sum\", \"cancer_status\"]]\n",
    "    complete_metadata_df = complete_metadata_df.merge(\n",
    "        cancer_status, how=\"left\", left_on=\"FILE_accession\", right_on=\"md5sum\"\n",
    "    )\n",
    "    complete_metadata_df.drop(columns=\"md5sum\", inplace=True)\n",
    "    del chip_metadata_df\n",
    "\n",
    "    gc.collect()"
   ]
  },
  {
   "cell_type": "markdown",
   "metadata": {},
   "source": [
    "### Merge all available predictions"
   ]
  },
  {
   "cell_type": "code",
   "execution_count": null,
   "metadata": {},
   "outputs": [
    {
     "name": "stdout",
     "output_type": "stream",
     "text": [
      "harmonized_biomaterial_type (9619, 7)\n",
      "harmonized_donor_life_stage (9619, 8)\n",
      "harmonized_sample_ontology_intermediate (9619, 19)\n",
      "assay_epiclass (9619, 14)\n",
      "harmonized_donor_sex (9619, 6)\n",
      "harmonized_sample_cancer_high (9619, 5)\n"
     ]
    }
   ],
   "source": [
    "chip_pred_dfs = {}\n",
    "nb_chip_files = 9619\n",
    "for folder in encode_predictions_dir.glob(\"*1l_3000n\"):\n",
    "    if not folder.is_dir():\n",
    "        continue\n",
    "    cat = folder.name.split(\"_1l_3000n\")[0]  # [category]_1l_3000n\n",
    "    pred_file = list(folder.rglob(\"complete_no_valid_oversample*chip.csv\"))[0]\n",
    "    encode_df = pd.read_csv(pred_file)\n",
    "    encode_df = set_file_id(encode_df)\n",
    "    chip_pred_dfs[cat] = encode_df\n",
    "    print(cat, encode_df.shape)\n",
    "    assert encode_df.shape[0] == nb_chip_files\n",
    "\n",
    "if len(chip_pred_dfs) != 6:\n",
    "    raise ValueError(f\"{len(chip_pred_dfs)} != 6\")"
   ]
  },
  {
   "cell_type": "code",
   "execution_count": 17,
   "metadata": {},
   "outputs": [
    {
     "name": "stdout",
     "output_type": "stream",
     "text": [
      "harmonized_biomaterial_type (1790, 7)\n",
      "harmonized_donor_life_stage (1790, 8)\n",
      "harmonized_sample_ontology_intermediate (1790, 19)\n",
      "assay_epiclass (1790, 14)\n",
      "harmonized_donor_sex (1790, 6)\n",
      "harmonized_sample_cancer_high (1790, 5)\n"
     ]
    }
   ],
   "source": [
    "pred_dfs_rna = {}\n",
    "nb_rna_files = 1790\n",
    "for folder in encode_predictions_dir.glob(\"*1l_3000n\"):\n",
    "    if not folder.is_dir():\n",
    "        continue\n",
    "    cat = folder.name.split(\"_1l_3000n\")[0]  # [category]_1l_3000n\n",
    "    pred_file = list(folder.rglob(\"complete_no_valid_oversample*rna.csv\"))[0]\n",
    "    encode_df = pd.read_csv(pred_file)\n",
    "    encode_df = set_file_id(encode_df)\n",
    "    pred_dfs_rna[cat] = encode_df\n",
    "    print(cat, encode_df.shape)\n",
    "    assert encode_df.shape[0] == nb_rna_files\n",
    "\n",
    "if len(pred_dfs_rna) != 6:\n",
    "    raise ValueError(f\"{len(pred_dfs_rna)} != 6\")"
   ]
  },
  {
   "cell_type": "code",
   "execution_count": 18,
   "metadata": {},
   "outputs": [
    {
     "name": "stdout",
     "output_type": "stream",
     "text": [
      "harmonized_biomaterial_type (252, 7)\n",
      "harmonized_donor_life_stage (252, 8)\n",
      "harmonized_sample_ontology_intermediate (252, 19)\n",
      "assay_epiclass (252, 14)\n",
      "harmonized_donor_sex (252, 6)\n",
      "harmonized_sample_cancer_high (252, 5)\n"
     ]
    }
   ],
   "source": [
    "pred_dfs_wgb = {}\n",
    "nb_wgb_files = 252\n",
    "for folder in encode_predictions_dir.glob(\"*1l_3000n\"):\n",
    "    if not folder.is_dir():\n",
    "        continue\n",
    "    cat = folder.name.split(\"_1l_3000n\")[0]  # [category]_1l_3000n\n",
    "    pred_file = list(folder.rglob(\"complete_no_valid_oversample*wgbs.csv\"))[0]\n",
    "    encode_df = pd.read_csv(pred_file)\n",
    "    encode_df = set_file_id(encode_df)\n",
    "    pred_dfs_wgb[cat] = encode_df\n",
    "    print(cat, encode_df.shape)\n",
    "    assert encode_df.shape[0] == nb_wgb_files\n",
    "\n",
    "if len(pred_dfs_wgb) != 6:\n",
    "    raise ValueError(f\"{len(pred_dfs_wgb)} != 6\")"
   ]
  },
  {
   "cell_type": "code",
   "execution_count": 19,
   "metadata": {},
   "outputs": [],
   "source": [
    "for pred_dfs in [chip_pred_dfs, pred_dfs_rna, pred_dfs_wgb]:\n",
    "    pred_dfs[f\"{ASSAY}_11c\"] = pred_dfs[ASSAY]\n",
    "    del pred_dfs[ASSAY]"
   ]
  },
  {
   "cell_type": "code",
   "execution_count": 20,
   "metadata": {},
   "outputs": [],
   "source": [
    "concat_pred_dfs = {}\n",
    "for category in [f\"{ASSAY}_11c\", CELL_TYPE, SEX, LIFE_STAGE, CANCER, BIOMAT]:\n",
    "    concat_pred_dfs[category] = pd.concat(\n",
    "        [\n",
    "            chip_pred_dfs[category],\n",
    "            pred_dfs_rna[category],\n",
    "            pred_dfs_wgb[category],\n",
    "        ]\n",
    "    )"
   ]
  },
  {
   "cell_type": "code",
   "execution_count": 21,
   "metadata": {},
   "outputs": [],
   "source": [
    "assay_7c_path = list(\n",
    "    (encode_predictions_dir / \"assay_epiclass_1l_3000n\" / \"7c\").glob(\n",
    "        \"**/complete_no_valid_oversample*.csv\"\n",
    "    )\n",
    ")\n",
    "assert len(assay_7c_path) == 1\n",
    "assay_7c_df = pd.read_csv(assay_7c_path[0])\n",
    "assay_7c_df = set_file_id(assay_7c_df)"
   ]
  },
  {
   "cell_type": "code",
   "execution_count": null,
   "metadata": {},
   "outputs": [],
   "source": [
    "concat_pred_dfs[f\"{ASSAY}_7c\"] = assay_7c_df"
   ]
  },
  {
   "cell_type": "code",
   "execution_count": 23,
   "metadata": {},
   "outputs": [],
   "source": [
    "same_col_names = 2\n",
    "# Make all different columns have unique relevant names except for the pred vector\n",
    "for cat, df in concat_pred_dfs.items():\n",
    "    try:\n",
    "        df.drop(columns=[\"Same?\"], inplace=True)\n",
    "    except KeyError:\n",
    "        pass\n",
    "\n",
    "    df.insert(3, \"Max pred\", value=df.iloc[:, 1 + same_col_names :].max(axis=1))\n",
    "\n",
    "    if cat in [f\"{ASSAY}_11c\", f\"{ASSAY}_7c\"]:\n",
    "        old_names = df.columns[1:]\n",
    "    else:\n",
    "        old_names = df.columns[1 : 2 + same_col_names]\n",
    "\n",
    "    new_names = [f\"{old_name} ({cat})\" for old_name in old_names]\n",
    "    df.rename(columns=dict(zip(old_names, new_names)), inplace=True)\n",
    "\n",
    "    df.set_index(\"md5sum\", inplace=True)\n",
    "\n",
    "    concat_pred_dfs[cat] = df"
   ]
  },
  {
   "cell_type": "code",
   "execution_count": 24,
   "metadata": {},
   "outputs": [],
   "source": [
    "df_order = [f\"{ASSAY}_7c\", f\"{ASSAY}_11c\", CELL_TYPE, SEX, LIFE_STAGE, CANCER, BIOMAT]\n",
    "df_list = [concat_pred_dfs[cat] for cat in df_order]\n",
    "full_merged_df = functools.reduce(merge_dataframes, df_list)"
   ]
  },
  {
   "cell_type": "code",
   "execution_count": 25,
   "metadata": {},
   "outputs": [],
   "source": [
    "preds_plus_metadata_df: pd.DataFrame = full_merged_df.merge(\n",
    "    complete_metadata_df,\n",
    "    left_index=True,\n",
    "    right_on=\"FILE_accession\",\n",
    "    how=\"left\",\n",
    "    suffixes=(\"\", \"_delete\"),\n",
    ")\n",
    "\n",
    "for col in preds_plus_metadata_df.columns:\n",
    "    if col.endswith(\"_delete\"):\n",
    "        print(col)\n",
    "        preds_plus_metadata_df.drop(columns=col, inplace=True)"
   ]
  },
  {
   "cell_type": "code",
   "execution_count": 26,
   "metadata": {},
   "outputs": [],
   "source": [
    "assert isinstance(preds_plus_metadata_df, pd.DataFrame)  # pylance being weird\n",
    "\n",
    "meta_col_order = [\n",
    "    col for col in complete_metadata_df.columns if col in preds_plus_metadata_df.columns\n",
    "]\n",
    "results_col_order = [\n",
    "    col for col in full_merged_df.columns if col in preds_plus_metadata_df.columns\n",
    "]\n",
    "\n",
    "new_order = results_col_order + meta_col_order\n",
    "preds_plus_metadata_df = preds_plus_metadata_df.loc[:, new_order]"
   ]
  },
  {
   "cell_type": "code",
   "execution_count": 27,
   "metadata": {},
   "outputs": [
    {
     "name": "stdout",
     "output_type": "stream",
     "text": [
      "True class (harmonized_donor_sex) harmonized_donor_sex\n",
      "True class (harmonized_donor_life_stage) harmonized_donor_life_stage\n",
      "True class (harmonized_sample_cancer_high) cancer_status\n",
      "True class (harmonized_sample_ontology_intermediate) epiclass_sample_ontology\n",
      "True class (harmonized_biomaterial_type) harmonized_biomaterial_type\n"
     ]
    }
   ],
   "source": [
    "for pairs in [\n",
    "    (SEX, SEX),\n",
    "    (LIFE_STAGE, LIFE_STAGE),\n",
    "    (CANCER, \"cancer_status\"),\n",
    "    (CELL_TYPE, \"epiclass_sample_ontology\"),\n",
    "    (BIOMAT, BIOMAT),\n",
    "]:\n",
    "    name1 = f\"True class ({pairs[0]})\"\n",
    "    name2 = pairs[1]\n",
    "    print(name1, name2)\n",
    "    preds_plus_metadata_df[name1] = preds_plus_metadata_df[name2]\n",
    "    preds_plus_metadata_df[pairs[0]] = preds_plus_metadata_df[pairs[1]]"
   ]
  },
  {
   "cell_type": "code",
   "execution_count": 28,
   "metadata": {},
   "outputs": [],
   "source": [
    "preds_plus_metadata_df[f\"True class ({ASSAY}_7c)\"] = preds_plus_metadata_df[ASSAY]\n",
    "preds_plus_metadata_df[f\"True class ({ASSAY}_11c)\"] = preds_plus_metadata_df[ASSAY]"
   ]
  },
  {
   "cell_type": "markdown",
   "metadata": {},
   "source": [
    "Removing revoked files (no available metadata)"
   ]
  },
  {
   "cell_type": "code",
   "execution_count": 29,
   "metadata": {},
   "outputs": [],
   "source": [
    "preds_plus_metadata_df = preds_plus_metadata_df[\n",
    "    ~preds_plus_metadata_df[\"in_epiatlas\"].isna()\n",
    "]"
   ]
  },
  {
   "cell_type": "code",
   "execution_count": 30,
   "metadata": {},
   "outputs": [],
   "source": [
    "logdir = base_data_dir / \"training_results\" / \"predictions\" / \"encode\"\n",
    "preds_plus_metadata_df.to_csv(\n",
    "    logdir / \"complete_encode_predictions_augmented_2025-02_metadata.csv\", index=False\n",
    ")"
   ]
  },
  {
   "cell_type": "markdown",
   "metadata": {},
   "source": [
    "Remove datasets overlapping with EpiATLAS"
   ]
  },
  {
   "cell_type": "code",
   "execution_count": 31,
   "metadata": {},
   "outputs": [],
   "source": [
    "all_preds_no_epiatlas = preds_plus_metadata_df[\n",
    "    ~preds_plus_metadata_df[\"in_epiatlas\"].astype(bool)\n",
    "]"
   ]
  },
  {
   "cell_type": "code",
   "execution_count": 32,
   "metadata": {},
   "outputs": [
    {
     "name": "stdout",
     "output_type": "stream",
     "text": [
      "(8777, 276)\n"
     ]
    },
    {
     "data": {
      "text/plain": [
       "non-core    3593\n",
       "input       1284\n",
       "rna_seq      948\n",
       "mrna_seq     604\n",
       "ctcf         468\n",
       "h3k4me3      379\n",
       "h3k27ac      366\n",
       "h3k27me3     294\n",
       "h3k4me1      257\n",
       "h3k36me3     245\n",
       "h3k9me3      241\n",
       "wgbs          98\n",
       "Name: assay_epiclass, dtype: int64"
      ]
     },
     "metadata": {},
     "output_type": "display_data"
    }
   ],
   "source": [
    "print(all_preds_no_epiatlas.shape)\n",
    "display(all_preds_no_epiatlas[ASSAY].value_counts(dropna=False))"
   ]
  },
  {
   "cell_type": "markdown",
   "metadata": {},
   "source": [
    "## Cell type metrics"
   ]
  },
  {
   "cell_type": "code",
   "execution_count": 33,
   "metadata": {},
   "outputs": [],
   "source": [
    "# Only keep the predictions for the 16 cell types\n",
    "accepted_cts = [\n",
    "    \"T cell\",\n",
    "    \"neutrophil\",\n",
    "    \"brain\",\n",
    "    \"monocyte\",\n",
    "    \"lymphocyte of B lineage\",\n",
    "    \"myeloid cell\",\n",
    "    \"venous blood\",\n",
    "    \"macrophage\",\n",
    "    \"mesoderm-derived structure\",\n",
    "    \"endoderm-derived structure\",\n",
    "    \"colon\",\n",
    "    \"connective tissue cell\",\n",
    "    \"hepatocyte\",\n",
    "    \"mammary gland epithelial cell\",\n",
    "    \"muscle organ\",\n",
    "    \"extraembryonic cell\",\n",
    "]\n",
    "accepted_cts = [ct.lower() for ct in accepted_cts]"
   ]
  },
  {
   "cell_type": "code",
   "execution_count": 34,
   "metadata": {},
   "outputs": [],
   "source": [
    "def compute_metrics(\n",
    "    df: pd.DataFrame, cat_label: str | None = None, min_pred: float | None = None\n",
    ") -> Tuple[float, float, int]:\n",
    "    \"\"\"Compute the accuracy and f1 of the predictions.\n",
    "\n",
    "    If min_pred is not None, only consider predictions with a score\n",
    "    greater than or equal to min_pred.\n",
    "\n",
    "    If min_pred is higher than the maximum prediction score in the\n",
    "    DataFrame, return 0.0, 0.0, 0\n",
    "\n",
    "    Args:\n",
    "        df: DataFrame containing the predictions and true classes.\n",
    "        cat_label: Label for the category being evaluated, for\n",
    "        labels of the form \"True class (category)\".\n",
    "        min_pred: Minimum prediction score to consider.\n",
    "\n",
    "    Returns:\n",
    "        Tuple of accuracy, f1 and number of samples.\n",
    "    \"\"\"\n",
    "\n",
    "    true_label = \"True class\"\n",
    "    pred_label = \"Predicted class\"\n",
    "    max_pred_label = \"Max pred\"\n",
    "    if cat_label:\n",
    "        true_label = f\"{true_label} ({cat_label})\"\n",
    "        pred_label = f\"{pred_label} ({cat_label})\"\n",
    "        max_pred_label = f\"{max_pred_label} ({cat_label})\"\n",
    "\n",
    "    sub_df = df.copy()\n",
    "    if min_pred:\n",
    "        try:\n",
    "            sub_df = sub_df[sub_df[max_pred_label] >= min_pred]\n",
    "        except KeyError as err:\n",
    "            raise KeyError(\n",
    "                f\"Column '{max_pred_label}' not found in DataFrame and min_pred is not None.\"\n",
    "            ) from err\n",
    "\n",
    "    if sub_df.shape[0] == 0:\n",
    "        return 0.0, 0.0, 0\n",
    "\n",
    "    y_true = sub_df[true_label]\n",
    "    y_pred = sub_df[pred_label]\n",
    "\n",
    "    acc = (y_true == y_pred).mean()\n",
    "\n",
    "    f1: float = f1_score(  # type: ignore\n",
    "        y_true,\n",
    "        y_pred,\n",
    "        labels=y_pred.unique(),\n",
    "        average=\"macro\",\n",
    "    )\n",
    "    return acc, f1, sub_df.shape[0]"
   ]
  },
  {
   "cell_type": "code",
   "execution_count": 35,
   "metadata": {},
   "outputs": [
    {
     "name": "stdout",
     "output_type": "stream",
     "text": [
      "(1842, 276)\n"
     ]
    }
   ],
   "source": [
    "cell_type_df = preds_plus_metadata_df.copy(deep=True)\n",
    "cell_type_df = cell_type_df[cell_type_df[CELL_TYPE].isin(accepted_cts)]\n",
    "print(cell_type_df.shape)"
   ]
  },
  {
   "cell_type": "code",
   "execution_count": 36,
   "metadata": {},
   "outputs": [
    {
     "data": {
      "text/plain": [
       "mesoderm-derived structure       764\n",
       "endoderm-derived structure       255\n",
       "colon                            174\n",
       "brain                            159\n",
       "connective tissue cell           152\n",
       "muscle organ                     148\n",
       "monocyte                          81\n",
       "mammary gland epithelial cell     43\n",
       "extraembryonic cell               31\n",
       "hepatocyte                        22\n",
       "neutrophil                        13\n",
       "Name: harmonized_sample_ontology_intermediate, dtype: int64"
      ]
     },
     "execution_count": 36,
     "metadata": {},
     "output_type": "execute_result"
    }
   ],
   "source": [
    "cell_type_df[CELL_TYPE].value_counts(dropna=False)"
   ]
  },
  {
   "cell_type": "code",
   "execution_count": 37,
   "metadata": {},
   "outputs": [],
   "source": [
    "core_assays = ASSAY_ORDER + [\"mrna_seq\"]\n",
    "cell_type_core_df = cell_type_df[cell_type_df[ASSAY].isin(core_assays)]\n",
    "cell_type_noncore_df = cell_type_df[~cell_type_df[ASSAY].isin(core_assays)]"
   ]
  },
  {
   "cell_type": "code",
   "execution_count": 38,
   "metadata": {},
   "outputs": [
    {
     "name": "stdout",
     "output_type": "stream",
     "text": [
      "(1580, 276)\n"
     ]
    },
    {
     "data": {
      "text/plain": [
       "mesoderm-derived structure       685\n",
       "endoderm-derived structure       215\n",
       "brain                            149\n",
       "colon                            141\n",
       "muscle organ                     137\n",
       "connective tissue cell           105\n",
       "monocyte                          73\n",
       "mammary gland epithelial cell     35\n",
       "extraembryonic cell               15\n",
       "hepatocyte                        13\n",
       "neutrophil                        12\n",
       "Name: harmonized_sample_ontology_intermediate, dtype: int64"
      ]
     },
     "metadata": {},
     "output_type": "display_data"
    },
    {
     "data": {
      "text/plain": [
       "input       281\n",
       "rna_seq     192\n",
       "h3k4me3     164\n",
       "h3k4me1     153\n",
       "h3k36me3    152\n",
       "h3k9me3     146\n",
       "h3k27ac     142\n",
       "h3k27me3    138\n",
       "mrna_seq    128\n",
       "wgbs         84\n",
       "Name: assay, dtype: int64"
      ]
     },
     "metadata": {},
     "output_type": "display_data"
    },
    {
     "name": "stdout",
     "output_type": "stream",
     "text": [
      "(262, 276)\n"
     ]
    },
    {
     "data": {
      "text/plain": [
       "mesoderm-derived structure       79\n",
       "connective tissue cell           47\n",
       "endoderm-derived structure       40\n",
       "colon                            33\n",
       "extraembryonic cell              16\n",
       "muscle organ                     11\n",
       "brain                            10\n",
       "hepatocyte                        9\n",
       "monocyte                          8\n",
       "mammary gland epithelial cell     8\n",
       "neutrophil                        1\n",
       "Name: harmonized_sample_ontology_intermediate, dtype: int64"
      ]
     },
     "metadata": {},
     "output_type": "display_data"
    },
    {
     "data": {
      "text/plain": [
       "ctcf               116\n",
       "polr2a              29\n",
       "h3k9ac              26\n",
       "polr2aphosphos5     16\n",
       "h3k4me2              9\n",
       "ep300                9\n",
       "h2afz                8\n",
       "h3k79me2             7\n",
       "h4k20me1             6\n",
       "ezh2                 4\n",
       "h2bk12ac             3\n",
       "h3k14ac              3\n",
       "h3k18ac              3\n",
       "h3k4ac               3\n",
       "h3k23ac              3\n",
       "h4k8ac               3\n",
       "h3k79me1             2\n",
       "h2bk120ac            2\n",
       "h4k91ac              2\n",
       "h2bk5ac              2\n",
       "h2ak5ac              2\n",
       "ezh2phosphot487      1\n",
       "h2bk15ac             1\n",
       "h3k9me2              1\n",
       "h4k12ac              1\n",
       "Name: assay, dtype: int64"
      ]
     },
     "metadata": {},
     "output_type": "display_data"
    }
   ],
   "source": [
    "for df in [cell_type_core_df, cell_type_noncore_df]:\n",
    "    print(df.shape)\n",
    "    N = df.shape[0]\n",
    "    display(df[CELL_TYPE].value_counts(dropna=False))\n",
    "    display(df[\"assay\"].value_counts(dropna=False))"
   ]
  },
  {
   "cell_type": "code",
   "execution_count": 39,
   "metadata": {},
   "outputs": [
    {
     "name": "stdout",
     "output_type": "stream",
     "text": [
      "core\n",
      "Min pred: 0, N: 1580 (100.00%), Acc: 0.873, F1: 0.564\n",
      "Min pred: 0.6, N: 1292 (81.77%), Acc: 0.966, F1: 0.836\n",
      "Min pred: 0.8, N: 1155 (73.10%), Acc: 0.973, F1: 0.921\n",
      "Min pred: 0.9, N: 998 (63.16%), Acc: 0.979, F1: 0.921\n",
      "\n",
      "noncore\n",
      "Min pred: 0, N: 262 (100.00%), Acc: 0.851, F1: 0.657\n",
      "Min pred: 0.6, N: 173 (66.03%), Acc: 0.971, F1: 0.877\n",
      "Min pred: 0.8, N: 130 (49.62%), Acc: 0.992, F1: 0.967\n",
      "Min pred: 0.9, N: 107 (40.84%), Acc: 1.000, F1: 1.000\n",
      "\n"
     ]
    }
   ],
   "source": [
    "for df, name in zip([cell_type_core_df, cell_type_noncore_df], [\"core\", \"noncore\"]):\n",
    "    print(name)\n",
    "    full_N = df.shape[0]\n",
    "    for min_pred in [0, 0.6, 0.8, 0.9]:\n",
    "        acc, f1, N = compute_metrics(df, CELL_TYPE, min_pred)\n",
    "        print(\n",
    "            f\"Min pred: {min_pred}, N: {N} ({N/full_N:.2%}), Acc: {acc:.3f}, F1: {f1:.3f}\"\n",
    "        )\n",
    "    print()"
   ]
  },
  {
   "cell_type": "markdown",
   "metadata": {},
   "source": [
    "### Other cell type trainings metrics\n",
    "\n",
    "Includes cell type classifiers trained with single assays. (e.g. only h3k4me1 files)"
   ]
  },
  {
   "cell_type": "code",
   "execution_count": 40,
   "metadata": {},
   "outputs": [],
   "source": [
    "pred_folder = (\n",
    "    base_data_dir\n",
    "    / f\"training_results/dfreeze_v2/hg38_100kb_all_none/{CELL_TYPE}_1l_3000n/complete-no_valid-oversampling\"\n",
    ")\n",
    "if not pred_folder.exists():\n",
    "    raise FileNotFoundError(f\"Directory {pred_folder} does not exist.\")"
   ]
  },
  {
   "cell_type": "code",
   "execution_count": 41,
   "metadata": {},
   "outputs": [],
   "source": [
    "other_ct_dfs = {}\n",
    "for folder in pred_folder.glob(\"*\"):\n",
    "    if not folder.is_dir():\n",
    "        print(f\"Skipping {folder}\")\n",
    "        continue\n",
    "    pred_file = list(folder.glob(\"predictions/*.csv\"))\n",
    "\n",
    "    if len(pred_file) > 1:\n",
    "        print(f\"More than one prediction file found in {folder}\")\n",
    "        continue\n",
    "\n",
    "    if len(pred_file) == 0:\n",
    "        print(f\"No prediction file found in {folder}\")\n",
    "        continue\n",
    "\n",
    "    pred_file = pred_file[0]\n",
    "\n",
    "    pred_df = pd.read_csv(pred_file)\n",
    "    name = folder.name.replace(\"complete_no_valid_oversample_\", \"\")\n",
    "\n",
    "    for col in [\"True class\", \"Predicted class\"]:\n",
    "        pred_df[col] = pred_df[col].str.lower()\n",
    "\n",
    "    other_ct_dfs[name] = pred_df"
   ]
  },
  {
   "cell_type": "code",
   "execution_count": 42,
   "metadata": {},
   "outputs": [
    {
     "data": {
      "text/plain": [
       "dict_keys(['h3k4me3_only', 'assay11-ct16', 'h3k9me3_only', 'h3k36me3_only', 'assay7-ct16', 'h3k27ac_only', 'input_only', 'h3k27me3_only', 'h3k4me1_only', 'assay7-ct19'])"
      ]
     },
     "execution_count": 42,
     "metadata": {},
     "output_type": "execute_result"
    }
   ],
   "source": [
    "other_ct_dfs.keys()"
   ]
  },
  {
   "cell_type": "code",
   "execution_count": 43,
   "metadata": {},
   "outputs": [],
   "source": [
    "def compute_cell_type_acc(\n",
    "    metadata_df: pd.DataFrame,\n",
    "    pred_dfs_dict: Dict[str, pd.DataFrame],\n",
    "    min_pred: float = 0.6,\n",
    ") -> None:\n",
    "    \"\"\"Compute the accuracy of the predictions for the 16 cell types.\n",
    "    Inner meger of the metadata and predictions is performed.\n",
    "    \"\"\"\n",
    "    meta_df = metadata_df[metadata_df[CELL_TYPE].isin(accepted_cts)].copy()\n",
    "\n",
    "    # print(\"Assay counts for 16 cell types\")\n",
    "    # values_count = meta_df[\"Assay\"].value_counts(dropna=False)\n",
    "    # display(values_count)\n",
    "    # display_perc(values_count / values_count.sum() * 100)\n",
    "\n",
    "    # print(\"Cell types distribution\")\n",
    "    # values_count = meta_df[CELL_TYPE].value_counts(dropna=False)\n",
    "    # display(values_count)\n",
    "    # display_perc(values_count / values_count.sum() * 100)\n",
    "\n",
    "    for name, pred_df in sorted(pred_dfs_dict.items()):\n",
    "        print(name)\n",
    "        pred_w_ct = pred_df.merge(\n",
    "            meta_df, left_on=\"md5sum\", right_on=\"FILE_accession\", how=\"inner\"\n",
    "        )\n",
    "        N = pred_w_ct.shape[0]\n",
    "\n",
    "        # Calculate results for all predictions\n",
    "        true, pred = pred_w_ct[CELL_TYPE], pred_w_ct[\"Predicted class\"]\n",
    "\n",
    "        total_correct = (true == pred).sum()\n",
    "        acc = total_correct / N\n",
    "        f1 = f1_score(true, pred, labels=pred.unique(), average=\"macro\")\n",
    "\n",
    "        print(f\"Acc (pred>0.0): {total_correct}/{N} ({acc:.2%})\")\n",
    "        print(f\"F1 (pred>0.0): {f1:.2f}\")\n",
    "\n",
    "        # Calculate results for predictions with max_pred\n",
    "        pred_w_ct_filtered = pred_w_ct[pred_w_ct[\"Max pred\"] > min_pred]\n",
    "        true, pred = pred_w_ct_filtered[CELL_TYPE], pred_w_ct_filtered[\"Predicted class\"]\n",
    "\n",
    "        total_correct_filtered = (true == pred).sum()\n",
    "        perc_filtered = total_correct_filtered / pred_w_ct_filtered.shape[0]\n",
    "\n",
    "        f1 = f1_score(true, pred, labels=pred.unique(), average=\"macro\")\n",
    "\n",
    "        print(\n",
    "            f\"Acc (pred>{min_pred:.1f}): {total_correct_filtered}/{pred_w_ct_filtered.shape[0]} ({perc_filtered:.2%})\"\n",
    "        )\n",
    "        diff = N - pred_w_ct_filtered.shape[0]\n",
    "        print(f\"F1 (pred>{min_pred}): {f1:.2f}\")\n",
    "        print(f\"Samples ignored at {min_pred:.1f}: {diff} ({diff/N:.2%})\\n\")"
   ]
  },
  {
   "cell_type": "code",
   "execution_count": 44,
   "metadata": {},
   "outputs": [
    {
     "name": "stdout",
     "output_type": "stream",
     "text": [
      "assay11-ct16\n",
      "Acc (pred>0.0): 223/262 (85.11%)\n",
      "F1 (pred>0.0): 0.66\n",
      "Acc (pred>0.6): 168/173 (97.11%)\n",
      "F1 (pred>0.6): 0.88\n",
      "Samples ignored at 0.6: 89 (33.97%)\n",
      "\n",
      "assay7-ct16\n",
      "Acc (pred>0.0): 199/262 (75.95%)\n",
      "F1 (pred>0.0): 0.56\n",
      "Acc (pred>0.6): 173/185 (93.51%)\n",
      "F1 (pred>0.6): 0.93\n",
      "Samples ignored at 0.6: 77 (29.39%)\n",
      "\n",
      "assay7-ct19\n",
      "Acc (pred>0.0): 134/262 (51.15%)\n",
      "F1 (pred>0.0): 0.49\n",
      "Acc (pred>0.6): 105/176 (59.66%)\n",
      "F1 (pred>0.6): 0.66\n",
      "Samples ignored at 0.6: 86 (32.82%)\n",
      "\n",
      "h3k27ac_only\n",
      "Acc (pred>0.0): 169/262 (64.50%)\n",
      "F1 (pred>0.0): 0.48\n",
      "Acc (pred>0.6): 85/90 (94.44%)\n",
      "F1 (pred>0.6): 0.93\n",
      "Samples ignored at 0.6: 172 (65.65%)\n",
      "\n",
      "h3k27me3_only\n",
      "Acc (pred>0.0): 34/262 (12.98%)\n",
      "F1 (pred>0.0): 0.04\n",
      "Acc (pred>0.6): 17/143 (11.89%)\n",
      "F1 (pred>0.6): 0.10\n",
      "Samples ignored at 0.6: 119 (45.42%)\n",
      "\n",
      "h3k36me3_only\n",
      "Acc (pred>0.0): 170/262 (64.89%)\n",
      "F1 (pred>0.0): 0.49\n",
      "Acc (pred>0.6): 66/75 (88.00%)\n",
      "F1 (pred>0.6): 0.87\n",
      "Samples ignored at 0.6: 187 (71.37%)\n",
      "\n",
      "h3k4me1_only\n",
      "Acc (pred>0.0): 164/262 (62.60%)\n",
      "F1 (pred>0.0): 0.47\n",
      "Acc (pred>0.6): 80/87 (91.95%)\n",
      "F1 (pred>0.6): 0.97\n",
      "Samples ignored at 0.6: 175 (66.79%)\n",
      "\n",
      "h3k4me3_only\n",
      "Acc (pred>0.0): 165/262 (62.98%)\n",
      "F1 (pred>0.0): 0.50\n",
      "Acc (pred>0.6): 144/173 (83.24%)\n",
      "F1 (pred>0.6): 0.68\n",
      "Samples ignored at 0.6: 89 (33.97%)\n",
      "\n",
      "h3k9me3_only\n",
      "Acc (pred>0.0): 39/262 (14.89%)\n",
      "F1 (pred>0.0): 0.05\n",
      "Acc (pred>0.6): 16/142 (11.27%)\n",
      "F1 (pred>0.6): 0.20\n",
      "Samples ignored at 0.6: 120 (45.80%)\n",
      "\n",
      "input_only\n",
      "Acc (pred>0.0): 49/262 (18.70%)\n",
      "F1 (pred>0.0): 0.11\n",
      "Acc (pred>0.6): 42/205 (20.49%)\n",
      "F1 (pred>0.6): 0.19\n",
      "Samples ignored at 0.6: 57 (21.76%)\n",
      "\n",
      "\n",
      "\n",
      "assay11-ct16\n",
      "Acc (pred>0.0): 1078/1176 (91.67%)\n",
      "F1 (pred>0.0): 0.74\n",
      "Acc (pred>0.6): 993/1022 (97.16%)\n",
      "F1 (pred>0.6): 0.92\n",
      "Samples ignored at 0.6: 154 (13.10%)\n",
      "\n",
      "assay7-ct16\n",
      "Acc (pred>0.0): 1070/1176 (90.99%)\n",
      "F1 (pred>0.0): 0.73\n",
      "Acc (pred>0.6): 962/981 (98.06%)\n",
      "F1 (pred>0.6): 0.93\n",
      "Samples ignored at 0.6: 195 (16.58%)\n",
      "\n",
      "assay7-ct19\n",
      "Acc (pred>0.0): 1080/1176 (91.84%)\n",
      "F1 (pred>0.0): 0.65\n",
      "Acc (pred>0.6): 941/961 (97.92%)\n",
      "F1 (pred>0.6): 0.85\n",
      "Samples ignored at 0.6: 215 (18.28%)\n",
      "\n",
      "h3k27ac_only\n",
      "Acc (pred>0.0): 564/1176 (47.96%)\n",
      "F1 (pred>0.0): 0.34\n",
      "Acc (pred>0.6): 372/410 (90.73%)\n",
      "F1 (pred>0.6): 0.73\n",
      "Samples ignored at 0.6: 766 (65.14%)\n",
      "\n",
      "h3k27me3_only\n",
      "Acc (pred>0.0): 257/1176 (21.85%)\n",
      "F1 (pred>0.0): 0.16\n",
      "Acc (pred>0.6): 182/416 (43.75%)\n",
      "F1 (pred>0.6): 0.51\n",
      "Samples ignored at 0.6: 760 (64.63%)\n",
      "\n",
      "h3k36me3_only\n",
      "Acc (pred>0.0): 662/1176 (56.29%)\n",
      "F1 (pred>0.0): 0.38\n",
      "Acc (pred>0.6): 482/612 (78.76%)\n",
      "F1 (pred>0.6): 0.70\n",
      "Samples ignored at 0.6: 564 (47.96%)\n",
      "\n",
      "h3k4me1_only\n",
      "Acc (pred>0.0): 597/1176 (50.77%)\n",
      "F1 (pred>0.0): 0.32\n",
      "Acc (pred>0.6): 518/670 (77.31%)\n",
      "F1 (pred>0.6): 0.65\n",
      "Samples ignored at 0.6: 506 (43.03%)\n",
      "\n",
      "h3k4me3_only\n",
      "Acc (pred>0.0): 578/1176 (49.15%)\n",
      "F1 (pred>0.0): 0.35\n",
      "Acc (pred>0.6): 449/576 (77.95%)\n",
      "F1 (pred>0.6): 0.59\n",
      "Samples ignored at 0.6: 600 (51.02%)\n",
      "\n",
      "h3k9me3_only\n",
      "Acc (pred>0.0): 279/1176 (23.72%)\n",
      "F1 (pred>0.0): 0.15\n",
      "Acc (pred>0.6): 202/504 (40.08%)\n",
      "F1 (pred>0.6): 0.44\n",
      "Samples ignored at 0.6: 672 (57.14%)\n",
      "\n",
      "input_only\n",
      "Acc (pred>0.0): 349/1176 (29.68%)\n",
      "F1 (pred>0.0): 0.20\n",
      "Acc (pred>0.6): 274/721 (38.00%)\n",
      "F1 (pred>0.6): 0.26\n",
      "Samples ignored at 0.6: 455 (38.69%)\n",
      "\n"
     ]
    }
   ],
   "source": [
    "mask_core_assays = complete_metadata_df[ASSAY].isin(core_assays)\n",
    "non_core_metadata_df = complete_metadata_df[~mask_core_assays]\n",
    "core_metadata_df = complete_metadata_df[mask_core_assays]\n",
    "\n",
    "compute_cell_type_acc(non_core_metadata_df, other_ct_dfs)\n",
    "print(\"\\n\")\n",
    "compute_cell_type_acc(core_metadata_df, other_ct_dfs)"
   ]
  },
  {
   "cell_type": "markdown",
   "metadata": {},
   "source": [
    "#### Confusion matrices"
   ]
  },
  {
   "cell_type": "code",
   "execution_count": 45,
   "metadata": {},
   "outputs": [],
   "source": [
    "conf_matrix_logdir = (\n",
    "    base_fig_dir / \"encode_predictions\" / \"confusion_matrices\" / CELL_TYPE / \"core\"\n",
    ")\n",
    "if not conf_matrix_logdir.exists():\n",
    "    conf_matrix_logdir.mkdir(parents=True)"
   ]
  },
  {
   "cell_type": "code",
   "execution_count": 46,
   "metadata": {},
   "outputs": [],
   "source": [
    "meta_df = core_metadata_df[core_metadata_df[CELL_TYPE].isin(accepted_cts)].copy()\n",
    "\n",
    "limited_pred_dfs_dict = {k: v for k, v in other_ct_dfs.items() if \"-ct16\" in k}"
   ]
  },
  {
   "cell_type": "code",
   "execution_count": null,
   "metadata": {},
   "outputs": [],
   "source": [
    "for no_rna in [True, False]:\n",
    "    for task_name, df in limited_pred_dfs_dict.items():\n",
    "        pred_w_ct = df.merge(\n",
    "            meta_df, left_on=\"md5sum\", right_on=\"FILE_accession\", how=\"inner\"\n",
    "        )\n",
    "\n",
    "        if no_rna:\n",
    "            pred_w_ct = pred_w_ct[~pred_w_ct[ASSAY].str.contains(\"rna\")]\n",
    "\n",
    "        for threshold in [0, 0.6, 0.8]:\n",
    "            sub_df = pred_w_ct[pred_w_ct[\"Max pred\"] >= threshold]\n",
    "\n",
    "            true, pred = sub_df[CELL_TYPE], sub_df[\"Predicted class\"]\n",
    "            cm = confusion_matrix(true, pred, labels=accepted_cts)\n",
    "\n",
    "            filename = f\"{task_name}-core-confusion_matrix-{threshold*100}\"\n",
    "            if no_rna:\n",
    "                final_filename = f\"{filename}-no_rna\"\n",
    "                this_logdir = conf_matrix_logdir / \"no_rna\"\n",
    "                this_logdir.mkdir(parents=True, exist_ok=True)\n",
    "            else:\n",
    "                final_filename = filename\n",
    "                this_logdir = conf_matrix_logdir / \"with_rna\"\n",
    "                this_logdir.mkdir(parents=True, exist_ok=True)\n",
    "\n",
    "            writer = ConfusionMatrixWriter(labels=accepted_cts, confusion_matrix=cm)\n",
    "            writer.to_all_formats(\n",
    "                logdir=this_logdir,\n",
    "                name=final_filename,\n",
    "            )\n",
    "            plt.close(\"all\")"
   ]
  },
  {
   "cell_type": "markdown",
   "metadata": {},
   "source": [
    "## ASSAY metrics\n",
    "\n",
    "\n",
    "No RNA-seq here"
   ]
  },
  {
   "cell_type": "markdown",
   "metadata": {},
   "source": [
    "Download note\n",
    "~~~bash\n",
    "paper_dir=\"/home/local/USHERBROOKE/rabj2301/Projects/epiclass/output/paper/data/training_results/dfreeze_v2/hg38_100kb_all_none/assay_epiclass_1l_3000n\"\n",
    "cd $paper_dir\n",
    "base_path=\"/lustre06/project/6007515/rabyj/epiclass-project/output/epiclass-logs/epiatlas-dfreeze-v2.1/hg38_100kb_all_none/assay_epiclass_1l_3000n\"\n",
    "rsync -avR --exclude \"*/EpiLaP/\" --exclude \"*.png\" --exclude \"*confusion*\" --exclude \"*.md5\" narval:${base_path}/./*c/complete_no_valid_oversample .\n",
    "\n",
    "paper_dir=\"/home/local/USHERBROOKE/rabj2301/Projects/epiclass/output/paper/data/training_results/dfreeze_v2\"\n",
    "cd $paper_dir\n",
    "base_path=\"/lustre06/project/6007515/rabyj/epiclass-project/output/epiclass-logs/epiatlas-dfreeze-v2.1\"\n",
    "rsync -avR --exclude \"*/EpiLaP/\" --exclude \"*.png\" --exclude \"*confusion*\" --exclude \"*.md5\" narval:${base_path}/./hg38_100kb_all_none_w_encode_noncore/assay_epiclass_1l_3000n/complete_no_valid_oversample-0 .\n",
    "\n",
    "find -type f -name \"*.list*.csv\" -print0 | xargs -0 rename 's/\\.list//g'\n",
    "~~~"
   ]
  },
  {
   "cell_type": "code",
   "execution_count": 48,
   "metadata": {},
   "outputs": [],
   "source": [
    "data_dir = base_data_dir / \"training_results\" / \"dfreeze_v2\"\n",
    "assay7_folder = (\n",
    "    data_dir / f\"hg38_100kb_all_none/{ASSAY}_1l_3000n/7c/complete_no_valid_oversample\"\n",
    ")\n",
    "assay11_folder = (\n",
    "    data_dir / f\"hg38_100kb_all_none/{ASSAY}_1l_3000n/11c/complete_no_valid_oversample\"\n",
    ")\n",
    "assay13_folder = (\n",
    "    data_dir\n",
    "    / f\"hg38_100kb_all_none_w_encode_noncore/{ASSAY}_1l_3000n/13c/complete_no_valid_oversample\"\n",
    ")"
   ]
  },
  {
   "cell_type": "code",
   "execution_count": 49,
   "metadata": {},
   "outputs": [],
   "source": [
    "pred_dfs_dict = {}\n",
    "for name, folder in zip(\n",
    "    [\"7c\", \"11c\", \"13c\"], [assay7_folder, assay11_folder, assay13_folder]\n",
    "):\n",
    "    if not folder.exists():\n",
    "        print(f\"Folder {folder} does not exist.\")\n",
    "        continue\n",
    "\n",
    "    pred_folder = folder / \"predictions\" / \"encode\"\n",
    "    if not pred_folder.exists():\n",
    "        print(f\"Folder {pred_folder} does not exist.\")\n",
    "        continue\n",
    "\n",
    "    pred_file = list(pred_folder.glob(\"*.csv\"))\n",
    "    if len(pred_file) != 1:\n",
    "        print(f\"Found {len(pred_file)} files in {pred_folder}.\")\n",
    "        continue\n",
    "    pred_file = pred_file[0]\n",
    "\n",
    "    pred_df = pd.read_csv(pred_file, sep=\",\")\n",
    "    try:\n",
    "        pred_df.drop(columns=[\"Same?\"], inplace=True)\n",
    "    except KeyError:\n",
    "        pass\n",
    "\n",
    "    # Add assay metadata\n",
    "    pred_df = pred_df.merge(\n",
    "        complete_metadata_df, left_on=\"md5sum\", right_on=\"FILE_accession\", how=\"left\"\n",
    "    )\n",
    "\n",
    "    pred_df[\"True class\"] = pred_df[\"assay_epiclass\"]\n",
    "    pred_dfs_dict[name] = pred_df"
   ]
  },
  {
   "cell_type": "markdown",
   "metadata": {},
   "source": [
    "### Core7 preds"
   ]
  },
  {
   "cell_type": "code",
   "execution_count": 50,
   "metadata": {},
   "outputs": [
    {
     "name": "stdout",
     "output_type": "stream",
     "text": [
      "7c\n",
      "(9619, 220)\n",
      "Acc (pred>=0.0) 3013/3066 (98.27%)\n",
      "Acc (pred>=0.6) h3k4me3 = 378/379 (99.74%)\n",
      "Acc (pred>=0.6) h3k27ac = 366/366 (100.00%)\n",
      "Acc (pred>=0.6) h3k4me1 = 254/256 (99.22%)\n",
      "Acc (pred>=0.6) h3k36me3 = 232/242 (95.87%)\n",
      "Acc (pred>=0.6) h3k27me3 = 285/291 (97.94%)\n",
      "Acc (pred>=0.6) h3k9me3 = 241/241 (100.00%)\n",
      "Acc (pred>=0.6) input = 1224/1236 (99.03%)\n",
      "Acc (pred>=0.6): 2980/3011 (98.97%)\n",
      "11c\n",
      "(9619, 224)\n",
      "Acc (pred>=0.0) 2961/3066 (96.58%)\n",
      "Acc (pred>=0.6) h3k4me3 = 378/378 (100.00%)\n",
      "Acc (pred>=0.6) h3k27ac = 365/365 (100.00%)\n",
      "Acc (pred>=0.6) h3k4me1 = 254/255 (99.61%)\n",
      "Acc (pred>=0.6) h3k36me3 = 230/242 (95.04%)\n",
      "Acc (pred>=0.6) h3k27me3 = 285/291 (97.94%)\n",
      "Acc (pred>=0.6) h3k9me3 = 235/239 (98.33%)\n",
      "Acc (pred>=0.6) input = 1146/1179 (97.20%)\n",
      "Acc (pred>=0.6): 2893/2949 (98.10%)\n",
      "13c\n",
      "(9619, 226)\n",
      "Acc (pred>=0.0) 2532/3066 (82.58%)\n",
      "Acc (pred>=0.6) h3k4me3 = 377/378 (99.74%)\n",
      "Acc (pred>=0.6) h3k27ac = 345/357 (96.64%)\n",
      "Acc (pred>=0.6) h3k4me1 = 253/255 (99.22%)\n",
      "Acc (pred>=0.6) h3k36me3 = 229/239 (95.82%)\n",
      "Acc (pred>=0.6) h3k27me3 = 281/290 (96.90%)\n",
      "Acc (pred>=0.6) h3k9me3 = 238/240 (99.17%)\n",
      "Acc (pred>=0.6) input = 667/1037 (64.32%)\n",
      "Acc (pred>=0.6): 2390/2796 (85.48%)\n"
     ]
    }
   ],
   "source": [
    "output_dir = data_dir = (\n",
    "    base_data_dir\n",
    "    / \"training_results\"\n",
    "    / \"predictions\"\n",
    "    / \"encode\"\n",
    "    / \"assay_epiclass_1l_3000n\"\n",
    ")\n",
    "for name, df in pred_dfs_dict.items():\n",
    "    print(name)\n",
    "    print(df.shape)\n",
    "\n",
    "    # Only consider files already labeled with core7 assays\n",
    "    df = df[df[ASSAY].isin(CORE_ASSAYS)]\n",
    "\n",
    "    # Only consider non-EpiAtlas samples\n",
    "    df = df[df[\"in_epiatlas\"].astype(str) == \"False\"]\n",
    "\n",
    "    # Calculate results for all predictions\n",
    "    correct_pred = df[\"Predicted class\"] == df[\"True class\"]\n",
    "    total_correct = correct_pred.sum()\n",
    "    total = df.shape[0]\n",
    "    perc = total_correct / total\n",
    "    print(f\"Acc (pred>=0.0) {total_correct}/{total} ({perc:.2%})\")\n",
    "\n",
    "    for assay in CORE_ASSAYS:\n",
    "        min_pred = 0.6\n",
    "        df_assay = df[df[ASSAY] == assay]\n",
    "        df_assay = df_assay[df_assay[\"Max pred\"] >= min_pred]\n",
    "        correct_pred = df_assay[\"Predicted class\"] == df_assay[\"True class\"]\n",
    "        total_correct = correct_pred.sum()\n",
    "        total = df_assay.shape[0]\n",
    "        perc = total_correct / total\n",
    "        print(\n",
    "            f\"Acc (pred>={min_pred:.1f}) {assay} = {total_correct}/{total} ({perc:.2%})\"\n",
    "        )\n",
    "\n",
    "    # Calculate results for predictions with max_pred > 0.6\n",
    "    df_filtered = df[df[\"Max pred\"] >= 0.6]\n",
    "    correct_pred_filtered = df_filtered[\"Predicted class\"] == df_filtered[\"True class\"]\n",
    "    total_correct_filtered = correct_pred_filtered.sum()\n",
    "    total_filtered = df_filtered.shape[0]\n",
    "    perc_filtered = total_correct_filtered / total_filtered\n",
    "    print(\n",
    "        f\"Acc (pred>=0.6): {total_correct_filtered}/{total_filtered} ({perc_filtered:.2%})\"\n",
    "    )\n",
    "\n",
    "    df_filtered_wrong = df_filtered[~correct_pred_filtered]\n",
    "    # groupby = (\n",
    "    #     df_filtered_wrong.groupby([\"True class\", \"Predicted class\"])\n",
    "    #     .size()\n",
    "    #     .sort_values(ascending=False)\n",
    "    # )\n",
    "    # display(\"Mislabels:\", groupby)\n",
    "\n",
    "    df_filtered_wrong.to_csv(\n",
    "        output_dir / f\"encode_only_mislabels_minPred0.6_{name}.csv\", index=False\n",
    "    )"
   ]
  },
  {
   "cell_type": "markdown",
   "metadata": {},
   "source": [
    "### non-core 7c preds"
   ]
  },
  {
   "cell_type": "code",
   "execution_count": 51,
   "metadata": {},
   "outputs": [
    {
     "name": "stdout",
     "output_type": "stream",
     "text": [
      "Non-core datasets: 4061\n",
      "Non-core targets/assays with > 3 files: 4061\n",
      "Non-core files respecting selected assays: 2714\n",
      "High confidence non-core predictions: 75.35% (2045/2714)\n"
     ]
    }
   ],
   "source": [
    "non_core_preds = pred_dfs_dict[\"7c\"].copy(deep=True)\n",
    "non_core_preds = non_core_preds[non_core_preds[ASSAY].isin([\"ctcf\", \"non-core\"])]\n",
    "\n",
    "print(f\"Non-core datasets: {non_core_preds.shape[0]}\")\n",
    "\n",
    "groupby = non_core_preds.groupby([\"assay\"]).size()\n",
    "groupby = groupby[groupby > 3]\n",
    "selected_assays = groupby.index\n",
    "print(f\"Non-core targets/assays with > 3 files: {non_core_preds.shape[0]}\")\n",
    "\n",
    "non_core_preds = non_core_preds[non_core_preds[\"assay\"].isin(selected_assays)]\n",
    "print(f\"Non-core files respecting selected assays: {non_core_preds.shape[0]}\")\n",
    "\n",
    "N_high_conf = (non_core_preds[\"Max pred\"] >= 0.6).sum()\n",
    "N_total = non_core_preds.shape[0]\n",
    "print(\n",
    "    f\"High confidence non-core predictions: {N_high_conf / N_total:.2%} ({N_high_conf}/{N_total})\"\n",
    ")"
   ]
  },
  {
   "cell_type": "code",
   "execution_count": 52,
   "metadata": {},
   "outputs": [],
   "source": [
    "output_dir = data_dir = (\n",
    "    base_data_dir\n",
    "    / \"training_results\"\n",
    "    / \"predictions\"\n",
    "    / \"encode\"\n",
    "    / \"assay_epiclass_1l_3000n\"\n",
    ")\n",
    "if not output_dir.exists():\n",
    "    output_dir.mkdir(parents=True)\n",
    "\n",
    "df = non_core_preds\n",
    "for min_pred in [0, 0.6, 0.8]:\n",
    "    df_filtered = df[df[\"Max pred\"] >= min_pred]\n",
    "    groupby = (\n",
    "        df_filtered.groupby([\"Predicted class\", \"assay\"])\n",
    "        .size()\n",
    "        .reset_index(name=\"Count\")\n",
    "        .sort_values(by=[\"Predicted class\", \"Count\"], ascending=[True, False])\n",
    "        .set_index([\"Predicted class\", \"assay\"])[\"Count\"]\n",
    "    )\n",
    "    groupby.to_csv(\n",
    "        output_dir / f\"encode_non-core_{name}_predictions_minPred{min_pred}.csv\"\n",
    "    )"
   ]
  },
  {
   "cell_type": "code",
   "execution_count": 53,
   "metadata": {},
   "outputs": [
    {
     "name": "stdout",
     "output_type": "stream",
     "text": [
      "(1171, 3)\n"
     ]
    }
   ],
   "source": [
    "encode_metadata_dir = base_data_dir / \"metadata/encode\"\n",
    "non_core_categories_path = (\n",
    "    encode_metadata_dir / \"non-core_encode_assay_category_2024-08-29.csv\"\n",
    ")\n",
    "if not non_core_categories_path.exists():\n",
    "    raise FileNotFoundError(f\"File {non_core_categories_path} does not exist.\")\n",
    "\n",
    "non_core_categories_df = pd.read_csv(\n",
    "    non_core_categories_path, sep=\",\", names=[\"assay\", \"assay_category\", \"note\"]\n",
    ")\n",
    "print(non_core_categories_df.shape)"
   ]
  },
  {
   "cell_type": "code",
   "execution_count": 54,
   "metadata": {},
   "outputs": [
    {
     "name": "stdout",
     "output_type": "stream",
     "text": [
      "(2714, 221)\n"
     ]
    },
    {
     "data": {
      "text/plain": [
       "trx_reg        1972\n",
       "insulator       526\n",
       "polycomb         94\n",
       "other/mixed      72\n",
       "heterochrom      42\n",
       "splicing          8\n",
       "Name: assay_category, dtype: int64"
      ]
     },
     "metadata": {},
     "output_type": "display_data"
    }
   ],
   "source": [
    "df_w_cats = df.merge(\n",
    "    non_core_categories_df[[\"assay\", \"assay_category\"]],\n",
    "    left_on=\"assay\",\n",
    "    right_on=\"assay\",\n",
    "    how=\"left\",\n",
    ")\n",
    "print(df_w_cats.shape)\n",
    "\n",
    "df_w_cats.fillna(\"not_looked\", inplace=True)\n",
    "display(df_w_cats[\"assay_category\"].value_counts(dropna=False))"
   ]
  },
  {
   "cell_type": "code",
   "execution_count": 55,
   "metadata": {},
   "outputs": [],
   "source": [
    "def create_non_core_preds_df(df: pd.DataFrame, min_pred: float = 0.6):\n",
    "    \"\"\"Create a DataFrame of non-core assay predictions.\"\"\"\n",
    "    results = {}\n",
    "    assay_categories = dict(zip(df[\"assay\"], df[\"assay_category\"]))\n",
    "\n",
    "    for assay, group in df.groupby(\"assay\"):\n",
    "        group = group[group[\"Max pred\"] >= min_pred]\n",
    "\n",
    "        groupby = (\n",
    "            group.groupby([\"Predicted class\"])\n",
    "            .size()\n",
    "            .reset_index(name=\"Count\")  # type: ignore\n",
    "            .sort_values(by=[\"Count\"], ascending=False)\n",
    "        )\n",
    "\n",
    "        results[assay] = dict(zip(groupby[\"Predicted class\"], groupby[\"Count\"]))\n",
    "\n",
    "    result_df = pd.DataFrame(results).fillna(0)\n",
    "    result_df = result_df.astype(int)\n",
    "    result_df = result_df.T  # assay as row/index\n",
    "    result_df[\"assay_category\"] = result_df.index.map(assay_categories)\n",
    "    return result_df"
   ]
  },
  {
   "cell_type": "code",
   "execution_count": 56,
   "metadata": {},
   "outputs": [],
   "source": [
    "for min_pred in [0, 0.6, 0.8]:\n",
    "    predicted_classes_df = create_non_core_preds_df(df_w_cats, min_pred=min_pred)\n",
    "    predicted_classes_df.to_csv(\n",
    "        output_dir\n",
    "        / f\"encode_non-core_{name}_predictions_per_assay_minPred{min_pred:.2f}.csv\"\n",
    "    )"
   ]
  },
  {
   "cell_type": "code",
   "execution_count": 57,
   "metadata": {},
   "outputs": [],
   "source": [
    "def create_structured_dataframe(df_w_cats):\n",
    "    \"\"\"Create a structured dataframe with the percentage of predictions for each assay category.\"\"\"\n",
    "    # Create an empty list to store our data\n",
    "    data = []\n",
    "\n",
    "    # Iterate through the grouped data\n",
    "    for predicted_class, group in df_w_cats.groupby(\"Predicted class\"):\n",
    "        for min_pred in list(np.arange(0, 1, 0.05)) + [0.99]:\n",
    "            df_filtered = group[group[\"Max pred\"] >= min_pred]\n",
    "            counts = df_filtered[\"assay_category\"].value_counts(dropna=False)\n",
    "            total = counts.sum()\n",
    "\n",
    "            # Calculate percentages\n",
    "            percentages = (counts / total * 100).round(2)\n",
    "\n",
    "            # Add data for each assay category\n",
    "            for assay_category, percentage in percentages.items():\n",
    "                data.append(\n",
    "                    {\n",
    "                        \"Predicted class\": predicted_class,\n",
    "                        \"Min pred\": min_pred,\n",
    "                        \"assay_category\": assay_category,\n",
    "                        \"Percentage\": percentage,\n",
    "                        \"Count\": counts[assay_category],\n",
    "                        \"Total samples\": total,\n",
    "                    }\n",
    "                )\n",
    "\n",
    "    # Create the dataframe\n",
    "    df_structured = pd.DataFrame(data)\n",
    "\n",
    "    # Set the multi-index\n",
    "    df_structured = df_structured.set_index(\n",
    "        [\"Predicted class\", \"Min pred\", \"assay_category\"]\n",
    "    )\n",
    "\n",
    "    return df_structured"
   ]
  },
  {
   "cell_type": "code",
   "execution_count": 58,
   "metadata": {},
   "outputs": [],
   "source": [
    "assay_category_df = create_structured_dataframe(df_w_cats)\n",
    "assay_category_df.to_csv(output_dir / \"encode_non-core_7c_predictions_assay_category.csv\")"
   ]
  },
  {
   "cell_type": "code",
   "execution_count": 59,
   "metadata": {},
   "outputs": [],
   "source": [
    "section_fig_dir = base_fig_dir / \"encode_predictions\" / \"assay_epiclass\" / \"non-core\"\n",
    "if not section_fig_dir.exists():\n",
    "    raise FileNotFoundError(f\"Directory {section_fig_dir} does not exist.\")"
   ]
  },
  {
   "cell_type": "markdown",
   "metadata": {},
   "source": [
    "#### X = assay_category, stack = assay_epiclass"
   ]
  },
  {
   "cell_type": "code",
   "execution_count": 60,
   "metadata": {},
   "outputs": [
    {
     "name": "stdout",
     "output_type": "stream",
     "text": [
      "(2714, 221)\n",
      "232 unique assays.\n"
     ]
    }
   ],
   "source": [
    "df = df_w_cats[df_w_cats[\"assay_category\"] != \"not_looked\"]\n",
    "print(df.shape)\n",
    "print(f\"{df['assay'].nunique()} unique assays.\")\n",
    "assert df[\"assay\"].value_counts().min() > 3, \"Too few samples for some assays.\""
   ]
  },
  {
   "cell_type": "code",
   "execution_count": 61,
   "metadata": {},
   "outputs": [],
   "source": [
    "assay_epiclass_order = [\n",
    "    \"h3k27ac\",\n",
    "    \"h3k4me3\",\n",
    "    \"h3k4me1\",\n",
    "    \"h3k9me3\",\n",
    "    \"h3k27me3\",\n",
    "    \"h3k36me3\",\n",
    "    \"input\",\n",
    "]\n",
    "assay_epiclass_order = {assay: i for i, assay in enumerate(assay_epiclass_order)}"
   ]
  },
  {
   "cell_type": "code",
   "execution_count": 62,
   "metadata": {},
   "outputs": [
    {
     "data": {
      "application/vnd.plotly.v1+json": {
       "config": {
        "plotlyServerURL": "https://plot.ly"
       },
       "data": [
        {
         "alignmentgroup": "True",
         "hovertemplate": "Predicted class=h3k27ac<br>Assay Category=%{x}<br>Fraction (%)=%{y}<extra></extra>",
         "legendgroup": "h3k27ac",
         "marker": {
          "color": "rgb(225,148,37)",
          "pattern": {
           "shape": ""
          }
         },
         "name": "h3k27ac",
         "offsetgroup": "h3k27ac",
         "orientation": "v",
         "showlegend": true,
         "textposition": "auto",
         "type": "bar",
         "x": [
          "trx_reg",
          "splicing",
          "polycomb",
          "other/mixed",
          "insulator",
          "heterochrom"
         ],
         "xaxis": "x",
         "y": [
          39.046653144016226,
          12.5,
          2.127659574468085,
          26.38888888888889,
          1.9011406844106464,
          2.380952380952381
         ],
         "yaxis": "y"
        },
        {
         "alignmentgroup": "True",
         "hovertemplate": "Predicted class=h3k4me3<br>Assay Category=%{x}<br>Fraction (%)=%{y}<extra></extra>",
         "legendgroup": "h3k4me3",
         "marker": {
          "color": "rgb(238,30,37)",
          "pattern": {
           "shape": ""
          }
         },
         "name": "h3k4me3",
         "offsetgroup": "h3k4me3",
         "orientation": "v",
         "showlegend": true,
         "textposition": "auto",
         "type": "bar",
         "x": [
          "trx_reg",
          "polycomb",
          "other/mixed",
          "insulator",
          "heterochrom"
         ],
         "xaxis": "x",
         "y": [
          31.643002028397564,
          11.702127659574469,
          33.33333333333333,
          19.581749049429657,
          4.761904761904762
         ],
         "yaxis": "y"
        },
        {
         "alignmentgroup": "True",
         "hovertemplate": "Predicted class=h3k4me1<br>Assay Category=%{x}<br>Fraction (%)=%{y}<extra></extra>",
         "legendgroup": "h3k4me1",
         "marker": {
          "color": "rgb(236,232,56)",
          "pattern": {
           "shape": ""
          }
         },
         "name": "h3k4me1",
         "offsetgroup": "h3k4me1",
         "orientation": "v",
         "showlegend": true,
         "textposition": "auto",
         "type": "bar",
         "x": [
          "trx_reg",
          "other/mixed"
         ],
         "xaxis": "x",
         "y": [
          12.221095334685598,
          9.722222222222223
         ],
         "yaxis": "y"
        },
        {
         "alignmentgroup": "True",
         "hovertemplate": "Predicted class=h3k9me3<br>Assay Category=%{x}<br>Fraction (%)=%{y}<extra></extra>",
         "legendgroup": "h3k9me3",
         "marker": {
          "color": "rgb(144,206,219)",
          "pattern": {
           "shape": ""
          }
         },
         "name": "h3k9me3",
         "offsetgroup": "h3k9me3",
         "orientation": "v",
         "showlegend": true,
         "textposition": "auto",
         "type": "bar",
         "x": [
          "trx_reg",
          "other/mixed",
          "heterochrom"
         ],
         "xaxis": "x",
         "y": [
          1.0649087221095335,
          4.166666666666666,
          61.904761904761905
         ],
         "yaxis": "y"
        },
        {
         "alignmentgroup": "True",
         "hovertemplate": "Predicted class=h3k27me3<br>Assay Category=%{x}<br>Fraction (%)=%{y}<extra></extra>",
         "legendgroup": "h3k27me3",
         "marker": {
          "color": "rgb(184,185,189)",
          "pattern": {
           "shape": ""
          }
         },
         "name": "h3k27me3",
         "offsetgroup": "h3k27me3",
         "orientation": "v",
         "showlegend": true,
         "textposition": "auto",
         "type": "bar",
         "x": [
          "trx_reg",
          "polycomb",
          "insulator"
         ],
         "xaxis": "x",
         "y": [
          0.5578093306288032,
          82.97872340425532,
          4.182509505703422
         ],
         "yaxis": "y"
        },
        {
         "alignmentgroup": "True",
         "hovertemplate": "Predicted class=h3k36me3<br>Assay Category=%{x}<br>Fraction (%)=%{y}<extra></extra>",
         "legendgroup": "h3k36me3",
         "marker": {
          "color": "rgb(13,127,66)",
          "pattern": {
           "shape": ""
          }
         },
         "name": "h3k36me3",
         "offsetgroup": "h3k36me3",
         "orientation": "v",
         "showlegend": true,
         "textposition": "auto",
         "type": "bar",
         "x": [
          "trx_reg",
          "splicing",
          "other/mixed",
          "heterochrom"
         ],
         "xaxis": "x",
         "y": [
          0.4563894523326572,
          50,
          1.3888888888888888,
          2.380952380952381
         ],
         "yaxis": "y"
        },
        {
         "alignmentgroup": "True",
         "hovertemplate": "Predicted class=input<br>Assay Category=%{x}<br>Fraction (%)=%{y}<extra></extra>",
         "legendgroup": "input",
         "marker": {
          "color": "rgb(30,30,30)",
          "pattern": {
           "shape": ""
          }
         },
         "name": "input",
         "offsetgroup": "input",
         "orientation": "v",
         "showlegend": true,
         "textposition": "auto",
         "type": "bar",
         "x": [
          "trx_reg",
          "splicing",
          "polycomb",
          "other/mixed",
          "insulator",
          "heterochrom"
         ],
         "xaxis": "x",
         "y": [
          15.010141987829615,
          37.5,
          3.1914893617021276,
          25,
          74.33460076045627,
          28.57142857142857
         ],
         "yaxis": "y"
        }
       ],
       "layout": {
        "barmode": "stack",
        "legend": {
         "title": {
          "text": "Predicted class"
         },
         "tracegroupgap": 0
        },
        "template": {
         "data": {
          "bar": [
           {
            "error_x": {
             "color": "#2a3f5f"
            },
            "error_y": {
             "color": "#2a3f5f"
            },
            "marker": {
             "line": {
              "color": "#E5ECF6",
              "width": 0.5
             },
             "pattern": {
              "fillmode": "overlay",
              "size": 10,
              "solidity": 0.2
             }
            },
            "type": "bar"
           }
          ],
          "barpolar": [
           {
            "marker": {
             "line": {
              "color": "#E5ECF6",
              "width": 0.5
             },
             "pattern": {
              "fillmode": "overlay",
              "size": 10,
              "solidity": 0.2
             }
            },
            "type": "barpolar"
           }
          ],
          "carpet": [
           {
            "aaxis": {
             "endlinecolor": "#2a3f5f",
             "gridcolor": "white",
             "linecolor": "white",
             "minorgridcolor": "white",
             "startlinecolor": "#2a3f5f"
            },
            "baxis": {
             "endlinecolor": "#2a3f5f",
             "gridcolor": "white",
             "linecolor": "white",
             "minorgridcolor": "white",
             "startlinecolor": "#2a3f5f"
            },
            "type": "carpet"
           }
          ],
          "choropleth": [
           {
            "colorbar": {
             "outlinewidth": 0,
             "ticks": ""
            },
            "type": "choropleth"
           }
          ],
          "contour": [
           {
            "colorbar": {
             "outlinewidth": 0,
             "ticks": ""
            },
            "colorscale": [
             [
              0,
              "#0d0887"
             ],
             [
              0.1111111111111111,
              "#46039f"
             ],
             [
              0.2222222222222222,
              "#7201a8"
             ],
             [
              0.3333333333333333,
              "#9c179e"
             ],
             [
              0.4444444444444444,
              "#bd3786"
             ],
             [
              0.5555555555555556,
              "#d8576b"
             ],
             [
              0.6666666666666666,
              "#ed7953"
             ],
             [
              0.7777777777777778,
              "#fb9f3a"
             ],
             [
              0.8888888888888888,
              "#fdca26"
             ],
             [
              1,
              "#f0f921"
             ]
            ],
            "type": "contour"
           }
          ],
          "contourcarpet": [
           {
            "colorbar": {
             "outlinewidth": 0,
             "ticks": ""
            },
            "type": "contourcarpet"
           }
          ],
          "heatmap": [
           {
            "colorbar": {
             "outlinewidth": 0,
             "ticks": ""
            },
            "colorscale": [
             [
              0,
              "#0d0887"
             ],
             [
              0.1111111111111111,
              "#46039f"
             ],
             [
              0.2222222222222222,
              "#7201a8"
             ],
             [
              0.3333333333333333,
              "#9c179e"
             ],
             [
              0.4444444444444444,
              "#bd3786"
             ],
             [
              0.5555555555555556,
              "#d8576b"
             ],
             [
              0.6666666666666666,
              "#ed7953"
             ],
             [
              0.7777777777777778,
              "#fb9f3a"
             ],
             [
              0.8888888888888888,
              "#fdca26"
             ],
             [
              1,
              "#f0f921"
             ]
            ],
            "type": "heatmap"
           }
          ],
          "heatmapgl": [
           {
            "colorbar": {
             "outlinewidth": 0,
             "ticks": ""
            },
            "colorscale": [
             [
              0,
              "#0d0887"
             ],
             [
              0.1111111111111111,
              "#46039f"
             ],
             [
              0.2222222222222222,
              "#7201a8"
             ],
             [
              0.3333333333333333,
              "#9c179e"
             ],
             [
              0.4444444444444444,
              "#bd3786"
             ],
             [
              0.5555555555555556,
              "#d8576b"
             ],
             [
              0.6666666666666666,
              "#ed7953"
             ],
             [
              0.7777777777777778,
              "#fb9f3a"
             ],
             [
              0.8888888888888888,
              "#fdca26"
             ],
             [
              1,
              "#f0f921"
             ]
            ],
            "type": "heatmapgl"
           }
          ],
          "histogram": [
           {
            "marker": {
             "pattern": {
              "fillmode": "overlay",
              "size": 10,
              "solidity": 0.2
             }
            },
            "type": "histogram"
           }
          ],
          "histogram2d": [
           {
            "colorbar": {
             "outlinewidth": 0,
             "ticks": ""
            },
            "colorscale": [
             [
              0,
              "#0d0887"
             ],
             [
              0.1111111111111111,
              "#46039f"
             ],
             [
              0.2222222222222222,
              "#7201a8"
             ],
             [
              0.3333333333333333,
              "#9c179e"
             ],
             [
              0.4444444444444444,
              "#bd3786"
             ],
             [
              0.5555555555555556,
              "#d8576b"
             ],
             [
              0.6666666666666666,
              "#ed7953"
             ],
             [
              0.7777777777777778,
              "#fb9f3a"
             ],
             [
              0.8888888888888888,
              "#fdca26"
             ],
             [
              1,
              "#f0f921"
             ]
            ],
            "type": "histogram2d"
           }
          ],
          "histogram2dcontour": [
           {
            "colorbar": {
             "outlinewidth": 0,
             "ticks": ""
            },
            "colorscale": [
             [
              0,
              "#0d0887"
             ],
             [
              0.1111111111111111,
              "#46039f"
             ],
             [
              0.2222222222222222,
              "#7201a8"
             ],
             [
              0.3333333333333333,
              "#9c179e"
             ],
             [
              0.4444444444444444,
              "#bd3786"
             ],
             [
              0.5555555555555556,
              "#d8576b"
             ],
             [
              0.6666666666666666,
              "#ed7953"
             ],
             [
              0.7777777777777778,
              "#fb9f3a"
             ],
             [
              0.8888888888888888,
              "#fdca26"
             ],
             [
              1,
              "#f0f921"
             ]
            ],
            "type": "histogram2dcontour"
           }
          ],
          "mesh3d": [
           {
            "colorbar": {
             "outlinewidth": 0,
             "ticks": ""
            },
            "type": "mesh3d"
           }
          ],
          "parcoords": [
           {
            "line": {
             "colorbar": {
              "outlinewidth": 0,
              "ticks": ""
             }
            },
            "type": "parcoords"
           }
          ],
          "pie": [
           {
            "automargin": true,
            "type": "pie"
           }
          ],
          "scatter": [
           {
            "fillpattern": {
             "fillmode": "overlay",
             "size": 10,
             "solidity": 0.2
            },
            "type": "scatter"
           }
          ],
          "scatter3d": [
           {
            "line": {
             "colorbar": {
              "outlinewidth": 0,
              "ticks": ""
             }
            },
            "marker": {
             "colorbar": {
              "outlinewidth": 0,
              "ticks": ""
             }
            },
            "type": "scatter3d"
           }
          ],
          "scattercarpet": [
           {
            "marker": {
             "colorbar": {
              "outlinewidth": 0,
              "ticks": ""
             }
            },
            "type": "scattercarpet"
           }
          ],
          "scattergeo": [
           {
            "marker": {
             "colorbar": {
              "outlinewidth": 0,
              "ticks": ""
             }
            },
            "type": "scattergeo"
           }
          ],
          "scattergl": [
           {
            "marker": {
             "colorbar": {
              "outlinewidth": 0,
              "ticks": ""
             }
            },
            "type": "scattergl"
           }
          ],
          "scattermapbox": [
           {
            "marker": {
             "colorbar": {
              "outlinewidth": 0,
              "ticks": ""
             }
            },
            "type": "scattermapbox"
           }
          ],
          "scatterpolar": [
           {
            "marker": {
             "colorbar": {
              "outlinewidth": 0,
              "ticks": ""
             }
            },
            "type": "scatterpolar"
           }
          ],
          "scatterpolargl": [
           {
            "marker": {
             "colorbar": {
              "outlinewidth": 0,
              "ticks": ""
             }
            },
            "type": "scatterpolargl"
           }
          ],
          "scatterternary": [
           {
            "marker": {
             "colorbar": {
              "outlinewidth": 0,
              "ticks": ""
             }
            },
            "type": "scatterternary"
           }
          ],
          "surface": [
           {
            "colorbar": {
             "outlinewidth": 0,
             "ticks": ""
            },
            "colorscale": [
             [
              0,
              "#0d0887"
             ],
             [
              0.1111111111111111,
              "#46039f"
             ],
             [
              0.2222222222222222,
              "#7201a8"
             ],
             [
              0.3333333333333333,
              "#9c179e"
             ],
             [
              0.4444444444444444,
              "#bd3786"
             ],
             [
              0.5555555555555556,
              "#d8576b"
             ],
             [
              0.6666666666666666,
              "#ed7953"
             ],
             [
              0.7777777777777778,
              "#fb9f3a"
             ],
             [
              0.8888888888888888,
              "#fdca26"
             ],
             [
              1,
              "#f0f921"
             ]
            ],
            "type": "surface"
           }
          ],
          "table": [
           {
            "cells": {
             "fill": {
              "color": "#EBF0F8"
             },
             "line": {
              "color": "white"
             }
            },
            "header": {
             "fill": {
              "color": "#C8D4E3"
             },
             "line": {
              "color": "white"
             }
            },
            "type": "table"
           }
          ]
         },
         "layout": {
          "annotationdefaults": {
           "arrowcolor": "#2a3f5f",
           "arrowhead": 0,
           "arrowwidth": 1
          },
          "autotypenumbers": "strict",
          "coloraxis": {
           "colorbar": {
            "outlinewidth": 0,
            "ticks": ""
           }
          },
          "colorscale": {
           "diverging": [
            [
             0,
             "#8e0152"
            ],
            [
             0.1,
             "#c51b7d"
            ],
            [
             0.2,
             "#de77ae"
            ],
            [
             0.3,
             "#f1b6da"
            ],
            [
             0.4,
             "#fde0ef"
            ],
            [
             0.5,
             "#f7f7f7"
            ],
            [
             0.6,
             "#e6f5d0"
            ],
            [
             0.7,
             "#b8e186"
            ],
            [
             0.8,
             "#7fbc41"
            ],
            [
             0.9,
             "#4d9221"
            ],
            [
             1,
             "#276419"
            ]
           ],
           "sequential": [
            [
             0,
             "#0d0887"
            ],
            [
             0.1111111111111111,
             "#46039f"
            ],
            [
             0.2222222222222222,
             "#7201a8"
            ],
            [
             0.3333333333333333,
             "#9c179e"
            ],
            [
             0.4444444444444444,
             "#bd3786"
            ],
            [
             0.5555555555555556,
             "#d8576b"
            ],
            [
             0.6666666666666666,
             "#ed7953"
            ],
            [
             0.7777777777777778,
             "#fb9f3a"
            ],
            [
             0.8888888888888888,
             "#fdca26"
            ],
            [
             1,
             "#f0f921"
            ]
           ],
           "sequentialminus": [
            [
             0,
             "#0d0887"
            ],
            [
             0.1111111111111111,
             "#46039f"
            ],
            [
             0.2222222222222222,
             "#7201a8"
            ],
            [
             0.3333333333333333,
             "#9c179e"
            ],
            [
             0.4444444444444444,
             "#bd3786"
            ],
            [
             0.5555555555555556,
             "#d8576b"
            ],
            [
             0.6666666666666666,
             "#ed7953"
            ],
            [
             0.7777777777777778,
             "#fb9f3a"
            ],
            [
             0.8888888888888888,
             "#fdca26"
            ],
            [
             1,
             "#f0f921"
            ]
           ]
          },
          "colorway": [
           "#636efa",
           "#EF553B",
           "#00cc96",
           "#ab63fa",
           "#FFA15A",
           "#19d3f3",
           "#FF6692",
           "#B6E880",
           "#FF97FF",
           "#FECB52"
          ],
          "font": {
           "color": "#2a3f5f"
          },
          "geo": {
           "bgcolor": "white",
           "lakecolor": "white",
           "landcolor": "#E5ECF6",
           "showlakes": true,
           "showland": true,
           "subunitcolor": "white"
          },
          "hoverlabel": {
           "align": "left"
          },
          "hovermode": "closest",
          "mapbox": {
           "style": "light"
          },
          "paper_bgcolor": "white",
          "plot_bgcolor": "#E5ECF6",
          "polar": {
           "angularaxis": {
            "gridcolor": "white",
            "linecolor": "white",
            "ticks": ""
           },
           "bgcolor": "#E5ECF6",
           "radialaxis": {
            "gridcolor": "white",
            "linecolor": "white",
            "ticks": ""
           }
          },
          "scene": {
           "xaxis": {
            "backgroundcolor": "#E5ECF6",
            "gridcolor": "white",
            "gridwidth": 2,
            "linecolor": "white",
            "showbackground": true,
            "ticks": "",
            "zerolinecolor": "white"
           },
           "yaxis": {
            "backgroundcolor": "#E5ECF6",
            "gridcolor": "white",
            "gridwidth": 2,
            "linecolor": "white",
            "showbackground": true,
            "ticks": "",
            "zerolinecolor": "white"
           },
           "zaxis": {
            "backgroundcolor": "#E5ECF6",
            "gridcolor": "white",
            "gridwidth": 2,
            "linecolor": "white",
            "showbackground": true,
            "ticks": "",
            "zerolinecolor": "white"
           }
          },
          "shapedefaults": {
           "line": {
            "color": "#2a3f5f"
           }
          },
          "ternary": {
           "aaxis": {
            "gridcolor": "white",
            "linecolor": "white",
            "ticks": ""
           },
           "baxis": {
            "gridcolor": "white",
            "linecolor": "white",
            "ticks": ""
           },
           "bgcolor": "#E5ECF6",
           "caxis": {
            "gridcolor": "white",
            "linecolor": "white",
            "ticks": ""
           }
          },
          "title": {
           "x": 0.05
          },
          "xaxis": {
           "automargin": true,
           "gridcolor": "white",
           "linecolor": "white",
           "ticks": "",
           "title": {
            "standoff": 15
           },
           "zerolinecolor": "white",
           "zerolinewidth": 2
          },
          "yaxis": {
           "automargin": true,
           "gridcolor": "white",
           "linecolor": "white",
           "ticks": "",
           "title": {
            "standoff": 15
           },
           "zerolinecolor": "white",
           "zerolinewidth": 2
          }
         }
        },
        "title": {
         "text": "core7 predictions for non-core assays, predScore >= 0.00"
        },
        "xaxis": {
         "anchor": "y",
         "categoryarray": [
          "trx_reg",
          "heterochrom",
          "polycomb",
          "splicing",
          "insulator",
          "other/mixed"
         ],
         "categoryorder": "array",
         "domain": [
          0,
          1
         ],
         "ticktext": [
          "trx_reg (N=1972)",
          "heterochrom (N=42)",
          "polycomb (N=94)",
          "splicing (N=8)",
          "insulator (N=526)",
          "other/mixed (N=72)"
         ],
         "tickvals": [
          "trx_reg",
          "heterochrom",
          "polycomb",
          "splicing",
          "insulator",
          "other/mixed"
         ],
         "title": {
          "text": "Assay Category"
         }
        },
        "yaxis": {
         "anchor": "x",
         "domain": [
          0,
          1
         ],
         "title": {
          "text": "Fraction (%)"
         }
        }
       }
      }
     },
     "metadata": {},
     "output_type": "display_data"
    },
    {
     "data": {
      "application/vnd.plotly.v1+json": {
       "config": {
        "plotlyServerURL": "https://plot.ly"
       },
       "data": [
        {
         "alignmentgroup": "True",
         "hovertemplate": "Predicted class=h3k27ac<br>Assay Category=%{x}<br>Fraction (%)=%{y}<extra></extra>",
         "legendgroup": "h3k27ac",
         "marker": {
          "color": "rgb(225,148,37)",
          "pattern": {
           "shape": ""
          }
         },
         "name": "h3k27ac",
         "offsetgroup": "h3k27ac",
         "orientation": "v",
         "showlegend": true,
         "textposition": "auto",
         "type": "bar",
         "x": [
          "trx_reg",
          "splicing",
          "other/mixed",
          "insulator",
          "heterochrom"
         ],
         "xaxis": "x",
         "y": [
          39.92371265098538,
          20,
          27.906976744186046,
          0.9836065573770493,
          2.7027027027027026
         ],
         "yaxis": "y"
        },
        {
         "alignmentgroup": "True",
         "hovertemplate": "Predicted class=h3k4me3<br>Assay Category=%{x}<br>Fraction (%)=%{y}<extra></extra>",
         "legendgroup": "h3k4me3",
         "marker": {
          "color": "rgb(238,30,37)",
          "pattern": {
           "shape": ""
          }
         },
         "name": "h3k4me3",
         "offsetgroup": "h3k4me3",
         "orientation": "v",
         "showlegend": true,
         "textposition": "auto",
         "type": "bar",
         "x": [
          "trx_reg",
          "polycomb",
          "other/mixed",
          "insulator",
          "heterochrom"
         ],
         "xaxis": "x",
         "y": [
          33.88429752066116,
          8.536585365853659,
          27.906976744186046,
          15.081967213114755,
          5.405405405405405
         ],
         "yaxis": "y"
        },
        {
         "alignmentgroup": "True",
         "hovertemplate": "Predicted class=h3k4me1<br>Assay Category=%{x}<br>Fraction (%)=%{y}<extra></extra>",
         "legendgroup": "h3k4me1",
         "marker": {
          "color": "rgb(236,232,56)",
          "pattern": {
           "shape": ""
          }
         },
         "name": "h3k4me1",
         "offsetgroup": "h3k4me1",
         "orientation": "v",
         "showlegend": true,
         "textposition": "auto",
         "type": "bar",
         "x": [
          "trx_reg",
          "other/mixed"
         ],
         "xaxis": "x",
         "y": [
          12.396694214876034,
          13.953488372093023
         ],
         "yaxis": "y"
        },
        {
         "alignmentgroup": "True",
         "hovertemplate": "Predicted class=h3k9me3<br>Assay Category=%{x}<br>Fraction (%)=%{y}<extra></extra>",
         "legendgroup": "h3k9me3",
         "marker": {
          "color": "rgb(144,206,219)",
          "pattern": {
           "shape": ""
          }
         },
         "name": "h3k9me3",
         "offsetgroup": "h3k9me3",
         "orientation": "v",
         "showlegend": true,
         "textposition": "auto",
         "type": "bar",
         "x": [
          "trx_reg",
          "other/mixed",
          "heterochrom"
         ],
         "xaxis": "x",
         "y": [
          0.44500953591862685,
          4.651162790697675,
          64.86486486486487
         ],
         "yaxis": "y"
        },
        {
         "alignmentgroup": "True",
         "hovertemplate": "Predicted class=h3k27me3<br>Assay Category=%{x}<br>Fraction (%)=%{y}<extra></extra>",
         "legendgroup": "h3k27me3",
         "marker": {
          "color": "rgb(184,185,189)",
          "pattern": {
           "shape": ""
          }
         },
         "name": "h3k27me3",
         "offsetgroup": "h3k27me3",
         "orientation": "v",
         "showlegend": true,
         "textposition": "auto",
         "type": "bar",
         "x": [
          "trx_reg",
          "polycomb",
          "insulator"
         ],
         "xaxis": "x",
         "y": [
          0.3814367450731087,
          90.2439024390244,
          0.6557377049180327
         ],
         "yaxis": "y"
        },
        {
         "alignmentgroup": "True",
         "hovertemplate": "Predicted class=h3k36me3<br>Assay Category=%{x}<br>Fraction (%)=%{y}<extra></extra>",
         "legendgroup": "h3k36me3",
         "marker": {
          "color": "rgb(13,127,66)",
          "pattern": {
           "shape": ""
          }
         },
         "name": "h3k36me3",
         "offsetgroup": "h3k36me3",
         "orientation": "v",
         "showlegend": true,
         "textposition": "auto",
         "type": "bar",
         "x": [
          "trx_reg",
          "splicing"
         ],
         "xaxis": "x",
         "y": [
          0.25429116338207247,
          40
         ],
         "yaxis": "y"
        },
        {
         "alignmentgroup": "True",
         "hovertemplate": "Predicted class=input<br>Assay Category=%{x}<br>Fraction (%)=%{y}<extra></extra>",
         "legendgroup": "input",
         "marker": {
          "color": "rgb(30,30,30)",
          "pattern": {
           "shape": ""
          }
         },
         "name": "input",
         "offsetgroup": "input",
         "orientation": "v",
         "showlegend": true,
         "textposition": "auto",
         "type": "bar",
         "x": [
          "trx_reg",
          "splicing",
          "polycomb",
          "other/mixed",
          "insulator",
          "heterochrom"
         ],
         "xaxis": "x",
         "y": [
          12.714558169103624,
          40,
          1.2195121951219512,
          25.581395348837212,
          83.27868852459017,
          27.027027027027028
         ],
         "yaxis": "y"
        }
       ],
       "layout": {
        "barmode": "stack",
        "legend": {
         "title": {
          "text": "Predicted class"
         },
         "tracegroupgap": 0
        },
        "template": {
         "data": {
          "bar": [
           {
            "error_x": {
             "color": "#2a3f5f"
            },
            "error_y": {
             "color": "#2a3f5f"
            },
            "marker": {
             "line": {
              "color": "#E5ECF6",
              "width": 0.5
             },
             "pattern": {
              "fillmode": "overlay",
              "size": 10,
              "solidity": 0.2
             }
            },
            "type": "bar"
           }
          ],
          "barpolar": [
           {
            "marker": {
             "line": {
              "color": "#E5ECF6",
              "width": 0.5
             },
             "pattern": {
              "fillmode": "overlay",
              "size": 10,
              "solidity": 0.2
             }
            },
            "type": "barpolar"
           }
          ],
          "carpet": [
           {
            "aaxis": {
             "endlinecolor": "#2a3f5f",
             "gridcolor": "white",
             "linecolor": "white",
             "minorgridcolor": "white",
             "startlinecolor": "#2a3f5f"
            },
            "baxis": {
             "endlinecolor": "#2a3f5f",
             "gridcolor": "white",
             "linecolor": "white",
             "minorgridcolor": "white",
             "startlinecolor": "#2a3f5f"
            },
            "type": "carpet"
           }
          ],
          "choropleth": [
           {
            "colorbar": {
             "outlinewidth": 0,
             "ticks": ""
            },
            "type": "choropleth"
           }
          ],
          "contour": [
           {
            "colorbar": {
             "outlinewidth": 0,
             "ticks": ""
            },
            "colorscale": [
             [
              0,
              "#0d0887"
             ],
             [
              0.1111111111111111,
              "#46039f"
             ],
             [
              0.2222222222222222,
              "#7201a8"
             ],
             [
              0.3333333333333333,
              "#9c179e"
             ],
             [
              0.4444444444444444,
              "#bd3786"
             ],
             [
              0.5555555555555556,
              "#d8576b"
             ],
             [
              0.6666666666666666,
              "#ed7953"
             ],
             [
              0.7777777777777778,
              "#fb9f3a"
             ],
             [
              0.8888888888888888,
              "#fdca26"
             ],
             [
              1,
              "#f0f921"
             ]
            ],
            "type": "contour"
           }
          ],
          "contourcarpet": [
           {
            "colorbar": {
             "outlinewidth": 0,
             "ticks": ""
            },
            "type": "contourcarpet"
           }
          ],
          "heatmap": [
           {
            "colorbar": {
             "outlinewidth": 0,
             "ticks": ""
            },
            "colorscale": [
             [
              0,
              "#0d0887"
             ],
             [
              0.1111111111111111,
              "#46039f"
             ],
             [
              0.2222222222222222,
              "#7201a8"
             ],
             [
              0.3333333333333333,
              "#9c179e"
             ],
             [
              0.4444444444444444,
              "#bd3786"
             ],
             [
              0.5555555555555556,
              "#d8576b"
             ],
             [
              0.6666666666666666,
              "#ed7953"
             ],
             [
              0.7777777777777778,
              "#fb9f3a"
             ],
             [
              0.8888888888888888,
              "#fdca26"
             ],
             [
              1,
              "#f0f921"
             ]
            ],
            "type": "heatmap"
           }
          ],
          "heatmapgl": [
           {
            "colorbar": {
             "outlinewidth": 0,
             "ticks": ""
            },
            "colorscale": [
             [
              0,
              "#0d0887"
             ],
             [
              0.1111111111111111,
              "#46039f"
             ],
             [
              0.2222222222222222,
              "#7201a8"
             ],
             [
              0.3333333333333333,
              "#9c179e"
             ],
             [
              0.4444444444444444,
              "#bd3786"
             ],
             [
              0.5555555555555556,
              "#d8576b"
             ],
             [
              0.6666666666666666,
              "#ed7953"
             ],
             [
              0.7777777777777778,
              "#fb9f3a"
             ],
             [
              0.8888888888888888,
              "#fdca26"
             ],
             [
              1,
              "#f0f921"
             ]
            ],
            "type": "heatmapgl"
           }
          ],
          "histogram": [
           {
            "marker": {
             "pattern": {
              "fillmode": "overlay",
              "size": 10,
              "solidity": 0.2
             }
            },
            "type": "histogram"
           }
          ],
          "histogram2d": [
           {
            "colorbar": {
             "outlinewidth": 0,
             "ticks": ""
            },
            "colorscale": [
             [
              0,
              "#0d0887"
             ],
             [
              0.1111111111111111,
              "#46039f"
             ],
             [
              0.2222222222222222,
              "#7201a8"
             ],
             [
              0.3333333333333333,
              "#9c179e"
             ],
             [
              0.4444444444444444,
              "#bd3786"
             ],
             [
              0.5555555555555556,
              "#d8576b"
             ],
             [
              0.6666666666666666,
              "#ed7953"
             ],
             [
              0.7777777777777778,
              "#fb9f3a"
             ],
             [
              0.8888888888888888,
              "#fdca26"
             ],
             [
              1,
              "#f0f921"
             ]
            ],
            "type": "histogram2d"
           }
          ],
          "histogram2dcontour": [
           {
            "colorbar": {
             "outlinewidth": 0,
             "ticks": ""
            },
            "colorscale": [
             [
              0,
              "#0d0887"
             ],
             [
              0.1111111111111111,
              "#46039f"
             ],
             [
              0.2222222222222222,
              "#7201a8"
             ],
             [
              0.3333333333333333,
              "#9c179e"
             ],
             [
              0.4444444444444444,
              "#bd3786"
             ],
             [
              0.5555555555555556,
              "#d8576b"
             ],
             [
              0.6666666666666666,
              "#ed7953"
             ],
             [
              0.7777777777777778,
              "#fb9f3a"
             ],
             [
              0.8888888888888888,
              "#fdca26"
             ],
             [
              1,
              "#f0f921"
             ]
            ],
            "type": "histogram2dcontour"
           }
          ],
          "mesh3d": [
           {
            "colorbar": {
             "outlinewidth": 0,
             "ticks": ""
            },
            "type": "mesh3d"
           }
          ],
          "parcoords": [
           {
            "line": {
             "colorbar": {
              "outlinewidth": 0,
              "ticks": ""
             }
            },
            "type": "parcoords"
           }
          ],
          "pie": [
           {
            "automargin": true,
            "type": "pie"
           }
          ],
          "scatter": [
           {
            "fillpattern": {
             "fillmode": "overlay",
             "size": 10,
             "solidity": 0.2
            },
            "type": "scatter"
           }
          ],
          "scatter3d": [
           {
            "line": {
             "colorbar": {
              "outlinewidth": 0,
              "ticks": ""
             }
            },
            "marker": {
             "colorbar": {
              "outlinewidth": 0,
              "ticks": ""
             }
            },
            "type": "scatter3d"
           }
          ],
          "scattercarpet": [
           {
            "marker": {
             "colorbar": {
              "outlinewidth": 0,
              "ticks": ""
             }
            },
            "type": "scattercarpet"
           }
          ],
          "scattergeo": [
           {
            "marker": {
             "colorbar": {
              "outlinewidth": 0,
              "ticks": ""
             }
            },
            "type": "scattergeo"
           }
          ],
          "scattergl": [
           {
            "marker": {
             "colorbar": {
              "outlinewidth": 0,
              "ticks": ""
             }
            },
            "type": "scattergl"
           }
          ],
          "scattermapbox": [
           {
            "marker": {
             "colorbar": {
              "outlinewidth": 0,
              "ticks": ""
             }
            },
            "type": "scattermapbox"
           }
          ],
          "scatterpolar": [
           {
            "marker": {
             "colorbar": {
              "outlinewidth": 0,
              "ticks": ""
             }
            },
            "type": "scatterpolar"
           }
          ],
          "scatterpolargl": [
           {
            "marker": {
             "colorbar": {
              "outlinewidth": 0,
              "ticks": ""
             }
            },
            "type": "scatterpolargl"
           }
          ],
          "scatterternary": [
           {
            "marker": {
             "colorbar": {
              "outlinewidth": 0,
              "ticks": ""
             }
            },
            "type": "scatterternary"
           }
          ],
          "surface": [
           {
            "colorbar": {
             "outlinewidth": 0,
             "ticks": ""
            },
            "colorscale": [
             [
              0,
              "#0d0887"
             ],
             [
              0.1111111111111111,
              "#46039f"
             ],
             [
              0.2222222222222222,
              "#7201a8"
             ],
             [
              0.3333333333333333,
              "#9c179e"
             ],
             [
              0.4444444444444444,
              "#bd3786"
             ],
             [
              0.5555555555555556,
              "#d8576b"
             ],
             [
              0.6666666666666666,
              "#ed7953"
             ],
             [
              0.7777777777777778,
              "#fb9f3a"
             ],
             [
              0.8888888888888888,
              "#fdca26"
             ],
             [
              1,
              "#f0f921"
             ]
            ],
            "type": "surface"
           }
          ],
          "table": [
           {
            "cells": {
             "fill": {
              "color": "#EBF0F8"
             },
             "line": {
              "color": "white"
             }
            },
            "header": {
             "fill": {
              "color": "#C8D4E3"
             },
             "line": {
              "color": "white"
             }
            },
            "type": "table"
           }
          ]
         },
         "layout": {
          "annotationdefaults": {
           "arrowcolor": "#2a3f5f",
           "arrowhead": 0,
           "arrowwidth": 1
          },
          "autotypenumbers": "strict",
          "coloraxis": {
           "colorbar": {
            "outlinewidth": 0,
            "ticks": ""
           }
          },
          "colorscale": {
           "diverging": [
            [
             0,
             "#8e0152"
            ],
            [
             0.1,
             "#c51b7d"
            ],
            [
             0.2,
             "#de77ae"
            ],
            [
             0.3,
             "#f1b6da"
            ],
            [
             0.4,
             "#fde0ef"
            ],
            [
             0.5,
             "#f7f7f7"
            ],
            [
             0.6,
             "#e6f5d0"
            ],
            [
             0.7,
             "#b8e186"
            ],
            [
             0.8,
             "#7fbc41"
            ],
            [
             0.9,
             "#4d9221"
            ],
            [
             1,
             "#276419"
            ]
           ],
           "sequential": [
            [
             0,
             "#0d0887"
            ],
            [
             0.1111111111111111,
             "#46039f"
            ],
            [
             0.2222222222222222,
             "#7201a8"
            ],
            [
             0.3333333333333333,
             "#9c179e"
            ],
            [
             0.4444444444444444,
             "#bd3786"
            ],
            [
             0.5555555555555556,
             "#d8576b"
            ],
            [
             0.6666666666666666,
             "#ed7953"
            ],
            [
             0.7777777777777778,
             "#fb9f3a"
            ],
            [
             0.8888888888888888,
             "#fdca26"
            ],
            [
             1,
             "#f0f921"
            ]
           ],
           "sequentialminus": [
            [
             0,
             "#0d0887"
            ],
            [
             0.1111111111111111,
             "#46039f"
            ],
            [
             0.2222222222222222,
             "#7201a8"
            ],
            [
             0.3333333333333333,
             "#9c179e"
            ],
            [
             0.4444444444444444,
             "#bd3786"
            ],
            [
             0.5555555555555556,
             "#d8576b"
            ],
            [
             0.6666666666666666,
             "#ed7953"
            ],
            [
             0.7777777777777778,
             "#fb9f3a"
            ],
            [
             0.8888888888888888,
             "#fdca26"
            ],
            [
             1,
             "#f0f921"
            ]
           ]
          },
          "colorway": [
           "#636efa",
           "#EF553B",
           "#00cc96",
           "#ab63fa",
           "#FFA15A",
           "#19d3f3",
           "#FF6692",
           "#B6E880",
           "#FF97FF",
           "#FECB52"
          ],
          "font": {
           "color": "#2a3f5f"
          },
          "geo": {
           "bgcolor": "white",
           "lakecolor": "white",
           "landcolor": "#E5ECF6",
           "showlakes": true,
           "showland": true,
           "subunitcolor": "white"
          },
          "hoverlabel": {
           "align": "left"
          },
          "hovermode": "closest",
          "mapbox": {
           "style": "light"
          },
          "paper_bgcolor": "white",
          "plot_bgcolor": "#E5ECF6",
          "polar": {
           "angularaxis": {
            "gridcolor": "white",
            "linecolor": "white",
            "ticks": ""
           },
           "bgcolor": "#E5ECF6",
           "radialaxis": {
            "gridcolor": "white",
            "linecolor": "white",
            "ticks": ""
           }
          },
          "scene": {
           "xaxis": {
            "backgroundcolor": "#E5ECF6",
            "gridcolor": "white",
            "gridwidth": 2,
            "linecolor": "white",
            "showbackground": true,
            "ticks": "",
            "zerolinecolor": "white"
           },
           "yaxis": {
            "backgroundcolor": "#E5ECF6",
            "gridcolor": "white",
            "gridwidth": 2,
            "linecolor": "white",
            "showbackground": true,
            "ticks": "",
            "zerolinecolor": "white"
           },
           "zaxis": {
            "backgroundcolor": "#E5ECF6",
            "gridcolor": "white",
            "gridwidth": 2,
            "linecolor": "white",
            "showbackground": true,
            "ticks": "",
            "zerolinecolor": "white"
           }
          },
          "shapedefaults": {
           "line": {
            "color": "#2a3f5f"
           }
          },
          "ternary": {
           "aaxis": {
            "gridcolor": "white",
            "linecolor": "white",
            "ticks": ""
           },
           "baxis": {
            "gridcolor": "white",
            "linecolor": "white",
            "ticks": ""
           },
           "bgcolor": "#E5ECF6",
           "caxis": {
            "gridcolor": "white",
            "linecolor": "white",
            "ticks": ""
           }
          },
          "title": {
           "x": 0.05
          },
          "xaxis": {
           "automargin": true,
           "gridcolor": "white",
           "linecolor": "white",
           "ticks": "",
           "title": {
            "standoff": 15
           },
           "zerolinecolor": "white",
           "zerolinewidth": 2
          },
          "yaxis": {
           "automargin": true,
           "gridcolor": "white",
           "linecolor": "white",
           "ticks": "",
           "title": {
            "standoff": 15
           },
           "zerolinecolor": "white",
           "zerolinewidth": 2
          }
         }
        },
        "title": {
         "text": "core7 predictions for non-core assays, predScore >= 0.60"
        },
        "xaxis": {
         "anchor": "y",
         "categoryarray": [
          "trx_reg",
          "heterochrom",
          "polycomb",
          "splicing",
          "insulator",
          "other/mixed"
         ],
         "categoryorder": "array",
         "domain": [
          0,
          1
         ],
         "ticktext": [
          "trx_reg (N=1573)",
          "heterochrom (N=37)",
          "polycomb (N=82)",
          "splicing (N=5)",
          "insulator (N=305)",
          "other/mixed (N=43)"
         ],
         "tickvals": [
          "trx_reg",
          "heterochrom",
          "polycomb",
          "splicing",
          "insulator",
          "other/mixed"
         ],
         "title": {
          "text": "Assay Category"
         }
        },
        "yaxis": {
         "anchor": "x",
         "domain": [
          0,
          1
         ],
         "title": {
          "text": "Fraction (%)"
         }
        }
       }
      }
     },
     "metadata": {},
     "output_type": "display_data"
    },
    {
     "data": {
      "application/vnd.plotly.v1+json": {
       "config": {
        "plotlyServerURL": "https://plot.ly"
       },
       "data": [
        {
         "alignmentgroup": "True",
         "hovertemplate": "Predicted class=h3k27ac<br>Assay Category=%{x}<br>Fraction (%)=%{y}<extra></extra>",
         "legendgroup": "h3k27ac",
         "marker": {
          "color": "rgb(225,148,37)",
          "pattern": {
           "shape": ""
          }
         },
         "name": "h3k27ac",
         "offsetgroup": "h3k27ac",
         "orientation": "v",
         "showlegend": true,
         "textposition": "auto",
         "type": "bar",
         "x": [
          "trx_reg",
          "other/mixed",
          "insulator"
         ],
         "xaxis": "x",
         "y": [
          38.10359964881475,
          22.58064516129032,
          0.9009009009009009
         ],
         "yaxis": "y"
        },
        {
         "alignmentgroup": "True",
         "hovertemplate": "Predicted class=h3k4me3<br>Assay Category=%{x}<br>Fraction (%)=%{y}<extra></extra>",
         "legendgroup": "h3k4me3",
         "marker": {
          "color": "rgb(238,30,37)",
          "pattern": {
           "shape": ""
          }
         },
         "name": "h3k4me3",
         "offsetgroup": "h3k4me3",
         "orientation": "v",
         "showlegend": true,
         "textposition": "auto",
         "type": "bar",
         "x": [
          "trx_reg",
          "polycomb",
          "other/mixed",
          "insulator",
          "heterochrom"
         ],
         "xaxis": "x",
         "y": [
          36.78665496049166,
          2.8169014084507045,
          38.70967741935484,
          8.108108108108109,
          3.7037037037037033
         ],
         "yaxis": "y"
        },
        {
         "alignmentgroup": "True",
         "hovertemplate": "Predicted class=h3k4me1<br>Assay Category=%{x}<br>Fraction (%)=%{y}<extra></extra>",
         "legendgroup": "h3k4me1",
         "marker": {
          "color": "rgb(236,232,56)",
          "pattern": {
           "shape": ""
          }
         },
         "name": "h3k4me1",
         "offsetgroup": "h3k4me1",
         "orientation": "v",
         "showlegend": true,
         "textposition": "auto",
         "type": "bar",
         "x": [
          "trx_reg",
          "other/mixed"
         ],
         "xaxis": "x",
         "y": [
          13.169446883230904,
          9.67741935483871
         ],
         "yaxis": "y"
        },
        {
         "alignmentgroup": "True",
         "hovertemplate": "Predicted class=h3k9me3<br>Assay Category=%{x}<br>Fraction (%)=%{y}<extra></extra>",
         "legendgroup": "h3k9me3",
         "marker": {
          "color": "rgb(144,206,219)",
          "pattern": {
           "shape": ""
          }
         },
         "name": "h3k9me3",
         "offsetgroup": "h3k9me3",
         "orientation": "v",
         "showlegend": true,
         "textposition": "auto",
         "type": "bar",
         "x": [
          "trx_reg",
          "heterochrom"
         ],
         "xaxis": "x",
         "y": [
          0.4389815627743635,
          66.66666666666666
         ],
         "yaxis": "y"
        },
        {
         "alignmentgroup": "True",
         "hovertemplate": "Predicted class=h3k27me3<br>Assay Category=%{x}<br>Fraction (%)=%{y}<extra></extra>",
         "legendgroup": "h3k27me3",
         "marker": {
          "color": "rgb(184,185,189)",
          "pattern": {
           "shape": ""
          }
         },
         "name": "h3k27me3",
         "offsetgroup": "h3k27me3",
         "orientation": "v",
         "showlegend": true,
         "textposition": "auto",
         "type": "bar",
         "x": [
          "trx_reg",
          "polycomb"
         ],
         "xaxis": "x",
         "y": [
          0.17559262510974538,
          97.1830985915493
         ],
         "yaxis": "y"
        },
        {
         "alignmentgroup": "True",
         "hovertemplate": "Predicted class=h3k36me3<br>Assay Category=%{x}<br>Fraction (%)=%{y}<extra></extra>",
         "legendgroup": "h3k36me3",
         "marker": {
          "color": "rgb(13,127,66)",
          "pattern": {
           "shape": ""
          }
         },
         "name": "h3k36me3",
         "offsetgroup": "h3k36me3",
         "orientation": "v",
         "showlegend": true,
         "textposition": "auto",
         "type": "bar",
         "x": [
          "trx_reg",
          "splicing"
         ],
         "xaxis": "x",
         "y": [
          0.17559262510974538,
          100
         ],
         "yaxis": "y"
        },
        {
         "alignmentgroup": "True",
         "hovertemplate": "Predicted class=input<br>Assay Category=%{x}<br>Fraction (%)=%{y}<extra></extra>",
         "legendgroup": "input",
         "marker": {
          "color": "rgb(30,30,30)",
          "pattern": {
           "shape": ""
          }
         },
         "name": "input",
         "offsetgroup": "input",
         "orientation": "v",
         "showlegend": true,
         "textposition": "auto",
         "type": "bar",
         "x": [
          "trx_reg",
          "other/mixed",
          "insulator",
          "heterochrom"
         ],
         "xaxis": "x",
         "y": [
          11.150131694468831,
          29.03225806451613,
          90.990990990991,
          29.629629629629626
         ],
         "yaxis": "y"
        }
       ],
       "layout": {
        "barmode": "stack",
        "legend": {
         "title": {
          "text": "Predicted class"
         },
         "tracegroupgap": 0
        },
        "template": {
         "data": {
          "bar": [
           {
            "error_x": {
             "color": "#2a3f5f"
            },
            "error_y": {
             "color": "#2a3f5f"
            },
            "marker": {
             "line": {
              "color": "#E5ECF6",
              "width": 0.5
             },
             "pattern": {
              "fillmode": "overlay",
              "size": 10,
              "solidity": 0.2
             }
            },
            "type": "bar"
           }
          ],
          "barpolar": [
           {
            "marker": {
             "line": {
              "color": "#E5ECF6",
              "width": 0.5
             },
             "pattern": {
              "fillmode": "overlay",
              "size": 10,
              "solidity": 0.2
             }
            },
            "type": "barpolar"
           }
          ],
          "carpet": [
           {
            "aaxis": {
             "endlinecolor": "#2a3f5f",
             "gridcolor": "white",
             "linecolor": "white",
             "minorgridcolor": "white",
             "startlinecolor": "#2a3f5f"
            },
            "baxis": {
             "endlinecolor": "#2a3f5f",
             "gridcolor": "white",
             "linecolor": "white",
             "minorgridcolor": "white",
             "startlinecolor": "#2a3f5f"
            },
            "type": "carpet"
           }
          ],
          "choropleth": [
           {
            "colorbar": {
             "outlinewidth": 0,
             "ticks": ""
            },
            "type": "choropleth"
           }
          ],
          "contour": [
           {
            "colorbar": {
             "outlinewidth": 0,
             "ticks": ""
            },
            "colorscale": [
             [
              0,
              "#0d0887"
             ],
             [
              0.1111111111111111,
              "#46039f"
             ],
             [
              0.2222222222222222,
              "#7201a8"
             ],
             [
              0.3333333333333333,
              "#9c179e"
             ],
             [
              0.4444444444444444,
              "#bd3786"
             ],
             [
              0.5555555555555556,
              "#d8576b"
             ],
             [
              0.6666666666666666,
              "#ed7953"
             ],
             [
              0.7777777777777778,
              "#fb9f3a"
             ],
             [
              0.8888888888888888,
              "#fdca26"
             ],
             [
              1,
              "#f0f921"
             ]
            ],
            "type": "contour"
           }
          ],
          "contourcarpet": [
           {
            "colorbar": {
             "outlinewidth": 0,
             "ticks": ""
            },
            "type": "contourcarpet"
           }
          ],
          "heatmap": [
           {
            "colorbar": {
             "outlinewidth": 0,
             "ticks": ""
            },
            "colorscale": [
             [
              0,
              "#0d0887"
             ],
             [
              0.1111111111111111,
              "#46039f"
             ],
             [
              0.2222222222222222,
              "#7201a8"
             ],
             [
              0.3333333333333333,
              "#9c179e"
             ],
             [
              0.4444444444444444,
              "#bd3786"
             ],
             [
              0.5555555555555556,
              "#d8576b"
             ],
             [
              0.6666666666666666,
              "#ed7953"
             ],
             [
              0.7777777777777778,
              "#fb9f3a"
             ],
             [
              0.8888888888888888,
              "#fdca26"
             ],
             [
              1,
              "#f0f921"
             ]
            ],
            "type": "heatmap"
           }
          ],
          "heatmapgl": [
           {
            "colorbar": {
             "outlinewidth": 0,
             "ticks": ""
            },
            "colorscale": [
             [
              0,
              "#0d0887"
             ],
             [
              0.1111111111111111,
              "#46039f"
             ],
             [
              0.2222222222222222,
              "#7201a8"
             ],
             [
              0.3333333333333333,
              "#9c179e"
             ],
             [
              0.4444444444444444,
              "#bd3786"
             ],
             [
              0.5555555555555556,
              "#d8576b"
             ],
             [
              0.6666666666666666,
              "#ed7953"
             ],
             [
              0.7777777777777778,
              "#fb9f3a"
             ],
             [
              0.8888888888888888,
              "#fdca26"
             ],
             [
              1,
              "#f0f921"
             ]
            ],
            "type": "heatmapgl"
           }
          ],
          "histogram": [
           {
            "marker": {
             "pattern": {
              "fillmode": "overlay",
              "size": 10,
              "solidity": 0.2
             }
            },
            "type": "histogram"
           }
          ],
          "histogram2d": [
           {
            "colorbar": {
             "outlinewidth": 0,
             "ticks": ""
            },
            "colorscale": [
             [
              0,
              "#0d0887"
             ],
             [
              0.1111111111111111,
              "#46039f"
             ],
             [
              0.2222222222222222,
              "#7201a8"
             ],
             [
              0.3333333333333333,
              "#9c179e"
             ],
             [
              0.4444444444444444,
              "#bd3786"
             ],
             [
              0.5555555555555556,
              "#d8576b"
             ],
             [
              0.6666666666666666,
              "#ed7953"
             ],
             [
              0.7777777777777778,
              "#fb9f3a"
             ],
             [
              0.8888888888888888,
              "#fdca26"
             ],
             [
              1,
              "#f0f921"
             ]
            ],
            "type": "histogram2d"
           }
          ],
          "histogram2dcontour": [
           {
            "colorbar": {
             "outlinewidth": 0,
             "ticks": ""
            },
            "colorscale": [
             [
              0,
              "#0d0887"
             ],
             [
              0.1111111111111111,
              "#46039f"
             ],
             [
              0.2222222222222222,
              "#7201a8"
             ],
             [
              0.3333333333333333,
              "#9c179e"
             ],
             [
              0.4444444444444444,
              "#bd3786"
             ],
             [
              0.5555555555555556,
              "#d8576b"
             ],
             [
              0.6666666666666666,
              "#ed7953"
             ],
             [
              0.7777777777777778,
              "#fb9f3a"
             ],
             [
              0.8888888888888888,
              "#fdca26"
             ],
             [
              1,
              "#f0f921"
             ]
            ],
            "type": "histogram2dcontour"
           }
          ],
          "mesh3d": [
           {
            "colorbar": {
             "outlinewidth": 0,
             "ticks": ""
            },
            "type": "mesh3d"
           }
          ],
          "parcoords": [
           {
            "line": {
             "colorbar": {
              "outlinewidth": 0,
              "ticks": ""
             }
            },
            "type": "parcoords"
           }
          ],
          "pie": [
           {
            "automargin": true,
            "type": "pie"
           }
          ],
          "scatter": [
           {
            "fillpattern": {
             "fillmode": "overlay",
             "size": 10,
             "solidity": 0.2
            },
            "type": "scatter"
           }
          ],
          "scatter3d": [
           {
            "line": {
             "colorbar": {
              "outlinewidth": 0,
              "ticks": ""
             }
            },
            "marker": {
             "colorbar": {
              "outlinewidth": 0,
              "ticks": ""
             }
            },
            "type": "scatter3d"
           }
          ],
          "scattercarpet": [
           {
            "marker": {
             "colorbar": {
              "outlinewidth": 0,
              "ticks": ""
             }
            },
            "type": "scattercarpet"
           }
          ],
          "scattergeo": [
           {
            "marker": {
             "colorbar": {
              "outlinewidth": 0,
              "ticks": ""
             }
            },
            "type": "scattergeo"
           }
          ],
          "scattergl": [
           {
            "marker": {
             "colorbar": {
              "outlinewidth": 0,
              "ticks": ""
             }
            },
            "type": "scattergl"
           }
          ],
          "scattermapbox": [
           {
            "marker": {
             "colorbar": {
              "outlinewidth": 0,
              "ticks": ""
             }
            },
            "type": "scattermapbox"
           }
          ],
          "scatterpolar": [
           {
            "marker": {
             "colorbar": {
              "outlinewidth": 0,
              "ticks": ""
             }
            },
            "type": "scatterpolar"
           }
          ],
          "scatterpolargl": [
           {
            "marker": {
             "colorbar": {
              "outlinewidth": 0,
              "ticks": ""
             }
            },
            "type": "scatterpolargl"
           }
          ],
          "scatterternary": [
           {
            "marker": {
             "colorbar": {
              "outlinewidth": 0,
              "ticks": ""
             }
            },
            "type": "scatterternary"
           }
          ],
          "surface": [
           {
            "colorbar": {
             "outlinewidth": 0,
             "ticks": ""
            },
            "colorscale": [
             [
              0,
              "#0d0887"
             ],
             [
              0.1111111111111111,
              "#46039f"
             ],
             [
              0.2222222222222222,
              "#7201a8"
             ],
             [
              0.3333333333333333,
              "#9c179e"
             ],
             [
              0.4444444444444444,
              "#bd3786"
             ],
             [
              0.5555555555555556,
              "#d8576b"
             ],
             [
              0.6666666666666666,
              "#ed7953"
             ],
             [
              0.7777777777777778,
              "#fb9f3a"
             ],
             [
              0.8888888888888888,
              "#fdca26"
             ],
             [
              1,
              "#f0f921"
             ]
            ],
            "type": "surface"
           }
          ],
          "table": [
           {
            "cells": {
             "fill": {
              "color": "#EBF0F8"
             },
             "line": {
              "color": "white"
             }
            },
            "header": {
             "fill": {
              "color": "#C8D4E3"
             },
             "line": {
              "color": "white"
             }
            },
            "type": "table"
           }
          ]
         },
         "layout": {
          "annotationdefaults": {
           "arrowcolor": "#2a3f5f",
           "arrowhead": 0,
           "arrowwidth": 1
          },
          "autotypenumbers": "strict",
          "coloraxis": {
           "colorbar": {
            "outlinewidth": 0,
            "ticks": ""
           }
          },
          "colorscale": {
           "diverging": [
            [
             0,
             "#8e0152"
            ],
            [
             0.1,
             "#c51b7d"
            ],
            [
             0.2,
             "#de77ae"
            ],
            [
             0.3,
             "#f1b6da"
            ],
            [
             0.4,
             "#fde0ef"
            ],
            [
             0.5,
             "#f7f7f7"
            ],
            [
             0.6,
             "#e6f5d0"
            ],
            [
             0.7,
             "#b8e186"
            ],
            [
             0.8,
             "#7fbc41"
            ],
            [
             0.9,
             "#4d9221"
            ],
            [
             1,
             "#276419"
            ]
           ],
           "sequential": [
            [
             0,
             "#0d0887"
            ],
            [
             0.1111111111111111,
             "#46039f"
            ],
            [
             0.2222222222222222,
             "#7201a8"
            ],
            [
             0.3333333333333333,
             "#9c179e"
            ],
            [
             0.4444444444444444,
             "#bd3786"
            ],
            [
             0.5555555555555556,
             "#d8576b"
            ],
            [
             0.6666666666666666,
             "#ed7953"
            ],
            [
             0.7777777777777778,
             "#fb9f3a"
            ],
            [
             0.8888888888888888,
             "#fdca26"
            ],
            [
             1,
             "#f0f921"
            ]
           ],
           "sequentialminus": [
            [
             0,
             "#0d0887"
            ],
            [
             0.1111111111111111,
             "#46039f"
            ],
            [
             0.2222222222222222,
             "#7201a8"
            ],
            [
             0.3333333333333333,
             "#9c179e"
            ],
            [
             0.4444444444444444,
             "#bd3786"
            ],
            [
             0.5555555555555556,
             "#d8576b"
            ],
            [
             0.6666666666666666,
             "#ed7953"
            ],
            [
             0.7777777777777778,
             "#fb9f3a"
            ],
            [
             0.8888888888888888,
             "#fdca26"
            ],
            [
             1,
             "#f0f921"
            ]
           ]
          },
          "colorway": [
           "#636efa",
           "#EF553B",
           "#00cc96",
           "#ab63fa",
           "#FFA15A",
           "#19d3f3",
           "#FF6692",
           "#B6E880",
           "#FF97FF",
           "#FECB52"
          ],
          "font": {
           "color": "#2a3f5f"
          },
          "geo": {
           "bgcolor": "white",
           "lakecolor": "white",
           "landcolor": "#E5ECF6",
           "showlakes": true,
           "showland": true,
           "subunitcolor": "white"
          },
          "hoverlabel": {
           "align": "left"
          },
          "hovermode": "closest",
          "mapbox": {
           "style": "light"
          },
          "paper_bgcolor": "white",
          "plot_bgcolor": "#E5ECF6",
          "polar": {
           "angularaxis": {
            "gridcolor": "white",
            "linecolor": "white",
            "ticks": ""
           },
           "bgcolor": "#E5ECF6",
           "radialaxis": {
            "gridcolor": "white",
            "linecolor": "white",
            "ticks": ""
           }
          },
          "scene": {
           "xaxis": {
            "backgroundcolor": "#E5ECF6",
            "gridcolor": "white",
            "gridwidth": 2,
            "linecolor": "white",
            "showbackground": true,
            "ticks": "",
            "zerolinecolor": "white"
           },
           "yaxis": {
            "backgroundcolor": "#E5ECF6",
            "gridcolor": "white",
            "gridwidth": 2,
            "linecolor": "white",
            "showbackground": true,
            "ticks": "",
            "zerolinecolor": "white"
           },
           "zaxis": {
            "backgroundcolor": "#E5ECF6",
            "gridcolor": "white",
            "gridwidth": 2,
            "linecolor": "white",
            "showbackground": true,
            "ticks": "",
            "zerolinecolor": "white"
           }
          },
          "shapedefaults": {
           "line": {
            "color": "#2a3f5f"
           }
          },
          "ternary": {
           "aaxis": {
            "gridcolor": "white",
            "linecolor": "white",
            "ticks": ""
           },
           "baxis": {
            "gridcolor": "white",
            "linecolor": "white",
            "ticks": ""
           },
           "bgcolor": "#E5ECF6",
           "caxis": {
            "gridcolor": "white",
            "linecolor": "white",
            "ticks": ""
           }
          },
          "title": {
           "x": 0.05
          },
          "xaxis": {
           "automargin": true,
           "gridcolor": "white",
           "linecolor": "white",
           "ticks": "",
           "title": {
            "standoff": 15
           },
           "zerolinecolor": "white",
           "zerolinewidth": 2
          },
          "yaxis": {
           "automargin": true,
           "gridcolor": "white",
           "linecolor": "white",
           "ticks": "",
           "title": {
            "standoff": 15
           },
           "zerolinecolor": "white",
           "zerolinewidth": 2
          }
         }
        },
        "title": {
         "text": "core7 predictions for non-core assays, predScore >= 0.80"
        },
        "xaxis": {
         "anchor": "y",
         "categoryarray": [
          "trx_reg",
          "heterochrom",
          "polycomb",
          "splicing",
          "insulator",
          "other/mixed"
         ],
         "categoryorder": "array",
         "domain": [
          0,
          1
         ],
         "ticktext": [
          "trx_reg (N=1139)",
          "heterochrom (N=27)",
          "polycomb (N=71)",
          "splicing (N=1)",
          "insulator (N=111)",
          "other/mixed (N=31)"
         ],
         "tickvals": [
          "trx_reg",
          "heterochrom",
          "polycomb",
          "splicing",
          "insulator",
          "other/mixed"
         ],
         "title": {
          "text": "Assay Category"
         }
        },
        "yaxis": {
         "anchor": "x",
         "domain": [
          0,
          1
         ],
         "title": {
          "text": "Fraction (%)"
         }
        }
       }
      }
     },
     "metadata": {},
     "output_type": "display_data"
    }
   ],
   "source": [
    "fig_dir = section_fig_dir / \"stacked_bar_X_assay_category\"\n",
    "fig_dir.mkdir(parents=False, exist_ok=True)\n",
    "\n",
    "assay_categories_order = [\n",
    "    \"trx_reg\",\n",
    "    \"heterochrom\",\n",
    "    \"polycomb\",\n",
    "    \"splicing\",\n",
    "    \"insulator\",\n",
    "    \"other/mixed\",\n",
    "]\n",
    "\n",
    "for min_pred in [0, 0.6, 0.8]:\n",
    "    sub_df = df[df[\"Max pred\"] >= min_pred]\n",
    "    groupby = (\n",
    "        sub_df.groupby([\"assay_category\", \"Predicted class\"])\n",
    "        .size()\n",
    "        .reset_index(name=\"Count\")\n",
    "        .sort_values(by=[\"assay_category\", \"Count\"], ascending=[True, False])\n",
    "    )\n",
    "    groupby[\"Percentage\"] = groupby.groupby(\"assay_category\")[\"Count\"].transform(\n",
    "        lambda x: (x / x.sum()) * 100\n",
    "    )\n",
    "\n",
    "    # Add order for plotting\n",
    "    groupby[\"assay_order\"] = groupby[\"Predicted class\"].map(assay_epiclass_order)\n",
    "    groupby = groupby.sort_values(\n",
    "        by=[\"assay_category\", \"assay_order\"], ascending=[False, True]\n",
    "    )\n",
    "\n",
    "    # Main plot\n",
    "    fig = px.bar(\n",
    "        groupby,\n",
    "        x=\"assay_category\",\n",
    "        y=\"Percentage\",\n",
    "        color=\"Predicted class\",\n",
    "        barmode=\"stack\",\n",
    "        category_orders={\"assay_category\": assay_categories_order},\n",
    "        color_discrete_map=assay_colors,\n",
    "        title=f\"core7 predictions for non-core assays, predScore >= {min_pred:.2f}\",\n",
    "        labels={\"Percentage\": \"Fraction (%)\", \"assay_category\": \"Assay Category\"},\n",
    "    )\n",
    "\n",
    "    # Modify x-axis labels\n",
    "    total_counts = groupby.groupby(\"assay_category\")[\"Count\"].sum()\n",
    "\n",
    "    ticktext = [\n",
    "        f\"{assay_category} (N={total_counts[assay_category]})\"\n",
    "        for assay_category in assay_categories_order\n",
    "    ]\n",
    "    fig.update_xaxes(tickvals=assay_categories_order, ticktext=ticktext)\n",
    "\n",
    "    # Save and display\n",
    "    figname = f\"histogram_encode_non-core_assay_epiclass_minPred{min_pred:.2f}\"\n",
    "    fig.write_html(fig_dir / f\"{figname}.html\")\n",
    "    fig.write_image(fig_dir / f\"{figname}.png\")\n",
    "    fig.write_image(fig_dir / f\"{figname}.svg\")\n",
    "    fig.show()"
   ]
  },
  {
   "cell_type": "markdown",
   "metadata": {},
   "source": [
    "#### Assay category evolution with min_predScore"
   ]
  },
  {
   "cell_type": "code",
   "execution_count": 63,
   "metadata": {},
   "outputs": [],
   "source": [
    "def create_assay_category_graphs(df, output_dir: Path | None = None):\n",
    "    \"\"\"Graph assay category distribution for each predicted class.\"\"\"\n",
    "    # Get unique predicted classes\n",
    "    predicted_classes = df.index.get_level_values(\"Predicted class\").unique()\n",
    "    assay_categories = df.index.get_level_values(\"assay_category\").unique()\n",
    "\n",
    "    graph_colors = {\n",
    "        cat: px.colors.qualitative.Safe[i]\n",
    "        for i, cat in enumerate(sorted(assay_categories))\n",
    "    }\n",
    "\n",
    "    # Create a figure for each predicted class\n",
    "    for predicted_class in predicted_classes:\n",
    "        df_class = df.loc[predicted_class]\n",
    "\n",
    "        # Get unique assay categories for this predicted class\n",
    "        assay_categories = df_class.index.get_level_values(\"assay_category\").unique()\n",
    "\n",
    "        total_samples_at_zero = df_class.xs(0, level=\"Min pred\")[\"Total samples\"].iloc[0]\n",
    "\n",
    "        # Create the figure\n",
    "        fig = go.Figure()\n",
    "\n",
    "        for assay_category in assay_categories:\n",
    "            df_assay = df_class.xs(assay_category, level=\"assay_category\")\n",
    "\n",
    "            fig.add_trace(\n",
    "                go.Scatter(\n",
    "                    x=df_assay.index,\n",
    "                    y=df_assay[\"Percentage\"],\n",
    "                    mode=\"lines+markers\",\n",
    "                    name=assay_category,\n",
    "                    marker=dict(color=graph_colors[assay_category]),\n",
    "                )\n",
    "            )\n",
    "\n",
    "        conserved_percentages = (\n",
    "            df_class.groupby(\"Min pred\")[\"Total samples\"].first()\n",
    "            / total_samples_at_zero\n",
    "            * 100\n",
    "        )\n",
    "        fig.add_trace(\n",
    "            go.Scatter(\n",
    "                x=conserved_percentages.index,\n",
    "                y=conserved_percentages.values,\n",
    "                mode=\"lines+markers\",\n",
    "                name=\"Samples Conserved\",\n",
    "                line=dict(dash=\"dash\", color=\"black\"),\n",
    "            )\n",
    "        )\n",
    "\n",
    "        # Update layout\n",
    "        fig.update_layout(\n",
    "            title=f\"Composition for Predicted Class: {predicted_class}\",\n",
    "            xaxis_title=\"Min pred\",\n",
    "            yaxis_title=\"Percentage Composition\",\n",
    "            legend_title=\"Assay Category\",\n",
    "            hovermode=\"x unified\",\n",
    "        )\n",
    "\n",
    "        fig.update_xaxes(range=[-0.01, 1.01])\n",
    "        fig.update_yaxes(range=[0, 100])\n",
    "\n",
    "        # Save\n",
    "        if output_dir:\n",
    "            filename = f\"encode_non-core_7c_predictions_assay_category_{predicted_class}\"\n",
    "            fig.write_image(output_dir / f\"{filename}.png\")\n",
    "            fig.write_image(output_dir / f\"{filename}.svg\")\n",
    "            fig.write_html(output_dir / f\"{filename}.html\")\n",
    "        fig.show()"
   ]
  },
  {
   "cell_type": "code",
   "execution_count": 64,
   "metadata": {},
   "outputs": [
    {
     "data": {
      "application/vnd.plotly.v1+json": {
       "config": {
        "plotlyServerURL": "https://plot.ly"
       },
       "data": [
        {
         "marker": {
          "color": "rgb(170, 68, 153)"
         },
         "mode": "lines+markers",
         "name": "trx_reg",
         "type": "scatter",
         "x": [
          0,
          0.05,
          0.1,
          0.15000000000000002,
          0.2,
          0.25,
          0.30000000000000004,
          0.35000000000000003,
          0.4,
          0.45,
          0.5,
          0.55,
          0.6000000000000001,
          0.65,
          0.7000000000000001,
          0.75,
          0.8,
          0.8500000000000001,
          0.9,
          0.9500000000000001,
          0.99
         ],
         "y": [
          95.89,
          95.89,
          95.89,
          95.89,
          95.89,
          95.89,
          95.89,
          95.98,
          96.03,
          96.45,
          96.61,
          96.97,
          97.36,
          97.45,
          97.96,
          97.77,
          98.19,
          98.42,
          99.04,
          99.12,
          98.29
         ]
        },
        {
         "marker": {
          "color": "rgb(221, 204, 119)"
         },
         "mode": "lines+markers",
         "name": "other/mixed",
         "type": "scatter",
         "x": [
          0,
          0.05,
          0.1,
          0.15000000000000002,
          0.2,
          0.25,
          0.30000000000000004,
          0.35000000000000003,
          0.4,
          0.45,
          0.5,
          0.55,
          0.6000000000000001,
          0.65,
          0.7000000000000001,
          0.75,
          0.8,
          0.8500000000000001,
          0.9,
          0.9500000000000001,
          0.99
         ],
         "y": [
          2.37,
          2.37,
          2.37,
          2.37,
          2.37,
          2.37,
          2.37,
          2.39,
          2.31,
          2.23,
          2.03,
          2.02,
          1.86,
          1.7,
          1.49,
          1.62,
          1.58,
          1.58,
          0.96,
          0.88,
          1.71
         ]
        },
        {
         "marker": {
          "color": "rgb(204, 102, 119)"
         },
         "mode": "lines+markers",
         "name": "insulator",
         "type": "scatter",
         "x": [
          0,
          0.05,
          0.1,
          0.15000000000000002,
          0.2,
          0.25,
          0.30000000000000004,
          0.35000000000000003,
          0.4,
          0.45,
          0.5,
          0.55,
          0.6000000000000001,
          0.65,
          0.7000000000000001,
          0.75,
          0.8
         ],
         "y": [
          1.25,
          1.25,
          1.25,
          1.25,
          1.25,
          1.25,
          1.25,
          1.13,
          1.15,
          0.79,
          0.81,
          0.58,
          0.47,
          0.51,
          0.37,
          0.41,
          0.23
         ]
        },
        {
         "marker": {
          "color": "rgb(17, 119, 51)"
         },
         "mode": "lines+markers",
         "name": "polycomb",
         "type": "scatter",
         "x": [
          0,
          0.05,
          0.1,
          0.15000000000000002,
          0.2,
          0.25,
          0.30000000000000004,
          0.35000000000000003,
          0.4,
          0.45,
          0.5,
          0.55
         ],
         "y": [
          0.25,
          0.25,
          0.25,
          0.25,
          0.25,
          0.25,
          0.25,
          0.25,
          0.26,
          0.26,
          0.27,
          0.14
         ]
        },
        {
         "marker": {
          "color": "rgb(136, 204, 238)"
         },
         "mode": "lines+markers",
         "name": "heterochrom",
         "type": "scatter",
         "x": [
          0,
          0.05,
          0.1,
          0.15000000000000002,
          0.2,
          0.25,
          0.30000000000000004,
          0.35000000000000003,
          0.4,
          0.45,
          0.5,
          0.55,
          0.6000000000000001,
          0.65
         ],
         "y": [
          0.12,
          0.12,
          0.12,
          0.12,
          0.12,
          0.12,
          0.12,
          0.13,
          0.13,
          0.13,
          0.14,
          0.14,
          0.16,
          0.17
         ]
        },
        {
         "marker": {
          "color": "rgb(51, 34, 136)"
         },
         "mode": "lines+markers",
         "name": "splicing",
         "type": "scatter",
         "x": [
          0,
          0.05,
          0.1,
          0.15000000000000002,
          0.2,
          0.25,
          0.30000000000000004,
          0.35000000000000003,
          0.4,
          0.45,
          0.5,
          0.55,
          0.6000000000000001,
          0.65,
          0.7000000000000001,
          0.75
         ],
         "y": [
          0.12,
          0.12,
          0.12,
          0.12,
          0.12,
          0.12,
          0.12,
          0.13,
          0.13,
          0.13,
          0.14,
          0.14,
          0.16,
          0.17,
          0.19,
          0.2
         ]
        },
        {
         "line": {
          "color": "black",
          "dash": "dash"
         },
         "mode": "lines+markers",
         "name": "Samples Conserved",
         "type": "scatter",
         "x": [
          0,
          0.05,
          0.1,
          0.15000000000000002,
          0.2,
          0.25,
          0.30000000000000004,
          0.35000000000000003,
          0.4,
          0.45,
          0.5,
          0.55,
          0.6000000000000001,
          0.65,
          0.7000000000000001,
          0.75,
          0.8,
          0.8500000000000001,
          0.9,
          0.9500000000000001,
          0.99
         ],
         "y": [
          100,
          100,
          100,
          100,
          100,
          100,
          99.87546699875467,
          99.12826899128268,
          97.13574097135741,
          94.76961394769614,
          91.90535491905355,
          86.3013698630137,
          80.32378580323785,
          73.34993773349939,
          66.99875466998755,
          61.394769613947695,
          55.04358655043586,
          47.19800747198008,
          38.72976338729763,
          28.144458281444585,
          14.570361145703611
         ]
        }
       ],
       "layout": {
        "hovermode": "x unified",
        "legend": {
         "title": {
          "text": "Assay Category"
         }
        },
        "template": {
         "data": {
          "bar": [
           {
            "error_x": {
             "color": "#2a3f5f"
            },
            "error_y": {
             "color": "#2a3f5f"
            },
            "marker": {
             "line": {
              "color": "#E5ECF6",
              "width": 0.5
             },
             "pattern": {
              "fillmode": "overlay",
              "size": 10,
              "solidity": 0.2
             }
            },
            "type": "bar"
           }
          ],
          "barpolar": [
           {
            "marker": {
             "line": {
              "color": "#E5ECF6",
              "width": 0.5
             },
             "pattern": {
              "fillmode": "overlay",
              "size": 10,
              "solidity": 0.2
             }
            },
            "type": "barpolar"
           }
          ],
          "carpet": [
           {
            "aaxis": {
             "endlinecolor": "#2a3f5f",
             "gridcolor": "white",
             "linecolor": "white",
             "minorgridcolor": "white",
             "startlinecolor": "#2a3f5f"
            },
            "baxis": {
             "endlinecolor": "#2a3f5f",
             "gridcolor": "white",
             "linecolor": "white",
             "minorgridcolor": "white",
             "startlinecolor": "#2a3f5f"
            },
            "type": "carpet"
           }
          ],
          "choropleth": [
           {
            "colorbar": {
             "outlinewidth": 0,
             "ticks": ""
            },
            "type": "choropleth"
           }
          ],
          "contour": [
           {
            "colorbar": {
             "outlinewidth": 0,
             "ticks": ""
            },
            "colorscale": [
             [
              0,
              "#0d0887"
             ],
             [
              0.1111111111111111,
              "#46039f"
             ],
             [
              0.2222222222222222,
              "#7201a8"
             ],
             [
              0.3333333333333333,
              "#9c179e"
             ],
             [
              0.4444444444444444,
              "#bd3786"
             ],
             [
              0.5555555555555556,
              "#d8576b"
             ],
             [
              0.6666666666666666,
              "#ed7953"
             ],
             [
              0.7777777777777778,
              "#fb9f3a"
             ],
             [
              0.8888888888888888,
              "#fdca26"
             ],
             [
              1,
              "#f0f921"
             ]
            ],
            "type": "contour"
           }
          ],
          "contourcarpet": [
           {
            "colorbar": {
             "outlinewidth": 0,
             "ticks": ""
            },
            "type": "contourcarpet"
           }
          ],
          "heatmap": [
           {
            "colorbar": {
             "outlinewidth": 0,
             "ticks": ""
            },
            "colorscale": [
             [
              0,
              "#0d0887"
             ],
             [
              0.1111111111111111,
              "#46039f"
             ],
             [
              0.2222222222222222,
              "#7201a8"
             ],
             [
              0.3333333333333333,
              "#9c179e"
             ],
             [
              0.4444444444444444,
              "#bd3786"
             ],
             [
              0.5555555555555556,
              "#d8576b"
             ],
             [
              0.6666666666666666,
              "#ed7953"
             ],
             [
              0.7777777777777778,
              "#fb9f3a"
             ],
             [
              0.8888888888888888,
              "#fdca26"
             ],
             [
              1,
              "#f0f921"
             ]
            ],
            "type": "heatmap"
           }
          ],
          "heatmapgl": [
           {
            "colorbar": {
             "outlinewidth": 0,
             "ticks": ""
            },
            "colorscale": [
             [
              0,
              "#0d0887"
             ],
             [
              0.1111111111111111,
              "#46039f"
             ],
             [
              0.2222222222222222,
              "#7201a8"
             ],
             [
              0.3333333333333333,
              "#9c179e"
             ],
             [
              0.4444444444444444,
              "#bd3786"
             ],
             [
              0.5555555555555556,
              "#d8576b"
             ],
             [
              0.6666666666666666,
              "#ed7953"
             ],
             [
              0.7777777777777778,
              "#fb9f3a"
             ],
             [
              0.8888888888888888,
              "#fdca26"
             ],
             [
              1,
              "#f0f921"
             ]
            ],
            "type": "heatmapgl"
           }
          ],
          "histogram": [
           {
            "marker": {
             "pattern": {
              "fillmode": "overlay",
              "size": 10,
              "solidity": 0.2
             }
            },
            "type": "histogram"
           }
          ],
          "histogram2d": [
           {
            "colorbar": {
             "outlinewidth": 0,
             "ticks": ""
            },
            "colorscale": [
             [
              0,
              "#0d0887"
             ],
             [
              0.1111111111111111,
              "#46039f"
             ],
             [
              0.2222222222222222,
              "#7201a8"
             ],
             [
              0.3333333333333333,
              "#9c179e"
             ],
             [
              0.4444444444444444,
              "#bd3786"
             ],
             [
              0.5555555555555556,
              "#d8576b"
             ],
             [
              0.6666666666666666,
              "#ed7953"
             ],
             [
              0.7777777777777778,
              "#fb9f3a"
             ],
             [
              0.8888888888888888,
              "#fdca26"
             ],
             [
              1,
              "#f0f921"
             ]
            ],
            "type": "histogram2d"
           }
          ],
          "histogram2dcontour": [
           {
            "colorbar": {
             "outlinewidth": 0,
             "ticks": ""
            },
            "colorscale": [
             [
              0,
              "#0d0887"
             ],
             [
              0.1111111111111111,
              "#46039f"
             ],
             [
              0.2222222222222222,
              "#7201a8"
             ],
             [
              0.3333333333333333,
              "#9c179e"
             ],
             [
              0.4444444444444444,
              "#bd3786"
             ],
             [
              0.5555555555555556,
              "#d8576b"
             ],
             [
              0.6666666666666666,
              "#ed7953"
             ],
             [
              0.7777777777777778,
              "#fb9f3a"
             ],
             [
              0.8888888888888888,
              "#fdca26"
             ],
             [
              1,
              "#f0f921"
             ]
            ],
            "type": "histogram2dcontour"
           }
          ],
          "mesh3d": [
           {
            "colorbar": {
             "outlinewidth": 0,
             "ticks": ""
            },
            "type": "mesh3d"
           }
          ],
          "parcoords": [
           {
            "line": {
             "colorbar": {
              "outlinewidth": 0,
              "ticks": ""
             }
            },
            "type": "parcoords"
           }
          ],
          "pie": [
           {
            "automargin": true,
            "type": "pie"
           }
          ],
          "scatter": [
           {
            "fillpattern": {
             "fillmode": "overlay",
             "size": 10,
             "solidity": 0.2
            },
            "type": "scatter"
           }
          ],
          "scatter3d": [
           {
            "line": {
             "colorbar": {
              "outlinewidth": 0,
              "ticks": ""
             }
            },
            "marker": {
             "colorbar": {
              "outlinewidth": 0,
              "ticks": ""
             }
            },
            "type": "scatter3d"
           }
          ],
          "scattercarpet": [
           {
            "marker": {
             "colorbar": {
              "outlinewidth": 0,
              "ticks": ""
             }
            },
            "type": "scattercarpet"
           }
          ],
          "scattergeo": [
           {
            "marker": {
             "colorbar": {
              "outlinewidth": 0,
              "ticks": ""
             }
            },
            "type": "scattergeo"
           }
          ],
          "scattergl": [
           {
            "marker": {
             "colorbar": {
              "outlinewidth": 0,
              "ticks": ""
             }
            },
            "type": "scattergl"
           }
          ],
          "scattermapbox": [
           {
            "marker": {
             "colorbar": {
              "outlinewidth": 0,
              "ticks": ""
             }
            },
            "type": "scattermapbox"
           }
          ],
          "scatterpolar": [
           {
            "marker": {
             "colorbar": {
              "outlinewidth": 0,
              "ticks": ""
             }
            },
            "type": "scatterpolar"
           }
          ],
          "scatterpolargl": [
           {
            "marker": {
             "colorbar": {
              "outlinewidth": 0,
              "ticks": ""
             }
            },
            "type": "scatterpolargl"
           }
          ],
          "scatterternary": [
           {
            "marker": {
             "colorbar": {
              "outlinewidth": 0,
              "ticks": ""
             }
            },
            "type": "scatterternary"
           }
          ],
          "surface": [
           {
            "colorbar": {
             "outlinewidth": 0,
             "ticks": ""
            },
            "colorscale": [
             [
              0,
              "#0d0887"
             ],
             [
              0.1111111111111111,
              "#46039f"
             ],
             [
              0.2222222222222222,
              "#7201a8"
             ],
             [
              0.3333333333333333,
              "#9c179e"
             ],
             [
              0.4444444444444444,
              "#bd3786"
             ],
             [
              0.5555555555555556,
              "#d8576b"
             ],
             [
              0.6666666666666666,
              "#ed7953"
             ],
             [
              0.7777777777777778,
              "#fb9f3a"
             ],
             [
              0.8888888888888888,
              "#fdca26"
             ],
             [
              1,
              "#f0f921"
             ]
            ],
            "type": "surface"
           }
          ],
          "table": [
           {
            "cells": {
             "fill": {
              "color": "#EBF0F8"
             },
             "line": {
              "color": "white"
             }
            },
            "header": {
             "fill": {
              "color": "#C8D4E3"
             },
             "line": {
              "color": "white"
             }
            },
            "type": "table"
           }
          ]
         },
         "layout": {
          "annotationdefaults": {
           "arrowcolor": "#2a3f5f",
           "arrowhead": 0,
           "arrowwidth": 1
          },
          "autotypenumbers": "strict",
          "coloraxis": {
           "colorbar": {
            "outlinewidth": 0,
            "ticks": ""
           }
          },
          "colorscale": {
           "diverging": [
            [
             0,
             "#8e0152"
            ],
            [
             0.1,
             "#c51b7d"
            ],
            [
             0.2,
             "#de77ae"
            ],
            [
             0.3,
             "#f1b6da"
            ],
            [
             0.4,
             "#fde0ef"
            ],
            [
             0.5,
             "#f7f7f7"
            ],
            [
             0.6,
             "#e6f5d0"
            ],
            [
             0.7,
             "#b8e186"
            ],
            [
             0.8,
             "#7fbc41"
            ],
            [
             0.9,
             "#4d9221"
            ],
            [
             1,
             "#276419"
            ]
           ],
           "sequential": [
            [
             0,
             "#0d0887"
            ],
            [
             0.1111111111111111,
             "#46039f"
            ],
            [
             0.2222222222222222,
             "#7201a8"
            ],
            [
             0.3333333333333333,
             "#9c179e"
            ],
            [
             0.4444444444444444,
             "#bd3786"
            ],
            [
             0.5555555555555556,
             "#d8576b"
            ],
            [
             0.6666666666666666,
             "#ed7953"
            ],
            [
             0.7777777777777778,
             "#fb9f3a"
            ],
            [
             0.8888888888888888,
             "#fdca26"
            ],
            [
             1,
             "#f0f921"
            ]
           ],
           "sequentialminus": [
            [
             0,
             "#0d0887"
            ],
            [
             0.1111111111111111,
             "#46039f"
            ],
            [
             0.2222222222222222,
             "#7201a8"
            ],
            [
             0.3333333333333333,
             "#9c179e"
            ],
            [
             0.4444444444444444,
             "#bd3786"
            ],
            [
             0.5555555555555556,
             "#d8576b"
            ],
            [
             0.6666666666666666,
             "#ed7953"
            ],
            [
             0.7777777777777778,
             "#fb9f3a"
            ],
            [
             0.8888888888888888,
             "#fdca26"
            ],
            [
             1,
             "#f0f921"
            ]
           ]
          },
          "colorway": [
           "#636efa",
           "#EF553B",
           "#00cc96",
           "#ab63fa",
           "#FFA15A",
           "#19d3f3",
           "#FF6692",
           "#B6E880",
           "#FF97FF",
           "#FECB52"
          ],
          "font": {
           "color": "#2a3f5f"
          },
          "geo": {
           "bgcolor": "white",
           "lakecolor": "white",
           "landcolor": "#E5ECF6",
           "showlakes": true,
           "showland": true,
           "subunitcolor": "white"
          },
          "hoverlabel": {
           "align": "left"
          },
          "hovermode": "closest",
          "mapbox": {
           "style": "light"
          },
          "paper_bgcolor": "white",
          "plot_bgcolor": "#E5ECF6",
          "polar": {
           "angularaxis": {
            "gridcolor": "white",
            "linecolor": "white",
            "ticks": ""
           },
           "bgcolor": "#E5ECF6",
           "radialaxis": {
            "gridcolor": "white",
            "linecolor": "white",
            "ticks": ""
           }
          },
          "scene": {
           "xaxis": {
            "backgroundcolor": "#E5ECF6",
            "gridcolor": "white",
            "gridwidth": 2,
            "linecolor": "white",
            "showbackground": true,
            "ticks": "",
            "zerolinecolor": "white"
           },
           "yaxis": {
            "backgroundcolor": "#E5ECF6",
            "gridcolor": "white",
            "gridwidth": 2,
            "linecolor": "white",
            "showbackground": true,
            "ticks": "",
            "zerolinecolor": "white"
           },
           "zaxis": {
            "backgroundcolor": "#E5ECF6",
            "gridcolor": "white",
            "gridwidth": 2,
            "linecolor": "white",
            "showbackground": true,
            "ticks": "",
            "zerolinecolor": "white"
           }
          },
          "shapedefaults": {
           "line": {
            "color": "#2a3f5f"
           }
          },
          "ternary": {
           "aaxis": {
            "gridcolor": "white",
            "linecolor": "white",
            "ticks": ""
           },
           "baxis": {
            "gridcolor": "white",
            "linecolor": "white",
            "ticks": ""
           },
           "bgcolor": "#E5ECF6",
           "caxis": {
            "gridcolor": "white",
            "linecolor": "white",
            "ticks": ""
           }
          },
          "title": {
           "x": 0.05
          },
          "xaxis": {
           "automargin": true,
           "gridcolor": "white",
           "linecolor": "white",
           "ticks": "",
           "title": {
            "standoff": 15
           },
           "zerolinecolor": "white",
           "zerolinewidth": 2
          },
          "yaxis": {
           "automargin": true,
           "gridcolor": "white",
           "linecolor": "white",
           "ticks": "",
           "title": {
            "standoff": 15
           },
           "zerolinecolor": "white",
           "zerolinewidth": 2
          }
         }
        },
        "title": {
         "text": "Composition for Predicted Class: h3k27ac"
        },
        "xaxis": {
         "range": [
          -0.01,
          1.01
         ],
         "title": {
          "text": "Min pred"
         }
        },
        "yaxis": {
         "range": [
          0,
          100
         ],
         "title": {
          "text": "Percentage Composition"
         }
        }
       }
      }
     },
     "metadata": {},
     "output_type": "display_data"
    },
    {
     "data": {
      "application/vnd.plotly.v1+json": {
       "config": {
        "plotlyServerURL": "https://plot.ly"
       },
       "data": [
        {
         "marker": {
          "color": "rgb(17, 119, 51)"
         },
         "mode": "lines+markers",
         "name": "polycomb",
         "type": "scatter",
         "x": [
          0,
          0.05,
          0.1,
          0.15000000000000002,
          0.2,
          0.25,
          0.30000000000000004,
          0.35000000000000003,
          0.4,
          0.45,
          0.5,
          0.55,
          0.6000000000000001,
          0.65,
          0.7000000000000001,
          0.75,
          0.8,
          0.8500000000000001,
          0.9,
          0.9500000000000001,
          0.99
         ],
         "y": [
          70.27,
          70.27,
          70.27,
          70.27,
          70.27,
          70.91,
          71.56,
          72.9,
          75,
          81.25,
          83.7,
          86.21,
          90.24,
          92.5,
          93.67,
          93.33,
          97.18,
          98.53,
          98.41,
          100,
          100
         ]
        },
        {
         "marker": {
          "color": "rgb(204, 102, 119)"
         },
         "mode": "lines+markers",
         "name": "insulator",
         "type": "scatter",
         "x": [
          0,
          0.05,
          0.1,
          0.15000000000000002,
          0.2,
          0.25,
          0.30000000000000004,
          0.35000000000000003,
          0.4,
          0.45,
          0.5,
          0.55,
          0.6000000000000001
         ],
         "y": [
          19.82,
          19.82,
          19.82,
          19.82,
          19.82,
          19.09,
          19.27,
          17.76,
          15.38,
          9.38,
          7.61,
          6.9,
          2.44
         ]
        },
        {
         "marker": {
          "color": "rgb(170, 68, 153)"
         },
         "mode": "lines+markers",
         "name": "trx_reg",
         "type": "scatter",
         "x": [
          0,
          0.05,
          0.1,
          0.15000000000000002,
          0.2,
          0.25,
          0.30000000000000004,
          0.35000000000000003,
          0.4,
          0.45,
          0.5,
          0.55,
          0.6000000000000001,
          0.65,
          0.7000000000000001,
          0.75,
          0.8,
          0.8500000000000001,
          0.9
         ],
         "y": [
          9.91,
          9.91,
          9.91,
          9.91,
          9.91,
          10,
          9.17,
          9.35,
          9.62,
          9.38,
          8.7,
          6.9,
          7.32,
          7.5,
          6.33,
          6.67,
          2.82,
          1.47,
          1.59
         ]
        },
        {
         "line": {
          "color": "black",
          "dash": "dash"
         },
         "mode": "lines+markers",
         "name": "Samples Conserved",
         "type": "scatter",
         "x": [
          0,
          0.05,
          0.1,
          0.15000000000000002,
          0.2,
          0.25,
          0.30000000000000004,
          0.35000000000000003,
          0.4,
          0.45,
          0.5,
          0.55,
          0.6000000000000001,
          0.65,
          0.7000000000000001,
          0.75,
          0.8,
          0.8500000000000001,
          0.9,
          0.9500000000000001,
          0.99
         ],
         "y": [
          100,
          100,
          100,
          100,
          100,
          99.09909909909909,
          98.1981981981982,
          96.3963963963964,
          93.69369369369369,
          86.48648648648648,
          82.88288288288288,
          78.37837837837837,
          73.87387387387388,
          72.07207207207207,
          71.17117117117117,
          67.56756756756756,
          63.96396396396396,
          61.261261261261254,
          56.75675675675676,
          46.846846846846844,
          40.54054054054054
         ]
        }
       ],
       "layout": {
        "hovermode": "x unified",
        "legend": {
         "title": {
          "text": "Assay Category"
         }
        },
        "template": {
         "data": {
          "bar": [
           {
            "error_x": {
             "color": "#2a3f5f"
            },
            "error_y": {
             "color": "#2a3f5f"
            },
            "marker": {
             "line": {
              "color": "#E5ECF6",
              "width": 0.5
             },
             "pattern": {
              "fillmode": "overlay",
              "size": 10,
              "solidity": 0.2
             }
            },
            "type": "bar"
           }
          ],
          "barpolar": [
           {
            "marker": {
             "line": {
              "color": "#E5ECF6",
              "width": 0.5
             },
             "pattern": {
              "fillmode": "overlay",
              "size": 10,
              "solidity": 0.2
             }
            },
            "type": "barpolar"
           }
          ],
          "carpet": [
           {
            "aaxis": {
             "endlinecolor": "#2a3f5f",
             "gridcolor": "white",
             "linecolor": "white",
             "minorgridcolor": "white",
             "startlinecolor": "#2a3f5f"
            },
            "baxis": {
             "endlinecolor": "#2a3f5f",
             "gridcolor": "white",
             "linecolor": "white",
             "minorgridcolor": "white",
             "startlinecolor": "#2a3f5f"
            },
            "type": "carpet"
           }
          ],
          "choropleth": [
           {
            "colorbar": {
             "outlinewidth": 0,
             "ticks": ""
            },
            "type": "choropleth"
           }
          ],
          "contour": [
           {
            "colorbar": {
             "outlinewidth": 0,
             "ticks": ""
            },
            "colorscale": [
             [
              0,
              "#0d0887"
             ],
             [
              0.1111111111111111,
              "#46039f"
             ],
             [
              0.2222222222222222,
              "#7201a8"
             ],
             [
              0.3333333333333333,
              "#9c179e"
             ],
             [
              0.4444444444444444,
              "#bd3786"
             ],
             [
              0.5555555555555556,
              "#d8576b"
             ],
             [
              0.6666666666666666,
              "#ed7953"
             ],
             [
              0.7777777777777778,
              "#fb9f3a"
             ],
             [
              0.8888888888888888,
              "#fdca26"
             ],
             [
              1,
              "#f0f921"
             ]
            ],
            "type": "contour"
           }
          ],
          "contourcarpet": [
           {
            "colorbar": {
             "outlinewidth": 0,
             "ticks": ""
            },
            "type": "contourcarpet"
           }
          ],
          "heatmap": [
           {
            "colorbar": {
             "outlinewidth": 0,
             "ticks": ""
            },
            "colorscale": [
             [
              0,
              "#0d0887"
             ],
             [
              0.1111111111111111,
              "#46039f"
             ],
             [
              0.2222222222222222,
              "#7201a8"
             ],
             [
              0.3333333333333333,
              "#9c179e"
             ],
             [
              0.4444444444444444,
              "#bd3786"
             ],
             [
              0.5555555555555556,
              "#d8576b"
             ],
             [
              0.6666666666666666,
              "#ed7953"
             ],
             [
              0.7777777777777778,
              "#fb9f3a"
             ],
             [
              0.8888888888888888,
              "#fdca26"
             ],
             [
              1,
              "#f0f921"
             ]
            ],
            "type": "heatmap"
           }
          ],
          "heatmapgl": [
           {
            "colorbar": {
             "outlinewidth": 0,
             "ticks": ""
            },
            "colorscale": [
             [
              0,
              "#0d0887"
             ],
             [
              0.1111111111111111,
              "#46039f"
             ],
             [
              0.2222222222222222,
              "#7201a8"
             ],
             [
              0.3333333333333333,
              "#9c179e"
             ],
             [
              0.4444444444444444,
              "#bd3786"
             ],
             [
              0.5555555555555556,
              "#d8576b"
             ],
             [
              0.6666666666666666,
              "#ed7953"
             ],
             [
              0.7777777777777778,
              "#fb9f3a"
             ],
             [
              0.8888888888888888,
              "#fdca26"
             ],
             [
              1,
              "#f0f921"
             ]
            ],
            "type": "heatmapgl"
           }
          ],
          "histogram": [
           {
            "marker": {
             "pattern": {
              "fillmode": "overlay",
              "size": 10,
              "solidity": 0.2
             }
            },
            "type": "histogram"
           }
          ],
          "histogram2d": [
           {
            "colorbar": {
             "outlinewidth": 0,
             "ticks": ""
            },
            "colorscale": [
             [
              0,
              "#0d0887"
             ],
             [
              0.1111111111111111,
              "#46039f"
             ],
             [
              0.2222222222222222,
              "#7201a8"
             ],
             [
              0.3333333333333333,
              "#9c179e"
             ],
             [
              0.4444444444444444,
              "#bd3786"
             ],
             [
              0.5555555555555556,
              "#d8576b"
             ],
             [
              0.6666666666666666,
              "#ed7953"
             ],
             [
              0.7777777777777778,
              "#fb9f3a"
             ],
             [
              0.8888888888888888,
              "#fdca26"
             ],
             [
              1,
              "#f0f921"
             ]
            ],
            "type": "histogram2d"
           }
          ],
          "histogram2dcontour": [
           {
            "colorbar": {
             "outlinewidth": 0,
             "ticks": ""
            },
            "colorscale": [
             [
              0,
              "#0d0887"
             ],
             [
              0.1111111111111111,
              "#46039f"
             ],
             [
              0.2222222222222222,
              "#7201a8"
             ],
             [
              0.3333333333333333,
              "#9c179e"
             ],
             [
              0.4444444444444444,
              "#bd3786"
             ],
             [
              0.5555555555555556,
              "#d8576b"
             ],
             [
              0.6666666666666666,
              "#ed7953"
             ],
             [
              0.7777777777777778,
              "#fb9f3a"
             ],
             [
              0.8888888888888888,
              "#fdca26"
             ],
             [
              1,
              "#f0f921"
             ]
            ],
            "type": "histogram2dcontour"
           }
          ],
          "mesh3d": [
           {
            "colorbar": {
             "outlinewidth": 0,
             "ticks": ""
            },
            "type": "mesh3d"
           }
          ],
          "parcoords": [
           {
            "line": {
             "colorbar": {
              "outlinewidth": 0,
              "ticks": ""
             }
            },
            "type": "parcoords"
           }
          ],
          "pie": [
           {
            "automargin": true,
            "type": "pie"
           }
          ],
          "scatter": [
           {
            "fillpattern": {
             "fillmode": "overlay",
             "size": 10,
             "solidity": 0.2
            },
            "type": "scatter"
           }
          ],
          "scatter3d": [
           {
            "line": {
             "colorbar": {
              "outlinewidth": 0,
              "ticks": ""
             }
            },
            "marker": {
             "colorbar": {
              "outlinewidth": 0,
              "ticks": ""
             }
            },
            "type": "scatter3d"
           }
          ],
          "scattercarpet": [
           {
            "marker": {
             "colorbar": {
              "outlinewidth": 0,
              "ticks": ""
             }
            },
            "type": "scattercarpet"
           }
          ],
          "scattergeo": [
           {
            "marker": {
             "colorbar": {
              "outlinewidth": 0,
              "ticks": ""
             }
            },
            "type": "scattergeo"
           }
          ],
          "scattergl": [
           {
            "marker": {
             "colorbar": {
              "outlinewidth": 0,
              "ticks": ""
             }
            },
            "type": "scattergl"
           }
          ],
          "scattermapbox": [
           {
            "marker": {
             "colorbar": {
              "outlinewidth": 0,
              "ticks": ""
             }
            },
            "type": "scattermapbox"
           }
          ],
          "scatterpolar": [
           {
            "marker": {
             "colorbar": {
              "outlinewidth": 0,
              "ticks": ""
             }
            },
            "type": "scatterpolar"
           }
          ],
          "scatterpolargl": [
           {
            "marker": {
             "colorbar": {
              "outlinewidth": 0,
              "ticks": ""
             }
            },
            "type": "scatterpolargl"
           }
          ],
          "scatterternary": [
           {
            "marker": {
             "colorbar": {
              "outlinewidth": 0,
              "ticks": ""
             }
            },
            "type": "scatterternary"
           }
          ],
          "surface": [
           {
            "colorbar": {
             "outlinewidth": 0,
             "ticks": ""
            },
            "colorscale": [
             [
              0,
              "#0d0887"
             ],
             [
              0.1111111111111111,
              "#46039f"
             ],
             [
              0.2222222222222222,
              "#7201a8"
             ],
             [
              0.3333333333333333,
              "#9c179e"
             ],
             [
              0.4444444444444444,
              "#bd3786"
             ],
             [
              0.5555555555555556,
              "#d8576b"
             ],
             [
              0.6666666666666666,
              "#ed7953"
             ],
             [
              0.7777777777777778,
              "#fb9f3a"
             ],
             [
              0.8888888888888888,
              "#fdca26"
             ],
             [
              1,
              "#f0f921"
             ]
            ],
            "type": "surface"
           }
          ],
          "table": [
           {
            "cells": {
             "fill": {
              "color": "#EBF0F8"
             },
             "line": {
              "color": "white"
             }
            },
            "header": {
             "fill": {
              "color": "#C8D4E3"
             },
             "line": {
              "color": "white"
             }
            },
            "type": "table"
           }
          ]
         },
         "layout": {
          "annotationdefaults": {
           "arrowcolor": "#2a3f5f",
           "arrowhead": 0,
           "arrowwidth": 1
          },
          "autotypenumbers": "strict",
          "coloraxis": {
           "colorbar": {
            "outlinewidth": 0,
            "ticks": ""
           }
          },
          "colorscale": {
           "diverging": [
            [
             0,
             "#8e0152"
            ],
            [
             0.1,
             "#c51b7d"
            ],
            [
             0.2,
             "#de77ae"
            ],
            [
             0.3,
             "#f1b6da"
            ],
            [
             0.4,
             "#fde0ef"
            ],
            [
             0.5,
             "#f7f7f7"
            ],
            [
             0.6,
             "#e6f5d0"
            ],
            [
             0.7,
             "#b8e186"
            ],
            [
             0.8,
             "#7fbc41"
            ],
            [
             0.9,
             "#4d9221"
            ],
            [
             1,
             "#276419"
            ]
           ],
           "sequential": [
            [
             0,
             "#0d0887"
            ],
            [
             0.1111111111111111,
             "#46039f"
            ],
            [
             0.2222222222222222,
             "#7201a8"
            ],
            [
             0.3333333333333333,
             "#9c179e"
            ],
            [
             0.4444444444444444,
             "#bd3786"
            ],
            [
             0.5555555555555556,
             "#d8576b"
            ],
            [
             0.6666666666666666,
             "#ed7953"
            ],
            [
             0.7777777777777778,
             "#fb9f3a"
            ],
            [
             0.8888888888888888,
             "#fdca26"
            ],
            [
             1,
             "#f0f921"
            ]
           ],
           "sequentialminus": [
            [
             0,
             "#0d0887"
            ],
            [
             0.1111111111111111,
             "#46039f"
            ],
            [
             0.2222222222222222,
             "#7201a8"
            ],
            [
             0.3333333333333333,
             "#9c179e"
            ],
            [
             0.4444444444444444,
             "#bd3786"
            ],
            [
             0.5555555555555556,
             "#d8576b"
            ],
            [
             0.6666666666666666,
             "#ed7953"
            ],
            [
             0.7777777777777778,
             "#fb9f3a"
            ],
            [
             0.8888888888888888,
             "#fdca26"
            ],
            [
             1,
             "#f0f921"
            ]
           ]
          },
          "colorway": [
           "#636efa",
           "#EF553B",
           "#00cc96",
           "#ab63fa",
           "#FFA15A",
           "#19d3f3",
           "#FF6692",
           "#B6E880",
           "#FF97FF",
           "#FECB52"
          ],
          "font": {
           "color": "#2a3f5f"
          },
          "geo": {
           "bgcolor": "white",
           "lakecolor": "white",
           "landcolor": "#E5ECF6",
           "showlakes": true,
           "showland": true,
           "subunitcolor": "white"
          },
          "hoverlabel": {
           "align": "left"
          },
          "hovermode": "closest",
          "mapbox": {
           "style": "light"
          },
          "paper_bgcolor": "white",
          "plot_bgcolor": "#E5ECF6",
          "polar": {
           "angularaxis": {
            "gridcolor": "white",
            "linecolor": "white",
            "ticks": ""
           },
           "bgcolor": "#E5ECF6",
           "radialaxis": {
            "gridcolor": "white",
            "linecolor": "white",
            "ticks": ""
           }
          },
          "scene": {
           "xaxis": {
            "backgroundcolor": "#E5ECF6",
            "gridcolor": "white",
            "gridwidth": 2,
            "linecolor": "white",
            "showbackground": true,
            "ticks": "",
            "zerolinecolor": "white"
           },
           "yaxis": {
            "backgroundcolor": "#E5ECF6",
            "gridcolor": "white",
            "gridwidth": 2,
            "linecolor": "white",
            "showbackground": true,
            "ticks": "",
            "zerolinecolor": "white"
           },
           "zaxis": {
            "backgroundcolor": "#E5ECF6",
            "gridcolor": "white",
            "gridwidth": 2,
            "linecolor": "white",
            "showbackground": true,
            "ticks": "",
            "zerolinecolor": "white"
           }
          },
          "shapedefaults": {
           "line": {
            "color": "#2a3f5f"
           }
          },
          "ternary": {
           "aaxis": {
            "gridcolor": "white",
            "linecolor": "white",
            "ticks": ""
           },
           "baxis": {
            "gridcolor": "white",
            "linecolor": "white",
            "ticks": ""
           },
           "bgcolor": "#E5ECF6",
           "caxis": {
            "gridcolor": "white",
            "linecolor": "white",
            "ticks": ""
           }
          },
          "title": {
           "x": 0.05
          },
          "xaxis": {
           "automargin": true,
           "gridcolor": "white",
           "linecolor": "white",
           "ticks": "",
           "title": {
            "standoff": 15
           },
           "zerolinecolor": "white",
           "zerolinewidth": 2
          },
          "yaxis": {
           "automargin": true,
           "gridcolor": "white",
           "linecolor": "white",
           "ticks": "",
           "title": {
            "standoff": 15
           },
           "zerolinecolor": "white",
           "zerolinewidth": 2
          }
         }
        },
        "title": {
         "text": "Composition for Predicted Class: h3k27me3"
        },
        "xaxis": {
         "range": [
          -0.01,
          1.01
         ],
         "title": {
          "text": "Min pred"
         }
        },
        "yaxis": {
         "range": [
          0,
          100
         ],
         "title": {
          "text": "Percentage Composition"
         }
        }
       }
      }
     },
     "metadata": {},
     "output_type": "display_data"
    },
    {
     "data": {
      "application/vnd.plotly.v1+json": {
       "config": {
        "plotlyServerURL": "https://plot.ly"
       },
       "data": [
        {
         "marker": {
          "color": "rgb(170, 68, 153)"
         },
         "mode": "lines+markers",
         "name": "trx_reg",
         "type": "scatter",
         "x": [
          0,
          0.05,
          0.1,
          0.15000000000000002,
          0.2,
          0.25,
          0.30000000000000004,
          0.35000000000000003,
          0.4,
          0.45,
          0.5,
          0.55,
          0.6000000000000001,
          0.65,
          0.7000000000000001,
          0.75,
          0.8,
          0.8500000000000001,
          0.9,
          0.9500000000000001,
          0.99
         ],
         "y": [
          60,
          60,
          60,
          60,
          60,
          53.85,
          53.85,
          53.85,
          53.85,
          53.85,
          66.67,
          66.67,
          66.67,
          60,
          50,
          50,
          66.67,
          100,
          100,
          100,
          100
         ]
        },
        {
         "marker": {
          "color": "rgb(51, 34, 136)"
         },
         "mode": "lines+markers",
         "name": "splicing",
         "type": "scatter",
         "x": [
          0,
          0.05,
          0.1,
          0.15000000000000002,
          0.2,
          0.25,
          0.30000000000000004,
          0.35000000000000003,
          0.4,
          0.45,
          0.5,
          0.55,
          0.6000000000000001,
          0.65,
          0.7000000000000001,
          0.75,
          0.8
         ],
         "y": [
          26.67,
          26.67,
          26.67,
          26.67,
          26.67,
          30.77,
          30.77,
          30.77,
          30.77,
          30.77,
          33.33,
          33.33,
          33.33,
          40,
          50,
          50,
          33.33
         ]
        },
        {
         "marker": {
          "color": "rgb(221, 204, 119)"
         },
         "mode": "lines+markers",
         "name": "other/mixed",
         "type": "scatter",
         "x": [
          0,
          0.05,
          0.1,
          0.15000000000000002,
          0.2,
          0.25,
          0.30000000000000004,
          0.35000000000000003,
          0.4,
          0.45
         ],
         "y": [
          6.67,
          6.67,
          6.67,
          6.67,
          6.67,
          7.69,
          7.69,
          7.69,
          7.69,
          7.69
         ]
        },
        {
         "marker": {
          "color": "rgb(136, 204, 238)"
         },
         "mode": "lines+markers",
         "name": "heterochrom",
         "type": "scatter",
         "x": [
          0,
          0.05,
          0.1,
          0.15000000000000002,
          0.2,
          0.25,
          0.30000000000000004,
          0.35000000000000003,
          0.4,
          0.45
         ],
         "y": [
          6.67,
          6.67,
          6.67,
          6.67,
          6.67,
          7.69,
          7.69,
          7.69,
          7.69,
          7.69
         ]
        },
        {
         "line": {
          "color": "black",
          "dash": "dash"
         },
         "mode": "lines+markers",
         "name": "Samples Conserved",
         "type": "scatter",
         "x": [
          0,
          0.05,
          0.1,
          0.15000000000000002,
          0.2,
          0.25,
          0.30000000000000004,
          0.35000000000000003,
          0.4,
          0.45,
          0.5,
          0.55,
          0.6000000000000001,
          0.65,
          0.7000000000000001,
          0.75,
          0.8,
          0.8500000000000001,
          0.9,
          0.9500000000000001,
          0.99
         ],
         "y": [
          100,
          100,
          100,
          100,
          100,
          86.66666666666667,
          86.66666666666667,
          86.66666666666667,
          86.66666666666667,
          86.66666666666667,
          60,
          40,
          40,
          33.33333333333333,
          26.666666666666668,
          26.666666666666668,
          20,
          6.666666666666667,
          6.666666666666667,
          6.666666666666667,
          6.666666666666667
         ]
        }
       ],
       "layout": {
        "hovermode": "x unified",
        "legend": {
         "title": {
          "text": "Assay Category"
         }
        },
        "template": {
         "data": {
          "bar": [
           {
            "error_x": {
             "color": "#2a3f5f"
            },
            "error_y": {
             "color": "#2a3f5f"
            },
            "marker": {
             "line": {
              "color": "#E5ECF6",
              "width": 0.5
             },
             "pattern": {
              "fillmode": "overlay",
              "size": 10,
              "solidity": 0.2
             }
            },
            "type": "bar"
           }
          ],
          "barpolar": [
           {
            "marker": {
             "line": {
              "color": "#E5ECF6",
              "width": 0.5
             },
             "pattern": {
              "fillmode": "overlay",
              "size": 10,
              "solidity": 0.2
             }
            },
            "type": "barpolar"
           }
          ],
          "carpet": [
           {
            "aaxis": {
             "endlinecolor": "#2a3f5f",
             "gridcolor": "white",
             "linecolor": "white",
             "minorgridcolor": "white",
             "startlinecolor": "#2a3f5f"
            },
            "baxis": {
             "endlinecolor": "#2a3f5f",
             "gridcolor": "white",
             "linecolor": "white",
             "minorgridcolor": "white",
             "startlinecolor": "#2a3f5f"
            },
            "type": "carpet"
           }
          ],
          "choropleth": [
           {
            "colorbar": {
             "outlinewidth": 0,
             "ticks": ""
            },
            "type": "choropleth"
           }
          ],
          "contour": [
           {
            "colorbar": {
             "outlinewidth": 0,
             "ticks": ""
            },
            "colorscale": [
             [
              0,
              "#0d0887"
             ],
             [
              0.1111111111111111,
              "#46039f"
             ],
             [
              0.2222222222222222,
              "#7201a8"
             ],
             [
              0.3333333333333333,
              "#9c179e"
             ],
             [
              0.4444444444444444,
              "#bd3786"
             ],
             [
              0.5555555555555556,
              "#d8576b"
             ],
             [
              0.6666666666666666,
              "#ed7953"
             ],
             [
              0.7777777777777778,
              "#fb9f3a"
             ],
             [
              0.8888888888888888,
              "#fdca26"
             ],
             [
              1,
              "#f0f921"
             ]
            ],
            "type": "contour"
           }
          ],
          "contourcarpet": [
           {
            "colorbar": {
             "outlinewidth": 0,
             "ticks": ""
            },
            "type": "contourcarpet"
           }
          ],
          "heatmap": [
           {
            "colorbar": {
             "outlinewidth": 0,
             "ticks": ""
            },
            "colorscale": [
             [
              0,
              "#0d0887"
             ],
             [
              0.1111111111111111,
              "#46039f"
             ],
             [
              0.2222222222222222,
              "#7201a8"
             ],
             [
              0.3333333333333333,
              "#9c179e"
             ],
             [
              0.4444444444444444,
              "#bd3786"
             ],
             [
              0.5555555555555556,
              "#d8576b"
             ],
             [
              0.6666666666666666,
              "#ed7953"
             ],
             [
              0.7777777777777778,
              "#fb9f3a"
             ],
             [
              0.8888888888888888,
              "#fdca26"
             ],
             [
              1,
              "#f0f921"
             ]
            ],
            "type": "heatmap"
           }
          ],
          "heatmapgl": [
           {
            "colorbar": {
             "outlinewidth": 0,
             "ticks": ""
            },
            "colorscale": [
             [
              0,
              "#0d0887"
             ],
             [
              0.1111111111111111,
              "#46039f"
             ],
             [
              0.2222222222222222,
              "#7201a8"
             ],
             [
              0.3333333333333333,
              "#9c179e"
             ],
             [
              0.4444444444444444,
              "#bd3786"
             ],
             [
              0.5555555555555556,
              "#d8576b"
             ],
             [
              0.6666666666666666,
              "#ed7953"
             ],
             [
              0.7777777777777778,
              "#fb9f3a"
             ],
             [
              0.8888888888888888,
              "#fdca26"
             ],
             [
              1,
              "#f0f921"
             ]
            ],
            "type": "heatmapgl"
           }
          ],
          "histogram": [
           {
            "marker": {
             "pattern": {
              "fillmode": "overlay",
              "size": 10,
              "solidity": 0.2
             }
            },
            "type": "histogram"
           }
          ],
          "histogram2d": [
           {
            "colorbar": {
             "outlinewidth": 0,
             "ticks": ""
            },
            "colorscale": [
             [
              0,
              "#0d0887"
             ],
             [
              0.1111111111111111,
              "#46039f"
             ],
             [
              0.2222222222222222,
              "#7201a8"
             ],
             [
              0.3333333333333333,
              "#9c179e"
             ],
             [
              0.4444444444444444,
              "#bd3786"
             ],
             [
              0.5555555555555556,
              "#d8576b"
             ],
             [
              0.6666666666666666,
              "#ed7953"
             ],
             [
              0.7777777777777778,
              "#fb9f3a"
             ],
             [
              0.8888888888888888,
              "#fdca26"
             ],
             [
              1,
              "#f0f921"
             ]
            ],
            "type": "histogram2d"
           }
          ],
          "histogram2dcontour": [
           {
            "colorbar": {
             "outlinewidth": 0,
             "ticks": ""
            },
            "colorscale": [
             [
              0,
              "#0d0887"
             ],
             [
              0.1111111111111111,
              "#46039f"
             ],
             [
              0.2222222222222222,
              "#7201a8"
             ],
             [
              0.3333333333333333,
              "#9c179e"
             ],
             [
              0.4444444444444444,
              "#bd3786"
             ],
             [
              0.5555555555555556,
              "#d8576b"
             ],
             [
              0.6666666666666666,
              "#ed7953"
             ],
             [
              0.7777777777777778,
              "#fb9f3a"
             ],
             [
              0.8888888888888888,
              "#fdca26"
             ],
             [
              1,
              "#f0f921"
             ]
            ],
            "type": "histogram2dcontour"
           }
          ],
          "mesh3d": [
           {
            "colorbar": {
             "outlinewidth": 0,
             "ticks": ""
            },
            "type": "mesh3d"
           }
          ],
          "parcoords": [
           {
            "line": {
             "colorbar": {
              "outlinewidth": 0,
              "ticks": ""
             }
            },
            "type": "parcoords"
           }
          ],
          "pie": [
           {
            "automargin": true,
            "type": "pie"
           }
          ],
          "scatter": [
           {
            "fillpattern": {
             "fillmode": "overlay",
             "size": 10,
             "solidity": 0.2
            },
            "type": "scatter"
           }
          ],
          "scatter3d": [
           {
            "line": {
             "colorbar": {
              "outlinewidth": 0,
              "ticks": ""
             }
            },
            "marker": {
             "colorbar": {
              "outlinewidth": 0,
              "ticks": ""
             }
            },
            "type": "scatter3d"
           }
          ],
          "scattercarpet": [
           {
            "marker": {
             "colorbar": {
              "outlinewidth": 0,
              "ticks": ""
             }
            },
            "type": "scattercarpet"
           }
          ],
          "scattergeo": [
           {
            "marker": {
             "colorbar": {
              "outlinewidth": 0,
              "ticks": ""
             }
            },
            "type": "scattergeo"
           }
          ],
          "scattergl": [
           {
            "marker": {
             "colorbar": {
              "outlinewidth": 0,
              "ticks": ""
             }
            },
            "type": "scattergl"
           }
          ],
          "scattermapbox": [
           {
            "marker": {
             "colorbar": {
              "outlinewidth": 0,
              "ticks": ""
             }
            },
            "type": "scattermapbox"
           }
          ],
          "scatterpolar": [
           {
            "marker": {
             "colorbar": {
              "outlinewidth": 0,
              "ticks": ""
             }
            },
            "type": "scatterpolar"
           }
          ],
          "scatterpolargl": [
           {
            "marker": {
             "colorbar": {
              "outlinewidth": 0,
              "ticks": ""
             }
            },
            "type": "scatterpolargl"
           }
          ],
          "scatterternary": [
           {
            "marker": {
             "colorbar": {
              "outlinewidth": 0,
              "ticks": ""
             }
            },
            "type": "scatterternary"
           }
          ],
          "surface": [
           {
            "colorbar": {
             "outlinewidth": 0,
             "ticks": ""
            },
            "colorscale": [
             [
              0,
              "#0d0887"
             ],
             [
              0.1111111111111111,
              "#46039f"
             ],
             [
              0.2222222222222222,
              "#7201a8"
             ],
             [
              0.3333333333333333,
              "#9c179e"
             ],
             [
              0.4444444444444444,
              "#bd3786"
             ],
             [
              0.5555555555555556,
              "#d8576b"
             ],
             [
              0.6666666666666666,
              "#ed7953"
             ],
             [
              0.7777777777777778,
              "#fb9f3a"
             ],
             [
              0.8888888888888888,
              "#fdca26"
             ],
             [
              1,
              "#f0f921"
             ]
            ],
            "type": "surface"
           }
          ],
          "table": [
           {
            "cells": {
             "fill": {
              "color": "#EBF0F8"
             },
             "line": {
              "color": "white"
             }
            },
            "header": {
             "fill": {
              "color": "#C8D4E3"
             },
             "line": {
              "color": "white"
             }
            },
            "type": "table"
           }
          ]
         },
         "layout": {
          "annotationdefaults": {
           "arrowcolor": "#2a3f5f",
           "arrowhead": 0,
           "arrowwidth": 1
          },
          "autotypenumbers": "strict",
          "coloraxis": {
           "colorbar": {
            "outlinewidth": 0,
            "ticks": ""
           }
          },
          "colorscale": {
           "diverging": [
            [
             0,
             "#8e0152"
            ],
            [
             0.1,
             "#c51b7d"
            ],
            [
             0.2,
             "#de77ae"
            ],
            [
             0.3,
             "#f1b6da"
            ],
            [
             0.4,
             "#fde0ef"
            ],
            [
             0.5,
             "#f7f7f7"
            ],
            [
             0.6,
             "#e6f5d0"
            ],
            [
             0.7,
             "#b8e186"
            ],
            [
             0.8,
             "#7fbc41"
            ],
            [
             0.9,
             "#4d9221"
            ],
            [
             1,
             "#276419"
            ]
           ],
           "sequential": [
            [
             0,
             "#0d0887"
            ],
            [
             0.1111111111111111,
             "#46039f"
            ],
            [
             0.2222222222222222,
             "#7201a8"
            ],
            [
             0.3333333333333333,
             "#9c179e"
            ],
            [
             0.4444444444444444,
             "#bd3786"
            ],
            [
             0.5555555555555556,
             "#d8576b"
            ],
            [
             0.6666666666666666,
             "#ed7953"
            ],
            [
             0.7777777777777778,
             "#fb9f3a"
            ],
            [
             0.8888888888888888,
             "#fdca26"
            ],
            [
             1,
             "#f0f921"
            ]
           ],
           "sequentialminus": [
            [
             0,
             "#0d0887"
            ],
            [
             0.1111111111111111,
             "#46039f"
            ],
            [
             0.2222222222222222,
             "#7201a8"
            ],
            [
             0.3333333333333333,
             "#9c179e"
            ],
            [
             0.4444444444444444,
             "#bd3786"
            ],
            [
             0.5555555555555556,
             "#d8576b"
            ],
            [
             0.6666666666666666,
             "#ed7953"
            ],
            [
             0.7777777777777778,
             "#fb9f3a"
            ],
            [
             0.8888888888888888,
             "#fdca26"
            ],
            [
             1,
             "#f0f921"
            ]
           ]
          },
          "colorway": [
           "#636efa",
           "#EF553B",
           "#00cc96",
           "#ab63fa",
           "#FFA15A",
           "#19d3f3",
           "#FF6692",
           "#B6E880",
           "#FF97FF",
           "#FECB52"
          ],
          "font": {
           "color": "#2a3f5f"
          },
          "geo": {
           "bgcolor": "white",
           "lakecolor": "white",
           "landcolor": "#E5ECF6",
           "showlakes": true,
           "showland": true,
           "subunitcolor": "white"
          },
          "hoverlabel": {
           "align": "left"
          },
          "hovermode": "closest",
          "mapbox": {
           "style": "light"
          },
          "paper_bgcolor": "white",
          "plot_bgcolor": "#E5ECF6",
          "polar": {
           "angularaxis": {
            "gridcolor": "white",
            "linecolor": "white",
            "ticks": ""
           },
           "bgcolor": "#E5ECF6",
           "radialaxis": {
            "gridcolor": "white",
            "linecolor": "white",
            "ticks": ""
           }
          },
          "scene": {
           "xaxis": {
            "backgroundcolor": "#E5ECF6",
            "gridcolor": "white",
            "gridwidth": 2,
            "linecolor": "white",
            "showbackground": true,
            "ticks": "",
            "zerolinecolor": "white"
           },
           "yaxis": {
            "backgroundcolor": "#E5ECF6",
            "gridcolor": "white",
            "gridwidth": 2,
            "linecolor": "white",
            "showbackground": true,
            "ticks": "",
            "zerolinecolor": "white"
           },
           "zaxis": {
            "backgroundcolor": "#E5ECF6",
            "gridcolor": "white",
            "gridwidth": 2,
            "linecolor": "white",
            "showbackground": true,
            "ticks": "",
            "zerolinecolor": "white"
           }
          },
          "shapedefaults": {
           "line": {
            "color": "#2a3f5f"
           }
          },
          "ternary": {
           "aaxis": {
            "gridcolor": "white",
            "linecolor": "white",
            "ticks": ""
           },
           "baxis": {
            "gridcolor": "white",
            "linecolor": "white",
            "ticks": ""
           },
           "bgcolor": "#E5ECF6",
           "caxis": {
            "gridcolor": "white",
            "linecolor": "white",
            "ticks": ""
           }
          },
          "title": {
           "x": 0.05
          },
          "xaxis": {
           "automargin": true,
           "gridcolor": "white",
           "linecolor": "white",
           "ticks": "",
           "title": {
            "standoff": 15
           },
           "zerolinecolor": "white",
           "zerolinewidth": 2
          },
          "yaxis": {
           "automargin": true,
           "gridcolor": "white",
           "linecolor": "white",
           "ticks": "",
           "title": {
            "standoff": 15
           },
           "zerolinecolor": "white",
           "zerolinewidth": 2
          }
         }
        },
        "title": {
         "text": "Composition for Predicted Class: h3k36me3"
        },
        "xaxis": {
         "range": [
          -0.01,
          1.01
         ],
         "title": {
          "text": "Min pred"
         }
        },
        "yaxis": {
         "range": [
          0,
          100
         ],
         "title": {
          "text": "Percentage Composition"
         }
        }
       }
      }
     },
     "metadata": {},
     "output_type": "display_data"
    },
    {
     "data": {
      "application/vnd.plotly.v1+json": {
       "config": {
        "plotlyServerURL": "https://plot.ly"
       },
       "data": [
        {
         "marker": {
          "color": "rgb(170, 68, 153)"
         },
         "mode": "lines+markers",
         "name": "trx_reg",
         "type": "scatter",
         "x": [
          0,
          0.05,
          0.1,
          0.15000000000000002,
          0.2,
          0.25,
          0.30000000000000004,
          0.35000000000000003,
          0.4,
          0.45,
          0.5,
          0.55,
          0.6000000000000001,
          0.65,
          0.7000000000000001,
          0.75,
          0.8,
          0.8500000000000001,
          0.9,
          0.9500000000000001,
          0.99
         ],
         "y": [
          97.18,
          97.18,
          97.18,
          97.18,
          97.18,
          97.18,
          97.18,
          97.15,
          97.13,
          97.47,
          97.37,
          97.18,
          97.01,
          96.79,
          96.61,
          96.39,
          98.04,
          97.86,
          98.41,
          98.31,
          97.5
         ]
        },
        {
         "marker": {
          "color": "rgb(221, 204, 119)"
         },
         "mode": "lines+markers",
         "name": "other/mixed",
         "type": "scatter",
         "x": [
          0,
          0.05,
          0.1,
          0.15000000000000002,
          0.2,
          0.25,
          0.30000000000000004,
          0.35000000000000003,
          0.4,
          0.45,
          0.5,
          0.55,
          0.6000000000000001,
          0.65,
          0.7000000000000001,
          0.75,
          0.8,
          0.8500000000000001,
          0.9,
          0.9500000000000001,
          0.99
         ],
         "y": [
          2.82,
          2.82,
          2.82,
          2.82,
          2.82,
          2.82,
          2.82,
          2.85,
          2.87,
          2.53,
          2.63,
          2.82,
          2.99,
          3.21,
          3.39,
          3.61,
          1.96,
          2.14,
          1.59,
          1.69,
          2.5
         ]
        },
        {
         "line": {
          "color": "black",
          "dash": "dash"
         },
         "mode": "lines+markers",
         "name": "Samples Conserved",
         "type": "scatter",
         "x": [
          0,
          0.05,
          0.1,
          0.15000000000000002,
          0.2,
          0.25,
          0.30000000000000004,
          0.35000000000000003,
          0.4,
          0.45,
          0.5,
          0.55,
          0.6000000000000001,
          0.65,
          0.7000000000000001,
          0.75,
          0.8,
          0.8500000000000001,
          0.9,
          0.9500000000000001,
          0.99
         ],
         "y": [
          100,
          100,
          100,
          100,
          100,
          100,
          100,
          99.19354838709677,
          98.38709677419355,
          95.56451612903226,
          91.93548387096774,
          85.88709677419355,
          81.04838709677419,
          75.40322580645162,
          71.37096774193549,
          66.93548387096774,
          61.693548387096776,
          56.451612903225815,
          50.806451612903224,
          47.58064516129033,
          32.25806451612903
         ]
        }
       ],
       "layout": {
        "hovermode": "x unified",
        "legend": {
         "title": {
          "text": "Assay Category"
         }
        },
        "template": {
         "data": {
          "bar": [
           {
            "error_x": {
             "color": "#2a3f5f"
            },
            "error_y": {
             "color": "#2a3f5f"
            },
            "marker": {
             "line": {
              "color": "#E5ECF6",
              "width": 0.5
             },
             "pattern": {
              "fillmode": "overlay",
              "size": 10,
              "solidity": 0.2
             }
            },
            "type": "bar"
           }
          ],
          "barpolar": [
           {
            "marker": {
             "line": {
              "color": "#E5ECF6",
              "width": 0.5
             },
             "pattern": {
              "fillmode": "overlay",
              "size": 10,
              "solidity": 0.2
             }
            },
            "type": "barpolar"
           }
          ],
          "carpet": [
           {
            "aaxis": {
             "endlinecolor": "#2a3f5f",
             "gridcolor": "white",
             "linecolor": "white",
             "minorgridcolor": "white",
             "startlinecolor": "#2a3f5f"
            },
            "baxis": {
             "endlinecolor": "#2a3f5f",
             "gridcolor": "white",
             "linecolor": "white",
             "minorgridcolor": "white",
             "startlinecolor": "#2a3f5f"
            },
            "type": "carpet"
           }
          ],
          "choropleth": [
           {
            "colorbar": {
             "outlinewidth": 0,
             "ticks": ""
            },
            "type": "choropleth"
           }
          ],
          "contour": [
           {
            "colorbar": {
             "outlinewidth": 0,
             "ticks": ""
            },
            "colorscale": [
             [
              0,
              "#0d0887"
             ],
             [
              0.1111111111111111,
              "#46039f"
             ],
             [
              0.2222222222222222,
              "#7201a8"
             ],
             [
              0.3333333333333333,
              "#9c179e"
             ],
             [
              0.4444444444444444,
              "#bd3786"
             ],
             [
              0.5555555555555556,
              "#d8576b"
             ],
             [
              0.6666666666666666,
              "#ed7953"
             ],
             [
              0.7777777777777778,
              "#fb9f3a"
             ],
             [
              0.8888888888888888,
              "#fdca26"
             ],
             [
              1,
              "#f0f921"
             ]
            ],
            "type": "contour"
           }
          ],
          "contourcarpet": [
           {
            "colorbar": {
             "outlinewidth": 0,
             "ticks": ""
            },
            "type": "contourcarpet"
           }
          ],
          "heatmap": [
           {
            "colorbar": {
             "outlinewidth": 0,
             "ticks": ""
            },
            "colorscale": [
             [
              0,
              "#0d0887"
             ],
             [
              0.1111111111111111,
              "#46039f"
             ],
             [
              0.2222222222222222,
              "#7201a8"
             ],
             [
              0.3333333333333333,
              "#9c179e"
             ],
             [
              0.4444444444444444,
              "#bd3786"
             ],
             [
              0.5555555555555556,
              "#d8576b"
             ],
             [
              0.6666666666666666,
              "#ed7953"
             ],
             [
              0.7777777777777778,
              "#fb9f3a"
             ],
             [
              0.8888888888888888,
              "#fdca26"
             ],
             [
              1,
              "#f0f921"
             ]
            ],
            "type": "heatmap"
           }
          ],
          "heatmapgl": [
           {
            "colorbar": {
             "outlinewidth": 0,
             "ticks": ""
            },
            "colorscale": [
             [
              0,
              "#0d0887"
             ],
             [
              0.1111111111111111,
              "#46039f"
             ],
             [
              0.2222222222222222,
              "#7201a8"
             ],
             [
              0.3333333333333333,
              "#9c179e"
             ],
             [
              0.4444444444444444,
              "#bd3786"
             ],
             [
              0.5555555555555556,
              "#d8576b"
             ],
             [
              0.6666666666666666,
              "#ed7953"
             ],
             [
              0.7777777777777778,
              "#fb9f3a"
             ],
             [
              0.8888888888888888,
              "#fdca26"
             ],
             [
              1,
              "#f0f921"
             ]
            ],
            "type": "heatmapgl"
           }
          ],
          "histogram": [
           {
            "marker": {
             "pattern": {
              "fillmode": "overlay",
              "size": 10,
              "solidity": 0.2
             }
            },
            "type": "histogram"
           }
          ],
          "histogram2d": [
           {
            "colorbar": {
             "outlinewidth": 0,
             "ticks": ""
            },
            "colorscale": [
             [
              0,
              "#0d0887"
             ],
             [
              0.1111111111111111,
              "#46039f"
             ],
             [
              0.2222222222222222,
              "#7201a8"
             ],
             [
              0.3333333333333333,
              "#9c179e"
             ],
             [
              0.4444444444444444,
              "#bd3786"
             ],
             [
              0.5555555555555556,
              "#d8576b"
             ],
             [
              0.6666666666666666,
              "#ed7953"
             ],
             [
              0.7777777777777778,
              "#fb9f3a"
             ],
             [
              0.8888888888888888,
              "#fdca26"
             ],
             [
              1,
              "#f0f921"
             ]
            ],
            "type": "histogram2d"
           }
          ],
          "histogram2dcontour": [
           {
            "colorbar": {
             "outlinewidth": 0,
             "ticks": ""
            },
            "colorscale": [
             [
              0,
              "#0d0887"
             ],
             [
              0.1111111111111111,
              "#46039f"
             ],
             [
              0.2222222222222222,
              "#7201a8"
             ],
             [
              0.3333333333333333,
              "#9c179e"
             ],
             [
              0.4444444444444444,
              "#bd3786"
             ],
             [
              0.5555555555555556,
              "#d8576b"
             ],
             [
              0.6666666666666666,
              "#ed7953"
             ],
             [
              0.7777777777777778,
              "#fb9f3a"
             ],
             [
              0.8888888888888888,
              "#fdca26"
             ],
             [
              1,
              "#f0f921"
             ]
            ],
            "type": "histogram2dcontour"
           }
          ],
          "mesh3d": [
           {
            "colorbar": {
             "outlinewidth": 0,
             "ticks": ""
            },
            "type": "mesh3d"
           }
          ],
          "parcoords": [
           {
            "line": {
             "colorbar": {
              "outlinewidth": 0,
              "ticks": ""
             }
            },
            "type": "parcoords"
           }
          ],
          "pie": [
           {
            "automargin": true,
            "type": "pie"
           }
          ],
          "scatter": [
           {
            "fillpattern": {
             "fillmode": "overlay",
             "size": 10,
             "solidity": 0.2
            },
            "type": "scatter"
           }
          ],
          "scatter3d": [
           {
            "line": {
             "colorbar": {
              "outlinewidth": 0,
              "ticks": ""
             }
            },
            "marker": {
             "colorbar": {
              "outlinewidth": 0,
              "ticks": ""
             }
            },
            "type": "scatter3d"
           }
          ],
          "scattercarpet": [
           {
            "marker": {
             "colorbar": {
              "outlinewidth": 0,
              "ticks": ""
             }
            },
            "type": "scattercarpet"
           }
          ],
          "scattergeo": [
           {
            "marker": {
             "colorbar": {
              "outlinewidth": 0,
              "ticks": ""
             }
            },
            "type": "scattergeo"
           }
          ],
          "scattergl": [
           {
            "marker": {
             "colorbar": {
              "outlinewidth": 0,
              "ticks": ""
             }
            },
            "type": "scattergl"
           }
          ],
          "scattermapbox": [
           {
            "marker": {
             "colorbar": {
              "outlinewidth": 0,
              "ticks": ""
             }
            },
            "type": "scattermapbox"
           }
          ],
          "scatterpolar": [
           {
            "marker": {
             "colorbar": {
              "outlinewidth": 0,
              "ticks": ""
             }
            },
            "type": "scatterpolar"
           }
          ],
          "scatterpolargl": [
           {
            "marker": {
             "colorbar": {
              "outlinewidth": 0,
              "ticks": ""
             }
            },
            "type": "scatterpolargl"
           }
          ],
          "scatterternary": [
           {
            "marker": {
             "colorbar": {
              "outlinewidth": 0,
              "ticks": ""
             }
            },
            "type": "scatterternary"
           }
          ],
          "surface": [
           {
            "colorbar": {
             "outlinewidth": 0,
             "ticks": ""
            },
            "colorscale": [
             [
              0,
              "#0d0887"
             ],
             [
              0.1111111111111111,
              "#46039f"
             ],
             [
              0.2222222222222222,
              "#7201a8"
             ],
             [
              0.3333333333333333,
              "#9c179e"
             ],
             [
              0.4444444444444444,
              "#bd3786"
             ],
             [
              0.5555555555555556,
              "#d8576b"
             ],
             [
              0.6666666666666666,
              "#ed7953"
             ],
             [
              0.7777777777777778,
              "#fb9f3a"
             ],
             [
              0.8888888888888888,
              "#fdca26"
             ],
             [
              1,
              "#f0f921"
             ]
            ],
            "type": "surface"
           }
          ],
          "table": [
           {
            "cells": {
             "fill": {
              "color": "#EBF0F8"
             },
             "line": {
              "color": "white"
             }
            },
            "header": {
             "fill": {
              "color": "#C8D4E3"
             },
             "line": {
              "color": "white"
             }
            },
            "type": "table"
           }
          ]
         },
         "layout": {
          "annotationdefaults": {
           "arrowcolor": "#2a3f5f",
           "arrowhead": 0,
           "arrowwidth": 1
          },
          "autotypenumbers": "strict",
          "coloraxis": {
           "colorbar": {
            "outlinewidth": 0,
            "ticks": ""
           }
          },
          "colorscale": {
           "diverging": [
            [
             0,
             "#8e0152"
            ],
            [
             0.1,
             "#c51b7d"
            ],
            [
             0.2,
             "#de77ae"
            ],
            [
             0.3,
             "#f1b6da"
            ],
            [
             0.4,
             "#fde0ef"
            ],
            [
             0.5,
             "#f7f7f7"
            ],
            [
             0.6,
             "#e6f5d0"
            ],
            [
             0.7,
             "#b8e186"
            ],
            [
             0.8,
             "#7fbc41"
            ],
            [
             0.9,
             "#4d9221"
            ],
            [
             1,
             "#276419"
            ]
           ],
           "sequential": [
            [
             0,
             "#0d0887"
            ],
            [
             0.1111111111111111,
             "#46039f"
            ],
            [
             0.2222222222222222,
             "#7201a8"
            ],
            [
             0.3333333333333333,
             "#9c179e"
            ],
            [
             0.4444444444444444,
             "#bd3786"
            ],
            [
             0.5555555555555556,
             "#d8576b"
            ],
            [
             0.6666666666666666,
             "#ed7953"
            ],
            [
             0.7777777777777778,
             "#fb9f3a"
            ],
            [
             0.8888888888888888,
             "#fdca26"
            ],
            [
             1,
             "#f0f921"
            ]
           ],
           "sequentialminus": [
            [
             0,
             "#0d0887"
            ],
            [
             0.1111111111111111,
             "#46039f"
            ],
            [
             0.2222222222222222,
             "#7201a8"
            ],
            [
             0.3333333333333333,
             "#9c179e"
            ],
            [
             0.4444444444444444,
             "#bd3786"
            ],
            [
             0.5555555555555556,
             "#d8576b"
            ],
            [
             0.6666666666666666,
             "#ed7953"
            ],
            [
             0.7777777777777778,
             "#fb9f3a"
            ],
            [
             0.8888888888888888,
             "#fdca26"
            ],
            [
             1,
             "#f0f921"
            ]
           ]
          },
          "colorway": [
           "#636efa",
           "#EF553B",
           "#00cc96",
           "#ab63fa",
           "#FFA15A",
           "#19d3f3",
           "#FF6692",
           "#B6E880",
           "#FF97FF",
           "#FECB52"
          ],
          "font": {
           "color": "#2a3f5f"
          },
          "geo": {
           "bgcolor": "white",
           "lakecolor": "white",
           "landcolor": "#E5ECF6",
           "showlakes": true,
           "showland": true,
           "subunitcolor": "white"
          },
          "hoverlabel": {
           "align": "left"
          },
          "hovermode": "closest",
          "mapbox": {
           "style": "light"
          },
          "paper_bgcolor": "white",
          "plot_bgcolor": "#E5ECF6",
          "polar": {
           "angularaxis": {
            "gridcolor": "white",
            "linecolor": "white",
            "ticks": ""
           },
           "bgcolor": "#E5ECF6",
           "radialaxis": {
            "gridcolor": "white",
            "linecolor": "white",
            "ticks": ""
           }
          },
          "scene": {
           "xaxis": {
            "backgroundcolor": "#E5ECF6",
            "gridcolor": "white",
            "gridwidth": 2,
            "linecolor": "white",
            "showbackground": true,
            "ticks": "",
            "zerolinecolor": "white"
           },
           "yaxis": {
            "backgroundcolor": "#E5ECF6",
            "gridcolor": "white",
            "gridwidth": 2,
            "linecolor": "white",
            "showbackground": true,
            "ticks": "",
            "zerolinecolor": "white"
           },
           "zaxis": {
            "backgroundcolor": "#E5ECF6",
            "gridcolor": "white",
            "gridwidth": 2,
            "linecolor": "white",
            "showbackground": true,
            "ticks": "",
            "zerolinecolor": "white"
           }
          },
          "shapedefaults": {
           "line": {
            "color": "#2a3f5f"
           }
          },
          "ternary": {
           "aaxis": {
            "gridcolor": "white",
            "linecolor": "white",
            "ticks": ""
           },
           "baxis": {
            "gridcolor": "white",
            "linecolor": "white",
            "ticks": ""
           },
           "bgcolor": "#E5ECF6",
           "caxis": {
            "gridcolor": "white",
            "linecolor": "white",
            "ticks": ""
           }
          },
          "title": {
           "x": 0.05
          },
          "xaxis": {
           "automargin": true,
           "gridcolor": "white",
           "linecolor": "white",
           "ticks": "",
           "title": {
            "standoff": 15
           },
           "zerolinecolor": "white",
           "zerolinewidth": 2
          },
          "yaxis": {
           "automargin": true,
           "gridcolor": "white",
           "linecolor": "white",
           "ticks": "",
           "title": {
            "standoff": 15
           },
           "zerolinecolor": "white",
           "zerolinewidth": 2
          }
         }
        },
        "title": {
         "text": "Composition for Predicted Class: h3k4me1"
        },
        "xaxis": {
         "range": [
          -0.01,
          1.01
         ],
         "title": {
          "text": "Min pred"
         }
        },
        "yaxis": {
         "range": [
          0,
          100
         ],
         "title": {
          "text": "Percentage Composition"
         }
        }
       }
      }
     },
     "metadata": {},
     "output_type": "display_data"
    },
    {
     "data": {
      "application/vnd.plotly.v1+json": {
       "config": {
        "plotlyServerURL": "https://plot.ly"
       },
       "data": [
        {
         "marker": {
          "color": "rgb(170, 68, 153)"
         },
         "mode": "lines+markers",
         "name": "trx_reg",
         "type": "scatter",
         "x": [
          0,
          0.05,
          0.1,
          0.15000000000000002,
          0.2,
          0.25,
          0.30000000000000004,
          0.35000000000000003,
          0.4,
          0.45,
          0.5,
          0.55,
          0.6000000000000001,
          0.65,
          0.7000000000000001,
          0.75,
          0.8,
          0.8500000000000001,
          0.9,
          0.9500000000000001,
          0.99
         ],
         "y": [
          81.68,
          81.68,
          81.68,
          81.68,
          81.68,
          81.68,
          81.87,
          82.12,
          82.93,
          84.24,
          85.96,
          86.88,
          88.83,
          88.93,
          90.48,
          92.57,
          94.58,
          96.2,
          97.69,
          98.55,
          98.78
         ]
        },
        {
         "marker": {
          "color": "rgb(204, 102, 119)"
         },
         "mode": "lines+markers",
         "name": "insulator",
         "type": "scatter",
         "x": [
          0,
          0.05,
          0.1,
          0.15000000000000002,
          0.2,
          0.25,
          0.30000000000000004,
          0.35000000000000003,
          0.4,
          0.45,
          0.5,
          0.55,
          0.6000000000000001,
          0.65,
          0.7000000000000001,
          0.75,
          0.8,
          0.8500000000000001,
          0.9
         ],
         "y": [
          13.48,
          13.48,
          13.48,
          13.48,
          13.48,
          13.48,
          13.27,
          12.98,
          12.33,
          11.02,
          9.8,
          9.22,
          7.67,
          7.32,
          5.71,
          3.82,
          2.03,
          1.01,
          0.29
         ]
        },
        {
         "marker": {
          "color": "rgb(221, 204, 119)"
         },
         "mode": "lines+markers",
         "name": "other/mixed",
         "type": "scatter",
         "x": [
          0,
          0.05,
          0.1,
          0.15000000000000002,
          0.2,
          0.25,
          0.30000000000000004,
          0.35000000000000003,
          0.4,
          0.45,
          0.5,
          0.55,
          0.6000000000000001,
          0.65,
          0.7000000000000001,
          0.75,
          0.8,
          0.8500000000000001,
          0.9,
          0.9500000000000001,
          0.99
         ],
         "y": [
          3.14,
          3.14,
          3.14,
          3.14,
          3.14,
          3.14,
          3.15,
          3.18,
          3.12,
          3.21,
          2.78,
          2.34,
          2,
          2.14,
          2.29,
          2.55,
          2.71,
          2.53,
          1.73,
          1.45,
          1.22
         ]
        },
        {
         "marker": {
          "color": "rgb(17, 119, 51)"
         },
         "mode": "lines+markers",
         "name": "polycomb",
         "type": "scatter",
         "x": [
          0,
          0.05,
          0.1,
          0.15000000000000002,
          0.2,
          0.25,
          0.30000000000000004,
          0.35000000000000003,
          0.4,
          0.45,
          0.5,
          0.55,
          0.6000000000000001,
          0.65,
          0.7000000000000001,
          0.75,
          0.8,
          0.8500000000000001,
          0.9
         ],
         "y": [
          1.44,
          1.44,
          1.44,
          1.44,
          1.44,
          1.44,
          1.45,
          1.46,
          1.36,
          1.26,
          1.17,
          1.25,
          1.17,
          1.25,
          1.14,
          0.85,
          0.45,
          0.25,
          0.29
         ]
        },
        {
         "marker": {
          "color": "rgb(136, 204, 238)"
         },
         "mode": "lines+markers",
         "name": "heterochrom",
         "type": "scatter",
         "x": [
          0,
          0.05,
          0.1,
          0.15000000000000002,
          0.2,
          0.25,
          0.30000000000000004,
          0.35000000000000003,
          0.4,
          0.45,
          0.5,
          0.55,
          0.6000000000000001,
          0.65,
          0.7000000000000001,
          0.75,
          0.8
         ],
         "y": [
          0.26,
          0.26,
          0.26,
          0.26,
          0.26,
          0.26,
          0.26,
          0.26,
          0.27,
          0.28,
          0.29,
          0.31,
          0.33,
          0.36,
          0.38,
          0.21,
          0.23
         ]
        },
        {
         "line": {
          "color": "black",
          "dash": "dash"
         },
         "mode": "lines+markers",
         "name": "Samples Conserved",
         "type": "scatter",
         "x": [
          0,
          0.05,
          0.1,
          0.15000000000000002,
          0.2,
          0.25,
          0.30000000000000004,
          0.35000000000000003,
          0.4,
          0.45,
          0.5,
          0.55,
          0.6000000000000001,
          0.65,
          0.7000000000000001,
          0.75,
          0.8,
          0.8500000000000001,
          0.9,
          0.9500000000000001,
          0.99
         ],
         "y": [
          100,
          100,
          100,
          100,
          100,
          100,
          99.60732984293193,
          98.82198952879581,
          96.59685863874346,
          93.84816753926701,
          89.52879581151832,
          83.7696335078534,
          78.53403141361257,
          73.29842931937172,
          68.717277486911,
          61.64921465968587,
          57.98429319371727,
          51.70157068062827,
          45.287958115183244,
          35.99476439790576,
          21.465968586387437
         ]
        }
       ],
       "layout": {
        "hovermode": "x unified",
        "legend": {
         "title": {
          "text": "Assay Category"
         }
        },
        "template": {
         "data": {
          "bar": [
           {
            "error_x": {
             "color": "#2a3f5f"
            },
            "error_y": {
             "color": "#2a3f5f"
            },
            "marker": {
             "line": {
              "color": "#E5ECF6",
              "width": 0.5
             },
             "pattern": {
              "fillmode": "overlay",
              "size": 10,
              "solidity": 0.2
             }
            },
            "type": "bar"
           }
          ],
          "barpolar": [
           {
            "marker": {
             "line": {
              "color": "#E5ECF6",
              "width": 0.5
             },
             "pattern": {
              "fillmode": "overlay",
              "size": 10,
              "solidity": 0.2
             }
            },
            "type": "barpolar"
           }
          ],
          "carpet": [
           {
            "aaxis": {
             "endlinecolor": "#2a3f5f",
             "gridcolor": "white",
             "linecolor": "white",
             "minorgridcolor": "white",
             "startlinecolor": "#2a3f5f"
            },
            "baxis": {
             "endlinecolor": "#2a3f5f",
             "gridcolor": "white",
             "linecolor": "white",
             "minorgridcolor": "white",
             "startlinecolor": "#2a3f5f"
            },
            "type": "carpet"
           }
          ],
          "choropleth": [
           {
            "colorbar": {
             "outlinewidth": 0,
             "ticks": ""
            },
            "type": "choropleth"
           }
          ],
          "contour": [
           {
            "colorbar": {
             "outlinewidth": 0,
             "ticks": ""
            },
            "colorscale": [
             [
              0,
              "#0d0887"
             ],
             [
              0.1111111111111111,
              "#46039f"
             ],
             [
              0.2222222222222222,
              "#7201a8"
             ],
             [
              0.3333333333333333,
              "#9c179e"
             ],
             [
              0.4444444444444444,
              "#bd3786"
             ],
             [
              0.5555555555555556,
              "#d8576b"
             ],
             [
              0.6666666666666666,
              "#ed7953"
             ],
             [
              0.7777777777777778,
              "#fb9f3a"
             ],
             [
              0.8888888888888888,
              "#fdca26"
             ],
             [
              1,
              "#f0f921"
             ]
            ],
            "type": "contour"
           }
          ],
          "contourcarpet": [
           {
            "colorbar": {
             "outlinewidth": 0,
             "ticks": ""
            },
            "type": "contourcarpet"
           }
          ],
          "heatmap": [
           {
            "colorbar": {
             "outlinewidth": 0,
             "ticks": ""
            },
            "colorscale": [
             [
              0,
              "#0d0887"
             ],
             [
              0.1111111111111111,
              "#46039f"
             ],
             [
              0.2222222222222222,
              "#7201a8"
             ],
             [
              0.3333333333333333,
              "#9c179e"
             ],
             [
              0.4444444444444444,
              "#bd3786"
             ],
             [
              0.5555555555555556,
              "#d8576b"
             ],
             [
              0.6666666666666666,
              "#ed7953"
             ],
             [
              0.7777777777777778,
              "#fb9f3a"
             ],
             [
              0.8888888888888888,
              "#fdca26"
             ],
             [
              1,
              "#f0f921"
             ]
            ],
            "type": "heatmap"
           }
          ],
          "heatmapgl": [
           {
            "colorbar": {
             "outlinewidth": 0,
             "ticks": ""
            },
            "colorscale": [
             [
              0,
              "#0d0887"
             ],
             [
              0.1111111111111111,
              "#46039f"
             ],
             [
              0.2222222222222222,
              "#7201a8"
             ],
             [
              0.3333333333333333,
              "#9c179e"
             ],
             [
              0.4444444444444444,
              "#bd3786"
             ],
             [
              0.5555555555555556,
              "#d8576b"
             ],
             [
              0.6666666666666666,
              "#ed7953"
             ],
             [
              0.7777777777777778,
              "#fb9f3a"
             ],
             [
              0.8888888888888888,
              "#fdca26"
             ],
             [
              1,
              "#f0f921"
             ]
            ],
            "type": "heatmapgl"
           }
          ],
          "histogram": [
           {
            "marker": {
             "pattern": {
              "fillmode": "overlay",
              "size": 10,
              "solidity": 0.2
             }
            },
            "type": "histogram"
           }
          ],
          "histogram2d": [
           {
            "colorbar": {
             "outlinewidth": 0,
             "ticks": ""
            },
            "colorscale": [
             [
              0,
              "#0d0887"
             ],
             [
              0.1111111111111111,
              "#46039f"
             ],
             [
              0.2222222222222222,
              "#7201a8"
             ],
             [
              0.3333333333333333,
              "#9c179e"
             ],
             [
              0.4444444444444444,
              "#bd3786"
             ],
             [
              0.5555555555555556,
              "#d8576b"
             ],
             [
              0.6666666666666666,
              "#ed7953"
             ],
             [
              0.7777777777777778,
              "#fb9f3a"
             ],
             [
              0.8888888888888888,
              "#fdca26"
             ],
             [
              1,
              "#f0f921"
             ]
            ],
            "type": "histogram2d"
           }
          ],
          "histogram2dcontour": [
           {
            "colorbar": {
             "outlinewidth": 0,
             "ticks": ""
            },
            "colorscale": [
             [
              0,
              "#0d0887"
             ],
             [
              0.1111111111111111,
              "#46039f"
             ],
             [
              0.2222222222222222,
              "#7201a8"
             ],
             [
              0.3333333333333333,
              "#9c179e"
             ],
             [
              0.4444444444444444,
              "#bd3786"
             ],
             [
              0.5555555555555556,
              "#d8576b"
             ],
             [
              0.6666666666666666,
              "#ed7953"
             ],
             [
              0.7777777777777778,
              "#fb9f3a"
             ],
             [
              0.8888888888888888,
              "#fdca26"
             ],
             [
              1,
              "#f0f921"
             ]
            ],
            "type": "histogram2dcontour"
           }
          ],
          "mesh3d": [
           {
            "colorbar": {
             "outlinewidth": 0,
             "ticks": ""
            },
            "type": "mesh3d"
           }
          ],
          "parcoords": [
           {
            "line": {
             "colorbar": {
              "outlinewidth": 0,
              "ticks": ""
             }
            },
            "type": "parcoords"
           }
          ],
          "pie": [
           {
            "automargin": true,
            "type": "pie"
           }
          ],
          "scatter": [
           {
            "fillpattern": {
             "fillmode": "overlay",
             "size": 10,
             "solidity": 0.2
            },
            "type": "scatter"
           }
          ],
          "scatter3d": [
           {
            "line": {
             "colorbar": {
              "outlinewidth": 0,
              "ticks": ""
             }
            },
            "marker": {
             "colorbar": {
              "outlinewidth": 0,
              "ticks": ""
             }
            },
            "type": "scatter3d"
           }
          ],
          "scattercarpet": [
           {
            "marker": {
             "colorbar": {
              "outlinewidth": 0,
              "ticks": ""
             }
            },
            "type": "scattercarpet"
           }
          ],
          "scattergeo": [
           {
            "marker": {
             "colorbar": {
              "outlinewidth": 0,
              "ticks": ""
             }
            },
            "type": "scattergeo"
           }
          ],
          "scattergl": [
           {
            "marker": {
             "colorbar": {
              "outlinewidth": 0,
              "ticks": ""
             }
            },
            "type": "scattergl"
           }
          ],
          "scattermapbox": [
           {
            "marker": {
             "colorbar": {
              "outlinewidth": 0,
              "ticks": ""
             }
            },
            "type": "scattermapbox"
           }
          ],
          "scatterpolar": [
           {
            "marker": {
             "colorbar": {
              "outlinewidth": 0,
              "ticks": ""
             }
            },
            "type": "scatterpolar"
           }
          ],
          "scatterpolargl": [
           {
            "marker": {
             "colorbar": {
              "outlinewidth": 0,
              "ticks": ""
             }
            },
            "type": "scatterpolargl"
           }
          ],
          "scatterternary": [
           {
            "marker": {
             "colorbar": {
              "outlinewidth": 0,
              "ticks": ""
             }
            },
            "type": "scatterternary"
           }
          ],
          "surface": [
           {
            "colorbar": {
             "outlinewidth": 0,
             "ticks": ""
            },
            "colorscale": [
             [
              0,
              "#0d0887"
             ],
             [
              0.1111111111111111,
              "#46039f"
             ],
             [
              0.2222222222222222,
              "#7201a8"
             ],
             [
              0.3333333333333333,
              "#9c179e"
             ],
             [
              0.4444444444444444,
              "#bd3786"
             ],
             [
              0.5555555555555556,
              "#d8576b"
             ],
             [
              0.6666666666666666,
              "#ed7953"
             ],
             [
              0.7777777777777778,
              "#fb9f3a"
             ],
             [
              0.8888888888888888,
              "#fdca26"
             ],
             [
              1,
              "#f0f921"
             ]
            ],
            "type": "surface"
           }
          ],
          "table": [
           {
            "cells": {
             "fill": {
              "color": "#EBF0F8"
             },
             "line": {
              "color": "white"
             }
            },
            "header": {
             "fill": {
              "color": "#C8D4E3"
             },
             "line": {
              "color": "white"
             }
            },
            "type": "table"
           }
          ]
         },
         "layout": {
          "annotationdefaults": {
           "arrowcolor": "#2a3f5f",
           "arrowhead": 0,
           "arrowwidth": 1
          },
          "autotypenumbers": "strict",
          "coloraxis": {
           "colorbar": {
            "outlinewidth": 0,
            "ticks": ""
           }
          },
          "colorscale": {
           "diverging": [
            [
             0,
             "#8e0152"
            ],
            [
             0.1,
             "#c51b7d"
            ],
            [
             0.2,
             "#de77ae"
            ],
            [
             0.3,
             "#f1b6da"
            ],
            [
             0.4,
             "#fde0ef"
            ],
            [
             0.5,
             "#f7f7f7"
            ],
            [
             0.6,
             "#e6f5d0"
            ],
            [
             0.7,
             "#b8e186"
            ],
            [
             0.8,
             "#7fbc41"
            ],
            [
             0.9,
             "#4d9221"
            ],
            [
             1,
             "#276419"
            ]
           ],
           "sequential": [
            [
             0,
             "#0d0887"
            ],
            [
             0.1111111111111111,
             "#46039f"
            ],
            [
             0.2222222222222222,
             "#7201a8"
            ],
            [
             0.3333333333333333,
             "#9c179e"
            ],
            [
             0.4444444444444444,
             "#bd3786"
            ],
            [
             0.5555555555555556,
             "#d8576b"
            ],
            [
             0.6666666666666666,
             "#ed7953"
            ],
            [
             0.7777777777777778,
             "#fb9f3a"
            ],
            [
             0.8888888888888888,
             "#fdca26"
            ],
            [
             1,
             "#f0f921"
            ]
           ],
           "sequentialminus": [
            [
             0,
             "#0d0887"
            ],
            [
             0.1111111111111111,
             "#46039f"
            ],
            [
             0.2222222222222222,
             "#7201a8"
            ],
            [
             0.3333333333333333,
             "#9c179e"
            ],
            [
             0.4444444444444444,
             "#bd3786"
            ],
            [
             0.5555555555555556,
             "#d8576b"
            ],
            [
             0.6666666666666666,
             "#ed7953"
            ],
            [
             0.7777777777777778,
             "#fb9f3a"
            ],
            [
             0.8888888888888888,
             "#fdca26"
            ],
            [
             1,
             "#f0f921"
            ]
           ]
          },
          "colorway": [
           "#636efa",
           "#EF553B",
           "#00cc96",
           "#ab63fa",
           "#FFA15A",
           "#19d3f3",
           "#FF6692",
           "#B6E880",
           "#FF97FF",
           "#FECB52"
          ],
          "font": {
           "color": "#2a3f5f"
          },
          "geo": {
           "bgcolor": "white",
           "lakecolor": "white",
           "landcolor": "#E5ECF6",
           "showlakes": true,
           "showland": true,
           "subunitcolor": "white"
          },
          "hoverlabel": {
           "align": "left"
          },
          "hovermode": "closest",
          "mapbox": {
           "style": "light"
          },
          "paper_bgcolor": "white",
          "plot_bgcolor": "#E5ECF6",
          "polar": {
           "angularaxis": {
            "gridcolor": "white",
            "linecolor": "white",
            "ticks": ""
           },
           "bgcolor": "#E5ECF6",
           "radialaxis": {
            "gridcolor": "white",
            "linecolor": "white",
            "ticks": ""
           }
          },
          "scene": {
           "xaxis": {
            "backgroundcolor": "#E5ECF6",
            "gridcolor": "white",
            "gridwidth": 2,
            "linecolor": "white",
            "showbackground": true,
            "ticks": "",
            "zerolinecolor": "white"
           },
           "yaxis": {
            "backgroundcolor": "#E5ECF6",
            "gridcolor": "white",
            "gridwidth": 2,
            "linecolor": "white",
            "showbackground": true,
            "ticks": "",
            "zerolinecolor": "white"
           },
           "zaxis": {
            "backgroundcolor": "#E5ECF6",
            "gridcolor": "white",
            "gridwidth": 2,
            "linecolor": "white",
            "showbackground": true,
            "ticks": "",
            "zerolinecolor": "white"
           }
          },
          "shapedefaults": {
           "line": {
            "color": "#2a3f5f"
           }
          },
          "ternary": {
           "aaxis": {
            "gridcolor": "white",
            "linecolor": "white",
            "ticks": ""
           },
           "baxis": {
            "gridcolor": "white",
            "linecolor": "white",
            "ticks": ""
           },
           "bgcolor": "#E5ECF6",
           "caxis": {
            "gridcolor": "white",
            "linecolor": "white",
            "ticks": ""
           }
          },
          "title": {
           "x": 0.05
          },
          "xaxis": {
           "automargin": true,
           "gridcolor": "white",
           "linecolor": "white",
           "ticks": "",
           "title": {
            "standoff": 15
           },
           "zerolinecolor": "white",
           "zerolinewidth": 2
          },
          "yaxis": {
           "automargin": true,
           "gridcolor": "white",
           "linecolor": "white",
           "ticks": "",
           "title": {
            "standoff": 15
           },
           "zerolinecolor": "white",
           "zerolinewidth": 2
          }
         }
        },
        "title": {
         "text": "Composition for Predicted Class: h3k4me3"
        },
        "xaxis": {
         "range": [
          -0.01,
          1.01
         ],
         "title": {
          "text": "Min pred"
         }
        },
        "yaxis": {
         "range": [
          0,
          100
         ],
         "title": {
          "text": "Percentage Composition"
         }
        }
       }
      }
     },
     "metadata": {},
     "output_type": "display_data"
    },
    {
     "data": {
      "application/vnd.plotly.v1+json": {
       "config": {
        "plotlyServerURL": "https://plot.ly"
       },
       "data": [
        {
         "marker": {
          "color": "rgb(136, 204, 238)"
         },
         "mode": "lines+markers",
         "name": "heterochrom",
         "type": "scatter",
         "x": [
          0,
          0.05,
          0.1,
          0.15000000000000002,
          0.2,
          0.25,
          0.30000000000000004,
          0.35000000000000003,
          0.4,
          0.45,
          0.5,
          0.55,
          0.6000000000000001,
          0.65,
          0.7000000000000001,
          0.75,
          0.8,
          0.8500000000000001,
          0.9,
          0.9500000000000001,
          0.99
         ],
         "y": [
          52,
          52,
          52,
          52,
          52,
          52,
          54.17,
          54.17,
          59.09,
          60.98,
          67.57,
          73.53,
          72.73,
          72.73,
          71.88,
          73.08,
          78.26,
          78.26,
          85,
          93.75,
          100
         ]
        },
        {
         "marker": {
          "color": "rgb(170, 68, 153)"
         },
         "mode": "lines+markers",
         "name": "trx_reg",
         "type": "scatter",
         "x": [
          0,
          0.05,
          0.1,
          0.15000000000000002,
          0.2,
          0.25,
          0.30000000000000004,
          0.35000000000000003,
          0.4,
          0.45,
          0.5,
          0.55,
          0.6000000000000001,
          0.65,
          0.7000000000000001,
          0.75,
          0.8,
          0.8500000000000001,
          0.9,
          0.9500000000000001
         ],
         "y": [
          42,
          42,
          42,
          42,
          42,
          42,
          39.58,
          39.58,
          34.09,
          31.71,
          27.03,
          20.59,
          21.21,
          21.21,
          21.88,
          26.92,
          21.74,
          21.74,
          15,
          6.25
         ]
        },
        {
         "marker": {
          "color": "rgb(221, 204, 119)"
         },
         "mode": "lines+markers",
         "name": "other/mixed",
         "type": "scatter",
         "x": [
          0,
          0.05,
          0.1,
          0.15000000000000002,
          0.2,
          0.25,
          0.30000000000000004,
          0.35000000000000003,
          0.4,
          0.45,
          0.5,
          0.55,
          0.6000000000000001,
          0.65,
          0.7000000000000001
         ],
         "y": [
          6,
          6,
          6,
          6,
          6,
          6,
          6.25,
          6.25,
          6.82,
          7.32,
          5.41,
          5.88,
          6.06,
          6.06,
          6.25
         ]
        },
        {
         "line": {
          "color": "black",
          "dash": "dash"
         },
         "mode": "lines+markers",
         "name": "Samples Conserved",
         "type": "scatter",
         "x": [
          0,
          0.05,
          0.1,
          0.15000000000000002,
          0.2,
          0.25,
          0.30000000000000004,
          0.35000000000000003,
          0.4,
          0.45,
          0.5,
          0.55,
          0.6000000000000001,
          0.65,
          0.7000000000000001,
          0.75,
          0.8,
          0.8500000000000001,
          0.9,
          0.9500000000000001,
          0.99
         ],
         "y": [
          100,
          100,
          100,
          100,
          100,
          100,
          96,
          96,
          88,
          82,
          74,
          68,
          66,
          66,
          64,
          52,
          46,
          46,
          40,
          32,
          18
         ]
        }
       ],
       "layout": {
        "hovermode": "x unified",
        "legend": {
         "title": {
          "text": "Assay Category"
         }
        },
        "template": {
         "data": {
          "bar": [
           {
            "error_x": {
             "color": "#2a3f5f"
            },
            "error_y": {
             "color": "#2a3f5f"
            },
            "marker": {
             "line": {
              "color": "#E5ECF6",
              "width": 0.5
             },
             "pattern": {
              "fillmode": "overlay",
              "size": 10,
              "solidity": 0.2
             }
            },
            "type": "bar"
           }
          ],
          "barpolar": [
           {
            "marker": {
             "line": {
              "color": "#E5ECF6",
              "width": 0.5
             },
             "pattern": {
              "fillmode": "overlay",
              "size": 10,
              "solidity": 0.2
             }
            },
            "type": "barpolar"
           }
          ],
          "carpet": [
           {
            "aaxis": {
             "endlinecolor": "#2a3f5f",
             "gridcolor": "white",
             "linecolor": "white",
             "minorgridcolor": "white",
             "startlinecolor": "#2a3f5f"
            },
            "baxis": {
             "endlinecolor": "#2a3f5f",
             "gridcolor": "white",
             "linecolor": "white",
             "minorgridcolor": "white",
             "startlinecolor": "#2a3f5f"
            },
            "type": "carpet"
           }
          ],
          "choropleth": [
           {
            "colorbar": {
             "outlinewidth": 0,
             "ticks": ""
            },
            "type": "choropleth"
           }
          ],
          "contour": [
           {
            "colorbar": {
             "outlinewidth": 0,
             "ticks": ""
            },
            "colorscale": [
             [
              0,
              "#0d0887"
             ],
             [
              0.1111111111111111,
              "#46039f"
             ],
             [
              0.2222222222222222,
              "#7201a8"
             ],
             [
              0.3333333333333333,
              "#9c179e"
             ],
             [
              0.4444444444444444,
              "#bd3786"
             ],
             [
              0.5555555555555556,
              "#d8576b"
             ],
             [
              0.6666666666666666,
              "#ed7953"
             ],
             [
              0.7777777777777778,
              "#fb9f3a"
             ],
             [
              0.8888888888888888,
              "#fdca26"
             ],
             [
              1,
              "#f0f921"
             ]
            ],
            "type": "contour"
           }
          ],
          "contourcarpet": [
           {
            "colorbar": {
             "outlinewidth": 0,
             "ticks": ""
            },
            "type": "contourcarpet"
           }
          ],
          "heatmap": [
           {
            "colorbar": {
             "outlinewidth": 0,
             "ticks": ""
            },
            "colorscale": [
             [
              0,
              "#0d0887"
             ],
             [
              0.1111111111111111,
              "#46039f"
             ],
             [
              0.2222222222222222,
              "#7201a8"
             ],
             [
              0.3333333333333333,
              "#9c179e"
             ],
             [
              0.4444444444444444,
              "#bd3786"
             ],
             [
              0.5555555555555556,
              "#d8576b"
             ],
             [
              0.6666666666666666,
              "#ed7953"
             ],
             [
              0.7777777777777778,
              "#fb9f3a"
             ],
             [
              0.8888888888888888,
              "#fdca26"
             ],
             [
              1,
              "#f0f921"
             ]
            ],
            "type": "heatmap"
           }
          ],
          "heatmapgl": [
           {
            "colorbar": {
             "outlinewidth": 0,
             "ticks": ""
            },
            "colorscale": [
             [
              0,
              "#0d0887"
             ],
             [
              0.1111111111111111,
              "#46039f"
             ],
             [
              0.2222222222222222,
              "#7201a8"
             ],
             [
              0.3333333333333333,
              "#9c179e"
             ],
             [
              0.4444444444444444,
              "#bd3786"
             ],
             [
              0.5555555555555556,
              "#d8576b"
             ],
             [
              0.6666666666666666,
              "#ed7953"
             ],
             [
              0.7777777777777778,
              "#fb9f3a"
             ],
             [
              0.8888888888888888,
              "#fdca26"
             ],
             [
              1,
              "#f0f921"
             ]
            ],
            "type": "heatmapgl"
           }
          ],
          "histogram": [
           {
            "marker": {
             "pattern": {
              "fillmode": "overlay",
              "size": 10,
              "solidity": 0.2
             }
            },
            "type": "histogram"
           }
          ],
          "histogram2d": [
           {
            "colorbar": {
             "outlinewidth": 0,
             "ticks": ""
            },
            "colorscale": [
             [
              0,
              "#0d0887"
             ],
             [
              0.1111111111111111,
              "#46039f"
             ],
             [
              0.2222222222222222,
              "#7201a8"
             ],
             [
              0.3333333333333333,
              "#9c179e"
             ],
             [
              0.4444444444444444,
              "#bd3786"
             ],
             [
              0.5555555555555556,
              "#d8576b"
             ],
             [
              0.6666666666666666,
              "#ed7953"
             ],
             [
              0.7777777777777778,
              "#fb9f3a"
             ],
             [
              0.8888888888888888,
              "#fdca26"
             ],
             [
              1,
              "#f0f921"
             ]
            ],
            "type": "histogram2d"
           }
          ],
          "histogram2dcontour": [
           {
            "colorbar": {
             "outlinewidth": 0,
             "ticks": ""
            },
            "colorscale": [
             [
              0,
              "#0d0887"
             ],
             [
              0.1111111111111111,
              "#46039f"
             ],
             [
              0.2222222222222222,
              "#7201a8"
             ],
             [
              0.3333333333333333,
              "#9c179e"
             ],
             [
              0.4444444444444444,
              "#bd3786"
             ],
             [
              0.5555555555555556,
              "#d8576b"
             ],
             [
              0.6666666666666666,
              "#ed7953"
             ],
             [
              0.7777777777777778,
              "#fb9f3a"
             ],
             [
              0.8888888888888888,
              "#fdca26"
             ],
             [
              1,
              "#f0f921"
             ]
            ],
            "type": "histogram2dcontour"
           }
          ],
          "mesh3d": [
           {
            "colorbar": {
             "outlinewidth": 0,
             "ticks": ""
            },
            "type": "mesh3d"
           }
          ],
          "parcoords": [
           {
            "line": {
             "colorbar": {
              "outlinewidth": 0,
              "ticks": ""
             }
            },
            "type": "parcoords"
           }
          ],
          "pie": [
           {
            "automargin": true,
            "type": "pie"
           }
          ],
          "scatter": [
           {
            "fillpattern": {
             "fillmode": "overlay",
             "size": 10,
             "solidity": 0.2
            },
            "type": "scatter"
           }
          ],
          "scatter3d": [
           {
            "line": {
             "colorbar": {
              "outlinewidth": 0,
              "ticks": ""
             }
            },
            "marker": {
             "colorbar": {
              "outlinewidth": 0,
              "ticks": ""
             }
            },
            "type": "scatter3d"
           }
          ],
          "scattercarpet": [
           {
            "marker": {
             "colorbar": {
              "outlinewidth": 0,
              "ticks": ""
             }
            },
            "type": "scattercarpet"
           }
          ],
          "scattergeo": [
           {
            "marker": {
             "colorbar": {
              "outlinewidth": 0,
              "ticks": ""
             }
            },
            "type": "scattergeo"
           }
          ],
          "scattergl": [
           {
            "marker": {
             "colorbar": {
              "outlinewidth": 0,
              "ticks": ""
             }
            },
            "type": "scattergl"
           }
          ],
          "scattermapbox": [
           {
            "marker": {
             "colorbar": {
              "outlinewidth": 0,
              "ticks": ""
             }
            },
            "type": "scattermapbox"
           }
          ],
          "scatterpolar": [
           {
            "marker": {
             "colorbar": {
              "outlinewidth": 0,
              "ticks": ""
             }
            },
            "type": "scatterpolar"
           }
          ],
          "scatterpolargl": [
           {
            "marker": {
             "colorbar": {
              "outlinewidth": 0,
              "ticks": ""
             }
            },
            "type": "scatterpolargl"
           }
          ],
          "scatterternary": [
           {
            "marker": {
             "colorbar": {
              "outlinewidth": 0,
              "ticks": ""
             }
            },
            "type": "scatterternary"
           }
          ],
          "surface": [
           {
            "colorbar": {
             "outlinewidth": 0,
             "ticks": ""
            },
            "colorscale": [
             [
              0,
              "#0d0887"
             ],
             [
              0.1111111111111111,
              "#46039f"
             ],
             [
              0.2222222222222222,
              "#7201a8"
             ],
             [
              0.3333333333333333,
              "#9c179e"
             ],
             [
              0.4444444444444444,
              "#bd3786"
             ],
             [
              0.5555555555555556,
              "#d8576b"
             ],
             [
              0.6666666666666666,
              "#ed7953"
             ],
             [
              0.7777777777777778,
              "#fb9f3a"
             ],
             [
              0.8888888888888888,
              "#fdca26"
             ],
             [
              1,
              "#f0f921"
             ]
            ],
            "type": "surface"
           }
          ],
          "table": [
           {
            "cells": {
             "fill": {
              "color": "#EBF0F8"
             },
             "line": {
              "color": "white"
             }
            },
            "header": {
             "fill": {
              "color": "#C8D4E3"
             },
             "line": {
              "color": "white"
             }
            },
            "type": "table"
           }
          ]
         },
         "layout": {
          "annotationdefaults": {
           "arrowcolor": "#2a3f5f",
           "arrowhead": 0,
           "arrowwidth": 1
          },
          "autotypenumbers": "strict",
          "coloraxis": {
           "colorbar": {
            "outlinewidth": 0,
            "ticks": ""
           }
          },
          "colorscale": {
           "diverging": [
            [
             0,
             "#8e0152"
            ],
            [
             0.1,
             "#c51b7d"
            ],
            [
             0.2,
             "#de77ae"
            ],
            [
             0.3,
             "#f1b6da"
            ],
            [
             0.4,
             "#fde0ef"
            ],
            [
             0.5,
             "#f7f7f7"
            ],
            [
             0.6,
             "#e6f5d0"
            ],
            [
             0.7,
             "#b8e186"
            ],
            [
             0.8,
             "#7fbc41"
            ],
            [
             0.9,
             "#4d9221"
            ],
            [
             1,
             "#276419"
            ]
           ],
           "sequential": [
            [
             0,
             "#0d0887"
            ],
            [
             0.1111111111111111,
             "#46039f"
            ],
            [
             0.2222222222222222,
             "#7201a8"
            ],
            [
             0.3333333333333333,
             "#9c179e"
            ],
            [
             0.4444444444444444,
             "#bd3786"
            ],
            [
             0.5555555555555556,
             "#d8576b"
            ],
            [
             0.6666666666666666,
             "#ed7953"
            ],
            [
             0.7777777777777778,
             "#fb9f3a"
            ],
            [
             0.8888888888888888,
             "#fdca26"
            ],
            [
             1,
             "#f0f921"
            ]
           ],
           "sequentialminus": [
            [
             0,
             "#0d0887"
            ],
            [
             0.1111111111111111,
             "#46039f"
            ],
            [
             0.2222222222222222,
             "#7201a8"
            ],
            [
             0.3333333333333333,
             "#9c179e"
            ],
            [
             0.4444444444444444,
             "#bd3786"
            ],
            [
             0.5555555555555556,
             "#d8576b"
            ],
            [
             0.6666666666666666,
             "#ed7953"
            ],
            [
             0.7777777777777778,
             "#fb9f3a"
            ],
            [
             0.8888888888888888,
             "#fdca26"
            ],
            [
             1,
             "#f0f921"
            ]
           ]
          },
          "colorway": [
           "#636efa",
           "#EF553B",
           "#00cc96",
           "#ab63fa",
           "#FFA15A",
           "#19d3f3",
           "#FF6692",
           "#B6E880",
           "#FF97FF",
           "#FECB52"
          ],
          "font": {
           "color": "#2a3f5f"
          },
          "geo": {
           "bgcolor": "white",
           "lakecolor": "white",
           "landcolor": "#E5ECF6",
           "showlakes": true,
           "showland": true,
           "subunitcolor": "white"
          },
          "hoverlabel": {
           "align": "left"
          },
          "hovermode": "closest",
          "mapbox": {
           "style": "light"
          },
          "paper_bgcolor": "white",
          "plot_bgcolor": "#E5ECF6",
          "polar": {
           "angularaxis": {
            "gridcolor": "white",
            "linecolor": "white",
            "ticks": ""
           },
           "bgcolor": "#E5ECF6",
           "radialaxis": {
            "gridcolor": "white",
            "linecolor": "white",
            "ticks": ""
           }
          },
          "scene": {
           "xaxis": {
            "backgroundcolor": "#E5ECF6",
            "gridcolor": "white",
            "gridwidth": 2,
            "linecolor": "white",
            "showbackground": true,
            "ticks": "",
            "zerolinecolor": "white"
           },
           "yaxis": {
            "backgroundcolor": "#E5ECF6",
            "gridcolor": "white",
            "gridwidth": 2,
            "linecolor": "white",
            "showbackground": true,
            "ticks": "",
            "zerolinecolor": "white"
           },
           "zaxis": {
            "backgroundcolor": "#E5ECF6",
            "gridcolor": "white",
            "gridwidth": 2,
            "linecolor": "white",
            "showbackground": true,
            "ticks": "",
            "zerolinecolor": "white"
           }
          },
          "shapedefaults": {
           "line": {
            "color": "#2a3f5f"
           }
          },
          "ternary": {
           "aaxis": {
            "gridcolor": "white",
            "linecolor": "white",
            "ticks": ""
           },
           "baxis": {
            "gridcolor": "white",
            "linecolor": "white",
            "ticks": ""
           },
           "bgcolor": "#E5ECF6",
           "caxis": {
            "gridcolor": "white",
            "linecolor": "white",
            "ticks": ""
           }
          },
          "title": {
           "x": 0.05
          },
          "xaxis": {
           "automargin": true,
           "gridcolor": "white",
           "linecolor": "white",
           "ticks": "",
           "title": {
            "standoff": 15
           },
           "zerolinecolor": "white",
           "zerolinewidth": 2
          },
          "yaxis": {
           "automargin": true,
           "gridcolor": "white",
           "linecolor": "white",
           "ticks": "",
           "title": {
            "standoff": 15
           },
           "zerolinecolor": "white",
           "zerolinewidth": 2
          }
         }
        },
        "title": {
         "text": "Composition for Predicted Class: h3k9me3"
        },
        "xaxis": {
         "range": [
          -0.01,
          1.01
         ],
         "title": {
          "text": "Min pred"
         }
        },
        "yaxis": {
         "range": [
          0,
          100
         ],
         "title": {
          "text": "Percentage Composition"
         }
        }
       }
      }
     },
     "metadata": {},
     "output_type": "display_data"
    },
    {
     "data": {
      "application/vnd.plotly.v1+json": {
       "config": {
        "plotlyServerURL": "https://plot.ly"
       },
       "data": [
        {
         "marker": {
          "color": "rgb(204, 102, 119)"
         },
         "mode": "lines+markers",
         "name": "insulator",
         "type": "scatter",
         "x": [
          0,
          0.05,
          0.1,
          0.15000000000000002,
          0.2,
          0.25,
          0.30000000000000004,
          0.35000000000000003,
          0.4,
          0.45,
          0.5,
          0.55,
          0.6000000000000001,
          0.65,
          0.7000000000000001,
          0.75,
          0.8,
          0.8500000000000001,
          0.9,
          0.9500000000000001
         ],
         "y": [
          54.08,
          54.08,
          54.08,
          54.08,
          54.08,
          54.16,
          54.53,
          54.67,
          54.42,
          53.69,
          53.69,
          53.71,
          53.14,
          53.73,
          49.72,
          47.08,
          41.22,
          31.55,
          24.06,
          17.65
         ]
        },
        {
         "marker": {
          "color": "rgb(170, 68, 153)"
         },
         "mode": "lines+markers",
         "name": "trx_reg",
         "type": "scatter",
         "x": [
          0,
          0.05,
          0.1,
          0.15000000000000002,
          0.2,
          0.25,
          0.30000000000000004,
          0.35000000000000003,
          0.4,
          0.45,
          0.5,
          0.55,
          0.6000000000000001,
          0.65,
          0.7000000000000001,
          0.75,
          0.8,
          0.8500000000000001,
          0.9,
          0.9500000000000001,
          0.99
         ],
         "y": [
          40.94,
          40.94,
          40.94,
          40.94,
          40.94,
          40.86,
          40.59,
          40.37,
          40.56,
          41.29,
          41.17,
          40.95,
          41.84,
          41.2,
          44.69,
          47.08,
          51.84,
          59.89,
          66.17,
          74.12,
          93.33
         ]
        },
        {
         "marker": {
          "color": "rgb(221, 204, 119)"
         },
         "mode": "lines+markers",
         "name": "other/mixed",
         "type": "scatter",
         "x": [
          0,
          0.05,
          0.1,
          0.15000000000000002,
          0.2,
          0.25,
          0.30000000000000004,
          0.35000000000000003,
          0.4,
          0.45,
          0.5,
          0.55,
          0.6000000000000001,
          0.65,
          0.7000000000000001,
          0.75,
          0.8,
          0.8500000000000001,
          0.9,
          0.9500000000000001
         ],
         "y": [
          2.49,
          2.49,
          2.49,
          2.49,
          2.49,
          2.49,
          2.51,
          2.55,
          2.51,
          2.51,
          2.57,
          2.67,
          2.3,
          2.41,
          2.79,
          3.25,
          3.67,
          4.81,
          5.26,
          4.71
         ]
        },
        {
         "marker": {
          "color": "rgb(136, 204, 238)"
         },
         "mode": "lines+markers",
         "name": "heterochrom",
         "type": "scatter",
         "x": [
          0,
          0.05,
          0.1,
          0.15000000000000002,
          0.2,
          0.25,
          0.30000000000000004,
          0.35000000000000003,
          0.4,
          0.45,
          0.5,
          0.55,
          0.6000000000000001,
          0.65,
          0.7000000000000001,
          0.75,
          0.8,
          0.8500000000000001,
          0.9,
          0.9500000000000001,
          0.99
         ],
         "y": [
          1.66,
          1.66,
          1.66,
          1.66,
          1.66,
          1.66,
          1.67,
          1.7,
          1.77,
          1.73,
          1.89,
          2.1,
          2.09,
          2.17,
          2.23,
          2.6,
          3.27,
          3.74,
          4.51,
          3.53,
          6.67
         ]
        },
        {
         "marker": {
          "color": "rgb(17, 119, 51)"
         },
         "mode": "lines+markers",
         "name": "polycomb",
         "type": "scatter",
         "x": [
          0,
          0.05,
          0.1,
          0.15000000000000002,
          0.2,
          0.25,
          0.30000000000000004,
          0.35000000000000003,
          0.4,
          0.45,
          0.5,
          0.55,
          0.6000000000000001,
          0.65,
          0.7000000000000001
         ],
         "y": [
          0.41,
          0.41,
          0.41,
          0.41,
          0.41,
          0.42,
          0.28,
          0.28,
          0.29,
          0.31,
          0.17,
          0.19,
          0.21,
          0.24,
          0.28
         ]
        },
        {
         "marker": {
          "color": "rgb(51, 34, 136)"
         },
         "mode": "lines+markers",
         "name": "splicing",
         "type": "scatter",
         "x": [
          0,
          0.05,
          0.1,
          0.15000000000000002,
          0.2,
          0.25,
          0.30000000000000004,
          0.35000000000000003,
          0.4,
          0.45,
          0.5,
          0.55,
          0.6000000000000001,
          0.65,
          0.7000000000000001
         ],
         "y": [
          0.41,
          0.41,
          0.41,
          0.41,
          0.41,
          0.42,
          0.42,
          0.42,
          0.44,
          0.47,
          0.51,
          0.38,
          0.42,
          0.24,
          0.28
         ]
        },
        {
         "line": {
          "color": "black",
          "dash": "dash"
         },
         "mode": "lines+markers",
         "name": "Samples Conserved",
         "type": "scatter",
         "x": [
          0,
          0.05,
          0.1,
          0.15000000000000002,
          0.2,
          0.25,
          0.30000000000000004,
          0.35000000000000003,
          0.4,
          0.45,
          0.5,
          0.55,
          0.6000000000000001,
          0.65,
          0.7000000000000001,
          0.75,
          0.8,
          0.8500000000000001,
          0.9,
          0.9500000000000001,
          0.99
         ],
         "y": [
          100,
          100,
          100,
          100,
          100,
          99.86168741355463,
          99.1701244813278,
          97.64868603042876,
          93.7759336099585,
          88.10511756569848,
          80.63623789764868,
          72.61410788381743,
          66.1134163208852,
          57.399723374827104,
          49.51590594744122,
          42.60027662517289,
          33.8865836791148,
          25.864453665283545,
          18.39557399723375,
          11.756569847856154,
          2.0746887966804977
         ]
        }
       ],
       "layout": {
        "hovermode": "x unified",
        "legend": {
         "title": {
          "text": "Assay Category"
         }
        },
        "template": {
         "data": {
          "bar": [
           {
            "error_x": {
             "color": "#2a3f5f"
            },
            "error_y": {
             "color": "#2a3f5f"
            },
            "marker": {
             "line": {
              "color": "#E5ECF6",
              "width": 0.5
             },
             "pattern": {
              "fillmode": "overlay",
              "size": 10,
              "solidity": 0.2
             }
            },
            "type": "bar"
           }
          ],
          "barpolar": [
           {
            "marker": {
             "line": {
              "color": "#E5ECF6",
              "width": 0.5
             },
             "pattern": {
              "fillmode": "overlay",
              "size": 10,
              "solidity": 0.2
             }
            },
            "type": "barpolar"
           }
          ],
          "carpet": [
           {
            "aaxis": {
             "endlinecolor": "#2a3f5f",
             "gridcolor": "white",
             "linecolor": "white",
             "minorgridcolor": "white",
             "startlinecolor": "#2a3f5f"
            },
            "baxis": {
             "endlinecolor": "#2a3f5f",
             "gridcolor": "white",
             "linecolor": "white",
             "minorgridcolor": "white",
             "startlinecolor": "#2a3f5f"
            },
            "type": "carpet"
           }
          ],
          "choropleth": [
           {
            "colorbar": {
             "outlinewidth": 0,
             "ticks": ""
            },
            "type": "choropleth"
           }
          ],
          "contour": [
           {
            "colorbar": {
             "outlinewidth": 0,
             "ticks": ""
            },
            "colorscale": [
             [
              0,
              "#0d0887"
             ],
             [
              0.1111111111111111,
              "#46039f"
             ],
             [
              0.2222222222222222,
              "#7201a8"
             ],
             [
              0.3333333333333333,
              "#9c179e"
             ],
             [
              0.4444444444444444,
              "#bd3786"
             ],
             [
              0.5555555555555556,
              "#d8576b"
             ],
             [
              0.6666666666666666,
              "#ed7953"
             ],
             [
              0.7777777777777778,
              "#fb9f3a"
             ],
             [
              0.8888888888888888,
              "#fdca26"
             ],
             [
              1,
              "#f0f921"
             ]
            ],
            "type": "contour"
           }
          ],
          "contourcarpet": [
           {
            "colorbar": {
             "outlinewidth": 0,
             "ticks": ""
            },
            "type": "contourcarpet"
           }
          ],
          "heatmap": [
           {
            "colorbar": {
             "outlinewidth": 0,
             "ticks": ""
            },
            "colorscale": [
             [
              0,
              "#0d0887"
             ],
             [
              0.1111111111111111,
              "#46039f"
             ],
             [
              0.2222222222222222,
              "#7201a8"
             ],
             [
              0.3333333333333333,
              "#9c179e"
             ],
             [
              0.4444444444444444,
              "#bd3786"
             ],
             [
              0.5555555555555556,
              "#d8576b"
             ],
             [
              0.6666666666666666,
              "#ed7953"
             ],
             [
              0.7777777777777778,
              "#fb9f3a"
             ],
             [
              0.8888888888888888,
              "#fdca26"
             ],
             [
              1,
              "#f0f921"
             ]
            ],
            "type": "heatmap"
           }
          ],
          "heatmapgl": [
           {
            "colorbar": {
             "outlinewidth": 0,
             "ticks": ""
            },
            "colorscale": [
             [
              0,
              "#0d0887"
             ],
             [
              0.1111111111111111,
              "#46039f"
             ],
             [
              0.2222222222222222,
              "#7201a8"
             ],
             [
              0.3333333333333333,
              "#9c179e"
             ],
             [
              0.4444444444444444,
              "#bd3786"
             ],
             [
              0.5555555555555556,
              "#d8576b"
             ],
             [
              0.6666666666666666,
              "#ed7953"
             ],
             [
              0.7777777777777778,
              "#fb9f3a"
             ],
             [
              0.8888888888888888,
              "#fdca26"
             ],
             [
              1,
              "#f0f921"
             ]
            ],
            "type": "heatmapgl"
           }
          ],
          "histogram": [
           {
            "marker": {
             "pattern": {
              "fillmode": "overlay",
              "size": 10,
              "solidity": 0.2
             }
            },
            "type": "histogram"
           }
          ],
          "histogram2d": [
           {
            "colorbar": {
             "outlinewidth": 0,
             "ticks": ""
            },
            "colorscale": [
             [
              0,
              "#0d0887"
             ],
             [
              0.1111111111111111,
              "#46039f"
             ],
             [
              0.2222222222222222,
              "#7201a8"
             ],
             [
              0.3333333333333333,
              "#9c179e"
             ],
             [
              0.4444444444444444,
              "#bd3786"
             ],
             [
              0.5555555555555556,
              "#d8576b"
             ],
             [
              0.6666666666666666,
              "#ed7953"
             ],
             [
              0.7777777777777778,
              "#fb9f3a"
             ],
             [
              0.8888888888888888,
              "#fdca26"
             ],
             [
              1,
              "#f0f921"
             ]
            ],
            "type": "histogram2d"
           }
          ],
          "histogram2dcontour": [
           {
            "colorbar": {
             "outlinewidth": 0,
             "ticks": ""
            },
            "colorscale": [
             [
              0,
              "#0d0887"
             ],
             [
              0.1111111111111111,
              "#46039f"
             ],
             [
              0.2222222222222222,
              "#7201a8"
             ],
             [
              0.3333333333333333,
              "#9c179e"
             ],
             [
              0.4444444444444444,
              "#bd3786"
             ],
             [
              0.5555555555555556,
              "#d8576b"
             ],
             [
              0.6666666666666666,
              "#ed7953"
             ],
             [
              0.7777777777777778,
              "#fb9f3a"
             ],
             [
              0.8888888888888888,
              "#fdca26"
             ],
             [
              1,
              "#f0f921"
             ]
            ],
            "type": "histogram2dcontour"
           }
          ],
          "mesh3d": [
           {
            "colorbar": {
             "outlinewidth": 0,
             "ticks": ""
            },
            "type": "mesh3d"
           }
          ],
          "parcoords": [
           {
            "line": {
             "colorbar": {
              "outlinewidth": 0,
              "ticks": ""
             }
            },
            "type": "parcoords"
           }
          ],
          "pie": [
           {
            "automargin": true,
            "type": "pie"
           }
          ],
          "scatter": [
           {
            "fillpattern": {
             "fillmode": "overlay",
             "size": 10,
             "solidity": 0.2
            },
            "type": "scatter"
           }
          ],
          "scatter3d": [
           {
            "line": {
             "colorbar": {
              "outlinewidth": 0,
              "ticks": ""
             }
            },
            "marker": {
             "colorbar": {
              "outlinewidth": 0,
              "ticks": ""
             }
            },
            "type": "scatter3d"
           }
          ],
          "scattercarpet": [
           {
            "marker": {
             "colorbar": {
              "outlinewidth": 0,
              "ticks": ""
             }
            },
            "type": "scattercarpet"
           }
          ],
          "scattergeo": [
           {
            "marker": {
             "colorbar": {
              "outlinewidth": 0,
              "ticks": ""
             }
            },
            "type": "scattergeo"
           }
          ],
          "scattergl": [
           {
            "marker": {
             "colorbar": {
              "outlinewidth": 0,
              "ticks": ""
             }
            },
            "type": "scattergl"
           }
          ],
          "scattermapbox": [
           {
            "marker": {
             "colorbar": {
              "outlinewidth": 0,
              "ticks": ""
             }
            },
            "type": "scattermapbox"
           }
          ],
          "scatterpolar": [
           {
            "marker": {
             "colorbar": {
              "outlinewidth": 0,
              "ticks": ""
             }
            },
            "type": "scatterpolar"
           }
          ],
          "scatterpolargl": [
           {
            "marker": {
             "colorbar": {
              "outlinewidth": 0,
              "ticks": ""
             }
            },
            "type": "scatterpolargl"
           }
          ],
          "scatterternary": [
           {
            "marker": {
             "colorbar": {
              "outlinewidth": 0,
              "ticks": ""
             }
            },
            "type": "scatterternary"
           }
          ],
          "surface": [
           {
            "colorbar": {
             "outlinewidth": 0,
             "ticks": ""
            },
            "colorscale": [
             [
              0,
              "#0d0887"
             ],
             [
              0.1111111111111111,
              "#46039f"
             ],
             [
              0.2222222222222222,
              "#7201a8"
             ],
             [
              0.3333333333333333,
              "#9c179e"
             ],
             [
              0.4444444444444444,
              "#bd3786"
             ],
             [
              0.5555555555555556,
              "#d8576b"
             ],
             [
              0.6666666666666666,
              "#ed7953"
             ],
             [
              0.7777777777777778,
              "#fb9f3a"
             ],
             [
              0.8888888888888888,
              "#fdca26"
             ],
             [
              1,
              "#f0f921"
             ]
            ],
            "type": "surface"
           }
          ],
          "table": [
           {
            "cells": {
             "fill": {
              "color": "#EBF0F8"
             },
             "line": {
              "color": "white"
             }
            },
            "header": {
             "fill": {
              "color": "#C8D4E3"
             },
             "line": {
              "color": "white"
             }
            },
            "type": "table"
           }
          ]
         },
         "layout": {
          "annotationdefaults": {
           "arrowcolor": "#2a3f5f",
           "arrowhead": 0,
           "arrowwidth": 1
          },
          "autotypenumbers": "strict",
          "coloraxis": {
           "colorbar": {
            "outlinewidth": 0,
            "ticks": ""
           }
          },
          "colorscale": {
           "diverging": [
            [
             0,
             "#8e0152"
            ],
            [
             0.1,
             "#c51b7d"
            ],
            [
             0.2,
             "#de77ae"
            ],
            [
             0.3,
             "#f1b6da"
            ],
            [
             0.4,
             "#fde0ef"
            ],
            [
             0.5,
             "#f7f7f7"
            ],
            [
             0.6,
             "#e6f5d0"
            ],
            [
             0.7,
             "#b8e186"
            ],
            [
             0.8,
             "#7fbc41"
            ],
            [
             0.9,
             "#4d9221"
            ],
            [
             1,
             "#276419"
            ]
           ],
           "sequential": [
            [
             0,
             "#0d0887"
            ],
            [
             0.1111111111111111,
             "#46039f"
            ],
            [
             0.2222222222222222,
             "#7201a8"
            ],
            [
             0.3333333333333333,
             "#9c179e"
            ],
            [
             0.4444444444444444,
             "#bd3786"
            ],
            [
             0.5555555555555556,
             "#d8576b"
            ],
            [
             0.6666666666666666,
             "#ed7953"
            ],
            [
             0.7777777777777778,
             "#fb9f3a"
            ],
            [
             0.8888888888888888,
             "#fdca26"
            ],
            [
             1,
             "#f0f921"
            ]
           ],
           "sequentialminus": [
            [
             0,
             "#0d0887"
            ],
            [
             0.1111111111111111,
             "#46039f"
            ],
            [
             0.2222222222222222,
             "#7201a8"
            ],
            [
             0.3333333333333333,
             "#9c179e"
            ],
            [
             0.4444444444444444,
             "#bd3786"
            ],
            [
             0.5555555555555556,
             "#d8576b"
            ],
            [
             0.6666666666666666,
             "#ed7953"
            ],
            [
             0.7777777777777778,
             "#fb9f3a"
            ],
            [
             0.8888888888888888,
             "#fdca26"
            ],
            [
             1,
             "#f0f921"
            ]
           ]
          },
          "colorway": [
           "#636efa",
           "#EF553B",
           "#00cc96",
           "#ab63fa",
           "#FFA15A",
           "#19d3f3",
           "#FF6692",
           "#B6E880",
           "#FF97FF",
           "#FECB52"
          ],
          "font": {
           "color": "#2a3f5f"
          },
          "geo": {
           "bgcolor": "white",
           "lakecolor": "white",
           "landcolor": "#E5ECF6",
           "showlakes": true,
           "showland": true,
           "subunitcolor": "white"
          },
          "hoverlabel": {
           "align": "left"
          },
          "hovermode": "closest",
          "mapbox": {
           "style": "light"
          },
          "paper_bgcolor": "white",
          "plot_bgcolor": "#E5ECF6",
          "polar": {
           "angularaxis": {
            "gridcolor": "white",
            "linecolor": "white",
            "ticks": ""
           },
           "bgcolor": "#E5ECF6",
           "radialaxis": {
            "gridcolor": "white",
            "linecolor": "white",
            "ticks": ""
           }
          },
          "scene": {
           "xaxis": {
            "backgroundcolor": "#E5ECF6",
            "gridcolor": "white",
            "gridwidth": 2,
            "linecolor": "white",
            "showbackground": true,
            "ticks": "",
            "zerolinecolor": "white"
           },
           "yaxis": {
            "backgroundcolor": "#E5ECF6",
            "gridcolor": "white",
            "gridwidth": 2,
            "linecolor": "white",
            "showbackground": true,
            "ticks": "",
            "zerolinecolor": "white"
           },
           "zaxis": {
            "backgroundcolor": "#E5ECF6",
            "gridcolor": "white",
            "gridwidth": 2,
            "linecolor": "white",
            "showbackground": true,
            "ticks": "",
            "zerolinecolor": "white"
           }
          },
          "shapedefaults": {
           "line": {
            "color": "#2a3f5f"
           }
          },
          "ternary": {
           "aaxis": {
            "gridcolor": "white",
            "linecolor": "white",
            "ticks": ""
           },
           "baxis": {
            "gridcolor": "white",
            "linecolor": "white",
            "ticks": ""
           },
           "bgcolor": "#E5ECF6",
           "caxis": {
            "gridcolor": "white",
            "linecolor": "white",
            "ticks": ""
           }
          },
          "title": {
           "x": 0.05
          },
          "xaxis": {
           "automargin": true,
           "gridcolor": "white",
           "linecolor": "white",
           "ticks": "",
           "title": {
            "standoff": 15
           },
           "zerolinecolor": "white",
           "zerolinewidth": 2
          },
          "yaxis": {
           "automargin": true,
           "gridcolor": "white",
           "linecolor": "white",
           "ticks": "",
           "title": {
            "standoff": 15
           },
           "zerolinecolor": "white",
           "zerolinewidth": 2
          }
         }
        },
        "title": {
         "text": "Composition for Predicted Class: input"
        },
        "xaxis": {
         "range": [
          -0.01,
          1.01
         ],
         "title": {
          "text": "Min pred"
         }
        },
        "yaxis": {
         "range": [
          0,
          100
         ],
         "title": {
          "text": "Percentage Composition"
         }
        }
       }
      }
     },
     "metadata": {},
     "output_type": "display_data"
    }
   ],
   "source": [
    "# Assuming df_structured is your dataframe from the previous step\n",
    "fig_dir = (\n",
    "    base_fig_dir\n",
    "    / \"encode_predictions\"\n",
    "    / \"assay_epiclass\"\n",
    "    / \"non-core\"\n",
    "    / \"line_graphs_over_min_pred\"\n",
    ")\n",
    "fig_dir.mkdir(parents=False, exist_ok=True)\n",
    "# create_assay_category_graphs(df=assay_category_df, output_dir=fig_dir)\n",
    "create_assay_category_graphs(df=assay_category_df)"
   ]
  },
  {
   "cell_type": "markdown",
   "metadata": {},
   "source": [
    "## OTHER - Sex, life stage, cancer\n",
    "\n",
    "Throwing all the predictions together to get acc/F1 for each of 5 classifiers, on core/non-core data respectively. (for assay it gets more messy, cannot do non-core directly)"
   ]
  },
  {
   "cell_type": "code",
   "execution_count": 65,
   "metadata": {},
   "outputs": [],
   "source": [
    "# create new life stage classification\n",
    "merge_life_stage = {\n",
    "    \"adult\": \"adult\",\n",
    "    \"embryo\": \"prenatal\",\n",
    "    \"fetal\": \"prenatal\",\n",
    "    \"newborn\": \"prenatal\",\n",
    "    \"child\": \"child\",\n",
    "}\n",
    "all_preds_no_epiatlas = all_preds_no_epiatlas.copy(\n",
    "    deep=True\n",
    ")  # to avoid SettingWithCopyWarning\n",
    "\n",
    "for label in [\n",
    "    LIFE_STAGE,\n",
    "    f\"True class ({LIFE_STAGE})\",\n",
    "    f\"Predicted class ({LIFE_STAGE})\",\n",
    "]:\n",
    "    new_label = label.replace(LIFE_STAGE, f\"{LIFE_STAGE}_merged\")\n",
    "    all_preds_no_epiatlas[new_label] = all_preds_no_epiatlas[label].map(merge_life_stage)\n",
    "\n",
    "all_preds_no_epiatlas[f\"Max pred ({LIFE_STAGE}_merged)\"] = all_preds_no_epiatlas[\n",
    "    f\"Max pred ({LIFE_STAGE})\"\n",
    "]"
   ]
  },
  {
   "cell_type": "markdown",
   "metadata": {},
   "source": [
    "### Accuracies per assay"
   ]
  },
  {
   "cell_type": "markdown",
   "metadata": {},
   "source": [
    "#### Reformat data for easy plotting"
   ]
  },
  {
   "cell_type": "code",
   "execution_count": 67,
   "metadata": {},
   "outputs": [],
   "source": [
    "def compute_all_acc_per_assay(\n",
    "    all_preds_no_epiatlas: pd.DataFrame, verbose: bool = True\n",
    ") -> Dict[str, Dict]:\n",
    "    \"\"\"Compute accuracy for each assay.\n",
    "    Checks core9 assays (core7, *rna_seq, wgbs-*) + CTCF + non-core\n",
    "\n",
    "    Args:\n",
    "    - all_preds_no_epiatlas: The dataframe containing the predictions.\n",
    "\n",
    "    Returns:\n",
    "    - A dictionary with the accuracy for each assay.\n",
    "        Format: {task_name:{assay: [(min_pred, acc, f1, nb_samples), ...], ...}, ...}\n",
    "    \"\"\"\n",
    "    if not (all_preds_no_epiatlas[\"in_epiatlas\"].astype(str) == \"False\").all():\n",
    "        raise ValueError(\"all_preds_no_epiatlas should not contain EpiAtlas samples.\")\n",
    "\n",
    "    df = copy.deepcopy(all_preds_no_epiatlas)\n",
    "    core_assays = ASSAY_ORDER\n",
    "    all_assays = ASSAY_ORDER + [\"ctcf\", \"non-core\"]\n",
    "\n",
    "    # merging rna / wgbs assays\n",
    "    assay_cols = [\n",
    "        ASSAY,\n",
    "        f\"True class ({ASSAY}_11c)\",\n",
    "        f\"Predicted class ({ASSAY}_11c)\",\n",
    "        f\"True class ({ASSAY}_7c)\",\n",
    "        f\"Predicted class ({ASSAY}_7c)\",\n",
    "    ]\n",
    "    for col in assay_cols:\n",
    "        for pair in (\n",
    "            (\"mrna_seq\", \"rna_seq\"),\n",
    "            (\"wgbs-pbat\", \"wgbs\"),\n",
    "            (\"wgbs-standard\", \"wgbs\"),\n",
    "        ):\n",
    "            try:\n",
    "                df[col] = df[col].str.replace(pat=pair[0], repl=pair[1], regex=False)\n",
    "            except KeyError as err:\n",
    "                raise ValueError(f\"Column '{col}' not found.\") from err\n",
    "\n",
    "    all_acc_per_assay = {}\n",
    "    for name in [\n",
    "        f\"{ASSAY}_7c\",\n",
    "        f\"{ASSAY}_11c\",\n",
    "        CELL_TYPE,\n",
    "        SEX,\n",
    "        LIFE_STAGE,\n",
    "        f\"{LIFE_STAGE}_merged\",\n",
    "        CANCER,\n",
    "        BIOMAT,\n",
    "    ]:\n",
    "        task_df = copy.deepcopy(df)\n",
    "        y_true_col = f\"True class ({name})\"\n",
    "        y_pred_col = f\"Predicted class ({name})\"\n",
    "        max_pred_label = f\"Max pred ({name})\"\n",
    "\n",
    "        if max_pred_label not in df.columns:\n",
    "            raise ValueError(f\"Column '{max_pred_label}' not found.\")\n",
    "\n",
    "        # remove unknown samples\n",
    "        for label in [y_true_col, y_pred_col]:\n",
    "            task_df[label].fillna(\"unknown\", inplace=True)\n",
    "            task_df = task_df[~task_df[label].isin([\"unknown\", \"other\"])]\n",
    "\n",
    "        if name == CELL_TYPE:\n",
    "            task_df = task_df[task_df[CELL_TYPE].isin(accepted_cts)]\n",
    "\n",
    "        if verbose:\n",
    "            print(name, task_df.shape)\n",
    "            print(task_df[y_true_col].value_counts(dropna=False), \"\\n\")\n",
    "\n",
    "        acc_per_assay: Dict[str, List[Tuple[str, float, float, int]]] = {}\n",
    "        for label in all_assays:\n",
    "            if label in [\"non-core\", \"ctcf\"] and name == ASSAY:\n",
    "                continue\n",
    "\n",
    "            if label not in task_df[ASSAY].unique():\n",
    "                print(f\"'{label}' not in {name} dataframe. Skipping.\")\n",
    "                continue\n",
    "\n",
    "            acc_per_assay[label] = []\n",
    "            assay_df = task_df[task_df[ASSAY] == label]\n",
    "            for min_pred in [\"0.0\", \"0.6\", \"0.8\", \"0.9\"]:\n",
    "                acc, f1, N = compute_metrics(\n",
    "                    assay_df, cat_label=name, min_pred=float(min_pred)\n",
    "                )\n",
    "                acc_per_assay[label].append((min_pred, acc, f1, N))\n",
    "\n",
    "        # Avg accuracy\n",
    "        for set_label in [\"avg-all\", \"avg-core\", \"avg-non-core\"]:\n",
    "            acc_per_assay[set_label] = []\n",
    "\n",
    "        for min_pred in [\"0.0\", \"0.6\", \"0.8\", \"0.9\"]:\n",
    "            core_df = task_df[task_df[ASSAY].isin(core_assays)]\n",
    "            acc, f1, N = compute_metrics(\n",
    "                core_df, cat_label=name, min_pred=float(min_pred)\n",
    "            )\n",
    "            acc_per_assay[\"avg-core\"].append((min_pred, acc, f1, N))\n",
    "\n",
    "            if name == ASSAY:\n",
    "                continue\n",
    "\n",
    "            non_core_df = task_df[~task_df[ASSAY].isin(core_assays)]\n",
    "            acc, f1, N = compute_metrics(\n",
    "                non_core_df, cat_label=name, min_pred=float(min_pred)\n",
    "            )\n",
    "            acc_per_assay[\"avg-non-core\"].append((min_pred, acc, f1, N))\n",
    "\n",
    "            acc, f1, N = compute_metrics(\n",
    "                task_df, cat_label=name, min_pred=float(min_pred)\n",
    "            )\n",
    "            acc_per_assay[\"avg-all\"].append((min_pred, acc, f1, N))\n",
    "\n",
    "        all_acc_per_assay[name] = acc_per_assay\n",
    "\n",
    "    return all_acc_per_assay"
   ]
  },
  {
   "cell_type": "code",
   "execution_count": 68,
   "metadata": {},
   "outputs": [],
   "source": [
    "def compute_and_save_acc_per_assay(\n",
    "    preds_no_epiatlas: pd.DataFrame, filename: str, verbose: bool = True\n",
    ") -> pd.DataFrame:\n",
    "    \"\"\"\n",
    "    Take a dataframe containing predictions for multiple tasks, and compute accuracy for each assay.\n",
    "    Saves the results to a tsv file, to two hardcoded folders.\n",
    "\n",
    "    Returns:\n",
    "    - A dataframe with accuracy, f1 , N for each assay\n",
    "    \"\"\"\n",
    "    all_acc_per_assay = compute_all_acc_per_assay(preds_no_epiatlas, verbose=verbose)\n",
    "\n",
    "    # acc per assay to table\n",
    "    rows = []\n",
    "    for name, acc_per_assay in all_acc_per_assay.items():\n",
    "        for assay, values in acc_per_assay.items():\n",
    "            for min_pred, acc, f1, nb_samples in values:\n",
    "                rows.append([name, assay, min_pred, acc, f1, nb_samples])\n",
    "    df_acc_per_assay = pd.DataFrame(\n",
    "        rows,\n",
    "        columns=[\"task_name\", ASSAY, \"min_predScore\", \"acc\", \"f1-score\", \"nb_samples\"],\n",
    "    )\n",
    "\n",
    "    df_acc_per_assay = df_acc_per_assay.astype(\n",
    "        {\n",
    "            \"task_name\": \"str\",\n",
    "            \"assay_epiclass\": \"str\",\n",
    "            \"min_predScore\": \"float\",\n",
    "            \"acc\": \"float\",\n",
    "            \"f1-score\": \"float\",\n",
    "            \"nb_samples\": \"int\",\n",
    "        }\n",
    "    )\n",
    "\n",
    "    # f1-score on ASSAY task, per assay, doesn't make sense\n",
    "    df_acc_per_assay.loc[df_acc_per_assay[\"task_name\"] == ASSAY, \"f1-score\"] = \"NA\"\n",
    "    print(f\"Saving {df_acc_per_assay.shape[0]} rows\")\n",
    "    path1 = base_fig_dir / \"encode_predictions\" / filename\n",
    "    df_acc_per_assay.to_csv(\n",
    "        path1,\n",
    "        sep=\"\\t\",\n",
    "        index=False,\n",
    "    )\n",
    "    if verbose:\n",
    "        print(f\"Saved to {path1}\")\n",
    "    path2 = base_data_dir / \"training_results\" / \"predictions\" / \"encode\" / filename\n",
    "    df_acc_per_assay.to_csv(\n",
    "        path2,\n",
    "        sep=\"\\t\",\n",
    "        index=False,\n",
    "    )\n",
    "    if verbose:\n",
    "        print(f\"Saved to {path2}\")\n",
    "\n",
    "    return df_acc_per_assay"
   ]
  },
  {
   "cell_type": "code",
   "execution_count": 69,
   "metadata": {},
   "outputs": [
    {
     "name": "stdout",
     "output_type": "stream",
     "text": [
      "assay_epiclass_7c (7127, 280)\n",
      "non-core    3593\n",
      "input       1284\n",
      "ctcf         468\n",
      "h3k4me3      379\n",
      "h3k27ac      366\n",
      "h3k27me3     294\n",
      "h3k4me1      257\n",
      "h3k36me3     245\n",
      "h3k9me3      241\n",
      "Name: True class (assay_epiclass_7c), dtype: int64 \n",
      "\n",
      "'rna_seq' not in assay_epiclass_7c dataframe. Skipping.\n",
      "'wgbs' not in assay_epiclass_7c dataframe. Skipping.\n",
      "assay_epiclass_11c (8777, 280)\n",
      "non-core    3593\n",
      "rna_seq     1552\n",
      "input       1284\n",
      "ctcf         468\n",
      "h3k4me3      379\n",
      "h3k27ac      366\n",
      "h3k27me3     294\n",
      "h3k4me1      257\n",
      "h3k36me3     245\n",
      "h3k9me3      241\n",
      "wgbs          98\n",
      "Name: True class (assay_epiclass_11c), dtype: int64 \n",
      "\n",
      "harmonized_sample_ontology_intermediate (764, 280)\n",
      "mesoderm-derived structure       319\n",
      "endoderm-derived structure        81\n",
      "connective tissue cell            75\n",
      "brain                             67\n",
      "monocyte                          65\n",
      "muscle organ                      57\n",
      "colon                             48\n",
      "mammary gland epithelial cell     23\n",
      "extraembryonic cell               18\n",
      "hepatocyte                        10\n",
      "neutrophil                         1\n",
      "Name: True class (harmonized_sample_ontology_intermediate), dtype: int64 \n",
      "\n",
      "harmonized_donor_sex (8147, 280)\n",
      "female    4129\n",
      "male      4018\n",
      "Name: True class (harmonized_donor_sex), dtype: int64 \n",
      "\n",
      "harmonized_donor_life_stage (7931, 280)\n",
      "adult        5300\n",
      "child        1307\n",
      "embryonic    1188\n",
      "newborn       136\n",
      "Name: True class (harmonized_donor_life_stage), dtype: int64 \n",
      "\n",
      "harmonized_donor_life_stage_merged (6306, 280)\n",
      "adult       5030\n",
      "child       1143\n",
      "prenatal     133\n",
      "Name: True class (harmonized_donor_life_stage_merged), dtype: int64 \n",
      "\n",
      "harmonized_sample_cancer_high (6047, 280)\n",
      "non-cancer    3317\n",
      "cancer        2730\n",
      "Name: True class (harmonized_sample_cancer_high), dtype: int64 \n",
      "\n",
      "'rna_seq' not in harmonized_sample_cancer_high dataframe. Skipping.\n",
      "'wgbs' not in harmonized_sample_cancer_high dataframe. Skipping.\n",
      "harmonized_biomaterial_type (8338, 280)\n",
      "cell line         4888\n",
      "primary tissue    2042\n",
      "primary cell      1408\n",
      "Name: True class (harmonized_biomaterial_type), dtype: int64 \n",
      "\n",
      "Saving 432 rows\n",
      "Saved to /home/local/USHERBROOKE/rabj2301/Projects/epiclass/output/paper/figures/encode_predictions/7tasks_acc_per_assay_NO_EpiAtlas.tsv\n",
      "Saved to /home/local/USHERBROOKE/rabj2301/Projects/epiclass/output/paper/data/training_results/predictions/encode/7tasks_acc_per_assay_NO_EpiAtlas.tsv\n"
     ]
    }
   ],
   "source": [
    "filename = \"7tasks_acc_per_assay_NO_EpiAtlas.tsv\"\n",
    "df_acc_per_assay = compute_and_save_acc_per_assay(all_preds_no_epiatlas, filename)"
   ]
  },
  {
   "cell_type": "code",
   "execution_count": 70,
   "metadata": {},
   "outputs": [],
   "source": [
    "# Keep only the 16 cell types\n",
    "preds_no_epiatlas_16ct = all_preds_no_epiatlas[\n",
    "    all_preds_no_epiatlas[CELL_TYPE].isin(accepted_cts)\n",
    "]"
   ]
  },
  {
   "cell_type": "code",
   "execution_count": 71,
   "metadata": {},
   "outputs": [
    {
     "name": "stdout",
     "output_type": "stream",
     "text": [
      "assay_epiclass_7c (516, 280)\n",
      "non-core    146\n",
      "ctcf        116\n",
      "input        61\n",
      "h3k4me3      38\n",
      "h3k4me1      33\n",
      "h3k27ac      33\n",
      "h3k36me3     32\n",
      "h3k27me3     30\n",
      "h3k9me3      27\n",
      "Name: True class (assay_epiclass_7c), dtype: int64 \n",
      "\n",
      "'rna_seq' not in assay_epiclass_7c dataframe. Skipping.\n",
      "'wgbs' not in assay_epiclass_7c dataframe. Skipping.\n",
      "assay_epiclass_11c (764, 280)\n",
      "rna_seq     224\n",
      "non-core    146\n",
      "ctcf        116\n",
      "input        61\n",
      "h3k4me3      38\n",
      "h3k4me1      33\n",
      "h3k27ac      33\n",
      "h3k36me3     32\n",
      "h3k27me3     30\n",
      "h3k9me3      27\n",
      "wgbs         24\n",
      "Name: True class (assay_epiclass_11c), dtype: int64 \n",
      "\n",
      "harmonized_sample_ontology_intermediate (764, 280)\n",
      "mesoderm-derived structure       319\n",
      "endoderm-derived structure        81\n",
      "connective tissue cell            75\n",
      "brain                             67\n",
      "monocyte                          65\n",
      "muscle organ                      57\n",
      "colon                             48\n",
      "mammary gland epithelial cell     23\n",
      "extraembryonic cell               18\n",
      "hepatocyte                        10\n",
      "neutrophil                         1\n",
      "Name: True class (harmonized_sample_ontology_intermediate), dtype: int64 \n",
      "\n",
      "harmonized_donor_sex (687, 280)\n",
      "female    346\n",
      "male      341\n",
      "Name: True class (harmonized_donor_sex), dtype: int64 \n",
      "\n",
      "harmonized_donor_life_stage (686, 280)\n",
      "adult        484\n",
      "embryonic    159\n",
      "child         28\n",
      "newborn       15\n",
      "Name: True class (harmonized_donor_life_stage), dtype: int64 \n",
      "\n",
      "harmonized_donor_life_stage_merged (511, 280)\n",
      "adult       468\n",
      "child        28\n",
      "prenatal     15\n",
      "Name: True class (harmonized_donor_life_stage_merged), dtype: int64 \n",
      "\n",
      "harmonized_sample_cancer_high (458, 280)\n",
      "non-cancer    458\n",
      "Name: True class (harmonized_sample_cancer_high), dtype: int64 \n",
      "\n",
      "'rna_seq' not in harmonized_sample_cancer_high dataframe. Skipping.\n",
      "'wgbs' not in harmonized_sample_cancer_high dataframe. Skipping.\n",
      "harmonized_biomaterial_type (735, 280)\n",
      "primary tissue    572\n",
      "primary cell      163\n",
      "Name: True class (harmonized_biomaterial_type), dtype: int64 \n",
      "\n",
      "Saving 432 rows\n",
      "Saved to /home/local/USHERBROOKE/rabj2301/Projects/epiclass/output/paper/figures/encode_predictions/7tasks_acc_per_assay_NO_EpiAtlas_16ct.tsv\n",
      "Saved to /home/local/USHERBROOKE/rabj2301/Projects/epiclass/output/paper/data/training_results/predictions/encode/7tasks_acc_per_assay_NO_EpiAtlas_16ct.tsv\n"
     ]
    }
   ],
   "source": [
    "filename = \"7tasks_acc_per_assay_NO_EpiAtlas_16ct.tsv\"\n",
    "_ = compute_and_save_acc_per_assay(preds_no_epiatlas_16ct, filename)"
   ]
  },
  {
   "cell_type": "markdown",
   "metadata": {},
   "source": [
    "#### Separate min_pred graphing"
   ]
  },
  {
   "cell_type": "code",
   "execution_count": 72,
   "metadata": {},
   "outputs": [],
   "source": [
    "def plot_encode_metrics_per_assay(\n",
    "    df_acc_per_assay: pd.DataFrame, min_pred: float = 0, logdir: Path | None = None\n",
    ") -> None:\n",
    "    \"\"\"Plot accuracy+F1 of each classification task, per assay\"\"\"\n",
    "    df = copy.deepcopy(df_acc_per_assay)\n",
    "\n",
    "    # Selecting min_pred\n",
    "    to_plot = df[\n",
    "        (df[\"min_predScore\"] > (min_pred - 0.01))\n",
    "        & (df[\"min_predScore\"] < (min_pred + 0.01))\n",
    "    ]\n",
    "\n",
    "    # sort tasks by avg_acc\n",
    "    averages = to_plot[to_plot[ASSAY] == \"avg-core\"]\n",
    "    avg_acc = list(zip(averages[\"acc\"], averages[\"task_name\"]))\n",
    "    task_order = [\n",
    "        task_name for _, task_name in sorted(avg_acc, key=lambda x: x[0], reverse=True)\n",
    "    ]\n",
    "\n",
    "    # Removing undesired assays\n",
    "    to_plot = to_plot[to_plot[ASSAY].isin(CORE_ASSAYS + [\"rna_seq\"])]\n",
    "\n",
    "    names = {\n",
    "        f\"{ASSAY}_7c\": \"assay_7c\",\n",
    "        f\"{ASSAY}_11c\": \"assay_11c\",\n",
    "        LIFE_STAGE: \"life stage\",\n",
    "        f\"{LIFE_STAGE}_merged\": \"life stage (merged)\",\n",
    "        CELL_TYPE: \"cell type\",\n",
    "        SEX: \"sex\",\n",
    "        CANCER: \"cancer\",\n",
    "        BIOMAT: \"biomaterial_type\",\n",
    "    }\n",
    "\n",
    "    # Plot each task\n",
    "    for metric in [\"acc\", \"f1-score\"]:\n",
    "        fig = go.Figure()\n",
    "        for task_name in task_order:\n",
    "            task_df = to_plot[to_plot[\"task_name\"] == task_name]\n",
    "\n",
    "            task_name = names[task_name]\n",
    "\n",
    "            if task_name in [\"assay_7c\", \"assay_11c\"] and metric == \"f1-score\":\n",
    "                continue\n",
    "\n",
    "            fig.add_trace(\n",
    "                go.Box(\n",
    "                    x=[task_name] * len(task_df),\n",
    "                    y=task_df[metric],\n",
    "                    name=metric,\n",
    "                    boxpoints=\"outliers\",\n",
    "                    boxmean=True,\n",
    "                    marker_color=\"gray\",\n",
    "                    showlegend=False,\n",
    "                    hoverinfo=\"skip\",\n",
    "                )\n",
    "            )\n",
    "\n",
    "            fig.add_trace(\n",
    "                go.Scatter(\n",
    "                    x=[task_name] * len(task_df),\n",
    "                    y=task_df[metric],\n",
    "                    mode=\"markers\",\n",
    "                    name=task_name,\n",
    "                    marker_color=[assay_colors[assay] for assay in task_df[ASSAY]],\n",
    "                    hoverinfo=\"text\",\n",
    "                    hovertext=[\n",
    "                        f\"{assay}: {value:.3f}\"\n",
    "                        for assay, value in zip(task_df[ASSAY], task_df[metric])\n",
    "                    ],\n",
    "                    showlegend=False,\n",
    "                )\n",
    "            )\n",
    "\n",
    "        y_axis_label = \"F1-score\" if metric == \"f1-score\" else \"Accuracy\"\n",
    "        fig.update_layout(\n",
    "            xaxis_title=\"Classification task\",\n",
    "            yaxis_title=y_axis_label,\n",
    "            font=dict(size=18),\n",
    "            width=800,\n",
    "            height=600,\n",
    "            title=f\"ENCODE: Task {y_axis_label} per assay (min_predScore={min_pred:.2f})\",\n",
    "        )\n",
    "\n",
    "        fig.update_yaxes(range=[0, 1.01])\n",
    "\n",
    "        # Show/Write the plot\n",
    "        if logdir:\n",
    "            filename = f\"encode_6tasks_metrics_per_assay-{metric}-{min_pred*100:.0f}\"\n",
    "            fig.write_image(logdir / f\"{filename}.png\")\n",
    "            fig.write_image(logdir / f\"{filename}.svg\")\n",
    "            fig.write_html(logdir / f\"{filename}.html\")\n",
    "\n",
    "        fig.show()"
   ]
  },
  {
   "cell_type": "code",
   "execution_count": 73,
   "metadata": {},
   "outputs": [
    {
     "data": {
      "application/vnd.plotly.v1+json": {
       "config": {
        "plotlyServerURL": "https://plot.ly"
       },
       "data": [
        {
         "boxmean": true,
         "boxpoints": "outliers",
         "hoverinfo": "skip",
         "marker": {
          "color": "gray"
         },
         "name": "acc",
         "showlegend": false,
         "type": "box",
         "x": [
          "assay_7c",
          "assay_7c",
          "assay_7c",
          "assay_7c",
          "assay_7c",
          "assay_7c",
          "assay_7c"
         ],
         "y": [
          0.9973614775725593,
          1,
          0.9922178988326849,
          0.9510204081632653,
          0.9727891156462585,
          1,
          0.9766355140186916
         ]
        },
        {
         "hoverinfo": "text",
         "hovertext": [
          "h3k4me3: 0.997",
          "h3k27ac: 1.000",
          "h3k4me1: 0.992",
          "h3k36me3: 0.951",
          "h3k27me3: 0.973",
          "h3k9me3: 1.000",
          "input: 0.977"
         ],
         "marker": {
          "color": [
           "rgb(238,30,37)",
           "rgb(225,148,37)",
           "rgb(236,232,56)",
           "rgb(13,127,66)",
           "rgb(184,185,189)",
           "rgb(144,206,219)",
           "rgb(30,30,30)"
          ]
         },
         "mode": "markers",
         "name": "assay_7c",
         "showlegend": false,
         "type": "scatter",
         "x": [
          "assay_7c",
          "assay_7c",
          "assay_7c",
          "assay_7c",
          "assay_7c",
          "assay_7c",
          "assay_7c"
         ],
         "y": [
          0.9973614775725593,
          1,
          0.9922178988326849,
          0.9510204081632653,
          0.9727891156462585,
          1,
          0.9766355140186916
         ]
        },
        {
         "boxmean": true,
         "boxpoints": "outliers",
         "hoverinfo": "skip",
         "marker": {
          "color": "gray"
         },
         "name": "acc",
         "showlegend": false,
         "type": "box",
         "x": [
          "assay_11c",
          "assay_11c",
          "assay_11c",
          "assay_11c",
          "assay_11c",
          "assay_11c",
          "assay_11c",
          "assay_11c"
         ],
         "y": [
          0.9973614775725593,
          1,
          0.9883268482490273,
          0.9428571428571428,
          0.9693877551020408,
          0.983402489626556,
          0.942367601246106,
          1
         ]
        },
        {
         "hoverinfo": "text",
         "hovertext": [
          "h3k4me3: 0.997",
          "h3k27ac: 1.000",
          "h3k4me1: 0.988",
          "h3k36me3: 0.943",
          "h3k27me3: 0.969",
          "h3k9me3: 0.983",
          "input: 0.942",
          "rna_seq: 1.000"
         ],
         "marker": {
          "color": [
           "rgb(238,30,37)",
           "rgb(225,148,37)",
           "rgb(236,232,56)",
           "rgb(13,127,66)",
           "rgb(184,185,189)",
           "rgb(144,206,219)",
           "rgb(30,30,30)",
           "rgb(30,176,75)"
          ]
         },
         "mode": "markers",
         "name": "assay_11c",
         "showlegend": false,
         "type": "scatter",
         "x": [
          "assay_11c",
          "assay_11c",
          "assay_11c",
          "assay_11c",
          "assay_11c",
          "assay_11c",
          "assay_11c",
          "assay_11c"
         ],
         "y": [
          0.9973614775725593,
          1,
          0.9883268482490273,
          0.9428571428571428,
          0.9693877551020408,
          0.983402489626556,
          0.942367601246106,
          1
         ]
        },
        {
         "boxmean": true,
         "boxpoints": "outliers",
         "hoverinfo": "skip",
         "marker": {
          "color": "gray"
         },
         "name": "acc",
         "showlegend": false,
         "type": "box",
         "x": [
          "cancer",
          "cancer",
          "cancer",
          "cancer",
          "cancer",
          "cancer",
          "cancer"
         ],
         "y": [
          0.9551451187335093,
          0.9590163934426229,
          0.9377431906614786,
          0.889795918367347,
          0.935374149659864,
          0.5975103734439834,
          0.9215686274509803
         ]
        },
        {
         "hoverinfo": "text",
         "hovertext": [
          "h3k4me3: 0.955",
          "h3k27ac: 0.959",
          "h3k4me1: 0.938",
          "h3k36me3: 0.890",
          "h3k27me3: 0.935",
          "h3k9me3: 0.598",
          "input: 0.922"
         ],
         "marker": {
          "color": [
           "rgb(238,30,37)",
           "rgb(225,148,37)",
           "rgb(236,232,56)",
           "rgb(13,127,66)",
           "rgb(184,185,189)",
           "rgb(144,206,219)",
           "rgb(30,30,30)"
          ]
         },
         "mode": "markers",
         "name": "cancer",
         "showlegend": false,
         "type": "scatter",
         "x": [
          "cancer",
          "cancer",
          "cancer",
          "cancer",
          "cancer",
          "cancer",
          "cancer"
         ],
         "y": [
          0.9551451187335093,
          0.9590163934426229,
          0.9377431906614786,
          0.889795918367347,
          0.935374149659864,
          0.5975103734439834,
          0.9215686274509803
         ]
        },
        {
         "boxmean": true,
         "boxpoints": "outliers",
         "hoverinfo": "skip",
         "marker": {
          "color": "gray"
         },
         "name": "acc",
         "showlegend": false,
         "type": "box",
         "x": [
          "biomaterial_type",
          "biomaterial_type",
          "biomaterial_type",
          "biomaterial_type",
          "biomaterial_type",
          "biomaterial_type",
          "biomaterial_type",
          "biomaterial_type"
         ],
         "y": [
          0.9342857142857143,
          0.9408284023668639,
          0.9260869565217391,
          0.905829596412556,
          0.9304029304029304,
          0.8493150684931506,
          0.9274900398406375,
          0.8417415342087077
         ]
        },
        {
         "hoverinfo": "text",
         "hovertext": [
          "h3k4me3: 0.934",
          "h3k27ac: 0.941",
          "h3k4me1: 0.926",
          "h3k36me3: 0.906",
          "h3k27me3: 0.930",
          "h3k9me3: 0.849",
          "input: 0.927",
          "rna_seq: 0.842"
         ],
         "marker": {
          "color": [
           "rgb(238,30,37)",
           "rgb(225,148,37)",
           "rgb(236,232,56)",
           "rgb(13,127,66)",
           "rgb(184,185,189)",
           "rgb(144,206,219)",
           "rgb(30,30,30)",
           "rgb(30,176,75)"
          ]
         },
         "mode": "markers",
         "name": "biomaterial_type",
         "showlegend": false,
         "type": "scatter",
         "x": [
          "biomaterial_type",
          "biomaterial_type",
          "biomaterial_type",
          "biomaterial_type",
          "biomaterial_type",
          "biomaterial_type",
          "biomaterial_type",
          "biomaterial_type"
         ],
         "y": [
          0.9342857142857143,
          0.9408284023668639,
          0.9260869565217391,
          0.905829596412556,
          0.9304029304029304,
          0.8493150684931506,
          0.9274900398406375,
          0.8417415342087077
         ]
        },
        {
         "boxmean": true,
         "boxpoints": "outliers",
         "hoverinfo": "skip",
         "marker": {
          "color": "gray"
         },
         "name": "acc",
         "showlegend": false,
         "type": "box",
         "x": [
          "sex",
          "sex",
          "sex",
          "sex",
          "sex",
          "sex",
          "sex",
          "sex"
         ],
         "y": [
          0.9368770764119602,
          0.7959866220735786,
          0.8484848484848485,
          0.9513513513513514,
          0.9240506329113924,
          0.9617486338797814,
          0.9481245011971269,
          0.7110320284697509
         ]
        },
        {
         "hoverinfo": "text",
         "hovertext": [
          "h3k4me3: 0.937",
          "h3k27ac: 0.796",
          "h3k4me1: 0.848",
          "h3k36me3: 0.951",
          "h3k27me3: 0.924",
          "h3k9me3: 0.962",
          "input: 0.948",
          "rna_seq: 0.711"
         ],
         "marker": {
          "color": [
           "rgb(238,30,37)",
           "rgb(225,148,37)",
           "rgb(236,232,56)",
           "rgb(13,127,66)",
           "rgb(184,185,189)",
           "rgb(144,206,219)",
           "rgb(30,30,30)",
           "rgb(30,176,75)"
          ]
         },
         "mode": "markers",
         "name": "sex",
         "showlegend": false,
         "type": "scatter",
         "x": [
          "sex",
          "sex",
          "sex",
          "sex",
          "sex",
          "sex",
          "sex",
          "sex"
         ],
         "y": [
          0.9368770764119602,
          0.7959866220735786,
          0.8484848484848485,
          0.9513513513513514,
          0.9240506329113924,
          0.9617486338797814,
          0.9481245011971269,
          0.7110320284697509
         ]
        },
        {
         "boxmean": true,
         "boxpoints": "outliers",
         "hoverinfo": "skip",
         "marker": {
          "color": "gray"
         },
         "name": "acc",
         "showlegend": false,
         "type": "box",
         "x": [
          "cell type",
          "cell type",
          "cell type",
          "cell type",
          "cell type",
          "cell type",
          "cell type",
          "cell type"
         ],
         "y": [
          0.9473684210526315,
          0.9696969696969697,
          0.8787878787878788,
          0.875,
          0.9333333333333333,
          0.7777777777777778,
          0.7049180327868853,
          0.84375
         ]
        },
        {
         "hoverinfo": "text",
         "hovertext": [
          "h3k4me3: 0.947",
          "h3k27ac: 0.970",
          "h3k4me1: 0.879",
          "h3k36me3: 0.875",
          "h3k27me3: 0.933",
          "h3k9me3: 0.778",
          "input: 0.705",
          "rna_seq: 0.844"
         ],
         "marker": {
          "color": [
           "rgb(238,30,37)",
           "rgb(225,148,37)",
           "rgb(236,232,56)",
           "rgb(13,127,66)",
           "rgb(184,185,189)",
           "rgb(144,206,219)",
           "rgb(30,30,30)",
           "rgb(30,176,75)"
          ]
         },
         "mode": "markers",
         "name": "cell type",
         "showlegend": false,
         "type": "scatter",
         "x": [
          "cell type",
          "cell type",
          "cell type",
          "cell type",
          "cell type",
          "cell type",
          "cell type",
          "cell type"
         ],
         "y": [
          0.9473684210526315,
          0.9696969696969697,
          0.8787878787878788,
          0.875,
          0.9333333333333333,
          0.7777777777777778,
          0.7049180327868853,
          0.84375
         ]
        },
        {
         "boxmean": true,
         "boxpoints": "outliers",
         "hoverinfo": "skip",
         "marker": {
          "color": "gray"
         },
         "name": "acc",
         "showlegend": false,
         "type": "box",
         "x": [
          "life stage (merged)",
          "life stage (merged)",
          "life stage (merged)",
          "life stage (merged)",
          "life stage (merged)",
          "life stage (merged)",
          "life stage (merged)",
          "life stage (merged)"
         ],
         "y": [
          0.8787878787878788,
          0.9090909090909091,
          0.8591549295774648,
          0.8267716535433071,
          0.8152173913043478,
          0.8120300751879699,
          0.5300387596899225,
          0.7502374169040835
         ]
        },
        {
         "hoverinfo": "text",
         "hovertext": [
          "h3k4me3: 0.879",
          "h3k27ac: 0.909",
          "h3k4me1: 0.859",
          "h3k36me3: 0.827",
          "h3k27me3: 0.815",
          "h3k9me3: 0.812",
          "input: 0.530",
          "rna_seq: 0.750"
         ],
         "marker": {
          "color": [
           "rgb(238,30,37)",
           "rgb(225,148,37)",
           "rgb(236,232,56)",
           "rgb(13,127,66)",
           "rgb(184,185,189)",
           "rgb(144,206,219)",
           "rgb(30,30,30)",
           "rgb(30,176,75)"
          ]
         },
         "mode": "markers",
         "name": "life stage (merged)",
         "showlegend": false,
         "type": "scatter",
         "x": [
          "life stage (merged)",
          "life stage (merged)",
          "life stage (merged)",
          "life stage (merged)",
          "life stage (merged)",
          "life stage (merged)",
          "life stage (merged)",
          "life stage (merged)"
         ],
         "y": [
          0.8787878787878788,
          0.9090909090909091,
          0.8591549295774648,
          0.8267716535433071,
          0.8152173913043478,
          0.8120300751879699,
          0.5300387596899225,
          0.7502374169040835
         ]
        },
        {
         "boxmean": true,
         "boxpoints": "outliers",
         "hoverinfo": "skip",
         "marker": {
          "color": "gray"
         },
         "name": "acc",
         "showlegend": false,
         "type": "box",
         "x": [
          "life stage",
          "life stage",
          "life stage",
          "life stage",
          "life stage",
          "life stage",
          "life stage",
          "life stage"
         ],
         "y": [
          0.8076923076923077,
          0.8344827586206897,
          0.7894736842105263,
          0.768361581920904,
          0.7654867256637168,
          0.7428571428571429,
          0.4987298899237934,
          0.699929228591649
         ]
        },
        {
         "hoverinfo": "text",
         "hovertext": [
          "h3k4me3: 0.808",
          "h3k27ac: 0.834",
          "h3k4me1: 0.789",
          "h3k36me3: 0.768",
          "h3k27me3: 0.765",
          "h3k9me3: 0.743",
          "input: 0.499",
          "rna_seq: 0.700"
         ],
         "marker": {
          "color": [
           "rgb(238,30,37)",
           "rgb(225,148,37)",
           "rgb(236,232,56)",
           "rgb(13,127,66)",
           "rgb(184,185,189)",
           "rgb(144,206,219)",
           "rgb(30,30,30)",
           "rgb(30,176,75)"
          ]
         },
         "mode": "markers",
         "name": "life stage",
         "showlegend": false,
         "type": "scatter",
         "x": [
          "life stage",
          "life stage",
          "life stage",
          "life stage",
          "life stage",
          "life stage",
          "life stage",
          "life stage"
         ],
         "y": [
          0.8076923076923077,
          0.8344827586206897,
          0.7894736842105263,
          0.768361581920904,
          0.7654867256637168,
          0.7428571428571429,
          0.4987298899237934,
          0.699929228591649
         ]
        }
       ],
       "layout": {
        "font": {
         "size": 18
        },
        "height": 600,
        "template": {
         "data": {
          "bar": [
           {
            "error_x": {
             "color": "#2a3f5f"
            },
            "error_y": {
             "color": "#2a3f5f"
            },
            "marker": {
             "line": {
              "color": "#E5ECF6",
              "width": 0.5
             },
             "pattern": {
              "fillmode": "overlay",
              "size": 10,
              "solidity": 0.2
             }
            },
            "type": "bar"
           }
          ],
          "barpolar": [
           {
            "marker": {
             "line": {
              "color": "#E5ECF6",
              "width": 0.5
             },
             "pattern": {
              "fillmode": "overlay",
              "size": 10,
              "solidity": 0.2
             }
            },
            "type": "barpolar"
           }
          ],
          "carpet": [
           {
            "aaxis": {
             "endlinecolor": "#2a3f5f",
             "gridcolor": "white",
             "linecolor": "white",
             "minorgridcolor": "white",
             "startlinecolor": "#2a3f5f"
            },
            "baxis": {
             "endlinecolor": "#2a3f5f",
             "gridcolor": "white",
             "linecolor": "white",
             "minorgridcolor": "white",
             "startlinecolor": "#2a3f5f"
            },
            "type": "carpet"
           }
          ],
          "choropleth": [
           {
            "colorbar": {
             "outlinewidth": 0,
             "ticks": ""
            },
            "type": "choropleth"
           }
          ],
          "contour": [
           {
            "colorbar": {
             "outlinewidth": 0,
             "ticks": ""
            },
            "colorscale": [
             [
              0,
              "#0d0887"
             ],
             [
              0.1111111111111111,
              "#46039f"
             ],
             [
              0.2222222222222222,
              "#7201a8"
             ],
             [
              0.3333333333333333,
              "#9c179e"
             ],
             [
              0.4444444444444444,
              "#bd3786"
             ],
             [
              0.5555555555555556,
              "#d8576b"
             ],
             [
              0.6666666666666666,
              "#ed7953"
             ],
             [
              0.7777777777777778,
              "#fb9f3a"
             ],
             [
              0.8888888888888888,
              "#fdca26"
             ],
             [
              1,
              "#f0f921"
             ]
            ],
            "type": "contour"
           }
          ],
          "contourcarpet": [
           {
            "colorbar": {
             "outlinewidth": 0,
             "ticks": ""
            },
            "type": "contourcarpet"
           }
          ],
          "heatmap": [
           {
            "colorbar": {
             "outlinewidth": 0,
             "ticks": ""
            },
            "colorscale": [
             [
              0,
              "#0d0887"
             ],
             [
              0.1111111111111111,
              "#46039f"
             ],
             [
              0.2222222222222222,
              "#7201a8"
             ],
             [
              0.3333333333333333,
              "#9c179e"
             ],
             [
              0.4444444444444444,
              "#bd3786"
             ],
             [
              0.5555555555555556,
              "#d8576b"
             ],
             [
              0.6666666666666666,
              "#ed7953"
             ],
             [
              0.7777777777777778,
              "#fb9f3a"
             ],
             [
              0.8888888888888888,
              "#fdca26"
             ],
             [
              1,
              "#f0f921"
             ]
            ],
            "type": "heatmap"
           }
          ],
          "heatmapgl": [
           {
            "colorbar": {
             "outlinewidth": 0,
             "ticks": ""
            },
            "colorscale": [
             [
              0,
              "#0d0887"
             ],
             [
              0.1111111111111111,
              "#46039f"
             ],
             [
              0.2222222222222222,
              "#7201a8"
             ],
             [
              0.3333333333333333,
              "#9c179e"
             ],
             [
              0.4444444444444444,
              "#bd3786"
             ],
             [
              0.5555555555555556,
              "#d8576b"
             ],
             [
              0.6666666666666666,
              "#ed7953"
             ],
             [
              0.7777777777777778,
              "#fb9f3a"
             ],
             [
              0.8888888888888888,
              "#fdca26"
             ],
             [
              1,
              "#f0f921"
             ]
            ],
            "type": "heatmapgl"
           }
          ],
          "histogram": [
           {
            "marker": {
             "pattern": {
              "fillmode": "overlay",
              "size": 10,
              "solidity": 0.2
             }
            },
            "type": "histogram"
           }
          ],
          "histogram2d": [
           {
            "colorbar": {
             "outlinewidth": 0,
             "ticks": ""
            },
            "colorscale": [
             [
              0,
              "#0d0887"
             ],
             [
              0.1111111111111111,
              "#46039f"
             ],
             [
              0.2222222222222222,
              "#7201a8"
             ],
             [
              0.3333333333333333,
              "#9c179e"
             ],
             [
              0.4444444444444444,
              "#bd3786"
             ],
             [
              0.5555555555555556,
              "#d8576b"
             ],
             [
              0.6666666666666666,
              "#ed7953"
             ],
             [
              0.7777777777777778,
              "#fb9f3a"
             ],
             [
              0.8888888888888888,
              "#fdca26"
             ],
             [
              1,
              "#f0f921"
             ]
            ],
            "type": "histogram2d"
           }
          ],
          "histogram2dcontour": [
           {
            "colorbar": {
             "outlinewidth": 0,
             "ticks": ""
            },
            "colorscale": [
             [
              0,
              "#0d0887"
             ],
             [
              0.1111111111111111,
              "#46039f"
             ],
             [
              0.2222222222222222,
              "#7201a8"
             ],
             [
              0.3333333333333333,
              "#9c179e"
             ],
             [
              0.4444444444444444,
              "#bd3786"
             ],
             [
              0.5555555555555556,
              "#d8576b"
             ],
             [
              0.6666666666666666,
              "#ed7953"
             ],
             [
              0.7777777777777778,
              "#fb9f3a"
             ],
             [
              0.8888888888888888,
              "#fdca26"
             ],
             [
              1,
              "#f0f921"
             ]
            ],
            "type": "histogram2dcontour"
           }
          ],
          "mesh3d": [
           {
            "colorbar": {
             "outlinewidth": 0,
             "ticks": ""
            },
            "type": "mesh3d"
           }
          ],
          "parcoords": [
           {
            "line": {
             "colorbar": {
              "outlinewidth": 0,
              "ticks": ""
             }
            },
            "type": "parcoords"
           }
          ],
          "pie": [
           {
            "automargin": true,
            "type": "pie"
           }
          ],
          "scatter": [
           {
            "fillpattern": {
             "fillmode": "overlay",
             "size": 10,
             "solidity": 0.2
            },
            "type": "scatter"
           }
          ],
          "scatter3d": [
           {
            "line": {
             "colorbar": {
              "outlinewidth": 0,
              "ticks": ""
             }
            },
            "marker": {
             "colorbar": {
              "outlinewidth": 0,
              "ticks": ""
             }
            },
            "type": "scatter3d"
           }
          ],
          "scattercarpet": [
           {
            "marker": {
             "colorbar": {
              "outlinewidth": 0,
              "ticks": ""
             }
            },
            "type": "scattercarpet"
           }
          ],
          "scattergeo": [
           {
            "marker": {
             "colorbar": {
              "outlinewidth": 0,
              "ticks": ""
             }
            },
            "type": "scattergeo"
           }
          ],
          "scattergl": [
           {
            "marker": {
             "colorbar": {
              "outlinewidth": 0,
              "ticks": ""
             }
            },
            "type": "scattergl"
           }
          ],
          "scattermapbox": [
           {
            "marker": {
             "colorbar": {
              "outlinewidth": 0,
              "ticks": ""
             }
            },
            "type": "scattermapbox"
           }
          ],
          "scatterpolar": [
           {
            "marker": {
             "colorbar": {
              "outlinewidth": 0,
              "ticks": ""
             }
            },
            "type": "scatterpolar"
           }
          ],
          "scatterpolargl": [
           {
            "marker": {
             "colorbar": {
              "outlinewidth": 0,
              "ticks": ""
             }
            },
            "type": "scatterpolargl"
           }
          ],
          "scatterternary": [
           {
            "marker": {
             "colorbar": {
              "outlinewidth": 0,
              "ticks": ""
             }
            },
            "type": "scatterternary"
           }
          ],
          "surface": [
           {
            "colorbar": {
             "outlinewidth": 0,
             "ticks": ""
            },
            "colorscale": [
             [
              0,
              "#0d0887"
             ],
             [
              0.1111111111111111,
              "#46039f"
             ],
             [
              0.2222222222222222,
              "#7201a8"
             ],
             [
              0.3333333333333333,
              "#9c179e"
             ],
             [
              0.4444444444444444,
              "#bd3786"
             ],
             [
              0.5555555555555556,
              "#d8576b"
             ],
             [
              0.6666666666666666,
              "#ed7953"
             ],
             [
              0.7777777777777778,
              "#fb9f3a"
             ],
             [
              0.8888888888888888,
              "#fdca26"
             ],
             [
              1,
              "#f0f921"
             ]
            ],
            "type": "surface"
           }
          ],
          "table": [
           {
            "cells": {
             "fill": {
              "color": "#EBF0F8"
             },
             "line": {
              "color": "white"
             }
            },
            "header": {
             "fill": {
              "color": "#C8D4E3"
             },
             "line": {
              "color": "white"
             }
            },
            "type": "table"
           }
          ]
         },
         "layout": {
          "annotationdefaults": {
           "arrowcolor": "#2a3f5f",
           "arrowhead": 0,
           "arrowwidth": 1
          },
          "autotypenumbers": "strict",
          "coloraxis": {
           "colorbar": {
            "outlinewidth": 0,
            "ticks": ""
           }
          },
          "colorscale": {
           "diverging": [
            [
             0,
             "#8e0152"
            ],
            [
             0.1,
             "#c51b7d"
            ],
            [
             0.2,
             "#de77ae"
            ],
            [
             0.3,
             "#f1b6da"
            ],
            [
             0.4,
             "#fde0ef"
            ],
            [
             0.5,
             "#f7f7f7"
            ],
            [
             0.6,
             "#e6f5d0"
            ],
            [
             0.7,
             "#b8e186"
            ],
            [
             0.8,
             "#7fbc41"
            ],
            [
             0.9,
             "#4d9221"
            ],
            [
             1,
             "#276419"
            ]
           ],
           "sequential": [
            [
             0,
             "#0d0887"
            ],
            [
             0.1111111111111111,
             "#46039f"
            ],
            [
             0.2222222222222222,
             "#7201a8"
            ],
            [
             0.3333333333333333,
             "#9c179e"
            ],
            [
             0.4444444444444444,
             "#bd3786"
            ],
            [
             0.5555555555555556,
             "#d8576b"
            ],
            [
             0.6666666666666666,
             "#ed7953"
            ],
            [
             0.7777777777777778,
             "#fb9f3a"
            ],
            [
             0.8888888888888888,
             "#fdca26"
            ],
            [
             1,
             "#f0f921"
            ]
           ],
           "sequentialminus": [
            [
             0,
             "#0d0887"
            ],
            [
             0.1111111111111111,
             "#46039f"
            ],
            [
             0.2222222222222222,
             "#7201a8"
            ],
            [
             0.3333333333333333,
             "#9c179e"
            ],
            [
             0.4444444444444444,
             "#bd3786"
            ],
            [
             0.5555555555555556,
             "#d8576b"
            ],
            [
             0.6666666666666666,
             "#ed7953"
            ],
            [
             0.7777777777777778,
             "#fb9f3a"
            ],
            [
             0.8888888888888888,
             "#fdca26"
            ],
            [
             1,
             "#f0f921"
            ]
           ]
          },
          "colorway": [
           "#636efa",
           "#EF553B",
           "#00cc96",
           "#ab63fa",
           "#FFA15A",
           "#19d3f3",
           "#FF6692",
           "#B6E880",
           "#FF97FF",
           "#FECB52"
          ],
          "font": {
           "color": "#2a3f5f"
          },
          "geo": {
           "bgcolor": "white",
           "lakecolor": "white",
           "landcolor": "#E5ECF6",
           "showlakes": true,
           "showland": true,
           "subunitcolor": "white"
          },
          "hoverlabel": {
           "align": "left"
          },
          "hovermode": "closest",
          "mapbox": {
           "style": "light"
          },
          "paper_bgcolor": "white",
          "plot_bgcolor": "#E5ECF6",
          "polar": {
           "angularaxis": {
            "gridcolor": "white",
            "linecolor": "white",
            "ticks": ""
           },
           "bgcolor": "#E5ECF6",
           "radialaxis": {
            "gridcolor": "white",
            "linecolor": "white",
            "ticks": ""
           }
          },
          "scene": {
           "xaxis": {
            "backgroundcolor": "#E5ECF6",
            "gridcolor": "white",
            "gridwidth": 2,
            "linecolor": "white",
            "showbackground": true,
            "ticks": "",
            "zerolinecolor": "white"
           },
           "yaxis": {
            "backgroundcolor": "#E5ECF6",
            "gridcolor": "white",
            "gridwidth": 2,
            "linecolor": "white",
            "showbackground": true,
            "ticks": "",
            "zerolinecolor": "white"
           },
           "zaxis": {
            "backgroundcolor": "#E5ECF6",
            "gridcolor": "white",
            "gridwidth": 2,
            "linecolor": "white",
            "showbackground": true,
            "ticks": "",
            "zerolinecolor": "white"
           }
          },
          "shapedefaults": {
           "line": {
            "color": "#2a3f5f"
           }
          },
          "ternary": {
           "aaxis": {
            "gridcolor": "white",
            "linecolor": "white",
            "ticks": ""
           },
           "baxis": {
            "gridcolor": "white",
            "linecolor": "white",
            "ticks": ""
           },
           "bgcolor": "#E5ECF6",
           "caxis": {
            "gridcolor": "white",
            "linecolor": "white",
            "ticks": ""
           }
          },
          "title": {
           "x": 0.05
          },
          "xaxis": {
           "automargin": true,
           "gridcolor": "white",
           "linecolor": "white",
           "ticks": "",
           "title": {
            "standoff": 15
           },
           "zerolinecolor": "white",
           "zerolinewidth": 2
          },
          "yaxis": {
           "automargin": true,
           "gridcolor": "white",
           "linecolor": "white",
           "ticks": "",
           "title": {
            "standoff": 15
           },
           "zerolinecolor": "white",
           "zerolinewidth": 2
          }
         }
        },
        "title": {
         "text": "ENCODE: Task Accuracy per assay (min_predScore=0.00)"
        },
        "width": 800,
        "xaxis": {
         "title": {
          "text": "Classification task"
         }
        },
        "yaxis": {
         "range": [
          0,
          1.01
         ],
         "title": {
          "text": "Accuracy"
         }
        }
       }
      }
     },
     "metadata": {},
     "output_type": "display_data"
    },
    {
     "data": {
      "application/vnd.plotly.v1+json": {
       "config": {
        "plotlyServerURL": "https://plot.ly"
       },
       "data": [
        {
         "boxmean": true,
         "boxpoints": "outliers",
         "hoverinfo": "skip",
         "marker": {
          "color": "gray"
         },
         "name": "f1-score",
         "showlegend": false,
         "type": "box",
         "x": [
          "cancer",
          "cancer",
          "cancer",
          "cancer",
          "cancer",
          "cancer",
          "cancer"
         ],
         "y": [
          0.9060307737183695,
          0.9123940830101966,
          0.8815668202764977,
          0.7722813177734174,
          0.8311111111111111,
          0.5504163701752024,
          0.9202735710796287
         ]
        },
        {
         "hoverinfo": "text",
         "hovertext": [
          "h3k4me3: 0.906",
          "h3k27ac: 0.912",
          "h3k4me1: 0.882",
          "h3k36me3: 0.772",
          "h3k27me3: 0.831",
          "h3k9me3: 0.550",
          "input: 0.920"
         ],
         "marker": {
          "color": [
           "rgb(238,30,37)",
           "rgb(225,148,37)",
           "rgb(236,232,56)",
           "rgb(13,127,66)",
           "rgb(184,185,189)",
           "rgb(144,206,219)",
           "rgb(30,30,30)"
          ]
         },
         "mode": "markers",
         "name": "cancer",
         "showlegend": false,
         "type": "scatter",
         "x": [
          "cancer",
          "cancer",
          "cancer",
          "cancer",
          "cancer",
          "cancer",
          "cancer"
         ],
         "y": [
          0.9060307737183695,
          0.9123940830101966,
          0.8815668202764977,
          0.7722813177734174,
          0.8311111111111111,
          0.5504163701752024,
          0.9202735710796287
         ]
        },
        {
         "boxmean": true,
         "boxpoints": "outliers",
         "hoverinfo": "skip",
         "marker": {
          "color": "gray"
         },
         "name": "f1-score",
         "showlegend": false,
         "type": "box",
         "x": [
          "biomaterial_type",
          "biomaterial_type",
          "biomaterial_type",
          "biomaterial_type",
          "biomaterial_type",
          "biomaterial_type",
          "biomaterial_type",
          "biomaterial_type"
         ],
         "y": [
          0.6963855081832883,
          0.9202509121573869,
          0.6872749307693546,
          0.8864418493131364,
          0.9015345330153451,
          0.8419753086419752,
          0.6127133884235585,
          0.6115925285584729
         ]
        },
        {
         "hoverinfo": "text",
         "hovertext": [
          "h3k4me3: 0.696",
          "h3k27ac: 0.920",
          "h3k4me1: 0.687",
          "h3k36me3: 0.886",
          "h3k27me3: 0.902",
          "h3k9me3: 0.842",
          "input: 0.613",
          "rna_seq: 0.612"
         ],
         "marker": {
          "color": [
           "rgb(238,30,37)",
           "rgb(225,148,37)",
           "rgb(236,232,56)",
           "rgb(13,127,66)",
           "rgb(184,185,189)",
           "rgb(144,206,219)",
           "rgb(30,30,30)",
           "rgb(30,176,75)"
          ]
         },
         "mode": "markers",
         "name": "biomaterial_type",
         "showlegend": false,
         "type": "scatter",
         "x": [
          "biomaterial_type",
          "biomaterial_type",
          "biomaterial_type",
          "biomaterial_type",
          "biomaterial_type",
          "biomaterial_type",
          "biomaterial_type",
          "biomaterial_type"
         ],
         "y": [
          0.6963855081832883,
          0.9202509121573869,
          0.6872749307693546,
          0.8864418493131364,
          0.9015345330153451,
          0.8419753086419752,
          0.6127133884235585,
          0.6115925285584729
         ]
        },
        {
         "boxmean": true,
         "boxpoints": "outliers",
         "hoverinfo": "skip",
         "marker": {
          "color": "gray"
         },
         "name": "f1-score",
         "showlegend": false,
         "type": "box",
         "x": [
          "sex",
          "sex",
          "sex",
          "sex",
          "sex",
          "sex",
          "sex",
          "sex"
         ],
         "y": [
          0.9364025576869613,
          0.5248932251871009,
          0.5481818181818182,
          0.9484344513611446,
          0.9231960247731528,
          0.9556209942837346,
          0.6416375402629698,
          0.47422359071131015
         ]
        },
        {
         "hoverinfo": "text",
         "hovertext": [
          "h3k4me3: 0.936",
          "h3k27ac: 0.525",
          "h3k4me1: 0.548",
          "h3k36me3: 0.948",
          "h3k27me3: 0.923",
          "h3k9me3: 0.956",
          "input: 0.642",
          "rna_seq: 0.474"
         ],
         "marker": {
          "color": [
           "rgb(238,30,37)",
           "rgb(225,148,37)",
           "rgb(236,232,56)",
           "rgb(13,127,66)",
           "rgb(184,185,189)",
           "rgb(144,206,219)",
           "rgb(30,30,30)",
           "rgb(30,176,75)"
          ]
         },
         "mode": "markers",
         "name": "sex",
         "showlegend": false,
         "type": "scatter",
         "x": [
          "sex",
          "sex",
          "sex",
          "sex",
          "sex",
          "sex",
          "sex",
          "sex"
         ],
         "y": [
          0.9364025576869613,
          0.5248932251871009,
          0.5481818181818182,
          0.9484344513611446,
          0.9231960247731528,
          0.9556209942837346,
          0.6416375402629698,
          0.47422359071131015
         ]
        },
        {
         "boxmean": true,
         "boxpoints": "outliers",
         "hoverinfo": "skip",
         "marker": {
          "color": "gray"
         },
         "name": "f1-score",
         "showlegend": false,
         "type": "box",
         "x": [
          "cell type",
          "cell type",
          "cell type",
          "cell type",
          "cell type",
          "cell type",
          "cell type",
          "cell type"
         ],
         "y": [
          0.8394734256803222,
          0.8525345622119815,
          0.6626344086021505,
          0.7248563218390804,
          0.802721088435374,
          0.7279202279202278,
          0.6090366139708246,
          0.6619159479453597
         ]
        },
        {
         "hoverinfo": "text",
         "hovertext": [
          "h3k4me3: 0.839",
          "h3k27ac: 0.853",
          "h3k4me1: 0.663",
          "h3k36me3: 0.725",
          "h3k27me3: 0.803",
          "h3k9me3: 0.728",
          "input: 0.609",
          "rna_seq: 0.662"
         ],
         "marker": {
          "color": [
           "rgb(238,30,37)",
           "rgb(225,148,37)",
           "rgb(236,232,56)",
           "rgb(13,127,66)",
           "rgb(184,185,189)",
           "rgb(144,206,219)",
           "rgb(30,30,30)",
           "rgb(30,176,75)"
          ]
         },
         "mode": "markers",
         "name": "cell type",
         "showlegend": false,
         "type": "scatter",
         "x": [
          "cell type",
          "cell type",
          "cell type",
          "cell type",
          "cell type",
          "cell type",
          "cell type",
          "cell type"
         ],
         "y": [
          0.8394734256803222,
          0.8525345622119815,
          0.6626344086021505,
          0.7248563218390804,
          0.802721088435374,
          0.7279202279202278,
          0.6090366139708246,
          0.6619159479453597
         ]
        },
        {
         "boxmean": true,
         "boxpoints": "outliers",
         "hoverinfo": "skip",
         "marker": {
          "color": "gray"
         },
         "name": "f1-score",
         "showlegend": false,
         "type": "box",
         "x": [
          "life stage (merged)",
          "life stage (merged)",
          "life stage (merged)",
          "life stage (merged)",
          "life stage (merged)",
          "life stage (merged)",
          "life stage (merged)",
          "life stage (merged)"
         ],
         "y": [
          0.49973240760830256,
          0.4405659346662296,
          0.4572043010752688,
          0.3878414774913428,
          0.40996168582375486,
          0.4481327800829875,
          0.2780600618000639,
          0.4379042351851581
         ]
        },
        {
         "hoverinfo": "text",
         "hovertext": [
          "h3k4me3: 0.500",
          "h3k27ac: 0.441",
          "h3k4me1: 0.457",
          "h3k36me3: 0.388",
          "h3k27me3: 0.410",
          "h3k9me3: 0.448",
          "input: 0.278",
          "rna_seq: 0.438"
         ],
         "marker": {
          "color": [
           "rgb(238,30,37)",
           "rgb(225,148,37)",
           "rgb(236,232,56)",
           "rgb(13,127,66)",
           "rgb(184,185,189)",
           "rgb(144,206,219)",
           "rgb(30,30,30)",
           "rgb(30,176,75)"
          ]
         },
         "mode": "markers",
         "name": "life stage (merged)",
         "showlegend": false,
         "type": "scatter",
         "x": [
          "life stage (merged)",
          "life stage (merged)",
          "life stage (merged)",
          "life stage (merged)",
          "life stage (merged)",
          "life stage (merged)",
          "life stage (merged)",
          "life stage (merged)"
         ],
         "y": [
          0.49973240760830256,
          0.4405659346662296,
          0.4572043010752688,
          0.3878414774913428,
          0.40996168582375486,
          0.4481327800829875,
          0.2780600618000639,
          0.4379042351851581
         ]
        },
        {
         "boxmean": true,
         "boxpoints": "outliers",
         "hoverinfo": "skip",
         "marker": {
          "color": "gray"
         },
         "name": "f1-score",
         "showlegend": false,
         "type": "box",
         "x": [
          "life stage",
          "life stage",
          "life stage",
          "life stage",
          "life stage",
          "life stage",
          "life stage",
          "life stage"
         ],
         "y": [
          0.40868339830368533,
          0.38553350017712873,
          0.402940940136601,
          0.3710864197530864,
          0.37414144138070515,
          0.5126312335958005,
          0.30998695928564834,
          0.37812650254274016
         ]
        },
        {
         "hoverinfo": "text",
         "hovertext": [
          "h3k4me3: 0.409",
          "h3k27ac: 0.386",
          "h3k4me1: 0.403",
          "h3k36me3: 0.371",
          "h3k27me3: 0.374",
          "h3k9me3: 0.513",
          "input: 0.310",
          "rna_seq: 0.378"
         ],
         "marker": {
          "color": [
           "rgb(238,30,37)",
           "rgb(225,148,37)",
           "rgb(236,232,56)",
           "rgb(13,127,66)",
           "rgb(184,185,189)",
           "rgb(144,206,219)",
           "rgb(30,30,30)",
           "rgb(30,176,75)"
          ]
         },
         "mode": "markers",
         "name": "life stage",
         "showlegend": false,
         "type": "scatter",
         "x": [
          "life stage",
          "life stage",
          "life stage",
          "life stage",
          "life stage",
          "life stage",
          "life stage",
          "life stage"
         ],
         "y": [
          0.40868339830368533,
          0.38553350017712873,
          0.402940940136601,
          0.3710864197530864,
          0.37414144138070515,
          0.5126312335958005,
          0.30998695928564834,
          0.37812650254274016
         ]
        }
       ],
       "layout": {
        "font": {
         "size": 18
        },
        "height": 600,
        "template": {
         "data": {
          "bar": [
           {
            "error_x": {
             "color": "#2a3f5f"
            },
            "error_y": {
             "color": "#2a3f5f"
            },
            "marker": {
             "line": {
              "color": "#E5ECF6",
              "width": 0.5
             },
             "pattern": {
              "fillmode": "overlay",
              "size": 10,
              "solidity": 0.2
             }
            },
            "type": "bar"
           }
          ],
          "barpolar": [
           {
            "marker": {
             "line": {
              "color": "#E5ECF6",
              "width": 0.5
             },
             "pattern": {
              "fillmode": "overlay",
              "size": 10,
              "solidity": 0.2
             }
            },
            "type": "barpolar"
           }
          ],
          "carpet": [
           {
            "aaxis": {
             "endlinecolor": "#2a3f5f",
             "gridcolor": "white",
             "linecolor": "white",
             "minorgridcolor": "white",
             "startlinecolor": "#2a3f5f"
            },
            "baxis": {
             "endlinecolor": "#2a3f5f",
             "gridcolor": "white",
             "linecolor": "white",
             "minorgridcolor": "white",
             "startlinecolor": "#2a3f5f"
            },
            "type": "carpet"
           }
          ],
          "choropleth": [
           {
            "colorbar": {
             "outlinewidth": 0,
             "ticks": ""
            },
            "type": "choropleth"
           }
          ],
          "contour": [
           {
            "colorbar": {
             "outlinewidth": 0,
             "ticks": ""
            },
            "colorscale": [
             [
              0,
              "#0d0887"
             ],
             [
              0.1111111111111111,
              "#46039f"
             ],
             [
              0.2222222222222222,
              "#7201a8"
             ],
             [
              0.3333333333333333,
              "#9c179e"
             ],
             [
              0.4444444444444444,
              "#bd3786"
             ],
             [
              0.5555555555555556,
              "#d8576b"
             ],
             [
              0.6666666666666666,
              "#ed7953"
             ],
             [
              0.7777777777777778,
              "#fb9f3a"
             ],
             [
              0.8888888888888888,
              "#fdca26"
             ],
             [
              1,
              "#f0f921"
             ]
            ],
            "type": "contour"
           }
          ],
          "contourcarpet": [
           {
            "colorbar": {
             "outlinewidth": 0,
             "ticks": ""
            },
            "type": "contourcarpet"
           }
          ],
          "heatmap": [
           {
            "colorbar": {
             "outlinewidth": 0,
             "ticks": ""
            },
            "colorscale": [
             [
              0,
              "#0d0887"
             ],
             [
              0.1111111111111111,
              "#46039f"
             ],
             [
              0.2222222222222222,
              "#7201a8"
             ],
             [
              0.3333333333333333,
              "#9c179e"
             ],
             [
              0.4444444444444444,
              "#bd3786"
             ],
             [
              0.5555555555555556,
              "#d8576b"
             ],
             [
              0.6666666666666666,
              "#ed7953"
             ],
             [
              0.7777777777777778,
              "#fb9f3a"
             ],
             [
              0.8888888888888888,
              "#fdca26"
             ],
             [
              1,
              "#f0f921"
             ]
            ],
            "type": "heatmap"
           }
          ],
          "heatmapgl": [
           {
            "colorbar": {
             "outlinewidth": 0,
             "ticks": ""
            },
            "colorscale": [
             [
              0,
              "#0d0887"
             ],
             [
              0.1111111111111111,
              "#46039f"
             ],
             [
              0.2222222222222222,
              "#7201a8"
             ],
             [
              0.3333333333333333,
              "#9c179e"
             ],
             [
              0.4444444444444444,
              "#bd3786"
             ],
             [
              0.5555555555555556,
              "#d8576b"
             ],
             [
              0.6666666666666666,
              "#ed7953"
             ],
             [
              0.7777777777777778,
              "#fb9f3a"
             ],
             [
              0.8888888888888888,
              "#fdca26"
             ],
             [
              1,
              "#f0f921"
             ]
            ],
            "type": "heatmapgl"
           }
          ],
          "histogram": [
           {
            "marker": {
             "pattern": {
              "fillmode": "overlay",
              "size": 10,
              "solidity": 0.2
             }
            },
            "type": "histogram"
           }
          ],
          "histogram2d": [
           {
            "colorbar": {
             "outlinewidth": 0,
             "ticks": ""
            },
            "colorscale": [
             [
              0,
              "#0d0887"
             ],
             [
              0.1111111111111111,
              "#46039f"
             ],
             [
              0.2222222222222222,
              "#7201a8"
             ],
             [
              0.3333333333333333,
              "#9c179e"
             ],
             [
              0.4444444444444444,
              "#bd3786"
             ],
             [
              0.5555555555555556,
              "#d8576b"
             ],
             [
              0.6666666666666666,
              "#ed7953"
             ],
             [
              0.7777777777777778,
              "#fb9f3a"
             ],
             [
              0.8888888888888888,
              "#fdca26"
             ],
             [
              1,
              "#f0f921"
             ]
            ],
            "type": "histogram2d"
           }
          ],
          "histogram2dcontour": [
           {
            "colorbar": {
             "outlinewidth": 0,
             "ticks": ""
            },
            "colorscale": [
             [
              0,
              "#0d0887"
             ],
             [
              0.1111111111111111,
              "#46039f"
             ],
             [
              0.2222222222222222,
              "#7201a8"
             ],
             [
              0.3333333333333333,
              "#9c179e"
             ],
             [
              0.4444444444444444,
              "#bd3786"
             ],
             [
              0.5555555555555556,
              "#d8576b"
             ],
             [
              0.6666666666666666,
              "#ed7953"
             ],
             [
              0.7777777777777778,
              "#fb9f3a"
             ],
             [
              0.8888888888888888,
              "#fdca26"
             ],
             [
              1,
              "#f0f921"
             ]
            ],
            "type": "histogram2dcontour"
           }
          ],
          "mesh3d": [
           {
            "colorbar": {
             "outlinewidth": 0,
             "ticks": ""
            },
            "type": "mesh3d"
           }
          ],
          "parcoords": [
           {
            "line": {
             "colorbar": {
              "outlinewidth": 0,
              "ticks": ""
             }
            },
            "type": "parcoords"
           }
          ],
          "pie": [
           {
            "automargin": true,
            "type": "pie"
           }
          ],
          "scatter": [
           {
            "fillpattern": {
             "fillmode": "overlay",
             "size": 10,
             "solidity": 0.2
            },
            "type": "scatter"
           }
          ],
          "scatter3d": [
           {
            "line": {
             "colorbar": {
              "outlinewidth": 0,
              "ticks": ""
             }
            },
            "marker": {
             "colorbar": {
              "outlinewidth": 0,
              "ticks": ""
             }
            },
            "type": "scatter3d"
           }
          ],
          "scattercarpet": [
           {
            "marker": {
             "colorbar": {
              "outlinewidth": 0,
              "ticks": ""
             }
            },
            "type": "scattercarpet"
           }
          ],
          "scattergeo": [
           {
            "marker": {
             "colorbar": {
              "outlinewidth": 0,
              "ticks": ""
             }
            },
            "type": "scattergeo"
           }
          ],
          "scattergl": [
           {
            "marker": {
             "colorbar": {
              "outlinewidth": 0,
              "ticks": ""
             }
            },
            "type": "scattergl"
           }
          ],
          "scattermapbox": [
           {
            "marker": {
             "colorbar": {
              "outlinewidth": 0,
              "ticks": ""
             }
            },
            "type": "scattermapbox"
           }
          ],
          "scatterpolar": [
           {
            "marker": {
             "colorbar": {
              "outlinewidth": 0,
              "ticks": ""
             }
            },
            "type": "scatterpolar"
           }
          ],
          "scatterpolargl": [
           {
            "marker": {
             "colorbar": {
              "outlinewidth": 0,
              "ticks": ""
             }
            },
            "type": "scatterpolargl"
           }
          ],
          "scatterternary": [
           {
            "marker": {
             "colorbar": {
              "outlinewidth": 0,
              "ticks": ""
             }
            },
            "type": "scatterternary"
           }
          ],
          "surface": [
           {
            "colorbar": {
             "outlinewidth": 0,
             "ticks": ""
            },
            "colorscale": [
             [
              0,
              "#0d0887"
             ],
             [
              0.1111111111111111,
              "#46039f"
             ],
             [
              0.2222222222222222,
              "#7201a8"
             ],
             [
              0.3333333333333333,
              "#9c179e"
             ],
             [
              0.4444444444444444,
              "#bd3786"
             ],
             [
              0.5555555555555556,
              "#d8576b"
             ],
             [
              0.6666666666666666,
              "#ed7953"
             ],
             [
              0.7777777777777778,
              "#fb9f3a"
             ],
             [
              0.8888888888888888,
              "#fdca26"
             ],
             [
              1,
              "#f0f921"
             ]
            ],
            "type": "surface"
           }
          ],
          "table": [
           {
            "cells": {
             "fill": {
              "color": "#EBF0F8"
             },
             "line": {
              "color": "white"
             }
            },
            "header": {
             "fill": {
              "color": "#C8D4E3"
             },
             "line": {
              "color": "white"
             }
            },
            "type": "table"
           }
          ]
         },
         "layout": {
          "annotationdefaults": {
           "arrowcolor": "#2a3f5f",
           "arrowhead": 0,
           "arrowwidth": 1
          },
          "autotypenumbers": "strict",
          "coloraxis": {
           "colorbar": {
            "outlinewidth": 0,
            "ticks": ""
           }
          },
          "colorscale": {
           "diverging": [
            [
             0,
             "#8e0152"
            ],
            [
             0.1,
             "#c51b7d"
            ],
            [
             0.2,
             "#de77ae"
            ],
            [
             0.3,
             "#f1b6da"
            ],
            [
             0.4,
             "#fde0ef"
            ],
            [
             0.5,
             "#f7f7f7"
            ],
            [
             0.6,
             "#e6f5d0"
            ],
            [
             0.7,
             "#b8e186"
            ],
            [
             0.8,
             "#7fbc41"
            ],
            [
             0.9,
             "#4d9221"
            ],
            [
             1,
             "#276419"
            ]
           ],
           "sequential": [
            [
             0,
             "#0d0887"
            ],
            [
             0.1111111111111111,
             "#46039f"
            ],
            [
             0.2222222222222222,
             "#7201a8"
            ],
            [
             0.3333333333333333,
             "#9c179e"
            ],
            [
             0.4444444444444444,
             "#bd3786"
            ],
            [
             0.5555555555555556,
             "#d8576b"
            ],
            [
             0.6666666666666666,
             "#ed7953"
            ],
            [
             0.7777777777777778,
             "#fb9f3a"
            ],
            [
             0.8888888888888888,
             "#fdca26"
            ],
            [
             1,
             "#f0f921"
            ]
           ],
           "sequentialminus": [
            [
             0,
             "#0d0887"
            ],
            [
             0.1111111111111111,
             "#46039f"
            ],
            [
             0.2222222222222222,
             "#7201a8"
            ],
            [
             0.3333333333333333,
             "#9c179e"
            ],
            [
             0.4444444444444444,
             "#bd3786"
            ],
            [
             0.5555555555555556,
             "#d8576b"
            ],
            [
             0.6666666666666666,
             "#ed7953"
            ],
            [
             0.7777777777777778,
             "#fb9f3a"
            ],
            [
             0.8888888888888888,
             "#fdca26"
            ],
            [
             1,
             "#f0f921"
            ]
           ]
          },
          "colorway": [
           "#636efa",
           "#EF553B",
           "#00cc96",
           "#ab63fa",
           "#FFA15A",
           "#19d3f3",
           "#FF6692",
           "#B6E880",
           "#FF97FF",
           "#FECB52"
          ],
          "font": {
           "color": "#2a3f5f"
          },
          "geo": {
           "bgcolor": "white",
           "lakecolor": "white",
           "landcolor": "#E5ECF6",
           "showlakes": true,
           "showland": true,
           "subunitcolor": "white"
          },
          "hoverlabel": {
           "align": "left"
          },
          "hovermode": "closest",
          "mapbox": {
           "style": "light"
          },
          "paper_bgcolor": "white",
          "plot_bgcolor": "#E5ECF6",
          "polar": {
           "angularaxis": {
            "gridcolor": "white",
            "linecolor": "white",
            "ticks": ""
           },
           "bgcolor": "#E5ECF6",
           "radialaxis": {
            "gridcolor": "white",
            "linecolor": "white",
            "ticks": ""
           }
          },
          "scene": {
           "xaxis": {
            "backgroundcolor": "#E5ECF6",
            "gridcolor": "white",
            "gridwidth": 2,
            "linecolor": "white",
            "showbackground": true,
            "ticks": "",
            "zerolinecolor": "white"
           },
           "yaxis": {
            "backgroundcolor": "#E5ECF6",
            "gridcolor": "white",
            "gridwidth": 2,
            "linecolor": "white",
            "showbackground": true,
            "ticks": "",
            "zerolinecolor": "white"
           },
           "zaxis": {
            "backgroundcolor": "#E5ECF6",
            "gridcolor": "white",
            "gridwidth": 2,
            "linecolor": "white",
            "showbackground": true,
            "ticks": "",
            "zerolinecolor": "white"
           }
          },
          "shapedefaults": {
           "line": {
            "color": "#2a3f5f"
           }
          },
          "ternary": {
           "aaxis": {
            "gridcolor": "white",
            "linecolor": "white",
            "ticks": ""
           },
           "baxis": {
            "gridcolor": "white",
            "linecolor": "white",
            "ticks": ""
           },
           "bgcolor": "#E5ECF6",
           "caxis": {
            "gridcolor": "white",
            "linecolor": "white",
            "ticks": ""
           }
          },
          "title": {
           "x": 0.05
          },
          "xaxis": {
           "automargin": true,
           "gridcolor": "white",
           "linecolor": "white",
           "ticks": "",
           "title": {
            "standoff": 15
           },
           "zerolinecolor": "white",
           "zerolinewidth": 2
          },
          "yaxis": {
           "automargin": true,
           "gridcolor": "white",
           "linecolor": "white",
           "ticks": "",
           "title": {
            "standoff": 15
           },
           "zerolinecolor": "white",
           "zerolinewidth": 2
          }
         }
        },
        "title": {
         "text": "ENCODE: Task F1-score per assay (min_predScore=0.00)"
        },
        "width": 800,
        "xaxis": {
         "title": {
          "text": "Classification task"
         }
        },
        "yaxis": {
         "range": [
          0,
          1.01
         ],
         "title": {
          "text": "F1-score"
         }
        }
       }
      }
     },
     "metadata": {},
     "output_type": "display_data"
    },
    {
     "data": {
      "application/vnd.plotly.v1+json": {
       "config": {
        "plotlyServerURL": "https://plot.ly"
       },
       "data": [
        {
         "boxmean": true,
         "boxpoints": "outliers",
         "hoverinfo": "skip",
         "marker": {
          "color": "gray"
         },
         "name": "acc",
         "showlegend": false,
         "type": "box",
         "x": [
          "assay_7c",
          "assay_7c",
          "assay_7c",
          "assay_7c",
          "assay_7c",
          "assay_7c",
          "assay_7c"
         ],
         "y": [
          0.9973614775725593,
          1,
          0.9921875,
          0.9586776859504132,
          0.979381443298969,
          1,
          0.9902834008097166
         ]
        },
        {
         "hoverinfo": "text",
         "hovertext": [
          "h3k4me3: 0.997",
          "h3k27ac: 1.000",
          "h3k4me1: 0.992",
          "h3k36me3: 0.959",
          "h3k27me3: 0.979",
          "h3k9me3: 1.000",
          "input: 0.990"
         ],
         "marker": {
          "color": [
           "rgb(238,30,37)",
           "rgb(225,148,37)",
           "rgb(236,232,56)",
           "rgb(13,127,66)",
           "rgb(184,185,189)",
           "rgb(144,206,219)",
           "rgb(30,30,30)"
          ]
         },
         "mode": "markers",
         "name": "assay_7c",
         "showlegend": false,
         "type": "scatter",
         "x": [
          "assay_7c",
          "assay_7c",
          "assay_7c",
          "assay_7c",
          "assay_7c",
          "assay_7c",
          "assay_7c"
         ],
         "y": [
          0.9973614775725593,
          1,
          0.9921875,
          0.9586776859504132,
          0.979381443298969,
          1,
          0.9902834008097166
         ]
        },
        {
         "boxmean": true,
         "boxpoints": "outliers",
         "hoverinfo": "skip",
         "marker": {
          "color": "gray"
         },
         "name": "acc",
         "showlegend": false,
         "type": "box",
         "x": [
          "assay_11c",
          "assay_11c",
          "assay_11c",
          "assay_11c",
          "assay_11c",
          "assay_11c",
          "assay_11c",
          "assay_11c"
         ],
         "y": [
          1,
          1,
          0.996078431372549,
          0.9504132231404959,
          0.979381443298969,
          0.9832635983263598,
          0.9720101781170484,
          1
         ]
        },
        {
         "hoverinfo": "text",
         "hovertext": [
          "h3k4me3: 1.000",
          "h3k27ac: 1.000",
          "h3k4me1: 0.996",
          "h3k36me3: 0.950",
          "h3k27me3: 0.979",
          "h3k9me3: 0.983",
          "input: 0.972",
          "rna_seq: 1.000"
         ],
         "marker": {
          "color": [
           "rgb(238,30,37)",
           "rgb(225,148,37)",
           "rgb(236,232,56)",
           "rgb(13,127,66)",
           "rgb(184,185,189)",
           "rgb(144,206,219)",
           "rgb(30,30,30)",
           "rgb(30,176,75)"
          ]
         },
         "mode": "markers",
         "name": "assay_11c",
         "showlegend": false,
         "type": "scatter",
         "x": [
          "assay_11c",
          "assay_11c",
          "assay_11c",
          "assay_11c",
          "assay_11c",
          "assay_11c",
          "assay_11c",
          "assay_11c"
         ],
         "y": [
          1,
          1,
          0.996078431372549,
          0.9504132231404959,
          0.979381443298969,
          0.9832635983263598,
          0.9720101781170484,
          1
         ]
        },
        {
         "boxmean": true,
         "boxpoints": "outliers",
         "hoverinfo": "skip",
         "marker": {
          "color": "gray"
         },
         "name": "acc",
         "showlegend": false,
         "type": "box",
         "x": [
          "cell type",
          "cell type",
          "cell type",
          "cell type",
          "cell type",
          "cell type",
          "cell type",
          "cell type"
         ],
         "y": [
          0.9696969696969697,
          0.9696969696969697,
          0.9354838709677419,
          1,
          0.9615384615384616,
          0.9047619047619048,
          1,
          0.9398907103825137
         ]
        },
        {
         "hoverinfo": "text",
         "hovertext": [
          "h3k4me3: 0.970",
          "h3k27ac: 0.970",
          "h3k4me1: 0.935",
          "h3k36me3: 1.000",
          "h3k27me3: 0.962",
          "h3k9me3: 0.905",
          "input: 1.000",
          "rna_seq: 0.940"
         ],
         "marker": {
          "color": [
           "rgb(238,30,37)",
           "rgb(225,148,37)",
           "rgb(236,232,56)",
           "rgb(13,127,66)",
           "rgb(184,185,189)",
           "rgb(144,206,219)",
           "rgb(30,30,30)",
           "rgb(30,176,75)"
          ]
         },
         "mode": "markers",
         "name": "cell type",
         "showlegend": false,
         "type": "scatter",
         "x": [
          "cell type",
          "cell type",
          "cell type",
          "cell type",
          "cell type",
          "cell type",
          "cell type",
          "cell type"
         ],
         "y": [
          0.9696969696969697,
          0.9696969696969697,
          0.9354838709677419,
          1,
          0.9615384615384616,
          0.9047619047619048,
          1,
          0.9398907103825137
         ]
        },
        {
         "boxmean": true,
         "boxpoints": "outliers",
         "hoverinfo": "skip",
         "marker": {
          "color": "gray"
         },
         "name": "acc",
         "showlegend": false,
         "type": "box",
         "x": [
          "biomaterial_type",
          "biomaterial_type",
          "biomaterial_type",
          "biomaterial_type",
          "biomaterial_type",
          "biomaterial_type",
          "biomaterial_type",
          "biomaterial_type"
         ],
         "y": [
          0.9472140762463344,
          0.9464285714285714,
          0.9377777777777778,
          0.9386792452830188,
          0.9691119691119691,
          0.9047619047619048,
          0.951706910907577,
          0.9139344262295082
         ]
        },
        {
         "hoverinfo": "text",
         "hovertext": [
          "h3k4me3: 0.947",
          "h3k27ac: 0.946",
          "h3k4me1: 0.938",
          "h3k36me3: 0.939",
          "h3k27me3: 0.969",
          "h3k9me3: 0.905",
          "input: 0.952",
          "rna_seq: 0.914"
         ],
         "marker": {
          "color": [
           "rgb(238,30,37)",
           "rgb(225,148,37)",
           "rgb(236,232,56)",
           "rgb(13,127,66)",
           "rgb(184,185,189)",
           "rgb(144,206,219)",
           "rgb(30,30,30)",
           "rgb(30,176,75)"
          ]
         },
         "mode": "markers",
         "name": "biomaterial_type",
         "showlegend": false,
         "type": "scatter",
         "x": [
          "biomaterial_type",
          "biomaterial_type",
          "biomaterial_type",
          "biomaterial_type",
          "biomaterial_type",
          "biomaterial_type",
          "biomaterial_type",
          "biomaterial_type"
         ],
         "y": [
          0.9472140762463344,
          0.9464285714285714,
          0.9377777777777778,
          0.9386792452830188,
          0.9691119691119691,
          0.9047619047619048,
          0.951706910907577,
          0.9139344262295082
         ]
        },
        {
         "boxmean": true,
         "boxpoints": "outliers",
         "hoverinfo": "skip",
         "marker": {
          "color": "gray"
         },
         "name": "acc",
         "showlegend": false,
         "type": "box",
         "x": [
          "cancer",
          "cancer",
          "cancer",
          "cancer",
          "cancer",
          "cancer",
          "cancer"
         ],
         "y": [
          0.9575596816976127,
          0.9584487534626038,
          0.9377431906614786,
          0.8879668049792531,
          0.9383561643835616,
          0.6044444444444445,
          0.925
         ]
        },
        {
         "hoverinfo": "text",
         "hovertext": [
          "h3k4me3: 0.958",
          "h3k27ac: 0.958",
          "h3k4me1: 0.938",
          "h3k36me3: 0.888",
          "h3k27me3: 0.938",
          "h3k9me3: 0.604",
          "input: 0.925"
         ],
         "marker": {
          "color": [
           "rgb(238,30,37)",
           "rgb(225,148,37)",
           "rgb(236,232,56)",
           "rgb(13,127,66)",
           "rgb(184,185,189)",
           "rgb(144,206,219)",
           "rgb(30,30,30)"
          ]
         },
         "mode": "markers",
         "name": "cancer",
         "showlegend": false,
         "type": "scatter",
         "x": [
          "cancer",
          "cancer",
          "cancer",
          "cancer",
          "cancer",
          "cancer",
          "cancer"
         ],
         "y": [
          0.9575596816976127,
          0.9584487534626038,
          0.9377431906614786,
          0.8879668049792531,
          0.9383561643835616,
          0.6044444444444445,
          0.925
         ]
        },
        {
         "boxmean": true,
         "boxpoints": "outliers",
         "hoverinfo": "skip",
         "marker": {
          "color": "gray"
         },
         "name": "acc",
         "showlegend": false,
         "type": "box",
         "x": [
          "sex",
          "sex",
          "sex",
          "sex",
          "sex",
          "sex",
          "sex",
          "sex"
         ],
         "y": [
          0.9642857142857143,
          0.8352941176470589,
          0.8723404255319149,
          0.9560439560439561,
          0.9429824561403509,
          0.9668508287292817,
          0.9525341914722446,
          0.7202521670606777
         ]
        },
        {
         "hoverinfo": "text",
         "hovertext": [
          "h3k4me3: 0.964",
          "h3k27ac: 0.835",
          "h3k4me1: 0.872",
          "h3k36me3: 0.956",
          "h3k27me3: 0.943",
          "h3k9me3: 0.967",
          "input: 0.953",
          "rna_seq: 0.720"
         ],
         "marker": {
          "color": [
           "rgb(238,30,37)",
           "rgb(225,148,37)",
           "rgb(236,232,56)",
           "rgb(13,127,66)",
           "rgb(184,185,189)",
           "rgb(144,206,219)",
           "rgb(30,30,30)",
           "rgb(30,176,75)"
          ]
         },
         "mode": "markers",
         "name": "sex",
         "showlegend": false,
         "type": "scatter",
         "x": [
          "sex",
          "sex",
          "sex",
          "sex",
          "sex",
          "sex",
          "sex",
          "sex"
         ],
         "y": [
          0.9642857142857143,
          0.8352941176470589,
          0.8723404255319149,
          0.9560439560439561,
          0.9429824561403509,
          0.9668508287292817,
          0.9525341914722446,
          0.7202521670606777
         ]
        },
        {
         "boxmean": true,
         "boxpoints": "outliers",
         "hoverinfo": "skip",
         "marker": {
          "color": "gray"
         },
         "name": "acc",
         "showlegend": false,
         "type": "box",
         "x": [
          "life stage (merged)",
          "life stage (merged)",
          "life stage (merged)",
          "life stage (merged)",
          "life stage (merged)",
          "life stage (merged)",
          "life stage (merged)",
          "life stage (merged)"
         ],
         "y": [
          0.9004524886877828,
          0.9090909090909091,
          0.8571428571428571,
          0.8559322033898306,
          0.8630952380952381,
          0.8264462809917356,
          0.6166868198307134,
          0.7940528634361234
         ]
        },
        {
         "hoverinfo": "text",
         "hovertext": [
          "h3k4me3: 0.900",
          "h3k27ac: 0.909",
          "h3k4me1: 0.857",
          "h3k36me3: 0.856",
          "h3k27me3: 0.863",
          "h3k9me3: 0.826",
          "input: 0.617",
          "rna_seq: 0.794"
         ],
         "marker": {
          "color": [
           "rgb(238,30,37)",
           "rgb(225,148,37)",
           "rgb(236,232,56)",
           "rgb(13,127,66)",
           "rgb(184,185,189)",
           "rgb(144,206,219)",
           "rgb(30,30,30)",
           "rgb(30,176,75)"
          ]
         },
         "mode": "markers",
         "name": "life stage (merged)",
         "showlegend": false,
         "type": "scatter",
         "x": [
          "life stage (merged)",
          "life stage (merged)",
          "life stage (merged)",
          "life stage (merged)",
          "life stage (merged)",
          "life stage (merged)",
          "life stage (merged)",
          "life stage (merged)"
         ],
         "y": [
          0.9004524886877828,
          0.9090909090909091,
          0.8571428571428571,
          0.8559322033898306,
          0.8630952380952381,
          0.8264462809917356,
          0.6166868198307134,
          0.7940528634361234
         ]
        },
        {
         "boxmean": true,
         "boxpoints": "outliers",
         "hoverinfo": "skip",
         "marker": {
          "color": "gray"
         },
         "name": "acc",
         "showlegend": false,
         "type": "box",
         "x": [
          "life stage",
          "life stage",
          "life stage",
          "life stage",
          "life stage",
          "life stage",
          "life stage",
          "life stage"
         ],
         "y": [
          0.8389513108614233,
          0.8391608391608392,
          0.7891891891891892,
          0.803680981595092,
          0.8226600985221675,
          0.7756410256410257,
          0.5739769150052466,
          0.7570093457943925
         ]
        },
        {
         "hoverinfo": "text",
         "hovertext": [
          "h3k4me3: 0.839",
          "h3k27ac: 0.839",
          "h3k4me1: 0.789",
          "h3k36me3: 0.804",
          "h3k27me3: 0.823",
          "h3k9me3: 0.776",
          "input: 0.574",
          "rna_seq: 0.757"
         ],
         "marker": {
          "color": [
           "rgb(238,30,37)",
           "rgb(225,148,37)",
           "rgb(236,232,56)",
           "rgb(13,127,66)",
           "rgb(184,185,189)",
           "rgb(144,206,219)",
           "rgb(30,30,30)",
           "rgb(30,176,75)"
          ]
         },
         "mode": "markers",
         "name": "life stage",
         "showlegend": false,
         "type": "scatter",
         "x": [
          "life stage",
          "life stage",
          "life stage",
          "life stage",
          "life stage",
          "life stage",
          "life stage",
          "life stage"
         ],
         "y": [
          0.8389513108614233,
          0.8391608391608392,
          0.7891891891891892,
          0.803680981595092,
          0.8226600985221675,
          0.7756410256410257,
          0.5739769150052466,
          0.7570093457943925
         ]
        }
       ],
       "layout": {
        "font": {
         "size": 18
        },
        "height": 600,
        "template": {
         "data": {
          "bar": [
           {
            "error_x": {
             "color": "#2a3f5f"
            },
            "error_y": {
             "color": "#2a3f5f"
            },
            "marker": {
             "line": {
              "color": "#E5ECF6",
              "width": 0.5
             },
             "pattern": {
              "fillmode": "overlay",
              "size": 10,
              "solidity": 0.2
             }
            },
            "type": "bar"
           }
          ],
          "barpolar": [
           {
            "marker": {
             "line": {
              "color": "#E5ECF6",
              "width": 0.5
             },
             "pattern": {
              "fillmode": "overlay",
              "size": 10,
              "solidity": 0.2
             }
            },
            "type": "barpolar"
           }
          ],
          "carpet": [
           {
            "aaxis": {
             "endlinecolor": "#2a3f5f",
             "gridcolor": "white",
             "linecolor": "white",
             "minorgridcolor": "white",
             "startlinecolor": "#2a3f5f"
            },
            "baxis": {
             "endlinecolor": "#2a3f5f",
             "gridcolor": "white",
             "linecolor": "white",
             "minorgridcolor": "white",
             "startlinecolor": "#2a3f5f"
            },
            "type": "carpet"
           }
          ],
          "choropleth": [
           {
            "colorbar": {
             "outlinewidth": 0,
             "ticks": ""
            },
            "type": "choropleth"
           }
          ],
          "contour": [
           {
            "colorbar": {
             "outlinewidth": 0,
             "ticks": ""
            },
            "colorscale": [
             [
              0,
              "#0d0887"
             ],
             [
              0.1111111111111111,
              "#46039f"
             ],
             [
              0.2222222222222222,
              "#7201a8"
             ],
             [
              0.3333333333333333,
              "#9c179e"
             ],
             [
              0.4444444444444444,
              "#bd3786"
             ],
             [
              0.5555555555555556,
              "#d8576b"
             ],
             [
              0.6666666666666666,
              "#ed7953"
             ],
             [
              0.7777777777777778,
              "#fb9f3a"
             ],
             [
              0.8888888888888888,
              "#fdca26"
             ],
             [
              1,
              "#f0f921"
             ]
            ],
            "type": "contour"
           }
          ],
          "contourcarpet": [
           {
            "colorbar": {
             "outlinewidth": 0,
             "ticks": ""
            },
            "type": "contourcarpet"
           }
          ],
          "heatmap": [
           {
            "colorbar": {
             "outlinewidth": 0,
             "ticks": ""
            },
            "colorscale": [
             [
              0,
              "#0d0887"
             ],
             [
              0.1111111111111111,
              "#46039f"
             ],
             [
              0.2222222222222222,
              "#7201a8"
             ],
             [
              0.3333333333333333,
              "#9c179e"
             ],
             [
              0.4444444444444444,
              "#bd3786"
             ],
             [
              0.5555555555555556,
              "#d8576b"
             ],
             [
              0.6666666666666666,
              "#ed7953"
             ],
             [
              0.7777777777777778,
              "#fb9f3a"
             ],
             [
              0.8888888888888888,
              "#fdca26"
             ],
             [
              1,
              "#f0f921"
             ]
            ],
            "type": "heatmap"
           }
          ],
          "heatmapgl": [
           {
            "colorbar": {
             "outlinewidth": 0,
             "ticks": ""
            },
            "colorscale": [
             [
              0,
              "#0d0887"
             ],
             [
              0.1111111111111111,
              "#46039f"
             ],
             [
              0.2222222222222222,
              "#7201a8"
             ],
             [
              0.3333333333333333,
              "#9c179e"
             ],
             [
              0.4444444444444444,
              "#bd3786"
             ],
             [
              0.5555555555555556,
              "#d8576b"
             ],
             [
              0.6666666666666666,
              "#ed7953"
             ],
             [
              0.7777777777777778,
              "#fb9f3a"
             ],
             [
              0.8888888888888888,
              "#fdca26"
             ],
             [
              1,
              "#f0f921"
             ]
            ],
            "type": "heatmapgl"
           }
          ],
          "histogram": [
           {
            "marker": {
             "pattern": {
              "fillmode": "overlay",
              "size": 10,
              "solidity": 0.2
             }
            },
            "type": "histogram"
           }
          ],
          "histogram2d": [
           {
            "colorbar": {
             "outlinewidth": 0,
             "ticks": ""
            },
            "colorscale": [
             [
              0,
              "#0d0887"
             ],
             [
              0.1111111111111111,
              "#46039f"
             ],
             [
              0.2222222222222222,
              "#7201a8"
             ],
             [
              0.3333333333333333,
              "#9c179e"
             ],
             [
              0.4444444444444444,
              "#bd3786"
             ],
             [
              0.5555555555555556,
              "#d8576b"
             ],
             [
              0.6666666666666666,
              "#ed7953"
             ],
             [
              0.7777777777777778,
              "#fb9f3a"
             ],
             [
              0.8888888888888888,
              "#fdca26"
             ],
             [
              1,
              "#f0f921"
             ]
            ],
            "type": "histogram2d"
           }
          ],
          "histogram2dcontour": [
           {
            "colorbar": {
             "outlinewidth": 0,
             "ticks": ""
            },
            "colorscale": [
             [
              0,
              "#0d0887"
             ],
             [
              0.1111111111111111,
              "#46039f"
             ],
             [
              0.2222222222222222,
              "#7201a8"
             ],
             [
              0.3333333333333333,
              "#9c179e"
             ],
             [
              0.4444444444444444,
              "#bd3786"
             ],
             [
              0.5555555555555556,
              "#d8576b"
             ],
             [
              0.6666666666666666,
              "#ed7953"
             ],
             [
              0.7777777777777778,
              "#fb9f3a"
             ],
             [
              0.8888888888888888,
              "#fdca26"
             ],
             [
              1,
              "#f0f921"
             ]
            ],
            "type": "histogram2dcontour"
           }
          ],
          "mesh3d": [
           {
            "colorbar": {
             "outlinewidth": 0,
             "ticks": ""
            },
            "type": "mesh3d"
           }
          ],
          "parcoords": [
           {
            "line": {
             "colorbar": {
              "outlinewidth": 0,
              "ticks": ""
             }
            },
            "type": "parcoords"
           }
          ],
          "pie": [
           {
            "automargin": true,
            "type": "pie"
           }
          ],
          "scatter": [
           {
            "fillpattern": {
             "fillmode": "overlay",
             "size": 10,
             "solidity": 0.2
            },
            "type": "scatter"
           }
          ],
          "scatter3d": [
           {
            "line": {
             "colorbar": {
              "outlinewidth": 0,
              "ticks": ""
             }
            },
            "marker": {
             "colorbar": {
              "outlinewidth": 0,
              "ticks": ""
             }
            },
            "type": "scatter3d"
           }
          ],
          "scattercarpet": [
           {
            "marker": {
             "colorbar": {
              "outlinewidth": 0,
              "ticks": ""
             }
            },
            "type": "scattercarpet"
           }
          ],
          "scattergeo": [
           {
            "marker": {
             "colorbar": {
              "outlinewidth": 0,
              "ticks": ""
             }
            },
            "type": "scattergeo"
           }
          ],
          "scattergl": [
           {
            "marker": {
             "colorbar": {
              "outlinewidth": 0,
              "ticks": ""
             }
            },
            "type": "scattergl"
           }
          ],
          "scattermapbox": [
           {
            "marker": {
             "colorbar": {
              "outlinewidth": 0,
              "ticks": ""
             }
            },
            "type": "scattermapbox"
           }
          ],
          "scatterpolar": [
           {
            "marker": {
             "colorbar": {
              "outlinewidth": 0,
              "ticks": ""
             }
            },
            "type": "scatterpolar"
           }
          ],
          "scatterpolargl": [
           {
            "marker": {
             "colorbar": {
              "outlinewidth": 0,
              "ticks": ""
             }
            },
            "type": "scatterpolargl"
           }
          ],
          "scatterternary": [
           {
            "marker": {
             "colorbar": {
              "outlinewidth": 0,
              "ticks": ""
             }
            },
            "type": "scatterternary"
           }
          ],
          "surface": [
           {
            "colorbar": {
             "outlinewidth": 0,
             "ticks": ""
            },
            "colorscale": [
             [
              0,
              "#0d0887"
             ],
             [
              0.1111111111111111,
              "#46039f"
             ],
             [
              0.2222222222222222,
              "#7201a8"
             ],
             [
              0.3333333333333333,
              "#9c179e"
             ],
             [
              0.4444444444444444,
              "#bd3786"
             ],
             [
              0.5555555555555556,
              "#d8576b"
             ],
             [
              0.6666666666666666,
              "#ed7953"
             ],
             [
              0.7777777777777778,
              "#fb9f3a"
             ],
             [
              0.8888888888888888,
              "#fdca26"
             ],
             [
              1,
              "#f0f921"
             ]
            ],
            "type": "surface"
           }
          ],
          "table": [
           {
            "cells": {
             "fill": {
              "color": "#EBF0F8"
             },
             "line": {
              "color": "white"
             }
            },
            "header": {
             "fill": {
              "color": "#C8D4E3"
             },
             "line": {
              "color": "white"
             }
            },
            "type": "table"
           }
          ]
         },
         "layout": {
          "annotationdefaults": {
           "arrowcolor": "#2a3f5f",
           "arrowhead": 0,
           "arrowwidth": 1
          },
          "autotypenumbers": "strict",
          "coloraxis": {
           "colorbar": {
            "outlinewidth": 0,
            "ticks": ""
           }
          },
          "colorscale": {
           "diverging": [
            [
             0,
             "#8e0152"
            ],
            [
             0.1,
             "#c51b7d"
            ],
            [
             0.2,
             "#de77ae"
            ],
            [
             0.3,
             "#f1b6da"
            ],
            [
             0.4,
             "#fde0ef"
            ],
            [
             0.5,
             "#f7f7f7"
            ],
            [
             0.6,
             "#e6f5d0"
            ],
            [
             0.7,
             "#b8e186"
            ],
            [
             0.8,
             "#7fbc41"
            ],
            [
             0.9,
             "#4d9221"
            ],
            [
             1,
             "#276419"
            ]
           ],
           "sequential": [
            [
             0,
             "#0d0887"
            ],
            [
             0.1111111111111111,
             "#46039f"
            ],
            [
             0.2222222222222222,
             "#7201a8"
            ],
            [
             0.3333333333333333,
             "#9c179e"
            ],
            [
             0.4444444444444444,
             "#bd3786"
            ],
            [
             0.5555555555555556,
             "#d8576b"
            ],
            [
             0.6666666666666666,
             "#ed7953"
            ],
            [
             0.7777777777777778,
             "#fb9f3a"
            ],
            [
             0.8888888888888888,
             "#fdca26"
            ],
            [
             1,
             "#f0f921"
            ]
           ],
           "sequentialminus": [
            [
             0,
             "#0d0887"
            ],
            [
             0.1111111111111111,
             "#46039f"
            ],
            [
             0.2222222222222222,
             "#7201a8"
            ],
            [
             0.3333333333333333,
             "#9c179e"
            ],
            [
             0.4444444444444444,
             "#bd3786"
            ],
            [
             0.5555555555555556,
             "#d8576b"
            ],
            [
             0.6666666666666666,
             "#ed7953"
            ],
            [
             0.7777777777777778,
             "#fb9f3a"
            ],
            [
             0.8888888888888888,
             "#fdca26"
            ],
            [
             1,
             "#f0f921"
            ]
           ]
          },
          "colorway": [
           "#636efa",
           "#EF553B",
           "#00cc96",
           "#ab63fa",
           "#FFA15A",
           "#19d3f3",
           "#FF6692",
           "#B6E880",
           "#FF97FF",
           "#FECB52"
          ],
          "font": {
           "color": "#2a3f5f"
          },
          "geo": {
           "bgcolor": "white",
           "lakecolor": "white",
           "landcolor": "#E5ECF6",
           "showlakes": true,
           "showland": true,
           "subunitcolor": "white"
          },
          "hoverlabel": {
           "align": "left"
          },
          "hovermode": "closest",
          "mapbox": {
           "style": "light"
          },
          "paper_bgcolor": "white",
          "plot_bgcolor": "#E5ECF6",
          "polar": {
           "angularaxis": {
            "gridcolor": "white",
            "linecolor": "white",
            "ticks": ""
           },
           "bgcolor": "#E5ECF6",
           "radialaxis": {
            "gridcolor": "white",
            "linecolor": "white",
            "ticks": ""
           }
          },
          "scene": {
           "xaxis": {
            "backgroundcolor": "#E5ECF6",
            "gridcolor": "white",
            "gridwidth": 2,
            "linecolor": "white",
            "showbackground": true,
            "ticks": "",
            "zerolinecolor": "white"
           },
           "yaxis": {
            "backgroundcolor": "#E5ECF6",
            "gridcolor": "white",
            "gridwidth": 2,
            "linecolor": "white",
            "showbackground": true,
            "ticks": "",
            "zerolinecolor": "white"
           },
           "zaxis": {
            "backgroundcolor": "#E5ECF6",
            "gridcolor": "white",
            "gridwidth": 2,
            "linecolor": "white",
            "showbackground": true,
            "ticks": "",
            "zerolinecolor": "white"
           }
          },
          "shapedefaults": {
           "line": {
            "color": "#2a3f5f"
           }
          },
          "ternary": {
           "aaxis": {
            "gridcolor": "white",
            "linecolor": "white",
            "ticks": ""
           },
           "baxis": {
            "gridcolor": "white",
            "linecolor": "white",
            "ticks": ""
           },
           "bgcolor": "#E5ECF6",
           "caxis": {
            "gridcolor": "white",
            "linecolor": "white",
            "ticks": ""
           }
          },
          "title": {
           "x": 0.05
          },
          "xaxis": {
           "automargin": true,
           "gridcolor": "white",
           "linecolor": "white",
           "ticks": "",
           "title": {
            "standoff": 15
           },
           "zerolinecolor": "white",
           "zerolinewidth": 2
          },
          "yaxis": {
           "automargin": true,
           "gridcolor": "white",
           "linecolor": "white",
           "ticks": "",
           "title": {
            "standoff": 15
           },
           "zerolinecolor": "white",
           "zerolinewidth": 2
          }
         }
        },
        "title": {
         "text": "ENCODE: Task Accuracy per assay (min_predScore=0.60)"
        },
        "width": 800,
        "xaxis": {
         "title": {
          "text": "Classification task"
         }
        },
        "yaxis": {
         "range": [
          0,
          1.01
         ],
         "title": {
          "text": "Accuracy"
         }
        }
       }
      }
     },
     "metadata": {},
     "output_type": "display_data"
    },
    {
     "data": {
      "application/vnd.plotly.v1+json": {
       "config": {
        "plotlyServerURL": "https://plot.ly"
       },
       "data": [
        {
         "boxmean": true,
         "boxpoints": "outliers",
         "hoverinfo": "skip",
         "marker": {
          "color": "gray"
         },
         "name": "f1-score",
         "showlegend": false,
         "type": "box",
         "x": [
          "cell type",
          "cell type",
          "cell type",
          "cell type",
          "cell type",
          "cell type",
          "cell type",
          "cell type"
         ],
         "y": [
          0.87,
          0.8525345622119815,
          0.791928501605921,
          1,
          0.849624060150376,
          0.75,
          1,
          0.8788358208955224
         ]
        },
        {
         "hoverinfo": "text",
         "hovertext": [
          "h3k4me3: 0.870",
          "h3k27ac: 0.853",
          "h3k4me1: 0.792",
          "h3k36me3: 1.000",
          "h3k27me3: 0.850",
          "h3k9me3: 0.750",
          "input: 1.000",
          "rna_seq: 0.879"
         ],
         "marker": {
          "color": [
           "rgb(238,30,37)",
           "rgb(225,148,37)",
           "rgb(236,232,56)",
           "rgb(13,127,66)",
           "rgb(184,185,189)",
           "rgb(144,206,219)",
           "rgb(30,30,30)",
           "rgb(30,176,75)"
          ]
         },
         "mode": "markers",
         "name": "cell type",
         "showlegend": false,
         "type": "scatter",
         "x": [
          "cell type",
          "cell type",
          "cell type",
          "cell type",
          "cell type",
          "cell type",
          "cell type",
          "cell type"
         ],
         "y": [
          0.87,
          0.8525345622119815,
          0.791928501605921,
          1,
          0.849624060150376,
          0.75,
          1,
          0.8788358208955224
         ]
        },
        {
         "boxmean": true,
         "boxpoints": "outliers",
         "hoverinfo": "skip",
         "marker": {
          "color": "gray"
         },
         "name": "f1-score",
         "showlegend": false,
         "type": "box",
         "x": [
          "biomaterial_type",
          "biomaterial_type",
          "biomaterial_type",
          "biomaterial_type",
          "biomaterial_type",
          "biomaterial_type",
          "biomaterial_type",
          "biomaterial_type"
         ],
         "y": [
          0.940201524558462,
          0.9261927831721882,
          0.6984366066323613,
          0.927091591131,
          0.9569345798853996,
          0.8958122194631187,
          0.6471405442262692,
          0.66914487361
         ]
        },
        {
         "hoverinfo": "text",
         "hovertext": [
          "h3k4me3: 0.940",
          "h3k27ac: 0.926",
          "h3k4me1: 0.698",
          "h3k36me3: 0.927",
          "h3k27me3: 0.957",
          "h3k9me3: 0.896",
          "input: 0.647",
          "rna_seq: 0.669"
         ],
         "marker": {
          "color": [
           "rgb(238,30,37)",
           "rgb(225,148,37)",
           "rgb(236,232,56)",
           "rgb(13,127,66)",
           "rgb(184,185,189)",
           "rgb(144,206,219)",
           "rgb(30,30,30)",
           "rgb(30,176,75)"
          ]
         },
         "mode": "markers",
         "name": "biomaterial_type",
         "showlegend": false,
         "type": "scatter",
         "x": [
          "biomaterial_type",
          "biomaterial_type",
          "biomaterial_type",
          "biomaterial_type",
          "biomaterial_type",
          "biomaterial_type",
          "biomaterial_type",
          "biomaterial_type"
         ],
         "y": [
          0.940201524558462,
          0.9261927831721882,
          0.6984366066323613,
          0.927091591131,
          0.9569345798853996,
          0.8958122194631187,
          0.6471405442262692,
          0.66914487361
         ]
        },
        {
         "boxmean": true,
         "boxpoints": "outliers",
         "hoverinfo": "skip",
         "marker": {
          "color": "gray"
         },
         "name": "f1-score",
         "showlegend": false,
         "type": "box",
         "x": [
          "cancer",
          "cancer",
          "cancer",
          "cancer",
          "cancer",
          "cancer",
          "cancer"
         ],
         "y": [
          0.9107692307692308,
          0.9122039009679459,
          0.8815668202764977,
          0.7716601747552374,
          0.8375973303670745,
          0.562055768179333,
          0.9239948316485521
         ]
        },
        {
         "hoverinfo": "text",
         "hovertext": [
          "h3k4me3: 0.911",
          "h3k27ac: 0.912",
          "h3k4me1: 0.882",
          "h3k36me3: 0.772",
          "h3k27me3: 0.838",
          "h3k9me3: 0.562",
          "input: 0.924"
         ],
         "marker": {
          "color": [
           "rgb(238,30,37)",
           "rgb(225,148,37)",
           "rgb(236,232,56)",
           "rgb(13,127,66)",
           "rgb(184,185,189)",
           "rgb(144,206,219)",
           "rgb(30,30,30)"
          ]
         },
         "mode": "markers",
         "name": "cancer",
         "showlegend": false,
         "type": "scatter",
         "x": [
          "cancer",
          "cancer",
          "cancer",
          "cancer",
          "cancer",
          "cancer",
          "cancer"
         ],
         "y": [
          0.9107692307692308,
          0.9122039009679459,
          0.8815668202764977,
          0.7716601747552374,
          0.8375973303670745,
          0.562055768179333,
          0.9239948316485521
         ]
        },
        {
         "boxmean": true,
         "boxpoints": "outliers",
         "hoverinfo": "skip",
         "marker": {
          "color": "gray"
         },
         "name": "f1-score",
         "showlegend": false,
         "type": "box",
         "x": [
          "sex",
          "sex",
          "sex",
          "sex",
          "sex",
          "sex",
          "sex",
          "sex"
         ],
         "y": [
          0.9641687141687142,
          0.5496232959943439,
          0.5650085763293311,
          0.9533153777093754,
          0.9421714954638571,
          0.9615874363327674,
          0.6439161382966175,
          0.476854787571338
         ]
        },
        {
         "hoverinfo": "text",
         "hovertext": [
          "h3k4me3: 0.964",
          "h3k27ac: 0.550",
          "h3k4me1: 0.565",
          "h3k36me3: 0.953",
          "h3k27me3: 0.942",
          "h3k9me3: 0.962",
          "input: 0.644",
          "rna_seq: 0.477"
         ],
         "marker": {
          "color": [
           "rgb(238,30,37)",
           "rgb(225,148,37)",
           "rgb(236,232,56)",
           "rgb(13,127,66)",
           "rgb(184,185,189)",
           "rgb(144,206,219)",
           "rgb(30,30,30)",
           "rgb(30,176,75)"
          ]
         },
         "mode": "markers",
         "name": "sex",
         "showlegend": false,
         "type": "scatter",
         "x": [
          "sex",
          "sex",
          "sex",
          "sex",
          "sex",
          "sex",
          "sex",
          "sex"
         ],
         "y": [
          0.9641687141687142,
          0.5496232959943439,
          0.5650085763293311,
          0.9533153777093754,
          0.9421714954638571,
          0.9615874363327674,
          0.6439161382966175,
          0.476854787571338
         ]
        },
        {
         "boxmean": true,
         "boxpoints": "outliers",
         "hoverinfo": "skip",
         "marker": {
          "color": "gray"
         },
         "name": "f1-score",
         "showlegend": false,
         "type": "box",
         "x": [
          "life stage (merged)",
          "life stage (merged)",
          "life stage (merged)",
          "life stage (merged)",
          "life stage (merged)",
          "life stage (merged)",
          "life stage (merged)",
          "life stage (merged)"
         ],
         "y": [
          0.548440065681445,
          0.4405659346662296,
          0.44438264738598443,
          0.610093896713615,
          0.6802884615384616,
          0.45248868778280543,
          0.31661104471177687,
          0.4494491314254729
         ]
        },
        {
         "hoverinfo": "text",
         "hovertext": [
          "h3k4me3: 0.548",
          "h3k27ac: 0.441",
          "h3k4me1: 0.444",
          "h3k36me3: 0.610",
          "h3k27me3: 0.680",
          "h3k9me3: 0.452",
          "input: 0.317",
          "rna_seq: 0.449"
         ],
         "marker": {
          "color": [
           "rgb(238,30,37)",
           "rgb(225,148,37)",
           "rgb(236,232,56)",
           "rgb(13,127,66)",
           "rgb(184,185,189)",
           "rgb(144,206,219)",
           "rgb(30,30,30)",
           "rgb(30,176,75)"
          ]
         },
         "mode": "markers",
         "name": "life stage (merged)",
         "showlegend": false,
         "type": "scatter",
         "x": [
          "life stage (merged)",
          "life stage (merged)",
          "life stage (merged)",
          "life stage (merged)",
          "life stage (merged)",
          "life stage (merged)",
          "life stage (merged)",
          "life stage (merged)"
         ],
         "y": [
          0.548440065681445,
          0.4405659346662296,
          0.44438264738598443,
          0.610093896713615,
          0.6802884615384616,
          0.45248868778280543,
          0.31661104471177687,
          0.4494491314254729
         ]
        },
        {
         "boxmean": true,
         "boxpoints": "outliers",
         "hoverinfo": "skip",
         "marker": {
          "color": "gray"
         },
         "name": "f1-score",
         "showlegend": false,
         "type": "box",
         "x": [
          "life stage",
          "life stage",
          "life stage",
          "life stage",
          "life stage",
          "life stage",
          "life stage",
          "life stage"
         ],
         "y": [
          0.43870221327967807,
          0.38481921446284295,
          0.3945907613513247,
          0.6522751322751323,
          0.5113172274949669,
          0.5398550724637681,
          0.3413735573328139,
          0.39762270984481346
         ]
        },
        {
         "hoverinfo": "text",
         "hovertext": [
          "h3k4me3: 0.439",
          "h3k27ac: 0.385",
          "h3k4me1: 0.395",
          "h3k36me3: 0.652",
          "h3k27me3: 0.511",
          "h3k9me3: 0.540",
          "input: 0.341",
          "rna_seq: 0.398"
         ],
         "marker": {
          "color": [
           "rgb(238,30,37)",
           "rgb(225,148,37)",
           "rgb(236,232,56)",
           "rgb(13,127,66)",
           "rgb(184,185,189)",
           "rgb(144,206,219)",
           "rgb(30,30,30)",
           "rgb(30,176,75)"
          ]
         },
         "mode": "markers",
         "name": "life stage",
         "showlegend": false,
         "type": "scatter",
         "x": [
          "life stage",
          "life stage",
          "life stage",
          "life stage",
          "life stage",
          "life stage",
          "life stage",
          "life stage"
         ],
         "y": [
          0.43870221327967807,
          0.38481921446284295,
          0.3945907613513247,
          0.6522751322751323,
          0.5113172274949669,
          0.5398550724637681,
          0.3413735573328139,
          0.39762270984481346
         ]
        }
       ],
       "layout": {
        "font": {
         "size": 18
        },
        "height": 600,
        "template": {
         "data": {
          "bar": [
           {
            "error_x": {
             "color": "#2a3f5f"
            },
            "error_y": {
             "color": "#2a3f5f"
            },
            "marker": {
             "line": {
              "color": "#E5ECF6",
              "width": 0.5
             },
             "pattern": {
              "fillmode": "overlay",
              "size": 10,
              "solidity": 0.2
             }
            },
            "type": "bar"
           }
          ],
          "barpolar": [
           {
            "marker": {
             "line": {
              "color": "#E5ECF6",
              "width": 0.5
             },
             "pattern": {
              "fillmode": "overlay",
              "size": 10,
              "solidity": 0.2
             }
            },
            "type": "barpolar"
           }
          ],
          "carpet": [
           {
            "aaxis": {
             "endlinecolor": "#2a3f5f",
             "gridcolor": "white",
             "linecolor": "white",
             "minorgridcolor": "white",
             "startlinecolor": "#2a3f5f"
            },
            "baxis": {
             "endlinecolor": "#2a3f5f",
             "gridcolor": "white",
             "linecolor": "white",
             "minorgridcolor": "white",
             "startlinecolor": "#2a3f5f"
            },
            "type": "carpet"
           }
          ],
          "choropleth": [
           {
            "colorbar": {
             "outlinewidth": 0,
             "ticks": ""
            },
            "type": "choropleth"
           }
          ],
          "contour": [
           {
            "colorbar": {
             "outlinewidth": 0,
             "ticks": ""
            },
            "colorscale": [
             [
              0,
              "#0d0887"
             ],
             [
              0.1111111111111111,
              "#46039f"
             ],
             [
              0.2222222222222222,
              "#7201a8"
             ],
             [
              0.3333333333333333,
              "#9c179e"
             ],
             [
              0.4444444444444444,
              "#bd3786"
             ],
             [
              0.5555555555555556,
              "#d8576b"
             ],
             [
              0.6666666666666666,
              "#ed7953"
             ],
             [
              0.7777777777777778,
              "#fb9f3a"
             ],
             [
              0.8888888888888888,
              "#fdca26"
             ],
             [
              1,
              "#f0f921"
             ]
            ],
            "type": "contour"
           }
          ],
          "contourcarpet": [
           {
            "colorbar": {
             "outlinewidth": 0,
             "ticks": ""
            },
            "type": "contourcarpet"
           }
          ],
          "heatmap": [
           {
            "colorbar": {
             "outlinewidth": 0,
             "ticks": ""
            },
            "colorscale": [
             [
              0,
              "#0d0887"
             ],
             [
              0.1111111111111111,
              "#46039f"
             ],
             [
              0.2222222222222222,
              "#7201a8"
             ],
             [
              0.3333333333333333,
              "#9c179e"
             ],
             [
              0.4444444444444444,
              "#bd3786"
             ],
             [
              0.5555555555555556,
              "#d8576b"
             ],
             [
              0.6666666666666666,
              "#ed7953"
             ],
             [
              0.7777777777777778,
              "#fb9f3a"
             ],
             [
              0.8888888888888888,
              "#fdca26"
             ],
             [
              1,
              "#f0f921"
             ]
            ],
            "type": "heatmap"
           }
          ],
          "heatmapgl": [
           {
            "colorbar": {
             "outlinewidth": 0,
             "ticks": ""
            },
            "colorscale": [
             [
              0,
              "#0d0887"
             ],
             [
              0.1111111111111111,
              "#46039f"
             ],
             [
              0.2222222222222222,
              "#7201a8"
             ],
             [
              0.3333333333333333,
              "#9c179e"
             ],
             [
              0.4444444444444444,
              "#bd3786"
             ],
             [
              0.5555555555555556,
              "#d8576b"
             ],
             [
              0.6666666666666666,
              "#ed7953"
             ],
             [
              0.7777777777777778,
              "#fb9f3a"
             ],
             [
              0.8888888888888888,
              "#fdca26"
             ],
             [
              1,
              "#f0f921"
             ]
            ],
            "type": "heatmapgl"
           }
          ],
          "histogram": [
           {
            "marker": {
             "pattern": {
              "fillmode": "overlay",
              "size": 10,
              "solidity": 0.2
             }
            },
            "type": "histogram"
           }
          ],
          "histogram2d": [
           {
            "colorbar": {
             "outlinewidth": 0,
             "ticks": ""
            },
            "colorscale": [
             [
              0,
              "#0d0887"
             ],
             [
              0.1111111111111111,
              "#46039f"
             ],
             [
              0.2222222222222222,
              "#7201a8"
             ],
             [
              0.3333333333333333,
              "#9c179e"
             ],
             [
              0.4444444444444444,
              "#bd3786"
             ],
             [
              0.5555555555555556,
              "#d8576b"
             ],
             [
              0.6666666666666666,
              "#ed7953"
             ],
             [
              0.7777777777777778,
              "#fb9f3a"
             ],
             [
              0.8888888888888888,
              "#fdca26"
             ],
             [
              1,
              "#f0f921"
             ]
            ],
            "type": "histogram2d"
           }
          ],
          "histogram2dcontour": [
           {
            "colorbar": {
             "outlinewidth": 0,
             "ticks": ""
            },
            "colorscale": [
             [
              0,
              "#0d0887"
             ],
             [
              0.1111111111111111,
              "#46039f"
             ],
             [
              0.2222222222222222,
              "#7201a8"
             ],
             [
              0.3333333333333333,
              "#9c179e"
             ],
             [
              0.4444444444444444,
              "#bd3786"
             ],
             [
              0.5555555555555556,
              "#d8576b"
             ],
             [
              0.6666666666666666,
              "#ed7953"
             ],
             [
              0.7777777777777778,
              "#fb9f3a"
             ],
             [
              0.8888888888888888,
              "#fdca26"
             ],
             [
              1,
              "#f0f921"
             ]
            ],
            "type": "histogram2dcontour"
           }
          ],
          "mesh3d": [
           {
            "colorbar": {
             "outlinewidth": 0,
             "ticks": ""
            },
            "type": "mesh3d"
           }
          ],
          "parcoords": [
           {
            "line": {
             "colorbar": {
              "outlinewidth": 0,
              "ticks": ""
             }
            },
            "type": "parcoords"
           }
          ],
          "pie": [
           {
            "automargin": true,
            "type": "pie"
           }
          ],
          "scatter": [
           {
            "fillpattern": {
             "fillmode": "overlay",
             "size": 10,
             "solidity": 0.2
            },
            "type": "scatter"
           }
          ],
          "scatter3d": [
           {
            "line": {
             "colorbar": {
              "outlinewidth": 0,
              "ticks": ""
             }
            },
            "marker": {
             "colorbar": {
              "outlinewidth": 0,
              "ticks": ""
             }
            },
            "type": "scatter3d"
           }
          ],
          "scattercarpet": [
           {
            "marker": {
             "colorbar": {
              "outlinewidth": 0,
              "ticks": ""
             }
            },
            "type": "scattercarpet"
           }
          ],
          "scattergeo": [
           {
            "marker": {
             "colorbar": {
              "outlinewidth": 0,
              "ticks": ""
             }
            },
            "type": "scattergeo"
           }
          ],
          "scattergl": [
           {
            "marker": {
             "colorbar": {
              "outlinewidth": 0,
              "ticks": ""
             }
            },
            "type": "scattergl"
           }
          ],
          "scattermapbox": [
           {
            "marker": {
             "colorbar": {
              "outlinewidth": 0,
              "ticks": ""
             }
            },
            "type": "scattermapbox"
           }
          ],
          "scatterpolar": [
           {
            "marker": {
             "colorbar": {
              "outlinewidth": 0,
              "ticks": ""
             }
            },
            "type": "scatterpolar"
           }
          ],
          "scatterpolargl": [
           {
            "marker": {
             "colorbar": {
              "outlinewidth": 0,
              "ticks": ""
             }
            },
            "type": "scatterpolargl"
           }
          ],
          "scatterternary": [
           {
            "marker": {
             "colorbar": {
              "outlinewidth": 0,
              "ticks": ""
             }
            },
            "type": "scatterternary"
           }
          ],
          "surface": [
           {
            "colorbar": {
             "outlinewidth": 0,
             "ticks": ""
            },
            "colorscale": [
             [
              0,
              "#0d0887"
             ],
             [
              0.1111111111111111,
              "#46039f"
             ],
             [
              0.2222222222222222,
              "#7201a8"
             ],
             [
              0.3333333333333333,
              "#9c179e"
             ],
             [
              0.4444444444444444,
              "#bd3786"
             ],
             [
              0.5555555555555556,
              "#d8576b"
             ],
             [
              0.6666666666666666,
              "#ed7953"
             ],
             [
              0.7777777777777778,
              "#fb9f3a"
             ],
             [
              0.8888888888888888,
              "#fdca26"
             ],
             [
              1,
              "#f0f921"
             ]
            ],
            "type": "surface"
           }
          ],
          "table": [
           {
            "cells": {
             "fill": {
              "color": "#EBF0F8"
             },
             "line": {
              "color": "white"
             }
            },
            "header": {
             "fill": {
              "color": "#C8D4E3"
             },
             "line": {
              "color": "white"
             }
            },
            "type": "table"
           }
          ]
         },
         "layout": {
          "annotationdefaults": {
           "arrowcolor": "#2a3f5f",
           "arrowhead": 0,
           "arrowwidth": 1
          },
          "autotypenumbers": "strict",
          "coloraxis": {
           "colorbar": {
            "outlinewidth": 0,
            "ticks": ""
           }
          },
          "colorscale": {
           "diverging": [
            [
             0,
             "#8e0152"
            ],
            [
             0.1,
             "#c51b7d"
            ],
            [
             0.2,
             "#de77ae"
            ],
            [
             0.3,
             "#f1b6da"
            ],
            [
             0.4,
             "#fde0ef"
            ],
            [
             0.5,
             "#f7f7f7"
            ],
            [
             0.6,
             "#e6f5d0"
            ],
            [
             0.7,
             "#b8e186"
            ],
            [
             0.8,
             "#7fbc41"
            ],
            [
             0.9,
             "#4d9221"
            ],
            [
             1,
             "#276419"
            ]
           ],
           "sequential": [
            [
             0,
             "#0d0887"
            ],
            [
             0.1111111111111111,
             "#46039f"
            ],
            [
             0.2222222222222222,
             "#7201a8"
            ],
            [
             0.3333333333333333,
             "#9c179e"
            ],
            [
             0.4444444444444444,
             "#bd3786"
            ],
            [
             0.5555555555555556,
             "#d8576b"
            ],
            [
             0.6666666666666666,
             "#ed7953"
            ],
            [
             0.7777777777777778,
             "#fb9f3a"
            ],
            [
             0.8888888888888888,
             "#fdca26"
            ],
            [
             1,
             "#f0f921"
            ]
           ],
           "sequentialminus": [
            [
             0,
             "#0d0887"
            ],
            [
             0.1111111111111111,
             "#46039f"
            ],
            [
             0.2222222222222222,
             "#7201a8"
            ],
            [
             0.3333333333333333,
             "#9c179e"
            ],
            [
             0.4444444444444444,
             "#bd3786"
            ],
            [
             0.5555555555555556,
             "#d8576b"
            ],
            [
             0.6666666666666666,
             "#ed7953"
            ],
            [
             0.7777777777777778,
             "#fb9f3a"
            ],
            [
             0.8888888888888888,
             "#fdca26"
            ],
            [
             1,
             "#f0f921"
            ]
           ]
          },
          "colorway": [
           "#636efa",
           "#EF553B",
           "#00cc96",
           "#ab63fa",
           "#FFA15A",
           "#19d3f3",
           "#FF6692",
           "#B6E880",
           "#FF97FF",
           "#FECB52"
          ],
          "font": {
           "color": "#2a3f5f"
          },
          "geo": {
           "bgcolor": "white",
           "lakecolor": "white",
           "landcolor": "#E5ECF6",
           "showlakes": true,
           "showland": true,
           "subunitcolor": "white"
          },
          "hoverlabel": {
           "align": "left"
          },
          "hovermode": "closest",
          "mapbox": {
           "style": "light"
          },
          "paper_bgcolor": "white",
          "plot_bgcolor": "#E5ECF6",
          "polar": {
           "angularaxis": {
            "gridcolor": "white",
            "linecolor": "white",
            "ticks": ""
           },
           "bgcolor": "#E5ECF6",
           "radialaxis": {
            "gridcolor": "white",
            "linecolor": "white",
            "ticks": ""
           }
          },
          "scene": {
           "xaxis": {
            "backgroundcolor": "#E5ECF6",
            "gridcolor": "white",
            "gridwidth": 2,
            "linecolor": "white",
            "showbackground": true,
            "ticks": "",
            "zerolinecolor": "white"
           },
           "yaxis": {
            "backgroundcolor": "#E5ECF6",
            "gridcolor": "white",
            "gridwidth": 2,
            "linecolor": "white",
            "showbackground": true,
            "ticks": "",
            "zerolinecolor": "white"
           },
           "zaxis": {
            "backgroundcolor": "#E5ECF6",
            "gridcolor": "white",
            "gridwidth": 2,
            "linecolor": "white",
            "showbackground": true,
            "ticks": "",
            "zerolinecolor": "white"
           }
          },
          "shapedefaults": {
           "line": {
            "color": "#2a3f5f"
           }
          },
          "ternary": {
           "aaxis": {
            "gridcolor": "white",
            "linecolor": "white",
            "ticks": ""
           },
           "baxis": {
            "gridcolor": "white",
            "linecolor": "white",
            "ticks": ""
           },
           "bgcolor": "#E5ECF6",
           "caxis": {
            "gridcolor": "white",
            "linecolor": "white",
            "ticks": ""
           }
          },
          "title": {
           "x": 0.05
          },
          "xaxis": {
           "automargin": true,
           "gridcolor": "white",
           "linecolor": "white",
           "ticks": "",
           "title": {
            "standoff": 15
           },
           "zerolinecolor": "white",
           "zerolinewidth": 2
          },
          "yaxis": {
           "automargin": true,
           "gridcolor": "white",
           "linecolor": "white",
           "ticks": "",
           "title": {
            "standoff": 15
           },
           "zerolinecolor": "white",
           "zerolinewidth": 2
          }
         }
        },
        "title": {
         "text": "ENCODE: Task F1-score per assay (min_predScore=0.60)"
        },
        "width": 800,
        "xaxis": {
         "title": {
          "text": "Classification task"
         }
        },
        "yaxis": {
         "range": [
          0,
          1.01
         ],
         "title": {
          "text": "F1-score"
         }
        }
       }
      }
     },
     "metadata": {},
     "output_type": "display_data"
    },
    {
     "data": {
      "application/vnd.plotly.v1+json": {
       "config": {
        "plotlyServerURL": "https://plot.ly"
       },
       "data": [
        {
         "boxmean": true,
         "boxpoints": "outliers",
         "hoverinfo": "skip",
         "marker": {
          "color": "gray"
         },
         "name": "acc",
         "showlegend": false,
         "type": "box",
         "x": [
          "assay_7c",
          "assay_7c",
          "assay_7c",
          "assay_7c",
          "assay_7c",
          "assay_7c",
          "assay_7c"
         ],
         "y": [
          1,
          1,
          0.9921875,
          0.9705882352941176,
          0.9826989619377162,
          1,
          1
         ]
        },
        {
         "hoverinfo": "text",
         "hovertext": [
          "h3k4me3: 1.000",
          "h3k27ac: 1.000",
          "h3k4me1: 0.992",
          "h3k36me3: 0.971",
          "h3k27me3: 0.983",
          "h3k9me3: 1.000",
          "input: 1.000"
         ],
         "marker": {
          "color": [
           "rgb(238,30,37)",
           "rgb(225,148,37)",
           "rgb(236,232,56)",
           "rgb(13,127,66)",
           "rgb(184,185,189)",
           "rgb(144,206,219)",
           "rgb(30,30,30)"
          ]
         },
         "mode": "markers",
         "name": "assay_7c",
         "showlegend": false,
         "type": "scatter",
         "x": [
          "assay_7c",
          "assay_7c",
          "assay_7c",
          "assay_7c",
          "assay_7c",
          "assay_7c",
          "assay_7c"
         ],
         "y": [
          1,
          1,
          0.9921875,
          0.9705882352941176,
          0.9826989619377162,
          1,
          1
         ]
        },
        {
         "boxmean": true,
         "boxpoints": "outliers",
         "hoverinfo": "skip",
         "marker": {
          "color": "gray"
         },
         "name": "acc",
         "showlegend": false,
         "type": "box",
         "x": [
          "assay_11c",
          "assay_11c",
          "assay_11c",
          "assay_11c",
          "assay_11c",
          "assay_11c",
          "assay_11c",
          "assay_11c"
         ],
         "y": [
          1,
          1,
          0.9960629921259843,
          0.9656652360515021,
          0.9826388888888888,
          0.9914529914529915,
          0.9835589941972921,
          1
         ]
        },
        {
         "hoverinfo": "text",
         "hovertext": [
          "h3k4me3: 1.000",
          "h3k27ac: 1.000",
          "h3k4me1: 0.996",
          "h3k36me3: 0.966",
          "h3k27me3: 0.983",
          "h3k9me3: 0.991",
          "input: 0.984",
          "rna_seq: 1.000"
         ],
         "marker": {
          "color": [
           "rgb(238,30,37)",
           "rgb(225,148,37)",
           "rgb(236,232,56)",
           "rgb(13,127,66)",
           "rgb(184,185,189)",
           "rgb(144,206,219)",
           "rgb(30,30,30)",
           "rgb(30,176,75)"
          ]
         },
         "mode": "markers",
         "name": "assay_11c",
         "showlegend": false,
         "type": "scatter",
         "x": [
          "assay_11c",
          "assay_11c",
          "assay_11c",
          "assay_11c",
          "assay_11c",
          "assay_11c",
          "assay_11c",
          "assay_11c"
         ],
         "y": [
          1,
          1,
          0.9960629921259843,
          0.9656652360515021,
          0.9826388888888888,
          0.9914529914529915,
          0.9835589941972921,
          1
         ]
        },
        {
         "boxmean": true,
         "boxpoints": "outliers",
         "hoverinfo": "skip",
         "marker": {
          "color": "gray"
         },
         "name": "acc",
         "showlegend": false,
         "type": "box",
         "x": [
          "biomaterial_type",
          "biomaterial_type",
          "biomaterial_type",
          "biomaterial_type",
          "biomaterial_type",
          "biomaterial_type",
          "biomaterial_type",
          "biomaterial_type"
         ],
         "y": [
          0.9483282674772037,
          0.9537037037037037,
          0.9411764705882353,
          0.9607843137254902,
          0.9836734693877551,
          0.9852941176470589,
          0.9641921397379912,
          0.9616161616161616
         ]
        },
        {
         "hoverinfo": "text",
         "hovertext": [
          "h3k4me3: 0.948",
          "h3k27ac: 0.954",
          "h3k4me1: 0.941",
          "h3k36me3: 0.961",
          "h3k27me3: 0.984",
          "h3k9me3: 0.985",
          "input: 0.964",
          "rna_seq: 0.962"
         ],
         "marker": {
          "color": [
           "rgb(238,30,37)",
           "rgb(225,148,37)",
           "rgb(236,232,56)",
           "rgb(13,127,66)",
           "rgb(184,185,189)",
           "rgb(144,206,219)",
           "rgb(30,30,30)",
           "rgb(30,176,75)"
          ]
         },
         "mode": "markers",
         "name": "biomaterial_type",
         "showlegend": false,
         "type": "scatter",
         "x": [
          "biomaterial_type",
          "biomaterial_type",
          "biomaterial_type",
          "biomaterial_type",
          "biomaterial_type",
          "biomaterial_type",
          "biomaterial_type",
          "biomaterial_type"
         ],
         "y": [
          0.9483282674772037,
          0.9537037037037037,
          0.9411764705882353,
          0.9607843137254902,
          0.9836734693877551,
          0.9852941176470589,
          0.9641921397379912,
          0.9616161616161616
         ]
        },
        {
         "boxmean": true,
         "boxpoints": "outliers",
         "hoverinfo": "skip",
         "marker": {
          "color": "gray"
         },
         "name": "acc",
         "showlegend": false,
         "type": "box",
         "x": [
          "cell type",
          "cell type",
          "cell type",
          "cell type",
          "cell type",
          "cell type",
          "cell type",
          "cell type"
         ],
         "y": [
          1,
          0.9666666666666667,
          0.9642857142857143,
          1,
          0.9545454545454546,
          0.9333333333333333,
          1,
          0.9375
         ]
        },
        {
         "hoverinfo": "text",
         "hovertext": [
          "h3k4me3: 1.000",
          "h3k27ac: 0.967",
          "h3k4me1: 0.964",
          "h3k36me3: 1.000",
          "h3k27me3: 0.955",
          "h3k9me3: 0.933",
          "input: 1.000",
          "rna_seq: 0.938"
         ],
         "marker": {
          "color": [
           "rgb(238,30,37)",
           "rgb(225,148,37)",
           "rgb(236,232,56)",
           "rgb(13,127,66)",
           "rgb(184,185,189)",
           "rgb(144,206,219)",
           "rgb(30,30,30)",
           "rgb(30,176,75)"
          ]
         },
         "mode": "markers",
         "name": "cell type",
         "showlegend": false,
         "type": "scatter",
         "x": [
          "cell type",
          "cell type",
          "cell type",
          "cell type",
          "cell type",
          "cell type",
          "cell type",
          "cell type"
         ],
         "y": [
          1,
          0.9666666666666667,
          0.9642857142857143,
          1,
          0.9545454545454546,
          0.9333333333333333,
          1,
          0.9375
         ]
        },
        {
         "boxmean": true,
         "boxpoints": "outliers",
         "hoverinfo": "skip",
         "marker": {
          "color": "gray"
         },
         "name": "acc",
         "showlegend": false,
         "type": "box",
         "x": [
          "cancer",
          "cancer",
          "cancer",
          "cancer",
          "cancer",
          "cancer",
          "cancer"
         ],
         "y": [
          0.9566395663956639,
          0.96,
          0.9404761904761905,
          0.9013452914798207,
          0.9498207885304659,
          0.5956284153005464,
          0.93717277486911
         ]
        },
        {
         "hoverinfo": "text",
         "hovertext": [
          "h3k4me3: 0.957",
          "h3k27ac: 0.960",
          "h3k4me1: 0.940",
          "h3k36me3: 0.901",
          "h3k27me3: 0.950",
          "h3k9me3: 0.596",
          "input: 0.937"
         ],
         "marker": {
          "color": [
           "rgb(238,30,37)",
           "rgb(225,148,37)",
           "rgb(236,232,56)",
           "rgb(13,127,66)",
           "rgb(184,185,189)",
           "rgb(144,206,219)",
           "rgb(30,30,30)"
          ]
         },
         "mode": "markers",
         "name": "cancer",
         "showlegend": false,
         "type": "scatter",
         "x": [
          "cancer",
          "cancer",
          "cancer",
          "cancer",
          "cancer",
          "cancer",
          "cancer"
         ],
         "y": [
          0.9566395663956639,
          0.96,
          0.9404761904761905,
          0.9013452914798207,
          0.9498207885304659,
          0.5956284153005464,
          0.93717277486911
         ]
        },
        {
         "boxmean": true,
         "boxpoints": "outliers",
         "hoverinfo": "skip",
         "marker": {
          "color": "gray"
         },
         "name": "acc",
         "showlegend": false,
         "type": "box",
         "x": [
          "sex",
          "sex",
          "sex",
          "sex",
          "sex",
          "sex",
          "sex",
          "sex"
         ],
         "y": [
          0.974025974025974,
          0.9247311827956989,
          0.9272727272727272,
          0.9815950920245399,
          0.9719626168224299,
          0.9775280898876404,
          0.9637436762225969,
          0.7555555555555555
         ]
        },
        {
         "hoverinfo": "text",
         "hovertext": [
          "h3k4me3: 0.974",
          "h3k27ac: 0.925",
          "h3k4me1: 0.927",
          "h3k36me3: 0.982",
          "h3k27me3: 0.972",
          "h3k9me3: 0.978",
          "input: 0.964",
          "rna_seq: 0.756"
         ],
         "marker": {
          "color": [
           "rgb(238,30,37)",
           "rgb(225,148,37)",
           "rgb(236,232,56)",
           "rgb(13,127,66)",
           "rgb(184,185,189)",
           "rgb(144,206,219)",
           "rgb(30,30,30)",
           "rgb(30,176,75)"
          ]
         },
         "mode": "markers",
         "name": "sex",
         "showlegend": false,
         "type": "scatter",
         "x": [
          "sex",
          "sex",
          "sex",
          "sex",
          "sex",
          "sex",
          "sex",
          "sex"
         ],
         "y": [
          0.974025974025974,
          0.9247311827956989,
          0.9272727272727272,
          0.9815950920245399,
          0.9719626168224299,
          0.9775280898876404,
          0.9637436762225969,
          0.7555555555555555
         ]
        },
        {
         "boxmean": true,
         "boxpoints": "outliers",
         "hoverinfo": "skip",
         "marker": {
          "color": "gray"
         },
         "name": "acc",
         "showlegend": false,
         "type": "box",
         "x": [
          "life stage (merged)",
          "life stage (merged)",
          "life stage (merged)",
          "life stage (merged)",
          "life stage (merged)",
          "life stage (merged)",
          "life stage (merged)",
          "life stage (merged)"
         ],
         "y": [
          0.945273631840796,
          0.9106382978723404,
          0.8561151079136691,
          0.8981481481481481,
          0.8838709677419355,
          0.8469387755102041,
          0.7713787085514834,
          0.8428761651131824
         ]
        },
        {
         "hoverinfo": "text",
         "hovertext": [
          "h3k4me3: 0.945",
          "h3k27ac: 0.911",
          "h3k4me1: 0.856",
          "h3k36me3: 0.898",
          "h3k27me3: 0.884",
          "h3k9me3: 0.847",
          "input: 0.771",
          "rna_seq: 0.843"
         ],
         "marker": {
          "color": [
           "rgb(238,30,37)",
           "rgb(225,148,37)",
           "rgb(236,232,56)",
           "rgb(13,127,66)",
           "rgb(184,185,189)",
           "rgb(144,206,219)",
           "rgb(30,30,30)",
           "rgb(30,176,75)"
          ]
         },
         "mode": "markers",
         "name": "life stage (merged)",
         "showlegend": false,
         "type": "scatter",
         "x": [
          "life stage (merged)",
          "life stage (merged)",
          "life stage (merged)",
          "life stage (merged)",
          "life stage (merged)",
          "life stage (merged)",
          "life stage (merged)",
          "life stage (merged)"
         ],
         "y": [
          0.945273631840796,
          0.9106382978723404,
          0.8561151079136691,
          0.8981481481481481,
          0.8838709677419355,
          0.8469387755102041,
          0.7713787085514834,
          0.8428761651131824
         ]
        },
        {
         "boxmean": true,
         "boxpoints": "outliers",
         "hoverinfo": "skip",
         "marker": {
          "color": "gray"
         },
         "name": "acc",
         "showlegend": false,
         "type": "box",
         "x": [
          "life stage",
          "life stage",
          "life stage",
          "life stage",
          "life stage",
          "life stage",
          "life stage",
          "life stage"
         ],
         "y": [
          0.8958333333333334,
          0.8503649635036497,
          0.8022598870056498,
          0.8424657534246576,
          0.8540540540540541,
          0.8225806451612904,
          0.7063253012048193,
          0.8201892744479495
         ]
        },
        {
         "hoverinfo": "text",
         "hovertext": [
          "h3k4me3: 0.896",
          "h3k27ac: 0.850",
          "h3k4me1: 0.802",
          "h3k36me3: 0.842",
          "h3k27me3: 0.854",
          "h3k9me3: 0.823",
          "input: 0.706",
          "rna_seq: 0.820"
         ],
         "marker": {
          "color": [
           "rgb(238,30,37)",
           "rgb(225,148,37)",
           "rgb(236,232,56)",
           "rgb(13,127,66)",
           "rgb(184,185,189)",
           "rgb(144,206,219)",
           "rgb(30,30,30)",
           "rgb(30,176,75)"
          ]
         },
         "mode": "markers",
         "name": "life stage",
         "showlegend": false,
         "type": "scatter",
         "x": [
          "life stage",
          "life stage",
          "life stage",
          "life stage",
          "life stage",
          "life stage",
          "life stage",
          "life stage"
         ],
         "y": [
          0.8958333333333334,
          0.8503649635036497,
          0.8022598870056498,
          0.8424657534246576,
          0.8540540540540541,
          0.8225806451612904,
          0.7063253012048193,
          0.8201892744479495
         ]
        }
       ],
       "layout": {
        "font": {
         "size": 18
        },
        "height": 600,
        "template": {
         "data": {
          "bar": [
           {
            "error_x": {
             "color": "#2a3f5f"
            },
            "error_y": {
             "color": "#2a3f5f"
            },
            "marker": {
             "line": {
              "color": "#E5ECF6",
              "width": 0.5
             },
             "pattern": {
              "fillmode": "overlay",
              "size": 10,
              "solidity": 0.2
             }
            },
            "type": "bar"
           }
          ],
          "barpolar": [
           {
            "marker": {
             "line": {
              "color": "#E5ECF6",
              "width": 0.5
             },
             "pattern": {
              "fillmode": "overlay",
              "size": 10,
              "solidity": 0.2
             }
            },
            "type": "barpolar"
           }
          ],
          "carpet": [
           {
            "aaxis": {
             "endlinecolor": "#2a3f5f",
             "gridcolor": "white",
             "linecolor": "white",
             "minorgridcolor": "white",
             "startlinecolor": "#2a3f5f"
            },
            "baxis": {
             "endlinecolor": "#2a3f5f",
             "gridcolor": "white",
             "linecolor": "white",
             "minorgridcolor": "white",
             "startlinecolor": "#2a3f5f"
            },
            "type": "carpet"
           }
          ],
          "choropleth": [
           {
            "colorbar": {
             "outlinewidth": 0,
             "ticks": ""
            },
            "type": "choropleth"
           }
          ],
          "contour": [
           {
            "colorbar": {
             "outlinewidth": 0,
             "ticks": ""
            },
            "colorscale": [
             [
              0,
              "#0d0887"
             ],
             [
              0.1111111111111111,
              "#46039f"
             ],
             [
              0.2222222222222222,
              "#7201a8"
             ],
             [
              0.3333333333333333,
              "#9c179e"
             ],
             [
              0.4444444444444444,
              "#bd3786"
             ],
             [
              0.5555555555555556,
              "#d8576b"
             ],
             [
              0.6666666666666666,
              "#ed7953"
             ],
             [
              0.7777777777777778,
              "#fb9f3a"
             ],
             [
              0.8888888888888888,
              "#fdca26"
             ],
             [
              1,
              "#f0f921"
             ]
            ],
            "type": "contour"
           }
          ],
          "contourcarpet": [
           {
            "colorbar": {
             "outlinewidth": 0,
             "ticks": ""
            },
            "type": "contourcarpet"
           }
          ],
          "heatmap": [
           {
            "colorbar": {
             "outlinewidth": 0,
             "ticks": ""
            },
            "colorscale": [
             [
              0,
              "#0d0887"
             ],
             [
              0.1111111111111111,
              "#46039f"
             ],
             [
              0.2222222222222222,
              "#7201a8"
             ],
             [
              0.3333333333333333,
              "#9c179e"
             ],
             [
              0.4444444444444444,
              "#bd3786"
             ],
             [
              0.5555555555555556,
              "#d8576b"
             ],
             [
              0.6666666666666666,
              "#ed7953"
             ],
             [
              0.7777777777777778,
              "#fb9f3a"
             ],
             [
              0.8888888888888888,
              "#fdca26"
             ],
             [
              1,
              "#f0f921"
             ]
            ],
            "type": "heatmap"
           }
          ],
          "heatmapgl": [
           {
            "colorbar": {
             "outlinewidth": 0,
             "ticks": ""
            },
            "colorscale": [
             [
              0,
              "#0d0887"
             ],
             [
              0.1111111111111111,
              "#46039f"
             ],
             [
              0.2222222222222222,
              "#7201a8"
             ],
             [
              0.3333333333333333,
              "#9c179e"
             ],
             [
              0.4444444444444444,
              "#bd3786"
             ],
             [
              0.5555555555555556,
              "#d8576b"
             ],
             [
              0.6666666666666666,
              "#ed7953"
             ],
             [
              0.7777777777777778,
              "#fb9f3a"
             ],
             [
              0.8888888888888888,
              "#fdca26"
             ],
             [
              1,
              "#f0f921"
             ]
            ],
            "type": "heatmapgl"
           }
          ],
          "histogram": [
           {
            "marker": {
             "pattern": {
              "fillmode": "overlay",
              "size": 10,
              "solidity": 0.2
             }
            },
            "type": "histogram"
           }
          ],
          "histogram2d": [
           {
            "colorbar": {
             "outlinewidth": 0,
             "ticks": ""
            },
            "colorscale": [
             [
              0,
              "#0d0887"
             ],
             [
              0.1111111111111111,
              "#46039f"
             ],
             [
              0.2222222222222222,
              "#7201a8"
             ],
             [
              0.3333333333333333,
              "#9c179e"
             ],
             [
              0.4444444444444444,
              "#bd3786"
             ],
             [
              0.5555555555555556,
              "#d8576b"
             ],
             [
              0.6666666666666666,
              "#ed7953"
             ],
             [
              0.7777777777777778,
              "#fb9f3a"
             ],
             [
              0.8888888888888888,
              "#fdca26"
             ],
             [
              1,
              "#f0f921"
             ]
            ],
            "type": "histogram2d"
           }
          ],
          "histogram2dcontour": [
           {
            "colorbar": {
             "outlinewidth": 0,
             "ticks": ""
            },
            "colorscale": [
             [
              0,
              "#0d0887"
             ],
             [
              0.1111111111111111,
              "#46039f"
             ],
             [
              0.2222222222222222,
              "#7201a8"
             ],
             [
              0.3333333333333333,
              "#9c179e"
             ],
             [
              0.4444444444444444,
              "#bd3786"
             ],
             [
              0.5555555555555556,
              "#d8576b"
             ],
             [
              0.6666666666666666,
              "#ed7953"
             ],
             [
              0.7777777777777778,
              "#fb9f3a"
             ],
             [
              0.8888888888888888,
              "#fdca26"
             ],
             [
              1,
              "#f0f921"
             ]
            ],
            "type": "histogram2dcontour"
           }
          ],
          "mesh3d": [
           {
            "colorbar": {
             "outlinewidth": 0,
             "ticks": ""
            },
            "type": "mesh3d"
           }
          ],
          "parcoords": [
           {
            "line": {
             "colorbar": {
              "outlinewidth": 0,
              "ticks": ""
             }
            },
            "type": "parcoords"
           }
          ],
          "pie": [
           {
            "automargin": true,
            "type": "pie"
           }
          ],
          "scatter": [
           {
            "fillpattern": {
             "fillmode": "overlay",
             "size": 10,
             "solidity": 0.2
            },
            "type": "scatter"
           }
          ],
          "scatter3d": [
           {
            "line": {
             "colorbar": {
              "outlinewidth": 0,
              "ticks": ""
             }
            },
            "marker": {
             "colorbar": {
              "outlinewidth": 0,
              "ticks": ""
             }
            },
            "type": "scatter3d"
           }
          ],
          "scattercarpet": [
           {
            "marker": {
             "colorbar": {
              "outlinewidth": 0,
              "ticks": ""
             }
            },
            "type": "scattercarpet"
           }
          ],
          "scattergeo": [
           {
            "marker": {
             "colorbar": {
              "outlinewidth": 0,
              "ticks": ""
             }
            },
            "type": "scattergeo"
           }
          ],
          "scattergl": [
           {
            "marker": {
             "colorbar": {
              "outlinewidth": 0,
              "ticks": ""
             }
            },
            "type": "scattergl"
           }
          ],
          "scattermapbox": [
           {
            "marker": {
             "colorbar": {
              "outlinewidth": 0,
              "ticks": ""
             }
            },
            "type": "scattermapbox"
           }
          ],
          "scatterpolar": [
           {
            "marker": {
             "colorbar": {
              "outlinewidth": 0,
              "ticks": ""
             }
            },
            "type": "scatterpolar"
           }
          ],
          "scatterpolargl": [
           {
            "marker": {
             "colorbar": {
              "outlinewidth": 0,
              "ticks": ""
             }
            },
            "type": "scatterpolargl"
           }
          ],
          "scatterternary": [
           {
            "marker": {
             "colorbar": {
              "outlinewidth": 0,
              "ticks": ""
             }
            },
            "type": "scatterternary"
           }
          ],
          "surface": [
           {
            "colorbar": {
             "outlinewidth": 0,
             "ticks": ""
            },
            "colorscale": [
             [
              0,
              "#0d0887"
             ],
             [
              0.1111111111111111,
              "#46039f"
             ],
             [
              0.2222222222222222,
              "#7201a8"
             ],
             [
              0.3333333333333333,
              "#9c179e"
             ],
             [
              0.4444444444444444,
              "#bd3786"
             ],
             [
              0.5555555555555556,
              "#d8576b"
             ],
             [
              0.6666666666666666,
              "#ed7953"
             ],
             [
              0.7777777777777778,
              "#fb9f3a"
             ],
             [
              0.8888888888888888,
              "#fdca26"
             ],
             [
              1,
              "#f0f921"
             ]
            ],
            "type": "surface"
           }
          ],
          "table": [
           {
            "cells": {
             "fill": {
              "color": "#EBF0F8"
             },
             "line": {
              "color": "white"
             }
            },
            "header": {
             "fill": {
              "color": "#C8D4E3"
             },
             "line": {
              "color": "white"
             }
            },
            "type": "table"
           }
          ]
         },
         "layout": {
          "annotationdefaults": {
           "arrowcolor": "#2a3f5f",
           "arrowhead": 0,
           "arrowwidth": 1
          },
          "autotypenumbers": "strict",
          "coloraxis": {
           "colorbar": {
            "outlinewidth": 0,
            "ticks": ""
           }
          },
          "colorscale": {
           "diverging": [
            [
             0,
             "#8e0152"
            ],
            [
             0.1,
             "#c51b7d"
            ],
            [
             0.2,
             "#de77ae"
            ],
            [
             0.3,
             "#f1b6da"
            ],
            [
             0.4,
             "#fde0ef"
            ],
            [
             0.5,
             "#f7f7f7"
            ],
            [
             0.6,
             "#e6f5d0"
            ],
            [
             0.7,
             "#b8e186"
            ],
            [
             0.8,
             "#7fbc41"
            ],
            [
             0.9,
             "#4d9221"
            ],
            [
             1,
             "#276419"
            ]
           ],
           "sequential": [
            [
             0,
             "#0d0887"
            ],
            [
             0.1111111111111111,
             "#46039f"
            ],
            [
             0.2222222222222222,
             "#7201a8"
            ],
            [
             0.3333333333333333,
             "#9c179e"
            ],
            [
             0.4444444444444444,
             "#bd3786"
            ],
            [
             0.5555555555555556,
             "#d8576b"
            ],
            [
             0.6666666666666666,
             "#ed7953"
            ],
            [
             0.7777777777777778,
             "#fb9f3a"
            ],
            [
             0.8888888888888888,
             "#fdca26"
            ],
            [
             1,
             "#f0f921"
            ]
           ],
           "sequentialminus": [
            [
             0,
             "#0d0887"
            ],
            [
             0.1111111111111111,
             "#46039f"
            ],
            [
             0.2222222222222222,
             "#7201a8"
            ],
            [
             0.3333333333333333,
             "#9c179e"
            ],
            [
             0.4444444444444444,
             "#bd3786"
            ],
            [
             0.5555555555555556,
             "#d8576b"
            ],
            [
             0.6666666666666666,
             "#ed7953"
            ],
            [
             0.7777777777777778,
             "#fb9f3a"
            ],
            [
             0.8888888888888888,
             "#fdca26"
            ],
            [
             1,
             "#f0f921"
            ]
           ]
          },
          "colorway": [
           "#636efa",
           "#EF553B",
           "#00cc96",
           "#ab63fa",
           "#FFA15A",
           "#19d3f3",
           "#FF6692",
           "#B6E880",
           "#FF97FF",
           "#FECB52"
          ],
          "font": {
           "color": "#2a3f5f"
          },
          "geo": {
           "bgcolor": "white",
           "lakecolor": "white",
           "landcolor": "#E5ECF6",
           "showlakes": true,
           "showland": true,
           "subunitcolor": "white"
          },
          "hoverlabel": {
           "align": "left"
          },
          "hovermode": "closest",
          "mapbox": {
           "style": "light"
          },
          "paper_bgcolor": "white",
          "plot_bgcolor": "#E5ECF6",
          "polar": {
           "angularaxis": {
            "gridcolor": "white",
            "linecolor": "white",
            "ticks": ""
           },
           "bgcolor": "#E5ECF6",
           "radialaxis": {
            "gridcolor": "white",
            "linecolor": "white",
            "ticks": ""
           }
          },
          "scene": {
           "xaxis": {
            "backgroundcolor": "#E5ECF6",
            "gridcolor": "white",
            "gridwidth": 2,
            "linecolor": "white",
            "showbackground": true,
            "ticks": "",
            "zerolinecolor": "white"
           },
           "yaxis": {
            "backgroundcolor": "#E5ECF6",
            "gridcolor": "white",
            "gridwidth": 2,
            "linecolor": "white",
            "showbackground": true,
            "ticks": "",
            "zerolinecolor": "white"
           },
           "zaxis": {
            "backgroundcolor": "#E5ECF6",
            "gridcolor": "white",
            "gridwidth": 2,
            "linecolor": "white",
            "showbackground": true,
            "ticks": "",
            "zerolinecolor": "white"
           }
          },
          "shapedefaults": {
           "line": {
            "color": "#2a3f5f"
           }
          },
          "ternary": {
           "aaxis": {
            "gridcolor": "white",
            "linecolor": "white",
            "ticks": ""
           },
           "baxis": {
            "gridcolor": "white",
            "linecolor": "white",
            "ticks": ""
           },
           "bgcolor": "#E5ECF6",
           "caxis": {
            "gridcolor": "white",
            "linecolor": "white",
            "ticks": ""
           }
          },
          "title": {
           "x": 0.05
          },
          "xaxis": {
           "automargin": true,
           "gridcolor": "white",
           "linecolor": "white",
           "ticks": "",
           "title": {
            "standoff": 15
           },
           "zerolinecolor": "white",
           "zerolinewidth": 2
          },
          "yaxis": {
           "automargin": true,
           "gridcolor": "white",
           "linecolor": "white",
           "ticks": "",
           "title": {
            "standoff": 15
           },
           "zerolinecolor": "white",
           "zerolinewidth": 2
          }
         }
        },
        "title": {
         "text": "ENCODE: Task Accuracy per assay (min_predScore=0.80)"
        },
        "width": 800,
        "xaxis": {
         "title": {
          "text": "Classification task"
         }
        },
        "yaxis": {
         "range": [
          0,
          1.01
         ],
         "title": {
          "text": "Accuracy"
         }
        }
       }
      }
     },
     "metadata": {},
     "output_type": "display_data"
    },
    {
     "data": {
      "application/vnd.plotly.v1+json": {
       "config": {
        "plotlyServerURL": "https://plot.ly"
       },
       "data": [
        {
         "boxmean": true,
         "boxpoints": "outliers",
         "hoverinfo": "skip",
         "marker": {
          "color": "gray"
         },
         "name": "f1-score",
         "showlegend": false,
         "type": "box",
         "x": [
          "biomaterial_type",
          "biomaterial_type",
          "biomaterial_type",
          "biomaterial_type",
          "biomaterial_type",
          "biomaterial_type",
          "biomaterial_type",
          "biomaterial_type"
         ],
         "y": [
          0.9407836894451665,
          0.9352998108676239,
          0.934094797464999,
          0.9532631421744325,
          0.9752012977795186,
          0.97839193910046,
          0.6398746609021625,
          0.7103861196520264
         ]
        },
        {
         "hoverinfo": "text",
         "hovertext": [
          "h3k4me3: 0.941",
          "h3k27ac: 0.935",
          "h3k4me1: 0.934",
          "h3k36me3: 0.953",
          "h3k27me3: 0.975",
          "h3k9me3: 0.978",
          "input: 0.640",
          "rna_seq: 0.710"
         ],
         "marker": {
          "color": [
           "rgb(238,30,37)",
           "rgb(225,148,37)",
           "rgb(236,232,56)",
           "rgb(13,127,66)",
           "rgb(184,185,189)",
           "rgb(144,206,219)",
           "rgb(30,30,30)",
           "rgb(30,176,75)"
          ]
         },
         "mode": "markers",
         "name": "biomaterial_type",
         "showlegend": false,
         "type": "scatter",
         "x": [
          "biomaterial_type",
          "biomaterial_type",
          "biomaterial_type",
          "biomaterial_type",
          "biomaterial_type",
          "biomaterial_type",
          "biomaterial_type",
          "biomaterial_type"
         ],
         "y": [
          0.9407836894451665,
          0.9352998108676239,
          0.934094797464999,
          0.9532631421744325,
          0.9752012977795186,
          0.97839193910046,
          0.6398746609021625,
          0.7103861196520264
         ]
        },
        {
         "boxmean": true,
         "boxpoints": "outliers",
         "hoverinfo": "skip",
         "marker": {
          "color": "gray"
         },
         "name": "f1-score",
         "showlegend": false,
         "type": "box",
         "x": [
          "cell type",
          "cell type",
          "cell type",
          "cell type",
          "cell type",
          "cell type",
          "cell type",
          "cell type"
         ],
         "y": [
          1,
          0.8275862068965517,
          0.925925925925926,
          1,
          0.8487394957983193,
          0.7333333333333333,
          1,
          0.875
         ]
        },
        {
         "hoverinfo": "text",
         "hovertext": [
          "h3k4me3: 1.000",
          "h3k27ac: 0.828",
          "h3k4me1: 0.926",
          "h3k36me3: 1.000",
          "h3k27me3: 0.849",
          "h3k9me3: 0.733",
          "input: 1.000",
          "rna_seq: 0.875"
         ],
         "marker": {
          "color": [
           "rgb(238,30,37)",
           "rgb(225,148,37)",
           "rgb(236,232,56)",
           "rgb(13,127,66)",
           "rgb(184,185,189)",
           "rgb(144,206,219)",
           "rgb(30,30,30)",
           "rgb(30,176,75)"
          ]
         },
         "mode": "markers",
         "name": "cell type",
         "showlegend": false,
         "type": "scatter",
         "x": [
          "cell type",
          "cell type",
          "cell type",
          "cell type",
          "cell type",
          "cell type",
          "cell type",
          "cell type"
         ],
         "y": [
          1,
          0.8275862068965517,
          0.925925925925926,
          1,
          0.8487394957983193,
          0.7333333333333333,
          1,
          0.875
         ]
        },
        {
         "boxmean": true,
         "boxpoints": "outliers",
         "hoverinfo": "skip",
         "marker": {
          "color": "gray"
         },
         "name": "f1-score",
         "showlegend": false,
         "type": "box",
         "x": [
          "cancer",
          "cancer",
          "cancer",
          "cancer",
          "cancer",
          "cancer",
          "cancer"
         ],
         "y": [
          0.9089900110987792,
          0.9154939293598234,
          0.8874162323157111,
          0.7993291884816754,
          0.8610557768924303,
          0.5719974715549936,
          0.9365448504983389
         ]
        },
        {
         "hoverinfo": "text",
         "hovertext": [
          "h3k4me3: 0.909",
          "h3k27ac: 0.915",
          "h3k4me1: 0.887",
          "h3k36me3: 0.799",
          "h3k27me3: 0.861",
          "h3k9me3: 0.572",
          "input: 0.937"
         ],
         "marker": {
          "color": [
           "rgb(238,30,37)",
           "rgb(225,148,37)",
           "rgb(236,232,56)",
           "rgb(13,127,66)",
           "rgb(184,185,189)",
           "rgb(144,206,219)",
           "rgb(30,30,30)"
          ]
         },
         "mode": "markers",
         "name": "cancer",
         "showlegend": false,
         "type": "scatter",
         "x": [
          "cancer",
          "cancer",
          "cancer",
          "cancer",
          "cancer",
          "cancer",
          "cancer"
         ],
         "y": [
          0.9089900110987792,
          0.9154939293598234,
          0.8874162323157111,
          0.7993291884816754,
          0.8610557768924303,
          0.5719974715549936,
          0.9365448504983389
         ]
        },
        {
         "boxmean": true,
         "boxpoints": "outliers",
         "hoverinfo": "skip",
         "marker": {
          "color": "gray"
         },
         "name": "f1-score",
         "showlegend": false,
         "type": "box",
         "x": [
          "sex",
          "sex",
          "sex",
          "sex",
          "sex",
          "sex",
          "sex",
          "sex"
         ],
         "y": [
          0.9739159891598916,
          0.6088697749561972,
          0.6050658755223784,
          0.9796834101956873,
          0.9714005702066999,
          0.9739461358313817,
          0.6482949308755761,
          0.489188615388458
         ]
        },
        {
         "hoverinfo": "text",
         "hovertext": [
          "h3k4me3: 0.974",
          "h3k27ac: 0.609",
          "h3k4me1: 0.605",
          "h3k36me3: 0.980",
          "h3k27me3: 0.971",
          "h3k9me3: 0.974",
          "input: 0.648",
          "rna_seq: 0.489"
         ],
         "marker": {
          "color": [
           "rgb(238,30,37)",
           "rgb(225,148,37)",
           "rgb(236,232,56)",
           "rgb(13,127,66)",
           "rgb(184,185,189)",
           "rgb(144,206,219)",
           "rgb(30,30,30)",
           "rgb(30,176,75)"
          ]
         },
         "mode": "markers",
         "name": "sex",
         "showlegend": false,
         "type": "scatter",
         "x": [
          "sex",
          "sex",
          "sex",
          "sex",
          "sex",
          "sex",
          "sex",
          "sex"
         ],
         "y": [
          0.9739159891598916,
          0.6088697749561972,
          0.6050658755223784,
          0.9796834101956873,
          0.9714005702066999,
          0.9739461358313817,
          0.6482949308755761,
          0.489188615388458
         ]
        },
        {
         "boxmean": true,
         "boxpoints": "outliers",
         "hoverinfo": "skip",
         "marker": {
          "color": "gray"
         },
         "name": "f1-score",
         "showlegend": false,
         "type": "box",
         "x": [
          "life stage (merged)",
          "life stage (merged)",
          "life stage (merged)",
          "life stage (merged)",
          "life stage (merged)",
          "life stage (merged)",
          "life stage (merged)",
          "life stage (merged)"
         ],
         "y": [
          0.5458809733216065,
          0.6612671897409939,
          0.4441640968133819,
          0.6866475233309404,
          0.7176258992805755,
          0.4585635359116022,
          0.39610978013320536,
          0.46688862562468514
         ]
        },
        {
         "hoverinfo": "text",
         "hovertext": [
          "h3k4me3: 0.546",
          "h3k27ac: 0.661",
          "h3k4me1: 0.444",
          "h3k36me3: 0.687",
          "h3k27me3: 0.718",
          "h3k9me3: 0.459",
          "input: 0.396",
          "rna_seq: 0.467"
         ],
         "marker": {
          "color": [
           "rgb(238,30,37)",
           "rgb(225,148,37)",
           "rgb(236,232,56)",
           "rgb(13,127,66)",
           "rgb(184,185,189)",
           "rgb(144,206,219)",
           "rgb(30,30,30)",
           "rgb(30,176,75)"
          ]
         },
         "mode": "markers",
         "name": "life stage (merged)",
         "showlegend": false,
         "type": "scatter",
         "x": [
          "life stage (merged)",
          "life stage (merged)",
          "life stage (merged)",
          "life stage (merged)",
          "life stage (merged)",
          "life stage (merged)",
          "life stage (merged)",
          "life stage (merged)"
         ],
         "y": [
          0.5458809733216065,
          0.6612671897409939,
          0.4441640968133819,
          0.6866475233309404,
          0.7176258992805755,
          0.4585635359116022,
          0.39610978013320536,
          0.46688862562468514
         ]
        },
        {
         "boxmean": true,
         "boxpoints": "outliers",
         "hoverinfo": "skip",
         "marker": {
          "color": "gray"
         },
         "name": "f1-score",
         "showlegend": false,
         "type": "box",
         "x": [
          "life stage",
          "life stage",
          "life stage",
          "life stage",
          "life stage",
          "life stage",
          "life stage",
          "life stage"
         ],
         "y": [
          0.5978766025641026,
          0.48912511697628047,
          0.5001368060730254,
          0.705448717948718,
          0.7265857756530174,
          0.5805805805805806,
          0.400328243293324,
          0.42027170097781663
         ]
        },
        {
         "hoverinfo": "text",
         "hovertext": [
          "h3k4me3: 0.598",
          "h3k27ac: 0.489",
          "h3k4me1: 0.500",
          "h3k36me3: 0.705",
          "h3k27me3: 0.727",
          "h3k9me3: 0.581",
          "input: 0.400",
          "rna_seq: 0.420"
         ],
         "marker": {
          "color": [
           "rgb(238,30,37)",
           "rgb(225,148,37)",
           "rgb(236,232,56)",
           "rgb(13,127,66)",
           "rgb(184,185,189)",
           "rgb(144,206,219)",
           "rgb(30,30,30)",
           "rgb(30,176,75)"
          ]
         },
         "mode": "markers",
         "name": "life stage",
         "showlegend": false,
         "type": "scatter",
         "x": [
          "life stage",
          "life stage",
          "life stage",
          "life stage",
          "life stage",
          "life stage",
          "life stage",
          "life stage"
         ],
         "y": [
          0.5978766025641026,
          0.48912511697628047,
          0.5001368060730254,
          0.705448717948718,
          0.7265857756530174,
          0.5805805805805806,
          0.400328243293324,
          0.42027170097781663
         ]
        }
       ],
       "layout": {
        "font": {
         "size": 18
        },
        "height": 600,
        "template": {
         "data": {
          "bar": [
           {
            "error_x": {
             "color": "#2a3f5f"
            },
            "error_y": {
             "color": "#2a3f5f"
            },
            "marker": {
             "line": {
              "color": "#E5ECF6",
              "width": 0.5
             },
             "pattern": {
              "fillmode": "overlay",
              "size": 10,
              "solidity": 0.2
             }
            },
            "type": "bar"
           }
          ],
          "barpolar": [
           {
            "marker": {
             "line": {
              "color": "#E5ECF6",
              "width": 0.5
             },
             "pattern": {
              "fillmode": "overlay",
              "size": 10,
              "solidity": 0.2
             }
            },
            "type": "barpolar"
           }
          ],
          "carpet": [
           {
            "aaxis": {
             "endlinecolor": "#2a3f5f",
             "gridcolor": "white",
             "linecolor": "white",
             "minorgridcolor": "white",
             "startlinecolor": "#2a3f5f"
            },
            "baxis": {
             "endlinecolor": "#2a3f5f",
             "gridcolor": "white",
             "linecolor": "white",
             "minorgridcolor": "white",
             "startlinecolor": "#2a3f5f"
            },
            "type": "carpet"
           }
          ],
          "choropleth": [
           {
            "colorbar": {
             "outlinewidth": 0,
             "ticks": ""
            },
            "type": "choropleth"
           }
          ],
          "contour": [
           {
            "colorbar": {
             "outlinewidth": 0,
             "ticks": ""
            },
            "colorscale": [
             [
              0,
              "#0d0887"
             ],
             [
              0.1111111111111111,
              "#46039f"
             ],
             [
              0.2222222222222222,
              "#7201a8"
             ],
             [
              0.3333333333333333,
              "#9c179e"
             ],
             [
              0.4444444444444444,
              "#bd3786"
             ],
             [
              0.5555555555555556,
              "#d8576b"
             ],
             [
              0.6666666666666666,
              "#ed7953"
             ],
             [
              0.7777777777777778,
              "#fb9f3a"
             ],
             [
              0.8888888888888888,
              "#fdca26"
             ],
             [
              1,
              "#f0f921"
             ]
            ],
            "type": "contour"
           }
          ],
          "contourcarpet": [
           {
            "colorbar": {
             "outlinewidth": 0,
             "ticks": ""
            },
            "type": "contourcarpet"
           }
          ],
          "heatmap": [
           {
            "colorbar": {
             "outlinewidth": 0,
             "ticks": ""
            },
            "colorscale": [
             [
              0,
              "#0d0887"
             ],
             [
              0.1111111111111111,
              "#46039f"
             ],
             [
              0.2222222222222222,
              "#7201a8"
             ],
             [
              0.3333333333333333,
              "#9c179e"
             ],
             [
              0.4444444444444444,
              "#bd3786"
             ],
             [
              0.5555555555555556,
              "#d8576b"
             ],
             [
              0.6666666666666666,
              "#ed7953"
             ],
             [
              0.7777777777777778,
              "#fb9f3a"
             ],
             [
              0.8888888888888888,
              "#fdca26"
             ],
             [
              1,
              "#f0f921"
             ]
            ],
            "type": "heatmap"
           }
          ],
          "heatmapgl": [
           {
            "colorbar": {
             "outlinewidth": 0,
             "ticks": ""
            },
            "colorscale": [
             [
              0,
              "#0d0887"
             ],
             [
              0.1111111111111111,
              "#46039f"
             ],
             [
              0.2222222222222222,
              "#7201a8"
             ],
             [
              0.3333333333333333,
              "#9c179e"
             ],
             [
              0.4444444444444444,
              "#bd3786"
             ],
             [
              0.5555555555555556,
              "#d8576b"
             ],
             [
              0.6666666666666666,
              "#ed7953"
             ],
             [
              0.7777777777777778,
              "#fb9f3a"
             ],
             [
              0.8888888888888888,
              "#fdca26"
             ],
             [
              1,
              "#f0f921"
             ]
            ],
            "type": "heatmapgl"
           }
          ],
          "histogram": [
           {
            "marker": {
             "pattern": {
              "fillmode": "overlay",
              "size": 10,
              "solidity": 0.2
             }
            },
            "type": "histogram"
           }
          ],
          "histogram2d": [
           {
            "colorbar": {
             "outlinewidth": 0,
             "ticks": ""
            },
            "colorscale": [
             [
              0,
              "#0d0887"
             ],
             [
              0.1111111111111111,
              "#46039f"
             ],
             [
              0.2222222222222222,
              "#7201a8"
             ],
             [
              0.3333333333333333,
              "#9c179e"
             ],
             [
              0.4444444444444444,
              "#bd3786"
             ],
             [
              0.5555555555555556,
              "#d8576b"
             ],
             [
              0.6666666666666666,
              "#ed7953"
             ],
             [
              0.7777777777777778,
              "#fb9f3a"
             ],
             [
              0.8888888888888888,
              "#fdca26"
             ],
             [
              1,
              "#f0f921"
             ]
            ],
            "type": "histogram2d"
           }
          ],
          "histogram2dcontour": [
           {
            "colorbar": {
             "outlinewidth": 0,
             "ticks": ""
            },
            "colorscale": [
             [
              0,
              "#0d0887"
             ],
             [
              0.1111111111111111,
              "#46039f"
             ],
             [
              0.2222222222222222,
              "#7201a8"
             ],
             [
              0.3333333333333333,
              "#9c179e"
             ],
             [
              0.4444444444444444,
              "#bd3786"
             ],
             [
              0.5555555555555556,
              "#d8576b"
             ],
             [
              0.6666666666666666,
              "#ed7953"
             ],
             [
              0.7777777777777778,
              "#fb9f3a"
             ],
             [
              0.8888888888888888,
              "#fdca26"
             ],
             [
              1,
              "#f0f921"
             ]
            ],
            "type": "histogram2dcontour"
           }
          ],
          "mesh3d": [
           {
            "colorbar": {
             "outlinewidth": 0,
             "ticks": ""
            },
            "type": "mesh3d"
           }
          ],
          "parcoords": [
           {
            "line": {
             "colorbar": {
              "outlinewidth": 0,
              "ticks": ""
             }
            },
            "type": "parcoords"
           }
          ],
          "pie": [
           {
            "automargin": true,
            "type": "pie"
           }
          ],
          "scatter": [
           {
            "fillpattern": {
             "fillmode": "overlay",
             "size": 10,
             "solidity": 0.2
            },
            "type": "scatter"
           }
          ],
          "scatter3d": [
           {
            "line": {
             "colorbar": {
              "outlinewidth": 0,
              "ticks": ""
             }
            },
            "marker": {
             "colorbar": {
              "outlinewidth": 0,
              "ticks": ""
             }
            },
            "type": "scatter3d"
           }
          ],
          "scattercarpet": [
           {
            "marker": {
             "colorbar": {
              "outlinewidth": 0,
              "ticks": ""
             }
            },
            "type": "scattercarpet"
           }
          ],
          "scattergeo": [
           {
            "marker": {
             "colorbar": {
              "outlinewidth": 0,
              "ticks": ""
             }
            },
            "type": "scattergeo"
           }
          ],
          "scattergl": [
           {
            "marker": {
             "colorbar": {
              "outlinewidth": 0,
              "ticks": ""
             }
            },
            "type": "scattergl"
           }
          ],
          "scattermapbox": [
           {
            "marker": {
             "colorbar": {
              "outlinewidth": 0,
              "ticks": ""
             }
            },
            "type": "scattermapbox"
           }
          ],
          "scatterpolar": [
           {
            "marker": {
             "colorbar": {
              "outlinewidth": 0,
              "ticks": ""
             }
            },
            "type": "scatterpolar"
           }
          ],
          "scatterpolargl": [
           {
            "marker": {
             "colorbar": {
              "outlinewidth": 0,
              "ticks": ""
             }
            },
            "type": "scatterpolargl"
           }
          ],
          "scatterternary": [
           {
            "marker": {
             "colorbar": {
              "outlinewidth": 0,
              "ticks": ""
             }
            },
            "type": "scatterternary"
           }
          ],
          "surface": [
           {
            "colorbar": {
             "outlinewidth": 0,
             "ticks": ""
            },
            "colorscale": [
             [
              0,
              "#0d0887"
             ],
             [
              0.1111111111111111,
              "#46039f"
             ],
             [
              0.2222222222222222,
              "#7201a8"
             ],
             [
              0.3333333333333333,
              "#9c179e"
             ],
             [
              0.4444444444444444,
              "#bd3786"
             ],
             [
              0.5555555555555556,
              "#d8576b"
             ],
             [
              0.6666666666666666,
              "#ed7953"
             ],
             [
              0.7777777777777778,
              "#fb9f3a"
             ],
             [
              0.8888888888888888,
              "#fdca26"
             ],
             [
              1,
              "#f0f921"
             ]
            ],
            "type": "surface"
           }
          ],
          "table": [
           {
            "cells": {
             "fill": {
              "color": "#EBF0F8"
             },
             "line": {
              "color": "white"
             }
            },
            "header": {
             "fill": {
              "color": "#C8D4E3"
             },
             "line": {
              "color": "white"
             }
            },
            "type": "table"
           }
          ]
         },
         "layout": {
          "annotationdefaults": {
           "arrowcolor": "#2a3f5f",
           "arrowhead": 0,
           "arrowwidth": 1
          },
          "autotypenumbers": "strict",
          "coloraxis": {
           "colorbar": {
            "outlinewidth": 0,
            "ticks": ""
           }
          },
          "colorscale": {
           "diverging": [
            [
             0,
             "#8e0152"
            ],
            [
             0.1,
             "#c51b7d"
            ],
            [
             0.2,
             "#de77ae"
            ],
            [
             0.3,
             "#f1b6da"
            ],
            [
             0.4,
             "#fde0ef"
            ],
            [
             0.5,
             "#f7f7f7"
            ],
            [
             0.6,
             "#e6f5d0"
            ],
            [
             0.7,
             "#b8e186"
            ],
            [
             0.8,
             "#7fbc41"
            ],
            [
             0.9,
             "#4d9221"
            ],
            [
             1,
             "#276419"
            ]
           ],
           "sequential": [
            [
             0,
             "#0d0887"
            ],
            [
             0.1111111111111111,
             "#46039f"
            ],
            [
             0.2222222222222222,
             "#7201a8"
            ],
            [
             0.3333333333333333,
             "#9c179e"
            ],
            [
             0.4444444444444444,
             "#bd3786"
            ],
            [
             0.5555555555555556,
             "#d8576b"
            ],
            [
             0.6666666666666666,
             "#ed7953"
            ],
            [
             0.7777777777777778,
             "#fb9f3a"
            ],
            [
             0.8888888888888888,
             "#fdca26"
            ],
            [
             1,
             "#f0f921"
            ]
           ],
           "sequentialminus": [
            [
             0,
             "#0d0887"
            ],
            [
             0.1111111111111111,
             "#46039f"
            ],
            [
             0.2222222222222222,
             "#7201a8"
            ],
            [
             0.3333333333333333,
             "#9c179e"
            ],
            [
             0.4444444444444444,
             "#bd3786"
            ],
            [
             0.5555555555555556,
             "#d8576b"
            ],
            [
             0.6666666666666666,
             "#ed7953"
            ],
            [
             0.7777777777777778,
             "#fb9f3a"
            ],
            [
             0.8888888888888888,
             "#fdca26"
            ],
            [
             1,
             "#f0f921"
            ]
           ]
          },
          "colorway": [
           "#636efa",
           "#EF553B",
           "#00cc96",
           "#ab63fa",
           "#FFA15A",
           "#19d3f3",
           "#FF6692",
           "#B6E880",
           "#FF97FF",
           "#FECB52"
          ],
          "font": {
           "color": "#2a3f5f"
          },
          "geo": {
           "bgcolor": "white",
           "lakecolor": "white",
           "landcolor": "#E5ECF6",
           "showlakes": true,
           "showland": true,
           "subunitcolor": "white"
          },
          "hoverlabel": {
           "align": "left"
          },
          "hovermode": "closest",
          "mapbox": {
           "style": "light"
          },
          "paper_bgcolor": "white",
          "plot_bgcolor": "#E5ECF6",
          "polar": {
           "angularaxis": {
            "gridcolor": "white",
            "linecolor": "white",
            "ticks": ""
           },
           "bgcolor": "#E5ECF6",
           "radialaxis": {
            "gridcolor": "white",
            "linecolor": "white",
            "ticks": ""
           }
          },
          "scene": {
           "xaxis": {
            "backgroundcolor": "#E5ECF6",
            "gridcolor": "white",
            "gridwidth": 2,
            "linecolor": "white",
            "showbackground": true,
            "ticks": "",
            "zerolinecolor": "white"
           },
           "yaxis": {
            "backgroundcolor": "#E5ECF6",
            "gridcolor": "white",
            "gridwidth": 2,
            "linecolor": "white",
            "showbackground": true,
            "ticks": "",
            "zerolinecolor": "white"
           },
           "zaxis": {
            "backgroundcolor": "#E5ECF6",
            "gridcolor": "white",
            "gridwidth": 2,
            "linecolor": "white",
            "showbackground": true,
            "ticks": "",
            "zerolinecolor": "white"
           }
          },
          "shapedefaults": {
           "line": {
            "color": "#2a3f5f"
           }
          },
          "ternary": {
           "aaxis": {
            "gridcolor": "white",
            "linecolor": "white",
            "ticks": ""
           },
           "baxis": {
            "gridcolor": "white",
            "linecolor": "white",
            "ticks": ""
           },
           "bgcolor": "#E5ECF6",
           "caxis": {
            "gridcolor": "white",
            "linecolor": "white",
            "ticks": ""
           }
          },
          "title": {
           "x": 0.05
          },
          "xaxis": {
           "automargin": true,
           "gridcolor": "white",
           "linecolor": "white",
           "ticks": "",
           "title": {
            "standoff": 15
           },
           "zerolinecolor": "white",
           "zerolinewidth": 2
          },
          "yaxis": {
           "automargin": true,
           "gridcolor": "white",
           "linecolor": "white",
           "ticks": "",
           "title": {
            "standoff": 15
           },
           "zerolinecolor": "white",
           "zerolinewidth": 2
          }
         }
        },
        "title": {
         "text": "ENCODE: Task F1-score per assay (min_predScore=0.80)"
        },
        "width": 800,
        "xaxis": {
         "title": {
          "text": "Classification task"
         }
        },
        "yaxis": {
         "range": [
          0,
          1.01
         ],
         "title": {
          "text": "F1-score"
         }
        }
       }
      }
     },
     "metadata": {},
     "output_type": "display_data"
    },
    {
     "data": {
      "application/vnd.plotly.v1+json": {
       "config": {
        "plotlyServerURL": "https://plot.ly"
       },
       "data": [
        {
         "boxmean": true,
         "boxpoints": "outliers",
         "hoverinfo": "skip",
         "marker": {
          "color": "gray"
         },
         "name": "acc",
         "showlegend": false,
         "type": "box",
         "x": [
          "assay_7c",
          "assay_7c",
          "assay_7c",
          "assay_7c",
          "assay_7c",
          "assay_7c",
          "assay_7c"
         ],
         "y": [
          1,
          1,
          0.9960629921259843,
          0.9785407725321889,
          0.9825174825174825,
          1,
          1
         ]
        },
        {
         "hoverinfo": "text",
         "hovertext": [
          "h3k4me3: 1.000",
          "h3k27ac: 1.000",
          "h3k4me1: 0.996",
          "h3k36me3: 0.979",
          "h3k27me3: 0.983",
          "h3k9me3: 1.000",
          "input: 1.000"
         ],
         "marker": {
          "color": [
           "rgb(238,30,37)",
           "rgb(225,148,37)",
           "rgb(236,232,56)",
           "rgb(13,127,66)",
           "rgb(184,185,189)",
           "rgb(144,206,219)",
           "rgb(30,30,30)"
          ]
         },
         "mode": "markers",
         "name": "assay_7c",
         "showlegend": false,
         "type": "scatter",
         "x": [
          "assay_7c",
          "assay_7c",
          "assay_7c",
          "assay_7c",
          "assay_7c",
          "assay_7c",
          "assay_7c"
         ],
         "y": [
          1,
          1,
          0.9960629921259843,
          0.9785407725321889,
          0.9825174825174825,
          1,
          1
         ]
        },
        {
         "boxmean": true,
         "boxpoints": "outliers",
         "hoverinfo": "skip",
         "marker": {
          "color": "gray"
         },
         "name": "acc",
         "showlegend": false,
         "type": "box",
         "x": [
          "assay_11c",
          "assay_11c",
          "assay_11c",
          "assay_11c",
          "assay_11c",
          "assay_11c",
          "assay_11c",
          "assay_11c"
         ],
         "y": [
          1,
          1,
          0.9960629921259843,
          0.9733333333333334,
          0.9824561403508771,
          0.9956140350877193,
          0.9920634920634921,
          1
         ]
        },
        {
         "hoverinfo": "text",
         "hovertext": [
          "h3k4me3: 1.000",
          "h3k27ac: 1.000",
          "h3k4me1: 0.996",
          "h3k36me3: 0.973",
          "h3k27me3: 0.982",
          "h3k9me3: 0.996",
          "input: 0.992",
          "rna_seq: 1.000"
         ],
         "marker": {
          "color": [
           "rgb(238,30,37)",
           "rgb(225,148,37)",
           "rgb(236,232,56)",
           "rgb(13,127,66)",
           "rgb(184,185,189)",
           "rgb(144,206,219)",
           "rgb(30,30,30)",
           "rgb(30,176,75)"
          ]
         },
         "mode": "markers",
         "name": "assay_11c",
         "showlegend": false,
         "type": "scatter",
         "x": [
          "assay_11c",
          "assay_11c",
          "assay_11c",
          "assay_11c",
          "assay_11c",
          "assay_11c",
          "assay_11c",
          "assay_11c"
         ],
         "y": [
          1,
          1,
          0.9960629921259843,
          0.9733333333333334,
          0.9824561403508771,
          0.9956140350877193,
          0.9920634920634921,
          1
         ]
        },
        {
         "boxmean": true,
         "boxpoints": "outliers",
         "hoverinfo": "skip",
         "marker": {
          "color": "gray"
         },
         "name": "acc",
         "showlegend": false,
         "type": "box",
         "x": [
          "biomaterial_type",
          "biomaterial_type",
          "biomaterial_type",
          "biomaterial_type",
          "biomaterial_type",
          "biomaterial_type",
          "biomaterial_type",
          "biomaterial_type"
         ],
         "y": [
          0.954248366013072,
          0.9592476489028213,
          0.9403669724770642,
          0.9794871794871794,
          1,
          0.9910714285714286,
          0.974671669793621,
          0.9868263473053892
         ]
        },
        {
         "hoverinfo": "text",
         "hovertext": [
          "h3k4me3: 0.954",
          "h3k27ac: 0.959",
          "h3k4me1: 0.940",
          "h3k36me3: 0.979",
          "h3k27me3: 1.000",
          "h3k9me3: 0.991",
          "input: 0.975",
          "rna_seq: 0.987"
         ],
         "marker": {
          "color": [
           "rgb(238,30,37)",
           "rgb(225,148,37)",
           "rgb(236,232,56)",
           "rgb(13,127,66)",
           "rgb(184,185,189)",
           "rgb(144,206,219)",
           "rgb(30,30,30)",
           "rgb(30,176,75)"
          ]
         },
         "mode": "markers",
         "name": "biomaterial_type",
         "showlegend": false,
         "type": "scatter",
         "x": [
          "biomaterial_type",
          "biomaterial_type",
          "biomaterial_type",
          "biomaterial_type",
          "biomaterial_type",
          "biomaterial_type",
          "biomaterial_type",
          "biomaterial_type"
         ],
         "y": [
          0.954248366013072,
          0.9592476489028213,
          0.9403669724770642,
          0.9794871794871794,
          1,
          0.9910714285714286,
          0.974671669793621,
          0.9868263473053892
         ]
        },
        {
         "boxmean": true,
         "boxpoints": "outliers",
         "hoverinfo": "skip",
         "marker": {
          "color": "gray"
         },
         "name": "acc",
         "showlegend": false,
         "type": "box",
         "x": [
          "cell type",
          "cell type",
          "cell type",
          "cell type",
          "cell type",
          "cell type",
          "cell type",
          "cell type"
         ],
         "y": [
          1,
          0.9655172413793104,
          0.9629629629629629,
          1,
          0.9473684210526315,
          1,
          1,
          0.9173553719008265
         ]
        },
        {
         "hoverinfo": "text",
         "hovertext": [
          "h3k4me3: 1.000",
          "h3k27ac: 0.966",
          "h3k4me1: 0.963",
          "h3k36me3: 1.000",
          "h3k27me3: 0.947",
          "h3k9me3: 1.000",
          "input: 1.000",
          "rna_seq: 0.917"
         ],
         "marker": {
          "color": [
           "rgb(238,30,37)",
           "rgb(225,148,37)",
           "rgb(236,232,56)",
           "rgb(13,127,66)",
           "rgb(184,185,189)",
           "rgb(144,206,219)",
           "rgb(30,30,30)",
           "rgb(30,176,75)"
          ]
         },
         "mode": "markers",
         "name": "cell type",
         "showlegend": false,
         "type": "scatter",
         "x": [
          "cell type",
          "cell type",
          "cell type",
          "cell type",
          "cell type",
          "cell type",
          "cell type",
          "cell type"
         ],
         "y": [
          1,
          0.9655172413793104,
          0.9629629629629629,
          1,
          0.9473684210526315,
          1,
          1,
          0.9173553719008265
         ]
        },
        {
         "boxmean": true,
         "boxpoints": "outliers",
         "hoverinfo": "skip",
         "marker": {
          "color": "gray"
         },
         "name": "acc",
         "showlegend": false,
         "type": "box",
         "x": [
          "sex",
          "sex",
          "sex",
          "sex",
          "sex",
          "sex",
          "sex",
          "sex"
         ],
         "y": [
          0.9774011299435028,
          0.94,
          0.9642857142857143,
          0.9807692307692307,
          0.9758454106280193,
          0.9882352941176471,
          0.9804832713754646,
          0.7889518413597734
         ]
        },
        {
         "hoverinfo": "text",
         "hovertext": [
          "h3k4me3: 0.977",
          "h3k27ac: 0.940",
          "h3k4me1: 0.964",
          "h3k36me3: 0.981",
          "h3k27me3: 0.976",
          "h3k9me3: 0.988",
          "input: 0.980",
          "rna_seq: 0.789"
         ],
         "marker": {
          "color": [
           "rgb(238,30,37)",
           "rgb(225,148,37)",
           "rgb(236,232,56)",
           "rgb(13,127,66)",
           "rgb(184,185,189)",
           "rgb(144,206,219)",
           "rgb(30,30,30)",
           "rgb(30,176,75)"
          ]
         },
         "mode": "markers",
         "name": "sex",
         "showlegend": false,
         "type": "scatter",
         "x": [
          "sex",
          "sex",
          "sex",
          "sex",
          "sex",
          "sex",
          "sex",
          "sex"
         ],
         "y": [
          0.9774011299435028,
          0.94,
          0.9642857142857143,
          0.9807692307692307,
          0.9758454106280193,
          0.9882352941176471,
          0.9804832713754646,
          0.7889518413597734
         ]
        },
        {
         "boxmean": true,
         "boxpoints": "outliers",
         "hoverinfo": "skip",
         "marker": {
          "color": "gray"
         },
         "name": "acc",
         "showlegend": false,
         "type": "box",
         "x": [
          "cancer",
          "cancer",
          "cancer",
          "cancer",
          "cancer",
          "cancer",
          "cancer"
         ],
         "y": [
          0.9587912087912088,
          0.9616519174041298,
          0.9437751004016064,
          0.910377358490566,
          0.955719557195572,
          0.6258064516129033,
          0.9491525423728814
         ]
        },
        {
         "hoverinfo": "text",
         "hovertext": [
          "h3k4me3: 0.959",
          "h3k27ac: 0.962",
          "h3k4me1: 0.944",
          "h3k36me3: 0.910",
          "h3k27me3: 0.956",
          "h3k9me3: 0.626",
          "input: 0.949"
         ],
         "marker": {
          "color": [
           "rgb(238,30,37)",
           "rgb(225,148,37)",
           "rgb(236,232,56)",
           "rgb(13,127,66)",
           "rgb(184,185,189)",
           "rgb(144,206,219)",
           "rgb(30,30,30)"
          ]
         },
         "mode": "markers",
         "name": "cancer",
         "showlegend": false,
         "type": "scatter",
         "x": [
          "cancer",
          "cancer",
          "cancer",
          "cancer",
          "cancer",
          "cancer",
          "cancer"
         ],
         "y": [
          0.9587912087912088,
          0.9616519174041298,
          0.9437751004016064,
          0.910377358490566,
          0.955719557195572,
          0.6258064516129033,
          0.9491525423728814
         ]
        },
        {
         "boxmean": true,
         "boxpoints": "outliers",
         "hoverinfo": "skip",
         "marker": {
          "color": "gray"
         },
         "name": "acc",
         "showlegend": false,
         "type": "box",
         "x": [
          "life stage (merged)",
          "life stage (merged)",
          "life stage (merged)",
          "life stage (merged)",
          "life stage (merged)",
          "life stage (merged)",
          "life stage (merged)",
          "life stage (merged)"
         ],
         "y": [
          0.967391304347826,
          0.9151785714285714,
          0.8796992481203008,
          0.9375,
          0.927536231884058,
          0.8620689655172413,
          0.892271662763466,
          0.8815165876777251
         ]
        },
        {
         "hoverinfo": "text",
         "hovertext": [
          "h3k4me3: 0.967",
          "h3k27ac: 0.915",
          "h3k4me1: 0.880",
          "h3k36me3: 0.938",
          "h3k27me3: 0.928",
          "h3k9me3: 0.862",
          "input: 0.892",
          "rna_seq: 0.882"
         ],
         "marker": {
          "color": [
           "rgb(238,30,37)",
           "rgb(225,148,37)",
           "rgb(236,232,56)",
           "rgb(13,127,66)",
           "rgb(184,185,189)",
           "rgb(144,206,219)",
           "rgb(30,30,30)",
           "rgb(30,176,75)"
          ]
         },
         "mode": "markers",
         "name": "life stage (merged)",
         "showlegend": false,
         "type": "scatter",
         "x": [
          "life stage (merged)",
          "life stage (merged)",
          "life stage (merged)",
          "life stage (merged)",
          "life stage (merged)",
          "life stage (merged)",
          "life stage (merged)",
          "life stage (merged)"
         ],
         "y": [
          0.967391304347826,
          0.9151785714285714,
          0.8796992481203008,
          0.9375,
          0.927536231884058,
          0.8620689655172413,
          0.892271662763466,
          0.8815165876777251
         ]
        },
        {
         "boxmean": true,
         "boxpoints": "outliers",
         "hoverinfo": "skip",
         "marker": {
          "color": "gray"
         },
         "name": "acc",
         "showlegend": false,
         "type": "box",
         "x": [
          "life stage",
          "life stage",
          "life stage",
          "life stage",
          "life stage",
          "life stage",
          "life stage",
          "life stage"
         ],
         "y": [
          0.9144144144144144,
          0.8615384615384616,
          0.8214285714285714,
          0.875968992248062,
          0.8975903614457831,
          0.8425925925925926,
          0.823045267489712,
          0.8558786346396966
         ]
        },
        {
         "hoverinfo": "text",
         "hovertext": [
          "h3k4me3: 0.914",
          "h3k27ac: 0.862",
          "h3k4me1: 0.821",
          "h3k36me3: 0.876",
          "h3k27me3: 0.898",
          "h3k9me3: 0.843",
          "input: 0.823",
          "rna_seq: 0.856"
         ],
         "marker": {
          "color": [
           "rgb(238,30,37)",
           "rgb(225,148,37)",
           "rgb(236,232,56)",
           "rgb(13,127,66)",
           "rgb(184,185,189)",
           "rgb(144,206,219)",
           "rgb(30,30,30)",
           "rgb(30,176,75)"
          ]
         },
         "mode": "markers",
         "name": "life stage",
         "showlegend": false,
         "type": "scatter",
         "x": [
          "life stage",
          "life stage",
          "life stage",
          "life stage",
          "life stage",
          "life stage",
          "life stage",
          "life stage"
         ],
         "y": [
          0.9144144144144144,
          0.8615384615384616,
          0.8214285714285714,
          0.875968992248062,
          0.8975903614457831,
          0.8425925925925926,
          0.823045267489712,
          0.8558786346396966
         ]
        }
       ],
       "layout": {
        "font": {
         "size": 18
        },
        "height": 600,
        "template": {
         "data": {
          "bar": [
           {
            "error_x": {
             "color": "#2a3f5f"
            },
            "error_y": {
             "color": "#2a3f5f"
            },
            "marker": {
             "line": {
              "color": "#E5ECF6",
              "width": 0.5
             },
             "pattern": {
              "fillmode": "overlay",
              "size": 10,
              "solidity": 0.2
             }
            },
            "type": "bar"
           }
          ],
          "barpolar": [
           {
            "marker": {
             "line": {
              "color": "#E5ECF6",
              "width": 0.5
             },
             "pattern": {
              "fillmode": "overlay",
              "size": 10,
              "solidity": 0.2
             }
            },
            "type": "barpolar"
           }
          ],
          "carpet": [
           {
            "aaxis": {
             "endlinecolor": "#2a3f5f",
             "gridcolor": "white",
             "linecolor": "white",
             "minorgridcolor": "white",
             "startlinecolor": "#2a3f5f"
            },
            "baxis": {
             "endlinecolor": "#2a3f5f",
             "gridcolor": "white",
             "linecolor": "white",
             "minorgridcolor": "white",
             "startlinecolor": "#2a3f5f"
            },
            "type": "carpet"
           }
          ],
          "choropleth": [
           {
            "colorbar": {
             "outlinewidth": 0,
             "ticks": ""
            },
            "type": "choropleth"
           }
          ],
          "contour": [
           {
            "colorbar": {
             "outlinewidth": 0,
             "ticks": ""
            },
            "colorscale": [
             [
              0,
              "#0d0887"
             ],
             [
              0.1111111111111111,
              "#46039f"
             ],
             [
              0.2222222222222222,
              "#7201a8"
             ],
             [
              0.3333333333333333,
              "#9c179e"
             ],
             [
              0.4444444444444444,
              "#bd3786"
             ],
             [
              0.5555555555555556,
              "#d8576b"
             ],
             [
              0.6666666666666666,
              "#ed7953"
             ],
             [
              0.7777777777777778,
              "#fb9f3a"
             ],
             [
              0.8888888888888888,
              "#fdca26"
             ],
             [
              1,
              "#f0f921"
             ]
            ],
            "type": "contour"
           }
          ],
          "contourcarpet": [
           {
            "colorbar": {
             "outlinewidth": 0,
             "ticks": ""
            },
            "type": "contourcarpet"
           }
          ],
          "heatmap": [
           {
            "colorbar": {
             "outlinewidth": 0,
             "ticks": ""
            },
            "colorscale": [
             [
              0,
              "#0d0887"
             ],
             [
              0.1111111111111111,
              "#46039f"
             ],
             [
              0.2222222222222222,
              "#7201a8"
             ],
             [
              0.3333333333333333,
              "#9c179e"
             ],
             [
              0.4444444444444444,
              "#bd3786"
             ],
             [
              0.5555555555555556,
              "#d8576b"
             ],
             [
              0.6666666666666666,
              "#ed7953"
             ],
             [
              0.7777777777777778,
              "#fb9f3a"
             ],
             [
              0.8888888888888888,
              "#fdca26"
             ],
             [
              1,
              "#f0f921"
             ]
            ],
            "type": "heatmap"
           }
          ],
          "heatmapgl": [
           {
            "colorbar": {
             "outlinewidth": 0,
             "ticks": ""
            },
            "colorscale": [
             [
              0,
              "#0d0887"
             ],
             [
              0.1111111111111111,
              "#46039f"
             ],
             [
              0.2222222222222222,
              "#7201a8"
             ],
             [
              0.3333333333333333,
              "#9c179e"
             ],
             [
              0.4444444444444444,
              "#bd3786"
             ],
             [
              0.5555555555555556,
              "#d8576b"
             ],
             [
              0.6666666666666666,
              "#ed7953"
             ],
             [
              0.7777777777777778,
              "#fb9f3a"
             ],
             [
              0.8888888888888888,
              "#fdca26"
             ],
             [
              1,
              "#f0f921"
             ]
            ],
            "type": "heatmapgl"
           }
          ],
          "histogram": [
           {
            "marker": {
             "pattern": {
              "fillmode": "overlay",
              "size": 10,
              "solidity": 0.2
             }
            },
            "type": "histogram"
           }
          ],
          "histogram2d": [
           {
            "colorbar": {
             "outlinewidth": 0,
             "ticks": ""
            },
            "colorscale": [
             [
              0,
              "#0d0887"
             ],
             [
              0.1111111111111111,
              "#46039f"
             ],
             [
              0.2222222222222222,
              "#7201a8"
             ],
             [
              0.3333333333333333,
              "#9c179e"
             ],
             [
              0.4444444444444444,
              "#bd3786"
             ],
             [
              0.5555555555555556,
              "#d8576b"
             ],
             [
              0.6666666666666666,
              "#ed7953"
             ],
             [
              0.7777777777777778,
              "#fb9f3a"
             ],
             [
              0.8888888888888888,
              "#fdca26"
             ],
             [
              1,
              "#f0f921"
             ]
            ],
            "type": "histogram2d"
           }
          ],
          "histogram2dcontour": [
           {
            "colorbar": {
             "outlinewidth": 0,
             "ticks": ""
            },
            "colorscale": [
             [
              0,
              "#0d0887"
             ],
             [
              0.1111111111111111,
              "#46039f"
             ],
             [
              0.2222222222222222,
              "#7201a8"
             ],
             [
              0.3333333333333333,
              "#9c179e"
             ],
             [
              0.4444444444444444,
              "#bd3786"
             ],
             [
              0.5555555555555556,
              "#d8576b"
             ],
             [
              0.6666666666666666,
              "#ed7953"
             ],
             [
              0.7777777777777778,
              "#fb9f3a"
             ],
             [
              0.8888888888888888,
              "#fdca26"
             ],
             [
              1,
              "#f0f921"
             ]
            ],
            "type": "histogram2dcontour"
           }
          ],
          "mesh3d": [
           {
            "colorbar": {
             "outlinewidth": 0,
             "ticks": ""
            },
            "type": "mesh3d"
           }
          ],
          "parcoords": [
           {
            "line": {
             "colorbar": {
              "outlinewidth": 0,
              "ticks": ""
             }
            },
            "type": "parcoords"
           }
          ],
          "pie": [
           {
            "automargin": true,
            "type": "pie"
           }
          ],
          "scatter": [
           {
            "fillpattern": {
             "fillmode": "overlay",
             "size": 10,
             "solidity": 0.2
            },
            "type": "scatter"
           }
          ],
          "scatter3d": [
           {
            "line": {
             "colorbar": {
              "outlinewidth": 0,
              "ticks": ""
             }
            },
            "marker": {
             "colorbar": {
              "outlinewidth": 0,
              "ticks": ""
             }
            },
            "type": "scatter3d"
           }
          ],
          "scattercarpet": [
           {
            "marker": {
             "colorbar": {
              "outlinewidth": 0,
              "ticks": ""
             }
            },
            "type": "scattercarpet"
           }
          ],
          "scattergeo": [
           {
            "marker": {
             "colorbar": {
              "outlinewidth": 0,
              "ticks": ""
             }
            },
            "type": "scattergeo"
           }
          ],
          "scattergl": [
           {
            "marker": {
             "colorbar": {
              "outlinewidth": 0,
              "ticks": ""
             }
            },
            "type": "scattergl"
           }
          ],
          "scattermapbox": [
           {
            "marker": {
             "colorbar": {
              "outlinewidth": 0,
              "ticks": ""
             }
            },
            "type": "scattermapbox"
           }
          ],
          "scatterpolar": [
           {
            "marker": {
             "colorbar": {
              "outlinewidth": 0,
              "ticks": ""
             }
            },
            "type": "scatterpolar"
           }
          ],
          "scatterpolargl": [
           {
            "marker": {
             "colorbar": {
              "outlinewidth": 0,
              "ticks": ""
             }
            },
            "type": "scatterpolargl"
           }
          ],
          "scatterternary": [
           {
            "marker": {
             "colorbar": {
              "outlinewidth": 0,
              "ticks": ""
             }
            },
            "type": "scatterternary"
           }
          ],
          "surface": [
           {
            "colorbar": {
             "outlinewidth": 0,
             "ticks": ""
            },
            "colorscale": [
             [
              0,
              "#0d0887"
             ],
             [
              0.1111111111111111,
              "#46039f"
             ],
             [
              0.2222222222222222,
              "#7201a8"
             ],
             [
              0.3333333333333333,
              "#9c179e"
             ],
             [
              0.4444444444444444,
              "#bd3786"
             ],
             [
              0.5555555555555556,
              "#d8576b"
             ],
             [
              0.6666666666666666,
              "#ed7953"
             ],
             [
              0.7777777777777778,
              "#fb9f3a"
             ],
             [
              0.8888888888888888,
              "#fdca26"
             ],
             [
              1,
              "#f0f921"
             ]
            ],
            "type": "surface"
           }
          ],
          "table": [
           {
            "cells": {
             "fill": {
              "color": "#EBF0F8"
             },
             "line": {
              "color": "white"
             }
            },
            "header": {
             "fill": {
              "color": "#C8D4E3"
             },
             "line": {
              "color": "white"
             }
            },
            "type": "table"
           }
          ]
         },
         "layout": {
          "annotationdefaults": {
           "arrowcolor": "#2a3f5f",
           "arrowhead": 0,
           "arrowwidth": 1
          },
          "autotypenumbers": "strict",
          "coloraxis": {
           "colorbar": {
            "outlinewidth": 0,
            "ticks": ""
           }
          },
          "colorscale": {
           "diverging": [
            [
             0,
             "#8e0152"
            ],
            [
             0.1,
             "#c51b7d"
            ],
            [
             0.2,
             "#de77ae"
            ],
            [
             0.3,
             "#f1b6da"
            ],
            [
             0.4,
             "#fde0ef"
            ],
            [
             0.5,
             "#f7f7f7"
            ],
            [
             0.6,
             "#e6f5d0"
            ],
            [
             0.7,
             "#b8e186"
            ],
            [
             0.8,
             "#7fbc41"
            ],
            [
             0.9,
             "#4d9221"
            ],
            [
             1,
             "#276419"
            ]
           ],
           "sequential": [
            [
             0,
             "#0d0887"
            ],
            [
             0.1111111111111111,
             "#46039f"
            ],
            [
             0.2222222222222222,
             "#7201a8"
            ],
            [
             0.3333333333333333,
             "#9c179e"
            ],
            [
             0.4444444444444444,
             "#bd3786"
            ],
            [
             0.5555555555555556,
             "#d8576b"
            ],
            [
             0.6666666666666666,
             "#ed7953"
            ],
            [
             0.7777777777777778,
             "#fb9f3a"
            ],
            [
             0.8888888888888888,
             "#fdca26"
            ],
            [
             1,
             "#f0f921"
            ]
           ],
           "sequentialminus": [
            [
             0,
             "#0d0887"
            ],
            [
             0.1111111111111111,
             "#46039f"
            ],
            [
             0.2222222222222222,
             "#7201a8"
            ],
            [
             0.3333333333333333,
             "#9c179e"
            ],
            [
             0.4444444444444444,
             "#bd3786"
            ],
            [
             0.5555555555555556,
             "#d8576b"
            ],
            [
             0.6666666666666666,
             "#ed7953"
            ],
            [
             0.7777777777777778,
             "#fb9f3a"
            ],
            [
             0.8888888888888888,
             "#fdca26"
            ],
            [
             1,
             "#f0f921"
            ]
           ]
          },
          "colorway": [
           "#636efa",
           "#EF553B",
           "#00cc96",
           "#ab63fa",
           "#FFA15A",
           "#19d3f3",
           "#FF6692",
           "#B6E880",
           "#FF97FF",
           "#FECB52"
          ],
          "font": {
           "color": "#2a3f5f"
          },
          "geo": {
           "bgcolor": "white",
           "lakecolor": "white",
           "landcolor": "#E5ECF6",
           "showlakes": true,
           "showland": true,
           "subunitcolor": "white"
          },
          "hoverlabel": {
           "align": "left"
          },
          "hovermode": "closest",
          "mapbox": {
           "style": "light"
          },
          "paper_bgcolor": "white",
          "plot_bgcolor": "#E5ECF6",
          "polar": {
           "angularaxis": {
            "gridcolor": "white",
            "linecolor": "white",
            "ticks": ""
           },
           "bgcolor": "#E5ECF6",
           "radialaxis": {
            "gridcolor": "white",
            "linecolor": "white",
            "ticks": ""
           }
          },
          "scene": {
           "xaxis": {
            "backgroundcolor": "#E5ECF6",
            "gridcolor": "white",
            "gridwidth": 2,
            "linecolor": "white",
            "showbackground": true,
            "ticks": "",
            "zerolinecolor": "white"
           },
           "yaxis": {
            "backgroundcolor": "#E5ECF6",
            "gridcolor": "white",
            "gridwidth": 2,
            "linecolor": "white",
            "showbackground": true,
            "ticks": "",
            "zerolinecolor": "white"
           },
           "zaxis": {
            "backgroundcolor": "#E5ECF6",
            "gridcolor": "white",
            "gridwidth": 2,
            "linecolor": "white",
            "showbackground": true,
            "ticks": "",
            "zerolinecolor": "white"
           }
          },
          "shapedefaults": {
           "line": {
            "color": "#2a3f5f"
           }
          },
          "ternary": {
           "aaxis": {
            "gridcolor": "white",
            "linecolor": "white",
            "ticks": ""
           },
           "baxis": {
            "gridcolor": "white",
            "linecolor": "white",
            "ticks": ""
           },
           "bgcolor": "#E5ECF6",
           "caxis": {
            "gridcolor": "white",
            "linecolor": "white",
            "ticks": ""
           }
          },
          "title": {
           "x": 0.05
          },
          "xaxis": {
           "automargin": true,
           "gridcolor": "white",
           "linecolor": "white",
           "ticks": "",
           "title": {
            "standoff": 15
           },
           "zerolinecolor": "white",
           "zerolinewidth": 2
          },
          "yaxis": {
           "automargin": true,
           "gridcolor": "white",
           "linecolor": "white",
           "ticks": "",
           "title": {
            "standoff": 15
           },
           "zerolinecolor": "white",
           "zerolinewidth": 2
          }
         }
        },
        "title": {
         "text": "ENCODE: Task Accuracy per assay (min_predScore=0.90)"
        },
        "width": 800,
        "xaxis": {
         "title": {
          "text": "Classification task"
         }
        },
        "yaxis": {
         "range": [
          0,
          1.01
         ],
         "title": {
          "text": "Accuracy"
         }
        }
       }
      }
     },
     "metadata": {},
     "output_type": "display_data"
    },
    {
     "data": {
      "application/vnd.plotly.v1+json": {
       "config": {
        "plotlyServerURL": "https://plot.ly"
       },
       "data": [
        {
         "boxmean": true,
         "boxpoints": "outliers",
         "hoverinfo": "skip",
         "marker": {
          "color": "gray"
         },
         "name": "f1-score",
         "showlegend": false,
         "type": "box",
         "x": [
          "biomaterial_type",
          "biomaterial_type",
          "biomaterial_type",
          "biomaterial_type",
          "biomaterial_type",
          "biomaterial_type",
          "biomaterial_type",
          "biomaterial_type"
         ],
         "y": [
          0.946403298122108,
          0.9423173654902829,
          0.9336259155475464,
          0.9770109968152513,
          1,
          0.9862961553102397,
          0.6072963038971153,
          0.7333246774946627
         ]
        },
        {
         "hoverinfo": "text",
         "hovertext": [
          "h3k4me3: 0.946",
          "h3k27ac: 0.942",
          "h3k4me1: 0.934",
          "h3k36me3: 0.977",
          "h3k27me3: 1.000",
          "h3k9me3: 0.986",
          "input: 0.607",
          "rna_seq: 0.733"
         ],
         "marker": {
          "color": [
           "rgb(238,30,37)",
           "rgb(225,148,37)",
           "rgb(236,232,56)",
           "rgb(13,127,66)",
           "rgb(184,185,189)",
           "rgb(144,206,219)",
           "rgb(30,30,30)",
           "rgb(30,176,75)"
          ]
         },
         "mode": "markers",
         "name": "biomaterial_type",
         "showlegend": false,
         "type": "scatter",
         "x": [
          "biomaterial_type",
          "biomaterial_type",
          "biomaterial_type",
          "biomaterial_type",
          "biomaterial_type",
          "biomaterial_type",
          "biomaterial_type",
          "biomaterial_type"
         ],
         "y": [
          0.946403298122108,
          0.9423173654902829,
          0.9336259155475464,
          0.9770109968152513,
          1,
          0.9862961553102397,
          0.6072963038971153,
          0.7333246774946627
         ]
        },
        {
         "boxmean": true,
         "boxpoints": "outliers",
         "hoverinfo": "skip",
         "marker": {
          "color": "gray"
         },
         "name": "f1-score",
         "showlegend": false,
         "type": "box",
         "x": [
          "cell type",
          "cell type",
          "cell type",
          "cell type",
          "cell type",
          "cell type",
          "cell type",
          "cell type"
         ],
         "y": [
          1,
          0.8275862068965517,
          0.925925925925926,
          1,
          0.8476190476190476,
          1,
          1,
          0.828042328042328
         ]
        },
        {
         "hoverinfo": "text",
         "hovertext": [
          "h3k4me3: 1.000",
          "h3k27ac: 0.828",
          "h3k4me1: 0.926",
          "h3k36me3: 1.000",
          "h3k27me3: 0.848",
          "h3k9me3: 1.000",
          "input: 1.000",
          "rna_seq: 0.828"
         ],
         "marker": {
          "color": [
           "rgb(238,30,37)",
           "rgb(225,148,37)",
           "rgb(236,232,56)",
           "rgb(13,127,66)",
           "rgb(184,185,189)",
           "rgb(144,206,219)",
           "rgb(30,30,30)",
           "rgb(30,176,75)"
          ]
         },
         "mode": "markers",
         "name": "cell type",
         "showlegend": false,
         "type": "scatter",
         "x": [
          "cell type",
          "cell type",
          "cell type",
          "cell type",
          "cell type",
          "cell type",
          "cell type",
          "cell type"
         ],
         "y": [
          1,
          0.8275862068965517,
          0.925925925925926,
          1,
          0.8476190476190476,
          1,
          1,
          0.828042328042328
         ]
        },
        {
         "boxmean": true,
         "boxpoints": "outliers",
         "hoverinfo": "skip",
         "marker": {
          "color": "gray"
         },
         "name": "f1-score",
         "showlegend": false,
         "type": "box",
         "x": [
          "sex",
          "sex",
          "sex",
          "sex",
          "sex",
          "sex",
          "sex",
          "sex"
         ],
         "y": [
          0.9771907216494846,
          0.618176409341068,
          0.6379084967320261,
          0.9782598597110606,
          0.9751756889645744,
          0.9862925334623448,
          0.6549035987057152,
          0.5021736021046576
         ]
        },
        {
         "hoverinfo": "text",
         "hovertext": [
          "h3k4me3: 0.977",
          "h3k27ac: 0.618",
          "h3k4me1: 0.638",
          "h3k36me3: 0.978",
          "h3k27me3: 0.975",
          "h3k9me3: 0.986",
          "input: 0.655",
          "rna_seq: 0.502"
         ],
         "marker": {
          "color": [
           "rgb(238,30,37)",
           "rgb(225,148,37)",
           "rgb(236,232,56)",
           "rgb(13,127,66)",
           "rgb(184,185,189)",
           "rgb(144,206,219)",
           "rgb(30,30,30)",
           "rgb(30,176,75)"
          ]
         },
         "mode": "markers",
         "name": "sex",
         "showlegend": false,
         "type": "scatter",
         "x": [
          "sex",
          "sex",
          "sex",
          "sex",
          "sex",
          "sex",
          "sex",
          "sex"
         ],
         "y": [
          0.9771907216494846,
          0.618176409341068,
          0.6379084967320261,
          0.9782598597110606,
          0.9751756889645744,
          0.9862925334623448,
          0.6549035987057152,
          0.5021736021046576
         ]
        },
        {
         "boxmean": true,
         "boxpoints": "outliers",
         "hoverinfo": "skip",
         "marker": {
          "color": "gray"
         },
         "name": "f1-score",
         "showlegend": false,
         "type": "box",
         "x": [
          "cancer",
          "cancer",
          "cancer",
          "cancer",
          "cancer",
          "cancer",
          "cancer"
         ],
         "y": [
          0.9137808517693875,
          0.9204297192380608,
          0.8935897435897435,
          0.8180914961838957,
          0.872370486656201,
          0.6102150537634408,
          0.9488324286127261
         ]
        },
        {
         "hoverinfo": "text",
         "hovertext": [
          "h3k4me3: 0.914",
          "h3k27ac: 0.920",
          "h3k4me1: 0.894",
          "h3k36me3: 0.818",
          "h3k27me3: 0.872",
          "h3k9me3: 0.610",
          "input: 0.949"
         ],
         "marker": {
          "color": [
           "rgb(238,30,37)",
           "rgb(225,148,37)",
           "rgb(236,232,56)",
           "rgb(13,127,66)",
           "rgb(184,185,189)",
           "rgb(144,206,219)",
           "rgb(30,30,30)"
          ]
         },
         "mode": "markers",
         "name": "cancer",
         "showlegend": false,
         "type": "scatter",
         "x": [
          "cancer",
          "cancer",
          "cancer",
          "cancer",
          "cancer",
          "cancer",
          "cancer"
         ],
         "y": [
          0.9137808517693875,
          0.9204297192380608,
          0.8935897435897435,
          0.8180914961838957,
          0.872370486656201,
          0.6102150537634408,
          0.9488324286127261
         ]
        },
        {
         "boxmean": true,
         "boxpoints": "outliers",
         "hoverinfo": "skip",
         "marker": {
          "color": "gray"
         },
         "name": "f1-score",
         "showlegend": false,
         "type": "box",
         "x": [
          "life stage (merged)",
          "life stage (merged)",
          "life stage (merged)",
          "life stage (merged)",
          "life stage (merged)",
          "life stage (merged)",
          "life stage (merged)",
          "life stage (merged)"
         ],
         "y": [
          0.8914285714285715,
          0.6513477228131777,
          0.47092436974789914,
          0.8166666666666667,
          0.8134920634920635,
          0.462962962962963,
          0.4930525137489658,
          0.4990704500978474
         ]
        },
        {
         "hoverinfo": "text",
         "hovertext": [
          "h3k4me3: 0.891",
          "h3k27ac: 0.651",
          "h3k4me1: 0.471",
          "h3k36me3: 0.817",
          "h3k27me3: 0.813",
          "h3k9me3: 0.463",
          "input: 0.493",
          "rna_seq: 0.499"
         ],
         "marker": {
          "color": [
           "rgb(238,30,37)",
           "rgb(225,148,37)",
           "rgb(236,232,56)",
           "rgb(13,127,66)",
           "rgb(184,185,189)",
           "rgb(144,206,219)",
           "rgb(30,30,30)",
           "rgb(30,176,75)"
          ]
         },
         "mode": "markers",
         "name": "life stage (merged)",
         "showlegend": false,
         "type": "scatter",
         "x": [
          "life stage (merged)",
          "life stage (merged)",
          "life stage (merged)",
          "life stage (merged)",
          "life stage (merged)",
          "life stage (merged)",
          "life stage (merged)",
          "life stage (merged)"
         ],
         "y": [
          0.8914285714285715,
          0.6513477228131777,
          0.47092436974789914,
          0.8166666666666667,
          0.8134920634920635,
          0.462962962962963,
          0.4930525137489658,
          0.4990704500978474
         ]
        },
        {
         "boxmean": true,
         "boxpoints": "outliers",
         "hoverinfo": "skip",
         "marker": {
          "color": "gray"
         },
         "name": "f1-score",
         "showlegend": false,
         "type": "box",
         "x": [
          "life stage",
          "life stage",
          "life stage",
          "life stage",
          "life stage",
          "life stage",
          "life stage",
          "life stage"
         ],
         "y": [
          0.8497354497354497,
          0.4928624487587465,
          0.5184331797235022,
          0.7839699516170104,
          0.7952628968253969,
          0.5931663370687762,
          0.48133544685268825,
          0.42957954533377063
         ]
        },
        {
         "hoverinfo": "text",
         "hovertext": [
          "h3k4me3: 0.850",
          "h3k27ac: 0.493",
          "h3k4me1: 0.518",
          "h3k36me3: 0.784",
          "h3k27me3: 0.795",
          "h3k9me3: 0.593",
          "input: 0.481",
          "rna_seq: 0.430"
         ],
         "marker": {
          "color": [
           "rgb(238,30,37)",
           "rgb(225,148,37)",
           "rgb(236,232,56)",
           "rgb(13,127,66)",
           "rgb(184,185,189)",
           "rgb(144,206,219)",
           "rgb(30,30,30)",
           "rgb(30,176,75)"
          ]
         },
         "mode": "markers",
         "name": "life stage",
         "showlegend": false,
         "type": "scatter",
         "x": [
          "life stage",
          "life stage",
          "life stage",
          "life stage",
          "life stage",
          "life stage",
          "life stage",
          "life stage"
         ],
         "y": [
          0.8497354497354497,
          0.4928624487587465,
          0.5184331797235022,
          0.7839699516170104,
          0.7952628968253969,
          0.5931663370687762,
          0.48133544685268825,
          0.42957954533377063
         ]
        }
       ],
       "layout": {
        "font": {
         "size": 18
        },
        "height": 600,
        "template": {
         "data": {
          "bar": [
           {
            "error_x": {
             "color": "#2a3f5f"
            },
            "error_y": {
             "color": "#2a3f5f"
            },
            "marker": {
             "line": {
              "color": "#E5ECF6",
              "width": 0.5
             },
             "pattern": {
              "fillmode": "overlay",
              "size": 10,
              "solidity": 0.2
             }
            },
            "type": "bar"
           }
          ],
          "barpolar": [
           {
            "marker": {
             "line": {
              "color": "#E5ECF6",
              "width": 0.5
             },
             "pattern": {
              "fillmode": "overlay",
              "size": 10,
              "solidity": 0.2
             }
            },
            "type": "barpolar"
           }
          ],
          "carpet": [
           {
            "aaxis": {
             "endlinecolor": "#2a3f5f",
             "gridcolor": "white",
             "linecolor": "white",
             "minorgridcolor": "white",
             "startlinecolor": "#2a3f5f"
            },
            "baxis": {
             "endlinecolor": "#2a3f5f",
             "gridcolor": "white",
             "linecolor": "white",
             "minorgridcolor": "white",
             "startlinecolor": "#2a3f5f"
            },
            "type": "carpet"
           }
          ],
          "choropleth": [
           {
            "colorbar": {
             "outlinewidth": 0,
             "ticks": ""
            },
            "type": "choropleth"
           }
          ],
          "contour": [
           {
            "colorbar": {
             "outlinewidth": 0,
             "ticks": ""
            },
            "colorscale": [
             [
              0,
              "#0d0887"
             ],
             [
              0.1111111111111111,
              "#46039f"
             ],
             [
              0.2222222222222222,
              "#7201a8"
             ],
             [
              0.3333333333333333,
              "#9c179e"
             ],
             [
              0.4444444444444444,
              "#bd3786"
             ],
             [
              0.5555555555555556,
              "#d8576b"
             ],
             [
              0.6666666666666666,
              "#ed7953"
             ],
             [
              0.7777777777777778,
              "#fb9f3a"
             ],
             [
              0.8888888888888888,
              "#fdca26"
             ],
             [
              1,
              "#f0f921"
             ]
            ],
            "type": "contour"
           }
          ],
          "contourcarpet": [
           {
            "colorbar": {
             "outlinewidth": 0,
             "ticks": ""
            },
            "type": "contourcarpet"
           }
          ],
          "heatmap": [
           {
            "colorbar": {
             "outlinewidth": 0,
             "ticks": ""
            },
            "colorscale": [
             [
              0,
              "#0d0887"
             ],
             [
              0.1111111111111111,
              "#46039f"
             ],
             [
              0.2222222222222222,
              "#7201a8"
             ],
             [
              0.3333333333333333,
              "#9c179e"
             ],
             [
              0.4444444444444444,
              "#bd3786"
             ],
             [
              0.5555555555555556,
              "#d8576b"
             ],
             [
              0.6666666666666666,
              "#ed7953"
             ],
             [
              0.7777777777777778,
              "#fb9f3a"
             ],
             [
              0.8888888888888888,
              "#fdca26"
             ],
             [
              1,
              "#f0f921"
             ]
            ],
            "type": "heatmap"
           }
          ],
          "heatmapgl": [
           {
            "colorbar": {
             "outlinewidth": 0,
             "ticks": ""
            },
            "colorscale": [
             [
              0,
              "#0d0887"
             ],
             [
              0.1111111111111111,
              "#46039f"
             ],
             [
              0.2222222222222222,
              "#7201a8"
             ],
             [
              0.3333333333333333,
              "#9c179e"
             ],
             [
              0.4444444444444444,
              "#bd3786"
             ],
             [
              0.5555555555555556,
              "#d8576b"
             ],
             [
              0.6666666666666666,
              "#ed7953"
             ],
             [
              0.7777777777777778,
              "#fb9f3a"
             ],
             [
              0.8888888888888888,
              "#fdca26"
             ],
             [
              1,
              "#f0f921"
             ]
            ],
            "type": "heatmapgl"
           }
          ],
          "histogram": [
           {
            "marker": {
             "pattern": {
              "fillmode": "overlay",
              "size": 10,
              "solidity": 0.2
             }
            },
            "type": "histogram"
           }
          ],
          "histogram2d": [
           {
            "colorbar": {
             "outlinewidth": 0,
             "ticks": ""
            },
            "colorscale": [
             [
              0,
              "#0d0887"
             ],
             [
              0.1111111111111111,
              "#46039f"
             ],
             [
              0.2222222222222222,
              "#7201a8"
             ],
             [
              0.3333333333333333,
              "#9c179e"
             ],
             [
              0.4444444444444444,
              "#bd3786"
             ],
             [
              0.5555555555555556,
              "#d8576b"
             ],
             [
              0.6666666666666666,
              "#ed7953"
             ],
             [
              0.7777777777777778,
              "#fb9f3a"
             ],
             [
              0.8888888888888888,
              "#fdca26"
             ],
             [
              1,
              "#f0f921"
             ]
            ],
            "type": "histogram2d"
           }
          ],
          "histogram2dcontour": [
           {
            "colorbar": {
             "outlinewidth": 0,
             "ticks": ""
            },
            "colorscale": [
             [
              0,
              "#0d0887"
             ],
             [
              0.1111111111111111,
              "#46039f"
             ],
             [
              0.2222222222222222,
              "#7201a8"
             ],
             [
              0.3333333333333333,
              "#9c179e"
             ],
             [
              0.4444444444444444,
              "#bd3786"
             ],
             [
              0.5555555555555556,
              "#d8576b"
             ],
             [
              0.6666666666666666,
              "#ed7953"
             ],
             [
              0.7777777777777778,
              "#fb9f3a"
             ],
             [
              0.8888888888888888,
              "#fdca26"
             ],
             [
              1,
              "#f0f921"
             ]
            ],
            "type": "histogram2dcontour"
           }
          ],
          "mesh3d": [
           {
            "colorbar": {
             "outlinewidth": 0,
             "ticks": ""
            },
            "type": "mesh3d"
           }
          ],
          "parcoords": [
           {
            "line": {
             "colorbar": {
              "outlinewidth": 0,
              "ticks": ""
             }
            },
            "type": "parcoords"
           }
          ],
          "pie": [
           {
            "automargin": true,
            "type": "pie"
           }
          ],
          "scatter": [
           {
            "fillpattern": {
             "fillmode": "overlay",
             "size": 10,
             "solidity": 0.2
            },
            "type": "scatter"
           }
          ],
          "scatter3d": [
           {
            "line": {
             "colorbar": {
              "outlinewidth": 0,
              "ticks": ""
             }
            },
            "marker": {
             "colorbar": {
              "outlinewidth": 0,
              "ticks": ""
             }
            },
            "type": "scatter3d"
           }
          ],
          "scattercarpet": [
           {
            "marker": {
             "colorbar": {
              "outlinewidth": 0,
              "ticks": ""
             }
            },
            "type": "scattercarpet"
           }
          ],
          "scattergeo": [
           {
            "marker": {
             "colorbar": {
              "outlinewidth": 0,
              "ticks": ""
             }
            },
            "type": "scattergeo"
           }
          ],
          "scattergl": [
           {
            "marker": {
             "colorbar": {
              "outlinewidth": 0,
              "ticks": ""
             }
            },
            "type": "scattergl"
           }
          ],
          "scattermapbox": [
           {
            "marker": {
             "colorbar": {
              "outlinewidth": 0,
              "ticks": ""
             }
            },
            "type": "scattermapbox"
           }
          ],
          "scatterpolar": [
           {
            "marker": {
             "colorbar": {
              "outlinewidth": 0,
              "ticks": ""
             }
            },
            "type": "scatterpolar"
           }
          ],
          "scatterpolargl": [
           {
            "marker": {
             "colorbar": {
              "outlinewidth": 0,
              "ticks": ""
             }
            },
            "type": "scatterpolargl"
           }
          ],
          "scatterternary": [
           {
            "marker": {
             "colorbar": {
              "outlinewidth": 0,
              "ticks": ""
             }
            },
            "type": "scatterternary"
           }
          ],
          "surface": [
           {
            "colorbar": {
             "outlinewidth": 0,
             "ticks": ""
            },
            "colorscale": [
             [
              0,
              "#0d0887"
             ],
             [
              0.1111111111111111,
              "#46039f"
             ],
             [
              0.2222222222222222,
              "#7201a8"
             ],
             [
              0.3333333333333333,
              "#9c179e"
             ],
             [
              0.4444444444444444,
              "#bd3786"
             ],
             [
              0.5555555555555556,
              "#d8576b"
             ],
             [
              0.6666666666666666,
              "#ed7953"
             ],
             [
              0.7777777777777778,
              "#fb9f3a"
             ],
             [
              0.8888888888888888,
              "#fdca26"
             ],
             [
              1,
              "#f0f921"
             ]
            ],
            "type": "surface"
           }
          ],
          "table": [
           {
            "cells": {
             "fill": {
              "color": "#EBF0F8"
             },
             "line": {
              "color": "white"
             }
            },
            "header": {
             "fill": {
              "color": "#C8D4E3"
             },
             "line": {
              "color": "white"
             }
            },
            "type": "table"
           }
          ]
         },
         "layout": {
          "annotationdefaults": {
           "arrowcolor": "#2a3f5f",
           "arrowhead": 0,
           "arrowwidth": 1
          },
          "autotypenumbers": "strict",
          "coloraxis": {
           "colorbar": {
            "outlinewidth": 0,
            "ticks": ""
           }
          },
          "colorscale": {
           "diverging": [
            [
             0,
             "#8e0152"
            ],
            [
             0.1,
             "#c51b7d"
            ],
            [
             0.2,
             "#de77ae"
            ],
            [
             0.3,
             "#f1b6da"
            ],
            [
             0.4,
             "#fde0ef"
            ],
            [
             0.5,
             "#f7f7f7"
            ],
            [
             0.6,
             "#e6f5d0"
            ],
            [
             0.7,
             "#b8e186"
            ],
            [
             0.8,
             "#7fbc41"
            ],
            [
             0.9,
             "#4d9221"
            ],
            [
             1,
             "#276419"
            ]
           ],
           "sequential": [
            [
             0,
             "#0d0887"
            ],
            [
             0.1111111111111111,
             "#46039f"
            ],
            [
             0.2222222222222222,
             "#7201a8"
            ],
            [
             0.3333333333333333,
             "#9c179e"
            ],
            [
             0.4444444444444444,
             "#bd3786"
            ],
            [
             0.5555555555555556,
             "#d8576b"
            ],
            [
             0.6666666666666666,
             "#ed7953"
            ],
            [
             0.7777777777777778,
             "#fb9f3a"
            ],
            [
             0.8888888888888888,
             "#fdca26"
            ],
            [
             1,
             "#f0f921"
            ]
           ],
           "sequentialminus": [
            [
             0,
             "#0d0887"
            ],
            [
             0.1111111111111111,
             "#46039f"
            ],
            [
             0.2222222222222222,
             "#7201a8"
            ],
            [
             0.3333333333333333,
             "#9c179e"
            ],
            [
             0.4444444444444444,
             "#bd3786"
            ],
            [
             0.5555555555555556,
             "#d8576b"
            ],
            [
             0.6666666666666666,
             "#ed7953"
            ],
            [
             0.7777777777777778,
             "#fb9f3a"
            ],
            [
             0.8888888888888888,
             "#fdca26"
            ],
            [
             1,
             "#f0f921"
            ]
           ]
          },
          "colorway": [
           "#636efa",
           "#EF553B",
           "#00cc96",
           "#ab63fa",
           "#FFA15A",
           "#19d3f3",
           "#FF6692",
           "#B6E880",
           "#FF97FF",
           "#FECB52"
          ],
          "font": {
           "color": "#2a3f5f"
          },
          "geo": {
           "bgcolor": "white",
           "lakecolor": "white",
           "landcolor": "#E5ECF6",
           "showlakes": true,
           "showland": true,
           "subunitcolor": "white"
          },
          "hoverlabel": {
           "align": "left"
          },
          "hovermode": "closest",
          "mapbox": {
           "style": "light"
          },
          "paper_bgcolor": "white",
          "plot_bgcolor": "#E5ECF6",
          "polar": {
           "angularaxis": {
            "gridcolor": "white",
            "linecolor": "white",
            "ticks": ""
           },
           "bgcolor": "#E5ECF6",
           "radialaxis": {
            "gridcolor": "white",
            "linecolor": "white",
            "ticks": ""
           }
          },
          "scene": {
           "xaxis": {
            "backgroundcolor": "#E5ECF6",
            "gridcolor": "white",
            "gridwidth": 2,
            "linecolor": "white",
            "showbackground": true,
            "ticks": "",
            "zerolinecolor": "white"
           },
           "yaxis": {
            "backgroundcolor": "#E5ECF6",
            "gridcolor": "white",
            "gridwidth": 2,
            "linecolor": "white",
            "showbackground": true,
            "ticks": "",
            "zerolinecolor": "white"
           },
           "zaxis": {
            "backgroundcolor": "#E5ECF6",
            "gridcolor": "white",
            "gridwidth": 2,
            "linecolor": "white",
            "showbackground": true,
            "ticks": "",
            "zerolinecolor": "white"
           }
          },
          "shapedefaults": {
           "line": {
            "color": "#2a3f5f"
           }
          },
          "ternary": {
           "aaxis": {
            "gridcolor": "white",
            "linecolor": "white",
            "ticks": ""
           },
           "baxis": {
            "gridcolor": "white",
            "linecolor": "white",
            "ticks": ""
           },
           "bgcolor": "#E5ECF6",
           "caxis": {
            "gridcolor": "white",
            "linecolor": "white",
            "ticks": ""
           }
          },
          "title": {
           "x": 0.05
          },
          "xaxis": {
           "automargin": true,
           "gridcolor": "white",
           "linecolor": "white",
           "ticks": "",
           "title": {
            "standoff": 15
           },
           "zerolinecolor": "white",
           "zerolinewidth": 2
          },
          "yaxis": {
           "automargin": true,
           "gridcolor": "white",
           "linecolor": "white",
           "ticks": "",
           "title": {
            "standoff": 15
           },
           "zerolinecolor": "white",
           "zerolinewidth": 2
          }
         }
        },
        "title": {
         "text": "ENCODE: Task F1-score per assay (min_predScore=0.90)"
        },
        "width": 800,
        "xaxis": {
         "title": {
          "text": "Classification task"
         }
        },
        "yaxis": {
         "range": [
          0,
          1.01
         ],
         "title": {
          "text": "F1-score"
         }
        }
       }
      }
     },
     "metadata": {},
     "output_type": "display_data"
    }
   ],
   "source": [
    "logdir = base_fig_dir / \"encode_predictions\" / \"metrics_per_assay\"\n",
    "if not logdir.exists():\n",
    "    logdir.mkdir(parents=True)\n",
    "\n",
    "for min_pred in [0, 0.6, 0.8, 0.9]:\n",
    "    plot_encode_metrics_per_assay(df_acc_per_assay, min_pred=min_pred, logdir=logdir)"
   ]
  },
  {
   "cell_type": "markdown",
   "metadata": {},
   "source": [
    "#### Multiple min_predScore"
   ]
  },
  {
   "cell_type": "code",
   "execution_count": 74,
   "metadata": {},
   "outputs": [],
   "source": [
    "def plot_all_acc_per_assay(graph_df, minY, maxY, logdir: Path | None = None):\n",
    "    \"\"\"Plot accuracy per assay, per min_predScore, per scatter_name/task_name,\n",
    "    for core vs non-core assays.\n",
    "\n",
    "    \"\"\"\n",
    "    min_predScore_color_map = {\"0.0\": \"blue\", \"0.6\": \"orange\", \"0.9\": \"red\"}\n",
    "\n",
    "    graph_df[\"scatter_name\"] = graph_df[\"task_name\"].replace(\n",
    "        \"harmonized_\", \"\", regex=True\n",
    "    )\n",
    "\n",
    "    graph_df = graph_df.sort_values(by=[ASSAY, \"min_predScore\", \"scatter_name\"])\n",
    "\n",
    "    for graph_type in [\"core\", \"non-core\"]:\n",
    "        graph_df = df_acc_per_assay.copy()\n",
    "        if graph_type == \"core\":\n",
    "            graph_df = graph_df[graph_df[ASSAY].isin(CORE_ASSAYS + [\"rna_seq\"])]\n",
    "            minY = 0.55\n",
    "            maxY = 1.001\n",
    "        elif graph_type == \"non-core\":\n",
    "            graph_df = graph_df[~graph_df[ASSAY].isin(CORE_ASSAYS)]\n",
    "            minY = 0\n",
    "            maxY = 1\n",
    "        else:\n",
    "            raise ValueError(f\"Invalid graph type: {graph_type}\")\n",
    "\n",
    "        unique_assays = list(graph_df[ASSAY].unique())\n",
    "\n",
    "        # Calculate average over assays\n",
    "        avg_df = (\n",
    "            graph_df.groupby([\"min_predScore\", \"scatter_name\"])[\"acc\"]\n",
    "            .mean()\n",
    "            .reset_index()\n",
    "        )\n",
    "        avg_df[ASSAY] = \"Average\"\n",
    "\n",
    "        # traces_per_assay = graph_df[\"scatter_name\"].nunique()\n",
    "\n",
    "        fig = go.Figure()\n",
    "\n",
    "        for min_pred in [\"0.0\", \"0.6\", \"0.9\"]:\n",
    "            df_subset = graph_df[graph_df[\"min_predScore\"] == min_pred]\n",
    "            avg_subset = avg_df[avg_df[\"min_predScore\"] == min_pred]\n",
    "\n",
    "            # Add average over assay trace\n",
    "            fig.add_trace(\n",
    "                go.Scatter(\n",
    "                    x=[\"Average - \" + name for name in avg_subset[\"scatter_name\"]],\n",
    "                    y=avg_subset[\"acc\"],\n",
    "                    mode=\"markers\",\n",
    "                    name=f\"Avg Min Pred Score: {min_pred}\",\n",
    "                    marker=dict(\n",
    "                        color=min_predScore_color_map[min_pred],\n",
    "                        size=9,\n",
    "                        symbol=\"star\",\n",
    "                    ),\n",
    "                    hoverinfo=\"y+x\",\n",
    "                    showlegend=False,\n",
    "                )\n",
    "            )\n",
    "\n",
    "            # Add individual assay traces\n",
    "            hovertext = list(\n",
    "                zip(\n",
    "                    df_subset[ASSAY],\n",
    "                    df_subset[\"nb_samples\"].apply(lambda x: f\"Samples: {x}\"),\n",
    "                )\n",
    "            )\n",
    "            fig.add_trace(\n",
    "                go.Scatter(\n",
    "                    x=df_subset[ASSAY] + \" - \" + df_subset[\"scatter_name\"],\n",
    "                    y=df_subset[\"acc\"],\n",
    "                    mode=\"markers\",\n",
    "                    name=f\"Min Pred Score: {min_pred}\",\n",
    "                    marker=dict(\n",
    "                        color=min_predScore_color_map[min_pred],\n",
    "                        size=9,\n",
    "                    ),\n",
    "                    text=hovertext,\n",
    "                    hoverinfo=\"text+y+x\",\n",
    "                )\n",
    "            )\n",
    "\n",
    "        # Modify x-axis tick labels\n",
    "\n",
    "        ticktext = []\n",
    "        tick_group = list(df_subset[\"scatter_name\"].unique())\n",
    "        for i, tick in enumerate(tick_group):\n",
    "            tick_group[i] = f\"<b>{tick}</b>\"\n",
    "\n",
    "        for i in range(len(unique_assays) + 1):\n",
    "            ticktext.extend(tick_group)\n",
    "\n",
    "        fig.update_xaxes(\n",
    "            tickmode=\"array\", ticktext=ticktext, tickvals=list(range(len(ticktext)))\n",
    "        )\n",
    "\n",
    "        # Add assay labels on top + vertical lines between assay groups\n",
    "        fig.add_annotation(\n",
    "            x=len(tick_group) / 2 - 0.5,\n",
    "            y=1.05,\n",
    "            yref=\"paper\",\n",
    "            text=\"Average\",\n",
    "            showarrow=False,\n",
    "            font=dict(size=14),\n",
    "        )\n",
    "\n",
    "        fig.add_vline(\n",
    "            x=len(tick_group) - 0.5, line_width=2, line_dash=\"solid\", line_color=\"black\"\n",
    "        )\n",
    "        fig.add_hline(y=1, line_width=1, line_color=\"black\")\n",
    "\n",
    "        for i, label in enumerate(unique_assays):\n",
    "            fig.add_annotation(\n",
    "                x=(i + 1) * len(tick_group) + len(tick_group) / 2 - 0.5,\n",
    "                y=1.05,\n",
    "                yref=\"paper\",\n",
    "                text=label,\n",
    "                showarrow=False,\n",
    "                font=dict(size=14),\n",
    "            )\n",
    "            fig.add_vline(\n",
    "                x=(i + 1) * len(tick_group) - 0.5,\n",
    "                line_width=1,\n",
    "                line_dash=\"dash\",\n",
    "                line_color=\"black\",\n",
    "            )\n",
    "\n",
    "        # titles + yaxis range\n",
    "        fig.update_layout(\n",
    "            title=\"ENCODE data - Label match per Assay and Task\",\n",
    "            xaxis_title=\"Assay - Task\",\n",
    "            yaxis_title=\"Match %\",\n",
    "            xaxis_tickangle=-45,\n",
    "            showlegend=True,\n",
    "            height=600,\n",
    "            width=1200,\n",
    "            yaxis=dict(tickformat=\".2%\", range=[minY, maxY]),\n",
    "        )\n",
    "\n",
    "        # Show/Write the plot\n",
    "        print(f\"Graphing {graph_type}\")\n",
    "        if logdir:\n",
    "            figname = f\"encode_{graph_type}_acc_per_assay_minY{minY:.2f}\"\n",
    "            fig.write_html(logdir / f\"{figname}.html\")\n",
    "            fig.write_image(logdir / f\"{figname}.png\")\n",
    "            fig.write_image(logdir / f\"{figname}.svg\")\n",
    "        fig.show()"
   ]
  },
  {
   "cell_type": "code",
   "execution_count": 75,
   "metadata": {},
   "outputs": [],
   "source": [
    "# this_fig_dir = base_fig_dir / \"encode_predictions\" / \"acc_per_assay\"\n",
    "# if not this_fig_dir.exists():\n",
    "#     raise FileNotFoundError(f\"Folder {this_fig_dir} does not exist\")"
   ]
  },
  {
   "cell_type": "markdown",
   "metadata": {},
   "source": [
    "### Confusion matrices"
   ]
  },
  {
   "cell_type": "code",
   "execution_count": 92,
   "metadata": {},
   "outputs": [],
   "source": [
    "def graph_confusion_matrix(all_preds: pd.DataFrame, output_dir: Path):\n",
    "    \"\"\"Graph confusion matrix for each classification task, for both core and non-core assays\"\"\"\n",
    "    df = copy.deepcopy(all_preds)\n",
    "\n",
    "    assay_merger = {\n",
    "        \"mrna_seq\": \"rna_seq\",\n",
    "        \"wgbs-pbat\": \"wgbs\",\n",
    "        \"wgbs-standard\": \"wgbs\",\n",
    "    }\n",
    "    for col in df.columns:\n",
    "        if ASSAY in col:\n",
    "            df[col].replace(assay_merger, inplace=True)\n",
    "\n",
    "    for graph_type in [\"core\", \"non-core\"]:\n",
    "        print(f\"Graphing {graph_type}\")\n",
    "        if graph_type == \"core\":\n",
    "            sub_df = df[df[ASSAY].isin(ASSAY_ORDER)]\n",
    "        elif graph_type == \"non-core\":\n",
    "            sub_df = df[df[ASSAY].isin([\"ctcf\", \"non-core\"])]\n",
    "        else:\n",
    "            raise ValueError(f\"Invalid graph_type: {graph_type}\")\n",
    "\n",
    "        for name in [\n",
    "            f\"{ASSAY}_7c\",\n",
    "            f\"{ASSAY}_11c\",\n",
    "            CELL_TYPE,\n",
    "            SEX,\n",
    "            LIFE_STAGE,\n",
    "            f\"{LIFE_STAGE}_merged\",\n",
    "            CANCER,\n",
    "        ]:\n",
    "            logdir = output_dir / name\n",
    "            if not logdir.exists():\n",
    "                logdir.mkdir(parents=True)\n",
    "\n",
    "            if name == CELL_TYPE and graph_type == \"core\":\n",
    "                continue\n",
    "\n",
    "            if name in [f\"{ASSAY}_7c\", f\"{ASSAY}_11c\"] and graph_type == \"non-core\":\n",
    "                continue\n",
    "\n",
    "            y_true_col = f\"True class ({name})\"\n",
    "            y_pred_col = f\"Predicted class ({name})\"\n",
    "            max_pred_label = f\"Max pred ({name})\"\n",
    "\n",
    "            task_df = sub_df.copy(deep=True)\n",
    "            task_df = task_df.fillna(\"unknown\")\n",
    "            for col in [y_true_col, y_pred_col]:\n",
    "                task_df = task_df[task_df[col] != \"unknown\"]\n",
    "\n",
    "            if name == CELL_TYPE:\n",
    "                task_df = task_df[task_df[CELL_TYPE].isin(accepted_cts)]\n",
    "\n",
    "            print(name, task_df.shape)\n",
    "            for threshold in [0, 0.6, 0.8, 0.9]:\n",
    "                filtered_df = task_df[task_df[max_pred_label] >= threshold]\n",
    "\n",
    "                if filtered_df.shape[0] == 0:\n",
    "                    print(f\"No data for {name} with threshold {threshold}. Skipping.\")\n",
    "                    continue\n",
    "\n",
    "                true, pred = filtered_df[y_true_col], filtered_df[y_pred_col]\n",
    "                if name == CELL_TYPE:\n",
    "                    labels = accepted_cts\n",
    "                else:\n",
    "                    labels = set(true.unique()) | set(pred.unique())\n",
    "                    labels = sorted(labels)\n",
    "\n",
    "                cm = confusion_matrix(true, pred, labels=labels)\n",
    "\n",
    "                writer = ConfusionMatrixWriter(labels=labels, confusion_matrix=cm)\n",
    "                writer.to_all_formats(\n",
    "                    logdir=logdir,\n",
    "                    name=f\"{name}-{graph_type}-confusion_matrix-{threshold*100:.0f}\",\n",
    "                )\n",
    "                plt.close(\"all\")"
   ]
  },
  {
   "cell_type": "code",
   "execution_count": 93,
   "metadata": {},
   "outputs": [
    {
     "name": "stdout",
     "output_type": "stream",
     "text": [
      "Graphing core\n",
      "assay_epiclass_7c (3066, 280)\n",
      "assay_epiclass_11c (4716, 280)\n",
      "harmonized_donor_sex (4157, 280)\n"
     ]
    },
    {
     "name": "stderr",
     "output_type": "stream",
     "text": [
      "/home/local/USHERBROOKE/rabj2301/Projects/sources/epi_ml/src/python/epi_ml/core/confusion_matrix.py:135: RuntimeWarning:\n",
      "\n",
      "invalid value encountered in true_divide\n",
      "\n",
      "/home/local/USHERBROOKE/rabj2301/Projects/sources/epi_ml/src/python/epi_ml/core/confusion_matrix.py:135: RuntimeWarning:\n",
      "\n",
      "invalid value encountered in true_divide\n",
      "\n",
      "/home/local/USHERBROOKE/rabj2301/Projects/sources/epi_ml/src/python/epi_ml/core/confusion_matrix.py:135: RuntimeWarning:\n",
      "\n",
      "invalid value encountered in true_divide\n",
      "\n",
      "/home/local/USHERBROOKE/rabj2301/Projects/sources/epi_ml/src/python/epi_ml/core/confusion_matrix.py:135: RuntimeWarning:\n",
      "\n",
      "invalid value encountered in true_divide\n",
      "\n"
     ]
    },
    {
     "name": "stdout",
     "output_type": "stream",
     "text": [
      "harmonized_donor_life_stage (4036, 280)\n"
     ]
    },
    {
     "name": "stderr",
     "output_type": "stream",
     "text": [
      "/home/local/USHERBROOKE/rabj2301/Projects/sources/epi_ml/src/python/epi_ml/core/confusion_matrix.py:135: RuntimeWarning:\n",
      "\n",
      "invalid value encountered in true_divide\n",
      "\n",
      "/home/local/USHERBROOKE/rabj2301/Projects/sources/epi_ml/src/python/epi_ml/core/confusion_matrix.py:135: RuntimeWarning:\n",
      "\n",
      "invalid value encountered in true_divide\n",
      "\n",
      "/home/local/USHERBROOKE/rabj2301/Projects/sources/epi_ml/src/python/epi_ml/core/confusion_matrix.py:135: RuntimeWarning:\n",
      "\n",
      "invalid value encountered in true_divide\n",
      "\n",
      "/home/local/USHERBROOKE/rabj2301/Projects/sources/epi_ml/src/python/epi_ml/core/confusion_matrix.py:135: RuntimeWarning:\n",
      "\n",
      "invalid value encountered in true_divide\n",
      "\n"
     ]
    },
    {
     "name": "stdout",
     "output_type": "stream",
     "text": [
      "harmonized_donor_life_stage_merged (3208, 280)\n",
      "harmonized_sample_cancer_high (1986, 280)\n",
      "Graphing non-core\n",
      "harmonized_sample_ontology_intermediate (262, 280)\n"
     ]
    },
    {
     "name": "stderr",
     "output_type": "stream",
     "text": [
      "/home/local/USHERBROOKE/rabj2301/Projects/sources/epi_ml/src/python/epi_ml/core/confusion_matrix.py:135: RuntimeWarning:\n",
      "\n",
      "invalid value encountered in true_divide\n",
      "\n",
      "/home/local/USHERBROOKE/rabj2301/Projects/sources/epi_ml/src/python/epi_ml/core/confusion_matrix.py:135: RuntimeWarning:\n",
      "\n",
      "invalid value encountered in true_divide\n",
      "\n",
      "/home/local/USHERBROOKE/rabj2301/Projects/sources/epi_ml/src/python/epi_ml/core/confusion_matrix.py:135: RuntimeWarning:\n",
      "\n",
      "invalid value encountered in true_divide\n",
      "\n",
      "/home/local/USHERBROOKE/rabj2301/Projects/sources/epi_ml/src/python/epi_ml/core/confusion_matrix.py:135: RuntimeWarning:\n",
      "\n",
      "invalid value encountered in true_divide\n",
      "\n"
     ]
    },
    {
     "name": "stdout",
     "output_type": "stream",
     "text": [
      "harmonized_donor_sex (3990, 280)\n"
     ]
    },
    {
     "name": "stderr",
     "output_type": "stream",
     "text": [
      "/home/local/USHERBROOKE/rabj2301/Projects/sources/epi_ml/src/python/epi_ml/core/confusion_matrix.py:135: RuntimeWarning:\n",
      "\n",
      "invalid value encountered in true_divide\n",
      "\n",
      "/home/local/USHERBROOKE/rabj2301/Projects/sources/epi_ml/src/python/epi_ml/core/confusion_matrix.py:135: RuntimeWarning:\n",
      "\n",
      "invalid value encountered in true_divide\n",
      "\n",
      "/home/local/USHERBROOKE/rabj2301/Projects/sources/epi_ml/src/python/epi_ml/core/confusion_matrix.py:135: RuntimeWarning:\n",
      "\n",
      "invalid value encountered in true_divide\n",
      "\n",
      "/home/local/USHERBROOKE/rabj2301/Projects/sources/epi_ml/src/python/epi_ml/core/confusion_matrix.py:135: RuntimeWarning:\n",
      "\n",
      "invalid value encountered in true_divide\n",
      "\n"
     ]
    },
    {
     "name": "stdout",
     "output_type": "stream",
     "text": [
      "harmonized_donor_life_stage (3895, 280)\n"
     ]
    },
    {
     "name": "stderr",
     "output_type": "stream",
     "text": [
      "/home/local/USHERBROOKE/rabj2301/Projects/sources/epi_ml/src/python/epi_ml/core/confusion_matrix.py:135: RuntimeWarning:\n",
      "\n",
      "invalid value encountered in true_divide\n",
      "\n",
      "/home/local/USHERBROOKE/rabj2301/Projects/sources/epi_ml/src/python/epi_ml/core/confusion_matrix.py:135: RuntimeWarning:\n",
      "\n",
      "invalid value encountered in true_divide\n",
      "\n"
     ]
    },
    {
     "name": "stdout",
     "output_type": "stream",
     "text": [
      "harmonized_donor_life_stage_merged (3098, 280)\n",
      "harmonized_sample_cancer_high (4061, 280)\n"
     ]
    }
   ],
   "source": [
    "cm_logdir = base_fig_dir / \"encode_predictions\" / \"confusion_matrices\"\n",
    "graph_confusion_matrix(all_preds_no_epiatlas, cm_logdir)"
   ]
  },
  {
   "cell_type": "markdown",
   "metadata": {},
   "source": [
    "### track type"
   ]
  },
  {
   "cell_type": "code",
   "execution_count": null,
   "metadata": {},
   "outputs": [],
   "source": [
    "track_type_pred_path = (\n",
    "    base_data_dir\n",
    "    / \"training_results\"\n",
    "    / \"predictions\"\n",
    "    / \"encode\"\n",
    "    / \"track_type\"\n",
    "    / \"split0_test_prediction_100kb_all_none_all.list.csv\"\n",
    ")\n",
    "track_type_pred_df = pd.read_csv(track_type_pred_path)"
   ]
  },
  {
   "cell_type": "code",
   "execution_count": null,
   "metadata": {},
   "outputs": [],
   "source": [
    "pred_vector_cols = list(track_type_pred_df.columns[3:])\n",
    "track_type_pred_df[\"Max_pred_track_type\"] = track_type_pred_df.loc[\n",
    "    :, pred_vector_cols\n",
    "].max(axis=1)"
   ]
  },
  {
   "cell_type": "code",
   "execution_count": null,
   "metadata": {},
   "outputs": [],
   "source": [
    "track_type_df = track_type_pred_df.merge(\n",
    "    complete_metadata_df, left_on=\"Unnamed: 0\", right_on=\"FILE_accession\", how=\"inner\"\n",
    ")\n",
    "\n",
    "print(track_type_df.shape, encode_df.shape, track_type_pred_df.shape)"
   ]
  },
  {
   "cell_type": "code",
   "execution_count": null,
   "metadata": {},
   "outputs": [],
   "source": [
    "# write each table in a separate excel sheet\n",
    "output = track_type_pred_path.parent / \"track_type_predictions_pivot.csv\"\n",
    "output.unlink(missing_ok=True)\n",
    "\n",
    "with open(output, \"a\", encoding=\"utf8\") as csv_stream:\n",
    "    for min_pred in [0, 0.6, 0.8]:\n",
    "        df = track_type_df[track_type_df[\"Max_pred_track_type\"] >= min_pred]\n",
    "        pivot = df.pivot_table(\n",
    "            index=ASSAY,\n",
    "            columns=\"Predicted class\",\n",
    "            values=\"Max_pred_track_type\",\n",
    "            aggfunc=\"count\",\n",
    "            fill_value=0,\n",
    "            margins=True,\n",
    "        ).astype(int)\n",
    "        relative_pivot = pivot.div(pivot[\"All\"], axis=0) * 100\n",
    "\n",
    "        csv_stream.write(f\"Count Pivot - Min pred: {min_pred}\\n\")\n",
    "        pivot.to_csv(csv_stream)\n",
    "        csv_stream.write(\"\\n\")\n",
    "\n",
    "        csv_stream.write(f\"Relative Pivot - Min pred: {min_pred}\\n\")\n",
    "        relative_pivot.to_csv(csv_stream)\n",
    "        csv_stream.write(\"\\n\")\n",
    "\n",
    "        display(pivot)\n",
    "        # pylint: disable=consider-using-f-string\n",
    "        with pd.option_context(\"display.float_format\", \"{:.2f}\".format):\n",
    "            display(relative_pivot)"
   ]
  },
  {
   "cell_type": "markdown",
   "metadata": {},
   "source": [
    "## RNA-Seq Assay"
   ]
  },
  {
   "cell_type": "code",
   "execution_count": null,
   "metadata": {},
   "outputs": [],
   "source": [
    "rna_df = all_preds_no_epiatlas[all_preds_no_epiatlas[ASSAY].str.contains(\"rna\")].copy(\n",
    "    deep=True\n",
    ")"
   ]
  },
  {
   "cell_type": "code",
   "execution_count": null,
   "metadata": {},
   "outputs": [],
   "source": [
    "print(\"RNA-Seq assay accuracy, if mrna_seq != rna_seq\\n\")\n",
    "assay_label = f\"{ASSAY}_11c\"\n",
    "for min_pred in [0, 0.6, 0.8]:\n",
    "    df = rna_df[rna_df[f\"Max pred ({assay_label})\"] >= min_pred]\n",
    "    acc = len(\n",
    "        df[df[f\"True class ({assay_label})\"] == df[f\"Predicted class ({assay_label})\"]]\n",
    "    ) / len(df)\n",
    "    print(\n",
    "        f\"Min pred: {min_pred}, Accuracy: {acc:.4f}. Samples: {len(df)}/{rna_df.shape[0]}\\n\"\n",
    "    )\n",
    "    groupby = (\n",
    "        df.groupby([ASSAY, f\"Predicted class ({assay_label})\"])\n",
    "        .size()\n",
    "        .reset_index()\n",
    "        .rename(columns={0: \"Count\"})\n",
    "        .sort_values([ASSAY, \"Count\"], ascending=False)\n",
    "    )\n",
    "    print(groupby, \"\\n\")"
   ]
  }
 ],
 "metadata": {
  "kernelspec": {
   "display_name": "epiclass",
   "language": "python",
   "name": "python3"
  },
  "language_info": {
   "codemirror_mode": {
    "name": "ipython",
    "version": 3
   },
   "file_extension": ".py",
   "mimetype": "text/x-python",
   "name": "python",
   "nbconvert_exporter": "python",
   "pygments_lexer": "ipython3",
   "version": "3.8.10"
  }
 },
 "nbformat": 4,
 "nbformat_minor": 2
}

{
 "cells": [
  {
   "cell_type": "code",
   "execution_count": 157,
   "metadata": {},
   "outputs": [
    {
     "data": {
      "text/plain": [
       "'Plot PCA representation for various datasets.'"
      ]
     },
     "execution_count": 157,
     "metadata": {},
     "output_type": "execute_result"
    }
   ],
   "source": [
    "\"\"\"Plot PCA representation for various datasets.\"\"\"\n",
    "# pylint: disable=redefined-outer-name,use-dict-literal,import-error"
   ]
  },
  {
   "cell_type": "markdown",
   "metadata": {},
   "source": [
    "## SETUP"
   ]
  },
  {
   "cell_type": "code",
   "execution_count": 158,
   "metadata": {},
   "outputs": [
    {
     "name": "stdout",
     "output_type": "stream",
     "text": [
      "The autoreload extension is already loaded. To reload it, use:\n",
      "  %reload_ext autoreload\n"
     ]
    }
   ],
   "source": [
    "%load_ext autoreload\n",
    "%autoreload 2"
   ]
  },
  {
   "cell_type": "code",
   "execution_count": 159,
   "metadata": {},
   "outputs": [],
   "source": [
    "from __future__ import annotations\n",
    "\n",
    "from pathlib import Path\n",
    "\n",
    "import pandas as pd\n",
    "import plotly.express as px\n",
    "import plotly.graph_objects as go\n",
    "import skops.io as skio\n",
    "from IPython.display import display  # pylint: disable=unused-import\n",
    "\n",
    "from epi_ml.core.hdf5_loader import Hdf5Loader\n",
    "from epi_ml.utils.notebooks.paper.paper_utilities import (\n",
    "    ASSAY_ORDER,\n",
    "    MetadataHandler,\n",
    "    merge_epiatlas_CA_metadata,\n",
    ")"
   ]
  },
  {
   "cell_type": "code",
   "execution_count": 160,
   "metadata": {},
   "outputs": [],
   "source": [
    "CORE_ASSAYS = ASSAY_ORDER[0:7]"
   ]
  },
  {
   "cell_type": "code",
   "execution_count": 161,
   "metadata": {},
   "outputs": [],
   "source": [
    "base_dir = Path.home() / \"Projects/epiclass/output/paper\"\n",
    "base_data_dir = base_dir / \"data\"\n",
    "base_fig_dir = base_dir / \"figures\"\n",
    "paper_dir = base_dir\n",
    "\n",
    "if not base_fig_dir.exists():\n",
    "    raise FileNotFoundError(f\"Directory {base_fig_dir} does not exist.\")"
   ]
  },
  {
   "cell_type": "code",
   "execution_count": 162,
   "metadata": {},
   "outputs": [],
   "source": [
    "metadata_handler = MetadataHandler(paper_dir)\n",
    "metadata_v2 = metadata_handler.load_metadata(\"v2\")"
   ]
  },
  {
   "cell_type": "code",
   "execution_count": 163,
   "metadata": {},
   "outputs": [],
   "source": [
    "chromsize_path = base_data_dir / \"chromsizes\" / \"hg38.noy.chrom.sizes\"\n",
    "hdf5_loader = Hdf5Loader(chrom_file=chromsize_path, normalization=True)"
   ]
  },
  {
   "cell_type": "markdown",
   "metadata": {},
   "source": [
    "### Metadata setup"
   ]
  },
  {
   "cell_type": "code",
   "execution_count": 164,
   "metadata": {},
   "outputs": [],
   "source": [
    "ca_pred_path = (\n",
    "    base_data_dir\n",
    "    / \"training_results\"\n",
    "    / \"predictions\"\n",
    "    / \"C-A\"\n",
    "    / \"assay_epiclass\"\n",
    "    / \"CA_metadata_4DB+all_pred_subset.20240606_mod2.tsv\"\n",
    ")\n",
    "ca_pred_df = pd.read_csv(ca_pred_path, sep=\"\\t\", low_memory=False)"
   ]
  },
  {
   "cell_type": "code",
   "execution_count": 165,
   "metadata": {},
   "outputs": [],
   "source": [
    "PLOT_LABEL = \"plot_label\""
   ]
  },
  {
   "cell_type": "code",
   "execution_count": 167,
   "metadata": {},
   "outputs": [],
   "source": [
    "custom_metadata_df = merge_epiatlas_CA_metadata(metadata_v2, ca_pred_df)"
   ]
  },
  {
   "cell_type": "markdown",
   "metadata": {},
   "source": [
    "### PCA results loading"
   ]
  },
  {
   "cell_type": "code",
   "execution_count": 168,
   "metadata": {},
   "outputs": [],
   "source": [
    "pca_dir = base_data_dir / \"pca\"\n",
    "pca_fit = skio.load(pca_dir / \"IPCA_fit_n88777.skops\")\n",
    "pca_results = skio.load(pca_dir / \"X_IPCA_n88777.skops\")"
   ]
  },
  {
   "cell_type": "code",
   "execution_count": 169,
   "metadata": {},
   "outputs": [],
   "source": [
    "pca_data = pca_results[\"X_ipca\"]"
   ]
  },
  {
   "cell_type": "code",
   "execution_count": 170,
   "metadata": {},
   "outputs": [],
   "source": [
    "ipca_fit = pca_fit[\"ipca_fit\"]\n",
    "pca_samples = pca_fit[\"file_names\"]\n",
    "explained_variance = ipca_fit.explained_variance_ratio_"
   ]
  },
  {
   "cell_type": "code",
   "execution_count": 171,
   "metadata": {},
   "outputs": [],
   "source": [
    "global_pca_df = pd.DataFrame(pca_data)\n",
    "global_pca_df.columns = [f\"PC{i+1}\" for i in range(global_pca_df.shape[1])]\n",
    "global_pca_df[\"sample_id\"] = pca_samples"
   ]
  },
  {
   "cell_type": "code",
   "execution_count": 172,
   "metadata": {},
   "outputs": [],
   "source": [
    "filtered_pca_df = global_pca_df[global_pca_df[\"sample_id\"].isin(custom_metadata_df.index)]"
   ]
  },
  {
   "cell_type": "code",
   "execution_count": 173,
   "metadata": {},
   "outputs": [],
   "source": [
    "final_pca_df = filtered_pca_df.merge(\n",
    "    custom_metadata_df, left_on=\"sample_id\", right_index=True\n",
    ")"
   ]
  },
  {
   "cell_type": "code",
   "execution_count": 174,
   "metadata": {},
   "outputs": [],
   "source": [
    "final_pca_df[\"DB\"] = final_pca_df[PLOT_LABEL].apply(lambda x: x.split(\"_\", maxsplit=1)[0])\n",
    "final_pca_df[\"assay\"] = final_pca_df[PLOT_LABEL].apply(\n",
    "    lambda x: x.split(\"_\", maxsplit=1)[1]\n",
    ")"
   ]
  },
  {
   "cell_type": "code",
   "execution_count": 175,
   "metadata": {},
   "outputs": [
    {
     "data": {
      "text/plain": [
       "C-A         48669\n",
       "epiatlas    20922\n",
       "Name: DB, dtype: int64"
      ]
     },
     "execution_count": 175,
     "metadata": {},
     "output_type": "execute_result"
    }
   ],
   "source": [
    "final_pca_df[\"DB\"].value_counts()"
   ]
  },
  {
   "cell_type": "markdown",
   "metadata": {},
   "source": [
    "## Plotting"
   ]
  },
  {
   "cell_type": "code",
   "execution_count": 176,
   "metadata": {},
   "outputs": [],
   "source": [
    "output_dir = base_fig_dir / \"pca\""
   ]
  },
  {
   "cell_type": "code",
   "execution_count": 189,
   "metadata": {},
   "outputs": [],
   "source": [
    "core_assay_df = final_pca_df[final_pca_df[\"assay\"].isin(CORE_ASSAYS)]"
   ]
  },
  {
   "cell_type": "code",
   "execution_count": 190,
   "metadata": {},
   "outputs": [],
   "source": [
    "color_dict = {\n",
    "    \"C-A\": px.colors.qualitative.Dark24[0],\n",
    "    \"epiatlas\": px.colors.qualitative.Dark24[1],\n",
    "}\n",
    "\n",
    "fig = go.Figure()\n",
    "for db_label, color in color_dict.items():\n",
    "    filtered_df = final_pca_df[final_pca_df[\"DB\"] == db_label]\n",
    "    fig.add_trace(\n",
    "        go.Scatter3d(\n",
    "            x=filtered_df[\"PC1\"],\n",
    "            y=filtered_df[\"PC2\"],\n",
    "            z=filtered_df[\"PC3\"],\n",
    "            mode=\"markers\",\n",
    "            marker=dict(\n",
    "                size=1,\n",
    "                color=color,\n",
    "                opacity=0.5,\n",
    "            ),\n",
    "            hovertemplate=\"%{text}\",\n",
    "            text=[\n",
    "                f\"{id_label}: {assay} ({db_label})\"\n",
    "                for id_label, assay, db_label in zip(\n",
    "                    filtered_df[\"sample_id\"],\n",
    "                    filtered_df[\"assay\"],\n",
    "                    filtered_df[\"DB\"],\n",
    "                )\n",
    "            ],\n",
    "            name=f\"{db_label} (N={filtered_df.shape[0]})\",\n",
    "            showlegend=True,\n",
    "        )\n",
    "    )\n",
    "\n",
    "axis_titles = [f\"PC {i+1} ({explained_variance[i]:.2%})\" for i in range(3)]\n",
    "\n",
    "fig.update_layout(\n",
    "    title=\"3D PCA - epiATLAS and ChiP-Atlas - all samples\",\n",
    "    scene=dict(\n",
    "        xaxis_title=axis_titles[0],\n",
    "        yaxis_title=axis_titles[1],\n",
    "        zaxis_title=axis_titles[2],\n",
    "    ),\n",
    "    legend={\"itemsizing\": \"constant\"},\n",
    ")\n",
    "\n",
    "fig.write_html(output_dir / \"pca_all_samples_C-A_epiatlas_3D.html\")"
   ]
  },
  {
   "cell_type": "code",
   "execution_count": 191,
   "metadata": {},
   "outputs": [],
   "source": [
    "color_dict = {\n",
    "    \"C-A\": px.colors.qualitative.Dark24[0],\n",
    "    \"epiatlas\": px.colors.qualitative.Dark24[1],\n",
    "}\n",
    "\n",
    "fig = go.Figure()\n",
    "for db_label, color in color_dict.items():\n",
    "    filtered_df = core_assay_df[core_assay_df[\"DB\"] == db_label]\n",
    "    fig.add_trace(\n",
    "        go.Scatter3d(\n",
    "            x=filtered_df[\"PC1\"],\n",
    "            y=filtered_df[\"PC2\"],\n",
    "            z=filtered_df[\"PC3\"],\n",
    "            mode=\"markers\",\n",
    "            marker=dict(\n",
    "                size=1,\n",
    "                color=color,\n",
    "                opacity=0.5,\n",
    "            ),\n",
    "            hovertemplate=\"%{text}\",\n",
    "            text=[\n",
    "                f\"{id_label}: {assay} ({db_label})\"\n",
    "                for id_label, assay, db_label in zip(\n",
    "                    filtered_df[\"sample_id\"],\n",
    "                    filtered_df[\"assay\"],\n",
    "                    filtered_df[\"DB\"],\n",
    "                )\n",
    "            ],\n",
    "            name=f\"{db_label} (N={filtered_df.shape[0]})\",\n",
    "            showlegend=True,\n",
    "        )\n",
    "    )\n",
    "\n",
    "axis_titles = [f\"PC {i+1} ({explained_variance[i]:.2%})\" for i in range(3)]\n",
    "\n",
    "fig.update_layout(\n",
    "    title=\"3D PCA - epiATLAS and ChiP-Atlas - core7 samples\",\n",
    "    scene=dict(\n",
    "        xaxis_title=axis_titles[0],\n",
    "        yaxis_title=axis_titles[1],\n",
    "        zaxis_title=axis_titles[2],\n",
    "    ),\n",
    "    legend={\"itemsizing\": \"constant\"},\n",
    ")\n",
    "\n",
    "fig.write_html(output_dir / \"pca_core7_C-A_epiatlas_3D.html\")"
   ]
  },
  {
   "cell_type": "code",
   "execution_count": 192,
   "metadata": {},
   "outputs": [],
   "source": [
    "color_dict = {\n",
    "    plot_label: px.colors.qualitative.Dark24[i]\n",
    "    for i, plot_label in enumerate(final_pca_df[PLOT_LABEL].unique())\n",
    "}\n",
    "\n",
    "fig = go.Figure()\n",
    "for plot_label, color in color_dict.items():\n",
    "    filtered_df = core_assay_df[core_assay_df[PLOT_LABEL] == plot_label]\n",
    "    fig.add_trace(\n",
    "        go.Scatter3d(\n",
    "            x=filtered_df[\"PC1\"],\n",
    "            y=filtered_df[\"PC2\"],\n",
    "            z=filtered_df[\"PC3\"],\n",
    "            mode=\"markers\",\n",
    "            marker=dict(\n",
    "                size=1,\n",
    "                color=color,\n",
    "                opacity=0.5,\n",
    "            ),\n",
    "            hovertemplate=\"%{text}\",\n",
    "            text=[\n",
    "                f\"{id_label}: {assay} ({db_label})\"\n",
    "                for id_label, assay, db_label in zip(\n",
    "                    filtered_df[\"sample_id\"],\n",
    "                    filtered_df[\"assay\"],\n",
    "                    filtered_df[\"DB\"],\n",
    "                )\n",
    "            ],\n",
    "            name=f\"{plot_label} (N={filtered_df.shape[0]})\",\n",
    "            showlegend=True,\n",
    "        )\n",
    "    )\n",
    "\n",
    "axis_titles = [f\"PC {i+1} ({explained_variance[i]:.2%})\" for i in range(3)]\n",
    "\n",
    "fig.update_layout(\n",
    "    title=\"3D PCA - epiATLAS and ChiP-Atlas - core7 samples\",\n",
    "    scene=dict(\n",
    "        xaxis_title=axis_titles[0],\n",
    "        yaxis_title=axis_titles[1],\n",
    "        zaxis_title=axis_titles[2],\n",
    "    ),\n",
    "    legend={\"itemsizing\": \"constant\"},\n",
    ")\n",
    "\n",
    "fig.write_html(output_dir / \"pca_core7_per_assay_C-A_epiatlas_3D.html\")"
   ]
  },
  {
   "cell_type": "code",
   "execution_count": 193,
   "metadata": {},
   "outputs": [],
   "source": [
    "color_dict = {\n",
    "    plot_label: px.colors.qualitative.Dark24[i]\n",
    "    for i, plot_label in enumerate(final_pca_df[PLOT_LABEL].unique())\n",
    "}\n",
    "\n",
    "fig = go.Figure()\n",
    "for plot_label, color in color_dict.items():\n",
    "    filtered_df = core_assay_df[core_assay_df[PLOT_LABEL] == plot_label]\n",
    "    fig.add_trace(\n",
    "        go.Scatter(\n",
    "            x=filtered_df[\"PC1\"],\n",
    "            y=filtered_df[\"PC2\"],\n",
    "            mode=\"markers\",\n",
    "            marker=dict(\n",
    "                size=1,\n",
    "                color=color,\n",
    "                opacity=0.5,\n",
    "            ),\n",
    "            hovertemplate=\"%{text}\",\n",
    "            text=[\n",
    "                f\"{id_label}: {assay} ({db_label})\"\n",
    "                for id_label, assay, db_label in zip(\n",
    "                    filtered_df[\"sample_id\"],\n",
    "                    filtered_df[\"assay\"],\n",
    "                    filtered_df[\"DB\"],\n",
    "                )\n",
    "            ],\n",
    "            name=f\"{plot_label} (N={filtered_df.shape[0]})\",\n",
    "            showlegend=True,\n",
    "        )\n",
    "    )\n",
    "\n",
    "axis_titles = [f\"PC {i+1} ({explained_variance[i]:.2%})\" for i in range(2)]\n",
    "\n",
    "fig.update_layout(\n",
    "    title=\"2D PCA - epiATLAS and ChiP-Atlas - core7 samples\",\n",
    "    xaxis_title=axis_titles[0],\n",
    "    yaxis_title=axis_titles[1],\n",
    "    legend={\"itemsizing\": \"constant\"},\n",
    ")\n",
    "\n",
    "name = \"pca_core7_per_assay_C-A_epiatlas_2D\"\n",
    "fig.write_html(output_dir / f\"{name}.html\")\n",
    "fig.write_image(output_dir / f\"{name}.png\")\n",
    "fig.write_image(output_dir / f\"{name}.svg\")"
   ]
  },
  {
   "cell_type": "code",
   "execution_count": 194,
   "metadata": {},
   "outputs": [],
   "source": [
    "color_dict = {\n",
    "    \"C-A\": px.colors.qualitative.Dark24[0],\n",
    "    \"epiatlas\": px.colors.qualitative.Dark24[1],\n",
    "}\n",
    "\n",
    "fig = go.Figure()\n",
    "for db_label, color in color_dict.items():\n",
    "    filtered_df = core_assay_df[core_assay_df[\"DB\"] == db_label]\n",
    "    fig.add_trace(\n",
    "        go.Scatter(\n",
    "            x=filtered_df[\"PC1\"],\n",
    "            y=filtered_df[\"PC2\"],\n",
    "            mode=\"markers\",\n",
    "            marker=dict(\n",
    "                size=1,\n",
    "                color=color,\n",
    "                opacity=0.8,\n",
    "            ),\n",
    "            hovertemplate=\"%{text}\",\n",
    "            text=[\n",
    "                f\"{id_label}: {assay} ({db_label})\"\n",
    "                for id_label, assay, db_label in zip(\n",
    "                    filtered_df[\"sample_id\"],\n",
    "                    filtered_df[\"assay\"],\n",
    "                    filtered_df[\"DB\"],\n",
    "                )\n",
    "            ],\n",
    "            name=f\"{db_label} (N={filtered_df.shape[0]})\",\n",
    "            showlegend=True,\n",
    "        )\n",
    "    )\n",
    "\n",
    "axis_titles = [f\"PC {i+1} ({explained_variance[i]:.2%})\" for i in range(2)]\n",
    "\n",
    "fig.update_layout(\n",
    "    title=\"2D PCA - epiATLAS and ChiP-Atlas - core7 samples\",\n",
    "    xaxis_title=axis_titles[0],\n",
    "    yaxis_title=axis_titles[1],\n",
    "    legend={\"itemsizing\": \"constant\"},\n",
    ")\n",
    "\n",
    "name = \"pca_core7_C-A_epiatlas_2D\"\n",
    "fig.write_html(output_dir / f\"{name}.html\")\n",
    "fig.write_image(output_dir / f\"{name}.png\")\n",
    "fig.write_image(output_dir / f\"{name}.svg\")"
   ]
  }
 ],
 "metadata": {
  "kernelspec": {
   "display_name": "epiclass",
   "language": "python",
   "name": "python3"
  },
  "language_info": {
   "codemirror_mode": {
    "name": "ipython",
    "version": 3
   },
   "file_extension": ".py",
   "mimetype": "text/x-python",
   "name": "python",
   "nbconvert_exporter": "python",
   "pygments_lexer": "ipython3",
   "version": "3.8.10"
  }
 },
 "nbformat": 4,
 "nbformat_minor": 2
}

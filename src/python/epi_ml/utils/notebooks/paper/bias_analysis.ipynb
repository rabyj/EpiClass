{
 "cells": [
  {
   "cell_type": "code",
   "execution_count": null,
   "metadata": {},
   "outputs": [],
   "source": [
    "\"\"\"Workbook to quantify bias present in metadata\n",
    "Q: Can you identify certain labels by using other metadata\n",
    "e.g. find cell type using project+assay+other\n",
    "\"\"\"\n",
    "# pylint: disable=import-error, redefined-outer-name, use-dict-literal, too-many-lines, unused-import, unused-argument, too-many-branches, pointless-statement"
   ]
  },
  {
   "cell_type": "code",
   "execution_count": null,
   "metadata": {},
   "outputs": [],
   "source": [
    "%load_ext autoreload\n",
    "%autoreload 2"
   ]
  },
  {
   "cell_type": "code",
   "execution_count": 33,
   "metadata": {},
   "outputs": [],
   "source": [
    "from __future__ import annotations\n",
    "\n",
    "from pathlib import Path\n",
    "\n",
    "import numpy as np\n",
    "from IPython.display import display\n",
    "from sklearn.ensemble import RandomForestClassifier\n",
    "from sklearn.linear_model import LogisticRegression\n",
    "from sklearn.model_selection import cross_val_score\n",
    "from sklearn.preprocessing import LabelEncoder, OneHotEncoder\n",
    "from sklearn.svm import SVC\n",
    "\n",
    "from epi_ml.utils.notebooks.paper.paper_utilities import (\n",
    "    ASSAY,\n",
    "    CELL_TYPE,\n",
    "    LIFE_STAGE,\n",
    "    SEX,\n",
    "    MetadataHandler,\n",
    "    SplitResultsHandler,\n",
    "    create_mislabel_corrector,\n",
    ")"
   ]
  },
  {
   "cell_type": "code",
   "execution_count": 34,
   "metadata": {},
   "outputs": [],
   "source": [
    "base_dir = Path.home() / \"Projects/epiclass/output/paper\"\n",
    "base_data_dir = base_dir / \"data\"\n",
    "base_fig_dir = base_dir / \"figures\"\n",
    "paper_dir = base_dir\n",
    "\n",
    "if not base_fig_dir.exists():\n",
    "    raise FileNotFoundError(f\"Directory {base_fig_dir} does not exist.\")"
   ]
  },
  {
   "cell_type": "code",
   "execution_count": 35,
   "metadata": {},
   "outputs": [],
   "source": [
    "metadata_handler = MetadataHandler(paper_dir)\n",
    "metadata_df = metadata_handler.load_metadata_df(\"v2\")\n",
    "metadata = metadata_handler.load_metadata(\"v2\")\n",
    "\n",
    "split_results_handler = SplitResultsHandler()"
   ]
  },
  {
   "cell_type": "markdown",
   "metadata": {},
   "source": [
    "## Evaluate bias in input samples classification"
   ]
  },
  {
   "cell_type": "markdown",
   "metadata": {},
   "source": [
    "### Collect observed average accuracy"
   ]
  },
  {
   "cell_type": "code",
   "execution_count": 36,
   "metadata": {},
   "outputs": [],
   "source": [
    "results_dir = base_data_dir / \"training_results\" / \"dfreeze_v2\" / \"hg38_100kb_all_none\"\n",
    "\n",
    "exclusion = [\"cancer\", \"random\", \"track\", \"disease\", \"second\", \"end\"]\n",
    "exclude_names = [\"chip\", \"no-mixed\", \"ct\", \"7c\"]\n",
    "\n",
    "all_split_results = split_results_handler.general_split_metrics(\n",
    "    results_dir=results_dir,\n",
    "    exclude_categories=exclusion,\n",
    "    exclude_names=exclude_names,\n",
    "    merge_assays=True,\n",
    "    mislabel_corrections=create_mislabel_corrector(paper_dir),\n",
    "    return_type=\"split_results\",\n",
    ")"
   ]
  },
  {
   "cell_type": "code",
   "execution_count": 37,
   "metadata": {},
   "outputs": [],
   "source": [
    "concat_split_results = split_results_handler.concatenate_split_results(all_split_results, concat_first_level=True)  # type: ignore"
   ]
  },
  {
   "cell_type": "code",
   "execution_count": 38,
   "metadata": {},
   "outputs": [],
   "source": [
    "for cat_name, df in list(concat_split_results.items()):\n",
    "    new_df = metadata_handler.join_metadata(df, metadata)\n",
    "    concat_split_results[cat_name] = new_df"
   ]
  },
  {
   "cell_type": "code",
   "execution_count": 39,
   "metadata": {},
   "outputs": [],
   "source": [
    "avg_input_acc = {}\n",
    "for cat_name, df in list(concat_split_results.items()):\n",
    "    # filtered_df = df[df[ASSAY] == \"input\"]\n",
    "    filtered_df = df\n",
    "    acc = (filtered_df[\"True class\"] == filtered_df[\"Predicted class\"]).sum() / len(\n",
    "        filtered_df\n",
    "    )\n",
    "    avg_input_acc[cat_name] = acc"
   ]
  },
  {
   "cell_type": "code",
   "execution_count": null,
   "metadata": {},
   "outputs": [],
   "source": [
    "display(avg_input_acc)"
   ]
  },
  {
   "cell_type": "code",
   "execution_count": 41,
   "metadata": {},
   "outputs": [],
   "source": [
    "avg_input_acc[SEX] = avg_input_acc[\"harmonized_donor_sex_w-mixed\"]\n",
    "concat_split_results[SEX] = concat_split_results[\"harmonized_donor_sex_w-mixed\"]\n",
    "\n",
    "avg_input_acc[ASSAY] = avg_input_acc[\"assay_epiclass_11c\"]\n",
    "concat_split_results[ASSAY] = concat_split_results[\"assay_epiclass_11c\"]"
   ]
  },
  {
   "cell_type": "markdown",
   "metadata": {},
   "source": [
    "### Compute max bias accuracy using metadata as input"
   ]
  },
  {
   "cell_type": "code",
   "execution_count": 42,
   "metadata": {},
   "outputs": [],
   "source": [
    "output_category = CELL_TYPE"
   ]
  },
  {
   "cell_type": "code",
   "execution_count": 43,
   "metadata": {},
   "outputs": [],
   "source": [
    "bias_categories_1 = [ASSAY, \"project\", \"harmonized_biomaterial_type\", CELL_TYPE]\n",
    "bias_categories_2 = [\n",
    "    ASSAY,\n",
    "    \"project\",\n",
    "    \"harmonized_biomaterial_type\",\n",
    "    CELL_TYPE,\n",
    "    LIFE_STAGE,\n",
    "]\n",
    "bias_categories_3 = [ASSAY, \"project\", \"harmonized_biomaterial_type\", CELL_TYPE, SEX]\n",
    "bias_categories_4 = [\n",
    "    ASSAY,\n",
    "    \"project\",\n",
    "    \"harmonized_biomaterial_type\",\n",
    "    CELL_TYPE,\n",
    "    SEX,\n",
    "    LIFE_STAGE,\n",
    "]\n",
    "\n",
    "all_bias_categories = [\n",
    "    bias_categories_1,\n",
    "    bias_categories_2,\n",
    "    bias_categories_3,\n",
    "    bias_categories_4,\n",
    "]\n",
    "for bias_categories in all_bias_categories:\n",
    "    try:\n",
    "        bias_categories.remove(output_category)\n",
    "    except ValueError:\n",
    "        pass"
   ]
  },
  {
   "cell_type": "code",
   "execution_count": null,
   "metadata": {},
   "outputs": [],
   "source": [
    "# only consider input values that were actually in the training set\n",
    "input_df = metadata_df\n",
    "# input_df = metadata_df[metadata_df[ASSAY] == \"input\"]\n",
    "input_df[\"md5sum\"] = input_df.index\n",
    "\n",
    "filtered_input_df = input_df[\n",
    "    input_df[\"md5sum\"].isin(concat_split_results[output_category][\"md5sum\"])\n",
    "]\n",
    "print(input_df.shape, filtered_input_df.shape)"
   ]
  },
  {
   "cell_type": "code",
   "execution_count": null,
   "metadata": {},
   "outputs": [],
   "source": [
    "display(filtered_input_df[output_category].value_counts())"
   ]
  },
  {
   "cell_type": "code",
   "execution_count": 46,
   "metadata": {},
   "outputs": [],
   "source": [
    "lr_model_1 = LogisticRegression(\n",
    "    solver=\"lbfgs\", max_iter=1000, multi_class=\"multinomial\", random_state=42\n",
    ")\n",
    "lr_model_2 = LogisticRegression(\n",
    "    solver=\"lbfgs\", max_iter=1000, multi_class=\"ovr\", random_state=42\n",
    ")\n",
    "rf_model = RandomForestClassifier(n_estimators=100, random_state=42)\n",
    "svm_model = SVC(kernel=\"linear\", random_state=42)\n",
    "svm_model_rbf = SVC(kernel=\"rbf\", random_state=42)"
   ]
  },
  {
   "cell_type": "code",
   "execution_count": null,
   "metadata": {},
   "outputs": [],
   "source": [
    "max_bias_dict = {}\n",
    "for bias_categories in all_bias_categories:\n",
    "    print(f\"Using bias categories: {bias_categories}\")\n",
    "    X = filtered_input_df[bias_categories]\n",
    "    y = filtered_input_df[output_category]\n",
    "\n",
    "    # one-hot encode the data\n",
    "    X_encoded = OneHotEncoder().fit_transform(X).toarray()  # type: ignore\n",
    "    y_encoded = LabelEncoder().fit_transform(y)\n",
    "\n",
    "    max_acc = 0\n",
    "    for model in [lr_model_1, lr_model_2, rf_model, svm_model, svm_model_rbf]:\n",
    "        scores = cross_val_score(model, X_encoded, y_encoded, cv=10, scoring=\"accuracy\")\n",
    "        print(f\"Model: {model}\")\n",
    "        print(f\"Accuracy: {np.mean(scores):.2f} (+/- {np.std(scores):.2f})\")\n",
    "        if np.mean(scores) > max_acc:\n",
    "            max_acc = np.mean(scores)\n",
    "            max_bias_dict[tuple(bias_categories)] = max_acc"
   ]
  },
  {
   "cell_type": "code",
   "execution_count": null,
   "metadata": {},
   "outputs": [],
   "source": [
    "max_bias_cats, max_bias_acc = max(max_bias_dict.items(), key=lambda x: x[1])\n",
    "display(max_bias_cats, max_bias_acc)"
   ]
  },
  {
   "cell_type": "markdown",
   "metadata": {},
   "source": [
    "### Max acc estimation"
   ]
  },
  {
   "cell_type": "code",
   "execution_count": 49,
   "metadata": {},
   "outputs": [],
   "source": [
    "acc_to_compare = [acc for cat, acc in avg_input_acc.items() if cat in max_bias_cats]\n",
    "max_acc_with_bias = max_bias_acc * np.mean(acc_to_compare)"
   ]
  },
  {
   "cell_type": "code",
   "execution_count": null,
   "metadata": {},
   "outputs": [],
   "source": [
    "print(\"INPUT CLASSIFICATION ACCURACY\")\n",
    "print(f\"Average {output_category} observed acc: {avg_input_acc[output_category]:.1%}\")\n",
    "print(f\"Max avg acc with bias from ({max_bias_cats}): {max_acc_with_bias:.1%}\")\n",
    "print(f\"Not accounted for: {avg_input_acc[output_category] - max_acc_with_bias:.1%}\")"
   ]
  }
 ],
 "metadata": {
  "kernelspec": {
   "display_name": "epiclass",
   "language": "python",
   "name": "python3"
  },
  "language_info": {
   "codemirror_mode": {
    "name": "ipython",
    "version": 3
   },
   "file_extension": ".py",
   "mimetype": "text/x-python",
   "name": "python",
   "nbconvert_exporter": "python",
   "pygments_lexer": "ipython3",
   "version": "3.8.10"
  }
 },
 "nbformat": 4,
 "nbformat_minor": 2
}

{
 "cells": [
  {
   "cell_type": "code",
   "execution_count": 25,
   "metadata": {},
   "outputs": [
    {
     "data": {
      "text/plain": [
       "'\\nAnalyze non-core predictions from 9n-nc classifier and co.\\n'"
      ]
     },
     "execution_count": 25,
     "metadata": {},
     "output_type": "execute_result"
    }
   ],
   "source": [
    "\"\"\"\n",
    "Analyze non-core predictions from 9n-nc classifier and co.\n",
    "\"\"\"\n",
    "# pylint: disable=import-error, redefined-outer-name, use-dict-literal, too-many-lines, unused-import, unused-argument, too-many-branches"
   ]
  },
  {
   "cell_type": "code",
   "execution_count": 26,
   "metadata": {},
   "outputs": [
    {
     "name": "stdout",
     "output_type": "stream",
     "text": [
      "The autoreload extension is already loaded. To reload it, use:\n",
      "  %reload_ext autoreload\n"
     ]
    }
   ],
   "source": [
    "%load_ext autoreload\n",
    "%autoreload 2"
   ]
  },
  {
   "cell_type": "code",
   "execution_count": 27,
   "metadata": {},
   "outputs": [],
   "source": [
    "from __future__ import annotations\n",
    "\n",
    "from pathlib import Path\n",
    "from typing import List\n",
    "\n",
    "import numpy as np\n",
    "import pandas as pd\n",
    "from IPython.display import display\n",
    "from sklearn.metrics import confusion_matrix as sk_cm\n",
    "\n",
    "from epi_ml.core.confusion_matrix import ConfusionMatrixWriter\n",
    "from epi_ml.utils.notebooks.paper.paper_utilities import (\n",
    "    ASSAY,\n",
    "    IHECColorMap,\n",
    "    MetadataHandler,\n",
    "    SplitResultsHandler,\n",
    ")\n",
    "\n",
    "# import plotly.graph_objects as go\n",
    "# from plotly.subplots import make_subplots"
   ]
  },
  {
   "cell_type": "code",
   "execution_count": 28,
   "metadata": {},
   "outputs": [],
   "source": [
    "base_dir = Path.home() / \"Projects/epiclass/output/paper\"\n",
    "base_data_dir = base_dir / \"data\"\n",
    "base_fig_dir = base_dir / \"figures\"\n",
    "paper_dir = base_dir\n",
    "\n",
    "if not base_fig_dir.exists():\n",
    "    raise FileNotFoundError(f\"Directory {base_fig_dir} does not exist.\")"
   ]
  },
  {
   "cell_type": "code",
   "execution_count": 29,
   "metadata": {},
   "outputs": [],
   "source": [
    "IHECColorMap = IHECColorMap(base_fig_dir)\n",
    "assay_colors = IHECColorMap.assay_color_map"
   ]
  },
  {
   "cell_type": "code",
   "execution_count": 30,
   "metadata": {},
   "outputs": [],
   "source": [
    "split_results_handler = SplitResultsHandler()\n",
    "metadata_handler = MetadataHandler(paper_dir)"
   ]
  },
  {
   "cell_type": "code",
   "execution_count": 31,
   "metadata": {},
   "outputs": [],
   "source": [
    "metadata_v2_df = metadata_handler.load_metadata_df(\"v2-encode\", merge_assays=False)"
   ]
  },
  {
   "cell_type": "markdown",
   "metadata": {},
   "source": [
    "## assay epiclass 9c-nc"
   ]
  },
  {
   "cell_type": "markdown",
   "metadata": {},
   "source": [
    "### Create informative dataframe"
   ]
  },
  {
   "cell_type": "code",
   "execution_count": 32,
   "metadata": {},
   "outputs": [],
   "source": [
    "results_dir = (\n",
    "    base_data_dir / \"training_results/dfreeze_v2/hg38_100kb_all_none_w_encode_noncore\"\n",
    ")\n",
    "results_dir = results_dir / f\"{ASSAY}_1l_3000n\" / \"9c-nc\" / \"10fold-oversampling\"\n",
    "if not results_dir.exists():\n",
    "    raise FileNotFoundError(f\"Directory {results_dir} does not exist.\")"
   ]
  },
  {
   "cell_type": "code",
   "execution_count": 33,
   "metadata": {},
   "outputs": [],
   "source": [
    "results = split_results_handler.read_split_results(results_dir)\n",
    "concat_results = split_results_handler.concatenate_split_results(\n",
    "    {\"9c-nc\": results}, concat_first_level=True\n",
    ")[\"9c-nc\"]"
   ]
  },
  {
   "cell_type": "code",
   "execution_count": 34,
   "metadata": {},
   "outputs": [],
   "source": [
    "# concat_results.columns"
   ]
  },
  {
   "cell_type": "code",
   "execution_count": 35,
   "metadata": {},
   "outputs": [],
   "source": [
    "def add_second_highest_prediction(df: pd.DataFrame, pred_cols: List[str]) -> pd.DataFrame:\n",
    "    \"\"\"Return the index of the second highest prediction in a row.\"\"\"\n",
    "    # Convert the relevant columns to a numpy array\n",
    "    predictions = concat_results[pred_cols].values\n",
    "\n",
    "    # Get the indices of the sorted values\n",
    "    sorted_indices = np.argsort(predictions, axis=1)\n",
    "\n",
    "    # The second highest will be at position -2 (second to last) in the sorted order\n",
    "    second_highest_indices = sorted_indices[:, -2]\n",
    "\n",
    "    # Map indices to column names\n",
    "    second_highest_columns = np.array(pred_cols)[second_highest_indices]\n",
    "\n",
    "    # Add the second highest prediction column to the DataFrame\n",
    "    df[\"2nd_pred_class\"] = second_highest_columns\n",
    "    return df"
   ]
  },
  {
   "cell_type": "code",
   "execution_count": 36,
   "metadata": {},
   "outputs": [],
   "source": [
    "pred_cols = [col for col in concat_results.columns if \"class\" not in col]\n",
    "# pred_cols"
   ]
  },
  {
   "cell_type": "code",
   "execution_count": 37,
   "metadata": {},
   "outputs": [],
   "source": [
    "concat_results = split_results_handler.add_max_pred(concat_results)\n",
    "concat_results = add_second_highest_prediction(concat_results, pred_cols)"
   ]
  },
  {
   "cell_type": "markdown",
   "metadata": {},
   "source": [
    "### Analyze non-core pred that are \"mislabels\""
   ]
  },
  {
   "cell_type": "code",
   "execution_count": 38,
   "metadata": {},
   "outputs": [
    {
     "name": "stdout",
     "output_type": "stream",
     "text": [
      "Nb pred (pred score >= 0.60): 99.17% (20682/20855)\n"
     ]
    }
   ],
   "source": [
    "min_pred = 0.6\n",
    "pred_mask = concat_results[\"Max pred\"] >= min_pred\n",
    "nb_pred = pred_mask.sum()\n",
    "print(\n",
    "    f\"Nb pred (pred score >= {min_pred:.02f}): {nb_pred/len(concat_results) * 100:.02f}% ({nb_pred}/{len(concat_results)})\"\n",
    ")"
   ]
  },
  {
   "cell_type": "code",
   "execution_count": 39,
   "metadata": {},
   "outputs": [],
   "source": [
    "# # save a confusion matrix\n",
    "# df = concat_results[pred_mask]\n",
    "# cm = sk_cm(df[\"True class\"], df[\"Predicted class\"])\n",
    "# cm_writer = ConfusionMatrixWriter(labels=pred_cols, confusion_matrix=cm)\n",
    "\n",
    "# name = f\"full-10fold-validation_prediction-confusion-matrix-threshold-{min_pred:.02f}\"\n",
    "# cm_writer.to_all_formats(logdir=results_dir, name=name)"
   ]
  },
  {
   "cell_type": "code",
   "execution_count": 40,
   "metadata": {},
   "outputs": [
    {
     "data": {
      "text/plain": [
       "h3k27ac     4689\n",
       "non-core    3599\n",
       "h3k4me1     2889\n",
       "h3k4me3     2397\n",
       "h3k36me3    2085\n",
       "h3k27me3    2025\n",
       "h3k9me3     1926\n",
       "input        777\n",
       "CTCF         468\n",
       "Name: True class, dtype: int64"
      ]
     },
     "metadata": {},
     "output_type": "display_data"
    }
   ],
   "source": [
    "display(concat_results[\"True class\"].value_counts())"
   ]
  },
  {
   "cell_type": "code",
   "execution_count": 41,
   "metadata": {},
   "outputs": [
    {
     "name": "stdout",
     "output_type": "stream",
     "text": [
      "(29, 13)\n"
     ]
    }
   ],
   "source": [
    "nc_pred_df = concat_results[\n",
    "    (concat_results[\"Predicted class\"] == \"non-core\")\n",
    "    & (concat_results[\"Predicted class\"] != concat_results[\"True class\"])\n",
    "]\n",
    "print(nc_pred_df.shape)"
   ]
  },
  {
   "cell_type": "code",
   "execution_count": 42,
   "metadata": {},
   "outputs": [
    {
     "name": "stdout",
     "output_type": "stream",
     "text": [
      "Number of non-core predictions mislabels where the second highest prediction is correct: 24/29\n"
     ]
    }
   ],
   "source": [
    "second_pred_ok_mask = nc_pred_df[\"True class\"] == nc_pred_df[\"2nd_pred_class\"]\n",
    "print(\n",
    "    f\"Number of non-core predictions mislabels where the second highest prediction is correct: {second_pred_ok_mask.sum()}/{nc_pred_df.shape[0]}\"\n",
    ")"
   ]
  },
  {
   "cell_type": "code",
   "execution_count": 43,
   "metadata": {},
   "outputs": [],
   "source": [
    "non_pred_cols = [col for col in concat_results.columns if col not in pred_cols]"
   ]
  },
  {
   "cell_type": "code",
   "execution_count": 44,
   "metadata": {},
   "outputs": [
    {
     "data": {
      "text/html": [
       "<div>\n",
       "<style scoped>\n",
       "    .dataframe tbody tr th:only-of-type {\n",
       "        vertical-align: middle;\n",
       "    }\n",
       "\n",
       "    .dataframe tbody tr th {\n",
       "        vertical-align: top;\n",
       "    }\n",
       "\n",
       "    .dataframe thead th {\n",
       "        text-align: right;\n",
       "    }\n",
       "</style>\n",
       "<table border=\"1\" class=\"dataframe\">\n",
       "  <thead>\n",
       "    <tr style=\"text-align: right;\">\n",
       "      <th></th>\n",
       "      <th>True class</th>\n",
       "      <th>Predicted class</th>\n",
       "      <th>Max pred</th>\n",
       "      <th>2nd_pred_class</th>\n",
       "    </tr>\n",
       "  </thead>\n",
       "  <tbody>\n",
       "    <tr>\n",
       "      <th>ENCFF994BAB</th>\n",
       "      <td>CTCF</td>\n",
       "      <td>non-core</td>\n",
       "      <td>0.376</td>\n",
       "      <td>input</td>\n",
       "    </tr>\n",
       "    <tr>\n",
       "      <th>635d949488a00a63742edf2491d6ceee</th>\n",
       "      <td>h3k4me1</td>\n",
       "      <td>non-core</td>\n",
       "      <td>0.398</td>\n",
       "      <td>h3k27ac</td>\n",
       "    </tr>\n",
       "    <tr>\n",
       "      <th>e46b5e67b91880a3add2d7983560ceb9</th>\n",
       "      <td>h3k4me1</td>\n",
       "      <td>non-core</td>\n",
       "      <td>0.589</td>\n",
       "      <td>h3k27ac</td>\n",
       "    </tr>\n",
       "    <tr>\n",
       "      <th>ENCFF422IST</th>\n",
       "      <td>CTCF</td>\n",
       "      <td>non-core</td>\n",
       "      <td>0.995</td>\n",
       "      <td>h3k4me3</td>\n",
       "    </tr>\n",
       "    <tr>\n",
       "      <th>ENCFF300LQE</th>\n",
       "      <td>CTCF</td>\n",
       "      <td>non-core</td>\n",
       "      <td>0.603</td>\n",
       "      <td>input</td>\n",
       "    </tr>\n",
       "  </tbody>\n",
       "</table>\n",
       "</div>"
      ],
      "text/plain": [
       "                                 True class Predicted class  Max pred  \\\n",
       "ENCFF994BAB                            CTCF        non-core     0.376   \n",
       "635d949488a00a63742edf2491d6ceee    h3k4me1        non-core     0.398   \n",
       "e46b5e67b91880a3add2d7983560ceb9    h3k4me1        non-core     0.589   \n",
       "ENCFF422IST                            CTCF        non-core     0.995   \n",
       "ENCFF300LQE                            CTCF        non-core     0.603   \n",
       "\n",
       "                                 2nd_pred_class  \n",
       "ENCFF994BAB                               input  \n",
       "635d949488a00a63742edf2491d6ceee        h3k27ac  \n",
       "e46b5e67b91880a3add2d7983560ceb9        h3k27ac  \n",
       "ENCFF422IST                             h3k4me3  \n",
       "ENCFF300LQE                               input  "
      ]
     },
     "metadata": {},
     "output_type": "display_data"
    }
   ],
   "source": [
    "# pylint: disable=consider-using-f-string\n",
    "with pd.option_context(\"display.float_format\", \"{:.3f}\".format):\n",
    "    display(nc_pred_df[~second_pred_ok_mask][non_pred_cols])"
   ]
  },
  {
   "cell_type": "markdown",
   "metadata": {},
   "source": [
    "#### Summary\n",
    "- Nb pred (pred score >= 0.60): 99.17% (20682/20855)\n",
    "- Number of non-core predictions mislabels where the second highest prediction is correct: 24/29\n",
    "- Incorrect 2nd_pred + min_pred >= 0.6: 2/5 (both ctcf)"
   ]
  },
  {
   "cell_type": "markdown",
   "metadata": {},
   "source": [
    "### Analyze non-core files predicted as other"
   ]
  },
  {
   "cell_type": "code",
   "execution_count": 45,
   "metadata": {},
   "outputs": [],
   "source": [
    "nc_pred_df = concat_results[\n",
    "    (concat_results[\"Predicted class\"] != \"non-core\")\n",
    "    & (concat_results[\"True class\"] == \"non-core\")\n",
    "]"
   ]
  },
  {
   "cell_type": "code",
   "execution_count": 46,
   "metadata": {},
   "outputs": [
    {
     "data": {
      "text/plain": [
       "h3k4me3     18\n",
       "h3k27me3    17\n",
       "input       13\n",
       "h3k4me1     11\n",
       "h3k27ac     11\n",
       "h3k9me3     10\n",
       "CTCF         3\n",
       "h3k36me3     2\n",
       "Name: Predicted class, dtype: int64"
      ]
     },
     "metadata": {},
     "output_type": "display_data"
    }
   ],
   "source": [
    "display(nc_pred_df[\"Predicted class\"].value_counts())"
   ]
  },
  {
   "cell_type": "code",
   "execution_count": 47,
   "metadata": {},
   "outputs": [],
   "source": [
    "nc_pred_df = nc_pred_df.merge(metadata_v2_df, left_index=True, right_on=\"md5sum\")"
   ]
  },
  {
   "cell_type": "code",
   "execution_count": 48,
   "metadata": {},
   "outputs": [
    {
     "name": "stdout",
     "output_type": "stream",
     "text": [
      "\n",
      "Predicted class: CTCF\n",
      "RAD21     1\n",
      "ETV6      1\n",
      "TRIM22    1\n",
      "Name: Assay, dtype: int64\n",
      "\n",
      "Predicted class: h3k27ac\n",
      "H3K9ac     5\n",
      "H3F3A      3\n",
      "H2BK5ac    3\n",
      "Name: Assay, dtype: int64\n",
      "\n",
      "Predicted class: h3k27me3\n",
      "EZH2               8\n",
      "SUZ12              4\n",
      "EZH2phosphoT487    4\n",
      "CBX8               1\n",
      "Name: Assay, dtype: int64\n",
      "\n",
      "Predicted class: h3k36me3\n",
      "ZZZ3        1\n",
      "H3K79me1    1\n",
      "Name: Assay, dtype: int64\n",
      "\n",
      "Predicted class: h3k4me1\n",
      "H3K9me1     3\n",
      "H3K79me2    2\n",
      "WHSC1       1\n",
      "H4K20me1    1\n",
      "GATA1       1\n",
      "PRDM6       1\n",
      "SPI1        1\n",
      "H3F3A       1\n",
      "Name: Assay, dtype: int64\n",
      "\n",
      "Predicted class: h3k4me3\n",
      "H3K4me2    10\n",
      "H3K9ac      5\n",
      "KDM4A       1\n",
      "ZNF777      1\n",
      "H2AFZ       1\n",
      "Name: Assay, dtype: int64\n",
      "\n",
      "Predicted class: h3k9me3\n",
      "ZNF274     4\n",
      "CBX3       2\n",
      "CREB1      1\n",
      "H3K9me2    1\n",
      "CBX5       1\n",
      "SETDB1     1\n",
      "Name: Assay, dtype: int64\n",
      "\n",
      "Predicted class: input\n",
      "H3K9me2            2\n",
      "POLR2A             2\n",
      "SOX15              1\n",
      "FOXA1              1\n",
      "EZH2phosphoT487    1\n",
      "GRHL2              1\n",
      "NR2C2              1\n",
      "GATA1              1\n",
      "H3K14ac            1\n",
      "ZFX                1\n",
      "NFXL1              1\n",
      "Name: Assay, dtype: int64\n"
     ]
    }
   ],
   "source": [
    "for predicted_class, group in nc_pred_df.groupby(\"Predicted class\"):\n",
    "    print(f\"\\nPredicted class: {predicted_class}\")\n",
    "    print(group[\"Assay\"].value_counts())"
   ]
  }
 ],
 "metadata": {
  "kernelspec": {
   "display_name": "epiclass",
   "language": "python",
   "name": "python3"
  },
  "language_info": {
   "codemirror_mode": {
    "name": "ipython",
    "version": 3
   },
   "file_extension": ".py",
   "mimetype": "text/x-python",
   "name": "python",
   "nbconvert_exporter": "python",
   "pygments_lexer": "ipython3",
   "version": "3.8.10"
  }
 },
 "nbformat": 4,
 "nbformat_minor": 2
}

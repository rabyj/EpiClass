{
 "cells": [
  {
   "cell_type": "code",
   "execution_count": null,
   "metadata": {},
   "outputs": [],
   "source": [
    "\"\"\"Workbook to format regularization tests data.\"\"\"\n",
    "# pylint: disable=import-error, redefined-outer-name, use-dict-literal, too-many-lines"
   ]
  },
  {
   "cell_type": "code",
   "execution_count": 2,
   "metadata": {},
   "outputs": [],
   "source": [
    "%load_ext autoreload\n",
    "%autoreload 2"
   ]
  },
  {
   "cell_type": "code",
   "execution_count": 3,
   "metadata": {},
   "outputs": [],
   "source": [
    "from __future__ import annotations\n",
    "\n",
    "import itertools\n",
    "from pathlib import Path\n",
    "\n",
    "import matplotlib.image as mpimg\n",
    "import matplotlib.pyplot as plt\n",
    "import pandas as pd"
   ]
  },
  {
   "cell_type": "code",
   "execution_count": 4,
   "metadata": {},
   "outputs": [],
   "source": [
    "base_dir = Path.home() / \"Projects/epiclass/output/paper\"\n",
    "base_data_dir = base_dir / \"data\"\n",
    "base_fig_dir = base_dir / \"figures\"\n",
    "paper_dir = base_dir"
   ]
  },
  {
   "cell_type": "code",
   "execution_count": 5,
   "metadata": {},
   "outputs": [],
   "source": [
    "reg_data_dir = (\n",
    "    base_data_dir\n",
    "    / \"training_results/dfreeze_v2/hg38_100kb_all_none/harmonized_donor_sex_1l_3000n/regularization_tests\"\n",
    ")\n",
    "if not reg_data_dir.exists():\n",
    "    raise FileNotFoundError(f\"Directory {reg_data_dir} does not exist.\")"
   ]
  },
  {
   "cell_type": "code",
   "execution_count": 6,
   "metadata": {},
   "outputs": [],
   "source": [
    "comet_run_metadata = pd.read_csv(\n",
    "    base_data_dir\n",
    "    / \"training_results\"\n",
    "    / \"all_results_cometml_filtered_oversampling-fixed.csv\"\n",
    ")"
   ]
  },
  {
   "cell_type": "markdown",
   "metadata": {},
   "source": [
    "## Acquire/Merge regularization runs weight data"
   ]
  },
  {
   "cell_type": "code",
   "execution_count": 7,
   "metadata": {},
   "outputs": [],
   "source": [
    "# Initialize the list to store individual dataframes\n",
    "data_frames = []\n",
    "\n",
    "# Iterate through the directories in reg_data_dir\n",
    "for folder in reg_data_dir.iterdir():\n",
    "    if not folder.is_dir():\n",
    "        continue\n",
    "\n",
    "    split_folder = folder / \"split0\"\n",
    "    weights_data_path = next(split_folder.glob(\"*weights_description.csv\"))\n",
    "\n",
    "    # Read the CSV, skipping the first row and setting the second row as columns\n",
    "    weights_df = pd.read_csv(weights_data_path, skiprows=1, names=[\"metric\", \"value\"])\n",
    "\n",
    "    exp_folder = split_folder / \"EpiLaP\"\n",
    "    exp_key = next(exp_folder.glob(\"*\")).name\n",
    "\n",
    "    # Transpose the dataframe and add a column for the experiment key\n",
    "    weights_df = weights_df.set_index(\"metric\").T\n",
    "    weights_df[\"experimentKey\"] = exp_key\n",
    "    weights_df[\"folder_name\"] = folder.name\n",
    "\n",
    "    # Append the dataframe to the list\n",
    "    data_frames.append(weights_df)\n",
    "\n",
    "# Combine all dataframes into one final dataframe\n",
    "reg_data_df = pd.concat(data_frames, ignore_index=True)\n",
    "reg_data_df.columns.name = None"
   ]
  },
  {
   "cell_type": "code",
   "execution_count": 8,
   "metadata": {},
   "outputs": [],
   "source": [
    "reg_runs_df = pd.merge(reg_data_df, comet_run_metadata, on=\"experimentKey\", how=\"left\")\n",
    "reg_runs_df[\"hparams/dropout\"] = 1 - reg_runs_df[\"hparams/keep_prob\"]"
   ]
  },
  {
   "cell_type": "code",
   "execution_count": 9,
   "metadata": {},
   "outputs": [],
   "source": [
    "summary_df = reg_runs_df[\n",
    "    [\n",
    "        \"experimentKey\",\n",
    "        \"folder_name\",\n",
    "        \"hparams/dropout\",\n",
    "        \"hparams/l1_scale\",\n",
    "        \"hparams/l2_scale\",\n",
    "        \"val_Accuracy\",\n",
    "        \"val_F1Score\",\n",
    "    ]\n",
    "    + list(reg_data_df.columns)[:-1]\n",
    "]\n",
    "reg_runs_df.to_csv(reg_data_dir / \"weights_detail.csv\", index=False)\n",
    "summary_df.to_csv(reg_data_dir / \"weights_detail_summary.csv\", index=False)"
   ]
  },
  {
   "cell_type": "markdown",
   "metadata": {},
   "source": [
    "## Weight distribution figure"
   ]
  },
  {
   "cell_type": "code",
   "execution_count": 92,
   "metadata": {},
   "outputs": [],
   "source": [
    "# Initialize lists to store hyperparameters and image paths\n",
    "hyperparams = []\n",
    "images = []\n",
    "l2_image = []\n",
    "\n",
    "# Iterate through the directories in reg_data_dir\n",
    "for folder in reg_data_dir.iterdir():\n",
    "    if not folder.is_dir():\n",
    "        continue\n",
    "\n",
    "    sub_df = reg_runs_df[reg_runs_df[\"folder_name\"] == folder.name]\n",
    "    acc = sub_df[\"val_Accuracy\"].values[0]\n",
    "    # Get hyperparam values\n",
    "    dropout = sub_df[\"hparams/dropout\"].values[0]\n",
    "    l1_scale = sub_df[\"hparams/l1_scale\"].values[0]\n",
    "    l2_scale = sub_df[\"hparams/l2_scale\"].values[0]\n",
    "\n",
    "    # Find the PNG image\n",
    "    split_folder = folder / \"split0\"\n",
    "    png_path = next(split_folder.glob(\"*.png\"))\n",
    "\n",
    "    if l2_scale > 0:\n",
    "        l2_image.append([png_path, (dropout, l2_scale, acc)])\n",
    "        continue\n",
    "\n",
    "    # Store the hyperparameters and image path\n",
    "    hyperparams.append((dropout, l1_scale, acc))\n",
    "    images.append(png_path)\n",
    "\n",
    "# Convert hyperparams list to a DataFrame for easy handling\n",
    "hyperparams_df = pd.DataFrame(\n",
    "    hyperparams, columns=[\"dropout\", \"l1_scale\", \"val_Accuracy\"]\n",
    ")\n",
    "\n",
    "# Determine the unique values and grid size\n",
    "unique_dropouts = [f\"{val:.2f}\" for val in sorted(hyperparams_df[\"dropout\"].unique())]\n",
    "unique_l1_scales = sorted(hyperparams_df[\"l1_scale\"].unique())"
   ]
  },
  {
   "cell_type": "code",
   "execution_count": 12,
   "metadata": {},
   "outputs": [],
   "source": [
    "def simple_crop(image, left=0, right=0, top=0, bottom=0):\n",
    "    \"\"\"\n",
    "    Crop the image by removing specified number of pixels from each side.\n",
    "\n",
    "    Parameters:\n",
    "    image: numpy array of the image\n",
    "    left: pixels to remove from left\n",
    "    right: pixels to remove from right\n",
    "    top: pixels to remove from top\n",
    "    bottom: pixels to remove from bottom\n",
    "    \"\"\"\n",
    "    height, width = image.shape[:2]\n",
    "    return image[top : height - bottom, left : width - right]"
   ]
  },
  {
   "cell_type": "code",
   "execution_count": null,
   "metadata": {},
   "outputs": [],
   "source": [
    "# Create a figure with subplots\n",
    "N_x = len(unique_l1_scales)\n",
    "N_y = len(unique_dropouts)\n",
    "fig, axes = plt.subplots(N_y, N_x, figsize=(15, 5))\n",
    "\n",
    "# Plot each image in the corresponding subplot\n",
    "for idx, (dropout, l1_scale, acc) in enumerate(hyperparams):\n",
    "    img = mpimg.imread(images[idx])\n",
    "    cropped_img = simple_crop(img, left=200, right=200, top=100, bottom=77)\n",
    "\n",
    "    dropout = f\"{dropout:.2f}\"\n",
    "    row = unique_dropouts.index(dropout)\n",
    "    col = unique_l1_scales.index(l1_scale)\n",
    "\n",
    "    ax = axes[row, col]\n",
    "    ax.imshow(cropped_img, aspect=\"equal\")\n",
    "\n",
    "    ax.text(0, -5, f\"Acc={acc:.3f}\", fontsize=8, color=\"black\")\n",
    "\n",
    "# l2 image is plotted in the last subplot\n",
    "img = mpimg.imread(l2_image[0][0])\n",
    "cropped_img = simple_crop(img, left=200, right=200, top=100, bottom=77)\n",
    "\n",
    "ax = axes[N_y - 1, N_x - 1]\n",
    "ax.imshow(cropped_img, aspect=\"equal\")\n",
    "\n",
    "dropout, l2, acc = l2_image[0][1]\n",
    "ax.text(0, -5, f\"Acc={acc:.3f}\\nL1=0\\nD={dropout}\\nL2={l2}\", fontsize=8, color=\"black\")\n",
    "\n",
    "# Create labels for the subplots\n",
    "for i, j in itertools.product(range(len(unique_dropouts)), range(len(unique_l1_scales))):\n",
    "    # Only show y-axis ticks for leftmost plots\n",
    "    if i == 0:\n",
    "        l1_scale = unique_l1_scales[j]\n",
    "        if float(l1_scale).is_integer():\n",
    "            l1_scale = int(l1_scale)\n",
    "        axes[i, j].set_title(f\"L1: {l1_scale}\", y=1.08)\n",
    "    if j == 0:\n",
    "        axes[i, j].set_ylabel(f\"Dropout: {float(unique_dropouts[i]):.0%}\")\n",
    "\n",
    "    # Remove ticks\n",
    "    axes[i, j].set_xticks([])\n",
    "    axes[i, j].set_yticks([])\n",
    "\n",
    "    for spine in axes[i, j].spines.values():\n",
    "        spine.set_visible(False)\n",
    "\n",
    "    # Set consistent size for all subplots\n",
    "    axes[i, j].set_aspect(\"equal\")\n",
    "\n",
    "# Adjust layout and show the figure\n",
    "plt.tight_layout()\n",
    "plt.savefig(reg_data_dir / \"regularization_tests.png\", dpi=400)\n",
    "plt.savefig(reg_data_dir / \"regularization_tests.svg\", dpi=400)\n",
    "plt.show()"
   ]
  }
 ],
 "metadata": {
  "kernelspec": {
   "display_name": "epiclass",
   "language": "python",
   "name": "python3"
  },
  "language_info": {
   "codemirror_mode": {
    "name": "ipython",
    "version": 3
   },
   "file_extension": ".py",
   "mimetype": "text/x-python",
   "name": "python",
   "nbconvert_exporter": "python",
   "pygments_lexer": "ipython3",
   "version": "3.8.10"
  }
 },
 "nbformat": 4,
 "nbformat_minor": 2
}

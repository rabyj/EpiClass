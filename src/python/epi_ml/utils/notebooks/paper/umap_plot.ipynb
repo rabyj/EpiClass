{
 "cells": [
  {
   "cell_type": "code",
   "execution_count": null,
   "metadata": {},
   "outputs": [],
   "source": [
    "\"\"\"Plot UMAP embeddings for various datasets.\"\"\"\n",
    "# pylint: disable=import-error, redefined-outer-name, use-dict-literal, too-many-lines, unused-import, unused-argument, too-many-branches"
   ]
  },
  {
   "cell_type": "code",
   "execution_count": null,
   "metadata": {},
   "outputs": [],
   "source": [
    "%load_ext autoreload\n",
    "%autoreload 2"
   ]
  },
  {
   "cell_type": "code",
   "execution_count": null,
   "metadata": {},
   "outputs": [],
   "source": [
    "from __future__ import annotations\n",
    "\n",
    "import pickle\n",
    "from pathlib import Path\n",
    "\n",
    "import numpy as np\n",
    "import pandas as pd\n",
    "import plotly.express as px\n",
    "import plotly.graph_objects as go\n",
    "import umap\n",
    "from IPython.display import display\n",
    "from plotly.subplots import make_subplots\n",
    "from sklearn.preprocessing import StandardScaler\n",
    "from umap.umap_ import nearest_neighbors\n",
    "\n",
    "from epi_ml.core.hdf5_loader import Hdf5Loader\n",
    "from epi_ml.core.metadata import Metadata\n",
    "from epi_ml.utils.notebooks.paper.paper_utilities import ASSAY, MetadataHandler"
   ]
  },
  {
   "cell_type": "code",
   "execution_count": null,
   "metadata": {},
   "outputs": [],
   "source": [
    "base_dir = Path.home() / \"Projects/epiclass/output/paper\"\n",
    "base_data_dir = base_dir / \"data\"\n",
    "base_fig_dir = base_dir / \"figures\"\n",
    "paper_dir = base_dir\n",
    "\n",
    "if not base_fig_dir.exists():\n",
    "    raise FileNotFoundError(f\"Directory {base_fig_dir} does not exist.\")"
   ]
  },
  {
   "cell_type": "code",
   "execution_count": null,
   "metadata": {},
   "outputs": [],
   "source": [
    "metadata_handler = MetadataHandler(paper_dir)\n",
    "metadata_v2 = metadata_handler.load_metadata(\"v2\")"
   ]
  },
  {
   "cell_type": "code",
   "execution_count": null,
   "metadata": {},
   "outputs": [],
   "source": [
    "input_basedir = Path(\n",
    "    \"/home/local/USHERBROOKE/rabj2301/mounts/narval-mount/project-rabyj/epilap/input\"\n",
    ")"
   ]
  },
  {
   "cell_type": "code",
   "execution_count": null,
   "metadata": {},
   "outputs": [],
   "source": [
    "chromsize_path = input_basedir / \"chromsizes\" / \"hg38.noy.chrom.sizes\"\n",
    "hdf5_loader = Hdf5Loader(chrom_file=chromsize_path, normalization=True)"
   ]
  },
  {
   "cell_type": "code",
   "execution_count": null,
   "metadata": {},
   "outputs": [],
   "source": [
    "ca_pred_path = (\n",
    "    base_data_dir\n",
    "    / \"training_results\"\n",
    "    / \"C-A\"\n",
    "    / \"CA_metadata_4DB+all_pred_subset.20240606.tsv\"\n",
    ")\n",
    "ca_pred_df = pd.read_csv(ca_pred_path, sep=\"\\t\", low_memory=False)"
   ]
  },
  {
   "cell_type": "markdown",
   "metadata": {},
   "source": [
    "## C-A input peak metrics"
   ]
  },
  {
   "cell_type": "code",
   "execution_count": null,
   "metadata": {},
   "outputs": [],
   "source": [
    "# peak_metrics_path = Path.home() / \"Downloads\" / \"temp\" / \"peak_metrics\" / \"metadata.peak_chip_atlas.tsv\"\n",
    "# peak_metrics_df = pd.read_csv(peak_metrics_path, sep=\"\\t\", index_col=0)"
   ]
  },
  {
   "cell_type": "code",
   "execution_count": null,
   "metadata": {},
   "outputs": [],
   "source": [
    "# scaler = StandardScaler()\n",
    "# scaled_peak_metrics = scaler.fit_transform(peak_metrics_df.values)\n",
    "# ids = peak_metrics_df.index.tolist()"
   ]
  },
  {
   "cell_type": "code",
   "execution_count": null,
   "metadata": {},
   "outputs": [],
   "source": [
    "# precomputed_knn = nearest_neighbors(\n",
    "#     X=scaled_peak_metrics,\n",
    "#     n_neighbors=100,\n",
    "#     metric=\"correlation\",\n",
    "#     random_state=42,\n",
    "#     low_memory=False,\n",
    "#     metric_kwds=None,\n",
    "#     angular=None,\n",
    "# )\n",
    "\n",
    "# with open(peak_metrics_path.parent / \"peak_metrics_precomputed_knn.pkl\", \"wb\") as f:\n",
    "#     pickle.dump(precomputed_knn, f)"
   ]
  },
  {
   "cell_type": "code",
   "execution_count": null,
   "metadata": {},
   "outputs": [],
   "source": [
    "# # UMAP parameters\n",
    "# nn_default = 15\n",
    "# nn_bigger = 30\n",
    "# nn_biggest = 100\n",
    "# embedding_params = {}\n",
    "# for nn_size in [nn_default, nn_bigger, nn_biggest]:\n",
    "#     embedding_params[f\"standard_3D_nn{nn_size}\"] = {\n",
    "#         \"n_neighbors\": nn_size,\n",
    "#         \"min_dist\": 0.1,\n",
    "#         \"n_components\": 3,\n",
    "#         \"low_memory\": False,\n",
    "#     }\n",
    "#     embedding_params[f\"densmap_3D_nn{nn_size}\"] = {\n",
    "#         \"n_neighbors\": nn_size,\n",
    "#         \"min_dist\": 0.1,\n",
    "#         \"n_components\": 3,\n",
    "#         \"low_memory\": False,\n",
    "#         \"densmap\": True,\n",
    "#     }"
   ]
  },
  {
   "cell_type": "code",
   "execution_count": null,
   "metadata": {},
   "outputs": [],
   "source": [
    "# for name, params in embedding_params.items():\n",
    "#     embedding = umap.UMAP(\n",
    "#         **params, random_state=42, precomputed_knn=precomputed_knn\n",
    "#     ).fit_transform(X=scaled_peak_metrics)\n",
    "\n",
    "#     with open(peak_metrics_path.parent / f\"embedding_{name}.pkl\", \"wb\") as f:\n",
    "#         pickle.dump(\n",
    "#             obj={\"ids\": ids, \"embedding\": embedding, \"params\": params}, file=f\n",
    "#         )\n",
    "#         print(f\"Saved embedding_{name}.pkl\")"
   ]
  },
  {
   "cell_type": "markdown",
   "metadata": {},
   "source": [
    "## C-A input hdf5 100kb UMAP"
   ]
  },
  {
   "cell_type": "code",
   "execution_count": null,
   "metadata": {},
   "outputs": [],
   "source": [
    "def create_umap_graphs(embeddings_dir: Path, output_dir: Path, metadata) -> None:\n",
    "    \"\"\"Create UMAP graphs for all embeddings in the given directory.\n",
    "\n",
    "    Args:\n",
    "        embeddings_dir (Path): Directory containing the embedding files.\n",
    "        output_dir (Path): Directory where the output files will be saved.\n",
    "        metadata (Metadata): Metadata object.\n",
    "    \"\"\"\n",
    "    # Create a global figure for 2D UMAPS\n",
    "    names = [\n",
    "        file.stem.split(\"_\", maxsplit=1)[1]\n",
    "        for file in embeddings_dir.glob(\"embedding_*.pkl\")\n",
    "    ]\n",
    "    names = sorted(names, key=lambda x: (x.split(\"_\")[0], int(x.split(\"nn\")[1])))\n",
    "    fignames = [f\"{name.replace('_3D_', '_')}\" for name in names]\n",
    "    global_fig = make_subplots(\n",
    "        rows=2,\n",
    "        cols=3,\n",
    "        subplot_titles=fignames,\n",
    "    )\n",
    "\n",
    "    # Create each 2D/3D plot.\n",
    "    for i, name in enumerate(names):\n",
    "        print(f\"Processing {name}...\")\n",
    "\n",
    "        file = embeddings_dir / f\"embedding_{name}.pkl\"\n",
    "        if not file.exists():\n",
    "            raise FileNotFoundError(f\"Could not find {file}\")\n",
    "\n",
    "        with open(file, \"rb\") as f:\n",
    "            data = pickle.load(f)\n",
    "\n",
    "        df = pd.DataFrame(data[\"embedding\"])\n",
    "        df[\"ids\"] = data[\"ids\"]\n",
    "\n",
    "        # Add custom metadata to the dataframe\n",
    "        assays = []\n",
    "        track_types = []\n",
    "        for id_label in df[\"ids\"]:\n",
    "            if id_label in metadata:\n",
    "                assays.append(metadata[id_label][ASSAY])\n",
    "                track_types.append(metadata[id_label][\"track_type\"])\n",
    "            else:\n",
    "                is_epiatlas = len(id_label) == 32\n",
    "                assays.append(\"epiatlas_NA\" if is_epiatlas else \"C-A_no-pred\")\n",
    "                track_types.append(\"NA\" if is_epiatlas else \"ctl_raw\")\n",
    "\n",
    "        df[ASSAY] = assays\n",
    "        df[\"track_type\"] = track_types\n",
    "\n",
    "        color_dict = {\n",
    "            assay: px.colors.qualitative.Dark24[i]\n",
    "            for i, assay in enumerate(sorted(df[ASSAY].unique()))\n",
    "        }\n",
    "\n",
    "        # 2D plotly\n",
    "        fig = go.Figure()\n",
    "\n",
    "        for assay_type, color in color_dict.items():\n",
    "            filtered_df = df[df[ASSAY] == assay_type]\n",
    "            fig.add_trace(\n",
    "                go.Scatter(\n",
    "                    x=filtered_df[0],\n",
    "                    y=filtered_df[1],\n",
    "                    mode=\"markers\",\n",
    "                    marker=dict(\n",
    "                        size=2,\n",
    "                        color=color,\n",
    "                        opacity=0.8,\n",
    "                    ),\n",
    "                    hovertemplate=\"%{text}\",\n",
    "                    text=[\n",
    "                        f\"{id_label}: {assay} ({track_type})\"\n",
    "                        for id_label, assay, track_type in zip(\n",
    "                            filtered_df[\"ids\"],\n",
    "                            filtered_df[ASSAY],\n",
    "                            filtered_df[\"track_type\"],\n",
    "                        )\n",
    "                    ],\n",
    "                    name=assay_type,\n",
    "                    showlegend=True,\n",
    "                )\n",
    "            )\n",
    "\n",
    "        fig.update_layout(\n",
    "            title=f\"2D UMAP Embeddings - {name}\",\n",
    "            xaxis_title=\"UMAP 1\",\n",
    "            yaxis_title=\"UMAP 2\",\n",
    "            legend={\"itemsizing\": \"constant\"},\n",
    "        )\n",
    "\n",
    "        fig.write_html(output_dir / f\"embedding_{name}_2D.html\")\n",
    "\n",
    "        # Add subplot to the global figure\n",
    "        for assay_type, color in color_dict.items():\n",
    "            filtered_df = df[df[ASSAY] == assay_type]\n",
    "            global_fig.add_trace(\n",
    "                go.Scatter(\n",
    "                    x=filtered_df[0],\n",
    "                    y=filtered_df[1],\n",
    "                    mode=\"markers\",\n",
    "                    marker=dict(\n",
    "                        size=2,\n",
    "                        color=color,\n",
    "                        opacity=0.8,\n",
    "                    ),\n",
    "                    hovertemplate=\"%{text}\",\n",
    "                    text=[\n",
    "                        f\"{id_label}: {assay} ({track_type})\"\n",
    "                        for id_label, assay, track_type in zip(\n",
    "                            filtered_df[\"ids\"],\n",
    "                            filtered_df[ASSAY],\n",
    "                            filtered_df[\"track_type\"],\n",
    "                        )\n",
    "                    ],\n",
    "                    name=f\"{assay_type}\",\n",
    "                    showlegend=(i == 0),\n",
    "                    legendgroup=assay_type,\n",
    "                ),\n",
    "                row=int(i / 3) + 1,\n",
    "                col=i % 3 + 1,\n",
    "            )\n",
    "\n",
    "        # 3D plotly\n",
    "        fig = go.Figure()\n",
    "\n",
    "        for assay_type, color in color_dict.items():\n",
    "            filtered_df = df[df[ASSAY] == assay_type]\n",
    "            fig.add_trace(\n",
    "                go.Scatter3d(\n",
    "                    x=filtered_df[0],\n",
    "                    y=filtered_df[1],\n",
    "                    z=filtered_df[2],\n",
    "                    mode=\"markers\",\n",
    "                    marker=dict(\n",
    "                        size=1,\n",
    "                        color=color,\n",
    "                        opacity=0.8,\n",
    "                    ),\n",
    "                    hovertemplate=\"%{text}\",\n",
    "                    text=[\n",
    "                        f\"{id_label}: {assay} ({track_type})\"\n",
    "                        for id_label, assay, track_type in zip(\n",
    "                            filtered_df[\"ids\"],\n",
    "                            filtered_df[ASSAY],\n",
    "                            filtered_df[\"track_type\"],\n",
    "                        )\n",
    "                    ],\n",
    "                    name=assay_type,\n",
    "                    showlegend=True,\n",
    "                )\n",
    "            )\n",
    "\n",
    "        fig.update_layout(\n",
    "            title=f\"3D UMAP Embeddings - {name}\",\n",
    "            scene=dict(\n",
    "                xaxis_title=\"UMAP 1\",\n",
    "                yaxis_title=\"UMAP 2\",\n",
    "                zaxis_title=\"UMAP 3\",\n",
    "            ),\n",
    "            legend={\"itemsizing\": \"constant\"},\n",
    "        )\n",
    "\n",
    "        fig.write_html(output_dir / f\"embedding_{name}_3D.html\")\n",
    "\n",
    "    # Update the layout for the global figure and save it\n",
    "    global_fig.update_layout(\n",
    "        title_text=\"2D UMAP Embeddings - All Files\",\n",
    "        legend={\"itemsizing\": \"constant\"},\n",
    "    )\n",
    "    output_file = output_dir / \"all_embeddings_2D\"\n",
    "    print(f\"Writing {output_file}\")\n",
    "    global_fig.write_html(f\"{output_file}.html\")\n",
    "    # global_fig.write_image(f\"{output_file}.svg\", width=3*800, height=2*800)\n",
    "    # global_fig.write_image(f\"{output_file}.png\", width=3*800, height=2*800)"
   ]
  },
  {
   "cell_type": "code",
   "execution_count": null,
   "metadata": {},
   "outputs": [],
   "source": [
    "def create_custom_ca_metadata(metadata, ca_pred_df: pd.DataFrame, pred_score: float = 0):\n",
    "    \"\"\"Create a custom metadata dataframe for the Chip-Atlas predictions.\"\"\"\n",
    "    # Filter the input DataFrame\n",
    "    ca_input_df = ca_pred_df[(ca_pred_df[\"manual_target_consensus\"] == \"input\")]\n",
    "    input_nb = ca_input_df.shape[0]\n",
    "    print(f\"Number of input samples: {input_nb}\")\n",
    "    ca_input_df = ca_input_df[ca_input_df[\"Max_pred_assay11\"].astype(float) >= pred_score]\n",
    "    print(\n",
    "        f\"Number of input samples with score >= {pred_score}: {ca_input_df.shape[0]}/{input_nb} ({ca_input_df.shape[0]/input_nb:.2%})\"\n",
    "    )\n",
    "\n",
    "    # Create a dictionary of predictions\n",
    "    pred_dict = ca_input_df.set_index(\"Experimental-id\")[\n",
    "        \"Predicted_class_assay11\"\n",
    "    ].to_dict()\n",
    "\n",
    "    # Update metadata\n",
    "    for id_label, pred_val in pred_dict.items():\n",
    "        metadata[id_label] = {ASSAY: f\"input_pred_{pred_val}\", \"track_type\": \"ctl_raw\"}\n",
    "\n",
    "    return metadata"
   ]
  },
  {
   "cell_type": "code",
   "execution_count": null,
   "metadata": {},
   "outputs": [],
   "source": [
    "metadata = metadata_handler.load_metadata(\"v2\")"
   ]
  },
  {
   "cell_type": "code",
   "execution_count": null,
   "metadata": {},
   "outputs": [],
   "source": [
    "min_pred_score = 0.8\n",
    "filtered_metadata = create_custom_ca_metadata(\n",
    "    metadata, ca_pred_df, pred_score=min_pred_score\n",
    ")"
   ]
  },
  {
   "cell_type": "code",
   "execution_count": null,
   "metadata": {},
   "outputs": [],
   "source": [
    "input_dir = Path(\n",
    "    \"/home/local/USHERBROOKE/rabj2301/mounts/narval-mount/scratch/other_data/C-A/hdf5/umap-input/epiatlas_all/nn100\"\n",
    ")\n",
    "if not input_dir.exists():\n",
    "    raise FileNotFoundError(f\"Could not find {input_dir}\")\n",
    "output_dir = input_dir / f\"graph_minPred_{min_pred_score}\"\n",
    "output_dir.mkdir(parents=False, exist_ok=True)"
   ]
  },
  {
   "cell_type": "code",
   "execution_count": null,
   "metadata": {},
   "outputs": [],
   "source": [
    "# input_dir = Path(\"/home/local/USHERBROOKE/rabj2301/Downloads/temp/peak_metrics\")\n",
    "# if not input_dir.exists():\n",
    "#     raise FileNotFoundError(f\"Could not find {input_dir}\")\n",
    "# output_dir = input_dir"
   ]
  },
  {
   "cell_type": "code",
   "execution_count": null,
   "metadata": {},
   "outputs": [],
   "source": [
    "create_umap_graphs(input_dir, output_dir, filtered_metadata)"
   ]
  }
 ],
 "metadata": {
  "kernelspec": {
   "display_name": "epiclass",
   "language": "python",
   "name": "python3"
  },
  "language_info": {
   "codemirror_mode": {
    "name": "ipython",
    "version": 3
   },
   "file_extension": ".py",
   "mimetype": "text/x-python",
   "name": "python",
   "nbconvert_exporter": "python",
   "pygments_lexer": "ipython3",
   "version": "3.8.10"
  }
 },
 "nbformat": 4,
 "nbformat_minor": 2
}

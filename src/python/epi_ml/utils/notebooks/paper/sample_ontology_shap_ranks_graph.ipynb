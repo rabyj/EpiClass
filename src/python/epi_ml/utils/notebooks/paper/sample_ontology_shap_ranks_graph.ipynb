{
 "cells": [
  {
   "cell_type": "code",
   "execution_count": null,
   "metadata": {},
   "outputs": [],
   "source": [
    "\"\"\"Graph results from sample_ontology_shap_ranks.py\"\"\"\n",
    "# pylint: disable=import-error,redefined-outer-name,use-dict-literal"
   ]
  },
  {
   "cell_type": "code",
   "execution_count": null,
   "metadata": {},
   "outputs": [],
   "source": [
    "%load_ext autoreload\n",
    "%autoreload 2"
   ]
  },
  {
   "cell_type": "markdown",
   "metadata": {},
   "source": [
    "## SETUP"
   ]
  },
  {
   "cell_type": "code",
   "execution_count": null,
   "metadata": {},
   "outputs": [],
   "source": [
    "from __future__ import annotations\n",
    "\n",
    "from pathlib import Path\n",
    "from typing import Dict\n",
    "\n",
    "import numpy as np  # pylint: disable=unused-import\n",
    "import pandas as pd\n",
    "import plotly.graph_objects as go\n",
    "from IPython.display import display  # pylint: disable=unused-import\n",
    "\n",
    "from epi_ml.utils.notebooks.paper.paper_utilities import CELL_TYPE, IHECColorMap"
   ]
  },
  {
   "cell_type": "code",
   "execution_count": null,
   "metadata": {},
   "outputs": [],
   "source": [
    "base_dir = Path.home() / \"Projects/epiclass/output/paper\"\n",
    "paper_dir = base_dir\n",
    "\n",
    "base_fig_dir = paper_dir / \"figures\"\n",
    "base_data_dir = (\n",
    "    base_dir / \"data\" / \"training_results\" / \"dfreeze_v2\" / \"hg38_100kb_all_none\"\n",
    ")"
   ]
  },
  {
   "cell_type": "code",
   "execution_count": null,
   "metadata": {},
   "outputs": [],
   "source": [
    "IHECColorMap = IHECColorMap(base_fig_dir)\n",
    "cell_type_colors = IHECColorMap.cell_type_color_map"
   ]
  },
  {
   "cell_type": "code",
   "execution_count": null,
   "metadata": {},
   "outputs": [],
   "source": [
    "cell_type_dir = base_data_dir / f\"{CELL_TYPE}_1l_3000n\" / \"10fold-oversampling\"\n",
    "if not cell_type_dir.exists():\n",
    "    raise ValueError(f\"Directory {cell_type_dir} does not exist\")"
   ]
  },
  {
   "cell_type": "code",
   "execution_count": null,
   "metadata": {},
   "outputs": [],
   "source": [
    "ranks_folder = cell_type_dir / \"global_shap_analysis\" / \"shap_ranks\" / \"merge_samplings\"\n",
    "if not ranks_folder.exists():\n",
    "    raise ValueError(f\"Directory {ranks_folder} does not exist\")"
   ]
  },
  {
   "cell_type": "markdown",
   "metadata": {},
   "source": [
    "## Loading data"
   ]
  },
  {
   "cell_type": "code",
   "execution_count": null,
   "metadata": {},
   "outputs": [],
   "source": [
    "results: Dict[str, pd.DataFrame] = {}\n",
    "for median_rank_file in ranks_folder.glob(\"*median_ranks*\"):\n",
    "    median_ranks_df = pd.read_csv(median_rank_file, sep=\"\\t\")\n",
    "\n",
    "    filename = median_rank_file.stem\n",
    "    cell_type = filename.replace(\"merge_samplings_\", \"\").replace(\n",
    "        \"_feature_set_median_ranks\", \"\"\n",
    "    )\n",
    "    results[cell_type] = median_ranks_df"
   ]
  },
  {
   "cell_type": "markdown",
   "metadata": {},
   "source": [
    "## Graph median ranks"
   ]
  },
  {
   "cell_type": "code",
   "execution_count": null,
   "metadata": {},
   "outputs": [],
   "source": [
    "def graph_median_ranks(\n",
    "    ranks: Dict[str, pd.DataFrame],\n",
    "    colors: Dict[str, str],\n",
    "    logdir: Path,\n",
    "    name: str = \"non-unique features\",\n",
    ") -> None:\n",
    "    \"\"\"Graphs the average median rank for imporant features in each cell type.\n",
    "\n",
    "    Args:\n",
    "        results Dict[str, pd.DataFrame]: Dictionary of cell type to DataFrame, containing median ranks for each feature and cell type subset.\n",
    "        colors (Dict[str, str]): Dictionary of cell type to color.\n",
    "        logdir (Path): Directory to save the figure.\n",
    "        name (str): Name of the global results set. Default is \"non-unique features\".\n",
    "\n",
    "    Returns:\n",
    "        None\n",
    "    \"\"\"\n",
    "    fig = go.Figure()\n",
    "\n",
    "    # Get the number of features for each cell type\n",
    "    set_size: Dict[str, int] = {\n",
    "        ct: len([col for col in df.columns if \"med\" in col]) for ct, df in ranks.items()\n",
    "    }\n",
    "\n",
    "    # Sort cell types by number of features\n",
    "    trace_names = []\n",
    "    for i, (cell_type, N) in enumerate(\n",
    "        sorted(set_size.items(), key=lambda x: x[1], reverse=True)\n",
    "    ):\n",
    "        df = ranks[cell_type]\n",
    "\n",
    "        # Average median rank for all features, for each cell type\n",
    "        df = df.drop(columns=[col for col in df.columns if \"iqr\" in col])\n",
    "        avg_median_ranks = df.mean(axis=1, numeric_only=True)\n",
    "        ct_order = df[\"CellType\"]\n",
    "\n",
    "        # for x-ticks\n",
    "        trace_name = f\"{cell_type} ({N} features)\"\n",
    "        trace_names.append(trace_name)\n",
    "\n",
    "        fig.add_trace(\n",
    "            go.Box(\n",
    "                x=[i] * len(avg_median_ranks),\n",
    "                y=avg_median_ranks,\n",
    "                name=trace_name,\n",
    "                boxpoints=False,\n",
    "                boxmean=True,\n",
    "                line=dict(color=colors[cell_type]),\n",
    "                showlegend=True,\n",
    "            )\n",
    "        )\n",
    "\n",
    "        hovertext = [f\"{ct}: {val}\" for ct, val in zip(ct_order, avg_median_ranks)]\n",
    "        fig.add_trace(\n",
    "            go.Scatter(\n",
    "                x=[i - 0.4] * len(avg_median_ranks),\n",
    "                y=avg_median_ranks,\n",
    "                name=trace_name,\n",
    "                mode=\"markers\",\n",
    "                marker=dict(\n",
    "                    size=[6 if ct == cell_type else 3 for ct in ct_order],\n",
    "                    color=[colors[ct] for ct in ct_order],\n",
    "                ),\n",
    "                hoverinfo=\"text\",\n",
    "                hovertext=hovertext,\n",
    "                showlegend=False,\n",
    "            )\n",
    "        )\n",
    "\n",
    "    # Modify integer ticks to cell type names\n",
    "    fig.update_xaxes(tickvals=list(range(len(set_size))), ticktext=trace_names)\n",
    "\n",
    "    fig.update_layout(\n",
    "        title=f\"Average median SHAP rank for each important cell type features<br>({name})\",\n",
    "        xaxis_title=\"Reference cell type\",\n",
    "        yaxis_title=\"Average median SHAP rank\",\n",
    "        height=800,\n",
    "    )\n",
    "\n",
    "    # Save\n",
    "    figname = f\"global_shap_ranks_{name}\"\n",
    "    fig.write_html(logdir / f\"{figname}.html\")\n",
    "    fig.write_image(logdir / f\"{figname}.png\")\n",
    "    fig.write_image(logdir / f\"{figname}.svg\")\n",
    "\n",
    "    fig.show()"
   ]
  },
  {
   "cell_type": "code",
   "execution_count": null,
   "metadata": {},
   "outputs": [],
   "source": [
    "graph_median_ranks(\n",
    "    results, cell_type_colors, logdir=ranks_folder, name=\"non-unique features\"\n",
    ")"
   ]
  },
  {
   "cell_type": "code",
   "execution_count": null,
   "metadata": {},
   "outputs": [],
   "source": [
    "# ignore iqr\n",
    "for ct, df in list(results.items()):\n",
    "    results[ct] = df.drop(columns=[col for col in df.columns if \"iqr\" in col])\n",
    "\n",
    "# Get features unique to each cell type\n",
    "features_by_ct = {ct: df.columns[1:] for ct, df in results.items()}\n",
    "other_features: Dict[str, set[str]] = {}\n",
    "for main_ct in features_by_ct:\n",
    "    other_features[main_ct] = set()\n",
    "    for ct, features in features_by_ct.items():\n",
    "        if ct == main_ct:\n",
    "            continue\n",
    "        other_features[main_ct].update(set(features))\n",
    "\n",
    "unique_ct_features = {}\n",
    "for ct, features in features_by_ct.items():\n",
    "    # print(f\"{ct}: {len(features)} features\")\n",
    "    unique_ct_features[ct] = set(features) - other_features[ct]\n",
    "    # print(f\"{ct}: {len(unique_ct_features[ct])} unique features\")\n",
    "\n",
    "# Get results for unique features only\n",
    "unique_features_results: Dict[str, pd.DataFrame] = {}\n",
    "for ct, df in results.items():\n",
    "    col_to_drop = [col for col in df.columns if col not in unique_ct_features[ct]]\n",
    "    col_to_drop.remove(\"CellType\")\n",
    "    unique_features_results[ct] = df.drop(columns=col_to_drop)"
   ]
  },
  {
   "cell_type": "code",
   "execution_count": null,
   "metadata": {},
   "outputs": [],
   "source": [
    "graph_median_ranks(\n",
    "    unique_features_results, cell_type_colors, logdir=ranks_folder, name=\"unique features\"\n",
    ")"
   ]
  }
 ],
 "metadata": {
  "kernelspec": {
   "display_name": "epiclass",
   "language": "python",
   "name": "python3"
  },
  "language_info": {
   "codemirror_mode": {
    "name": "ipython",
    "version": 3
   },
   "file_extension": ".py",
   "mimetype": "text/x-python",
   "name": "python",
   "nbconvert_exporter": "python",
   "pygments_lexer": "ipython3",
   "version": "3.8.10"
  }
 },
 "nbformat": 4,
 "nbformat_minor": 2
}

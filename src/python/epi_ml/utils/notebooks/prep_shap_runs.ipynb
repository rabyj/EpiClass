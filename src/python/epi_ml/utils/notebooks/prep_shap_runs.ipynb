{
  "cells": [
    {
      "cell_type": "code",
      "execution_count": null,
      "metadata": {},
      "outputs": [],
      "source": [
        "\"\"\"See markdown\"\"\"\n",
        "# pylint: disable=line-too-long, redefined-outer-name, import-error, duplicate-code"
      ]
    },
    {
      "cell_type": "markdown",
      "metadata": {},
      "source": [
        "# Prepare background and evaluation data for SHAP analysis."
      ]
    },
    {
      "cell_type": "code",
      "execution_count": 7,
      "metadata": {},
      "outputs": [],
      "source": [
        "from __future__ import annotations\n",
        "\n",
        "import copy\n",
        "import itertools\n",
        "import random\n",
        "from collections import defaultdict\n",
        "from pathlib import Path\n",
        "from typing import List\n",
        "\n",
        "from epi_ml.core.metadata import Metadata\n",
        "from epi_ml.utils.general_utility import write_hdf5_paths_to_file\n",
        "\n",
        "BIOMATERIAL_TYPE = \"harmonized_biomaterial_type\"\n",
        "CELL_TYPE = \"harmonized_sample_ontology_intermediate\"\n",
        "ASSAY = \"assay_epiclass\"\n",
        "SEX = \"harmonized_donor_sex\"\n",
        "CANCER = \"harmonized_sample_cancer_high\"\n",
        "DISEASE = \"harmonized_sample_disease_high\"\n",
        "LIFE_STAGE = \"harmonized_donor_life_stage\""
      ]
    },
    {
      "cell_type": "code",
      "execution_count": 5,
      "metadata": {},
      "outputs": [],
      "source": [
        "def display_gen_info(metadata: Metadata, extra_categories: List[str] | None = None):\n",
        "    \"\"\"Display track type, assay and cell type class counts.\"\"\"\n",
        "    metadata.display_labels(\"track_type\")\n",
        "    metadata.display_labels(ASSAY)\n",
        "    metadata.display_labels(CELL_TYPE)\n",
        "    if extra_categories:\n",
        "        for category in extra_categories:\n",
        "            metadata.display_labels(category)"
      ]
    },
    {
      "cell_type": "code",
      "execution_count": null,
      "metadata": {},
      "outputs": [],
      "source": [
        "def select_datasets(metadata: Metadata, n=5) -> List[str]:\n",
        "    \"\"\"\n",
        "    Select a random subset of n datasets for each unique (track_type, assay, cell_type) trio.\n",
        "\n",
        "    Returns:\n",
        "        list: A list of sampled md5sums of the selected datasets.\n",
        "    \"\"\"\n",
        "    trio_files = defaultdict(list)\n",
        "    for md5sum, dset in metadata.items:\n",
        "        trio = (dset[\"track_type\"], dset[ASSAY], dset[CELL_TYPE])\n",
        "        trio_files[trio].append(md5sum)\n",
        "    print(len(trio_files))\n",
        "\n",
        "    sampled_md5s = list(\n",
        "        itertools.chain.from_iterable(\n",
        "            [random.sample(md5_list, n) for md5_list in trio_files.values()]\n",
        "        )\n",
        "    )\n",
        "    return sampled_md5s"
      ]
    },
    {
      "cell_type": "code",
      "execution_count": null,
      "metadata": {},
      "outputs": [],
      "source": [
        "base = Path().home() / \"Projects/epilap/input/metadata\"\n",
        "path = base / \"dfreeze-v2\" / \"hg38_2023-epiatlas-dfreeze_v2.1_w_encode_noncore_2.json\"\n",
        "base_metadata = Metadata(path)"
      ]
    },
    {
      "cell_type": "code",
      "execution_count": null,
      "metadata": {},
      "outputs": [],
      "source": [
        "model_path = (\n",
        "    Path.home()\n",
        "    / \"mounts/narval-mount/project-rabyj/epilap/output/logs/epiatlas-dfreeze-v2.1/hg38_100kb_all_none\"\n",
        ")\n",
        "model_path = (\n",
        "    model_path\n",
        "    / \"harmonized_donor_life_stage_1l_3000n/no-unknown/10fold-oversampling/split0\"\n",
        ")"
      ]
    },
    {
      "cell_type": "code",
      "execution_count": null,
      "metadata": {},
      "outputs": [],
      "source": [
        "training_md5_path = list(model_path.glob(\"split0_training_*.md5\"))[0]\n",
        "valid_md5_path = list(model_path.glob(\"split0_validation_*.md5\"))[0]\n",
        "training_mapping_path = model_path / \"training_mapping.tsv\"\n",
        "\n",
        "with open(training_md5_path, \"r\", encoding=\"utf8\") as f:\n",
        "    training_md5 = set(f.read().splitlines())\n",
        "with open(valid_md5_path, \"r\", encoding=\"utf8\") as f:\n",
        "    valid_md5 = set(f.read().splitlines())\n",
        "with open(training_mapping_path, \"r\", encoding=\"utf8\") as f:\n",
        "    training_mapping = dict(line.split(\"\\t\") for line in f.read().splitlines())"
      ]
    },
    {
      "cell_type": "code",
      "execution_count": null,
      "metadata": {},
      "outputs": [],
      "source": [
        "training_metadata = copy.deepcopy(base_metadata)\n",
        "for md5 in list(training_metadata.md5s):\n",
        "    if md5 not in training_md5:\n",
        "        del training_metadata[md5]\n",
        "\n",
        "valid_metadata = copy.deepcopy(base_metadata)\n",
        "for md5 in list(valid_metadata.md5s):\n",
        "    if md5 not in valid_md5:\n",
        "        del valid_metadata[md5]"
      ]
    },
    {
      "cell_type": "markdown",
      "metadata": {},
      "source": [
        "### Background list"
      ]
    },
    {
      "cell_type": "code",
      "execution_count": null,
      "metadata": {},
      "outputs": [],
      "source": [
        "n_per_trio = 3"
      ]
    },
    {
      "cell_type": "code",
      "execution_count": null,
      "metadata": {},
      "outputs": [],
      "source": [
        "display_gen_info(training_metadata)\n",
        "\n",
        "trios_md5_dict = defaultdict(list)\n",
        "for dset in training_metadata.datasets:\n",
        "    trios_md5_dict[(dset[CELL_TYPE], dset[ASSAY], dset[\"track_type\"])].append(\n",
        "        dset[\"md5sum\"]\n",
        "    )\n",
        "\n",
        "print(f\"{len(trios_md5_dict)} entries/trios\")\n",
        "\n",
        "background_md5s = set()\n",
        "for trio, md5s in trios_md5_dict.items():\n",
        "    background_md5s.update(md5s[0:n_per_trio])\n",
        "\n",
        "for md5 in list(training_metadata.md5s):\n",
        "    if md5 not in background_md5s:\n",
        "        del training_metadata[md5]\n",
        "\n",
        "display_gen_info(training_metadata)"
      ]
    },
    {
      "cell_type": "code",
      "execution_count": null,
      "metadata": {},
      "outputs": [],
      "source": [
        "name = \"{n_per_trio}pertrio\"\n",
        "write_hdf5_paths_to_file(\n",
        "    md5s=training_metadata.md5s,\n",
        "    parent=\".\",\n",
        "    suffix=\"100kb_all_none\",\n",
        "    filepath=model_path / \"shap\" / f\"shap_background_{name}.list\",\n",
        ")"
      ]
    },
    {
      "cell_type": "markdown",
      "metadata": {},
      "source": [
        "### Evaluation list"
      ]
    },
    {
      "cell_type": "code",
      "execution_count": null,
      "metadata": {},
      "outputs": [],
      "source": [
        "display_gen_info(valid_metadata)"
      ]
    },
    {
      "cell_type": "code",
      "execution_count": null,
      "metadata": {},
      "outputs": [],
      "source": [
        "valid_metadata.remove_category_subsets(ASSAY, [\"input\", \"wgbs-standard\", \"wgbs-pbat\"])\n",
        "# valid_metadata.select_category_subsets(CELL_TYPE, [\"T cell\", \"lymphocyte of B lineage\", \"muscle organ\", \"monocyte\", \"neutrophil\", \"myeloid cell\"])"
      ]
    },
    {
      "cell_type": "code",
      "execution_count": null,
      "metadata": {},
      "outputs": [],
      "source": [
        "name = \"6hist_w_rna\"\n",
        "write_hdf5_paths_to_file(\n",
        "    md5s=valid_metadata.md5s,\n",
        "    parent=\".\",\n",
        "    suffix=\"100kb_all_none\",\n",
        "    filepath=model_path / \"shap\" / f\"shap_eval_{name}.list\",\n",
        ")"
      ]
    }
  ],
  "metadata": {
    "kernelspec": {
      "display_name": "epiclass",
      "language": "python",
      "name": "python3"
    },
    "language_info": {
      "codemirror_mode": {
        "name": "ipython",
        "version": 3
      },
      "file_extension": ".py",
      "mimetype": "text/x-python",
      "name": "python",
      "nbconvert_exporter": "python",
      "pygments_lexer": "ipython3",
      "version": "3.8.10"
    },
    "orig_nbformat": 4
  },
  "nbformat": 4,
  "nbformat_minor": 2
}

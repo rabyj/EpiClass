{
  "cells": [
    {
      "cell_type": "code",
      "execution_count": null,
      "metadata": {},
      "outputs": [],
      "source": [
        "\"\"\"See markdown\"\"\"\n",
        "# pylint: disable=line-too-long, redefined-outer-name, import-error"
      ]
    },
    {
      "cell_type": "markdown",
      "metadata": {},
      "source": [
        "Analyze prediction values of correct vs false predictions. Can we find a good prediction score threshold that lets us eliminate important errors?"
      ]
    },
    {
      "cell_type": "code",
      "execution_count": null,
      "metadata": {},
      "outputs": [],
      "source": [
        "from pathlib import Path\n",
        "\n",
        "import pandas as pd\n",
        "import plotly.graph_objects as go"
      ]
    },
    {
      "cell_type": "code",
      "execution_count": null,
      "metadata": {},
      "outputs": [],
      "source": [
        "path = (\n",
        "    Path.home()\n",
        "    / \"downloads\"\n",
        "    / \"temp\"\n",
        "    / \"sex3_full-10fold-validation_prediction_augmented-all.csv\"\n",
        ")\n",
        "df = pd.read_csv(path, index_col=0, header=0)"
      ]
    },
    {
      "cell_type": "code",
      "execution_count": null,
      "metadata": {},
      "outputs": [],
      "source": [
        "classes = df[\"True class\"].unique()"
      ]
    },
    {
      "cell_type": "code",
      "execution_count": null,
      "metadata": {},
      "outputs": [],
      "source": [
        "df[\"harmonized_donor_sex\"].value_counts()"
      ]
    },
    {
      "cell_type": "code",
      "execution_count": null,
      "metadata": {},
      "outputs": [],
      "source": [
        "for label in classes:\n",
        "    df_label = df[df[\"True class\"] == label]\n",
        "    fig = go.Figure()\n",
        "\n",
        "    # Iterate classes each target and add a violin plot for it\n",
        "    for target in classes:\n",
        "        vals = df_label[df_label[\"Predicted class\"] == target][\"Max pred\"]\n",
        "        print(df_label[\"assay_epiclass\"].value_counts())\n",
        "\n",
        "        fig.add_trace(\n",
        "            go.Violin(\n",
        "                y=vals,\n",
        "                name=f\"{target} ({len(vals)})\",\n",
        "                box_visible=True,\n",
        "                meanline_visible=True,\n",
        "                points=\"all\",\n",
        "            )\n",
        "        )\n",
        "\n",
        "    fig.update_layout(\n",
        "        title_text=f\"Predicted value distribution for {label} ({df_label.shape[0]})\",\n",
        "        yaxis_title=\"Prediction score\",\n",
        "        xaxis_title=\"Target\",\n",
        "    )\n",
        "    fig.update_yaxes(range=[1 / 3, 1.01])\n",
        "\n",
        "    fig.show()"
      ]
    },
    {
      "cell_type": "code",
      "execution_count": null,
      "metadata": {},
      "outputs": [],
      "source": [
        "for label in classes:\n",
        "    df_label = df[df[\"True class\"] == label][df[\"assay_epiclass\"] == \"input\"]\n",
        "    fig = go.Figure()\n",
        "\n",
        "    # Iterate classes each target and add a violin plot for it\n",
        "    for target in classes:\n",
        "        vals = df_label[df_label[\"Predicted class\"] == target][\"Max pred\"]\n",
        "\n",
        "        fig.add_trace(\n",
        "            go.Violin(\n",
        "                y=vals,\n",
        "                name=f\"{target} ({len(vals)})\",\n",
        "                box_visible=True,\n",
        "                meanline_visible=True,\n",
        "                points=\"all\",\n",
        "            )\n",
        "        )\n",
        "\n",
        "    fig.update_layout(\n",
        "        title_text=f\"Predicted value distribution for {label} ({df_label.shape[0]})\",\n",
        "        yaxis_title=\"Prediction score\",\n",
        "        xaxis_title=\"Target\",\n",
        "    )\n",
        "    fig.update_yaxes(range=[1 / 3, 1.01])\n",
        "\n",
        "    fig.show()"
      ]
    }
  ],
  "metadata": {
    "kernelspec": {
      "display_name": "epiclass",
      "language": "python",
      "name": "python3"
    },
    "language_info": {
      "codemirror_mode": {
        "name": "ipython",
        "version": 3
      },
      "file_extension": ".py",
      "mimetype": "text/x-python",
      "name": "python",
      "nbconvert_exporter": "python",
      "pygments_lexer": "ipython3",
      "version": "3.8.10"
    },
    "orig_nbformat": 4
  },
  "nbformat": 4,
  "nbformat_minor": 2
}

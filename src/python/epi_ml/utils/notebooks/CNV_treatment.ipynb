{
 "cells": [
  {
   "cell_type": "code",
   "execution_count": null,
   "metadata": {},
   "outputs": [],
   "source": [
    "\"\"\"\n",
    "CNV Analysis Pipeline Module\n",
    "\n",
    "This module is designed for the analysis of Copy Number Variations (CNVs) in genomic data.\n",
    "It integrates global TCGA segment information with sample-specific and CNV signature data to generate signature BED files. (~20 of them)\n",
    "These BED files are then used to intersect with predefined important genomic features to derive the distribution of signature hits versus random expectations.\n",
    "\n",
    "Key Features:\n",
    "- Transformation of global CNV segment data, separating segments from different signatures into BED file format for downstream analysis.\n",
    "- Generation of random BED files for control comparisons, utilizing utility functions for random bed generation.\n",
    "- Intersecting signature BED files with important genomic features to analyze the distribution of CNV signatures in relation to these features.\n",
    "- Statistical analysis of intersections to determine the significance of observed distributions compared to random controls.\n",
    "\n",
    "Output:\n",
    "The pipeline produces signature BED files, intersects these with important genomic features,\n",
    "and statistically analyzes the results to provide insights into the distribution of CNV signatures\n",
    "in the context of SHAP values for NN cancer classifier.\n",
    "\n",
    "Note: This module assumes access to a predefined set of input files and directories,\n",
    "including lists of HDF5 files containing CNV data, and outputs data to specified locations for further analysis.\n",
    "\"\"\""
   ]
  },
  {
   "cell_type": "code",
   "execution_count": null,
   "metadata": {},
   "outputs": [],
   "source": [
    "# pylint: disable=import-error, subprocess-run-check"
   ]
  },
  {
   "cell_type": "code",
   "execution_count": null,
   "metadata": {},
   "outputs": [],
   "source": [
    "import subprocess\n",
    "from pathlib import Path\n",
    "\n",
    "import pandas as pd\n",
    "import plotly.express as px  # pylint: disable=unused-import\n",
    "\n",
    "from epi_ml.utils.bed_utils import create_new_random_bed"
   ]
  },
  {
   "cell_type": "markdown",
   "metadata": {},
   "source": [
    "### Matching CNV names to create subset"
   ]
  },
  {
   "cell_type": "code",
   "execution_count": null,
   "metadata": {},
   "outputs": [],
   "source": [
    "base = Path.home() / \"Projects/epiclass/input/hdf5_list/CNV\"\n",
    "\n",
    "full_hdf5_list_path = base / \"CNV_100kb_all_none.list\"\n",
    "\n",
    "subset_names_path = base / \"list_EpiAtlas_cancer-type_TCGA_files_onlyLeukemia.txt\""
   ]
  },
  {
   "cell_type": "code",
   "execution_count": null,
   "metadata": {},
   "outputs": [],
   "source": [
    "with open(full_hdf5_list_path, \"r\", encoding=\"utf8\") as f:\n",
    "    full_hdf5_list = [line.strip() for line in f.readlines()]"
   ]
  },
  {
   "cell_type": "code",
   "execution_count": null,
   "metadata": {},
   "outputs": [],
   "source": [
    "all_names = set(line.split(\"/\")[-1].split(\".\")[0] for line in full_hdf5_list)"
   ]
  },
  {
   "cell_type": "code",
   "execution_count": null,
   "metadata": {},
   "outputs": [],
   "source": [
    "with open(subset_names_path, \"r\", encoding=\"utf8\") as f:\n",
    "    subset_names = set(line.strip() for line in f.readlines())"
   ]
  },
  {
   "cell_type": "code",
   "execution_count": null,
   "metadata": {},
   "outputs": [],
   "source": [
    "ok_subset = subset_names & all_names\n",
    "print(len(ok_subset), len(subset_names) - len(ok_subset))"
   ]
  },
  {
   "cell_type": "code",
   "execution_count": null,
   "metadata": {},
   "outputs": [],
   "source": [
    "new_100kb_list = [\n",
    "    f\"/lustre07/scratch/rabyj/other_data/CNV/hdf5/100kb_all_none/{name}.segments.complete_100kb_all_none.hdf5\"\n",
    "    for name in ok_subset\n",
    "]"
   ]
  },
  {
   "cell_type": "code",
   "execution_count": null,
   "metadata": {},
   "outputs": [],
   "source": [
    "# with open(base / \"CNV_EpiAtlas_cancer_onlyLeukemia_100kb_all_none.list\", \"w\", encoding=\"utf8\") as f:\n",
    "#     f.write(\"\\n\".join(new_100kb_list))"
   ]
  },
  {
   "cell_type": "markdown",
   "metadata": {},
   "source": [
    "### CNV signatures per sample"
   ]
  },
  {
   "cell_type": "markdown",
   "metadata": {},
   "source": [
    "#### new random features = len(cancer_intersection_merge_samplings.bed)\n",
    "\n",
    "control beds for intersection results"
   ]
  },
  {
   "cell_type": "code",
   "execution_count": 131,
   "metadata": {},
   "outputs": [],
   "source": [
    "HDF5_SIZE_100KB = 30321\n",
    "desired_size = 336\n",
    "resolution = 100 * 1000\n",
    "\n",
    "n_beds = 100\n",
    "output_dir = Path.home() / \"Projects/epiclass/input/filter\" / \"random_n336\"\n",
    "\n",
    "create_new_random_bed(\n",
    "    HDF5_SIZE_100KB, desired_size, resolution, output_dir=output_dir, n_bed=n_beds\n",
    ")"
   ]
  },
  {
   "cell_type": "markdown",
   "metadata": {},
   "source": [
    "#### Creating signatures"
   ]
  },
  {
   "cell_type": "code",
   "execution_count": null,
   "metadata": {},
   "outputs": [],
   "source": [
    "base = Path.home() / \"Projects/epiclass/input/hdf5_list/CNV\"\n",
    "subset_names_path = base / \"list_EpiAtlas_cancer-type_TCGA.txt\"\n",
    "with open(subset_names_path, \"r\", encoding=\"utf8\") as f:\n",
    "    subset_names = set(line.strip() for line in f.readlines())"
   ]
  },
  {
   "cell_type": "code",
   "execution_count": null,
   "metadata": {},
   "outputs": [],
   "source": [
    "print(len(subset_names))"
   ]
  },
  {
   "cell_type": "code",
   "execution_count": null,
   "metadata": {},
   "outputs": [],
   "source": [
    "dir_path = Path.home() / \"Projects/epiclass/input/CNV/\"\n",
    "filepath = dir_path / \"CNV_signatures_per_sample.txt\"\n",
    "\n",
    "df = pd.read_csv(filepath, sep=\"\\t\")"
   ]
  },
  {
   "cell_type": "code",
   "execution_count": null,
   "metadata": {},
   "outputs": [],
   "source": [
    "df[\"chr\"] = \"chr\" + df[\"chr\"].astype(str)"
   ]
  },
  {
   "cell_type": "code",
   "execution_count": null,
   "metadata": {},
   "outputs": [],
   "source": [
    "# filter for cancer type to match epiatlas training\n",
    "print(df.shape)\n",
    "df = df[df[\"sample\"].isin(subset_names)]\n",
    "print(df.shape)"
   ]
  },
  {
   "cell_type": "code",
   "execution_count": null,
   "metadata": {},
   "outputs": [],
   "source": [
    "sample_df = df.groupby(\"sample\").size()"
   ]
  },
  {
   "cell_type": "code",
   "execution_count": null,
   "metadata": {},
   "outputs": [],
   "source": [
    "sample_df.sum()"
   ]
  },
  {
   "cell_type": "code",
   "execution_count": null,
   "metadata": {},
   "outputs": [],
   "source": [
    "grouped_CNV = df.groupby(\"CNsignatureMapping\")\n",
    "new_cols = list(df.columns)\n",
    "new_cols.remove(\"sample\")\n",
    "new_cols = new_cols + [\"sample\"]\n",
    "\n",
    "\n",
    "for group in grouped_CNV.groups:\n",
    "    group_df = grouped_CNV.get_group(group)\n",
    "    group_df.sort_values([\"chr\", \"startpos\", \"endpos\"], inplace=True)\n",
    "    group_df.to_csv(\n",
    "        dir_path / \"signatures\" / f\"signature_{group}.tsv\",\n",
    "        sep=\"\\t\",\n",
    "        index=False,\n",
    "        header=True,\n",
    "        columns=new_cols,\n",
    "    )\n",
    "    group_df.to_csv(\n",
    "        dir_path / \"signatures\" / f\"signature_{group}.bed\",\n",
    "        sep=\"\\t\",\n",
    "        index=False,\n",
    "        header=False,\n",
    "        columns=[\"chr\", \"startpos\", \"endpos\"],\n",
    "    )"
   ]
  },
  {
   "cell_type": "markdown",
   "metadata": {},
   "source": [
    "#### Intersect bed files with signatures"
   ]
  },
  {
   "cell_type": "code",
   "execution_count": 137,
   "metadata": {},
   "outputs": [],
   "source": [
    "signature_dir = Path.home() / \"Projects/epiclass/input/CNV/signatures\"\n",
    "all_signatures = sorted(list(path for path in signature_dir.glob(\"*.bed\")))\n",
    "\n",
    "output_index_dict = {\n",
    "    i + 1: str(path.stem).rsplit(\"_\", maxsplit=1)[-1]\n",
    "    for i, path in enumerate(all_signatures)\n",
    "}\n",
    "\n",
    "joined_signatures = \" \".join((str(path) for path in all_signatures))\n",
    "\n",
    "output_dir = signature_dir.parent / \"signature_analysis\""
   ]
  },
  {
   "cell_type": "code",
   "execution_count": 138,
   "metadata": {},
   "outputs": [
    {
     "data": {
      "text/plain": [
       "PosixPath('/home/local/USHERBROOKE/rabj2301/Projects/epiclass/input/CNV/signature_analysis')"
      ]
     },
     "execution_count": 138,
     "metadata": {},
     "output_type": "execute_result"
    }
   ],
   "source": [
    "# output_dir"
   ]
  },
  {
   "cell_type": "code",
   "execution_count": 139,
   "metadata": {},
   "outputs": [],
   "source": [
    "# random beds\n",
    "random_output_dir = output_dir / \"random_n336\"\n",
    "input_dir = Path.home() / \"Projects/epiclass/input/filter\" / \"random_n336\"\n",
    "for input_bed_path in input_dir.glob(\"*random_n336*.bed\"):\n",
    "    input_bed_name = input_bed_path.name.split(\".\")[1]\n",
    "\n",
    "    output_path = random_output_dir / f\"{input_bed_name}_intersect_CNV_signatures.tsv\"\n",
    "\n",
    "    subprocess.check_call(\n",
    "        f\"bedtools intersect -C -f 0.5 -a {input_bed_path} -b {joined_signatures} > {output_path}\",\n",
    "        shell=True,\n",
    "    )"
   ]
  },
  {
   "cell_type": "code",
   "execution_count": null,
   "metadata": {},
   "outputs": [],
   "source": [
    "# Important cancer features bed\n",
    "input_dir = Path.home() / \"scratch/epiclass/join_important_features/global_info/cancer\"\n",
    "input_bed_path = input_dir / \"cancer_intersection_merge_samplings.bed\"\n",
    "output_path = output_dir / f\"{input_bed_path.stem}_intersect_CNV_signatures.tsv\"\n",
    "\n",
    "subprocess.check_call(\n",
    "    f\"bedtools intersect -C -f 0.5 -a {input_bed_path} -b {joined_signatures} > {output_path}\",\n",
    "    shell=True,\n",
    ")"
   ]
  },
  {
   "cell_type": "markdown",
   "metadata": {},
   "source": [
    "#### Compute statistics for specified features VS random features"
   ]
  },
  {
   "cell_type": "code",
   "execution_count": 140,
   "metadata": {},
   "outputs": [],
   "source": [
    "results_dict = {}\n",
    "\n",
    "intersect_files = list(output_dir.glob(\"*intersect_CNV_signatures.tsv\"))\n",
    "intersect_files.extend(list(random_output_dir.glob(\"*intersect_CNV_signatures.tsv\")))"
   ]
  },
  {
   "cell_type": "code",
   "execution_count": 142,
   "metadata": {},
   "outputs": [],
   "source": [
    "for intersect_file in intersect_files:\n",
    "    # print(intersect_file)\n",
    "    df = pd.read_csv(intersect_file, sep=\"\\t\", header=None)\n",
    "    df.columns = [\"chr\", \"startpos\", \"endpos\", \"signature_index\", \"nb_hits\"]\n",
    "    # display(df.head())\n",
    "    results = df.groupby(\"signature_index\").agg({\"nb_hits\": \"sum\"})\n",
    "    results[\"signature_name\"] = results.index.map(output_index_dict)\n",
    "    results = results.sort_values(\"nb_hits\", ascending=False)\n",
    "    results.to_csv(output_dir / intersect_file.with_suffix(\".summary.tsv\"), sep=\"\\t\")\n",
    "\n",
    "    # Graphical representation\n",
    "    # fig = px.bar(results, x=\"signature_name\", y=\"nb_hits\", title=intersect_file.stem)\n",
    "    # fig.update_layout(xaxis_title=\"Signature\", yaxis_title=\"Number of hits\")\n",
    "    # fig.update_layout(yaxis=dict(range=[0,450*1000]))\n",
    "    # fig.write_html(output_dir / intersect_file.with_suffix(\".summary.html\"))\n",
    "    # fig.write_image(output_dir / intersect_file.with_suffix(\".summary.png\"))\n",
    "    # fig.show()\n",
    "\n",
    "    results_dict[str(intersect_file.stem)] = results"
   ]
  },
  {
   "cell_type": "code",
   "execution_count": 144,
   "metadata": {},
   "outputs": [],
   "source": [
    "random_names = [set_name for set_name in results_dict if \"random\" in set_name]\n",
    "\n",
    "# Compute the average of hits and stdev for random beds\n",
    "combined_df = pd.concat([results_dict[name] for name in random_names], axis=0)\n",
    "stats = combined_df.groupby(\"signature_name\")[\"nb_hits\"].agg([\"mean\", \"std\"])\n",
    "stats.to_csv(output_dir / f\"random_beds_stats_N{n_beds}_size{desired_size}.tsv\", sep=\"\\t\")"
   ]
  },
  {
   "cell_type": "code",
   "execution_count": 145,
   "metadata": {},
   "outputs": [],
   "source": [
    "# Compare values of important cancer features bed with random beds\n",
    "selected_name = [set_name for set_name in results_dict if \"random\" not in set_name][0]\n",
    "cancer_df = results_dict[selected_name]\n",
    "cancer_df = cancer_df.set_index(\"signature_name\")\n",
    "\n",
    "new_records = []\n",
    "for signature in cancer_df.index:\n",
    "    cancer_hits = cancer_df.loc[signature, \"nb_hits\"]\n",
    "    random_mean = stats.loc[signature, \"mean\"]\n",
    "    random_std = stats.loc[signature, \"std\"]\n",
    "    z_score = (cancer_hits - random_mean) / random_std\n",
    "    new_records.append((z_score, random_mean, random_std))\n",
    "    # print(f\"{signature}: {cancer_hits} hits, rnd_mean: {random_mean:.0f}, rnd_std: {random_std:.1f}, z_score: {z_score:.2f}\")\n",
    "\n",
    "cancer_df[\"z_score\"] = [record[0] for record in new_records]\n",
    "cancer_df[\"rnd_mean\"] = [record[1] for record in new_records]\n",
    "cancer_df[\"rnd_std\"] = [record[2] for record in new_records]\n",
    "\n",
    "cancer_df.to_csv(output_dir / \"important_cancer_features_z_scores.tsv\", sep=\"\\t\")"
   ]
  }
 ],
 "metadata": {
  "kernelspec": {
   "display_name": "epiclass",
   "language": "python",
   "name": "python3"
  },
  "language_info": {
   "codemirror_mode": {
    "name": "ipython",
    "version": 3
   },
   "file_extension": ".py",
   "mimetype": "text/x-python",
   "name": "python",
   "nbconvert_exporter": "python",
   "pygments_lexer": "ipython3",
   "version": "3.8.10"
  }
 },
 "nbformat": 4,
 "nbformat_minor": 2
}

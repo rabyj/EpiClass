{
 "cells": [
  {
   "cell_type": "code",
   "execution_count": 1,
   "metadata": {},
   "outputs": [],
   "source": [
    "\"\"\"Analysis of model weight distribution.\"\"\"\n",
    "# pylint: disable=redefined-outer-name, expression-not-assigned, import-error, not-callable, pointless-statement, no-value-for-parameter, undefined-variable, unused-argument\n",
    "from __future__ import annotations\n",
    "\n",
    "from pathlib import Path\n",
    "from typing import Tuple\n",
    "\n",
    "import numpy as np\n",
    "import pandas as pd\n",
    "import plotly.express as px\n",
    "import plotly.io as pio\n",
    "\n",
    "# from IPython.display import display\n",
    "\n",
    "pio.renderers.default = \"notebook\"\n",
    "\n",
    "# from epi_ml.core.model_pytorch import LightningDenseClassifier"
   ]
  },
  {
   "cell_type": "code",
   "execution_count": null,
   "metadata": {},
   "outputs": [],
   "source": [
    "%matplotlib inline"
   ]
  },
  {
   "cell_type": "code",
   "execution_count": 23,
   "metadata": {},
   "outputs": [],
   "source": [
    "def get_parent_directories(directory: str | Path) -> Tuple[str, str]:\n",
    "    \"\"\"Return the name of the two first parent directories of a given directory.\"\"\"\n",
    "    path = Path(directory).resolve()\n",
    "    return path.parent.name, path.parent.parent.name"
   ]
  },
  {
   "cell_type": "code",
   "execution_count": 3,
   "metadata": {
    "tags": []
   },
   "outputs": [],
   "source": [
    "home = Path(\"/home/local/USHERBROOKE/rabj2301/Projects\")\n",
    "input_dir = home / \"epilap/input\"\n",
    "metadata_path = (\n",
    "    input_dir\n",
    "    / \"metadata/hg38_2023_epiatlas_dfreeze_plus_encode_noncore_formatted_JR.json\"\n",
    ")\n",
    "\n",
    "output = home / \"epilap/output\"\n",
    "# model_dir = output / \"models/harmonized_donor_sex_1l_3000n-10fold_binary_onlyl1-split0_l1_0.1/\""
   ]
  },
  {
   "cell_type": "code",
   "execution_count": 11,
   "metadata": {},
   "outputs": [],
   "source": [
    "def load_model(model_dir):\n",
    "    \"\"\"Load model. Print some stuff.\"\"\"\n",
    "    model = LightningDenseClassifier.restore_model(model_dir)\n",
    "    # print(model.mapping)\n",
    "    # model.summarize(max_depth=-1)\n",
    "    return model"
   ]
  },
  {
   "cell_type": "code",
   "execution_count": 43,
   "metadata": {},
   "outputs": [],
   "source": [
    "def plot_weights_dist(model: LightningDenseClassifier, logdir: Path):\n",
    "    \"\"\"Plot and save the distribution of weights of the first layer of a model.\n",
    "\n",
    "    This function creates a violin plot of the absolute weights in the first layer of the given\n",
    "    model, saving both the plot and a description of the weights as CSV to the specified directory.\n",
    "\n",
    "    Args:\n",
    "        model (LightningDenseClassifier): The model from which to extract the weights.\n",
    "        logdir (Path): The directory where the plot and CSV file will be saved.\n",
    "    \"\"\"\n",
    "    for layer in list(model.parameters())[0:1]:\n",
    "        weights = layer.detach().flatten().numpy()\n",
    "        weights = np.absolute(\n",
    "            np.random.choice(weights, min(1000, len(weights)), replace=False)\n",
    "        )\n",
    "\n",
    "        weigths_description = pd.Series(weights).describe(\n",
    "            percentiles=[0.05, 0.25, 0.5, 0.75, 0.95]\n",
    "        )\n",
    "        # display(weigths_description)\n",
    "        weigths_description.to_csv(logdir / \"weights_description.csv\", sep=\",\")\n",
    "\n",
    "        # pylint: disable=consider-using-f-string\n",
    "        fig_title = \"Weights distribution <br> {0} : {1}\".format(\n",
    "            *get_parent_directories(logdir)\n",
    "        )\n",
    "        fig = px.violin(\n",
    "            weights, box=True, points=False, range_y=[0, 0.01], title=fig_title\n",
    "        )\n",
    "        # fig.show()\n",
    "        fig.write_image(logdir / \"weights_dist.png\")\n",
    "        return weigths_description"
   ]
  },
  {
   "cell_type": "code",
   "execution_count": 44,
   "metadata": {},
   "outputs": [
    {
     "name": "stdout",
     "output_type": "stream",
     "text": [
      "Reading checkpoint list and taking last line.\n",
      "Loading model from /home/local/USHERBROOKE/rabj2301/Projects/epilap/output/models/harmonized_donor_sex_1l_3000n/10fold-binary-l1-500_dropout-0.25/split0/EpiLaP/52c1ebf0aac8470c8b161ed46ecf9ff5/checkpoints/last.ckpt\n",
      "Reading checkpoint list and taking last line.\n",
      "Loading model from /home/local/USHERBROOKE/rabj2301/Projects/epilap/output/models/harmonized_donor_sex_1l_3000n/10fold-binary-l1-100_dropout-0.10/split0/EpiLaP/2a6d35735c06427599d7bb619b142e87/checkpoints/last.ckpt\n",
      "Reading checkpoint list and taking last line.\n",
      "Loading model from /home/local/USHERBROOKE/rabj2301/Projects/epilap/output/models/harmonized_donor_sex_1l_3000n/10fold-binary-l1-500_dropout-0.10/split0/EpiLaP/80a2792dde9f4932b5bedcb7d72dcabd/checkpoints/last.ckpt\n",
      "Reading checkpoint list and taking last line.\n",
      "Loading model from /home/local/USHERBROOKE/rabj2301/Projects/epilap/output/models/harmonized_donor_sex_1l_3000n/10fold-binary-l1-50_dropout-0.25/split0/EpiLaP/7d0d12b7a18d4bfea7386f082a93ae35/checkpoints/last.ckpt\n",
      "Reading checkpoint list and taking last line.\n",
      "Loading model from /home/local/USHERBROOKE/rabj2301/Projects/epilap/output/models/harmonized_donor_sex_1l_3000n/10fold-binary-l1-10_dropout-0.10/split0/EpiLaP/a92512b5d9e0458bbc9263e1cf911653/checkpoints/last.ckpt\n",
      "Reading checkpoint list and taking last line.\n",
      "Loading model from /home/local/USHERBROOKE/rabj2301/Projects/epilap/output/models/harmonized_donor_sex_1l_3000n/10fold-binary-l1-100_dropout-0.25/split0/EpiLaP/f557243638d94c02bdc478b7fb063e14/checkpoints/last.ckpt\n",
      "Reading checkpoint list and taking last line.\n",
      "Loading model from /home/local/USHERBROOKE/rabj2301/Projects/epilap/output/models/harmonized_donor_sex_1l_3000n/10fold-binary-l1-1000_dropout-0.10/split0/EpiLaP/09bacc63145546da8bc52af800cbcf63/checkpoints/last.ckpt\n",
      "Reading checkpoint list and taking last line.\n",
      "Loading model from /home/local/USHERBROOKE/rabj2301/Projects/epilap/output/models/harmonized_donor_sex_1l_3000n/10fold-binary-l1-50_dropout-0.10/split0/EpiLaP/15032deb80fd427aacef50964db73931/checkpoints/last.ckpt\n"
     ]
    }
   ],
   "source": [
    "dirname = output / \"models\" / \"harmonized_donor_sex_1l_3000n\"\n",
    "for model_dir in dirname.glob(\"*dropout-*\"):\n",
    "    model_dir = model_dir / \"split0\"\n",
    "    if \"weights_dist.png\" not in [f.name for f in model_dir.glob(\"*\")]:\n",
    "        model = load_model(model_dir)\n",
    "        plot_weights_dist(model, model_dir)"
   ]
  }
 ],
 "metadata": {
  "kernelspec": {
   "display_name": "Python 3",
   "language": "python",
   "name": "python3"
  },
  "language_info": {
   "codemirror_mode": {
    "name": "ipython",
    "version": 3
   },
   "file_extension": ".py",
   "mimetype": "text/x-python",
   "name": "python",
   "nbconvert_exporter": "python",
   "pygments_lexer": "ipython3",
   "version": "3.8.10"
  },
  "orig_nbformat": 4,
  "vscode": {
   "interpreter": {
    "hash": "31f2aee4e71d21fbe5cf8b01ff0e069b9275f58929596ceb00d14d90e3e16cd6"
   }
  }
 },
 "nbformat": 4,
 "nbformat_minor": 2
}

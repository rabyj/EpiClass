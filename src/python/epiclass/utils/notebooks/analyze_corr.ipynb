{
 "cells": [
  {
   "cell_type": "code",
   "execution_count": null,
   "metadata": {},
   "outputs": [],
   "source": [
    "\"\"\"See markdown\"\"\"\n",
    "# pylint: disable=line-too-long, redefined-outer-name, import-error, pointless-statement"
   ]
  },
  {
   "cell_type": "markdown",
   "metadata": {},
   "source": [
    "Trying to analyze correlation values of a given sample with other samples of different targets.\n",
    "\n",
    "At 1kb, the max correlation can generally be taken as the correct prediction, but targets k27ac and k4me3 are mixed.\n",
    "\n",
    "Is there any pattern in the correlation with other targets that could help us differentiate k27ac and k4me3?"
   ]
  },
  {
   "cell_type": "code",
   "execution_count": null,
   "metadata": {},
   "outputs": [],
   "source": [
    "from pathlib import Path\n",
    "\n",
    "# import numpy as np\n",
    "import pandas as pd\n",
    "import plotly.graph_objects as go"
   ]
  },
  {
   "cell_type": "code",
   "execution_count": null,
   "metadata": {},
   "outputs": [],
   "source": [
    "path = (\n",
    "    Path.home()\n",
    "    / \"downloads\"\n",
    "    / \"temp\"\n",
    "    / \"avr_median_ca_epiatlas_2023_05_31--corr100kb.xlsx\"\n",
    ")\n",
    "df = pd.read_excel(path, sheet_name=0, index_col=0, header=0)"
   ]
  },
  {
   "cell_type": "code",
   "execution_count": null,
   "metadata": {},
   "outputs": [],
   "source": [
    "df = df[df.index.notnull()]  # drop rows with no md5sum (extra computation rows)"
   ]
  },
  {
   "cell_type": "code",
   "execution_count": null,
   "metadata": {},
   "outputs": [],
   "source": [
    "df_epiatlas = df[df[\"Source\"].str.contains(\"EpiAtlas\")]\n",
    "df_epiatlas = df_epiatlas.dropna(axis=1, how=\"all\")"
   ]
  },
  {
   "cell_type": "code",
   "execution_count": null,
   "metadata": {},
   "outputs": [],
   "source": [
    "to_drop = df_epiatlas.columns[df.columns.str.contains(\"median\")]\n",
    "df_epiatlas = df_epiatlas.drop(to_drop, axis=1, errors=\"ignore\")"
   ]
  },
  {
   "cell_type": "code",
   "execution_count": null,
   "metadata": {},
   "outputs": [],
   "source": [
    "# df_epiatlas.columns"
   ]
  },
  {
   "cell_type": "code",
   "execution_count": null,
   "metadata": {},
   "outputs": [],
   "source": [
    "df_k27ac = df_epiatlas[df_epiatlas[\"assay\"].str.contains(\"k27ac\")]"
   ]
  },
  {
   "cell_type": "code",
   "execution_count": null,
   "metadata": {},
   "outputs": [],
   "source": [
    "df_k27ac"
   ]
  },
  {
   "cell_type": "code",
   "execution_count": null,
   "metadata": {},
   "outputs": [],
   "source": [
    "target_diff = df_k27ac[\"h3k27ac_average\"] - df_k27ac[\"h3k4me3_average\"]\n",
    "\n",
    "target_cols = df_k27ac.columns[df_k27ac.columns.str.contains(\"average\")].drop(\n",
    "    [\"h3k4me3_average\", \"h3k27ac_average\"]\n",
    ")\n",
    "cutoff = 0\n",
    "\n",
    "for name, df in zip(\n",
    "    [f\"k27ac-k4me3>{cutoff}\", f\"k27ac-k4me3<-{cutoff}\"],\n",
    "    [df_k27ac[target_diff > cutoff], df_k27ac[target_diff < -cutoff]],\n",
    "):\n",
    "    fig = go.Figure()\n",
    "    print(df.shape)\n",
    "\n",
    "    # Iterate through each target and add a violin plot for it\n",
    "    for target in target_cols:\n",
    "        fig.add_trace(\n",
    "            go.Violin(\n",
    "                y=df[target],\n",
    "                name=target,\n",
    "                box_visible=True,\n",
    "                meanline_visible=True,\n",
    "                points=\"all\",\n",
    "            )\n",
    "        )\n",
    "\n",
    "    fig.update_layout(\n",
    "        title_text=f\"k27ac mean correlation to core assays, {name}\",\n",
    "        yaxis_title=\"Correlation Value\",\n",
    "        xaxis_title=\"Target\",\n",
    "    )\n",
    "    fig.update_yaxes(range=[-0.1, 0.5])\n",
    "\n",
    "    fig.show()"
   ]
  },
  {
   "cell_type": "code",
   "execution_count": null,
   "metadata": {},
   "outputs": [],
   "source": [
    "target_diff = df_k27ac[\"h3k27ac_average\"] - df_k27ac[\"h3k4me3_average\"]\n",
    "\n",
    "target_cols = df_k27ac.columns[df_k27ac.columns.str.contains(\"average\")].drop(\n",
    "    [\"h3k4me3_average\", \"h3k27ac_average\"]\n",
    ")\n",
    "# target_cols = df_k27ac.columns[df_k27ac.columns.str.contains(\"average\")]\n",
    "cutoff = 0.05\n",
    "\n",
    "fig = go.Figure()\n",
    "\n",
    "combined_names = [\n",
    "    f\"{target}, {name}\"\n",
    "    for name in [f\"k27ac-k4me3>{cutoff}\", f\"k27ac-k4me3<-{cutoff}\"]\n",
    "    for target in target_cols\n",
    "]\n",
    "current_categories = (\n",
    "    fig.layout.xaxis.categoryarray if \"categoryarray\" in fig.layout.xaxis else []\n",
    ")\n",
    "sorted_combined_names = sorted(combined_names)\n",
    "\n",
    "fig = go.Figure()\n",
    "\n",
    "for name in sorted_combined_names:\n",
    "    target, condition = name.split(\", \")\n",
    "    if condition == f\"k27ac-k4me3>{cutoff}\":\n",
    "        data_frame = df_k27ac[target_diff > cutoff]\n",
    "        color = \"red\"\n",
    "    else:\n",
    "        data_frame = df_k27ac[target_diff < -cutoff]\n",
    "        color = \"blue\"\n",
    "    fig.add_trace(\n",
    "        go.Violin(\n",
    "            y=data_frame[target.strip()],\n",
    "            name=name,\n",
    "            box_visible=True,\n",
    "            meanline_visible=True,\n",
    "            points=\"all\",\n",
    "            line_color=color,\n",
    "        )\n",
    "    )\n",
    "\n",
    "fig.update_layout(\n",
    "    title_text=\"1kb: k27ac mean correlation to core assays\",\n",
    "    yaxis_title=\"Correlation Value\",\n",
    "    xaxis_title=\"Target\",\n",
    ")\n",
    "fig.update_yaxes(range=[-0.1, max(df_k27ac[target_cols].max())])\n",
    "\n",
    "fig.update_layout(\n",
    "    xaxis={\"categoryorder\": \"array\", \"categoryarray\": sorted_combined_names}\n",
    ")\n",
    "\n",
    "fig.show()"
   ]
  }
 ],
 "metadata": {
  "kernelspec": {
   "display_name": "epiclass",
   "language": "python",
   "name": "python3"
  },
  "language_info": {
   "codemirror_mode": {
    "name": "ipython",
    "version": 3
   },
   "file_extension": ".py",
   "mimetype": "text/x-python",
   "name": "python",
   "nbconvert_exporter": "python",
   "pygments_lexer": "ipython3",
   "version": "3.8.10"
  },
  "orig_nbformat": 4
 },
 "nbformat": 4,
 "nbformat_minor": 2
}

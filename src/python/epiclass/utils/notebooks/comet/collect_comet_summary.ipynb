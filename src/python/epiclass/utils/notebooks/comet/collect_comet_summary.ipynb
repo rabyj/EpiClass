{
 "cells": [
  {
   "cell_type": "code",
   "execution_count": null,
   "id": "957caca9",
   "metadata": {},
   "outputs": [],
   "source": [
    "\"\"\"Collect metrics from failed comet-ml uploads and sent them back to comet-ml cloud.\"\"\"\n",
    "# pylint: disable=import-error,redefined-outer-name"
   ]
  },
  {
   "cell_type": "code",
   "execution_count": null,
   "id": "b311b410",
   "metadata": {},
   "outputs": [],
   "source": [
    "from __future__ import annotations\n",
    "\n",
    "import re\n",
    "from collections import defaultdict\n",
    "from pathlib import Path\n",
    "from typing import Any, Dict, List\n",
    "\n",
    "from comet_ml.api import API  # type: ignore"
   ]
  },
  {
   "cell_type": "markdown",
   "id": "bb7c7104",
   "metadata": {},
   "source": [
    "found failed files with:\n",
    "\n",
    "```bash\n",
    "[rabyj@narval4 logs-dfreeze-2.1]$ find . -type f -name \"*.e\" -exec grep -lc \"COMET WARNING: Failed to log run in comet.ml\" {} +\n",
    "```"
   ]
  },
  {
   "cell_type": "code",
   "execution_count": null,
   "id": "cdeb4fc8",
   "metadata": {},
   "outputs": [],
   "source": [
    "def collect_experiment_data(file_path: str | Path) -> Dict[str, Dict[str, Any]]:\n",
    "    \"\"\"\n",
    "    Collect log file lines and identify failed experiments based on the log file.\n",
    "\n",
    "    Args:\n",
    "    - file_path (str): The path to the log file.\n",
    "\n",
    "    Returns:\n",
    "    - Dict[str, Dict[str, List[str]]]: A dictionary where the key is the experiment key\n",
    "      and the value is another dictionary with log lines and flags ('failed' or 'success').\n",
    "    \"\"\"\n",
    "    experiments = defaultdict(\n",
    "        lambda: {\"log\": [], \"status\": \"success\"}\n",
    "    )  # Initialize dictionary to store experiment data.\n",
    "    experiment_key = None  # Variable to keep track of the current experiment key.\n",
    "\n",
    "    with open(file_path, \"r\", encoding=\"utf8\") as f:\n",
    "        for line in f:\n",
    "            line = line.strip()\n",
    "\n",
    "            # Check for a new experiment and update the experiment_key.\n",
    "            match = re.search(r\"https://www\\.comet\\.com/rabyj/epilap/([\\w\\d]+)\", line)\n",
    "            if match:\n",
    "                experiment_key = match.group(1)\n",
    "\n",
    "            # If we have a valid experiment_key, collect its metrics.\n",
    "            if experiment_key:\n",
    "                if any(keyword in line for keyword in [\"COMET WARNING\", \"COMET ERROR\"]):\n",
    "                    experiments[experiment_key][\"status\"] = \"failed\"\n",
    "                else:\n",
    "                    # Here, you can add more conditions to filter out lines that are not metrics or parameters.\n",
    "                    experiments[experiment_key][\"log\"].append(line)  # type: ignore\n",
    "\n",
    "    return experiments"
   ]
  },
  {
   "cell_type": "code",
   "execution_count": null,
   "id": "d6bbb476",
   "metadata": {},
   "outputs": [],
   "source": [
    "def extract_final_metrics_to_dict(\n",
    "    experiment_data: Dict[str, Dict[str, List[str]]]\n",
    ") -> Dict[str, Dict[str, Any]]:\n",
    "    \"\"\"\n",
    "    Extract final metrics from \"COMET INFO: Comet.ml ExistingExperiment Summary\" section to a dictionary format.\n",
    "\n",
    "    Args:\n",
    "    - experiment_data (Dict[str, Dict[str, List[str]]]): The experiment data collected from the log file.\n",
    "\n",
    "    Returns:\n",
    "    - Dict[str, Dict[str, float]]: A dictionary where the key is the experiment key and the value is another\n",
    "      dictionary containing final metric labels and their corresponding values.\n",
    "    \"\"\"\n",
    "    final_metrics = {}\n",
    "\n",
    "    for exp_key, exp_data in experiment_data.items():\n",
    "        if exp_data[\"status\"] == \"failed\":\n",
    "            metrics_dict = {}\n",
    "            summary_section = False  # Flag to track if we are in the \"COMET INFO: Comet.ml ExistingExperiment Summary\" section\n",
    "\n",
    "            for log_line in exp_data[\"log\"]:\n",
    "                if \"COMET INFO: Comet.ml ExistingExperiment Summary\" in log_line:\n",
    "                    summary_section = True\n",
    "                    continue  # Move to next line\n",
    "\n",
    "                irrelevant_lines = [\"asset\", \"Experiment\", \"display\"]\n",
    "                if summary_section and all(\n",
    "                    word not in log_line for word in irrelevant_lines\n",
    "                ):\n",
    "                    match = re.search(r\"COMET INFO:([^:]+):(.*\\d+.*)\", log_line)\n",
    "                    if match:\n",
    "                        entry_label = match.group(1)\n",
    "                        entry_value = match.group(2)\n",
    "                        metrics_dict[entry_label.strip()] = entry_value.strip()\n",
    "\n",
    "            if metrics_dict:  # Add only if the metrics_dict is not empty\n",
    "                final_metrics[exp_key] = metrics_dict\n",
    "\n",
    "    return final_metrics"
   ]
  },
  {
   "cell_type": "code",
   "execution_count": null,
   "id": "c6a61ce7",
   "metadata": {},
   "outputs": [],
   "source": [
    "def upload_data_to_existing_experiment(\n",
    "    api: API, final_metrics: Dict[str, Dict[str, Any]]\n",
    "):\n",
    "    \"\"\"\n",
    "    Uploads metrics to existing experiments in Comet.ml.\n",
    "\n",
    "    Given the Comet.ml API object and a dictionary containing final metrics\n",
    "    for each experiment, this function uploads the metrics to the respective\n",
    "    experiments on Comet.ml. Existing metrics are not overwritten.\n",
    "\n",
    "    Args:\n",
    "        api (API): The Comet.ml API object to interact with the Comet.ml service.\n",
    "        final_metrics (Dict[str, Dict[str, str]]): A nested dictionary where the\n",
    "            outer dictionary's keys are experiment keys and the inner dictionaries\n",
    "            contain metric labels and their corresponding values.\n",
    "\n",
    "    Prints:\n",
    "        Information about which metrics were uploaded for which experiments or\n",
    "        if there were no new data to upload.\n",
    "    \"\"\"\n",
    "    for experiment in [api.get(f\"rabyj/epilap/{key}\") for key in final_metrics.keys()]:\n",
    "        # Get the old data labels to avoid overwriting them.\n",
    "        old_data_labels = [exp[\"name\"] for exp in experiment.get_metrics_summary()]\n",
    "        no_write = set([\"url\", \"Name\"] + old_data_labels)\n",
    "\n",
    "        # Create a dictionary with the new data to be uploaded.\n",
    "        new_data = {\n",
    "            metric_label: metric_value\n",
    "            for metric_label, metric_value in final_metrics[experiment.key].items()\n",
    "            if metric_label not in no_write\n",
    "        }\n",
    "\n",
    "        # Upload the new data.\n",
    "        if new_data:\n",
    "            experiment.log_metrics(new_data)\n",
    "            print(f\"Uploaded data to experiment {experiment.key}.\")\n",
    "            print(f\"New data: {new_data}\")\n",
    "        else:\n",
    "            print(f\"No new data to upload to experiment {experiment.key}.\")"
   ]
  },
  {
   "cell_type": "code",
   "execution_count": null,
   "id": "1f2514bf",
   "metadata": {},
   "outputs": [],
   "source": [
    "api = API()"
   ]
  },
  {
   "cell_type": "code",
   "execution_count": null,
   "id": "f248ec42",
   "metadata": {},
   "outputs": [],
   "source": [
    "for log_file in list(\n",
    "    (Path.home() / \"downloads\" / \"temp\" / \"failed_comet_upload\").glob(\"*.e\")\n",
    "):\n",
    "    data = collect_experiment_data(log_file)\n",
    "    failed_upload_metrics = extract_final_metrics_to_dict(data)\n",
    "    upload_data_to_existing_experiment(api, failed_upload_metrics)"
   ]
  }
 ],
 "metadata": {
  "kernelspec": {
   "display_name": "epiclass",
   "language": "python",
   "name": "python3"
  },
  "language_info": {
   "codemirror_mode": {
    "name": "ipython",
    "version": 3
   },
   "file_extension": ".py",
   "mimetype": "text/x-python",
   "name": "python",
   "nbconvert_exporter": "python",
   "pygments_lexer": "ipython3",
   "version": "3.8.10"
  }
 },
 "nbformat": 4,
 "nbformat_minor": 5
}

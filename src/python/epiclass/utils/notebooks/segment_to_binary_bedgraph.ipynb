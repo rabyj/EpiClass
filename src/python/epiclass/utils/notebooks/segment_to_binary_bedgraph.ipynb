{
 "cells": [
  {
   "cell_type": "code",
   "execution_count": null,
   "metadata": {},
   "outputs": [],
   "source": [
    "\"\"\"Transform TCGA CNV (copy number variant) segment info into a binary BED spanning the whole genome.\n",
    "0 represents no CNV, i.e. nbmajor=nbminor=1\n",
    "1 represents a CNV, i.e. nbmajor!=nbminor\n",
    "\"\"\"\n",
    "\n",
    "# pylint: disable=redefined-outer-name, import-error, duplicate-code"
   ]
  },
  {
   "cell_type": "code",
   "execution_count": 81,
   "metadata": {},
   "outputs": [],
   "source": [
    "from __future__ import annotations\n",
    "\n",
    "import multiprocessing\n",
    "import subprocess\n",
    "from pathlib import Path\n",
    "\n",
    "import pandas as pd"
   ]
  },
  {
   "cell_type": "code",
   "execution_count": 43,
   "metadata": {},
   "outputs": [],
   "source": [
    "current_folder = Path(globals()[\"_dh\"][0])"
   ]
  },
  {
   "cell_type": "code",
   "execution_count": 10,
   "metadata": {},
   "outputs": [],
   "source": [
    "segment_dir = current_folder / \"segments\"\n",
    "segment_files = list(segment_dir.glob(\"*.txt\"))"
   ]
  },
  {
   "cell_type": "code",
   "execution_count": 53,
   "metadata": {},
   "outputs": [],
   "source": [
    "test_file = segment_files[0]"
   ]
  },
  {
   "cell_type": "code",
   "execution_count": 54,
   "metadata": {},
   "outputs": [],
   "source": [
    "df = pd.read_csv(test_file, sep=\"\\t\")"
   ]
  },
  {
   "cell_type": "code",
   "execution_count": 74,
   "metadata": {},
   "outputs": [],
   "source": [
    "def to_bedgraph_df(df: pd.DataFrame) -> pd.DataFrame:\n",
    "    \"\"\"Go from TCGA CNV segment df to bedgraph format\n",
    "    (4 columns: chrom, start, end, has_cnv)\n",
    "    \"\"\"\n",
    "    df[\"chrom\"] = \"chr\" + df[\"chr\"].astype(str)\n",
    "    df[\"has_cnv\"] = ~((df[\"nMajor\"] == 1) & (df[\"nMinor\"] == 1))\n",
    "    df[\"has_cnv\"] = df[\"has_cnv\"].astype(int)\n",
    "    df = df[[\"chrom\", \"startpos\", \"endpos\", \"has_cnv\"]]\n",
    "    df.columns = [\"chrom\", \"start\", \"end\", \"has_cnv\"]\n",
    "    return df"
   ]
  },
  {
   "cell_type": "code",
   "execution_count": 75,
   "metadata": {},
   "outputs": [],
   "source": [
    "def run_bedtools_genomecov(bg_file: str) -> pd.DataFrame:\n",
    "    \"\"\"\n",
    "    Executes bedtools genomecov command with specified parameters, filters the output for regions of zero coverage,\n",
    "    and collects the result into a pandas DataFrame.\n",
    "\n",
    "    Args:\n",
    "        bg_file (str): Path to the bedgraph file.\n",
    "\n",
    "    Returns:\n",
    "        pd.DataFrame: A DataFrame containing the filtered output of the bedtools command.\n",
    "    \"\"\"\n",
    "    chrom_sizes_path = (\n",
    "        Path().home() / \"Projects/epiclass/input/chromsizes/hg38.noy.chrom.sizes\"\n",
    "    )\n",
    "    # Construct the command as a list of arguments\n",
    "    cmd = [\"bedtools\", \"genomecov\", \"-g\", chrom_sizes_path, \"-i\", bg_file, \"-bga\"]\n",
    "\n",
    "    # Execute the bedtools command and pipe to awk to filter rows where the fourth column equals 0\n",
    "    result = subprocess.run(cmd, capture_output=True, text=True, check=True)\n",
    "    awk_cmd = [\"awk\", \"$4==0\"]\n",
    "    with subprocess.Popen(\n",
    "        awk_cmd, stdin=subprocess.PIPE, stdout=subprocess.PIPE, text=True\n",
    "    ) as awk_process:\n",
    "        awk_result, _ = awk_process.communicate(result.stdout)\n",
    "\n",
    "    # Convert the filtered result into a DataFrame\n",
    "    data = [line.split() for line in awk_result.strip().split(\"\\n\")]\n",
    "    df = pd.DataFrame(data, columns=[\"chrom\", \"start\", \"end\", \"coverage\"])\n",
    "    df = df.drop(columns=[\"coverage\"])\n",
    "\n",
    "    df[[\"start\", \"end\"]] = df[[\"start\", \"end\"]].astype(int)\n",
    "\n",
    "    return df"
   ]
  },
  {
   "cell_type": "code",
   "execution_count": 79,
   "metadata": {},
   "outputs": [],
   "source": [
    "def complete_bedgraph(bg_file: Path, bg_df: pd.DataFrame) -> pd.DataFrame:\n",
    "    \"\"\"\n",
    "    Completes the bedgraph file by adding regions of zero coverage to the file.\n",
    "\n",
    "    Args:\n",
    "        bg_file (str): Path to the bedgraph file.\n",
    "\n",
    "    Returns:\n",
    "        pd.DataFrame: A DataFrame containing the complete bedgraph file.\n",
    "    \"\"\"\n",
    "    # Run bedtools genomecov and collect the result into a DataFrame\n",
    "    df = run_bedtools_genomecov(str(bg_file))\n",
    "\n",
    "    # Add a column for the has_cnv value, zero coverage means no CNV\n",
    "    df[\"has_cnv\"] = 0\n",
    "\n",
    "    # Concatenate the original bedgraph file with the result of bedtools genomecov\n",
    "    df = pd.concat([bg_df, df], ignore_index=True)\n",
    "    df = df.sort_values(by=[\"chrom\", \"start\", \"end\"])\n",
    "\n",
    "    # Write the result to a new file\n",
    "    complete_bg_file = bg_file.with_name(bg_file.stem + \".complete.bg\")\n",
    "    df.to_csv(\n",
    "        complete_bg_file,\n",
    "        sep=\"\\t\",\n",
    "        index=False,\n",
    "        header=False,\n",
    "        columns=[\"chrom\", \"start\", \"end\", \"has_cnv\"],\n",
    "    )\n",
    "\n",
    "    return df"
   ]
  },
  {
   "cell_type": "code",
   "execution_count": 80,
   "metadata": {},
   "outputs": [],
   "source": [
    "def process_one_file(segment_file: Path) -> None:\n",
    "    \"\"\"From a segment file, create a bedgraph file and complete the missing coverage regions with value 0.\"\"\"\n",
    "    df = pd.read_csv(segment_file, sep=\"\\t\")\n",
    "    bedgraph_df = to_bedgraph_df(df)\n",
    "    bedgraph_file = segment_file.with_suffix(\".bg\")\n",
    "    bedgraph_df.to_csv(bedgraph_file, sep=\"\\t\", index=False, header=False)\n",
    "    complete_bedgraph(bedgraph_file, bedgraph_df)"
   ]
  },
  {
   "cell_type": "code",
   "execution_count": 82,
   "metadata": {},
   "outputs": [],
   "source": [
    "def process_all_files(segment_files: list[Path]) -> None:\n",
    "    \"\"\"Process all segment files in parallel.\"\"\"\n",
    "    with multiprocessing.Pool() as pool:\n",
    "        pool.map(process_one_file, segment_files)"
   ]
  },
  {
   "cell_type": "code",
   "execution_count": 83,
   "metadata": {},
   "outputs": [],
   "source": [
    "process_all_files(segment_files)"
   ]
  }
 ],
 "metadata": {
  "kernelspec": {
   "display_name": "epiclass",
   "language": "python",
   "name": "python3"
  },
  "language_info": {
   "codemirror_mode": {
    "name": "ipython",
    "version": 3
   },
   "file_extension": ".py",
   "mimetype": "text/x-python",
   "name": "python",
   "nbconvert_exporter": "python",
   "pygments_lexer": "ipython3",
   "version": "3.8.10"
  }
 },
 "nbformat": 4,
 "nbformat_minor": 2
}

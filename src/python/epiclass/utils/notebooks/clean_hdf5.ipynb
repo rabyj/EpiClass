{
 "cells": [
  {
   "cell_type": "code",
   "execution_count": null,
   "metadata": {},
   "outputs": [],
   "source": [
    "\"\"\"Workstation for clean_hdf5.py\"\"\"\n",
    "\n",
    "# pylint: disable=redefined-outer-name, expression-not-assigned, import-error, not-callable, pointless-statement, no-value-for-parameter, undefined-variable, unused-argument, missing-docstring, line-too-long"
   ]
  },
  {
   "cell_type": "code",
   "execution_count": null,
   "metadata": {},
   "outputs": [],
   "source": [
    "from __future__ import annotations\n",
    "\n",
    "import shutil\n",
    "from pathlib import Path\n",
    "\n",
    "import h5py"
   ]
  },
  {
   "cell_type": "code",
   "execution_count": null,
   "metadata": {},
   "outputs": [],
   "source": [
    "from epiclass.utils.clean_hdf5 import load_bed, preprocess_bed, print_h5py_structure"
   ]
  },
  {
   "cell_type": "code",
   "execution_count": null,
   "metadata": {},
   "outputs": [],
   "source": [
    "print_h5py_structure(\n",
    "    str(\n",
    "        Path.home()\n",
    "        / \"Projects/epilap/input/hdf5/hg38_2022-epiatlas/100kb_all_none/8a4eb67b1e30d37eede02a28f691a917_100kb_all_none_value.hdf5\"\n",
    "    )\n",
    ")"
   ]
  },
  {
   "cell_type": "code",
   "execution_count": null,
   "metadata": {},
   "outputs": [],
   "source": [
    "home = Path(\"/home/local/USHERBROOKE/rabj2301/Projects\")\n",
    "input_dir = home / \"epilap/input\"\n",
    "hdf5_list_path = input_dir / \"hdf5_list\" / \"100kb_all_none_10samples.list\""
   ]
  },
  {
   "cell_type": "code",
   "execution_count": null,
   "metadata": {},
   "outputs": [],
   "source": [
    "og_hdf5_path = Path(\n",
    "    \"/home/local/USHERBROOKE/rabj2301/Projects/epilap/input/hdf5/hg38_2022-epiatlas/100kb_all_none/67959517fd1cd857151bbabca3abc74f_100kb_all_none_value.hdf5\"\n",
    ")\n",
    "hdf5_path = og_hdf5_path.parent / (og_hdf5_path.stem + \"_0blklst.hdf5\")\n",
    "shutil.copy(og_hdf5_path, hdf5_path)\n",
    "\n",
    "bin_resolution = 100 * 1000  # Replace with the appropriate bin resolution value\n",
    "blacklist_path = \"/home/local/USHERBROOKE/rabj2301/Projects/epilap/input/filter/hg38_unified_blacklist.bed\"\n",
    "blacklist_bed = load_bed(blacklist_path)\n",
    "blacklist_chromosome_intervals = preprocess_bed(blacklist_bed)\n",
    "\n",
    "\n",
    "with h5py.File(hdf5_path, \"r+\") as file:\n",
    "    header = list(file.keys())[0]\n",
    "    hdf5_data = file[header]\n",
    "    for chromosome, dataset in hdf5_data.items():  # type: ignore\n",
    "        for i, value in enumerate(dataset):\n",
    "            position = i * bin_resolution\n",
    "            if is_position_in_blacklist(\n",
    "                position,\n",
    "                position + bin_resolution,\n",
    "                blacklist_chromosome_intervals,\n",
    "                chromosome,\n",
    "                verbose=True,\n",
    "            ):\n",
    "                # print(i)\n",
    "                dataset[i] = 0\n",
    "\n",
    "    file.close()"
   ]
  }
 ],
 "metadata": {
  "kernelspec": {
   "display_name": "epiclass_py3.8",
   "language": "python",
   "name": "python3"
  },
  "language_info": {
   "codemirror_mode": {
    "name": "ipython",
    "version": 3
   },
   "file_extension": ".py",
   "mimetype": "text/x-python",
   "name": "python",
   "nbconvert_exporter": "python",
   "pygments_lexer": "ipython3",
   "version": "3.8.20"
  },
  "orig_nbformat": 4
 },
 "nbformat": 4,
 "nbformat_minor": 2
}

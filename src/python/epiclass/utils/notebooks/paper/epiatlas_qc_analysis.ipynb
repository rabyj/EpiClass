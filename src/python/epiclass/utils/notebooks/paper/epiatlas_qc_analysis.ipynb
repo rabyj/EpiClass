{
 "cells": [
  {
   "cell_type": "code",
   "execution_count": null,
   "metadata": {},
   "outputs": [],
   "source": [
    "\"\"\"Analysis of relation between UMAP and QC metrics, following WGBS grouped with input.\"\"\"\n",
    "\n",
    "# pylint: disable=import-error, redefined-outer-name, use-dict-literal, too-many-lines, duplicate-code"
   ]
  },
  {
   "cell_type": "code",
   "execution_count": null,
   "metadata": {},
   "outputs": [],
   "source": [
    "%load_ext autoreload\n",
    "%autoreload 2"
   ]
  },
  {
   "cell_type": "code",
   "execution_count": null,
   "metadata": {},
   "outputs": [],
   "source": [
    "from __future__ import annotations\n",
    "\n",
    "import copy\n",
    "from pathlib import Path\n",
    "from typing import List\n",
    "\n",
    "import pandas as pd\n",
    "import plotly.graph_objects as go\n",
    "from IPython.display import display\n",
    "\n",
    "from epiclass.utils.notebooks.paper.paper_utilities import (\n",
    "    ASSAY,\n",
    "    ASSAY_MERGE_DICT,\n",
    "    CELL_TYPE,\n",
    "    IHECColorMap,\n",
    "    MetadataHandler,\n",
    ")"
   ]
  },
  {
   "cell_type": "code",
   "execution_count": null,
   "metadata": {},
   "outputs": [],
   "source": [
    "base_dir = Path.home() / \"Projects/epiclass/output/paper\"\n",
    "base_data_dir = base_dir / \"data\"\n",
    "base_fig_dir = base_dir / \"figures\"\n",
    "paper_dir = base_dir\n",
    "\n",
    "if not base_fig_dir.exists():\n",
    "    raise FileNotFoundError(f\"Directory {base_fig_dir} does not exist.\")"
   ]
  },
  {
   "cell_type": "code",
   "execution_count": null,
   "metadata": {},
   "outputs": [],
   "source": [
    "metadata_handler = MetadataHandler(paper_dir)\n",
    "metadata = metadata_handler.load_metadata(\"v2\")\n",
    "metadata.convert_classes(ASSAY, ASSAY_MERGE_DICT)\n",
    "metadata.select_category_subsets(ASSAY, [\"wgbs\"])"
   ]
  },
  {
   "cell_type": "code",
   "execution_count": null,
   "metadata": {},
   "outputs": [],
   "source": [
    "meta_og = metadata_handler.load_metadata(\"v2\")\n",
    "meta_og.select_category_subsets(ASSAY, [\"wgbs-pbat\", \"wgbs-standard\"])"
   ]
  },
  {
   "cell_type": "code",
   "execution_count": null,
   "metadata": {},
   "outputs": [],
   "source": [
    "IHECColorMap = IHECColorMap(base_fig_dir)\n",
    "assay_colors = IHECColorMap.assay_color_map"
   ]
  },
  {
   "cell_type": "code",
   "execution_count": null,
   "metadata": {},
   "outputs": [],
   "source": [
    "def display_labels(meta, categories: List[str]):\n",
    "    \"\"\"Display metadata labels for categories.\"\"\"\n",
    "    for category in categories:\n",
    "        meta.display_labels(category)"
   ]
  },
  {
   "cell_type": "code",
   "execution_count": null,
   "metadata": {},
   "outputs": [],
   "source": [
    "cats = [ASSAY, \"track_type\", CELL_TYPE]"
   ]
  },
  {
   "cell_type": "markdown",
   "metadata": {},
   "source": [
    "## Read relevant files"
   ]
  },
  {
   "cell_type": "code",
   "execution_count": null,
   "metadata": {},
   "outputs": [],
   "source": [
    "# WGBS QC\n",
    "qc_dir = base_data_dir / \"experiment_metadata\"\n",
    "wgbs_qc_path = qc_dir / \"EpiATLAS_wgbs_qc_summary.csv\"\n",
    "wgbs_qc = pd.read_csv(wgbs_qc_path)\n",
    "display(wgbs_qc.head())\n",
    "display(wgbs_qc.shape)"
   ]
  },
  {
   "cell_type": "code",
   "execution_count": null,
   "metadata": {},
   "outputs": [],
   "source": [
    "metric_cols = wgbs_qc.columns[3:]"
   ]
  },
  {
   "cell_type": "code",
   "execution_count": null,
   "metadata": {},
   "outputs": [],
   "source": [
    "if not wgbs_qc.shape[0] == wgbs_qc[\"uuid\"].nunique():\n",
    "    raise ValueError(\"UUIDs are not unique.\")"
   ]
  },
  {
   "cell_type": "code",
   "execution_count": null,
   "metadata": {},
   "outputs": [],
   "source": [
    "# UMAP WGBS SUSPICIOUS CLUSTERS\n",
    "umap_dir = base_data_dir / \"umap\"\n",
    "path_template = \"embedding_standard_3D_nn100_sus_wgbs_clus{i}.md5\"\n",
    "clusters_md5s = []\n",
    "for i in [1, 2]:\n",
    "    path = umap_dir / path_template.format(i=i)\n",
    "    clusters_md5s.append(pd.read_csv(path, index_col=0).index.to_list())"
   ]
  },
  {
   "cell_type": "code",
   "execution_count": null,
   "metadata": {},
   "outputs": [],
   "source": [
    "sus_md5s = set(clusters_md5s[0] + clusters_md5s[1])"
   ]
  },
  {
   "cell_type": "code",
   "execution_count": null,
   "metadata": {},
   "outputs": [],
   "source": [
    "md5_to_uuid = {\n",
    "    dset[\"md5sum\"]: dset[\"uuid\"]\n",
    "    for dset in metadata.datasets\n",
    "    if dset[\"md5sum\"] in sus_md5s\n",
    "}\n",
    "all_bad_uuids = set(md5_to_uuid.values())"
   ]
  },
  {
   "cell_type": "code",
   "execution_count": null,
   "metadata": {},
   "outputs": [],
   "source": [
    "uuid_1 = set(md5_to_uuid[md5] for md5 in clusters_md5s[0])\n",
    "uuid_2 = set(md5_to_uuid[md5] for md5 in clusters_md5s[1])"
   ]
  },
  {
   "cell_type": "code",
   "execution_count": null,
   "metadata": {},
   "outputs": [],
   "source": [
    "print(len(uuid_1), len(uuid_2))"
   ]
  },
  {
   "cell_type": "code",
   "execution_count": null,
   "metadata": {},
   "outputs": [],
   "source": [
    "no_conversion = wgbs_qc[wgbs_qc[\"BS_conversion_Rate\"].isna()]\n",
    "display(no_conversion.shape)"
   ]
  },
  {
   "cell_type": "code",
   "execution_count": null,
   "metadata": {},
   "outputs": [],
   "source": [
    "meta_no_conversion = copy.deepcopy(meta_og)\n",
    "for md5, dset in list(meta_no_conversion.items):\n",
    "    if dset[\"uuid\"] not in no_conversion[\"uuid\"].to_list():\n",
    "        del meta_no_conversion[md5]"
   ]
  },
  {
   "cell_type": "code",
   "execution_count": null,
   "metadata": {},
   "outputs": [],
   "source": [
    "display_labels(meta_no_conversion, cats)"
   ]
  },
  {
   "cell_type": "code",
   "execution_count": null,
   "metadata": {},
   "outputs": [],
   "source": [
    "for metric in metric_cols:\n",
    "    fig = go.Figure()\n",
    "    for i, uuids in enumerate([uuid_1, uuid_2]):\n",
    "        fig.add_trace(\n",
    "            go.Violin(\n",
    "                y=wgbs_qc.loc[wgbs_qc[\"uuid\"].isin(uuids), metric],\n",
    "                box_visible=True,\n",
    "                line_color=\"black\",\n",
    "                meanline_visible=True,\n",
    "                points=\"all\",\n",
    "                spanmode=\"hard\",\n",
    "                fillcolor=assay_colors[\"WGBS\"],\n",
    "                marker=dict(size=5),\n",
    "                opacity=0.6,\n",
    "                name=f\"Cluster {i+1}\",\n",
    "            )\n",
    "        )\n",
    "    fig.add_trace(\n",
    "        go.Violin(\n",
    "            y=wgbs_qc.loc[~wgbs_qc[\"uuid\"].isin(all_bad_uuids), metric],\n",
    "            box_visible=True,\n",
    "            line_color=\"black\",\n",
    "            meanline_visible=True,\n",
    "            points=\"all\",\n",
    "            spanmode=\"hard\",\n",
    "            fillcolor=assay_colors[\"WGBS\"],\n",
    "            marker=dict(size=3),\n",
    "            opacity=0.6,\n",
    "            name=\"Other\",\n",
    "        )\n",
    "    )\n",
    "    fig.update_layout(\n",
    "        title=f\"{metric} - WGBS grouped with input (UMAP)\",\n",
    "        yaxis_title=metric,\n",
    "        xaxis_title=\"Cluster\",\n",
    "    )\n",
    "    fig.show()"
   ]
  },
  {
   "cell_type": "code",
   "execution_count": null,
   "metadata": {},
   "outputs": [],
   "source": [
    "sub_df = wgbs_qc.loc[wgbs_qc[\"BS_conversion_Rate\"].isna()]\n",
    "for metric in metric_cols:\n",
    "    fig = go.Figure()\n",
    "\n",
    "    mask_1 = sub_df[\"uuid\"].isin(uuid_1)\n",
    "\n",
    "    fig.add_trace(\n",
    "        go.Violin(\n",
    "            y=sub_df[mask_1][metric],\n",
    "            box_visible=True,\n",
    "            line_color=\"black\",\n",
    "            meanline_visible=True,\n",
    "            points=\"all\",\n",
    "            spanmode=\"hard\",\n",
    "            fillcolor=\"red\",\n",
    "            marker=dict(size=3),\n",
    "            opacity=0.9,\n",
    "            name=\"Cluster 1\",\n",
    "        )\n",
    "    )\n",
    "    fig.add_trace(\n",
    "        go.Violin(\n",
    "            y=sub_df[~mask_1][metric],\n",
    "            box_visible=True,\n",
    "            line_color=\"black\",\n",
    "            meanline_visible=True,\n",
    "            points=\"all\",\n",
    "            spanmode=\"hard\",\n",
    "            fillcolor=assay_colors[\"WGBS\"],\n",
    "            marker=dict(size=3),\n",
    "            opacity=0.9,\n",
    "            name=\"Other\",\n",
    "        )\n",
    "    )\n",
    "\n",
    "    fig.update_layout(\n",
    "        title=f\"{metric} - WGBS no conversion rate\",\n",
    "        yaxis_title=metric,\n",
    "    )\n",
    "    fig.show()"
   ]
  },
  {
   "cell_type": "code",
   "execution_count": null,
   "metadata": {},
   "outputs": [],
   "source": [
    "meta = copy.deepcopy(meta_og)\n",
    "for md5 in list(meta.md5s):\n",
    "    if md5 not in clusters_md5s[0]:\n",
    "        del meta[md5]\n",
    "\n",
    "display_labels(meta, cats)"
   ]
  }
 ],
 "metadata": {
  "kernelspec": {
   "display_name": "Python 3",
   "language": "python",
   "name": "python3"
  },
  "language_info": {
   "codemirror_mode": {
    "name": "ipython",
    "version": 3
   },
   "file_extension": ".py",
   "mimetype": "text/x-python",
   "name": "python",
   "nbconvert_exporter": "python",
   "pygments_lexer": "ipython3",
   "version": "3.8.10"
  }
 },
 "nbformat": 4,
 "nbformat_minor": 2
}

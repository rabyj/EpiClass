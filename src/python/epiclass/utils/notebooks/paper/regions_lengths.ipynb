{
 "cells": [
  {
   "cell_type": "code",
   "execution_count": null,
   "metadata": {},
   "outputs": [],
   "source": [
    "\"\"\"Create violin plots of the distribution of region lengths for various feature sets.\"\"\"\n",
    "# pylint: disable=import-error, unused-import, redefined-outer-name, use-dict-literal, too-many-lines"
   ]
  },
  {
   "cell_type": "code",
   "execution_count": 9,
   "metadata": {},
   "outputs": [],
   "source": [
    "from pathlib import Path\n",
    "\n",
    "import pandas as pd\n",
    "import plotly.graph_objects as go\n",
    "from IPython.display import display"
   ]
  },
  {
   "cell_type": "code",
   "execution_count": 10,
   "metadata": {},
   "outputs": [],
   "source": [
    "base_dir = Path.home() / \"Projects/epiclass/output/paper\"\n",
    "base_data_dir = base_dir / \"data\"\n",
    "base_fig_dir = base_dir / \"figures\"\n",
    "paper_dir = base_dir"
   ]
  },
  {
   "cell_type": "code",
   "execution_count": 11,
   "metadata": {},
   "outputs": [],
   "source": [
    "reg_regions_path = (\n",
    "    base_data_dir\n",
    "    / \"ChromHMM\"\n",
    "    / \"StackedChromHMM_hg38_EnhancerMaxK27acCorrelations.txt.gz\"\n",
    ")\n",
    "df_reg_regions = pd.read_csv(reg_regions_path, sep=\"\\t\")\n",
    "\n",
    "gene_regions_path = base_data_dir / \"filters\" / \"hg38.gene_regions.bed\"\n",
    "df_gene_regions = pd.read_csv(gene_regions_path, sep=\"\\t\", header=None)"
   ]
  },
  {
   "cell_type": "code",
   "execution_count": 12,
   "metadata": {},
   "outputs": [],
   "source": [
    "df_reg_regions[\"len\"] = df_reg_regions.loc[:, \"end\"] - df_reg_regions.loc[:, \"start\"]\n",
    "\n",
    "df_gene_regions[\"len\"] = df_gene_regions.loc[:, 2] - df_gene_regions.loc[:, 1]"
   ]
  },
  {
   "cell_type": "code",
   "execution_count": 13,
   "metadata": {},
   "outputs": [],
   "source": [
    "vals_10kb = df_reg_regions.loc[0:303114, :]\n",
    "vals_100kb = df_reg_regions.loc[0:30321, :]\n",
    "vals_gene = df_gene_regions.loc[0:30321, :]"
   ]
  },
  {
   "cell_type": "code",
   "execution_count": null,
   "metadata": {},
   "outputs": [],
   "source": [
    "logdir = base_fig_dir / \"regions_len_dist\"\n",
    "logdir.mkdir(parents=False, exist_ok=True)\n",
    "\n",
    "\n",
    "fig = go.Figure()\n",
    "\n",
    "for df, name in zip(\n",
    "    [vals_10kb, vals_100kb, vals_gene], [\"300k-reg\", \"30k-reg\", \"20k-gene\"]\n",
    "):\n",
    "    fig.add_trace(\n",
    "        go.Violin(\n",
    "            y=df[\"len\"],\n",
    "            box_visible=True,\n",
    "            meanline_visible=True,\n",
    "            opacity=0.9,\n",
    "            name=name,\n",
    "            spanmode=\"hard\",\n",
    "            points=False,\n",
    "        )\n",
    "    )\n",
    "\n",
    "fig.update_layout(\n",
    "    title=\"Distribution of regions lengths\",\n",
    "    yaxis_title=\"Length (bp)\",\n",
    "    showlegend=True,\n",
    ")\n",
    "\n",
    "path = logdir / \"regions_len_dist\"\n",
    "# fig.write_html(path.with_suffix(\".html\"))\n",
    "# fig.write_image(path.with_suffix(\".png\"))\n",
    "# fig.write_image(path.with_suffix(\".svg\"))\n",
    "fig.show()\n",
    "\n",
    "for zoom in [100, 25]:\n",
    "    fig.update_yaxes(range=[0, zoom * 1000])\n",
    "\n",
    "    path = logdir / f\"regions_len_dist_zoom_{zoom}kb\"\n",
    "    # fig.write_html(path.with_suffix(\".html\"))\n",
    "    # fig.write_image(path.with_suffix(\".png\"))\n",
    "    # fig.write_image(path.with_suffix(\".svg\"))\n",
    "    fig.show()"
   ]
  }
 ],
 "metadata": {
  "kernelspec": {
   "display_name": "epiclass",
   "language": "python",
   "name": "python3"
  },
  "language_info": {
   "codemirror_mode": {
    "name": "ipython",
    "version": 3
   },
   "file_extension": ".py",
   "mimetype": "text/x-python",
   "name": "python",
   "nbconvert_exporter": "python",
   "pygments_lexer": "ipython3",
   "version": "3.8.10"
  }
 },
 "nbformat": 4,
 "nbformat_minor": 2
}
